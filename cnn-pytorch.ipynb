{
 "cells": [
  {
   "cell_type": "code",
   "execution_count": 1,
   "id": "4ad1a447",
   "metadata": {
    "_cell_guid": "b1076dfc-b9ad-4769-8c92-a6c4dae69d19",
    "_uuid": "8f2839f25d086af736a60e9eeb907d3b93b6e0e5",
    "execution": {
     "iopub.execute_input": "2025-06-26T19:20:20.489912Z",
     "iopub.status.busy": "2025-06-26T19:20:20.489503Z",
     "iopub.status.idle": "2025-06-26T19:20:22.437403Z",
     "shell.execute_reply": "2025-06-26T19:20:22.436593Z"
    },
    "papermill": {
     "duration": 1.961623,
     "end_time": "2025-06-26T19:20:22.439137",
     "exception": false,
     "start_time": "2025-06-26T19:20:20.477514",
     "status": "completed"
    },
    "tags": []
   },
   "outputs": [],
   "source": [
    "# This Python 3 environment comes with many helpful analytics libraries installed\n",
    "# It is defined by the kaggle/python Docker image: https://github.com/kaggle/docker-python\n",
    "# For example, here's several helpful packages to load\n",
    "\n",
    "import numpy as np # linear algebra\n",
    "import pandas as pd # data processing, CSV file I/O (e.g. pd.read_csv)\n",
    "\n",
    "# Input data files are available in the read-only \"../input/\" directory\n",
    "# For example, running this (by clicking run or pressing Shift+Enter) will list all files under the input directory\n",
    "\n",
    "import os\n",
    "for dirname, _, filenames in os.walk('/kaggle/input'):\n",
    "    for filename in filenames:\n",
    "        print(os.path.join(dirname, filename))\n",
    "\n",
    "# You can write up to 20GB to the current directory (/kaggle/working/) that gets preserved as output when you create a version using \"Save & Run All\" \n",
    "# You can also write temporary files to /kaggle/temp/, but they won't be saved outside of the current session"
   ]
  },
  {
   "cell_type": "code",
   "execution_count": 2,
   "id": "b40b5bbf",
   "metadata": {
    "execution": {
     "iopub.execute_input": "2025-06-26T19:20:22.458906Z",
     "iopub.status.busy": "2025-06-26T19:20:22.457740Z",
     "iopub.status.idle": "2025-06-26T19:20:34.382183Z",
     "shell.execute_reply": "2025-06-26T19:20:34.380948Z"
    },
    "papermill": {
     "duration": 11.935666,
     "end_time": "2025-06-26T19:20:34.383663",
     "exception": false,
     "start_time": "2025-06-26T19:20:22.447997",
     "status": "completed"
    },
    "tags": []
   },
   "outputs": [
    {
     "name": "stdout",
     "output_type": "stream",
     "text": [
      "PyTorch version: 2.6.0+cu124\n",
      "torchvision version: 0.21.0+cu124\n"
     ]
    }
   ],
   "source": [
    "import torch\n",
    "from torch import nn\n",
    "\n",
    "# Import torchvision \n",
    "import torchvision\n",
    "from torchvision import datasets\n",
    "from torchvision.transforms import ToTensor\n",
    "\n",
    "# Import matplotlib for visualization\n",
    "import matplotlib.pyplot as plt\n",
    "\n",
    "# Check versions\n",
    "# Note: your PyTorch version shouldn't be lower than 1.10.0 and torchvision version shouldn't be lower than 0.11\n",
    "print(f\"PyTorch version: {torch.__version__}\\ntorchvision version: {torchvision.__version__}\")"
   ]
  },
  {
   "cell_type": "code",
   "execution_count": 3,
   "id": "36bb0b54",
   "metadata": {
    "execution": {
     "iopub.execute_input": "2025-06-26T19:20:34.401956Z",
     "iopub.status.busy": "2025-06-26T19:20:34.401412Z",
     "iopub.status.idle": "2025-06-26T19:20:41.371449Z",
     "shell.execute_reply": "2025-06-26T19:20:41.370186Z"
    },
    "papermill": {
     "duration": 6.980788,
     "end_time": "2025-06-26T19:20:41.372872",
     "exception": false,
     "start_time": "2025-06-26T19:20:34.392084",
     "status": "completed"
    },
    "tags": []
   },
   "outputs": [
    {
     "name": "stderr",
     "output_type": "stream",
     "text": [
      "100%|██████████| 26.4M/26.4M [00:02<00:00, 11.1MB/s]\n",
      "100%|██████████| 29.5k/29.5k [00:00<00:00, 211kB/s]\n",
      "100%|██████████| 4.42M/4.42M [00:01<00:00, 3.87MB/s]\n",
      "100%|██████████| 5.15k/5.15k [00:00<00:00, 8.69MB/s]\n"
     ]
    }
   ],
   "source": [
    "train_data=datasets.FashionMNIST(\n",
    "    root=\"data\",\n",
    "    train=True,\n",
    "    download=True,\n",
    "    transform=ToTensor(),\n",
    "    target_transform=None\n",
    ")\n",
    "\n",
    "test_data=datasets.FashionMNIST(\n",
    "    root=\"data\",\n",
    "    train=False,\n",
    "    download=True,\n",
    "    transform=ToTensor()\n",
    "    \n",
    ")"
   ]
  },
  {
   "cell_type": "code",
   "execution_count": 4,
   "id": "24b8e7af",
   "metadata": {
    "execution": {
     "iopub.execute_input": "2025-06-26T19:20:41.394407Z",
     "iopub.status.busy": "2025-06-26T19:20:41.393599Z",
     "iopub.status.idle": "2025-06-26T19:20:41.405606Z",
     "shell.execute_reply": "2025-06-26T19:20:41.404629Z"
    },
    "papermill": {
     "duration": 0.024172,
     "end_time": "2025-06-26T19:20:41.407168",
     "exception": false,
     "start_time": "2025-06-26T19:20:41.382996",
     "status": "completed"
    },
    "tags": []
   },
   "outputs": [
    {
     "data": {
      "text/plain": [
       "9"
      ]
     },
     "execution_count": 4,
     "metadata": {},
     "output_type": "execute_result"
    }
   ],
   "source": [
    "image,level=train_data[0]\n",
    "\n",
    "image,level\n",
    "level"
   ]
  },
  {
   "cell_type": "markdown",
   "id": "d8c5fa5b",
   "metadata": {
    "papermill": {
     "duration": 0.009633,
     "end_time": "2025-06-26T19:20:41.427429",
     "exception": false,
     "start_time": "2025-06-26T19:20:41.417796",
     "status": "completed"
    },
    "tags": []
   },
   "source": [
    "he order of our current tensor is often referred to as ```CHW``` (Color Channels, Height, Width).\n",
    "\n",
    "There's debate on whether images should be represented as ```CHW``` (color channels first) or HWC (color channels last).\n",
    "\n",
    "PyTorch generally accepts ```NCHW``` (channels first) as the default for many operators.\n",
    "\n",
    "However, PyTorch also explains that ```NHWC``` (channels last) performs better and is considered best practice.\n",
    "\n",
    "For now, since our dataset and models are relatively small, this won't make too much of a difference.\n",
    "\n",
    "But keep it in mind for when you're working on larger image datasets and using convolutional neural networks (we'll see these later).\n",
    "\n",
    "Let's check out more shapes of our data."
   ]
  },
  {
   "cell_type": "code",
   "execution_count": 5,
   "id": "37676509",
   "metadata": {
    "execution": {
     "iopub.execute_input": "2025-06-26T19:20:41.448662Z",
     "iopub.status.busy": "2025-06-26T19:20:41.448318Z",
     "iopub.status.idle": "2025-06-26T19:20:41.456410Z",
     "shell.execute_reply": "2025-06-26T19:20:41.455157Z"
    },
    "papermill": {
     "duration": 0.020709,
     "end_time": "2025-06-26T19:20:41.458151",
     "exception": false,
     "start_time": "2025-06-26T19:20:41.437442",
     "status": "completed"
    },
    "tags": []
   },
   "outputs": [
    {
     "data": {
      "text/plain": [
       "(60000, 60000, 10000, 10000)"
      ]
     },
     "execution_count": 5,
     "metadata": {},
     "output_type": "execute_result"
    }
   ],
   "source": [
    "image.shape\n",
    "\n",
    "len(train_data.data)\n",
    "\n",
    "dir(train_data)\n",
    "\n",
    "train_data.data\n",
    "\n",
    "train_data.classes\n",
    "\n",
    "len(train_data), len(train_data.targets), len(test_data), len(test_data.targets),"
   ]
  },
  {
   "cell_type": "code",
   "execution_count": 6,
   "id": "e42e568e",
   "metadata": {
    "execution": {
     "iopub.execute_input": "2025-06-26T19:20:41.481659Z",
     "iopub.status.busy": "2025-06-26T19:20:41.481322Z",
     "iopub.status.idle": "2025-06-26T19:20:41.487708Z",
     "shell.execute_reply": "2025-06-26T19:20:41.486805Z"
    },
    "papermill": {
     "duration": 0.020383,
     "end_time": "2025-06-26T19:20:41.489131",
     "exception": false,
     "start_time": "2025-06-26T19:20:41.468748",
     "status": "completed"
    },
    "tags": []
   },
   "outputs": [
    {
     "data": {
      "text/plain": [
       "['T-shirt/top',\n",
       " 'Trouser',\n",
       " 'Pullover',\n",
       " 'Dress',\n",
       " 'Coat',\n",
       " 'Sandal',\n",
       " 'Shirt',\n",
       " 'Sneaker',\n",
       " 'Bag',\n",
       " 'Ankle boot']"
      ]
     },
     "execution_count": 6,
     "metadata": {},
     "output_type": "execute_result"
    }
   ],
   "source": [
    "class_name=train_data.classes\n",
    "class_name"
   ]
  },
  {
   "cell_type": "code",
   "execution_count": 7,
   "id": "fa66b46f",
   "metadata": {
    "execution": {
     "iopub.execute_input": "2025-06-26T19:20:41.510952Z",
     "iopub.status.busy": "2025-06-26T19:20:41.510565Z",
     "iopub.status.idle": "2025-06-26T19:20:41.803288Z",
     "shell.execute_reply": "2025-06-26T19:20:41.802500Z"
    },
    "papermill": {
     "duration": 0.305415,
     "end_time": "2025-06-26T19:20:41.804874",
     "exception": false,
     "start_time": "2025-06-26T19:20:41.499459",
     "status": "completed"
    },
    "tags": []
   },
   "outputs": [
    {
     "name": "stdout",
     "output_type": "stream",
     "text": [
      "Image Shape torch.Size([1, 28, 28])\n"
     ]
    },
    {
     "data": {
      "image/png": "[encoded data removed]",
      "text/plain": [
       "<Figure size 640x480 with 1 Axes>"
      ]
     },
     "metadata": {},
     "output_type": "display_data"
    }
   ],
   "source": [
    "import matplotlib.pyplot as plt\n",
    "image,lebel=train_data[0]\n",
    "print(f\"Image Shape {image.shape}\")\n",
    "plt.imshow(image.squeeze()) #remove extra 1 dim\n",
    "plt.title(class_name[lebel]);\n"
   ]
  },
  {
   "cell_type": "code",
   "execution_count": 8,
   "id": "43b6f89d",
   "metadata": {
    "execution": {
     "iopub.execute_input": "2025-06-26T19:20:41.829520Z",
     "iopub.status.busy": "2025-06-26T19:20:41.828790Z",
     "iopub.status.idle": "2025-06-26T19:20:42.143416Z",
     "shell.execute_reply": "2025-06-26T19:20:42.142331Z"
    },
    "papermill": {
     "duration": 0.327876,
     "end_time": "2025-06-26T19:20:42.145036",
     "exception": false,
     "start_time": "2025-06-26T19:20:41.817160",
     "status": "completed"
    },
    "tags": []
   },
   "outputs": [
    {
     "data": {
      "text/plain": [
       "Text(0.5, 1.0, 'Random Tensor image with size (20, 22) ')"
      ]
     },
     "execution_count": 8,
     "metadata": {},
     "output_type": "execute_result"
    },
    {
     "data": {
      "image/png": "[encoded data removed]",
      "text/plain": [
       "<Figure size 640x480 with 2 Axes>"
      ]
     },
     "metadata": {},
     "output_type": "display_data"
    }
   ],
   "source": [
    "H,W= 20,22\n",
    "fake_tensor_data=torch.rand(H,W)\n",
    "fake_tensor_data=torch.randint(0,256, (H,W), dtype=torch.float32) # it will make tensor within 0->255\n",
    "plt.imshow(fake_tensor_data,cmap='gray')\n",
    "plt.colorbar()\n",
    "plt.title(f\"Random Tensor image with size {H, W} \")"
   ]
  },
  {
   "cell_type": "code",
   "execution_count": 9,
   "id": "e3f5c2eb",
   "metadata": {
    "execution": {
     "iopub.execute_input": "2025-06-26T19:20:42.169323Z",
     "iopub.status.busy": "2025-06-26T19:20:42.169033Z",
     "iopub.status.idle": "2025-06-26T19:20:42.202681Z",
     "shell.execute_reply": "2025-06-26T19:20:42.201766Z"
    },
    "papermill": {
     "duration": 0.047503,
     "end_time": "2025-06-26T19:20:42.204128",
     "exception": false,
     "start_time": "2025-06-26T19:20:42.156625",
     "status": "completed"
    },
    "tags": []
   },
   "outputs": [
    {
     "data": {
      "text/plain": [
       "tensor([[0.2627, 0.5216, 0.9255, 0.8941, 0.5686, 0.0667, 0.3098, 0.5843, 0.3529,\n",
       "         0.8549, 0.6431, 0.9961, 0.0980, 0.4235, 0.5255, 0.9412, 0.0039, 0.0588,\n",
       "         0.2941, 0.0824, 0.3647, 0.4078],\n",
       "        [0.7569, 0.4824, 0.2235, 0.2706, 0.1686, 0.0667, 0.3333, 0.3686, 0.0392,\n",
       "         0.1373, 0.1804, 0.0627, 0.6078, 0.4588, 0.9961, 0.4627, 0.9255, 0.0235,\n",
       "         0.3333, 0.5882, 0.7373, 0.1176],\n",
       "        [0.7490, 0.2196, 0.5451, 0.7137, 0.7765, 0.2941, 0.5098, 0.2824, 0.2471,\n",
       "         0.4980, 0.8353, 0.2706, 0.0118, 0.8078, 0.9255, 0.1882, 0.5098, 0.1686,\n",
       "         0.2706, 0.1020, 0.8314, 0.5686],\n",
       "        [0.6980, 0.7059, 0.6706, 0.8392, 0.4863, 0.3765, 0.8118, 0.2275, 0.7098,\n",
       "         0.1294, 0.9255, 0.0235, 0.9098, 0.7843, 0.3765, 0.7373, 0.2902, 0.1451,\n",
       "         0.9686, 0.5294, 0.2353, 0.8118],\n",
       "        [0.1137, 0.3922, 0.5137, 0.4235, 0.6667, 0.1647, 0.5490, 0.6157, 0.3137,\n",
       "         0.3529, 0.8745, 0.0667, 0.9804, 0.3725, 0.1725, 0.8118, 0.3020, 0.3804,\n",
       "         0.4980, 0.6392, 0.8941, 0.8824],\n",
       "        [0.1255, 0.2902, 0.6353, 0.3843, 0.8000, 0.8980, 0.9451, 0.9686, 0.9373,\n",
       "         0.8275, 0.6078, 0.7373, 0.5843, 0.2392, 0.1922, 0.5412, 0.3608, 0.5529,\n",
       "         0.1843, 0.9137, 0.5294, 0.9255],\n",
       "        [0.2196, 0.6353, 0.8510, 0.3176, 0.7765, 0.8118, 0.6667, 0.7961, 0.6118,\n",
       "         0.7412, 0.0314, 0.4471, 0.4314, 0.3961, 0.7020, 0.8706, 0.7098, 0.0863,\n",
       "         0.6118, 0.5961, 0.9020, 0.1216],\n",
       "        [0.7647, 0.2157, 0.6275, 0.8039, 0.6471, 0.6549, 0.1569, 0.3255, 0.9725,\n",
       "         0.4118, 0.8627, 0.9098, 0.7294, 0.2784, 0.7255, 0.1451, 0.8431, 0.1961,\n",
       "         0.8157, 0.3098, 0.1020, 0.5255],\n",
       "        [0.0745, 0.2941, 1.0000, 0.7373, 0.9647, 0.3412, 0.4784, 0.7216, 0.1255,\n",
       "         0.7608, 0.3412, 0.5647, 0.0627, 0.3137, 0.9765, 0.8824, 0.2235, 0.7608,\n",
       "         0.8627, 0.9451, 0.0157, 0.8784],\n",
       "        [0.6000, 0.9137, 0.2275, 0.9020, 0.3647, 0.0627, 0.3686, 0.6314, 0.1922,\n",
       "         0.6196, 0.6157, 0.7098, 0.5294, 0.8863, 0.0000, 0.6275, 0.4863, 0.3529,\n",
       "         0.0157, 0.9569, 0.1137, 0.3608],\n",
       "        [0.9098, 0.6314, 0.7255, 0.1137, 0.6902, 0.5647, 0.1490, 0.0392, 0.0902,\n",
       "         0.4314, 0.0000, 0.1529, 0.0039, 0.7765, 0.6039, 0.9490, 0.1529, 0.6392,\n",
       "         0.7216, 0.0314, 0.7137, 0.4000],\n",
       "        [0.8118, 0.0745, 0.5922, 0.8980, 0.4078, 0.6157, 0.3961, 0.9765, 0.0941,\n",
       "         0.0588, 0.2196, 0.6627, 0.7804, 0.4706, 0.1333, 0.7647, 0.5098, 0.3569,\n",
       "         0.6980, 0.2157, 0.0902, 0.4627],\n",
       "        [0.2667, 0.6392, 0.2784, 0.3961, 0.7216, 0.7451, 0.2863, 0.8196, 0.3922,\n",
       "         0.2118, 0.4314, 0.8235, 0.9529, 0.2392, 0.8000, 0.3451, 0.6196, 0.0941,\n",
       "         0.3686, 0.9647, 0.6157, 0.5412],\n",
       "        [0.9176, 0.2745, 0.7451, 0.4510, 0.8980, 0.7882, 0.5647, 0.1569, 0.8392,\n",
       "         0.7059, 0.9412, 0.4784, 0.5804, 0.8431, 0.7725, 0.2824, 0.0824, 0.0863,\n",
       "         0.8471, 0.4118, 0.8431, 0.4353],\n",
       "        [0.3412, 0.4235, 0.4745, 0.2157, 0.7490, 0.3059, 0.1216, 0.3059, 0.1922,\n",
       "         0.3765, 0.9176, 0.2824, 0.8196, 0.4863, 0.8471, 0.1569, 0.7882, 0.1647,\n",
       "         0.9608, 0.4863, 0.4000, 0.0392],\n",
       "        [0.6039, 0.6235, 0.7686, 0.1176, 0.4078, 0.1255, 0.2118, 0.6078, 0.5020,\n",
       "         0.5490, 0.2627, 0.4824, 0.6824, 0.5686, 0.2784, 0.2275, 0.8549, 0.2824,\n",
       "         0.6118, 0.0902, 0.1059, 0.8000],\n",
       "        [0.1137, 0.5804, 0.1725, 0.5098, 0.6510, 0.6863, 0.3255, 0.4588, 0.7412,\n",
       "         0.6078, 0.0118, 0.0392, 1.0000, 0.3255, 0.8235, 0.0235, 0.3137, 0.2196,\n",
       "         0.6353, 0.9098, 0.0157, 0.5412],\n",
       "        [0.8863, 0.0118, 0.4667, 0.9882, 0.6118, 0.7608, 0.8784, 0.8314, 0.2902,\n",
       "         0.4235, 0.7373, 0.1059, 0.3451, 0.9294, 0.0392, 0.5333, 0.7216, 0.1098,\n",
       "         0.7216, 0.2627, 0.9765, 0.3843],\n",
       "        [0.3137, 0.9373, 0.4471, 0.2941, 0.0941, 0.8000, 0.2275, 0.2706, 0.6510,\n",
       "         0.9216, 0.5569, 0.1882, 0.1255, 0.3059, 0.4314, 0.7961, 0.0039, 0.6549,\n",
       "         0.7020, 0.9255, 0.1451, 0.4078],\n",
       "        [0.5216, 0.4510, 0.8118, 0.5059, 0.8078, 0.3412, 0.4431, 0.9176, 0.2235,\n",
       "         0.2824, 0.8510, 0.1804, 0.5373, 0.7176, 0.9882, 0.3216, 0.9686, 0.3412,\n",
       "         0.6118, 0.4392, 0.5804, 0.0549]])"
      ]
     },
     "execution_count": 9,
     "metadata": {},
     "output_type": "execute_result"
    }
   ],
   "source": [
    "fake_tensor_data=fake_tensor_data/255\n",
    "fake_tensor_data"
   ]
  },
  {
   "cell_type": "code",
   "execution_count": 10,
   "id": "40c75f47",
   "metadata": {
    "execution": {
     "iopub.execute_input": "2025-06-26T19:20:42.228312Z",
     "iopub.status.busy": "2025-06-26T19:20:42.227444Z",
     "iopub.status.idle": "2025-06-26T19:20:43.090732Z",
     "shell.execute_reply": "2025-06-26T19:20:43.089781Z"
    },
    "papermill": {
     "duration": 0.876928,
     "end_time": "2025-06-26T19:20:43.092274",
     "exception": false,
     "start_time": "2025-06-26T19:20:42.215346",
     "status": "completed"
    },
    "tags": []
   },
   "outputs": [
    {
     "data": {
      "image/png": "[encoded data removed]",
      "text/plain": [
       "<Figure size 900x900 with 15 Axes>"
      ]
     },
     "metadata": {},
     "output_type": "display_data"
    }
   ],
   "source": [
    "torch.manual_seed(42)\n",
    "fig=plt.figure(figsize=(9,9))\n",
    "row, col= 4 , 4\n",
    "\n",
    "for i in range(1, row*col):\n",
    "    index=torch.randint(0,len(train_data),size=[1]).item()\n",
    "    image, lebel= train_data[index]\n",
    "    fig.add_subplot(row, col, i)\n",
    "    plt.title(class_name[lebel])\n",
    "    plt.imshow(image.squeeze())\n",
    "    plt.axis(False)\n",
    "    \n",
    "    \n",
    "\n"
   ]
  },
  {
   "cell_type": "code",
   "execution_count": 11,
   "id": "f436b306",
   "metadata": {
    "execution": {
     "iopub.execute_input": "2025-06-26T19:20:43.118339Z",
     "iopub.status.busy": "2025-06-26T19:20:43.118032Z",
     "iopub.status.idle": "2025-06-26T19:20:43.124439Z",
     "shell.execute_reply": "2025-06-26T19:20:43.123578Z"
    },
    "papermill": {
     "duration": 0.020989,
     "end_time": "2025-06-26T19:20:43.125761",
     "exception": false,
     "start_time": "2025-06-26T19:20:43.104772",
     "status": "completed"
    },
    "tags": []
   },
   "outputs": [
    {
     "data": {
      "text/plain": [
       "2"
      ]
     },
     "execution_count": 11,
     "metadata": {},
     "output_type": "execute_result"
    }
   ],
   "source": [
    "torch.randint(0,10, size=[1]).item()"
   ]
  },
  {
   "cell_type": "code",
   "execution_count": 12,
   "id": "d689bbac",
   "metadata": {
    "execution": {
     "iopub.execute_input": "2025-06-26T19:20:43.152228Z",
     "iopub.status.busy": "2025-06-26T19:20:43.151845Z",
     "iopub.status.idle": "2025-06-26T19:20:43.158367Z",
     "shell.execute_reply": "2025-06-26T19:20:43.157411Z"
    },
    "papermill": {
     "duration": 0.021976,
     "end_time": "2025-06-26T19:20:43.160263",
     "exception": false,
     "start_time": "2025-06-26T19:20:43.138287",
     "status": "completed"
    },
    "tags": []
   },
   "outputs": [
    {
     "name": "stdout",
     "output_type": "stream",
     "text": [
      "Dataloaders: (<torch.utils.data.dataloader.DataLoader object at 0x7c1efb5e7510>, <torch.utils.data.dataloader.DataLoader object at 0x7c1efb2782d0>)\n",
      "Length of train dataloader: 1875 batches of 32\n",
      "Length of test dataloader: 313 batches of 32\n"
     ]
    }
   ],
   "source": [
    "from torch.utils.data import DataLoader\n",
    "\n",
    "# Setup the batch size hyperparameter\n",
    "BATCH_SIZE = 32\n",
    "\n",
    "# Turn datasets into iterables (batches)\n",
    "train_dataloader = DataLoader(train_data, # dataset to turn into iterable\n",
    "    batch_size=BATCH_SIZE, # how many samples per batch? \n",
    "    shuffle=True # shuffle data every epoch?\n",
    ")\n",
    "\n",
    "test_dataloader = DataLoader(test_data,\n",
    "    batch_size=BATCH_SIZE,\n",
    "    shuffle=False # don't necessarily have to shuffle the testing data\n",
    ")\n",
    "\n",
    "# Let's check out what we've created\n",
    "print(f\"Dataloaders: {train_dataloader, test_dataloader}\") \n",
    "print(f\"Length of train dataloader: {len(train_dataloader)} batches of {BATCH_SIZE}\")\n",
    "print(f\"Length of test dataloader: {len(test_dataloader)} batches of {BATCH_SIZE}\")"
   ]
  },
  {
   "cell_type": "code",
   "execution_count": 13,
   "id": "25b2c94c",
   "metadata": {
    "execution": {
     "iopub.execute_input": "2025-06-26T19:20:43.188731Z",
     "iopub.status.busy": "2025-06-26T19:20:43.188400Z",
     "iopub.status.idle": "2025-06-26T19:20:43.251762Z",
     "shell.execute_reply": "2025-06-26T19:20:43.250872Z"
    },
    "papermill": {
     "duration": 0.079733,
     "end_time": "2025-06-26T19:20:43.254085",
     "exception": false,
     "start_time": "2025-06-26T19:20:43.174352",
     "status": "completed"
    },
    "tags": []
   },
   "outputs": [
    {
     "name": "stdout",
     "output_type": "stream",
     "text": [
      "0 tensor([[[[0.0000, 0.0000, 0.0000,  ..., 0.0000, 0.0000, 0.0000],\n",
      "          [0.0000, 0.0000, 0.0000,  ..., 0.0000, 0.0000, 0.0000],\n",
      "          [0.0000, 0.0000, 0.0000,  ..., 0.0000, 0.0000, 0.0000],\n",
      "          ...,\n",
      "          [0.0000, 0.0000, 0.0000,  ..., 0.0000, 0.0000, 0.0000],\n",
      "          [0.0000, 0.0000, 0.0000,  ..., 0.0000, 0.0000, 0.0000],\n",
      "          [0.0000, 0.0000, 0.0000,  ..., 0.0000, 0.0000, 0.0000]]],\n",
      "\n",
      "\n",
      "        [[[0.0000, 0.0000, 0.0000,  ..., 0.0000, 0.0000, 0.0000],\n",
      "          [0.0000, 0.0000, 0.0000,  ..., 0.0000, 0.0000, 0.0000],\n",
      "          [0.0000, 0.0000, 0.0000,  ..., 0.0000, 0.0000, 0.0000],\n",
      "          ...,\n",
      "          [0.0000, 0.0000, 0.0000,  ..., 0.0000, 0.0000, 0.0000],\n",
      "          [0.0000, 0.0000, 0.0000,  ..., 0.0000, 0.0000, 0.0000],\n",
      "          [0.0000, 0.0000, 0.0000,  ..., 0.0000, 0.0000, 0.0000]]],\n",
      "\n",
      "\n",
      "        [[[0.0000, 0.0000, 0.0000,  ..., 0.0000, 0.0000, 0.0000],\n",
      "          [0.0000, 0.0000, 0.0000,  ..., 0.0000, 0.0000, 0.0000],\n",
      "          [0.0000, 0.0000, 0.0000,  ..., 0.0000, 0.0000, 0.0000],\n",
      "          ...,\n",
      "          [0.0000, 0.0000, 0.0000,  ..., 0.0000, 0.0000, 0.0000],\n",
      "          [0.0000, 0.0000, 0.0000,  ..., 0.0000, 0.0000, 0.0000],\n",
      "          [0.0000, 0.0000, 0.0000,  ..., 0.0000, 0.0000, 0.0000]]],\n",
      "\n",
      "\n",
      "        ...,\n",
      "\n",
      "\n",
      "        [[[0.0000, 0.0000, 0.0000,  ..., 0.0000, 0.0000, 0.0000],\n",
      "          [0.0000, 0.0000, 0.0000,  ..., 0.0000, 0.0000, 0.0000],\n",
      "          [0.0000, 0.0000, 0.0000,  ..., 0.0000, 0.0000, 0.0000],\n",
      "          ...,\n",
      "          [0.0000, 0.0000, 0.0000,  ..., 0.0000, 0.0000, 0.0000],\n",
      "          [0.0000, 0.0000, 0.0000,  ..., 0.0000, 0.0000, 0.0000],\n",
      "          [0.0000, 0.0000, 0.0000,  ..., 0.0000, 0.0000, 0.0000]]],\n",
      "\n",
      "\n",
      "        [[[0.0000, 0.0000, 0.0000,  ..., 0.0000, 0.0000, 0.0000],\n",
      "          [0.0000, 0.0000, 0.0000,  ..., 0.0000, 0.0000, 0.0000],\n",
      "          [0.0000, 0.0000, 0.0000,  ..., 0.3647, 0.0000, 0.0000],\n",
      "          ...,\n",
      "          [0.0000, 0.0000, 0.0000,  ..., 0.4588, 0.3059, 0.0000],\n",
      "          [0.0000, 0.0000, 0.0000,  ..., 0.0000, 0.0000, 0.0000],\n",
      "          [0.0000, 0.0000, 0.0000,  ..., 0.0000, 0.0000, 0.0000]]],\n",
      "\n",
      "\n",
      "        [[[0.0000, 0.0000, 0.0000,  ..., 0.0000, 0.0000, 0.0000],\n",
      "          [0.0000, 0.0000, 0.0000,  ..., 0.0000, 0.0000, 0.0000],\n",
      "          [0.0000, 0.0000, 0.0000,  ..., 0.0000, 0.0000, 0.0000],\n",
      "          ...,\n",
      "          [0.0000, 0.0000, 0.0000,  ..., 0.0000, 0.0000, 0.0000],\n",
      "          [0.0000, 0.0000, 0.0000,  ..., 0.0000, 0.0000, 0.0000],\n",
      "          [0.0000, 0.0000, 0.0000,  ..., 0.0000, 0.0000, 0.0000]]]]) tensor([5, 4, 8, 7, 4, 7, 7, 3, 7, 1, 1, 4, 9, 4, 8, 2, 6, 2, 8, 9, 7, 3, 4, 5,\n",
      "        7, 4, 8, 1, 6, 9, 9, 4])\n",
      "1 tensor([[[[0.0000, 0.0000, 0.0000,  ..., 0.0000, 0.0000, 0.0000],\n",
      "          [0.0000, 0.0000, 0.0000,  ..., 0.0000, 0.0000, 0.0000],\n",
      "          [0.0000, 0.0000, 0.0000,  ..., 0.0000, 0.0000, 0.0000],\n",
      "          ...,\n",
      "          [0.0000, 0.0000, 0.0000,  ..., 0.0000, 0.0000, 0.0000],\n",
      "          [0.0000, 0.0000, 0.0000,  ..., 0.0000, 0.0000, 0.0000],\n",
      "          [0.0000, 0.0000, 0.0000,  ..., 0.0000, 0.0000, 0.0000]]],\n",
      "\n",
      "\n",
      "        [[[0.0000, 0.0000, 0.0000,  ..., 0.0000, 0.0000, 0.0000],\n",
      "          [0.0000, 0.0000, 0.0000,  ..., 0.0000, 0.0000, 0.0000],\n",
      "          [0.0000, 0.0000, 0.0000,  ..., 0.0000, 0.0000, 0.0000],\n",
      "          ...,\n",
      "          [0.0000, 0.0000, 0.0000,  ..., 0.0000, 0.0000, 0.0000],\n",
      "          [0.0000, 0.0000, 0.0000,  ..., 0.0000, 0.0000, 0.0000],\n",
      "          [0.0000, 0.0000, 0.0000,  ..., 0.0000, 0.0000, 0.0000]]],\n",
      "\n",
      "\n",
      "        [[[0.0000, 0.0000, 0.0000,  ..., 0.0000, 0.0000, 0.0000],\n",
      "          [0.0000, 0.0000, 0.0000,  ..., 0.0000, 0.0000, 0.0000],\n",
      "          [0.0000, 0.0000, 0.0000,  ..., 0.0000, 0.0000, 0.0000],\n",
      "          ...,\n",
      "          [0.0000, 0.0000, 0.0000,  ..., 0.3569, 0.0000, 0.0000],\n",
      "          [0.0000, 0.0000, 0.0000,  ..., 0.3098, 0.0000, 0.0000],\n",
      "          [0.0000, 0.0000, 0.0000,  ..., 0.1137, 0.0000, 0.0000]]],\n",
      "\n",
      "\n",
      "        ...,\n",
      "\n",
      "\n",
      "        [[[0.0000, 0.0000, 0.0000,  ..., 0.0000, 0.0000, 0.0000],\n",
      "          [0.0000, 0.0000, 0.0000,  ..., 0.0000, 0.0000, 0.0000],\n",
      "          [0.0000, 0.0000, 0.0000,  ..., 0.0000, 0.0000, 0.0000],\n",
      "          ...,\n",
      "          [0.0000, 0.0000, 0.0000,  ..., 0.0000, 0.0000, 0.0000],\n",
      "          [0.0000, 0.0000, 0.0000,  ..., 0.0000, 0.0000, 0.0000],\n",
      "          [0.0000, 0.0000, 0.0000,  ..., 0.0000, 0.0000, 0.0000]]],\n",
      "\n",
      "\n",
      "        [[[0.0000, 0.0000, 0.0000,  ..., 0.0000, 0.0000, 0.0000],\n",
      "          [0.0000, 0.0000, 0.0000,  ..., 0.0000, 0.0000, 0.0000],\n",
      "          [0.0000, 0.0000, 0.0000,  ..., 0.0000, 0.0000, 0.0000],\n",
      "          ...,\n",
      "          [0.0000, 0.2000, 0.3098,  ..., 0.2000, 0.2510, 0.0000],\n",
      "          [0.0000, 0.0000, 0.0000,  ..., 0.0000, 0.0000, 0.0000],\n",
      "          [0.0000, 0.0000, 0.0000,  ..., 0.0000, 0.0000, 0.0000]]],\n",
      "\n",
      "\n",
      "        [[[0.0000, 0.0000, 0.0000,  ..., 0.0000, 0.0000, 0.0000],\n",
      "          [0.0000, 0.0000, 0.0000,  ..., 0.0000, 0.0000, 0.0000],\n",
      "          [0.0000, 0.0000, 0.0000,  ..., 0.0000, 0.0000, 0.0000],\n",
      "          ...,\n",
      "          [0.0000, 0.0000, 0.0000,  ..., 0.0000, 0.0000, 0.0000],\n",
      "          [0.0000, 0.0000, 0.0000,  ..., 0.0000, 0.0000, 0.0000],\n",
      "          [0.0000, 0.0000, 0.0000,  ..., 0.0000, 0.0000, 0.0000]]]]) tensor([0, 7, 2, 0, 0, 8, 1, 3, 9, 1, 2, 1, 5, 4, 3, 9, 2, 6, 9, 8, 9, 6, 5, 0,\n",
      "        3, 1, 7, 9, 7, 1, 8, 9])\n",
      "2 tensor([[[[0., 0., 0.,  ..., 0., 0., 0.],\n",
      "          [0., 0., 0.,  ..., 0., 0., 0.],\n",
      "          [0., 0., 0.,  ..., 0., 0., 0.],\n",
      "          ...,\n",
      "          [0., 0., 0.,  ..., 0., 0., 0.],\n",
      "          [0., 0., 0.,  ..., 0., 0., 0.],\n",
      "          [0., 0., 0.,  ..., 0., 0., 0.]]],\n",
      "\n",
      "\n",
      "        [[[0., 0., 0.,  ..., 0., 0., 0.],\n",
      "          [0., 0., 0.,  ..., 0., 0., 0.],\n",
      "          [0., 0., 0.,  ..., 0., 0., 0.],\n",
      "          ...,\n",
      "          [0., 0., 0.,  ..., 0., 0., 0.],\n",
      "          [0., 0., 0.,  ..., 0., 0., 0.],\n",
      "          [0., 0., 0.,  ..., 0., 0., 0.]]],\n",
      "\n",
      "\n",
      "        [[[0., 0., 0.,  ..., 0., 0., 0.],\n",
      "          [0., 0., 0.,  ..., 0., 0., 0.],\n",
      "          [0., 0., 0.,  ..., 0., 0., 0.],\n",
      "          ...,\n",
      "          [0., 0., 0.,  ..., 0., 0., 0.],\n",
      "          [0., 0., 0.,  ..., 0., 0., 0.],\n",
      "          [0., 0., 0.,  ..., 0., 0., 0.]]],\n",
      "\n",
      "\n",
      "        ...,\n",
      "\n",
      "\n",
      "        [[[0., 0., 0.,  ..., 0., 0., 0.],\n",
      "          [0., 0., 0.,  ..., 0., 0., 0.],\n",
      "          [0., 0., 0.,  ..., 0., 0., 0.],\n",
      "          ...,\n",
      "          [0., 0., 0.,  ..., 0., 0., 0.],\n",
      "          [0., 0., 0.,  ..., 0., 0., 0.],\n",
      "          [0., 0., 0.,  ..., 0., 0., 0.]]],\n",
      "\n",
      "\n",
      "        [[[0., 0., 0.,  ..., 0., 0., 0.],\n",
      "          [0., 0., 0.,  ..., 0., 0., 0.],\n",
      "          [0., 0., 0.,  ..., 0., 0., 0.],\n",
      "          ...,\n",
      "          [0., 0., 0.,  ..., 0., 0., 0.],\n",
      "          [0., 0., 0.,  ..., 0., 0., 0.],\n",
      "          [0., 0., 0.,  ..., 0., 0., 0.]]],\n",
      "\n",
      "\n",
      "        [[[0., 0., 0.,  ..., 0., 0., 0.],\n",
      "          [0., 0., 0.,  ..., 0., 0., 0.],\n",
      "          [0., 0., 0.,  ..., 0., 0., 0.],\n",
      "          ...,\n",
      "          [0., 0., 0.,  ..., 0., 0., 0.],\n",
      "          [0., 0., 0.,  ..., 0., 0., 0.],\n",
      "          [0., 0., 0.,  ..., 0., 0., 0.]]]]) tensor([1, 7, 3, 2, 5, 9, 2, 3, 2, 5, 0, 5, 9, 6, 1, 2, 2, 3, 0, 1, 9, 1, 4, 1,\n",
      "        0, 3, 1, 2, 0, 9, 8, 0])\n",
      "3 tensor([[[[0.0000, 0.0000, 0.0000,  ..., 0.0000, 0.0000, 0.0000],\n",
      "          [0.0000, 0.0000, 0.0000,  ..., 0.0000, 0.0000, 0.0000],\n",
      "          [0.0000, 0.0000, 0.0000,  ..., 0.0000, 0.0000, 0.0000],\n",
      "          ...,\n",
      "          [0.0000, 0.0000, 0.0000,  ..., 0.0000, 0.0000, 0.0000],\n",
      "          [0.0000, 0.0000, 0.0000,  ..., 0.0000, 0.0000, 0.0000],\n",
      "          [0.0000, 0.0000, 0.0000,  ..., 0.0000, 0.0000, 0.0000]]],\n",
      "\n",
      "\n",
      "        [[[0.0000, 0.0000, 0.0000,  ..., 0.0000, 0.0000, 0.0000],\n",
      "          [0.0000, 0.0000, 0.0000,  ..., 0.0000, 0.0000, 0.0000],\n",
      "          [0.0000, 0.0000, 0.0000,  ..., 0.0000, 0.0000, 0.0000],\n",
      "          ...,\n",
      "          [0.0000, 0.0000, 0.0000,  ..., 0.0000, 0.0000, 0.0000],\n",
      "          [0.0000, 0.0000, 0.0000,  ..., 0.0000, 0.0000, 0.0000],\n",
      "          [0.0000, 0.0000, 0.0000,  ..., 0.0000, 0.0000, 0.0000]]],\n",
      "\n",
      "\n",
      "        [[[0.0000, 0.0000, 0.0000,  ..., 0.0039, 0.0000, 0.0000],\n",
      "          [0.0000, 0.0000, 0.0000,  ..., 0.0039, 0.0000, 0.0000],\n",
      "          [0.0000, 0.0000, 0.0078,  ..., 0.0000, 0.0078, 0.0000],\n",
      "          ...,\n",
      "          [0.0000, 0.0000, 0.1216,  ..., 0.8471, 0.0706, 0.0000],\n",
      "          [0.0000, 0.0000, 0.0000,  ..., 1.0000, 0.0000, 0.0000],\n",
      "          [0.0000, 0.0000, 0.0000,  ..., 0.2745, 0.0000, 0.0000]]],\n",
      "\n",
      "\n",
      "        ...,\n",
      "\n",
      "\n",
      "        [[[0.0000, 0.0000, 0.0000,  ..., 0.0000, 0.0000, 0.0000],\n",
      "          [0.0000, 0.0000, 0.0000,  ..., 0.0000, 0.0000, 0.0000],\n",
      "          [0.0000, 0.0000, 0.0000,  ..., 0.0000, 0.0000, 0.0000],\n",
      "          ...,\n",
      "          [0.0000, 0.0000, 0.0000,  ..., 0.0000, 0.0000, 0.0000],\n",
      "          [0.0000, 0.0000, 0.0000,  ..., 0.0000, 0.0000, 0.0000],\n",
      "          [0.0000, 0.0000, 0.0000,  ..., 0.0000, 0.0000, 0.0000]]],\n",
      "\n",
      "\n",
      "        [[[0.0000, 0.0000, 0.0000,  ..., 0.0000, 0.0000, 0.0000],\n",
      "          [0.0000, 0.0000, 0.0000,  ..., 0.0000, 0.0000, 0.0000],\n",
      "          [0.0000, 0.0000, 0.0000,  ..., 0.0000, 0.0000, 0.0000],\n",
      "          ...,\n",
      "          [0.0000, 0.0000, 0.0000,  ..., 0.0000, 0.0000, 0.0000],\n",
      "          [0.0000, 0.0000, 0.0000,  ..., 0.0000, 0.0000, 0.0000],\n",
      "          [0.0000, 0.0000, 0.0000,  ..., 0.0000, 0.0000, 0.0000]]],\n",
      "\n",
      "\n",
      "        [[[0.0000, 0.0000, 0.0000,  ..., 0.0000, 0.0000, 0.0000],\n",
      "          [0.0000, 0.0000, 0.0000,  ..., 0.0000, 0.0000, 0.0000],\n",
      "          [0.0000, 0.0000, 0.0000,  ..., 0.0000, 0.0000, 0.0000],\n",
      "          ...,\n",
      "          [0.0000, 0.0000, 0.0000,  ..., 0.0000, 0.0000, 0.0000],\n",
      "          [0.0000, 0.0000, 0.0000,  ..., 0.0000, 0.0000, 0.0000],\n",
      "          [0.0000, 0.0000, 0.0000,  ..., 0.0000, 0.0000, 0.0000]]]]) tensor([9, 4, 2, 3, 3, 1, 5, 5, 5, 3, 1, 2, 0, 2, 9, 0, 7, 0, 6, 4, 2, 2, 1, 8,\n",
      "        6, 0, 1, 9, 2, 6, 7, 6])\n",
      "4 tensor([[[[0., 0., 0.,  ..., 0., 0., 0.],\n",
      "          [0., 0., 0.,  ..., 0., 0., 0.],\n",
      "          [0., 0., 0.,  ..., 0., 0., 0.],\n",
      "          ...,\n",
      "          [0., 0., 0.,  ..., 0., 0., 0.],\n",
      "          [0., 0., 0.,  ..., 0., 0., 0.],\n",
      "          [0., 0., 0.,  ..., 0., 0., 0.]]],\n",
      "\n",
      "\n",
      "        [[[0., 0., 0.,  ..., 0., 0., 0.],\n",
      "          [0., 0., 0.,  ..., 0., 0., 0.],\n",
      "          [0., 0., 0.,  ..., 0., 0., 0.],\n",
      "          ...,\n",
      "          [0., 0., 0.,  ..., 0., 0., 0.],\n",
      "          [0., 0., 0.,  ..., 0., 0., 0.],\n",
      "          [0., 0., 0.,  ..., 0., 0., 0.]]],\n",
      "\n",
      "\n",
      "        [[[0., 0., 0.,  ..., 0., 0., 0.],\n",
      "          [0., 0., 0.,  ..., 0., 0., 0.],\n",
      "          [0., 0., 0.,  ..., 0., 0., 0.],\n",
      "          ...,\n",
      "          [0., 0., 0.,  ..., 0., 0., 0.],\n",
      "          [0., 0., 0.,  ..., 0., 0., 0.],\n",
      "          [0., 0., 0.,  ..., 0., 0., 0.]]],\n",
      "\n",
      "\n",
      "        ...,\n",
      "\n",
      "\n",
      "        [[[0., 0., 0.,  ..., 0., 0., 0.],\n",
      "          [0., 0., 0.,  ..., 0., 0., 0.],\n",
      "          [0., 0., 0.,  ..., 0., 0., 0.],\n",
      "          ...,\n",
      "          [0., 0., 0.,  ..., 0., 0., 0.],\n",
      "          [0., 0., 0.,  ..., 0., 0., 0.],\n",
      "          [0., 0., 0.,  ..., 0., 0., 0.]]],\n",
      "\n",
      "\n",
      "        [[[0., 0., 0.,  ..., 0., 0., 0.],\n",
      "          [0., 0., 0.,  ..., 0., 0., 0.],\n",
      "          [0., 0., 0.,  ..., 0., 0., 0.],\n",
      "          ...,\n",
      "          [0., 0., 0.,  ..., 0., 0., 0.],\n",
      "          [0., 0., 0.,  ..., 0., 0., 0.],\n",
      "          [0., 0., 0.,  ..., 0., 0., 0.]]],\n",
      "\n",
      "\n",
      "        [[[0., 0., 0.,  ..., 0., 0., 0.],\n",
      "          [0., 0., 0.,  ..., 0., 0., 0.],\n",
      "          [0., 0., 0.,  ..., 0., 0., 0.],\n",
      "          ...,\n",
      "          [0., 0., 0.,  ..., 0., 0., 0.],\n",
      "          [0., 0., 0.,  ..., 0., 0., 0.],\n",
      "          [0., 0., 0.,  ..., 0., 0., 0.]]]]) tensor([3, 5, 7, 7, 0, 0, 5, 8, 6, 9, 9, 5, 8, 0, 8, 3, 3, 5, 6, 8, 3, 5, 4, 2,\n",
      "        5, 0, 4, 8, 8, 4, 2, 5])\n",
      "5 tensor([[[[0.0000, 0.0000, 0.0000,  ..., 0.0000, 0.0000, 0.0000],\n",
      "          [0.0000, 0.0000, 0.0000,  ..., 0.0000, 0.0000, 0.0000],\n",
      "          [0.0000, 0.0000, 0.0000,  ..., 0.0000, 0.0000, 0.0000],\n",
      "          ...,\n",
      "          [0.0000, 0.0000, 0.0000,  ..., 0.0000, 0.0000, 0.0000],\n",
      "          [0.0000, 0.0000, 0.0000,  ..., 0.0000, 0.0000, 0.0000],\n",
      "          [0.0000, 0.0000, 0.0000,  ..., 0.0000, 0.0000, 0.0000]]],\n",
      "\n",
      "\n",
      "        [[[0.0000, 0.0000, 0.0000,  ..., 0.0000, 0.0000, 0.0000],\n",
      "          [0.0000, 0.0000, 0.0000,  ..., 0.0000, 0.0000, 0.0000],\n",
      "          [0.0000, 0.0000, 0.0000,  ..., 0.0000, 0.0000, 0.0000],\n",
      "          ...,\n",
      "          [0.0000, 0.0000, 0.0000,  ..., 0.0000, 0.0000, 0.0000],\n",
      "          [0.0000, 0.0000, 0.0000,  ..., 0.0000, 0.0000, 0.0000],\n",
      "          [0.0000, 0.0000, 0.0000,  ..., 0.0000, 0.0000, 0.0000]]],\n",
      "\n",
      "\n",
      "        [[[0.0000, 0.0000, 0.0000,  ..., 0.0000, 0.0000, 0.0000],\n",
      "          [0.0000, 0.0000, 0.0000,  ..., 0.0000, 0.0000, 0.0000],\n",
      "          [0.0000, 0.0000, 0.0000,  ..., 0.0000, 0.0000, 0.0000],\n",
      "          ...,\n",
      "          [0.0000, 0.0000, 0.0000,  ..., 0.0000, 0.0000, 0.0000],\n",
      "          [0.0000, 0.0000, 0.0000,  ..., 0.0000, 0.0000, 0.0000],\n",
      "          [0.0000, 0.0000, 0.0000,  ..., 0.0000, 0.0000, 0.0000]]],\n",
      "\n",
      "\n",
      "        ...,\n",
      "\n",
      "\n",
      "        [[[0.0000, 0.0000, 0.0000,  ..., 0.0000, 0.0000, 0.0000],\n",
      "          [0.0000, 0.0000, 0.0000,  ..., 0.0000, 0.0000, 0.0000],\n",
      "          [0.0000, 0.0000, 0.0000,  ..., 0.0039, 0.0000, 0.0000],\n",
      "          ...,\n",
      "          [0.0000, 0.0000, 0.0000,  ..., 0.0000, 0.0000, 0.0000],\n",
      "          [0.0000, 0.0000, 0.0000,  ..., 0.0039, 0.0000, 0.0000],\n",
      "          [0.0000, 0.0000, 0.0000,  ..., 0.0000, 0.0000, 0.0000]]],\n",
      "\n",
      "\n",
      "        [[[0.0000, 0.0000, 0.0000,  ..., 0.0000, 0.0000, 0.0000],\n",
      "          [0.0000, 0.0000, 0.0000,  ..., 0.0000, 0.0000, 0.0000],\n",
      "          [0.0000, 0.0000, 0.0000,  ..., 0.0000, 0.0000, 0.0000],\n",
      "          ...,\n",
      "          [0.0000, 0.0000, 0.0000,  ..., 0.0000, 0.0000, 0.0000],\n",
      "          [0.0000, 0.0000, 0.0000,  ..., 0.0000, 0.0000, 0.0000],\n",
      "          [0.0000, 0.0000, 0.0000,  ..., 0.0000, 0.0000, 0.0000]]],\n",
      "\n",
      "\n",
      "        [[[0.0000, 0.0000, 0.0000,  ..., 0.0000, 0.0039, 0.0000],\n",
      "          [0.0000, 0.0000, 0.0000,  ..., 0.0000, 0.0235, 0.0000],\n",
      "          [0.0000, 0.0000, 0.0000,  ..., 0.0000, 0.0235, 0.0000],\n",
      "          ...,\n",
      "          [0.0000, 0.3765, 0.8824,  ..., 0.7765, 0.5922, 0.0000],\n",
      "          [0.0000, 0.0000, 0.0667,  ..., 0.8824, 0.7451, 0.0000],\n",
      "          [0.0000, 0.0000, 0.0000,  ..., 0.3647, 0.2196, 0.0000]]]]) tensor([4, 8, 5, 9, 8, 0, 2, 2, 9, 1, 2, 9, 1, 9, 2, 6, 9, 5, 9, 3, 3, 7, 9, 0,\n",
      "        2, 5, 4, 2, 2, 0, 7, 9])\n"
     ]
    }
   ],
   "source": [
    "\n",
    "\n",
    "# Check out what's inside the training dataloader\n",
    "train_features_batch, train_labels_batch = next(iter(train_dataloader))\n",
    "train_features_batch.shape, train_labels_batch.shape\n",
    "\n",
    "len(train_features_batch)\n",
    "len(train_labels_batch)\n",
    "dir(train_features_batch)\n",
    "\n",
    "len(train_dataloader)\n",
    "\n",
    "for batch, (X, y) in enumerate(train_dataloader):\n",
    "    \n",
    "    print(batch, X, y)\n",
    "    if batch==5:\n",
    "        break"
   ]
  },
  {
   "cell_type": "code",
   "execution_count": 14,
   "id": "3b912677",
   "metadata": {
    "execution": {
     "iopub.execute_input": "2025-06-26T19:20:43.283345Z",
     "iopub.status.busy": "2025-06-26T19:20:43.283033Z",
     "iopub.status.idle": "2025-06-26T19:20:43.387764Z",
     "shell.execute_reply": "2025-06-26T19:20:43.386947Z"
    },
    "papermill": {
     "duration": 0.120525,
     "end_time": "2025-06-26T19:20:43.389351",
     "exception": false,
     "start_time": "2025-06-26T19:20:43.268826",
     "status": "completed"
    },
    "tags": []
   },
   "outputs": [
    {
     "name": "stdout",
     "output_type": "stream",
     "text": [
      "Image size: torch.Size([1, 28, 28])\n",
      "Label: 6, label size: torch.Size([])\n"
     ]
    },
    {
     "data": {
      "image/png": "[encoded data removed]",
      "text/plain": [
       "<Figure size 640x480 with 1 Axes>"
      ]
     },
     "metadata": {},
     "output_type": "display_data"
    }
   ],
   "source": [
    "# Show a sample\n",
    "torch.manual_seed(42)\n",
    "random_idx = torch.randint(0, len(train_features_batch), size=[1]).item()\n",
    "img, label = train_features_batch[random_idx], train_labels_batch[random_idx]\n",
    "plt.imshow(img.squeeze(), cmap=\"gray\")\n",
    "plt.title(class_name[label])\n",
    "plt.axis(\"Off\");\n",
    "print(f\"Image size: {img.shape}\")\n",
    "print(f\"Label: {label}, label size: {label.shape}\")"
   ]
  },
  {
   "cell_type": "markdown",
   "id": "bb6f1cae",
   "metadata": {
    "papermill": {
     "duration": 0.012812,
     "end_time": "2025-06-26T19:20:43.415155",
     "exception": false,
     "start_time": "2025-06-26T19:20:43.402343",
     "status": "completed"
    },
    "tags": []
   },
   "source": [
    "Create a Baseline model just 2 layer"
   ]
  },
  {
   "cell_type": "code",
   "execution_count": 15,
   "id": "628ffdec",
   "metadata": {
    "execution": {
     "iopub.execute_input": "2025-06-26T19:20:43.507349Z",
     "iopub.status.busy": "2025-06-26T19:20:43.506685Z",
     "iopub.status.idle": "2025-06-26T19:20:43.512700Z",
     "shell.execute_reply": "2025-06-26T19:20:43.511842Z"
    },
    "papermill": {
     "duration": 0.086271,
     "end_time": "2025-06-26T19:20:43.513953",
     "exception": false,
     "start_time": "2025-06-26T19:20:43.427682",
     "status": "completed"
    },
    "tags": []
   },
   "outputs": [
    {
     "name": "stdout",
     "output_type": "stream",
     "text": [
      "Shape before flattening: torch.Size([1, 28, 28]) -> [color_channels, height, width]\n",
      "Shape after flattening: torch.Size([1, 784]) -> [color_channels, height*width]\n"
     ]
    }
   ],
   "source": [
    "flatten_model=nn.Flatten()\n",
    "\n",
    "x=train_features_batch[0]\n",
    "\n",
    "output=flatten_model(x)\n",
    "\n",
    "x.shape, output.shape\n",
    "\n",
    "print(f\"Shape before flattening: {x.shape} -> [color_channels, height, width]\")\n",
    "print(f\"Shape after flattening: {output.shape} -> [color_channels, height*width]\")\n"
   ]
  },
  {
   "cell_type": "code",
   "execution_count": 16,
   "id": "6a08bbeb",
   "metadata": {
    "execution": {
     "iopub.execute_input": "2025-06-26T19:20:43.541208Z",
     "iopub.status.busy": "2025-06-26T19:20:43.540863Z",
     "iopub.status.idle": "2025-06-26T19:20:43.546493Z",
     "shell.execute_reply": "2025-06-26T19:20:43.545586Z"
    },
    "papermill": {
     "duration": 0.020827,
     "end_time": "2025-06-26T19:20:43.547918",
     "exception": false,
     "start_time": "2025-06-26T19:20:43.527091",
     "status": "completed"
    },
    "tags": []
   },
   "outputs": [],
   "source": [
    "from torch import nn\n",
    "\n",
    "class FashionV0(nn.Module):\n",
    "    def __init__(self, input_shape: int, hidden_units: int, output_shape: int):\n",
    "        super().__init__()\n",
    "        self.layer_stack = nn.Sequential(\n",
    "            nn.Flatten(), # neural networks like their inputs in vector form\n",
    "            nn.Linear(in_features=input_shape, out_features=hidden_units), # in_features = number of features in a data sample (784 pixels)\n",
    "            nn.Linear(in_features=hidden_units, out_features=output_shape)\n",
    "        )\n",
    "    \n",
    "    def forward(self, x):\n",
    "        return self.layer_stack(x)"
   ]
  },
  {
   "cell_type": "code",
   "execution_count": 17,
   "id": "b47fce86",
   "metadata": {
    "execution": {
     "iopub.execute_input": "2025-06-26T19:20:43.575623Z",
     "iopub.status.busy": "2025-06-26T19:20:43.574833Z",
     "iopub.status.idle": "2025-06-26T19:20:43.584206Z",
     "shell.execute_reply": "2025-06-26T19:20:43.583415Z"
    },
    "papermill": {
     "duration": 0.024487,
     "end_time": "2025-06-26T19:20:43.585561",
     "exception": false,
     "start_time": "2025-06-26T19:20:43.561074",
     "status": "completed"
    },
    "tags": []
   },
   "outputs": [
    {
     "data": {
      "text/plain": [
       "FashionV0(\n",
       "  (layer_stack): Sequential(\n",
       "    (0): Flatten(start_dim=1, end_dim=-1)\n",
       "    (1): Linear(in_features=784, out_features=10, bias=True)\n",
       "    (2): Linear(in_features=10, out_features=10, bias=True)\n",
       "  )\n",
       ")"
      ]
     },
     "execution_count": 17,
     "metadata": {},
     "output_type": "execute_result"
    }
   ],
   "source": [
    "torch.manual_seed(42)\n",
    "model_0 = FashionV0(input_shape=784, # one for every pixel (28x28)\n",
    "    hidden_units=10, # how many units in the hidden layer\n",
    "    output_shape=len(class_name) # one for every class\n",
    ")\n",
    "model_0.to(\"cpu\")\n"
   ]
  },
  {
   "cell_type": "markdown",
   "id": "5e84ad32",
   "metadata": {
    "papermill": {
     "duration": 0.012801,
     "end_time": "2025-06-26T19:20:43.612018",
     "exception": false,
     "start_time": "2025-06-26T19:20:43.599217",
     "status": "completed"
    },
    "tags": []
   },
   "source": [
    "SetUp Loss function"
   ]
  },
  {
   "cell_type": "markdown",
   "id": "722fc9d1",
   "metadata": {
    "papermill": {
     "duration": 0.014559,
     "end_time": "2025-06-26T19:20:43.639377",
     "exception": false,
     "start_time": "2025-06-26T19:20:43.624818",
     "status": "completed"
    },
    "tags": []
   },
   "source": [
    "Add a helper function"
   ]
  },
  {
   "cell_type": "code",
   "execution_count": 18,
   "id": "da0c0948",
   "metadata": {
    "execution": {
     "iopub.execute_input": "2025-06-26T19:20:43.666783Z",
     "iopub.status.busy": "2025-06-26T19:20:43.666505Z",
     "iopub.status.idle": "2025-06-26T19:20:43.938021Z",
     "shell.execute_reply": "2025-06-26T19:20:43.936979Z"
    },
    "papermill": {
     "duration": 0.286935,
     "end_time": "2025-06-26T19:20:43.939534",
     "exception": false,
     "start_time": "2025-06-26T19:20:43.652599",
     "status": "completed"
    },
    "tags": []
   },
   "outputs": [
    {
     "name": "stdout",
     "output_type": "stream",
     "text": [
      "Downloading helper_functions.py\n"
     ]
    }
   ],
   "source": [
    "import requests\n",
    "from pathlib import Path \n",
    "\n",
    "# Download helper functions from Learn PyTorch repo (if not already downloaded)\n",
    "if Path(\"helper_functions.py\").is_file():\n",
    "  print(\"helper_functions.py already exists, skipping download\")\n",
    "else:\n",
    "  print(\"Downloading helper_functions.py\")\n",
    "  # Note: you need the \"raw\" GitHub URL for this to work\n",
    "  request = requests.get(\"https://raw.githubusercontent.com/mrdbourke/pytorch-deep-learning/main/helper_functions.py\")\n",
    "  with open(\"helper_functions.py\", \"wb\") as f:\n",
    "    f.write(request.content)"
   ]
  },
  {
   "cell_type": "code",
   "execution_count": 19,
   "id": "5d7d88b1",
   "metadata": {
    "execution": {
     "iopub.execute_input": "2025-06-26T19:20:43.967375Z",
     "iopub.status.busy": "2025-06-26T19:20:43.967059Z",
     "iopub.status.idle": "2025-06-26T19:20:43.978319Z",
     "shell.execute_reply": "2025-06-26T19:20:43.977383Z"
    },
    "papermill": {
     "duration": 0.027051,
     "end_time": "2025-06-26T19:20:43.980074",
     "exception": false,
     "start_time": "2025-06-26T19:20:43.953023",
     "status": "completed"
    },
    "tags": []
   },
   "outputs": [],
   "source": [
    "# Import accuracy metric\n",
    "from helper_functions import accuracy_fn # Note: could also use torchmetrics.Accuracy(task = 'multiclass', num_classes=len(class_names)).to(device)\n",
    "\n",
    "# Setup loss function and optimizer\n",
    "loss_fn = nn.CrossEntropyLoss() # this is also called \"criterion\"/\"cost function\" in some places\n",
    "optimizer = torch.optim.SGD(params=model_0.parameters(), lr=0.1)"
   ]
  },
  {
   "cell_type": "code",
   "execution_count": 20,
   "id": "6df7ba96",
   "metadata": {
    "execution": {
     "iopub.execute_input": "2025-06-26T19:20:44.008769Z",
     "iopub.status.busy": "2025-06-26T19:20:44.008081Z",
     "iopub.status.idle": "2025-06-26T19:20:44.013105Z",
     "shell.execute_reply": "2025-06-26T19:20:44.012265Z"
    },
    "papermill": {
     "duration": 0.020804,
     "end_time": "2025-06-26T19:20:44.014481",
     "exception": false,
     "start_time": "2025-06-26T19:20:43.993677",
     "status": "completed"
    },
    "tags": []
   },
   "outputs": [],
   "source": [
    "from timeit import default_timer as timer \n",
    "def print_train_time(start: float, end: float, device: torch.device = None):\n",
    "    \"\"\"Prints difference between start and end time.\n",
    "\n",
    "    Args:\n",
    "        start (float): Start time of computation (preferred in timeit format). \n",
    "        end (float): End time of computation.\n",
    "        device ([type], optional): Device that compute is running on. Defaults to None.\n",
    "\n",
    "    Returns:\n",
    "        float: time between start and end in seconds (higher is longer).\n",
    "    \"\"\"\n",
    "    total_time = end - start\n",
    "    print(f\"Train time on {device}: {total_time:.3f} seconds\")\n",
    "    return total_time"
   ]
  },
  {
   "cell_type": "code",
   "execution_count": 21,
   "id": "c78e7bb2",
   "metadata": {
    "execution": {
     "iopub.execute_input": "2025-06-26T19:20:44.042809Z",
     "iopub.status.busy": "2025-06-26T19:20:44.042467Z",
     "iopub.status.idle": "2025-06-26T19:21:13.548230Z",
     "shell.execute_reply": "2025-06-26T19:21:13.547330Z"
    },
    "papermill": {
     "duration": 29.521452,
     "end_time": "2025-06-26T19:21:13.549892",
     "exception": false,
     "start_time": "2025-06-26T19:20:44.028440",
     "status": "completed"
    },
    "tags": []
   },
   "outputs": [
    {
     "data": {
      "application/vnd.jupyter.widget-view+json": {
       "model_id": "1fc8a4ab47c44c4bac3e09e1c53df602",
       "version_major": 2,
       "version_minor": 0
      },
      "text/plain": [
       "  0%|          | 0/3 [00:00<?, ?it/s]"
      ]
     },
     "metadata": {},
     "output_type": "display_data"
    },
    {
     "name": "stdout",
     "output_type": "stream",
     "text": [
      "Epoch: 0\n",
      "-------\n",
      "Looked at 0/60000 samples\n",
      "Looked at 12800/60000 samples\n",
      "Looked at 25600/60000 samples\n",
      "Looked at 38400/60000 samples\n",
      "Looked at 51200/60000 samples\n",
      "\n",
      "Train loss: 0.59039 | Test loss: 0.50954, Test acc: 82.04%\n",
      "\n",
      "Epoch: 1\n",
      "-------\n",
      "Looked at 0/60000 samples\n",
      "Looked at 12800/60000 samples\n",
      "Looked at 25600/60000 samples\n",
      "Looked at 38400/60000 samples\n",
      "Looked at 51200/60000 samples\n",
      "\n",
      "Train loss: 0.47633 | Test loss: 0.47989, Test acc: 83.20%\n",
      "\n",
      "Epoch: 2\n",
      "-------\n",
      "Looked at 0/60000 samples\n",
      "Looked at 12800/60000 samples\n",
      "Looked at 25600/60000 samples\n",
      "Looked at 38400/60000 samples\n",
      "Looked at 51200/60000 samples\n",
      "\n",
      "Train loss: 0.45503 | Test loss: 0.47664, Test acc: 83.43%\n",
      "\n",
      "Train time on cpu: 29.159 seconds\n"
     ]
    }
   ],
   "source": [
    "# Import tqdm for progress bar\n",
    "from tqdm.auto import tqdm\n",
    "\n",
    "# Set the seed and start the timer\n",
    "torch.manual_seed(42)\n",
    "train_time_start_on_cpu = timer()\n",
    "\n",
    "# Set the number of epochs (we'll keep this small for faster training times)\n",
    "epochs = 3\n",
    "\n",
    "# Create training and testing loop\n",
    "for epoch in tqdm(range(epochs)):\n",
    "    print(f\"Epoch: {epoch}\\n-------\")\n",
    "    ### Training\n",
    "    train_loss = 0\n",
    "    # Add a loop to loop through training batches\n",
    "    for batch, (X, y) in enumerate(train_dataloader):\n",
    "        model_0.train() \n",
    "        # 1. Forward pass\n",
    "        y_pred = model_0(X)\n",
    "\n",
    "        # 2. Calculate loss (per batch)\n",
    "        loss = loss_fn(y_pred, y)\n",
    "        train_loss += loss # accumulatively add up the loss per epoch \n",
    "\n",
    "        # 3. Optimizer zero grad\n",
    "        optimizer.zero_grad()\n",
    "\n",
    "        # 4. Loss backward\n",
    "        loss.backward()\n",
    "\n",
    "        # 5. Optimizer step\n",
    "        optimizer.step()\n",
    "\n",
    "        # Print out how many samples have been seen\n",
    "        if batch % 400 == 0:\n",
    "            print(f\"Looked at {batch * len(X)}/{len(train_dataloader.dataset)} samples\")\n",
    "\n",
    "    # Divide total train loss by length of train dataloader (average loss per batch per epoch)\n",
    "    train_loss /= len(train_dataloader)\n",
    "    \n",
    "    ### Testing\n",
    "    # Setup variables for accumulatively adding up loss and accuracy \n",
    "    test_loss, test_acc = 0, 0 \n",
    "    model_0.eval()\n",
    "    with torch.inference_mode():\n",
    "        for X, y in test_dataloader:\n",
    "            # 1. Forward pass\n",
    "            test_pred = model_0(X)\n",
    "           \n",
    "            # 2. Calculate loss (accumulatively)\n",
    "            test_loss += loss_fn(test_pred, y) # accumulatively add up the loss per epoch\n",
    "\n",
    "            # 3. Calculate accuracy (preds need to be same as y_true)\n",
    "            test_acc += accuracy_fn(y_true=y, y_pred=test_pred.argmax(dim=1))\n",
    "        \n",
    "        # Calculations on test metrics need to happen inside torch.inference_mode()\n",
    "        # Divide total test loss by length of test dataloader (per batch)\n",
    "        test_loss /= len(test_dataloader)\n",
    "\n",
    "        # Divide total accuracy by length of test dataloader (per batch)\n",
    "        test_acc /= len(test_dataloader)\n",
    "\n",
    "    ## Print out what's happening\n",
    "    print(f\"\\nTrain loss: {train_loss:.5f} | Test loss: {test_loss:.5f}, Test acc: {test_acc:.2f}%\\n\")\n",
    "\n",
    "# Calculate training time      \n",
    "train_time_end_on_cpu = timer()\n",
    "total_train_time_model_0 = print_train_time(start=train_time_start_on_cpu, \n",
    "                                           end=train_time_end_on_cpu,\n",
    "                                           device=str(next(model_0.parameters()).device))"
   ]
  },
  {
   "cell_type": "code",
   "execution_count": 22,
   "id": "23aa6425",
   "metadata": {
    "execution": {
     "iopub.execute_input": "2025-06-26T19:21:13.579065Z",
     "iopub.status.busy": "2025-06-26T19:21:13.578673Z",
     "iopub.status.idle": "2025-06-26T19:21:14.688946Z",
     "shell.execute_reply": "2025-06-26T19:21:14.688002Z"
    },
    "papermill": {
     "duration": 1.12643,
     "end_time": "2025-06-26T19:21:14.690480",
     "exception": false,
     "start_time": "2025-06-26T19:21:13.564050",
     "status": "completed"
    },
    "tags": []
   },
   "outputs": [
    {
     "data": {
      "text/plain": [
       "{'model_name': 'FashionV0',\n",
       " 'model_loss': 0.4766390025615692,\n",
       " 'model_acc': 83.42651757188499}"
      ]
     },
     "execution_count": 22,
     "metadata": {},
     "output_type": "execute_result"
    }
   ],
   "source": [
    "torch.manual_seed(42)\n",
    "def eval_model(model: torch.nn.Module, \n",
    "               data_loader: torch.utils.data.DataLoader, \n",
    "               loss_fn: torch.nn.Module, \n",
    "               accuracy_fn):\n",
    "    \"\"\"Returns a dictionary containing the results of model predicting on data_loader.\n",
    "\n",
    "    Args:\n",
    "        model (torch.nn.Module): A PyTorch model capable of making predictions on data_loader.\n",
    "        data_loader (torch.utils.data.DataLoader): The target dataset to predict on.\n",
    "        loss_fn (torch.nn.Module): The loss function of model.\n",
    "        accuracy_fn: An accuracy function to compare the models predictions to the truth labels.\n",
    "\n",
    "    Returns:\n",
    "        (dict): Results of model making predictions on data_loader.\n",
    "    \"\"\"\n",
    "    loss, acc = 0, 0\n",
    "    model.eval()\n",
    "    with torch.inference_mode():\n",
    "        for X, y in data_loader:\n",
    "            # Make predictions with the model\n",
    "            y_pred = model(X)\n",
    "            \n",
    "            # Accumulate the loss and accuracy values per batch\n",
    "            loss += loss_fn(y_pred, y)\n",
    "            acc += accuracy_fn(y_true=y, \n",
    "                                y_pred=y_pred.argmax(dim=1)) # For accuracy, need the prediction labels (logits -> pred_prob -> pred_labels)\n",
    "        \n",
    "        # Scale loss and acc to find the average loss/acc per batch\n",
    "        loss /= len(data_loader)\n",
    "        acc /= len(data_loader)\n",
    "        \n",
    "    return {\"model_name\": model.__class__.__name__, # only works when model was created with a class\n",
    "            \"model_loss\": loss.item(),\n",
    "            \"model_acc\": acc}\n",
    "\n",
    "# Calculate model 0 results on test dataset\n",
    "model_0_results = eval_model(model=model_0, data_loader=test_dataloader,\n",
    "    loss_fn=loss_fn, accuracy_fn=accuracy_fn\n",
    ")\n",
    "model_0_results"
   ]
  },
  {
   "cell_type": "code",
   "execution_count": 23,
   "id": "bc1806e8",
   "metadata": {
    "execution": {
     "iopub.execute_input": "2025-06-26T19:21:14.721055Z",
     "iopub.status.busy": "2025-06-26T19:21:14.720278Z",
     "iopub.status.idle": "2025-06-26T19:21:44.078187Z",
     "shell.execute_reply": "2025-06-26T19:21:44.077229Z"
    },
    "papermill": {
     "duration": 29.374392,
     "end_time": "2025-06-26T19:21:44.079640",
     "exception": false,
     "start_time": "2025-06-26T19:21:14.705248",
     "status": "completed"
    },
    "tags": []
   },
   "outputs": [
    {
     "name": "stdout",
     "output_type": "stream",
     "text": [
      "Epochs number 0--- \n"
     ]
    },
    {
     "data": {
      "application/vnd.jupyter.widget-view+json": {
       "model_id": "e8cb596c24504320ada5f8e6f74683b7",
       "version_major": 2,
       "version_minor": 0
      },
      "text/plain": [
       "0it [00:00, ?it/s]"
      ]
     },
     "metadata": {},
     "output_type": "display_data"
    },
    {
     "name": "stdout",
     "output_type": "stream",
     "text": [
      " Batch number out of 0/60000\n",
      " Batch number out of 400/60000\n",
      " Batch number out of 800/60000\n",
      " Batch number out of 1200/60000\n",
      " Batch number out of 1600/60000\n",
      "tensor(0.4429, grad_fn=<DivBackward0>)\n",
      "\n",
      "Train loss: 0.44286 | Test loss: 0.50540, Test acc: 82.36%\n",
      "\n",
      "Epochs number 1--- \n"
     ]
    },
    {
     "data": {
      "application/vnd.jupyter.widget-view+json": {
       "model_id": "82ec27b8ac21426089c1e18c539e8c0f",
       "version_major": 2,
       "version_minor": 0
      },
      "text/plain": [
       "0it [00:00, ?it/s]"
      ]
     },
     "metadata": {},
     "output_type": "display_data"
    },
    {
     "name": "stdout",
     "output_type": "stream",
     "text": [
      " Batch number out of 0/60000\n",
      " Batch number out of 400/60000\n",
      " Batch number out of 800/60000\n",
      " Batch number out of 1200/60000\n",
      " Batch number out of 1600/60000\n",
      "tensor(0.4343, grad_fn=<DivBackward0>)\n",
      "\n",
      "Train loss: 0.43426 | Test loss: 0.49740, Test acc: 82.91%\n",
      "\n",
      "Epochs number 2--- \n"
     ]
    },
    {
     "data": {
      "application/vnd.jupyter.widget-view+json": {
       "model_id": "f219c8af6978414d82405e25a8493e54",
       "version_major": 2,
       "version_minor": 0
      },
      "text/plain": [
       "0it [00:00, ?it/s]"
      ]
     },
     "metadata": {},
     "output_type": "display_data"
    },
    {
     "name": "stdout",
     "output_type": "stream",
     "text": [
      " Batch number out of 0/60000\n",
      " Batch number out of 400/60000\n",
      " Batch number out of 800/60000\n",
      " Batch number out of 1200/60000\n",
      " Batch number out of 1600/60000\n",
      "tensor(0.4292, grad_fn=<DivBackward0>)\n",
      "\n",
      "Train loss: 0.42920 | Test loss: 0.45719, Test acc: 84.07%\n",
      "\n"
     ]
    }
   ],
   "source": [
    "epochs=3\n",
    "for epochs in range(epochs):\n",
    "    print(f\"Epochs number {epochs}--- \")\n",
    "    train_loss=0\n",
    "    \n",
    "    for batch, (X,y) in tqdm(enumerate(train_dataloader)):\n",
    "        model_0.train()\n",
    "        #do the forward pass\n",
    "        y_pred=model_0(X)\n",
    "        #calculate the loss\n",
    "        loss=loss_fn(y_pred,y)\n",
    "        train_loss+=loss\n",
    "        #optimizer zero grad\n",
    "        optimizer.zero_grad()\n",
    "        #loss backward\n",
    "        loss.backward()\n",
    "        #optimizer step step step step\n",
    "        optimizer.step()\n",
    "        if batch % 400==0:\n",
    "            print(f\" Batch number out of {batch}/{len(train_data)}\")\n",
    "    train_loss/=len(train_dataloader)\n",
    "    print(train_loss)\n",
    "\n",
    "    #testing test data\n",
    "    test_loss, test_acc=0,0\n",
    "    model_0.eval()\n",
    "    with torch.inference_mode():\n",
    "        for X,y in test_dataloader:\n",
    "            test_pred=model_0(X)\n",
    "            test_loss+=loss_fn(test_pred,y)\n",
    "            test_acc += accuracy_fn(y_true=y, y_pred=test_pred.argmax(dim=1))\n",
    "        test_loss/=len(test_dataloader)\n",
    "        test_acc/=len(test_dataloader)\n",
    "    print(f\"\\nTrain loss: {train_loss:.5f} | Test loss: {test_loss:.5f}, Test acc: {test_acc:.2f}%\\n\")\n",
    "    \n",
    "\n",
    "\n",
    "        \n",
    "    \n",
    "    "
   ]
  },
  {
   "cell_type": "code",
   "execution_count": 24,
   "id": "b68914c5",
   "metadata": {
    "execution": {
     "iopub.execute_input": "2025-06-26T19:21:44.112083Z",
     "iopub.status.busy": "2025-06-26T19:21:44.111477Z",
     "iopub.status.idle": "2025-06-26T19:21:44.117382Z",
     "shell.execute_reply": "2025-06-26T19:21:44.116509Z"
    },
    "papermill": {
     "duration": 0.023775,
     "end_time": "2025-06-26T19:21:44.119168",
     "exception": false,
     "start_time": "2025-06-26T19:21:44.095393",
     "status": "completed"
    },
    "tags": []
   },
   "outputs": [],
   "source": [
    "class FasionV1(nn.Module):\n",
    "    def __init__(self, input_shape: int, hidden_units: int, output_shape: int):\n",
    "        super().__init__()\n",
    "        self.layer_stack=nn.Sequential(\n",
    "            nn.Flatten(),\n",
    "            nn.Linear(in_features=input_shape, out_features=hidden_units),\n",
    "            nn.ReLU(),\n",
    "            nn.Linear(in_features=hidden_units, out_features=output_shape),\n",
    "            nn.ReLU() \n",
    "        )\n",
    "    def forward(self, x: torch.tensor):\n",
    "        return self.layer_stack(x) "
   ]
  },
  {
   "cell_type": "code",
   "execution_count": 25,
   "id": "111c133f",
   "metadata": {
    "execution": {
     "iopub.execute_input": "2025-06-26T19:21:44.151902Z",
     "iopub.status.busy": "2025-06-26T19:21:44.151209Z",
     "iopub.status.idle": "2025-06-26T19:21:44.158279Z",
     "shell.execute_reply": "2025-06-26T19:21:44.157169Z"
    },
    "papermill": {
     "duration": 0.024987,
     "end_time": "2025-06-26T19:21:44.159697",
     "exception": false,
     "start_time": "2025-06-26T19:21:44.134710",
     "status": "completed"
    },
    "tags": []
   },
   "outputs": [
    {
     "data": {
      "text/plain": [
       "FasionV1(\n",
       "  (layer_stack): Sequential(\n",
       "    (0): Flatten(start_dim=1, end_dim=-1)\n",
       "    (1): Linear(in_features=784, out_features=10, bias=True)\n",
       "    (2): ReLU()\n",
       "    (3): Linear(in_features=10, out_features=10, bias=True)\n",
       "    (4): ReLU()\n",
       "  )\n",
       ")"
      ]
     },
     "execution_count": 25,
     "metadata": {},
     "output_type": "execute_result"
    }
   ],
   "source": [
    "model_1=FasionV1(784,10,len(class_name))\n",
    "model_1\n",
    "# model_1.parameters()"
   ]
  },
  {
   "cell_type": "markdown",
   "id": "818486b0",
   "metadata": {
    "papermill": {
     "duration": 0.015006,
     "end_time": "2025-06-26T19:21:44.190200",
     "exception": false,
     "start_time": "2025-06-26T19:21:44.175194",
     "status": "completed"
    },
    "tags": []
   },
   "source": [
    "setup loss , optimizer"
   ]
  },
  {
   "cell_type": "code",
   "execution_count": 26,
   "id": "ee717ea7",
   "metadata": {
    "execution": {
     "iopub.execute_input": "2025-06-26T19:21:44.221827Z",
     "iopub.status.busy": "2025-06-26T19:21:44.221534Z",
     "iopub.status.idle": "2025-06-26T19:21:44.226836Z",
     "shell.execute_reply": "2025-06-26T19:21:44.225874Z"
    },
    "papermill": {
     "duration": 0.023492,
     "end_time": "2025-06-26T19:21:44.228692",
     "exception": false,
     "start_time": "2025-06-26T19:21:44.205200",
     "status": "completed"
    },
    "tags": []
   },
   "outputs": [],
   "source": [
    "from helper_functions import accuracy_fn\n",
    "\n",
    "loss_fn = nn.CrossEntropyLoss()\n",
    "\n",
    "optimizer=torch.optim.SGD(params=model_1.parameters(),lr=0.01)\n",
    "\n",
    "device='cpu'"
   ]
  },
  {
   "cell_type": "code",
   "execution_count": 27,
   "id": "421b28cf",
   "metadata": {
    "execution": {
     "iopub.execute_input": "2025-06-26T19:21:44.265187Z",
     "iopub.status.busy": "2025-06-26T19:21:44.264834Z",
     "iopub.status.idle": "2025-06-26T19:21:44.277027Z",
     "shell.execute_reply": "2025-06-26T19:21:44.275986Z"
    },
    "papermill": {
     "duration": 0.031992,
     "end_time": "2025-06-26T19:21:44.278596",
     "exception": false,
     "start_time": "2025-06-26T19:21:44.246604",
     "status": "completed"
    },
    "tags": []
   },
   "outputs": [],
   "source": [
    "def train_step(model: torch.nn.Module,\n",
    "               data_loader: torch.utils.data.DataLoader,\n",
    "               loss_fn: torch.nn.Module,\n",
    "               optimizer: torch.optim.Optimizer,\n",
    "               accuracy_fn,\n",
    "               device: torch.device = device):\n",
    "    train_loss, train_acc = 0, 0\n",
    "    model.to(device)\n",
    "    for batch, (X, y) in enumerate(data_loader):\n",
    "        # Send data to GPU\n",
    "        X, y = X.to(device), y.to(device)\n",
    "\n",
    "        # 1. Forward pass\n",
    "        y_pred = model(X)\n",
    "\n",
    "        # 2. Calculate loss\n",
    "        loss = loss_fn(y_pred, y)\n",
    "        train_loss += loss\n",
    "        train_acc += accuracy_fn(y_true=y,\n",
    "                                 y_pred=y_pred.argmax(dim=1)) # Go from logits -> pred labels\n",
    "\n",
    "        # 3. Optimizer zero grad\n",
    "        optimizer.zero_grad()\n",
    "\n",
    "        # 4. Loss backward\n",
    "        loss.backward()\n",
    "\n",
    "        # 5. Optimizer step\n",
    "        optimizer.step()\n",
    "\n",
    "    # Calculate loss and accuracy per epoch and print out what's happening\n",
    "    train_loss /= len(data_loader)\n",
    "    train_acc /= len(data_loader)\n",
    "    print(f\"Train loss: {train_loss:.5f} | Train accuracy: {train_acc:.2f}%\")\n",
    "\n",
    "def test_step(data_loader: torch.utils.data.DataLoader,\n",
    "              model: torch.nn.Module,\n",
    "              loss_fn: torch.nn.Module,\n",
    "              accuracy_fn,\n",
    "              device: torch.device = device):\n",
    "    test_loss, test_acc = 0, 0\n",
    "    model.to(device)\n",
    "    model.eval() # put model in eval mode\n",
    "    # Turn on inference context manager\n",
    "    with torch.inference_mode(): \n",
    "        for X, y in data_loader:\n",
    "            # Send data to GPU\n",
    "            X, y = X.to(device), y.to(device)\n",
    "            \n",
    "            # 1. Forward pass\n",
    "            test_pred = model(X)\n",
    "            \n",
    "            # 2. Calculate loss and accuracy\n",
    "            test_loss += loss_fn(test_pred, y)\n",
    "            test_acc += accuracy_fn(y_true=y,\n",
    "                y_pred=test_pred.argmax(dim=1) # Go from logits -> pred labels\n",
    "            )\n",
    "        \n",
    "        # Adjust metrics and print out\n",
    "        test_loss /= len(data_loader)\n",
    "        test_acc /= len(data_loader)\n",
    "        print(f\"Test loss: {test_loss:.5f} | Test accuracy: {test_acc:.2f}%\\n\")"
   ]
  },
  {
   "cell_type": "code",
   "execution_count": 28,
   "id": "becfcada",
   "metadata": {
    "execution": {
     "iopub.execute_input": "2025-06-26T19:21:44.311398Z",
     "iopub.status.busy": "2025-06-26T19:21:44.311096Z",
     "iopub.status.idle": "2025-06-26T19:22:15.424568Z",
     "shell.execute_reply": "2025-06-26T19:22:15.423598Z"
    },
    "papermill": {
     "duration": 31.131564,
     "end_time": "2025-06-26T19:22:15.426150",
     "exception": false,
     "start_time": "2025-06-26T19:21:44.294586",
     "status": "completed"
    },
    "tags": []
   },
   "outputs": [
    {
     "data": {
      "application/vnd.jupyter.widget-view+json": {
       "model_id": "7be7a32b2f3242c8b2e4df198c6b5d4a",
       "version_major": 2,
       "version_minor": 0
      },
      "text/plain": [
       "  0%|          | 0/3 [00:00<?, ?it/s]"
      ]
     },
     "metadata": {},
     "output_type": "display_data"
    },
    {
     "name": "stdout",
     "output_type": "stream",
     "text": [
      "Epoch: 0\n",
      "---------\n",
      "Train loss: 1.45922 | Train accuracy: 54.35%\n",
      "Test loss: 1.12435 | Test accuracy: 65.76%\n",
      "\n",
      "Epoch: 1\n",
      "---------\n",
      "Train loss: 1.05004 | Train accuracy: 67.80%\n",
      "Test loss: 1.02114 | Test accuracy: 68.52%\n",
      "\n",
      "Epoch: 2\n",
      "---------\n",
      "Train loss: 0.97942 | Train accuracy: 69.61%\n",
      "Test loss: 0.98073 | Test accuracy: 69.21%\n",
      "\n",
      "Train time on cpu: 31.105 seconds\n"
     ]
    }
   ],
   "source": [
    "torch.manual_seed(42)\n",
    "\n",
    "# Measure time\n",
    "from timeit import default_timer as timer\n",
    "train_time_start_on_gpu = timer()\n",
    "\n",
    "epochs = 3\n",
    "for epoch in tqdm(range(epochs)):\n",
    "    print(f\"Epoch: {epoch}\\n---------\")\n",
    "    train_step(data_loader=train_dataloader, \n",
    "        model=model_1, \n",
    "        loss_fn=loss_fn,\n",
    "        optimizer=optimizer,\n",
    "        accuracy_fn=accuracy_fn\n",
    "    )\n",
    "    test_step(data_loader=test_dataloader,\n",
    "        model=model_1,\n",
    "        loss_fn=loss_fn,\n",
    "        accuracy_fn=accuracy_fn\n",
    "    )\n",
    "\n",
    "train_time_end_on_gpu = timer()\n",
    "total_train_time_model_1 = print_train_time(start=train_time_start_on_gpu,\n",
    "                                            end=train_time_end_on_gpu,\n",
    "                                            device=device)"
   ]
  },
  {
   "cell_type": "code",
   "execution_count": 29,
   "id": "c5dc8e24",
   "metadata": {
    "execution": {
     "iopub.execute_input": "2025-06-26T19:22:15.460051Z",
     "iopub.status.busy": "2025-06-26T19:22:15.459700Z",
     "iopub.status.idle": "2025-06-26T19:22:16.623676Z",
     "shell.execute_reply": "2025-06-26T19:22:16.622766Z"
    },
    "papermill": {
     "duration": 1.183258,
     "end_time": "2025-06-26T19:22:16.625697",
     "exception": false,
     "start_time": "2025-06-26T19:22:15.442439",
     "status": "completed"
    },
    "tags": []
   },
   "outputs": [
    {
     "data": {
      "text/plain": [
       "{'model_name': 'FasionV1',\n",
       " 'model_loss': 0.980731725692749,\n",
       " 'model_acc': 69.20926517571885}"
      ]
     },
     "execution_count": 29,
     "metadata": {},
     "output_type": "execute_result"
    }
   ],
   "source": [
    "torch.manual_seed(42)\n",
    "\n",
    "# Note: This will error due to `eval_model()` not using device agnostic code \n",
    "model_1_results = eval_model(model=model_1, \n",
    "    data_loader=test_dataloader,\n",
    "    loss_fn=loss_fn, \n",
    "    accuracy_fn=accuracy_fn) \n",
    "model_1_results "
   ]
  },
  {
   "cell_type": "markdown",
   "id": "2b452368",
   "metadata": {
    "papermill": {
     "duration": 0.016535,
     "end_time": "2025-06-26T19:22:16.662711",
     "exception": false,
     "start_time": "2025-06-26T19:22:16.646176",
     "status": "completed"
    },
    "tags": []
   },
   "source": [
    "Now move on CNN Code."
   ]
  },
  {
   "cell_type": "markdown",
   "id": "e9e4521e",
   "metadata": {
    "papermill": {
     "duration": 0.016244,
     "end_time": "2025-06-26T19:22:16.695863",
     "exception": false,
     "start_time": "2025-06-26T19:22:16.679619",
     "status": "completed"
    },
    "tags": []
   },
   "source": [
    "Play with maxpool"
   ]
  },
  {
   "cell_type": "code",
   "execution_count": 30,
   "id": "47d624db",
   "metadata": {
    "execution": {
     "iopub.execute_input": "2025-06-26T19:22:16.730566Z",
     "iopub.status.busy": "2025-06-26T19:22:16.730241Z",
     "iopub.status.idle": "2025-06-26T19:22:16.746120Z",
     "shell.execute_reply": "2025-06-26T19:22:16.744749Z"
    },
    "papermill": {
     "duration": 0.035232,
     "end_time": "2025-06-26T19:22:16.747783",
     "exception": false,
     "start_time": "2025-06-26T19:22:16.712551",
     "status": "completed"
    },
    "tags": []
   },
   "outputs": [
    {
     "name": "stdout",
     "output_type": "stream",
     "text": [
      "Image batch shape: torch.Size([32, 3, 64, 64]) -> [batch_size, color_channels, height, width]\n",
      "Single image shape: torch.Size([3, 64, 64]) -> [color_channels, height, width]\n",
      "Single image pixel values:\n",
      "tensor([[[ 1.9269,  1.4873,  0.9007,  ...,  1.8446, -1.1845,  1.3835],\n",
      "         [ 1.4451,  0.8564,  2.2181,  ...,  0.3399,  0.7200,  0.4114],\n",
      "         [ 1.9312,  1.0119, -1.4364,  ..., -0.5558,  0.7043,  0.7099],\n",
      "         ...,\n",
      "         [-0.5610, -0.4830,  0.4770,  ..., -0.2713, -0.9537, -0.6737],\n",
      "         [ 0.3076, -0.1277,  0.0366,  ..., -2.0060,  0.2824, -0.8111],\n",
      "         [-1.5486,  0.0485, -0.7712,  ..., -0.1403,  0.9416, -0.0118]],\n",
      "\n",
      "        [[-0.5197,  1.8524,  1.8365,  ...,  0.8935, -1.5114, -0.8515],\n",
      "         [ 2.0818,  1.0677, -1.4277,  ...,  1.6612, -2.6223, -0.4319],\n",
      "         [-0.1010, -0.4388, -1.9775,  ...,  0.2106,  0.2536, -0.7318],\n",
      "         ...,\n",
      "         [ 0.2779,  0.7342, -0.3736,  ..., -0.4601,  0.1815,  0.1850],\n",
      "         [ 0.7205, -0.2833,  0.0937,  ..., -0.1002, -2.3609,  2.2465],\n",
      "         [-1.3242, -0.1973,  0.2920,  ...,  0.5409,  0.6940,  1.8563]],\n",
      "\n",
      "        [[-0.7978,  1.0261,  1.1465,  ...,  1.2134,  0.9354, -0.0780],\n",
      "         [-1.4647, -1.9571,  0.1017,  ..., -1.9986, -0.7409,  0.7011],\n",
      "         [-1.3938,  0.8466, -1.7191,  ..., -1.1867,  0.1320,  0.3407],\n",
      "         ...,\n",
      "         [ 0.8206, -0.3745,  1.2499,  ..., -0.0676,  0.0385,  0.6335],\n",
      "         [-0.5589, -0.3393,  0.2347,  ...,  2.1181,  2.4569,  1.3083],\n",
      "         [-0.4092,  1.5199,  0.2401,  ..., -0.2558,  0.7870,  0.9924]]])\n"
     ]
    }
   ],
   "source": [
    "# torch.random_manual(42)\n",
    "\n",
    "# image=torch.randn(size=(32,3,64,64))\n",
    "# image\n",
    "\n",
    "torch.manual_seed(42)\n",
    "\n",
    "# Create sample batch of random numbers with same size as image batch\n",
    "images = torch.randn(size=(32, 3, 64, 64)) # [batch_size, color_channels, height, width]\n",
    "test_image = images[0] # get a single image for testing\n",
    "print(f\"Image batch shape: {images.shape} -> [batch_size, color_channels, height, width]\")\n",
    "print(f\"Single image shape: {test_image.shape} -> [color_channels, height, width]\") \n",
    "print(f\"Single image pixel values:\\n{test_image}\")"
   ]
  },
  {
   "cell_type": "code",
   "execution_count": 31,
   "id": "d7e43240",
   "metadata": {
    "execution": {
     "iopub.execute_input": "2025-06-26T19:22:16.783080Z",
     "iopub.status.busy": "2025-06-26T19:22:16.782406Z",
     "iopub.status.idle": "2025-06-26T19:22:16.810730Z",
     "shell.execute_reply": "2025-06-26T19:22:16.809794Z"
    },
    "papermill": {
     "duration": 0.047741,
     "end_time": "2025-06-26T19:22:16.812419",
     "exception": false,
     "start_time": "2025-06-26T19:22:16.764678",
     "status": "completed"
    },
    "tags": []
   },
   "outputs": [
    {
     "data": {
      "text/plain": [
       "MaxPool2d(\n",
       "  kernel_size=tensor([[[[ 1.9269,  1.4873,  0.9007,  ...,  1.8446, -1.1845,  1.3835],\n",
       "            [ 1.4451,  0.8564,  2.2181,  ...,  0.3399,  0.7200,  0.4114],\n",
       "            [ 1.9312,  1.0119, -1.4364,  ..., -0.5558,  0.7043,  0.7099],\n",
       "            ...,\n",
       "            [-0.5610, -0.4830,  0.4770,  ..., -0.2713, -0.9537, -0.6737],\n",
       "            [ 0.3076, -0.1277,  0.0366,  ..., -2.0060,  0.2824, -0.8111],\n",
       "            [-1.5486,  0.0485, -0.7712,  ..., -0.1403,  0.9416, -0.0118]],\n",
       "  \n",
       "           [[-0.5197,  1.8524,  1.8365,  ...,  0.8935, -1.5114, -0.8515],\n",
       "            [ 2.0818,  1.0677, -1.4277,  ...,  1.6612, -2.6223, -0.4319],\n",
       "            [-0.1010, -0.4388, -1.9775,  ...,  0.2106,  0.2536, -0.7318],\n",
       "            ...,\n",
       "            [ 0.2779,  0.7342, -0.3736,  ..., -0.4601,  0.1815,  0.1850],\n",
       "            [ 0.7205, -0.2833,  0.0937,  ..., -0.1002, -2.3609,  2.2465],\n",
       "            [-1.3242, -0.1973,  0.2920,  ...,  0.5409,  0.6940,  1.8563]],\n",
       "  \n",
       "           [[-0.7978,  1.0261,  1.1465,  ...,  1.2134,  0.9354, -0.0780],\n",
       "            [-1.4647, -1.9571,  0.1017,  ..., -1.9986, -0.7409,  0.7011],\n",
       "            [-1.3938,  0.8466, -1.7191,  ..., -1.1867,  0.1320,  0.3407],\n",
       "            ...,\n",
       "            [ 0.8206, -0.3745,  1.2499,  ..., -0.0676,  0.0385,  0.6335],\n",
       "            [-0.5589, -0.3393,  0.2347,  ...,  2.1181,  2.4569,  1.3083],\n",
       "            [-0.4092,  1.5199,  0.2401,  ..., -0.2558,  0.7870,  0.9924]]],\n",
       "  \n",
       "  \n",
       "          [[[ 1.1462, -0.9252,  0.0457,  ..., -1.6060, -0.3585, -0.4588],\n",
       "            [ 1.5696,  2.1210,  0.4030,  ..., -1.1395,  0.9925, -0.7322],\n",
       "            [-1.6529, -1.4641,  0.0971,  ...,  0.2152, -1.5102,  0.4840],\n",
       "            ...,\n",
       "            [ 0.7408, -0.7165,  2.1898,  ...,  0.4568,  0.0514, -0.9807],\n",
       "            [-0.2803, -0.3592, -1.1238,  ..., -0.5225, -0.1409,  0.6916],\n",
       "            [-0.5811, -1.3816,  1.0387,  ..., -0.6358,  0.9728, -0.2934]],\n",
       "  \n",
       "           [[-1.3047,  1.4507,  0.2443,  ..., -0.1408, -1.4311, -0.1850],\n",
       "            [ 0.8868, -0.2988, -0.5001,  ..., -0.0105,  0.8178,  0.1980],\n",
       "            [ 0.9566, -0.6351,  0.5435,  ...,  0.3815, -0.5045,  0.6647],\n",
       "            ...,\n",
       "            [-1.8424, -0.3769,  0.4985,  ...,  1.0519, -1.0642, -0.7167],\n",
       "            [ 0.6115,  0.4193, -0.9970,  ...,  0.1066, -0.7907,  0.2683],\n",
       "            [-0.5824, -0.3426,  0.4904,  ...,  2.5234,  1.3809,  0.4820]],\n",
       "  \n",
       "           [[-0.2932, -0.3666, -1.6757,  ..., -0.7696, -1.8347,  0.5975],\n",
       "            [-0.6698, -0.3543, -1.5089,  ...,  0.7316,  0.2406, -0.2326],\n",
       "            [-0.6608,  0.4298,  0.1429,  ..., -0.2031,  1.0480, -1.2931],\n",
       "            ...,\n",
       "            [-0.0854,  1.1046, -1.1372,  ..., -1.5342,  0.3418,  0.4373],\n",
       "            [ 1.5311, -0.2290, -0.7734,  ..., -0.6297, -0.1439, -0.6415],\n",
       "            [-0.5336,  0.8814,  0.2079,  ..., -0.8355, -1.9863, -0.9132]]],\n",
       "  \n",
       "  \n",
       "          [[[ 1.8723, -0.4072, -0.2770,  ...,  0.7319,  0.5414, -0.4704],\n",
       "            [-1.1442, -0.8629, -0.0325,  ..., -0.6706, -0.5498, -1.0136],\n",
       "            [-0.8476, -0.0746,  1.6060,  ...,  0.0655,  1.2327,  1.5566],\n",
       "            ...,\n",
       "            [ 0.1831, -1.1265,  1.0662,  ..., -1.6199,  0.8893,  1.8041],\n",
       "            [ 2.2873,  0.2870,  0.5738,  ...,  0.3699,  0.5207,  1.7841],\n",
       "            [-0.9507, -0.6412,  0.6762,  ...,  1.6346,  1.7163,  0.5287]],\n",
       "  \n",
       "           [[ 0.3617,  0.0284,  0.7862,  ..., -0.4626,  0.0907,  0.4144],\n",
       "            [-0.3127,  1.0867,  1.2147,  ...,  0.4430,  1.6820,  1.9812],\n",
       "            [-1.5535,  1.2849, -0.2383,  ..., -0.6326, -0.7753, -0.0257],\n",
       "            ...,\n",
       "            [ 0.3711,  0.0639, -0.1340,  ...,  1.0498,  1.2419,  0.7912],\n",
       "            [ 0.7199, -1.6989,  0.5186,  ...,  1.3509,  0.2584, -0.9650],\n",
       "            [ 0.6124,  1.5963, -0.8839,  ...,  1.5568,  1.9061, -0.2654]],\n",
       "  \n",
       "           [[-0.7838, -0.3569, -1.3868,  ...,  0.0293,  0.3965, -0.0459],\n",
       "            [-1.2732,  1.3058,  1.1782,  ..., -0.5917, -0.1135, -0.0979],\n",
       "            [-0.4611, -1.2840,  1.2376,  ...,  0.2198, -0.9789,  1.8790],\n",
       "            ...,\n",
       "            [ 1.2557,  0.2726,  0.4869,  ..., -0.9088, -1.0899,  1.8497],\n",
       "            [ 0.4721, -0.5464,  0.0127,  ..., -0.8402,  0.3470, -0.5938],\n",
       "            [ 0.3543, -0.7542,  0.8093,  ..., -0.0075,  1.2261, -0.3360]]],\n",
       "  \n",
       "  \n",
       "          ...,\n",
       "  \n",
       "  \n",
       "          [[[-2.1682, -0.7886, -0.3461,  ...,  0.3142, -0.3933, -0.4687],\n",
       "            [ 0.9872,  0.0910, -0.2333,  ...,  0.5540,  0.9231, -1.7830],\n",
       "            [-0.3090,  0.5961, -1.9058,  ..., -0.8920,  0.2649,  0.5361],\n",
       "            ...,\n",
       "            [ 1.4019,  1.5822,  1.9109,  ...,  1.4598,  1.4994,  0.0590],\n",
       "            [ 0.2599,  0.8737, -1.8681,  ..., -1.0228, -3.4304, -1.0239],\n",
       "            [-0.1505,  0.4495,  1.4101,  ...,  0.8395,  1.4997, -0.5686]],\n",
       "  \n",
       "           [[ 0.8834,  1.1450,  0.5449,  ..., -0.2867,  0.2139, -1.3341],\n",
       "            [-1.2310, -0.3959,  0.3044,  ..., -0.4019, -0.7961,  0.0661],\n",
       "            [ 1.4644, -0.7622,  0.7954,  ..., -0.3784, -0.1177,  1.8225],\n",
       "            ...,\n",
       "            [ 1.4499,  0.9205,  0.8025,  ..., -0.9204, -0.2336,  1.0684],\n",
       "            [-0.8314,  0.2011,  0.4146,  ..., -1.3222, -0.6220,  0.0374],\n",
       "            [-0.6306, -1.0083,  0.4322,  ...,  0.9623, -0.2101, -0.8070]],\n",
       "  \n",
       "           [[ 0.9766,  1.8551,  0.8079,  ...,  0.0236, -0.7548,  0.2805],\n",
       "            [-1.5609, -0.9496, -1.2076,  ...,  0.6664,  0.4597,  1.2509],\n",
       "            [-0.3669,  1.0052, -0.1830,  ...,  2.1652, -0.3830, -0.6441],\n",
       "            ...,\n",
       "            [ 0.0621,  0.0039,  1.0790,  ...,  1.0980,  1.3147,  1.7881],\n",
       "            [ 1.5639,  0.2737,  0.0368,  ...,  0.3102,  0.5700,  2.1521],\n",
       "            [-0.2677,  0.9526, -1.7323,  ..., -0.5503,  0.5012,  0.4050]]],\n",
       "  \n",
       "  \n",
       "          [[[ 0.6869, -0.4450, -0.2497,  ...,  1.1245,  2.1253,  0.5647],\n",
       "            [ 1.3971,  1.0697, -0.8996,  ...,  1.0537,  1.3428, -0.2854],\n",
       "            [ 0.6388, -0.5320, -1.5274,  ..., -1.8715,  0.3396,  0.9248],\n",
       "            ...,\n",
       "            [-1.3018,  0.4129,  0.0119,  ..., -1.9978, -0.1642, -2.0266],\n",
       "            [ 0.3821, -0.6324, -0.3748,  ...,  0.3744, -0.5984, -0.1415],\n",
       "            [ 1.5145, -0.9476, -0.6816,  ..., -1.4079, -0.6893, -2.5450]],\n",
       "  \n",
       "           [[ 1.0765,  1.2431, -0.3601,  ...,  1.4529, -1.9261,  0.2059],\n",
       "            [ 0.9315,  0.2448,  0.9260,  ..., -1.4899, -0.2039,  0.1974],\n",
       "            [-0.1349, -0.1783, -0.5261,  ..., -0.4463, -0.9531, -1.2018],\n",
       "            ...,\n",
       "            [-1.5692, -0.5791,  0.0771,  ..., -0.3282, -0.6795,  1.5796],\n",
       "            [-0.7103, -0.1010,  0.3765,  ..., -1.9444, -0.1589,  0.9398],\n",
       "            [-0.1365, -0.6480, -0.5398,  ...,  0.3594, -0.5389,  0.6653]],\n",
       "  \n",
       "           [[-0.8764, -0.5104, -1.2873,  ..., -1.7659,  1.0042,  1.0264],\n",
       "            [-0.7540,  0.3738, -0.0059,  ..., -1.9595,  1.0695,  0.5267],\n",
       "            [ 0.6567,  0.8677,  0.9835,  ...,  0.7666, -0.7829, -0.3841],\n",
       "            ...,\n",
       "            [-0.1040,  0.6071, -0.5816,  ...,  0.9904,  0.8115, -0.5291],\n",
       "            [-0.9045, -0.5544, -0.4637,  ..., -0.0552,  0.0711,  0.0146],\n",
       "            [-0.6846, -1.0256, -0.6969,  ...,  0.5858, -0.9769,  0.0943]]],\n",
       "  \n",
       "  \n",
       "          [[[-1.7576, -0.4235,  0.4978,  ..., -1.5653, -0.0935, -0.8620],\n",
       "            [ 0.0648,  0.9873, -0.6721,  ..., -1.2957, -0.5044,  0.7429],\n",
       "            [ 0.2712, -0.8809, -0.8739,  ...,  1.0423,  0.8242,  2.0000],\n",
       "            ...,\n",
       "            [ 0.7474, -0.0822, -0.8413,  ...,  0.1025,  0.6660,  0.3744],\n",
       "            [-0.1608,  0.7354, -0.7628,  ..., -0.3506,  2.7400, -0.7302],\n",
       "            [ 0.1863,  0.3572, -0.0457,  ..., -0.2024, -0.0339, -0.6260]],\n",
       "  \n",
       "           [[ 1.1211, -0.3509,  0.2602,  ..., -2.0339,  0.0289,  0.0932],\n",
       "            [-1.0552,  0.5302,  0.7214,  ...,  0.6793, -1.6776,  1.1767],\n",
       "            [-0.5452,  0.7653,  0.2258,  ...,  0.1321, -0.1846, -0.1664],\n",
       "            ...,\n",
       "            [-1.3320,  0.6906,  0.2853,  ...,  1.7544,  0.6776,  0.1974],\n",
       "            [-0.8164,  1.5707, -1.0187,  ...,  0.7140,  1.9848, -0.6659],\n",
       "            [ 1.3224,  1.0515,  1.0870,  ..., -0.0260,  1.2395,  0.9925]],\n",
       "  \n",
       "           [[ 1.6056,  0.8208,  1.0230,  ...,  0.0335,  1.5842,  0.8418],\n",
       "            [-0.4198,  0.3207, -0.1954,  ..., -0.3185,  1.3290,  0.5406],\n",
       "            [ 1.0659, -1.7458, -0.2608,  ..., -1.1151, -0.8994,  0.0370],\n",
       "            ...,\n",
       "            [-0.1177,  0.4560, -1.3883,  ..., -1.1566, -1.2233,  0.4873],\n",
       "            [-0.8383,  1.2338,  0.2898,  ...,  1.0237,  1.6105, -0.6264],\n",
       "            [ 0.1180, -0.9001,  2.4965,  ...,  0.4437, -0.3335,  1.3220]]]]), stride=tensor([[[[ 1.9269,  1.4873,  0.9007,  ...,  1.8446, -1.1845,  1.3835],\n",
       "            [ 1.4451,  0.8564,  2.2181,  ...,  0.3399,  0.7200,  0.4114],\n",
       "            [ 1.9312,  1.0119, -1.4364,  ..., -0.5558,  0.7043,  0.7099],\n",
       "            ...,\n",
       "            [-0.5610, -0.4830,  0.4770,  ..., -0.2713, -0.9537, -0.6737],\n",
       "            [ 0.3076, -0.1277,  0.0366,  ..., -2.0060,  0.2824, -0.8111],\n",
       "            [-1.5486,  0.0485, -0.7712,  ..., -0.1403,  0.9416, -0.0118]],\n",
       "  \n",
       "           [[-0.5197,  1.8524,  1.8365,  ...,  0.8935, -1.5114, -0.8515],\n",
       "            [ 2.0818,  1.0677, -1.4277,  ...,  1.6612, -2.6223, -0.4319],\n",
       "            [-0.1010, -0.4388, -1.9775,  ...,  0.2106,  0.2536, -0.7318],\n",
       "            ...,\n",
       "            [ 0.2779,  0.7342, -0.3736,  ..., -0.4601,  0.1815,  0.1850],\n",
       "            [ 0.7205, -0.2833,  0.0937,  ..., -0.1002, -2.3609,  2.2465],\n",
       "            [-1.3242, -0.1973,  0.2920,  ...,  0.5409,  0.6940,  1.8563]],\n",
       "  \n",
       "           [[-0.7978,  1.0261,  1.1465,  ...,  1.2134,  0.9354, -0.0780],\n",
       "            [-1.4647, -1.9571,  0.1017,  ..., -1.9986, -0.7409,  0.7011],\n",
       "            [-1.3938,  0.8466, -1.7191,  ..., -1.1867,  0.1320,  0.3407],\n",
       "            ...,\n",
       "            [ 0.8206, -0.3745,  1.2499,  ..., -0.0676,  0.0385,  0.6335],\n",
       "            [-0.5589, -0.3393,  0.2347,  ...,  2.1181,  2.4569,  1.3083],\n",
       "            [-0.4092,  1.5199,  0.2401,  ..., -0.2558,  0.7870,  0.9924]]],\n",
       "  \n",
       "  \n",
       "          [[[ 1.1462, -0.9252,  0.0457,  ..., -1.6060, -0.3585, -0.4588],\n",
       "            [ 1.5696,  2.1210,  0.4030,  ..., -1.1395,  0.9925, -0.7322],\n",
       "            [-1.6529, -1.4641,  0.0971,  ...,  0.2152, -1.5102,  0.4840],\n",
       "            ...,\n",
       "            [ 0.7408, -0.7165,  2.1898,  ...,  0.4568,  0.0514, -0.9807],\n",
       "            [-0.2803, -0.3592, -1.1238,  ..., -0.5225, -0.1409,  0.6916],\n",
       "            [-0.5811, -1.3816,  1.0387,  ..., -0.6358,  0.9728, -0.2934]],\n",
       "  \n",
       "           [[-1.3047,  1.4507,  0.2443,  ..., -0.1408, -1.4311, -0.1850],\n",
       "            [ 0.8868, -0.2988, -0.5001,  ..., -0.0105,  0.8178,  0.1980],\n",
       "            [ 0.9566, -0.6351,  0.5435,  ...,  0.3815, -0.5045,  0.6647],\n",
       "            ...,\n",
       "            [-1.8424, -0.3769,  0.4985,  ...,  1.0519, -1.0642, -0.7167],\n",
       "            [ 0.6115,  0.4193, -0.9970,  ...,  0.1066, -0.7907,  0.2683],\n",
       "            [-0.5824, -0.3426,  0.4904,  ...,  2.5234,  1.3809,  0.4820]],\n",
       "  \n",
       "           [[-0.2932, -0.3666, -1.6757,  ..., -0.7696, -1.8347,  0.5975],\n",
       "            [-0.6698, -0.3543, -1.5089,  ...,  0.7316,  0.2406, -0.2326],\n",
       "            [-0.6608,  0.4298,  0.1429,  ..., -0.2031,  1.0480, -1.2931],\n",
       "            ...,\n",
       "            [-0.0854,  1.1046, -1.1372,  ..., -1.5342,  0.3418,  0.4373],\n",
       "            [ 1.5311, -0.2290, -0.7734,  ..., -0.6297, -0.1439, -0.6415],\n",
       "            [-0.5336,  0.8814,  0.2079,  ..., -0.8355, -1.9863, -0.9132]]],\n",
       "  \n",
       "  \n",
       "          [[[ 1.8723, -0.4072, -0.2770,  ...,  0.7319,  0.5414, -0.4704],\n",
       "            [-1.1442, -0.8629, -0.0325,  ..., -0.6706, -0.5498, -1.0136],\n",
       "            [-0.8476, -0.0746,  1.6060,  ...,  0.0655,  1.2327,  1.5566],\n",
       "            ...,\n",
       "            [ 0.1831, -1.1265,  1.0662,  ..., -1.6199,  0.8893,  1.8041],\n",
       "            [ 2.2873,  0.2870,  0.5738,  ...,  0.3699,  0.5207,  1.7841],\n",
       "            [-0.9507, -0.6412,  0.6762,  ...,  1.6346,  1.7163,  0.5287]],\n",
       "  \n",
       "           [[ 0.3617,  0.0284,  0.7862,  ..., -0.4626,  0.0907,  0.4144],\n",
       "            [-0.3127,  1.0867,  1.2147,  ...,  0.4430,  1.6820,  1.9812],\n",
       "            [-1.5535,  1.2849, -0.2383,  ..., -0.6326, -0.7753, -0.0257],\n",
       "            ...,\n",
       "            [ 0.3711,  0.0639, -0.1340,  ...,  1.0498,  1.2419,  0.7912],\n",
       "            [ 0.7199, -1.6989,  0.5186,  ...,  1.3509,  0.2584, -0.9650],\n",
       "            [ 0.6124,  1.5963, -0.8839,  ...,  1.5568,  1.9061, -0.2654]],\n",
       "  \n",
       "           [[-0.7838, -0.3569, -1.3868,  ...,  0.0293,  0.3965, -0.0459],\n",
       "            [-1.2732,  1.3058,  1.1782,  ..., -0.5917, -0.1135, -0.0979],\n",
       "            [-0.4611, -1.2840,  1.2376,  ...,  0.2198, -0.9789,  1.8790],\n",
       "            ...,\n",
       "            [ 1.2557,  0.2726,  0.4869,  ..., -0.9088, -1.0899,  1.8497],\n",
       "            [ 0.4721, -0.5464,  0.0127,  ..., -0.8402,  0.3470, -0.5938],\n",
       "            [ 0.3543, -0.7542,  0.8093,  ..., -0.0075,  1.2261, -0.3360]]],\n",
       "  \n",
       "  \n",
       "          ...,\n",
       "  \n",
       "  \n",
       "          [[[-2.1682, -0.7886, -0.3461,  ...,  0.3142, -0.3933, -0.4687],\n",
       "            [ 0.9872,  0.0910, -0.2333,  ...,  0.5540,  0.9231, -1.7830],\n",
       "            [-0.3090,  0.5961, -1.9058,  ..., -0.8920,  0.2649,  0.5361],\n",
       "            ...,\n",
       "            [ 1.4019,  1.5822,  1.9109,  ...,  1.4598,  1.4994,  0.0590],\n",
       "            [ 0.2599,  0.8737, -1.8681,  ..., -1.0228, -3.4304, -1.0239],\n",
       "            [-0.1505,  0.4495,  1.4101,  ...,  0.8395,  1.4997, -0.5686]],\n",
       "  \n",
       "           [[ 0.8834,  1.1450,  0.5449,  ..., -0.2867,  0.2139, -1.3341],\n",
       "            [-1.2310, -0.3959,  0.3044,  ..., -0.4019, -0.7961,  0.0661],\n",
       "            [ 1.4644, -0.7622,  0.7954,  ..., -0.3784, -0.1177,  1.8225],\n",
       "            ...,\n",
       "            [ 1.4499,  0.9205,  0.8025,  ..., -0.9204, -0.2336,  1.0684],\n",
       "            [-0.8314,  0.2011,  0.4146,  ..., -1.3222, -0.6220,  0.0374],\n",
       "            [-0.6306, -1.0083,  0.4322,  ...,  0.9623, -0.2101, -0.8070]],\n",
       "  \n",
       "           [[ 0.9766,  1.8551,  0.8079,  ...,  0.0236, -0.7548,  0.2805],\n",
       "            [-1.5609, -0.9496, -1.2076,  ...,  0.6664,  0.4597,  1.2509],\n",
       "            [-0.3669,  1.0052, -0.1830,  ...,  2.1652, -0.3830, -0.6441],\n",
       "            ...,\n",
       "            [ 0.0621,  0.0039,  1.0790,  ...,  1.0980,  1.3147,  1.7881],\n",
       "            [ 1.5639,  0.2737,  0.0368,  ...,  0.3102,  0.5700,  2.1521],\n",
       "            [-0.2677,  0.9526, -1.7323,  ..., -0.5503,  0.5012,  0.4050]]],\n",
       "  \n",
       "  \n",
       "          [[[ 0.6869, -0.4450, -0.2497,  ...,  1.1245,  2.1253,  0.5647],\n",
       "            [ 1.3971,  1.0697, -0.8996,  ...,  1.0537,  1.3428, -0.2854],\n",
       "            [ 0.6388, -0.5320, -1.5274,  ..., -1.8715,  0.3396,  0.9248],\n",
       "            ...,\n",
       "            [-1.3018,  0.4129,  0.0119,  ..., -1.9978, -0.1642, -2.0266],\n",
       "            [ 0.3821, -0.6324, -0.3748,  ...,  0.3744, -0.5984, -0.1415],\n",
       "            [ 1.5145, -0.9476, -0.6816,  ..., -1.4079, -0.6893, -2.5450]],\n",
       "  \n",
       "           [[ 1.0765,  1.2431, -0.3601,  ...,  1.4529, -1.9261,  0.2059],\n",
       "            [ 0.9315,  0.2448,  0.9260,  ..., -1.4899, -0.2039,  0.1974],\n",
       "            [-0.1349, -0.1783, -0.5261,  ..., -0.4463, -0.9531, -1.2018],\n",
       "            ...,\n",
       "            [-1.5692, -0.5791,  0.0771,  ..., -0.3282, -0.6795,  1.5796],\n",
       "            [-0.7103, -0.1010,  0.3765,  ..., -1.9444, -0.1589,  0.9398],\n",
       "            [-0.1365, -0.6480, -0.5398,  ...,  0.3594, -0.5389,  0.6653]],\n",
       "  \n",
       "           [[-0.8764, -0.5104, -1.2873,  ..., -1.7659,  1.0042,  1.0264],\n",
       "            [-0.7540,  0.3738, -0.0059,  ..., -1.9595,  1.0695,  0.5267],\n",
       "            [ 0.6567,  0.8677,  0.9835,  ...,  0.7666, -0.7829, -0.3841],\n",
       "            ...,\n",
       "            [-0.1040,  0.6071, -0.5816,  ...,  0.9904,  0.8115, -0.5291],\n",
       "            [-0.9045, -0.5544, -0.4637,  ..., -0.0552,  0.0711,  0.0146],\n",
       "            [-0.6846, -1.0256, -0.6969,  ...,  0.5858, -0.9769,  0.0943]]],\n",
       "  \n",
       "  \n",
       "          [[[-1.7576, -0.4235,  0.4978,  ..., -1.5653, -0.0935, -0.8620],\n",
       "            [ 0.0648,  0.9873, -0.6721,  ..., -1.2957, -0.5044,  0.7429],\n",
       "            [ 0.2712, -0.8809, -0.8739,  ...,  1.0423,  0.8242,  2.0000],\n",
       "            ...,\n",
       "            [ 0.7474, -0.0822, -0.8413,  ...,  0.1025,  0.6660,  0.3744],\n",
       "            [-0.1608,  0.7354, -0.7628,  ..., -0.3506,  2.7400, -0.7302],\n",
       "            [ 0.1863,  0.3572, -0.0457,  ..., -0.2024, -0.0339, -0.6260]],\n",
       "  \n",
       "           [[ 1.1211, -0.3509,  0.2602,  ..., -2.0339,  0.0289,  0.0932],\n",
       "            [-1.0552,  0.5302,  0.7214,  ...,  0.6793, -1.6776,  1.1767],\n",
       "            [-0.5452,  0.7653,  0.2258,  ...,  0.1321, -0.1846, -0.1664],\n",
       "            ...,\n",
       "            [-1.3320,  0.6906,  0.2853,  ...,  1.7544,  0.6776,  0.1974],\n",
       "            [-0.8164,  1.5707, -1.0187,  ...,  0.7140,  1.9848, -0.6659],\n",
       "            [ 1.3224,  1.0515,  1.0870,  ..., -0.0260,  1.2395,  0.9925]],\n",
       "  \n",
       "           [[ 1.6056,  0.8208,  1.0230,  ...,  0.0335,  1.5842,  0.8418],\n",
       "            [-0.4198,  0.3207, -0.1954,  ..., -0.3185,  1.3290,  0.5406],\n",
       "            [ 1.0659, -1.7458, -0.2608,  ..., -1.1151, -0.8994,  0.0370],\n",
       "            ...,\n",
       "            [-0.1177,  0.4560, -1.3883,  ..., -1.1566, -1.2233,  0.4873],\n",
       "            [-0.8383,  1.2338,  0.2898,  ...,  1.0237,  1.6105, -0.6264],\n",
       "            [ 0.1180, -0.9001,  2.4965,  ...,  0.4437, -0.3335,  1.3220]]]]), padding=0, dilation=1, ceil_mode=False\n",
       ")"
      ]
     },
     "execution_count": 31,
     "metadata": {},
     "output_type": "execute_result"
    }
   ],
   "source": [
    "torch.manual_seed(42)\n",
    "\n",
    "img=torch.randn(size=(32,3,64,64))\n",
    "one_channel=img[0]\n",
    "\n",
    "img.shape, one_channel.shape\n",
    "\n",
    "nn.MaxPool2d(img)"
   ]
  },
  {
   "cell_type": "markdown",
   "id": "fbeb3b6d",
   "metadata": {
    "papermill": {
     "duration": 0.016807,
     "end_time": "2025-06-26T19:22:16.847158",
     "exception": false,
     "start_time": "2025-06-26T19:22:16.830351",
     "status": "completed"
    },
    "tags": []
   },
   "source": [
    "Conv Layer "
   ]
  },
  {
   "cell_type": "code",
   "execution_count": 32,
   "id": "9815fea6",
   "metadata": {
    "execution": {
     "iopub.execute_input": "2025-06-26T19:22:16.881966Z",
     "iopub.status.busy": "2025-06-26T19:22:16.881647Z",
     "iopub.status.idle": "2025-06-26T19:22:16.905267Z",
     "shell.execute_reply": "2025-06-26T19:22:16.904408Z"
    },
    "papermill": {
     "duration": 0.042803,
     "end_time": "2025-06-26T19:22:16.906814",
     "exception": false,
     "start_time": "2025-06-26T19:22:16.864011",
     "status": "completed"
    },
    "tags": []
   },
   "outputs": [
    {
     "data": {
      "text/plain": [
       "torch.Size([10, 62, 62])"
      ]
     },
     "execution_count": 32,
     "metadata": {},
     "output_type": "execute_result"
    }
   ],
   "source": [
    "torch.manual_seed(42)\n",
    "\n",
    "image=torch.randn(size=(32,3,64,64))\n",
    "img=image[0]\n",
    "conv_layer=nn.Conv2d(\n",
    "    in_channels=3,\n",
    "    out_channels=10,\n",
    "    kernel_size=3,\n",
    "    stride=1,\n",
    "    padding=0 \n",
    ")\n",
    "\n",
    "conv_layer(img).shape\n"
   ]
  },
  {
   "cell_type": "markdown",
   "id": "6c67df0d",
   "metadata": {
    "papermill": {
     "duration": 0.017072,
     "end_time": "2025-06-26T19:22:16.941320",
     "exception": false,
     "start_time": "2025-06-26T19:22:16.924248",
     "status": "completed"
    },
    "tags": []
   },
   "source": [
    "Right now our single image test_image only has a shape of ```[color_channels, height, width] or [3, 64, 64].```\n",
    "\n",
    "We can fix this for a single image using ```test_image.unsqueeze(dim=0)``` to add an extra dimension for ```N```."
   ]
  },
  {
   "cell_type": "code",
   "execution_count": 33,
   "id": "077709d6",
   "metadata": {
    "execution": {
     "iopub.execute_input": "2025-06-26T19:22:16.976693Z",
     "iopub.status.busy": "2025-06-26T19:22:16.976404Z",
     "iopub.status.idle": "2025-06-26T19:22:16.982948Z",
     "shell.execute_reply": "2025-06-26T19:22:16.982152Z"
    },
    "papermill": {
     "duration": 0.025851,
     "end_time": "2025-06-26T19:22:16.984336",
     "exception": false,
     "start_time": "2025-06-26T19:22:16.958485",
     "status": "completed"
    },
    "tags": []
   },
   "outputs": [
    {
     "data": {
      "text/plain": [
       "torch.Size([1, 10, 62, 62])"
      ]
     },
     "execution_count": 33,
     "metadata": {},
     "output_type": "execute_result"
    }
   ],
   "source": [
    "img.shape\n",
    "img.unsqueeze(0).shape\n",
    "\n",
    "conv_layer(img.unsqueeze(0)).shape\n",
    "\n"
   ]
  },
  {
   "cell_type": "markdown",
   "id": "96581524",
   "metadata": {
    "papermill": {
     "duration": 0.01708,
     "end_time": "2025-06-26T19:22:17.018794",
     "exception": false,
     "start_time": "2025-06-26T19:22:17.001714",
     "status": "completed"
    },
    "tags": []
   },
   "source": [
    "Change the value of conv_layer"
   ]
  },
  {
   "cell_type": "code",
   "execution_count": 34,
   "id": "64d2bcc4",
   "metadata": {
    "execution": {
     "iopub.execute_input": "2025-06-26T19:22:17.055005Z",
     "iopub.status.busy": "2025-06-26T19:22:17.054670Z",
     "iopub.status.idle": "2025-06-26T19:22:17.128221Z",
     "shell.execute_reply": "2025-06-26T19:22:17.127316Z"
    },
    "papermill": {
     "duration": 0.092981,
     "end_time": "2025-06-26T19:22:17.129663",
     "exception": false,
     "start_time": "2025-06-26T19:22:17.036682",
     "status": "completed"
    },
    "tags": []
   },
   "outputs": [
    {
     "data": {
      "text/plain": [
       "(torch.Size([3, 64, 64]), torch.Size([1, 10, 60, 60]))"
      ]
     },
     "execution_count": 34,
     "metadata": {},
     "output_type": "execute_result"
    }
   ],
   "source": [
    "torch.manual_seed(42)\n",
    "\n",
    "image=torch.randn(size=(32,3,64,64))\n",
    "img=image[0]\n",
    "conv_layer_2=nn.Conv2d(\n",
    "    in_channels=3,\n",
    "    out_channels=10,\n",
    "    kernel_size=5,\n",
    "    stride=1,\n",
    "    padding=0 \n",
    ")\n",
    "img.shape,conv_layer_2(img.unsqueeze(dim=0)).shape\n"
   ]
  },
  {
   "cell_type": "code",
   "execution_count": 35,
   "id": "e23a4b6d",
   "metadata": {
    "execution": {
     "iopub.execute_input": "2025-06-26T19:22:17.166441Z",
     "iopub.status.busy": "2025-06-26T19:22:17.166107Z",
     "iopub.status.idle": "2025-06-26T19:22:17.171885Z",
     "shell.execute_reply": "2025-06-26T19:22:17.171150Z"
    },
    "papermill": {
     "duration": 0.025323,
     "end_time": "2025-06-26T19:22:17.173368",
     "exception": false,
     "start_time": "2025-06-26T19:22:17.148045",
     "status": "completed"
    },
    "tags": []
   },
   "outputs": [
    {
     "data": {
      "text/plain": [
       "(torch.Size([10, 3, 5, 5]), torch.Size([10]))"
      ]
     },
     "execution_count": 35,
     "metadata": {},
     "output_type": "execute_result"
    }
   ],
   "source": [
    "conv_layer_2.weight.shape, conv_layer_2.bias.shape"
   ]
  },
  {
   "cell_type": "code",
   "execution_count": 36,
   "id": "2f618634",
   "metadata": {
    "execution": {
     "iopub.execute_input": "2025-06-26T19:22:17.210219Z",
     "iopub.status.busy": "2025-06-26T19:22:17.209823Z",
     "iopub.status.idle": "2025-06-26T19:22:17.225340Z",
     "shell.execute_reply": "2025-06-26T19:22:17.224343Z"
    },
    "papermill": {
     "duration": 0.036027,
     "end_time": "2025-06-26T19:22:17.226911",
     "exception": false,
     "start_time": "2025-06-26T19:22:17.190884",
     "status": "completed"
    },
    "tags": []
   },
   "outputs": [
    {
     "data": {
      "text/plain": [
       "OrderedDict([('weight',\n",
       "              tensor([[[[-0.0588, -0.0559, -0.0394,  0.0326,  0.0167],\n",
       "                        [-0.0030, -0.0635,  0.0444,  0.0999, -0.1097],\n",
       "                        [-0.0050,  0.0225, -0.1087, -0.0346, -0.0486],\n",
       "                        [-0.0729, -0.0632,  0.0094,  0.0145,  0.1017],\n",
       "                        [ 0.0373, -0.0229, -0.0895, -0.1048,  0.0825]],\n",
       "              \n",
       "                       [[-0.0168, -0.0695, -0.0360, -0.0689,  0.0982],\n",
       "                        [-0.0821,  0.0309,  0.0390, -0.0527,  0.1034],\n",
       "                        [ 0.0160,  0.0223, -0.1150,  0.0393, -0.1148],\n",
       "                        [-0.0109,  0.0995,  0.0153,  0.0118,  0.0804],\n",
       "                        [-0.0927, -0.0541, -0.0824, -0.0480, -0.0271]],\n",
       "              \n",
       "                       [[ 0.0685,  0.0025,  0.0266, -0.0628, -0.1127],\n",
       "                        [-0.0248, -0.0883,  0.0273,  0.0500,  0.0844],\n",
       "                        [-0.0216,  0.0067, -0.0454, -0.0103, -0.0227],\n",
       "                        [ 0.0441,  0.0614,  0.0410, -0.0468,  0.0738],\n",
       "                        [ 0.0351, -0.0768,  0.0793,  0.0557, -0.0425]]],\n",
       "              \n",
       "              \n",
       "                      [[[-0.0126,  0.0634, -0.1100,  0.1099,  0.1006],\n",
       "                        [ 0.1063, -0.1015,  0.0070, -0.0169, -0.0804],\n",
       "                        [-0.0735,  0.0359,  0.1076,  0.0731, -0.0563],\n",
       "                        [-0.0646, -0.0292, -0.0452, -0.0151, -0.0853],\n",
       "                        [-0.0144, -0.0004,  0.0158,  0.0287, -0.0584]],\n",
       "              \n",
       "                       [[ 0.0181,  0.0718, -0.1147,  0.0423,  0.1092],\n",
       "                        [-0.0122,  0.1032,  0.0139,  0.0068,  0.0899],\n",
       "                        [-0.0610,  0.0095,  0.0031, -0.0297,  0.1133],\n",
       "                        [-0.0452,  0.0750,  0.0541, -0.0445,  0.0166],\n",
       "                        [-0.0044,  0.0408,  0.0598, -0.0167, -0.0063]],\n",
       "              \n",
       "                       [[ 0.0997,  0.0253,  0.0283, -0.0050,  0.1082],\n",
       "                        [ 0.0706,  0.0469, -0.0823, -0.0059, -0.0434],\n",
       "                        [-0.0239, -0.0134, -0.0212, -0.0636, -0.0272],\n",
       "                        [-0.0033, -0.0568, -0.0420, -0.0209,  0.0663],\n",
       "                        [ 0.0138,  0.0345,  0.0863,  0.0636, -0.0394]]],\n",
       "              \n",
       "              \n",
       "                      [[[-0.0598,  0.0154, -0.1033, -0.0662, -0.0921],\n",
       "                        [ 0.0591,  0.0122, -0.0869, -0.0961, -0.0832],\n",
       "                        [ 0.1035,  0.0255,  0.1130, -0.0098,  0.0478],\n",
       "                        [-0.0982,  0.0758,  0.0916,  0.0290,  0.1092],\n",
       "                        [ 0.0944, -0.0137, -0.0337,  0.0224, -0.0609]],\n",
       "              \n",
       "                       [[ 0.0628,  0.0139,  0.0799, -0.0437,  0.0744],\n",
       "                        [-0.1044, -0.0868, -0.0507, -0.1011,  0.0034],\n",
       "                        [-0.0742, -0.0917, -0.0682, -0.0336,  0.0577],\n",
       "                        [ 0.0496,  0.0461,  0.0342, -0.0931, -0.0177],\n",
       "                        [-0.0896,  0.0815,  0.0794,  0.0178,  0.0461]],\n",
       "              \n",
       "                       [[-0.0673, -0.0482, -0.0875, -0.0027, -0.0354],\n",
       "                        [-0.0235,  0.0715, -0.1023, -0.1132, -0.0844],\n",
       "                        [ 0.0966, -0.0493,  0.1135, -0.0777, -0.1052],\n",
       "                        [-0.0441, -0.0691,  0.0985, -0.0182,  0.0932],\n",
       "                        [ 0.0204, -0.0013,  0.0408, -0.1046, -0.0989]]],\n",
       "              \n",
       "              \n",
       "                      [[[ 0.0159, -0.0152, -0.0543,  0.0151,  0.0929],\n",
       "                        [-0.0670,  0.1092,  0.0391,  0.1070,  0.0693],\n",
       "                        [ 0.0026, -0.0528,  0.0216, -0.0159,  0.0796],\n",
       "                        [-0.0505,  0.0039,  0.0365,  0.0155,  0.0626],\n",
       "                        [-0.0678,  0.0612, -0.0595,  0.0111,  0.0837]],\n",
       "              \n",
       "                       [[ 0.0419,  0.0622,  0.0728, -0.0456,  0.0883],\n",
       "                        [ 0.0973, -0.0608,  0.0908, -0.1115, -0.0925],\n",
       "                        [-0.0729,  0.0359,  0.0031,  0.0682, -0.0640],\n",
       "                        [-0.0761,  0.1000, -0.0082, -0.0782,  0.0935],\n",
       "                        [-0.0097, -0.0127,  0.0681,  0.0271, -0.0161]],\n",
       "              \n",
       "                       [[-0.0570, -0.0654,  0.0871, -0.0514, -0.0530],\n",
       "                        [ 0.0866,  0.0745, -0.1121, -0.0582, -0.1143],\n",
       "                        [ 0.0624,  0.0621,  0.0549, -0.0324,  0.0742],\n",
       "                        [ 0.0553, -0.0306, -0.0376,  0.0070, -0.0838],\n",
       "                        [-0.0812, -0.0349,  0.0275, -0.0764,  0.0397]]],\n",
       "              \n",
       "              \n",
       "                      [[[ 0.0536, -0.1140,  0.0113, -0.0300,  0.0053],\n",
       "                        [-0.0713,  0.0405, -0.0324, -0.1004, -0.0004],\n",
       "                        [-0.0422,  0.0261, -0.0725,  0.0880,  0.0665],\n",
       "                        [ 0.1038, -0.1060,  0.0881,  0.0448, -0.0145],\n",
       "                        [-0.0541, -0.0341,  0.0853, -0.0367, -0.0418]],\n",
       "              \n",
       "                       [[ 0.0419,  0.0308,  0.0713,  0.0991,  0.0804],\n",
       "                        [-0.0126,  0.0699,  0.0485, -0.0590, -0.0076],\n",
       "                        [-0.0576, -0.0460, -0.0610,  0.0800, -0.0100],\n",
       "                        [ 0.0021, -0.1146, -0.0915,  0.1101,  0.0124],\n",
       "                        [-0.0877, -0.0233,  0.0179,  0.0600, -0.0551]],\n",
       "              \n",
       "                       [[ 0.0233,  0.0898,  0.0733, -0.0758, -0.0088],\n",
       "                        [ 0.0995,  0.0330,  0.1142, -0.1148,  0.0551],\n",
       "                        [ 0.0737, -0.0232, -0.0310,  0.0301,  0.0848],\n",
       "                        [ 0.0042,  0.0294, -0.0503, -0.0023, -0.0627],\n",
       "                        [-0.0915, -0.0018,  0.0129,  0.0666, -0.0997]]],\n",
       "              \n",
       "              \n",
       "                      [[[ 0.0866, -0.1064,  0.0327, -0.0478,  0.0870],\n",
       "                        [ 0.0654,  0.0236, -0.0827,  0.0662,  0.0550],\n",
       "                        [ 0.0447,  0.0488, -0.0561, -0.0234,  0.0705],\n",
       "                        [ 0.1053, -0.0808, -0.0931,  0.1088,  0.0153],\n",
       "                        [ 0.0533, -0.0461,  0.0980, -0.0992, -0.0677]],\n",
       "              \n",
       "                       [[-0.0841,  0.0088,  0.0502, -0.0649, -0.0728],\n",
       "                        [ 0.0927, -0.0406,  0.0844, -0.0688,  0.0365],\n",
       "                        [ 0.0420, -0.0363,  0.0423, -0.0623, -0.0850],\n",
       "                        [-0.0028,  0.1092, -0.0998, -0.0750,  0.0231],\n",
       "                        [-0.1082,  0.0437, -0.0514, -0.0919,  0.0748]],\n",
       "              \n",
       "                       [[-0.0502,  0.0781, -0.0814, -0.1144, -0.0172],\n",
       "                        [ 0.0004, -0.0204,  0.0892,  0.0890,  0.0371],\n",
       "                        [-0.0832, -0.0454, -0.0168, -0.0863,  0.0580],\n",
       "                        [ 0.0718,  0.0632,  0.0042, -0.0591,  0.0596],\n",
       "                        [-0.0868, -0.0303,  0.0083, -0.0752, -0.0239]]],\n",
       "              \n",
       "              \n",
       "                      [[[ 0.0897,  0.0042,  0.0255, -0.0993, -0.0288],\n",
       "                        [ 0.0547,  0.1016,  0.0841, -0.0015,  0.0833],\n",
       "                        [ 0.0576, -0.0754, -0.0140,  0.0833,  0.0872],\n",
       "                        [-0.0682, -0.0739, -0.0244,  0.0290,  0.1073],\n",
       "                        [-0.1079, -0.0846, -0.0095,  0.0777, -0.0269]],\n",
       "              \n",
       "                       [[-0.0608,  0.0063, -0.0118,  0.0533,  0.0067],\n",
       "                        [ 0.0307, -0.0011,  0.0184,  0.0550,  0.0693],\n",
       "                        [-0.1132,  0.0507, -0.0761, -0.1069,  0.0443],\n",
       "                        [-0.0423,  0.0566, -0.1001,  0.0690, -0.0901],\n",
       "                        [ 0.0273,  0.0236,  0.0927, -0.1057,  0.0940]],\n",
       "              \n",
       "                       [[ 0.0767,  0.0024, -0.1127,  0.0348, -0.0459],\n",
       "                        [ 0.0519,  0.0262, -0.0919,  0.0226,  0.0787],\n",
       "                        [ 0.0509,  0.0216,  0.0354, -0.0460, -0.0422],\n",
       "                        [-0.0920,  0.0050, -0.0478,  0.0595, -0.0913],\n",
       "                        [-0.0692,  0.0043, -0.0242,  0.0166, -0.0146]]],\n",
       "              \n",
       "              \n",
       "                      [[[-0.0666,  0.0067, -0.0396, -0.0329,  0.0901],\n",
       "                        [-0.0048,  0.0855,  0.0905,  0.1121, -0.0714],\n",
       "                        [ 0.0063, -0.0619,  0.1103,  0.0755, -0.1109],\n",
       "                        [ 0.0388,  0.0072,  0.0086, -0.0212,  0.0397],\n",
       "                        [-0.1092, -0.0804, -0.0988,  0.1131,  0.0309]],\n",
       "              \n",
       "                       [[-0.0180, -0.0660,  0.0086,  0.0033, -0.0661],\n",
       "                        [ 0.0277,  0.0352, -0.0239, -0.0207,  0.0471],\n",
       "                        [ 0.1082,  0.0880, -0.0905,  0.0831, -0.1117],\n",
       "                        [ 0.0446, -0.0558, -0.0395,  0.1014,  0.0202],\n",
       "                        [ 0.0521,  0.0517, -0.0153,  0.0905, -0.0650]],\n",
       "              \n",
       "                       [[-0.0959, -0.0107,  0.0833,  0.1132, -0.0176],\n",
       "                        [-0.1133,  0.0219, -0.0443, -0.0911, -0.0268],\n",
       "                        [-0.0947,  0.0024, -0.0381,  0.0809,  0.0834],\n",
       "                        [ 0.0825, -0.0586, -0.0719, -0.0066,  0.0112],\n",
       "                        [ 0.0362,  0.0025, -0.0187, -0.0163, -0.1084]]],\n",
       "              \n",
       "              \n",
       "                      [[[-0.0872,  0.0734,  0.0115,  0.1117, -0.1097],\n",
       "                        [-0.0357,  0.0537,  0.0330, -0.0192,  0.1117],\n",
       "                        [-0.0435, -0.0943,  0.1058,  0.1100, -0.0641],\n",
       "                        [ 0.0268,  0.0119, -0.1034,  0.0316, -0.1143],\n",
       "                        [ 0.0962,  0.0903, -0.0160, -0.0982, -0.0782]],\n",
       "              \n",
       "                       [[ 0.0366,  0.0360, -0.0382,  0.1063,  0.0205],\n",
       "                        [-0.0023,  0.0407,  0.0911, -0.0673, -0.0236],\n",
       "                        [ 0.1043,  0.0011, -0.0709,  0.1068, -0.0889],\n",
       "                        [-0.0354, -0.0997, -0.1041, -0.0145,  0.0978],\n",
       "                        [ 0.0782, -0.0797, -0.0626,  0.0729,  0.0020]],\n",
       "              \n",
       "                       [[-0.1029,  0.0425, -0.0017,  0.0913, -0.1132],\n",
       "                        [ 0.0647, -0.0680, -0.0760,  0.0983, -0.0241],\n",
       "                        [-0.1152, -0.0608,  0.0537,  0.0506, -0.1154],\n",
       "                        [-0.0221, -0.0310,  0.0974,  0.1145, -0.1063],\n",
       "                        [-0.1072, -0.0663, -0.0348,  0.0492, -0.0593]]],\n",
       "              \n",
       "              \n",
       "                      [[[-0.0089,  0.0613, -0.0715,  0.0516, -0.0833],\n",
       "                        [ 0.0535, -0.0369, -0.0978,  0.0941, -0.0416],\n",
       "                        [ 0.0492,  0.1147, -0.0563, -0.0193, -0.0662],\n",
       "                        [ 0.0540, -0.0978,  0.0676, -0.0402,  0.0126],\n",
       "                        [-0.0183, -0.0870,  0.0730,  0.0645, -0.0793]],\n",
       "              \n",
       "                       [[ 0.0342,  0.0345,  0.0558, -0.0995,  0.0164],\n",
       "                        [ 0.0140,  0.1001,  0.0429, -0.1017,  0.1087],\n",
       "                        [ 0.0690,  0.0377, -0.0806,  0.0354, -0.0453],\n",
       "                        [ 0.0850,  0.1115, -0.0353, -0.0335,  0.1003],\n",
       "                        [-0.0336,  0.0034, -0.0962,  0.1046,  0.0503]],\n",
       "              \n",
       "                       [[ 0.1093, -0.0359,  0.0647,  0.1115,  0.0324],\n",
       "                        [ 0.0841,  0.0313, -0.0499, -0.0090, -0.0881],\n",
       "                        [ 0.0444,  0.0436,  0.1022,  0.1106, -0.0463],\n",
       "                        [-0.0641,  0.0831, -0.1096, -0.0993,  0.0851],\n",
       "                        [-0.0879,  0.0680,  0.0139,  0.0450,  0.0284]]]])),\n",
       "             ('bias',\n",
       "              tensor([-0.0974, -0.0351, -0.0613,  0.0891,  0.0041,  0.0493, -0.0332,  0.0818,\n",
       "                       0.0827, -0.0394]))])"
      ]
     },
     "execution_count": 36,
     "metadata": {},
     "output_type": "execute_result"
    }
   ],
   "source": [
    "conv_layer_2.state_dict()"
   ]
  },
  {
   "cell_type": "markdown",
   "id": "4c5ed89b",
   "metadata": {
    "papermill": {
     "duration": 0.017133,
     "end_time": "2025-06-26T19:22:17.261747",
     "exception": false,
     "start_time": "2025-06-26T19:22:17.244614",
     "status": "completed"
    },
    "tags": []
   },
   "source": [
    "Using ```nn.MaxPool2d()```"
   ]
  },
  {
   "cell_type": "code",
   "execution_count": 37,
   "id": "c5232a4f",
   "metadata": {
    "execution": {
     "iopub.execute_input": "2025-06-26T19:22:17.299436Z",
     "iopub.status.busy": "2025-06-26T19:22:17.298807Z",
     "iopub.status.idle": "2025-06-26T19:22:17.314279Z",
     "shell.execute_reply": "2025-06-26T19:22:17.313094Z"
    },
    "papermill": {
     "duration": 0.035601,
     "end_time": "2025-06-26T19:22:17.315688",
     "exception": false,
     "start_time": "2025-06-26T19:22:17.280087",
     "status": "completed"
    },
    "tags": []
   },
   "outputs": [
    {
     "name": "stdout",
     "output_type": "stream",
     "text": [
      "Original Image Shape torch.Size([3, 64, 64]) \n",
      "Image after unsqueeze torch.Size([1, 3, 64, 64]) \n",
      "shape after going through conv_2d torch.Size([1, 10, 60, 60])\n",
      "shape after going through conv_2d and max pool both torch.Size([1, 10, 30, 30])\n"
     ]
    }
   ],
   "source": [
    "torch.manual_seed(42)\n",
    "\n",
    "image=torch.randn(size=(32,3,64,64))\n",
    "\n",
    "test_img=image[0]\n",
    "\n",
    "print(f\"Original Image Shape {test_img.shape} \")\n",
    "print(f\"Image after unsqueeze {test_img.unsqueeze(dim=0).shape} \")\n",
    "\n",
    "max_pool_layer=nn.MaxPool2d(kernel_size=2)\n",
    "\n",
    "#pass data through conv_layer\n",
    "\n",
    "test_img_in_conv=conv_layer_2(test_img.unsqueeze(dim=0))\n",
    "print(f\"shape after going through conv_2d {test_img_in_conv.shape}\")\n",
    "\n",
    "img_after_going_maxpool=max_pool_layer(test_img_in_conv)\n",
    "\n",
    "print(f\"shape after going through conv_2d and max pool both {img_after_going_maxpool.shape}\")\n"
   ]
  },
  {
   "cell_type": "markdown",
   "id": "bec5f2b3",
   "metadata": {
    "papermill": {
     "duration": 0.01697,
     "end_time": "2025-06-26T19:22:17.350264",
     "exception": false,
     "start_time": "2025-06-26T19:22:17.333294",
     "status": "completed"
    },
    "tags": []
   },
   "source": [
    "change the value of kernel size "
   ]
  },
  {
   "cell_type": "code",
   "execution_count": 38,
   "id": "17a0643d",
   "metadata": {
    "execution": {
     "iopub.execute_input": "2025-06-26T19:22:17.386086Z",
     "iopub.status.busy": "2025-06-26T19:22:17.385685Z",
     "iopub.status.idle": "2025-06-26T19:22:17.395173Z",
     "shell.execute_reply": "2025-06-26T19:22:17.394003Z"
    },
    "papermill": {
     "duration": 0.02956,
     "end_time": "2025-06-26T19:22:17.396974",
     "exception": false,
     "start_time": "2025-06-26T19:22:17.367414",
     "status": "completed"
    },
    "tags": []
   },
   "outputs": [
    {
     "name": "stdout",
     "output_type": "stream",
     "text": [
      "tensor([[[[0.2454, 0.2577, 0.3294, 0.6409, 0.5724, 0.4869],\n",
      "          [0.2252, 0.6921, 0.9325, 0.0251, 0.4783, 0.5975],\n",
      "          [0.0293, 0.3503, 0.2894, 0.1845, 0.2265, 0.5407],\n",
      "          [0.5630, 0.9405, 0.6614, 0.4008, 0.1126, 0.0461],\n",
      "          [0.8573, 0.4271, 0.1989, 0.3442, 0.2018, 0.9252],\n",
      "          [0.1443, 0.6340, 0.6687, 0.2718, 0.9479, 0.5692],\n",
      "          [0.5966, 0.0021, 0.6703, 0.0031, 0.4526, 0.9308],\n",
      "          [0.5661, 0.5512, 0.8481, 0.0988, 0.2659, 0.1434]]]])\n"
     ]
    },
    {
     "data": {
      "text/plain": [
       "torch.Size([1, 1, 4, 3])"
      ]
     },
     "execution_count": 38,
     "metadata": {},
     "output_type": "execute_result"
    }
   ],
   "source": [
    "# torch.manual_seed(42)\n",
    "\n",
    "img=torch.rand(size=(1,1,8,6))\n",
    "print(img)\n",
    "\n",
    "max_pool=nn.MaxPool2d(kernel_size=2)\n",
    "\n",
    "max_pool_pixel=max_pool(img)\n",
    "max_pool_pixel.shape"
   ]
  },
  {
   "cell_type": "markdown",
   "id": "7a755fd0",
   "metadata": {
    "papermill": {
     "duration": 0.017499,
     "end_time": "2025-06-26T19:22:17.432241",
     "exception": false,
     "start_time": "2025-06-26T19:22:17.414742",
     "status": "completed"
    },
    "tags": []
   },
   "source": [
    "Create A Model for Convolution\n"
   ]
  },
  {
   "cell_type": "code",
   "execution_count": 39,
   "id": "b2c7f0ad",
   "metadata": {
    "execution": {
     "iopub.execute_input": "2025-06-26T19:22:17.470131Z",
     "iopub.status.busy": "2025-06-26T19:22:17.469055Z",
     "iopub.status.idle": "2025-06-26T19:22:17.483987Z",
     "shell.execute_reply": "2025-06-26T19:22:17.482914Z"
    },
    "papermill": {
     "duration": 0.035919,
     "end_time": "2025-06-26T19:22:17.485698",
     "exception": false,
     "start_time": "2025-06-26T19:22:17.449779",
     "status": "completed"
    },
    "tags": []
   },
   "outputs": [
    {
     "data": {
      "text/plain": [
       "FashionMNISTModelV2(\n",
       "  (block_1): Sequential(\n",
       "    (0): Conv2d(1, 10, kernel_size=(3, 3), stride=(1, 1), padding=(1, 1))\n",
       "    (1): ReLU()\n",
       "    (2): Conv2d(10, 10, kernel_size=(3, 3), stride=(1, 1), padding=(1, 1))\n",
       "    (3): ReLU()\n",
       "    (4): MaxPool2d(kernel_size=2, stride=2, padding=0, dilation=1, ceil_mode=False)\n",
       "  )\n",
       "  (block_2): Sequential(\n",
       "    (0): Conv2d(10, 10, kernel_size=(3, 3), stride=(1, 1), padding=(1, 1))\n",
       "    (1): ReLU()\n",
       "    (2): Conv2d(10, 10, kernel_size=(3, 3), stride=(1, 1), padding=(1, 1))\n",
       "    (3): ReLU()\n",
       "    (4): MaxPool2d(kernel_size=2, stride=2, padding=0, dilation=1, ceil_mode=False)\n",
       "  )\n",
       "  (classifier): Sequential(\n",
       "    (0): Flatten(start_dim=1, end_dim=-1)\n",
       "    (1): Linear(in_features=490, out_features=10, bias=True)\n",
       "  )\n",
       ")"
      ]
     },
     "execution_count": 39,
     "metadata": {},
     "output_type": "execute_result"
    }
   ],
   "source": [
    "class FashionMNISTModelV2(nn.Module):\n",
    "    \"\"\"\n",
    "    Model architecture copying TinyVGG from: \n",
    "    https://poloclub.github.io/cnn-explainer/\n",
    "    \"\"\"\n",
    "    def __init__(self, input_shape: int, hidden_units: int, output_shape: int):\n",
    "        super().__init__()\n",
    "        self.block_1 = nn.Sequential(\n",
    "            nn.Conv2d(in_channels=input_shape, \n",
    "                      out_channels=hidden_units, \n",
    "                      kernel_size=3, # how big is the square that's going over the image?\n",
    "                      stride=1, # default\n",
    "                      padding=1),# options = \"valid\" (no padding) or \"same\" (output has same shape as input) or int for specific number \n",
    "            nn.ReLU(),\n",
    "            nn.Conv2d(in_channels=hidden_units, \n",
    "                      out_channels=hidden_units,\n",
    "                      kernel_size=3,\n",
    "                      stride=1,\n",
    "                      padding=1),\n",
    "            nn.ReLU(),\n",
    "            nn.MaxPool2d(kernel_size=2,\n",
    "                         stride=2) # default stride value is same as kernel_size\n",
    "        )\n",
    "        self.block_2 = nn.Sequential(\n",
    "            nn.Conv2d(hidden_units, hidden_units, 3, padding=1),\n",
    "            nn.ReLU(),\n",
    "            nn.Conv2d(hidden_units, hidden_units, 3, padding=1),\n",
    "            nn.ReLU(),\n",
    "            nn.MaxPool2d(2)\n",
    "        )\n",
    "        self.classifier = nn.Sequential(\n",
    "            nn.Flatten(),\n",
    "            # Where did this in_features shape come from? \n",
    "            # It's because each layer of our network compresses and changes the shape of our input data.\n",
    "            nn.Linear(in_features=hidden_units*7*7, \n",
    "                      out_features=output_shape)\n",
    "        )\n",
    "    \n",
    "    def forward(self, x: torch.Tensor):\n",
    "        x = self.block_1(x)\n",
    "        # print(x.shape)\n",
    "        x = self.block_2(x)\n",
    "        # print(x.shape)\n",
    "        x = self.classifier(x)\n",
    "        # print(x.shape)\n",
    "        return x\n",
    "\n",
    "torch.manual_seed(42)\n",
    "model_2 = FashionMNISTModelV2(input_shape=1, \n",
    "    hidden_units=10, \n",
    "    output_shape=len(class_name)).to(device)\n",
    "model_2"
   ]
  },
  {
   "cell_type": "markdown",
   "id": "c39dae91",
   "metadata": {
    "papermill": {
     "duration": 0.017545,
     "end_time": "2025-06-26T19:22:17.521113",
     "exception": false,
     "start_time": "2025-06-26T19:22:17.503568",
     "status": "completed"
    },
    "tags": []
   },
   "source": [
    "Set Loss Function"
   ]
  },
  {
   "cell_type": "code",
   "execution_count": 40,
   "id": "8a6c9262",
   "metadata": {
    "execution": {
     "iopub.execute_input": "2025-06-26T19:22:17.558033Z",
     "iopub.status.busy": "2025-06-26T19:22:17.557703Z",
     "iopub.status.idle": "2025-06-26T19:22:17.562511Z",
     "shell.execute_reply": "2025-06-26T19:22:17.561776Z"
    },
    "papermill": {
     "duration": 0.025386,
     "end_time": "2025-06-26T19:22:17.564153",
     "exception": false,
     "start_time": "2025-06-26T19:22:17.538767",
     "status": "completed"
    },
    "tags": []
   },
   "outputs": [],
   "source": [
    "loss_fn=nn.CrossEntropyLoss()\n",
    "\n",
    "optimizer=torch.optim.SGD(params=model_2.parameters(), lr=0.01)\n",
    "\n"
   ]
  },
  {
   "cell_type": "code",
   "execution_count": null,
   "id": "53207753",
   "metadata": {
    "papermill": {
     "duration": 0.017853,
     "end_time": "2025-06-26T19:22:17.600309",
     "exception": false,
     "start_time": "2025-06-26T19:22:17.582456",
     "status": "completed"
    },
    "tags": []
   },
   "outputs": [],
   "source": []
  },
  {
   "cell_type": "code",
   "execution_count": null,
   "id": "6ccace3a",
   "metadata": {
    "papermill": {
     "duration": 0.017375,
     "end_time": "2025-06-26T19:22:17.635584",
     "exception": false,
     "start_time": "2025-06-26T19:22:17.618209",
     "status": "completed"
    },
    "tags": []
   },
   "outputs": [],
   "source": []
  }
 ],
 "metadata": {
  "kaggle": {
   "accelerator": "none",
   "dataSources": [],
   "dockerImageVersionId": 31040,
   "isGpuEnabled": false,
   "isInternetEnabled": true,
   "language": "python",
   "sourceType": "notebook"
  },
  "kernelspec": {
   "display_name": "Python 3",
   "language": "python",
   "name": "python3"
  },
  "language_info": {
   "codemirror_mode": {
    "name": "ipython",
    "version": 3
   },
   "file_extension": ".py",
   "mimetype": "text/x-python",
   "name": "python",
   "nbconvert_exporter": "python",
   "pygments_lexer": "ipython3",
   "version": "3.11.11"
  },
  "papermill": {
   "default_parameters": {},
   "duration": 125.267416,
   "end_time": "2025-06-26T19:22:20.848696",
   "environment_variables": {},
   "exception": null,
   "input_path": "__notebook__.ipynb",
   "output_path": "__notebook__.ipynb",
   "parameters": {},
   "start_time": "2025-06-26T19:20:15.581280",
   "version": "2.6.0"
  },
  "widgets": {
   "application/vnd.jupyter.widget-state+json": {
    "state": {
     "0372f3db926148c39c1846a998f99d50": {
      "model_module": "@jupyter-widgets/controls",
      "model_module_version": "2.0.0",
      "model_name": "ProgressStyleModel",
      "state": {
       "_model_module": "@jupyter-widgets/controls",
       "_model_module_version": "2.0.0",
       "_model_name": "ProgressStyleModel",
       "_view_count": null,
       "_view_module": "@jupyter-widgets/base",
       "_view_module_version": "2.0.0",
       "_view_name": "StyleView",
       "bar_color": null,
       "description_width": ""
      }
     },
     "08972b8a103b4c978494af2cd511eb86": {
      "model_module": "@jupyter-widgets/base",
      "model_module_version": "2.0.0",
      "model_name": "LayoutModel",
      "state": {
       "_model_module": "@jupyter-widgets/base",
       "_model_module_version": "2.0.0",
       "_model_name": "LayoutModel",
       "_view_count": null,
       "_view_module": "@jupyter-widgets/base",
       "_view_module_version": "2.0.0",
       "_view_name": "LayoutView",
       "align_content": null,
       "align_items": null,
       "align_self": null,
       "border_bottom": null,
       "border_left": null,
       "border_right": null,
       "border_top": null,
       "bottom": null,
       "display": null,
       "flex": null,
       "flex_flow": null,
       "grid_area": null,
       "grid_auto_columns": null,
       "grid_auto_flow": null,
       "grid_auto_rows": null,
       "grid_column": null,
       "grid_gap": null,
       "grid_row": null,
       "grid_template_areas": null,
       "grid_template_columns": null,
       "grid_template_rows": null,
       "height": null,
       "justify_content": null,
       "justify_items": null,
       "left": null,
       "margin": null,
       "max_height": null,
       "max_width": null,
       "min_height": null,
       "min_width": null,
       "object_fit": null,
       "object_position": null,
       "order": null,
       "overflow": null,
       "padding": null,
       "right": null,
       "top": null,
       "visibility": null,
       "width": "20px"
      }
     },
     "0e6ed976fbe74378ba2f58fb81bc4d6a": {
      "model_module": "@jupyter-widgets/base",
      "model_module_version": "2.0.0",
      "model_name": "LayoutModel",
      "state": {
       "_model_module": "@jupyter-widgets/base",
       "_model_module_version": "2.0.0",
       "_model_name": "LayoutModel",
       "_view_count": null,
       "_view_module": "@jupyter-widgets/base",
       "_view_module_version": "2.0.0",
       "_view_name": "LayoutView",
       "align_content": null,
       "align_items": null,
       "align_self": null,
       "border_bottom": null,
       "border_left": null,
       "border_right": null,
       "border_top": null,
       "bottom": null,
       "display": null,
       "flex": null,
       "flex_flow": null,
       "grid_area": null,
       "grid_auto_columns": null,
       "grid_auto_flow": null,
       "grid_auto_rows": null,
       "grid_column": null,
       "grid_gap": null,
       "grid_row": null,
       "grid_template_areas": null,
       "grid_template_columns": null,
       "grid_template_rows": null,
       "height": null,
       "justify_content": null,
       "justify_items": null,
       "left": null,
       "margin": null,
       "max_height": null,
       "max_width": null,
       "min_height": null,
       "min_width": null,
       "object_fit": null,
       "object_position": null,
       "order": null,
       "overflow": null,
       "padding": null,
       "right": null,
       "top": null,
       "visibility": null,
       "width": null
      }
     },
     "10c91f04344742e4b434754b781a6688": {
      "model_module": "@jupyter-widgets/controls",
      "model_module_version": "2.0.0",
      "model_name": "HTMLModel",
      "state": {
       "_dom_classes": [],
       "_model_module": "@jupyter-widgets/controls",
       "_model_module_version": "2.0.0",
       "_model_name": "HTMLModel",
       "_view_count": null,
       "_view_module": "@jupyter-widgets/controls",
       "_view_module_version": "2.0.0",
       "_view_name": "HTMLView",
       "description": "",
       "description_allow_html": false,
       "layout": "IPY_MODEL_202711562cbf456a8f04612a1fe41dca",
       "placeholder": "​",
       "style": "IPY_MODEL_1fc19f93fb4c46268cf3446691d49320",
       "tabbable": null,
       "tooltip": null,
       "value": " 1875/? [00:08&lt;00:00, 200.89it/s]"
      }
     },
     "120acfc032794c91bffaffb9fdf4743e": {
      "model_module": "@jupyter-widgets/base",
      "model_module_version": "2.0.0",
      "model_name": "LayoutModel",
      "state": {
       "_model_module": "@jupyter-widgets/base",
       "_model_module_version": "2.0.0",
       "_model_name": "LayoutModel",
       "_view_count": null,
       "_view_module": "@jupyter-widgets/base",
       "_view_module_version": "2.0.0",
       "_view_name": "LayoutView",
       "align_content": null,
       "align_items": null,
       "align_self": null,
       "border_bottom": null,
       "border_left": null,
       "border_right": null,
       "border_top": null,
       "bottom": null,
       "display": null,
       "flex": null,
       "flex_flow": null,
       "grid_area": null,
       "grid_auto_columns": null,
       "grid_auto_flow": null,
       "grid_auto_rows": null,
       "grid_column": null,
       "grid_gap": null,
       "grid_row": null,
       "grid_template_areas": null,
       "grid_template_columns": null,
       "grid_template_rows": null,
       "height": null,
       "justify_content": null,
       "justify_items": null,
       "left": null,
       "margin": null,
       "max_height": null,
       "max_width": null,
       "min_height": null,
       "min_width": null,
       "object_fit": null,
       "object_position": null,
       "order": null,
       "overflow": null,
       "padding": null,
       "right": null,
       "top": null,
       "visibility": null,
       "width": null
      }
     },
     "1435565a7a7948a38ad506998c4bffb9": {
      "model_module": "@jupyter-widgets/base",
      "model_module_version": "2.0.0",
      "model_name": "LayoutModel",
      "state": {
       "_model_module": "@jupyter-widgets/base",
       "_model_module_version": "2.0.0",
       "_model_name": "LayoutModel",
       "_view_count": null,
       "_view_module": "@jupyter-widgets/base",
       "_view_module_version": "2.0.0",
       "_view_name": "LayoutView",
       "align_content": null,
       "align_items": null,
       "align_self": null,
       "border_bottom": null,
       "border_left": null,
       "border_right": null,
       "border_top": null,
       "bottom": null,
       "display": null,
       "flex": null,
       "flex_flow": null,
       "grid_area": null,
       "grid_auto_columns": null,
       "grid_auto_flow": null,
       "grid_auto_rows": null,
       "grid_column": null,
       "grid_gap": null,
       "grid_row": null,
       "grid_template_areas": null,
       "grid_template_columns": null,
       "grid_template_rows": null,
       "height": null,
       "justify_content": null,
       "justify_items": null,
       "left": null,
       "margin": null,
       "max_height": null,
       "max_width": null,
       "min_height": null,
       "min_width": null,
       "object_fit": null,
       "object_position": null,
       "order": null,
       "overflow": null,
       "padding": null,
       "right": null,
       "top": null,
       "visibility": null,
       "width": null
      }
     },
     "166222e050dc4eb2a68c48fdc1fc0295": {
      "model_module": "@jupyter-widgets/controls",
      "model_module_version": "2.0.0",
      "model_name": "HTMLStyleModel",
      "state": {
       "_model_module": "@jupyter-widgets/controls",
       "_model_module_version": "2.0.0",
       "_model_name": "HTMLStyleModel",
       "_view_count": null,
       "_view_module": "@jupyter-widgets/base",
       "_view_module_version": "2.0.0",
       "_view_name": "StyleView",
       "background": null,
       "description_width": "",
       "font_size": null,
       "text_color": null
      }
     },
     "1b26d70e89614fa49bf26a3a4a6309ec": {
      "model_module": "@jupyter-widgets/base",
      "model_module_version": "2.0.0",
      "model_name": "LayoutModel",
      "state": {
       "_model_module": "@jupyter-widgets/base",
       "_model_module_version": "2.0.0",
       "_model_name": "LayoutModel",
       "_view_count": null,
       "_view_module": "@jupyter-widgets/base",
       "_view_module_version": "2.0.0",
       "_view_name": "LayoutView",
       "align_content": null,
       "align_items": null,
       "align_self": null,
       "border_bottom": null,
       "border_left": null,
       "border_right": null,
       "border_top": null,
       "bottom": null,
       "display": null,
       "flex": null,
       "flex_flow": null,
       "grid_area": null,
       "grid_auto_columns": null,
       "grid_auto_flow": null,
       "grid_auto_rows": null,
       "grid_column": null,
       "grid_gap": null,
       "grid_row": null,
       "grid_template_areas": null,
       "grid_template_columns": null,
       "grid_template_rows": null,
       "height": null,
       "justify_content": null,
       "justify_items": null,
       "left": null,
       "margin": null,
       "max_height": null,
       "max_width": null,
       "min_height": null,
       "min_width": null,
       "object_fit": null,
       "object_position": null,
       "order": null,
       "overflow": null,
       "padding": null,
       "right": null,
       "top": null,
       "visibility": null,
       "width": null
      }
     },
     "1b4cbc9a5c9d4a968e5616e5eccfc613": {
      "model_module": "@jupyter-widgets/controls",
      "model_module_version": "2.0.0",
      "model_name": "FloatProgressModel",
      "state": {
       "_dom_classes": [],
       "_model_module": "@jupyter-widgets/controls",
       "_model_module_version": "2.0.0",
       "_model_name": "FloatProgressModel",
       "_view_count": null,
       "_view_module": "@jupyter-widgets/controls",
       "_view_module_version": "2.0.0",
       "_view_name": "ProgressView",
       "bar_style": "success",
       "description": "",
       "description_allow_html": false,
       "layout": "IPY_MODEL_f9b546ed6dff40be947ecbe35cb892a1",
       "max": 1.0,
       "min": 0.0,
       "orientation": "horizontal",
       "style": "IPY_MODEL_ed1330bea15f4183bf0fddc92c4fd426",
       "tabbable": null,
       "tooltip": null,
       "value": 1.0
      }
     },
     "1bfe4b355a414cd597e39ebe00194615": {
      "model_module": "@jupyter-widgets/controls",
      "model_module_version": "2.0.0",
      "model_name": "HTMLModel",
      "state": {
       "_dom_classes": [],
       "_model_module": "@jupyter-widgets/controls",
       "_model_module_version": "2.0.0",
       "_model_name": "HTMLModel",
       "_view_count": null,
       "_view_module": "@jupyter-widgets/controls",
       "_view_module_version": "2.0.0",
       "_view_name": "HTMLView",
       "description": "",
       "description_allow_html": false,
       "layout": "IPY_MODEL_deec5afda6534a81aca84607983a42b8",
       "placeholder": "​",
       "style": "IPY_MODEL_1fa07e89f9b245ad9c5711784fb8d12d",
       "tabbable": null,
       "tooltip": null,
       "value": "100%"
      }
     },
     "1e41a3e7ab524b1b9b53bcd3bdd28bf4": {
      "model_module": "@jupyter-widgets/controls",
      "model_module_version": "2.0.0",
      "model_name": "HTMLStyleModel",
      "state": {
       "_model_module": "@jupyter-widgets/controls",
       "_model_module_version": "2.0.0",
       "_model_name": "HTMLStyleModel",
       "_view_count": null,
       "_view_module": "@jupyter-widgets/base",
       "_view_module_version": "2.0.0",
       "_view_name": "StyleView",
       "background": null,
       "description_width": "",
       "font_size": null,
       "text_color": null
      }
     },
     "1fa07e89f9b245ad9c5711784fb8d12d": {
      "model_module": "@jupyter-widgets/controls",
      "model_module_version": "2.0.0",
      "model_name": "HTMLStyleModel",
      "state": {
       "_model_module": "@jupyter-widgets/controls",
       "_model_module_version": "2.0.0",
       "_model_name": "HTMLStyleModel",
       "_view_count": null,
       "_view_module": "@jupyter-widgets/base",
       "_view_module_version": "2.0.0",
       "_view_name": "StyleView",
       "background": null,
       "description_width": "",
       "font_size": null,
       "text_color": null
      }
     },
     "1fc19f93fb4c46268cf3446691d49320": {
      "model_module": "@jupyter-widgets/controls",
      "model_module_version": "2.0.0",
      "model_name": "HTMLStyleModel",
      "state": {
       "_model_module": "@jupyter-widgets/controls",
       "_model_module_version": "2.0.0",
       "_model_name": "HTMLStyleModel",
       "_view_count": null,
       "_view_module": "@jupyter-widgets/base",
       "_view_module_version": "2.0.0",
       "_view_name": "StyleView",
       "background": null,
       "description_width": "",
       "font_size": null,
       "text_color": null
      }
     },
     "1fc8a4ab47c44c4bac3e09e1c53df602": {
      "model_module": "@jupyter-widgets/controls",
      "model_module_version": "2.0.0",
      "model_name": "HBoxModel",
      "state": {
       "_dom_classes": [],
       "_model_module": "@jupyter-widgets/controls",
       "_model_module_version": "2.0.0",
       "_model_name": "HBoxModel",
       "_view_count": null,
       "_view_module": "@jupyter-widgets/controls",
       "_view_module_version": "2.0.0",
       "_view_name": "HBoxView",
       "box_style": "",
       "children": [
        "IPY_MODEL_af4a4ffad066460584953102fd9b2c3e",
        "IPY_MODEL_4a47dbc9eabf4c43a651b41bb430d37c",
        "IPY_MODEL_d9e99ca3364e4b55b2aa4773457bfa11"
       ],
       "layout": "IPY_MODEL_b39edf7691694431a5c17f365fecac2d",
       "tabbable": null,
       "tooltip": null
      }
     },
     "202711562cbf456a8f04612a1fe41dca": {
      "model_module": "@jupyter-widgets/base",
      "model_module_version": "2.0.0",
      "model_name": "LayoutModel",
      "state": {
       "_model_module": "@jupyter-widgets/base",
       "_model_module_version": "2.0.0",
       "_model_name": "LayoutModel",
       "_view_count": null,
       "_view_module": "@jupyter-widgets/base",
       "_view_module_version": "2.0.0",
       "_view_name": "LayoutView",
       "align_content": null,
       "align_items": null,
       "align_self": null,
       "border_bottom": null,
       "border_left": null,
       "border_right": null,
       "border_top": null,
       "bottom": null,
       "display": null,
       "flex": null,
       "flex_flow": null,
       "grid_area": null,
       "grid_auto_columns": null,
       "grid_auto_flow": null,
       "grid_auto_rows": null,
       "grid_column": null,
       "grid_gap": null,
       "grid_row": null,
       "grid_template_areas": null,
       "grid_template_columns": null,
       "grid_template_rows": null,
       "height": null,
       "justify_content": null,
       "justify_items": null,
       "left": null,
       "margin": null,
       "max_height": null,
       "max_width": null,
       "min_height": null,
       "min_width": null,
       "object_fit": null,
       "object_position": null,
       "order": null,
       "overflow": null,
       "padding": null,
       "right": null,
       "top": null,
       "visibility": null,
       "width": null
      }
     },
     "297dffa356f64c8c93e18b5bcdbb69df": {
      "model_module": "@jupyter-widgets/controls",
      "model_module_version": "2.0.0",
      "model_name": "HTMLModel",
      "state": {
       "_dom_classes": [],
       "_model_module": "@jupyter-widgets/controls",
       "_model_module_version": "2.0.0",
       "_model_name": "HTMLModel",
       "_view_count": null,
       "_view_module": "@jupyter-widgets/controls",
       "_view_module_version": "2.0.0",
       "_view_name": "HTMLView",
       "description": "",
       "description_allow_html": false,
       "layout": "IPY_MODEL_a4f7c055ba6042a49224d61c44a127da",
       "placeholder": "​",
       "style": "IPY_MODEL_b330f11d94cd4c93ae328f31d1fb3f5b",
       "tabbable": null,
       "tooltip": null,
       "value": " 3/3 [00:31&lt;00:00, 10.38s/it]"
      }
     },
     "30f1063438614f759d0b2bfa70a061e6": {
      "model_module": "@jupyter-widgets/base",
      "model_module_version": "2.0.0",
      "model_name": "LayoutModel",
      "state": {
       "_model_module": "@jupyter-widgets/base",
       "_model_module_version": "2.0.0",
       "_model_name": "LayoutModel",
       "_view_count": null,
       "_view_module": "@jupyter-widgets/base",
       "_view_module_version": "2.0.0",
       "_view_name": "LayoutView",
       "align_content": null,
       "align_items": null,
       "align_self": null,
       "border_bottom": null,
       "border_left": null,
       "border_right": null,
       "border_top": null,
       "bottom": null,
       "display": null,
       "flex": null,
       "flex_flow": null,
       "grid_area": null,
       "grid_auto_columns": null,
       "grid_auto_flow": null,
       "grid_auto_rows": null,
       "grid_column": null,
       "grid_gap": null,
       "grid_row": null,
       "grid_template_areas": null,
       "grid_template_columns": null,
       "grid_template_rows": null,
       "height": null,
       "justify_content": null,
       "justify_items": null,
       "left": null,
       "margin": null,
       "max_height": null,
       "max_width": null,
       "min_height": null,
       "min_width": null,
       "object_fit": null,
       "object_position": null,
       "order": null,
       "overflow": null,
       "padding": null,
       "right": null,
       "top": null,
       "visibility": null,
       "width": null
      }
     },
     "45e34344942b466b8788eed5a8fecefc": {
      "model_module": "@jupyter-widgets/controls",
      "model_module_version": "2.0.0",
      "model_name": "FloatProgressModel",
      "state": {
       "_dom_classes": [],
       "_model_module": "@jupyter-widgets/controls",
       "_model_module_version": "2.0.0",
       "_model_name": "FloatProgressModel",
       "_view_count": null,
       "_view_module": "@jupyter-widgets/controls",
       "_view_module_version": "2.0.0",
       "_view_name": "ProgressView",
       "bar_style": "success",
       "description": "",
       "description_allow_html": false,
       "layout": "IPY_MODEL_08972b8a103b4c978494af2cd511eb86",
       "max": 1.0,
       "min": 0.0,
       "orientation": "horizontal",
       "style": "IPY_MODEL_5e937a0a99a34ae095ebc15fdb202917",
       "tabbable": null,
       "tooltip": null,
       "value": 1.0
      }
     },
     "48238c6d5f034fa485c3227068842618": {
      "model_module": "@jupyter-widgets/controls",
      "model_module_version": "2.0.0",
      "model_name": "HTMLStyleModel",
      "state": {
       "_model_module": "@jupyter-widgets/controls",
       "_model_module_version": "2.0.0",
       "_model_name": "HTMLStyleModel",
       "_view_count": null,
       "_view_module": "@jupyter-widgets/base",
       "_view_module_version": "2.0.0",
       "_view_name": "StyleView",
       "background": null,
       "description_width": "",
       "font_size": null,
       "text_color": null
      }
     },
     "4a47dbc9eabf4c43a651b41bb430d37c": {
      "model_module": "@jupyter-widgets/controls",
      "model_module_version": "2.0.0",
      "model_name": "FloatProgressModel",
      "state": {
       "_dom_classes": [],
       "_model_module": "@jupyter-widgets/controls",
       "_model_module_version": "2.0.0",
       "_model_name": "FloatProgressModel",
       "_view_count": null,
       "_view_module": "@jupyter-widgets/controls",
       "_view_module_version": "2.0.0",
       "_view_name": "ProgressView",
       "bar_style": "success",
       "description": "",
       "description_allow_html": false,
       "layout": "IPY_MODEL_30f1063438614f759d0b2bfa70a061e6",
       "max": 3.0,
       "min": 0.0,
       "orientation": "horizontal",
       "style": "IPY_MODEL_b9156b0a276a42e7968c12c6a12ec945",
       "tabbable": null,
       "tooltip": null,
       "value": 3.0
      }
     },
     "52f64851dbbb424ebeff60c577d0e2a6": {
      "model_module": "@jupyter-widgets/controls",
      "model_module_version": "2.0.0",
      "model_name": "HTMLModel",
      "state": {
       "_dom_classes": [],
       "_model_module": "@jupyter-widgets/controls",
       "_model_module_version": "2.0.0",
       "_model_name": "HTMLModel",
       "_view_count": null,
       "_view_module": "@jupyter-widgets/controls",
       "_view_module_version": "2.0.0",
       "_view_name": "HTMLView",
       "description": "",
       "description_allow_html": false,
       "layout": "IPY_MODEL_e3d3ad0bc1424ab0acbc6929c95f0d2c",
       "placeholder": "​",
       "style": "IPY_MODEL_cddfb7133cae4c3ca98869a3c2d6526a",
       "tabbable": null,
       "tooltip": null,
       "value": " 1875/? [00:08&lt;00:00, 219.56it/s]"
      }
     },
     "55ffcbe4422840aeb8a6f010bf3d083d": {
      "model_module": "@jupyter-widgets/controls",
      "model_module_version": "2.0.0",
      "model_name": "HTMLStyleModel",
      "state": {
       "_model_module": "@jupyter-widgets/controls",
       "_model_module_version": "2.0.0",
       "_model_name": "HTMLStyleModel",
       "_view_count": null,
       "_view_module": "@jupyter-widgets/base",
       "_view_module_version": "2.0.0",
       "_view_name": "StyleView",
       "background": null,
       "description_width": "",
       "font_size": null,
       "text_color": null
      }
     },
     "5e937a0a99a34ae095ebc15fdb202917": {
      "model_module": "@jupyter-widgets/controls",
      "model_module_version": "2.0.0",
      "model_name": "ProgressStyleModel",
      "state": {
       "_model_module": "@jupyter-widgets/controls",
       "_model_module_version": "2.0.0",
       "_model_name": "ProgressStyleModel",
       "_view_count": null,
       "_view_module": "@jupyter-widgets/base",
       "_view_module_version": "2.0.0",
       "_view_name": "StyleView",
       "bar_color": null,
       "description_width": ""
      }
     },
     "6c65db557a7242c490cf6c95a18623d3": {
      "model_module": "@jupyter-widgets/base",
      "model_module_version": "2.0.0",
      "model_name": "LayoutModel",
      "state": {
       "_model_module": "@jupyter-widgets/base",
       "_model_module_version": "2.0.0",
       "_model_name": "LayoutModel",
       "_view_count": null,
       "_view_module": "@jupyter-widgets/base",
       "_view_module_version": "2.0.0",
       "_view_name": "LayoutView",
       "align_content": null,
       "align_items": null,
       "align_self": null,
       "border_bottom": null,
       "border_left": null,
       "border_right": null,
       "border_top": null,
       "bottom": null,
       "display": null,
       "flex": null,
       "flex_flow": null,
       "grid_area": null,
       "grid_auto_columns": null,
       "grid_auto_flow": null,
       "grid_auto_rows": null,
       "grid_column": null,
       "grid_gap": null,
       "grid_row": null,
       "grid_template_areas": null,
       "grid_template_columns": null,
       "grid_template_rows": null,
       "height": null,
       "justify_content": null,
       "justify_items": null,
       "left": null,
       "margin": null,
       "max_height": null,
       "max_width": null,
       "min_height": null,
       "min_width": null,
       "object_fit": null,
       "object_position": null,
       "order": null,
       "overflow": null,
       "padding": null,
       "right": null,
       "top": null,
       "visibility": null,
       "width": null
      }
     },
     "7ba901c77001476e807f7f08be524217": {
      "model_module": "@jupyter-widgets/controls",
      "model_module_version": "2.0.0",
      "model_name": "HTMLStyleModel",
      "state": {
       "_model_module": "@jupyter-widgets/controls",
       "_model_module_version": "2.0.0",
       "_model_name": "HTMLStyleModel",
       "_view_count": null,
       "_view_module": "@jupyter-widgets/base",
       "_view_module_version": "2.0.0",
       "_view_name": "StyleView",
       "background": null,
       "description_width": "",
       "font_size": null,
       "text_color": null
      }
     },
     "7be7a32b2f3242c8b2e4df198c6b5d4a": {
      "model_module": "@jupyter-widgets/controls",
      "model_module_version": "2.0.0",
      "model_name": "HBoxModel",
      "state": {
       "_dom_classes": [],
       "_model_module": "@jupyter-widgets/controls",
       "_model_module_version": "2.0.0",
       "_model_name": "HBoxModel",
       "_view_count": null,
       "_view_module": "@jupyter-widgets/controls",
       "_view_module_version": "2.0.0",
       "_view_name": "HBoxView",
       "box_style": "",
       "children": [
        "IPY_MODEL_1bfe4b355a414cd597e39ebe00194615",
        "IPY_MODEL_fb23e6068d444a449580fefb8312b3ce",
        "IPY_MODEL_297dffa356f64c8c93e18b5bcdbb69df"
       ],
       "layout": "IPY_MODEL_853cda5cc78e48aca0c2dc0b4b811e63",
       "tabbable": null,
       "tooltip": null
      }
     },
     "7c9d305ae3a341b3a8cf24f0d7436cae": {
      "model_module": "@jupyter-widgets/controls",
      "model_module_version": "2.0.0",
      "model_name": "ProgressStyleModel",
      "state": {
       "_model_module": "@jupyter-widgets/controls",
       "_model_module_version": "2.0.0",
       "_model_name": "ProgressStyleModel",
       "_view_count": null,
       "_view_module": "@jupyter-widgets/base",
       "_view_module_version": "2.0.0",
       "_view_name": "StyleView",
       "bar_color": null,
       "description_width": ""
      }
     },
     "817d3717e13e45889b2c6745cba1a493": {
      "model_module": "@jupyter-widgets/base",
      "model_module_version": "2.0.0",
      "model_name": "LayoutModel",
      "state": {
       "_model_module": "@jupyter-widgets/base",
       "_model_module_version": "2.0.0",
       "_model_name": "LayoutModel",
       "_view_count": null,
       "_view_module": "@jupyter-widgets/base",
       "_view_module_version": "2.0.0",
       "_view_name": "LayoutView",
       "align_content": null,
       "align_items": null,
       "align_self": null,
       "border_bottom": null,
       "border_left": null,
       "border_right": null,
       "border_top": null,
       "bottom": null,
       "display": null,
       "flex": null,
       "flex_flow": null,
       "grid_area": null,
       "grid_auto_columns": null,
       "grid_auto_flow": null,
       "grid_auto_rows": null,
       "grid_column": null,
       "grid_gap": null,
       "grid_row": null,
       "grid_template_areas": null,
       "grid_template_columns": null,
       "grid_template_rows": null,
       "height": null,
       "justify_content": null,
       "justify_items": null,
       "left": null,
       "margin": null,
       "max_height": null,
       "max_width": null,
       "min_height": null,
       "min_width": null,
       "object_fit": null,
       "object_position": null,
       "order": null,
       "overflow": null,
       "padding": null,
       "right": null,
       "top": null,
       "visibility": null,
       "width": "20px"
      }
     },
     "82ec27b8ac21426089c1e18c539e8c0f": {
      "model_module": "@jupyter-widgets/controls",
      "model_module_version": "2.0.0",
      "model_name": "HBoxModel",
      "state": {
       "_dom_classes": [],
       "_model_module": "@jupyter-widgets/controls",
       "_model_module_version": "2.0.0",
       "_model_name": "HBoxModel",
       "_view_count": null,
       "_view_module": "@jupyter-widgets/controls",
       "_view_module_version": "2.0.0",
       "_view_name": "HBoxView",
       "box_style": "",
       "children": [
        "IPY_MODEL_97632a796ce94761afdebf8f3c8cb80f",
        "IPY_MODEL_45e34344942b466b8788eed5a8fecefc",
        "IPY_MODEL_10c91f04344742e4b434754b781a6688"
       ],
       "layout": "IPY_MODEL_1b26d70e89614fa49bf26a3a4a6309ec",
       "tabbable": null,
       "tooltip": null
      }
     },
     "853cda5cc78e48aca0c2dc0b4b811e63": {
      "model_module": "@jupyter-widgets/base",
      "model_module_version": "2.0.0",
      "model_name": "LayoutModel",
      "state": {
       "_model_module": "@jupyter-widgets/base",
       "_model_module_version": "2.0.0",
       "_model_name": "LayoutModel",
       "_view_count": null,
       "_view_module": "@jupyter-widgets/base",
       "_view_module_version": "2.0.0",
       "_view_name": "LayoutView",
       "align_content": null,
       "align_items": null,
       "align_self": null,
       "border_bottom": null,
       "border_left": null,
       "border_right": null,
       "border_top": null,
       "bottom": null,
       "display": null,
       "flex": null,
       "flex_flow": null,
       "grid_area": null,
       "grid_auto_columns": null,
       "grid_auto_flow": null,
       "grid_auto_rows": null,
       "grid_column": null,
       "grid_gap": null,
       "grid_row": null,
       "grid_template_areas": null,
       "grid_template_columns": null,
       "grid_template_rows": null,
       "height": null,
       "justify_content": null,
       "justify_items": null,
       "left": null,
       "margin": null,
       "max_height": null,
       "max_width": null,
       "min_height": null,
       "min_width": null,
       "object_fit": null,
       "object_position": null,
       "order": null,
       "overflow": null,
       "padding": null,
       "right": null,
       "top": null,
       "visibility": null,
       "width": null
      }
     },
     "8c9035b6c4c84da6a9d014227b616b7e": {
      "model_module": "@jupyter-widgets/base",
      "model_module_version": "2.0.0",
      "model_name": "LayoutModel",
      "state": {
       "_model_module": "@jupyter-widgets/base",
       "_model_module_version": "2.0.0",
       "_model_name": "LayoutModel",
       "_view_count": null,
       "_view_module": "@jupyter-widgets/base",
       "_view_module_version": "2.0.0",
       "_view_name": "LayoutView",
       "align_content": null,
       "align_items": null,
       "align_self": null,
       "border_bottom": null,
       "border_left": null,
       "border_right": null,
       "border_top": null,
       "bottom": null,
       "display": null,
       "flex": null,
       "flex_flow": null,
       "grid_area": null,
       "grid_auto_columns": null,
       "grid_auto_flow": null,
       "grid_auto_rows": null,
       "grid_column": null,
       "grid_gap": null,
       "grid_row": null,
       "grid_template_areas": null,
       "grid_template_columns": null,
       "grid_template_rows": null,
       "height": null,
       "justify_content": null,
       "justify_items": null,
       "left": null,
       "margin": null,
       "max_height": null,
       "max_width": null,
       "min_height": null,
       "min_width": null,
       "object_fit": null,
       "object_position": null,
       "order": null,
       "overflow": null,
       "padding": null,
       "right": null,
       "top": null,
       "visibility": null,
       "width": null
      }
     },
     "935c851d86244fe08d4874387988878b": {
      "model_module": "@jupyter-widgets/controls",
      "model_module_version": "2.0.0",
      "model_name": "HTMLModel",
      "state": {
       "_dom_classes": [],
       "_model_module": "@jupyter-widgets/controls",
       "_model_module_version": "2.0.0",
       "_model_name": "HTMLModel",
       "_view_count": null,
       "_view_module": "@jupyter-widgets/controls",
       "_view_module_version": "2.0.0",
       "_view_name": "HTMLView",
       "description": "",
       "description_allow_html": false,
       "layout": "IPY_MODEL_ac2c2fcff93944a1af35b34a575682bf",
       "placeholder": "​",
       "style": "IPY_MODEL_1e41a3e7ab524b1b9b53bcd3bdd28bf4",
       "tabbable": null,
       "tooltip": null,
       "value": ""
      }
     },
     "94c179fdd7bc407bb6654d0ae7ae0b8d": {
      "model_module": "@jupyter-widgets/base",
      "model_module_version": "2.0.0",
      "model_name": "LayoutModel",
      "state": {
       "_model_module": "@jupyter-widgets/base",
       "_model_module_version": "2.0.0",
       "_model_name": "LayoutModel",
       "_view_count": null,
       "_view_module": "@jupyter-widgets/base",
       "_view_module_version": "2.0.0",
       "_view_name": "LayoutView",
       "align_content": null,
       "align_items": null,
       "align_self": null,
       "border_bottom": null,
       "border_left": null,
       "border_right": null,
       "border_top": null,
       "bottom": null,
       "display": null,
       "flex": null,
       "flex_flow": null,
       "grid_area": null,
       "grid_auto_columns": null,
       "grid_auto_flow": null,
       "grid_auto_rows": null,
       "grid_column": null,
       "grid_gap": null,
       "grid_row": null,
       "grid_template_areas": null,
       "grid_template_columns": null,
       "grid_template_rows": null,
       "height": null,
       "justify_content": null,
       "justify_items": null,
       "left": null,
       "margin": null,
       "max_height": null,
       "max_width": null,
       "min_height": null,
       "min_width": null,
       "object_fit": null,
       "object_position": null,
       "order": null,
       "overflow": null,
       "padding": null,
       "right": null,
       "top": null,
       "visibility": null,
       "width": null
      }
     },
     "97632a796ce94761afdebf8f3c8cb80f": {
      "model_module": "@jupyter-widgets/controls",
      "model_module_version": "2.0.0",
      "model_name": "HTMLModel",
      "state": {
       "_dom_classes": [],
       "_model_module": "@jupyter-widgets/controls",
       "_model_module_version": "2.0.0",
       "_model_name": "HTMLModel",
       "_view_count": null,
       "_view_module": "@jupyter-widgets/controls",
       "_view_module_version": "2.0.0",
       "_view_name": "HTMLView",
       "description": "",
       "description_allow_html": false,
       "layout": "IPY_MODEL_0e6ed976fbe74378ba2f58fb81bc4d6a",
       "placeholder": "​",
       "style": "IPY_MODEL_166222e050dc4eb2a68c48fdc1fc0295",
       "tabbable": null,
       "tooltip": null,
       "value": ""
      }
     },
     "a4f7c055ba6042a49224d61c44a127da": {
      "model_module": "@jupyter-widgets/base",
      "model_module_version": "2.0.0",
      "model_name": "LayoutModel",
      "state": {
       "_model_module": "@jupyter-widgets/base",
       "_model_module_version": "2.0.0",
       "_model_name": "LayoutModel",
       "_view_count": null,
       "_view_module": "@jupyter-widgets/base",
       "_view_module_version": "2.0.0",
       "_view_name": "LayoutView",
       "align_content": null,
       "align_items": null,
       "align_self": null,
       "border_bottom": null,
       "border_left": null,
       "border_right": null,
       "border_top": null,
       "bottom": null,
       "display": null,
       "flex": null,
       "flex_flow": null,
       "grid_area": null,
       "grid_auto_columns": null,
       "grid_auto_flow": null,
       "grid_auto_rows": null,
       "grid_column": null,
       "grid_gap": null,
       "grid_row": null,
       "grid_template_areas": null,
       "grid_template_columns": null,
       "grid_template_rows": null,
       "height": null,
       "justify_content": null,
       "justify_items": null,
       "left": null,
       "margin": null,
       "max_height": null,
       "max_width": null,
       "min_height": null,
       "min_width": null,
       "object_fit": null,
       "object_position": null,
       "order": null,
       "overflow": null,
       "padding": null,
       "right": null,
       "top": null,
       "visibility": null,
       "width": null
      }
     },
     "ac2c2fcff93944a1af35b34a575682bf": {
      "model_module": "@jupyter-widgets/base",
      "model_module_version": "2.0.0",
      "model_name": "LayoutModel",
      "state": {
       "_model_module": "@jupyter-widgets/base",
       "_model_module_version": "2.0.0",
       "_model_name": "LayoutModel",
       "_view_count": null,
       "_view_module": "@jupyter-widgets/base",
       "_view_module_version": "2.0.0",
       "_view_name": "LayoutView",
       "align_content": null,
       "align_items": null,
       "align_self": null,
       "border_bottom": null,
       "border_left": null,
       "border_right": null,
       "border_top": null,
       "bottom": null,
       "display": null,
       "flex": null,
       "flex_flow": null,
       "grid_area": null,
       "grid_auto_columns": null,
       "grid_auto_flow": null,
       "grid_auto_rows": null,
       "grid_column": null,
       "grid_gap": null,
       "grid_row": null,
       "grid_template_areas": null,
       "grid_template_columns": null,
       "grid_template_rows": null,
       "height": null,
       "justify_content": null,
       "justify_items": null,
       "left": null,
       "margin": null,
       "max_height": null,
       "max_width": null,
       "min_height": null,
       "min_width": null,
       "object_fit": null,
       "object_position": null,
       "order": null,
       "overflow": null,
       "padding": null,
       "right": null,
       "top": null,
       "visibility": null,
       "width": null
      }
     },
     "af4a4ffad066460584953102fd9b2c3e": {
      "model_module": "@jupyter-widgets/controls",
      "model_module_version": "2.0.0",
      "model_name": "HTMLModel",
      "state": {
       "_dom_classes": [],
       "_model_module": "@jupyter-widgets/controls",
       "_model_module_version": "2.0.0",
       "_model_name": "HTMLModel",
       "_view_count": null,
       "_view_module": "@jupyter-widgets/controls",
       "_view_module_version": "2.0.0",
       "_view_name": "HTMLView",
       "description": "",
       "description_allow_html": false,
       "layout": "IPY_MODEL_120acfc032794c91bffaffb9fdf4743e",
       "placeholder": "​",
       "style": "IPY_MODEL_55ffcbe4422840aeb8a6f010bf3d083d",
       "tabbable": null,
       "tooltip": null,
       "value": "100%"
      }
     },
     "b330f11d94cd4c93ae328f31d1fb3f5b": {
      "model_module": "@jupyter-widgets/controls",
      "model_module_version": "2.0.0",
      "model_name": "HTMLStyleModel",
      "state": {
       "_model_module": "@jupyter-widgets/controls",
       "_model_module_version": "2.0.0",
       "_model_name": "HTMLStyleModel",
       "_view_count": null,
       "_view_module": "@jupyter-widgets/base",
       "_view_module_version": "2.0.0",
       "_view_name": "StyleView",
       "background": null,
       "description_width": "",
       "font_size": null,
       "text_color": null
      }
     },
     "b39edf7691694431a5c17f365fecac2d": {
      "model_module": "@jupyter-widgets/base",
      "model_module_version": "2.0.0",
      "model_name": "LayoutModel",
      "state": {
       "_model_module": "@jupyter-widgets/base",
       "_model_module_version": "2.0.0",
       "_model_name": "LayoutModel",
       "_view_count": null,
       "_view_module": "@jupyter-widgets/base",
       "_view_module_version": "2.0.0",
       "_view_name": "LayoutView",
       "align_content": null,
       "align_items": null,
       "align_self": null,
       "border_bottom": null,
       "border_left": null,
       "border_right": null,
       "border_top": null,
       "bottom": null,
       "display": null,
       "flex": null,
       "flex_flow": null,
       "grid_area": null,
       "grid_auto_columns": null,
       "grid_auto_flow": null,
       "grid_auto_rows": null,
       "grid_column": null,
       "grid_gap": null,
       "grid_row": null,
       "grid_template_areas": null,
       "grid_template_columns": null,
       "grid_template_rows": null,
       "height": null,
       "justify_content": null,
       "justify_items": null,
       "left": null,
       "margin": null,
       "max_height": null,
       "max_width": null,
       "min_height": null,
       "min_width": null,
       "object_fit": null,
       "object_position": null,
       "order": null,
       "overflow": null,
       "padding": null,
       "right": null,
       "top": null,
       "visibility": null,
       "width": null
      }
     },
     "b7e076e0877445adb7abb492410df162": {
      "model_module": "@jupyter-widgets/controls",
      "model_module_version": "2.0.0",
      "model_name": "HTMLModel",
      "state": {
       "_dom_classes": [],
       "_model_module": "@jupyter-widgets/controls",
       "_model_module_version": "2.0.0",
       "_model_name": "HTMLModel",
       "_view_count": null,
       "_view_module": "@jupyter-widgets/controls",
       "_view_module_version": "2.0.0",
       "_view_name": "HTMLView",
       "description": "",
       "description_allow_html": false,
       "layout": "IPY_MODEL_8c9035b6c4c84da6a9d014227b616b7e",
       "placeholder": "​",
       "style": "IPY_MODEL_48238c6d5f034fa485c3227068842618",
       "tabbable": null,
       "tooltip": null,
       "value": ""
      }
     },
     "b8ab5c9e3d7b4444b57f3bfa9eb378f1": {
      "model_module": "@jupyter-widgets/controls",
      "model_module_version": "2.0.0",
      "model_name": "FloatProgressModel",
      "state": {
       "_dom_classes": [],
       "_model_module": "@jupyter-widgets/controls",
       "_model_module_version": "2.0.0",
       "_model_name": "FloatProgressModel",
       "_view_count": null,
       "_view_module": "@jupyter-widgets/controls",
       "_view_module_version": "2.0.0",
       "_view_name": "ProgressView",
       "bar_style": "success",
       "description": "",
       "description_allow_html": false,
       "layout": "IPY_MODEL_817d3717e13e45889b2c6745cba1a493",
       "max": 1.0,
       "min": 0.0,
       "orientation": "horizontal",
       "style": "IPY_MODEL_0372f3db926148c39c1846a998f99d50",
       "tabbable": null,
       "tooltip": null,
       "value": 1.0
      }
     },
     "b9156b0a276a42e7968c12c6a12ec945": {
      "model_module": "@jupyter-widgets/controls",
      "model_module_version": "2.0.0",
      "model_name": "ProgressStyleModel",
      "state": {
       "_model_module": "@jupyter-widgets/controls",
       "_model_module_version": "2.0.0",
       "_model_name": "ProgressStyleModel",
       "_view_count": null,
       "_view_module": "@jupyter-widgets/base",
       "_view_module_version": "2.0.0",
       "_view_name": "StyleView",
       "bar_color": null,
       "description_width": ""
      }
     },
     "bf61d7650fd347f08a3cd705477a390a": {
      "model_module": "@jupyter-widgets/controls",
      "model_module_version": "2.0.0",
      "model_name": "HTMLStyleModel",
      "state": {
       "_model_module": "@jupyter-widgets/controls",
       "_model_module_version": "2.0.0",
       "_model_name": "HTMLStyleModel",
       "_view_count": null,
       "_view_module": "@jupyter-widgets/base",
       "_view_module_version": "2.0.0",
       "_view_name": "StyleView",
       "background": null,
       "description_width": "",
       "font_size": null,
       "text_color": null
      }
     },
     "cddfb7133cae4c3ca98869a3c2d6526a": {
      "model_module": "@jupyter-widgets/controls",
      "model_module_version": "2.0.0",
      "model_name": "HTMLStyleModel",
      "state": {
       "_model_module": "@jupyter-widgets/controls",
       "_model_module_version": "2.0.0",
       "_model_name": "HTMLStyleModel",
       "_view_count": null,
       "_view_module": "@jupyter-widgets/base",
       "_view_module_version": "2.0.0",
       "_view_name": "StyleView",
       "background": null,
       "description_width": "",
       "font_size": null,
       "text_color": null
      }
     },
     "d5151a65119b4f13947f36fc576f31ab": {
      "model_module": "@jupyter-widgets/base",
      "model_module_version": "2.0.0",
      "model_name": "LayoutModel",
      "state": {
       "_model_module": "@jupyter-widgets/base",
       "_model_module_version": "2.0.0",
       "_model_name": "LayoutModel",
       "_view_count": null,
       "_view_module": "@jupyter-widgets/base",
       "_view_module_version": "2.0.0",
       "_view_name": "LayoutView",
       "align_content": null,
       "align_items": null,
       "align_self": null,
       "border_bottom": null,
       "border_left": null,
       "border_right": null,
       "border_top": null,
       "bottom": null,
       "display": null,
       "flex": null,
       "flex_flow": null,
       "grid_area": null,
       "grid_auto_columns": null,
       "grid_auto_flow": null,
       "grid_auto_rows": null,
       "grid_column": null,
       "grid_gap": null,
       "grid_row": null,
       "grid_template_areas": null,
       "grid_template_columns": null,
       "grid_template_rows": null,
       "height": null,
       "justify_content": null,
       "justify_items": null,
       "left": null,
       "margin": null,
       "max_height": null,
       "max_width": null,
       "min_height": null,
       "min_width": null,
       "object_fit": null,
       "object_position": null,
       "order": null,
       "overflow": null,
       "padding": null,
       "right": null,
       "top": null,
       "visibility": null,
       "width": null
      }
     },
     "d9e99ca3364e4b55b2aa4773457bfa11": {
      "model_module": "@jupyter-widgets/controls",
      "model_module_version": "2.0.0",
      "model_name": "HTMLModel",
      "state": {
       "_dom_classes": [],
       "_model_module": "@jupyter-widgets/controls",
       "_model_module_version": "2.0.0",
       "_model_name": "HTMLModel",
       "_view_count": null,
       "_view_module": "@jupyter-widgets/controls",
       "_view_module_version": "2.0.0",
       "_view_name": "HTMLView",
       "description": "",
       "description_allow_html": false,
       "layout": "IPY_MODEL_1435565a7a7948a38ad506998c4bffb9",
       "placeholder": "​",
       "style": "IPY_MODEL_bf61d7650fd347f08a3cd705477a390a",
       "tabbable": null,
       "tooltip": null,
       "value": " 3/3 [00:29&lt;00:00,  9.60s/it]"
      }
     },
     "de54a53725db4f2d9aa6778596c1b249": {
      "model_module": "@jupyter-widgets/controls",
      "model_module_version": "2.0.0",
      "model_name": "HTMLModel",
      "state": {
       "_dom_classes": [],
       "_model_module": "@jupyter-widgets/controls",
       "_model_module_version": "2.0.0",
       "_model_name": "HTMLModel",
       "_view_count": null,
       "_view_module": "@jupyter-widgets/controls",
       "_view_module_version": "2.0.0",
       "_view_name": "HTMLView",
       "description": "",
       "description_allow_html": false,
       "layout": "IPY_MODEL_d5151a65119b4f13947f36fc576f31ab",
       "placeholder": "​",
       "style": "IPY_MODEL_7ba901c77001476e807f7f08be524217",
       "tabbable": null,
       "tooltip": null,
       "value": " 1875/? [00:08&lt;00:00, 187.36it/s]"
      }
     },
     "deec5afda6534a81aca84607983a42b8": {
      "model_module": "@jupyter-widgets/base",
      "model_module_version": "2.0.0",
      "model_name": "LayoutModel",
      "state": {
       "_model_module": "@jupyter-widgets/base",
       "_model_module_version": "2.0.0",
       "_model_name": "LayoutModel",
       "_view_count": null,
       "_view_module": "@jupyter-widgets/base",
       "_view_module_version": "2.0.0",
       "_view_name": "LayoutView",
       "align_content": null,
       "align_items": null,
       "align_self": null,
       "border_bottom": null,
       "border_left": null,
       "border_right": null,
       "border_top": null,
       "bottom": null,
       "display": null,
       "flex": null,
       "flex_flow": null,
       "grid_area": null,
       "grid_auto_columns": null,
       "grid_auto_flow": null,
       "grid_auto_rows": null,
       "grid_column": null,
       "grid_gap": null,
       "grid_row": null,
       "grid_template_areas": null,
       "grid_template_columns": null,
       "grid_template_rows": null,
       "height": null,
       "justify_content": null,
       "justify_items": null,
       "left": null,
       "margin": null,
       "max_height": null,
       "max_width": null,
       "min_height": null,
       "min_width": null,
       "object_fit": null,
       "object_position": null,
       "order": null,
       "overflow": null,
       "padding": null,
       "right": null,
       "top": null,
       "visibility": null,
       "width": null
      }
     },
     "e3d3ad0bc1424ab0acbc6929c95f0d2c": {
      "model_module": "@jupyter-widgets/base",
      "model_module_version": "2.0.0",
      "model_name": "LayoutModel",
      "state": {
       "_model_module": "@jupyter-widgets/base",
       "_model_module_version": "2.0.0",
       "_model_name": "LayoutModel",
       "_view_count": null,
       "_view_module": "@jupyter-widgets/base",
       "_view_module_version": "2.0.0",
       "_view_name": "LayoutView",
       "align_content": null,
       "align_items": null,
       "align_self": null,
       "border_bottom": null,
       "border_left": null,
       "border_right": null,
       "border_top": null,
       "bottom": null,
       "display": null,
       "flex": null,
       "flex_flow": null,
       "grid_area": null,
       "grid_auto_columns": null,
       "grid_auto_flow": null,
       "grid_auto_rows": null,
       "grid_column": null,
       "grid_gap": null,
       "grid_row": null,
       "grid_template_areas": null,
       "grid_template_columns": null,
       "grid_template_rows": null,
       "height": null,
       "justify_content": null,
       "justify_items": null,
       "left": null,
       "margin": null,
       "max_height": null,
       "max_width": null,
       "min_height": null,
       "min_width": null,
       "object_fit": null,
       "object_position": null,
       "order": null,
       "overflow": null,
       "padding": null,
       "right": null,
       "top": null,
       "visibility": null,
       "width": null
      }
     },
     "e8cb596c24504320ada5f8e6f74683b7": {
      "model_module": "@jupyter-widgets/controls",
      "model_module_version": "2.0.0",
      "model_name": "HBoxModel",
      "state": {
       "_dom_classes": [],
       "_model_module": "@jupyter-widgets/controls",
       "_model_module_version": "2.0.0",
       "_model_name": "HBoxModel",
       "_view_count": null,
       "_view_module": "@jupyter-widgets/controls",
       "_view_module_version": "2.0.0",
       "_view_name": "HBoxView",
       "box_style": "",
       "children": [
        "IPY_MODEL_b7e076e0877445adb7abb492410df162",
        "IPY_MODEL_b8ab5c9e3d7b4444b57f3bfa9eb378f1",
        "IPY_MODEL_52f64851dbbb424ebeff60c577d0e2a6"
       ],
       "layout": "IPY_MODEL_6c65db557a7242c490cf6c95a18623d3",
       "tabbable": null,
       "tooltip": null
      }
     },
     "ed1330bea15f4183bf0fddc92c4fd426": {
      "model_module": "@jupyter-widgets/controls",
      "model_module_version": "2.0.0",
      "model_name": "ProgressStyleModel",
      "state": {
       "_model_module": "@jupyter-widgets/controls",
       "_model_module_version": "2.0.0",
       "_model_name": "ProgressStyleModel",
       "_view_count": null,
       "_view_module": "@jupyter-widgets/base",
       "_view_module_version": "2.0.0",
       "_view_name": "StyleView",
       "bar_color": null,
       "description_width": ""
      }
     },
     "f219c8af6978414d82405e25a8493e54": {
      "model_module": "@jupyter-widgets/controls",
      "model_module_version": "2.0.0",
      "model_name": "HBoxModel",
      "state": {
       "_dom_classes": [],
       "_model_module": "@jupyter-widgets/controls",
       "_model_module_version": "2.0.0",
       "_model_name": "HBoxModel",
       "_view_count": null,
       "_view_module": "@jupyter-widgets/controls",
       "_view_module_version": "2.0.0",
       "_view_name": "HBoxView",
       "box_style": "",
       "children": [
        "IPY_MODEL_935c851d86244fe08d4874387988878b",
        "IPY_MODEL_1b4cbc9a5c9d4a968e5616e5eccfc613",
        "IPY_MODEL_de54a53725db4f2d9aa6778596c1b249"
       ],
       "layout": "IPY_MODEL_fb6879323dc640af943d44024b515433",
       "tabbable": null,
       "tooltip": null
      }
     },
     "f9b546ed6dff40be947ecbe35cb892a1": {
      "model_module": "@jupyter-widgets/base",
      "model_module_version": "2.0.0",
      "model_name": "LayoutModel",
      "state": {
       "_model_module": "@jupyter-widgets/base",
       "_model_module_version": "2.0.0",
       "_model_name": "LayoutModel",
       "_view_count": null,
       "_view_module": "@jupyter-widgets/base",
       "_view_module_version": "2.0.0",
       "_view_name": "LayoutView",
       "align_content": null,
       "align_items": null,
       "align_self": null,
       "border_bottom": null,
       "border_left": null,
       "border_right": null,
       "border_top": null,
       "bottom": null,
       "display": null,
       "flex": null,
       "flex_flow": null,
       "grid_area": null,
       "grid_auto_columns": null,
       "grid_auto_flow": null,
       "grid_auto_rows": null,
       "grid_column": null,
       "grid_gap": null,
       "grid_row": null,
       "grid_template_areas": null,
       "grid_template_columns": null,
       "grid_template_rows": null,
       "height": null,
       "justify_content": null,
       "justify_items": null,
       "left": null,
       "margin": null,
       "max_height": null,
       "max_width": null,
       "min_height": null,
       "min_width": null,
       "object_fit": null,
       "object_position": null,
       "order": null,
       "overflow": null,
       "padding": null,
       "right": null,
       "top": null,
       "visibility": null,
       "width": "20px"
      }
     },
     "fb23e6068d444a449580fefb8312b3ce": {
      "model_module": "@jupyter-widgets/controls",
      "model_module_version": "2.0.0",
      "model_name": "FloatProgressModel",
      "state": {
       "_dom_classes": [],
       "_model_module": "@jupyter-widgets/controls",
       "_model_module_version": "2.0.0",
       "_model_name": "FloatProgressModel",
       "_view_count": null,
       "_view_module": "@jupyter-widgets/controls",
       "_view_module_version": "2.0.0",
       "_view_name": "ProgressView",
       "bar_style": "success",
       "description": "",
       "description_allow_html": false,
       "layout": "IPY_MODEL_94c179fdd7bc407bb6654d0ae7ae0b8d",
       "max": 3.0,
       "min": 0.0,
       "orientation": "horizontal",
       "style": "IPY_MODEL_7c9d305ae3a341b3a8cf24f0d7436cae",
       "tabbable": null,
       "tooltip": null,
       "value": 3.0
      }
     },
     "fb6879323dc640af943d44024b515433": {
      "model_module": "@jupyter-widgets/base",
      "model_module_version": "2.0.0",
      "model_name": "LayoutModel",
      "state": {
       "_model_module": "@jupyter-widgets/base",
       "_model_module_version": "2.0.0",
       "_model_name": "LayoutModel",
       "_view_count": null,
       "_view_module": "@jupyter-widgets/base",
       "_view_module_version": "2.0.0",
       "_view_name": "LayoutView",
       "align_content": null,
       "align_items": null,
       "align_self": null,
       "border_bottom": null,
       "border_left": null,
       "border_right": null,
       "border_top": null,
       "bottom": null,
       "display": null,
       "flex": null,
       "flex_flow": null,
       "grid_area": null,
       "grid_auto_columns": null,
       "grid_auto_flow": null,
       "grid_auto_rows": null,
       "grid_column": null,
       "grid_gap": null,
       "grid_row": null,
       "grid_template_areas": null,
       "grid_template_columns": null,
       "grid_template_rows": null,
       "height": null,
       "justify_content": null,
       "justify_items": null,
       "left": null,
       "margin": null,
       "max_height": null,
       "max_width": null,
       "min_height": null,
       "min_width": null,
       "object_fit": null,
       "object_position": null,
       "order": null,
       "overflow": null,
       "padding": null,
       "right": null,
       "top": null,
       "visibility": null,
       "width": null
      }
     }
    },
    "version_major": 2,
    "version_minor": 0
   }
  }
 },
 "nbformat": 4,
 "nbformat_minor": 5
}
