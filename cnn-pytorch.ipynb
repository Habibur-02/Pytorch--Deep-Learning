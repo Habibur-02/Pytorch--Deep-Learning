{
 "cells": [
  {
   "cell_type": "code",
   "execution_count": 1,
   "id": "da1cec8c",
   "metadata": {
    "_cell_guid": "b1076dfc-b9ad-4769-8c92-a6c4dae69d19",
    "_uuid": "8f2839f25d086af736a60e9eeb907d3b93b6e0e5",
    "execution": {
     "iopub.execute_input": "2025-06-23T18:56:59.136297Z",
     "iopub.status.busy": "2025-06-23T18:56:59.135974Z",
     "iopub.status.idle": "2025-06-23T18:57:01.032281Z",
     "shell.execute_reply": "2025-06-23T18:57:01.031268Z"
    },
    "papermill": {
     "duration": 1.905904,
     "end_time": "2025-06-23T18:57:01.034398",
     "exception": false,
     "start_time": "2025-06-23T18:56:59.128494",
     "status": "completed"
    },
    "tags": []
   },
   "outputs": [],
   "source": [
    "# This Python 3 environment comes with many helpful analytics libraries installed\n",
    "# It is defined by the kaggle/python Docker image: https://github.com/kaggle/docker-python\n",
    "# For example, here's several helpful packages to load\n",
    "\n",
    "import numpy as np # linear algebra\n",
    "import pandas as pd # data processing, CSV file I/O (e.g. pd.read_csv)\n",
    "\n",
    "# Input data files are available in the read-only \"../input/\" directory\n",
    "# For example, running this (by clicking run or pressing Shift+Enter) will list all files under the input directory\n",
    "\n",
    "import os\n",
    "for dirname, _, filenames in os.walk('/kaggle/input'):\n",
    "    for filename in filenames:\n",
    "        print(os.path.join(dirname, filename))\n",
    "\n",
    "# You can write up to 20GB to the current directory (/kaggle/working/) that gets preserved as output when you create a version using \"Save & Run All\" \n",
    "# You can also write temporary files to /kaggle/temp/, but they won't be saved outside of the current session"
   ]
  },
  {
   "cell_type": "code",
   "execution_count": 2,
   "id": "d96cab5e",
   "metadata": {
    "execution": {
     "iopub.execute_input": "2025-06-23T18:57:01.047534Z",
     "iopub.status.busy": "2025-06-23T18:57:01.047043Z",
     "iopub.status.idle": "2025-06-23T18:57:13.347116Z",
     "shell.execute_reply": "2025-06-23T18:57:13.345991Z"
    },
    "papermill": {
     "duration": 12.308098,
     "end_time": "2025-06-23T18:57:13.348698",
     "exception": false,
     "start_time": "2025-06-23T18:57:01.040600",
     "status": "completed"
    },
    "tags": []
   },
   "outputs": [
    {
     "name": "stdout",
     "output_type": "stream",
     "text": [
      "PyTorch version: 2.6.0+cu124\n",
      "torchvision version: 0.21.0+cu124\n"
     ]
    }
   ],
   "source": [
    "import torch\n",
    "from torch import nn\n",
    "\n",
    "# Import torchvision \n",
    "import torchvision\n",
    "from torchvision import datasets\n",
    "from torchvision.transforms import ToTensor\n",
    "\n",
    "# Import matplotlib for visualization\n",
    "import matplotlib.pyplot as plt\n",
    "\n",
    "# Check versions\n",
    "# Note: your PyTorch version shouldn't be lower than 1.10.0 and torchvision version shouldn't be lower than 0.11\n",
    "print(f\"PyTorch version: {torch.__version__}\\ntorchvision version: {torchvision.__version__}\")"
   ]
  },
  {
   "cell_type": "code",
   "execution_count": 3,
   "id": "095263e8",
   "metadata": {
    "execution": {
     "iopub.execute_input": "2025-06-23T18:57:13.360393Z",
     "iopub.status.busy": "2025-06-23T18:57:13.359965Z",
     "iopub.status.idle": "2025-06-23T18:57:20.122789Z",
     "shell.execute_reply": "2025-06-23T18:57:20.121228Z"
    },
    "papermill": {
     "duration": 6.770984,
     "end_time": "2025-06-23T18:57:20.124838",
     "exception": false,
     "start_time": "2025-06-23T18:57:13.353854",
     "status": "completed"
    },
    "tags": []
   },
   "outputs": [
    {
     "name": "stderr",
     "output_type": "stream",
     "text": [
      "100%|██████████| 26.4M/26.4M [00:02<00:00, 12.7MB/s]\n",
      "100%|██████████| 29.5k/29.5k [00:00<00:00, 211kB/s]\n",
      "100%|██████████| 4.42M/4.42M [00:01<00:00, 3.94MB/s]\n",
      "100%|██████████| 5.15k/5.15k [00:00<00:00, 6.18MB/s]\n"
     ]
    }
   ],
   "source": [
    "train_data=datasets.FashionMNIST(\n",
    "    root=\"data\",\n",
    "    train=True,\n",
    "    download=True,\n",
    "    transform=ToTensor(),\n",
    "    target_transform=None\n",
    ")\n",
    "\n",
    "test_data=datasets.FashionMNIST(\n",
    "    root=\"data\",\n",
    "    train=False,\n",
    "    download=True,\n",
    "    transform=ToTensor()\n",
    "    \n",
    ")"
   ]
  },
  {
   "cell_type": "code",
   "execution_count": 4,
   "id": "418cfd24",
   "metadata": {
    "execution": {
     "iopub.execute_input": "2025-06-23T18:57:20.143202Z",
     "iopub.status.busy": "2025-06-23T18:57:20.142833Z",
     "iopub.status.idle": "2025-06-23T18:57:20.156111Z",
     "shell.execute_reply": "2025-06-23T18:57:20.155181Z"
    },
    "papermill": {
     "duration": 0.024851,
     "end_time": "2025-06-23T18:57:20.157803",
     "exception": false,
     "start_time": "2025-06-23T18:57:20.132952",
     "status": "completed"
    },
    "tags": []
   },
   "outputs": [
    {
     "data": {
      "text/plain": [
       "9"
      ]
     },
     "execution_count": 4,
     "metadata": {},
     "output_type": "execute_result"
    }
   ],
   "source": [
    "image,level=train_data[0]\n",
    "\n",
    "image,level\n",
    "level"
   ]
  },
  {
   "cell_type": "markdown",
   "id": "c285db62",
   "metadata": {
    "papermill": {
     "duration": 0.00655,
     "end_time": "2025-06-23T18:57:20.171400",
     "exception": false,
     "start_time": "2025-06-23T18:57:20.164850",
     "status": "completed"
    },
    "tags": []
   },
   "source": [
    "he order of our current tensor is often referred to as ```CHW``` (Color Channels, Height, Width).\n",
    "\n",
    "There's debate on whether images should be represented as ```CHW``` (color channels first) or HWC (color channels last).\n",
    "\n",
    "PyTorch generally accepts ```NCHW``` (channels first) as the default for many operators.\n",
    "\n",
    "However, PyTorch also explains that ```NHWC``` (channels last) performs better and is considered best practice.\n",
    "\n",
    "For now, since our dataset and models are relatively small, this won't make too much of a difference.\n",
    "\n",
    "But keep it in mind for when you're working on larger image datasets and using convolutional neural networks (we'll see these later).\n",
    "\n",
    "Let's check out more shapes of our data."
   ]
  },
  {
   "cell_type": "code",
   "execution_count": 5,
   "id": "8a50f526",
   "metadata": {
    "execution": {
     "iopub.execute_input": "2025-06-23T18:57:20.186852Z",
     "iopub.status.busy": "2025-06-23T18:57:20.186474Z",
     "iopub.status.idle": "2025-06-23T18:57:20.194402Z",
     "shell.execute_reply": "2025-06-23T18:57:20.193387Z"
    },
    "papermill": {
     "duration": 0.017835,
     "end_time": "2025-06-23T18:57:20.196234",
     "exception": false,
     "start_time": "2025-06-23T18:57:20.178399",
     "status": "completed"
    },
    "tags": []
   },
   "outputs": [
    {
     "data": {
      "text/plain": [
       "(60000, 60000, 10000, 10000)"
      ]
     },
     "execution_count": 5,
     "metadata": {},
     "output_type": "execute_result"
    }
   ],
   "source": [
    "image.shape\n",
    "\n",
    "len(train_data.data)\n",
    "\n",
    "dir(train_data)\n",
    "\n",
    "train_data.data\n",
    "\n",
    "train_data.classes\n",
    "\n",
    "len(train_data), len(train_data.targets), len(test_data), len(test_data.targets),"
   ]
  },
  {
   "cell_type": "code",
   "execution_count": 6,
   "id": "98274bab",
   "metadata": {
    "execution": {
     "iopub.execute_input": "2025-06-23T18:57:20.213146Z",
     "iopub.status.busy": "2025-06-23T18:57:20.212246Z",
     "iopub.status.idle": "2025-06-23T18:57:20.219177Z",
     "shell.execute_reply": "2025-06-23T18:57:20.218262Z"
    },
    "papermill": {
     "duration": 0.017018,
     "end_time": "2025-06-23T18:57:20.220887",
     "exception": false,
     "start_time": "2025-06-23T18:57:20.203869",
     "status": "completed"
    },
    "tags": []
   },
   "outputs": [
    {
     "data": {
      "text/plain": [
       "['T-shirt/top',\n",
       " 'Trouser',\n",
       " 'Pullover',\n",
       " 'Dress',\n",
       " 'Coat',\n",
       " 'Sandal',\n",
       " 'Shirt',\n",
       " 'Sneaker',\n",
       " 'Bag',\n",
       " 'Ankle boot']"
      ]
     },
     "execution_count": 6,
     "metadata": {},
     "output_type": "execute_result"
    }
   ],
   "source": [
    "class_name=train_data.classes\n",
    "class_name"
   ]
  },
  {
   "cell_type": "code",
   "execution_count": 7,
   "id": "674cf0d0",
   "metadata": {
    "execution": {
     "iopub.execute_input": "2025-06-23T18:57:20.236533Z",
     "iopub.status.busy": "2025-06-23T18:57:20.236181Z",
     "iopub.status.idle": "2025-06-23T18:57:20.532719Z",
     "shell.execute_reply": "2025-06-23T18:57:20.531566Z"
    },
    "papermill": {
     "duration": 0.306173,
     "end_time": "2025-06-23T18:57:20.534425",
     "exception": false,
     "start_time": "2025-06-23T18:57:20.228252",
     "status": "completed"
    },
    "tags": []
   },
   "outputs": [
    {
     "name": "stdout",
     "output_type": "stream",
     "text": [
      "Image Shape torch.Size([1, 28, 28])\n"
     ]
    },
    {
     "data": {
      "image/png": "[encoded data removed]",
      "text/plain": [
       "<Figure size 640x480 with 1 Axes>"
      ]
     },
     "metadata": {},
     "output_type": "display_data"
    }
   ],
   "source": [
    "import matplotlib.pyplot as plt\n",
    "image,lebel=train_data[0]\n",
    "print(f\"Image Shape {image.shape}\")\n",
    "plt.imshow(image.squeeze()) #remove extra 1 dim\n",
    "plt.title(class_name[lebel]);\n"
   ]
  },
  {
   "cell_type": "code",
   "execution_count": 8,
   "id": "7e3b0e90",
   "metadata": {
    "execution": {
     "iopub.execute_input": "2025-06-23T18:57:20.551743Z",
     "iopub.status.busy": "2025-06-23T18:57:20.551228Z",
     "iopub.status.idle": "2025-06-23T18:57:20.858756Z",
     "shell.execute_reply": "2025-06-23T18:57:20.857683Z"
    },
    "papermill": {
     "duration": 0.317944,
     "end_time": "2025-06-23T18:57:20.860208",
     "exception": false,
     "start_time": "2025-06-23T18:57:20.542264",
     "status": "completed"
    },
    "tags": []
   },
   "outputs": [
    {
     "data": {
      "text/plain": [
       "Text(0.5, 1.0, 'Random Tensor image with size (20, 22) ')"
      ]
     },
     "execution_count": 8,
     "metadata": {},
     "output_type": "execute_result"
    },
    {
     "data": {
      "image/png": "[encoded data removed]",
      "text/plain": [
       "<Figure size 640x480 with 2 Axes>"
      ]
     },
     "metadata": {},
     "output_type": "display_data"
    }
   ],
   "source": [
    "H,W= 20,22\n",
    "fake_tensor_data=torch.rand(H,W)\n",
    "fake_tensor_data=torch.randint(0,256, (H,W), dtype=torch.float32) # it will make tensor within 0->255\n",
    "plt.imshow(fake_tensor_data,cmap='gray')\n",
    "plt.colorbar()\n",
    "plt.title(f\"Random Tensor image with size {H, W} \")"
   ]
  },
  {
   "cell_type": "code",
   "execution_count": 9,
   "id": "5ad9afbe",
   "metadata": {
    "execution": {
     "iopub.execute_input": "2025-06-23T18:57:20.880607Z",
     "iopub.status.busy": "2025-06-23T18:57:20.880238Z",
     "iopub.status.idle": "2025-06-23T18:57:20.918603Z",
     "shell.execute_reply": "2025-06-23T18:57:20.917614Z"
    },
    "papermill": {
     "duration": 0.050324,
     "end_time": "2025-06-23T18:57:20.920587",
     "exception": false,
     "start_time": "2025-06-23T18:57:20.870263",
     "status": "completed"
    },
    "tags": []
   },
   "outputs": [
    {
     "data": {
      "text/plain": [
       "tensor([[0.6588, 0.3373, 0.8549, 0.7137, 0.0588, 0.2353, 0.1804, 0.6980, 0.4941,\n",
       "         0.5412, 0.0863, 0.9804, 0.6235, 0.2471, 0.8549, 0.0941, 0.5725, 0.3922,\n",
       "         0.4941, 0.1608, 0.3020, 0.2039],\n",
       "        [0.2392, 0.4118, 1.0000, 0.0824, 0.8745, 0.8627, 0.9176, 0.7529, 0.4902,\n",
       "         0.3176, 0.5882, 0.6902, 0.6118, 0.5569, 0.0078, 0.8941, 0.6824, 0.6784,\n",
       "         0.7451, 0.2275, 0.8118, 0.2196],\n",
       "        [0.8000, 0.7608, 0.8000, 0.4706, 0.3451, 0.0118, 0.2196, 0.7882, 0.1176,\n",
       "         0.0353, 0.3843, 0.2902, 0.4510, 0.5529, 0.1608, 0.4392, 0.6392, 0.4235,\n",
       "         0.6706, 0.4118, 0.3961, 0.1804],\n",
       "        [0.1647, 0.8980, 0.5255, 0.3843, 0.8549, 0.1882, 0.4667, 0.6275, 0.4980,\n",
       "         0.6980, 0.4863, 0.7608, 0.2196, 0.1255, 0.1843, 0.0314, 0.2275, 0.5059,\n",
       "         0.5686, 0.2941, 0.0118, 0.6627],\n",
       "        [0.4471, 0.6902, 0.6157, 0.0980, 0.3804, 0.5216, 0.7020, 0.9451, 0.2431,\n",
       "         0.1451, 0.3098, 0.1765, 0.5294, 0.0118, 0.7843, 0.5176, 0.0980, 0.6039,\n",
       "         0.6078, 0.8627, 0.2471, 0.2902],\n",
       "        [0.4941, 0.3294, 0.1608, 0.4431, 0.4118, 0.1412, 0.8078, 0.3922, 0.4471,\n",
       "         0.6980, 0.8471, 0.8392, 0.2431, 0.8000, 0.5922, 0.3451, 0.8863, 0.9176,\n",
       "         0.8784, 0.6078, 0.9882, 0.8941],\n",
       "        [0.8471, 0.8078, 0.2196, 0.1804, 0.5765, 0.2980, 0.5922, 0.6353, 0.5961,\n",
       "         0.7137, 0.4588, 0.1294, 0.2039, 0.8784, 0.5020, 0.8471, 0.2392, 0.3137,\n",
       "         0.0353, 0.3725, 0.1020, 0.9294],\n",
       "        [0.9882, 0.9137, 0.2824, 0.8902, 0.5020, 0.5529, 0.3294, 0.6902, 0.4784,\n",
       "         0.8078, 0.1098, 0.1490, 0.2941, 0.7804, 0.8275, 0.8627, 0.8627, 0.3176,\n",
       "         0.5961, 0.2784, 0.1490, 0.6431],\n",
       "        [0.0078, 0.3255, 0.4510, 0.9608, 0.5333, 0.6471, 0.5412, 0.7137, 0.6314,\n",
       "         0.1686, 0.2745, 0.4667, 0.2902, 0.2353, 0.5725, 0.3961, 0.9804, 0.7020,\n",
       "         0.2941, 0.4941, 0.2627, 0.0706],\n",
       "        [0.2314, 0.3804, 0.4941, 0.3882, 0.9373, 0.9020, 0.9020, 0.6039, 0.6784,\n",
       "         0.5686, 0.0392, 0.3412, 0.3647, 0.5020, 0.0588, 0.3882, 0.9647, 0.8667,\n",
       "         0.1098, 0.7451, 0.3451, 0.3686],\n",
       "        [0.0863, 0.8353, 0.0118, 0.4588, 0.3725, 0.2353, 0.7569, 0.4392, 0.9451,\n",
       "         0.4471, 0.9059, 0.3216, 0.9020, 0.9373, 0.1647, 0.4824, 0.4902, 0.7137,\n",
       "         0.9137, 0.7725, 0.8627, 0.6941],\n",
       "        [0.4118, 0.2353, 0.1569, 0.3882, 0.9059, 0.6549, 0.4510, 0.5882, 0.3176,\n",
       "         0.4118, 0.6471, 0.7490, 0.2039, 0.5059, 0.6824, 0.2745, 0.2588, 0.6863,\n",
       "         0.9216, 0.7137, 0.6980, 0.5804],\n",
       "        [0.3922, 0.9961, 0.4863, 0.6314, 0.6039, 0.4196, 0.4588, 0.2980, 0.4667,\n",
       "         0.5059, 0.3176, 0.0353, 0.6941, 0.7255, 0.0471, 0.6627, 0.5451, 0.2471,\n",
       "         0.8941, 0.1216, 0.8667, 0.1333],\n",
       "        [0.8431, 0.8627, 0.4000, 0.6667, 0.9569, 0.5294, 0.3176, 0.9098, 0.5333,\n",
       "         0.3647, 0.2039, 0.5569, 0.7020, 0.9294, 0.6392, 0.7137, 1.0000, 0.1059,\n",
       "         0.1765, 0.9686, 0.3451, 0.6510],\n",
       "        [0.2941, 0.3059, 0.7647, 0.9843, 0.1490, 0.3490, 0.5647, 0.4588, 0.3922,\n",
       "         0.3098, 0.3882, 0.3176, 0.8745, 0.2980, 0.6353, 0.8039, 0.0588, 0.5608,\n",
       "         0.5882, 0.0235, 0.6824, 0.6510],\n",
       "        [0.8667, 0.9020, 0.4824, 0.2353, 0.8314, 0.0667, 0.4157, 0.9490, 0.9098,\n",
       "         0.1255, 0.1255, 0.2000, 0.0667, 0.9098, 0.1373, 0.0627, 0.5176, 0.3137,\n",
       "         0.5059, 0.5176, 0.7725, 0.9647],\n",
       "        [0.8745, 0.9765, 0.8667, 0.4627, 0.9294, 0.3373, 0.2863, 0.7922, 0.3020,\n",
       "         0.4667, 0.3882, 0.3686, 0.0902, 0.8157, 0.6157, 0.0235, 0.6824, 0.6353,\n",
       "         0.0549, 0.1137, 0.3059, 0.3373],\n",
       "        [0.8431, 0.3255, 0.3137, 0.2000, 0.2118, 0.6157, 0.4745, 0.4353, 0.1647,\n",
       "         0.3412, 0.0471, 0.1451, 0.3882, 0.1333, 0.7686, 0.0392, 0.8431, 0.6549,\n",
       "         0.9412, 0.2706, 0.2627, 0.1843],\n",
       "        [0.4471, 0.8941, 0.1373, 0.2000, 0.5922, 0.8235, 0.1725, 0.9882, 0.8157,\n",
       "         0.9804, 0.8549, 0.9569, 0.7373, 0.9804, 0.9020, 0.2039, 0.2706, 0.7882,\n",
       "         0.1608, 0.1765, 0.9725, 0.1647],\n",
       "        [0.7255, 0.2980, 0.0078, 0.3882, 0.1922, 0.8353, 0.4667, 0.6510, 0.4000,\n",
       "         0.7490, 0.0471, 0.9412, 0.2275, 0.6824, 0.0824, 0.0392, 0.7490, 0.5608,\n",
       "         0.5412, 0.8431, 0.1137, 0.5294]])"
      ]
     },
     "execution_count": 9,
     "metadata": {},
     "output_type": "execute_result"
    }
   ],
   "source": [
    "fake_tensor_data=fake_tensor_data/255\n",
    "fake_tensor_data"
   ]
  },
  {
   "cell_type": "code",
   "execution_count": 10,
   "id": "5c811574",
   "metadata": {
    "execution": {
     "iopub.execute_input": "2025-06-23T18:57:20.939202Z",
     "iopub.status.busy": "2025-06-23T18:57:20.938242Z",
     "iopub.status.idle": "2025-06-23T18:57:21.873367Z",
     "shell.execute_reply": "2025-06-23T18:57:21.872298Z"
    },
    "papermill": {
     "duration": 0.945916,
     "end_time": "2025-06-23T18:57:21.875128",
     "exception": false,
     "start_time": "2025-06-23T18:57:20.929212",
     "status": "completed"
    },
    "tags": []
   },
   "outputs": [
    {
     "data": {
      "image/png": "[encoded data removed]",
      "text/plain": [
       "<Figure size 900x900 with 15 Axes>"
      ]
     },
     "metadata": {},
     "output_type": "display_data"
    }
   ],
   "source": [
    "torch.manual_seed(42)\n",
    "fig=plt.figure(figsize=(9,9))\n",
    "row, col= 4 , 4\n",
    "\n",
    "for i in range(1, row*col):\n",
    "    index=torch.randint(0,len(train_data),size=[1]).item()\n",
    "    image, lebel= train_data[index]\n",
    "    fig.add_subplot(row, col, i)\n",
    "    plt.title(class_name[lebel])\n",
    "    plt.imshow(image.squeeze())\n",
    "    plt.axis(False)\n",
    "    \n",
    "    \n",
    "\n"
   ]
  },
  {
   "cell_type": "code",
   "execution_count": 11,
   "id": "91c22939",
   "metadata": {
    "execution": {
     "iopub.execute_input": "2025-06-23T18:57:21.894965Z",
     "iopub.status.busy": "2025-06-23T18:57:21.894641Z",
     "iopub.status.idle": "2025-06-23T18:57:21.901898Z",
     "shell.execute_reply": "2025-06-23T18:57:21.900821Z"
    },
    "papermill": {
     "duration": 0.01898,
     "end_time": "2025-06-23T18:57:21.903399",
     "exception": false,
     "start_time": "2025-06-23T18:57:21.884419",
     "status": "completed"
    },
    "tags": []
   },
   "outputs": [
    {
     "data": {
      "text/plain": [
       "2"
      ]
     },
     "execution_count": 11,
     "metadata": {},
     "output_type": "execute_result"
    }
   ],
   "source": [
    "torch.randint(0,10, size=[1]).item()"
   ]
  },
  {
   "cell_type": "code",
   "execution_count": 12,
   "id": "53b0ef9d",
   "metadata": {
    "execution": {
     "iopub.execute_input": "2025-06-23T18:57:21.922984Z",
     "iopub.status.busy": "2025-06-23T18:57:21.922698Z",
     "iopub.status.idle": "2025-06-23T18:57:21.930017Z",
     "shell.execute_reply": "2025-06-23T18:57:21.928803Z"
    },
    "papermill": {
     "duration": 0.01887,
     "end_time": "2025-06-23T18:57:21.931597",
     "exception": false,
     "start_time": "2025-06-23T18:57:21.912727",
     "status": "completed"
    },
    "tags": []
   },
   "outputs": [
    {
     "name": "stdout",
     "output_type": "stream",
     "text": [
      "Dataloaders: (<torch.utils.data.dataloader.DataLoader object at 0x7f68a09ffa90>, <torch.utils.data.dataloader.DataLoader object at 0x7f68a0aa30d0>)\n",
      "Length of train dataloader: 1875 batches of 32\n",
      "Length of test dataloader: 313 batches of 32\n"
     ]
    }
   ],
   "source": [
    "from torch.utils.data import DataLoader\n",
    "\n",
    "# Setup the batch size hyperparameter\n",
    "BATCH_SIZE = 32\n",
    "\n",
    "# Turn datasets into iterables (batches)\n",
    "train_dataloader = DataLoader(train_data, # dataset to turn into iterable\n",
    "    batch_size=BATCH_SIZE, # how many samples per batch? \n",
    "    shuffle=True # shuffle data every epoch?\n",
    ")\n",
    "\n",
    "test_dataloader = DataLoader(test_data,\n",
    "    batch_size=BATCH_SIZE,\n",
    "    shuffle=False # don't necessarily have to shuffle the testing data\n",
    ")\n",
    "\n",
    "# Let's check out what we've created\n",
    "print(f\"Dataloaders: {train_dataloader, test_dataloader}\") \n",
    "print(f\"Length of train dataloader: {len(train_dataloader)} batches of {BATCH_SIZE}\")\n",
    "print(f\"Length of test dataloader: {len(test_dataloader)} batches of {BATCH_SIZE}\")"
   ]
  },
  {
   "cell_type": "code",
   "execution_count": 13,
   "id": "d5976ec8",
   "metadata": {
    "execution": {
     "iopub.execute_input": "2025-06-23T18:57:21.951596Z",
     "iopub.status.busy": "2025-06-23T18:57:21.950785Z",
     "iopub.status.idle": "2025-06-23T18:57:22.017068Z",
     "shell.execute_reply": "2025-06-23T18:57:22.015780Z"
    },
    "papermill": {
     "duration": 0.078902,
     "end_time": "2025-06-23T18:57:22.019670",
     "exception": false,
     "start_time": "2025-06-23T18:57:21.940768",
     "status": "completed"
    },
    "tags": []
   },
   "outputs": [
    {
     "name": "stdout",
     "output_type": "stream",
     "text": [
      "0 tensor([[[[0.0000, 0.0000, 0.0000,  ..., 0.0000, 0.0000, 0.0000],\n",
      "          [0.0000, 0.0000, 0.0000,  ..., 0.0000, 0.0000, 0.0000],\n",
      "          [0.0000, 0.0000, 0.0000,  ..., 0.0000, 0.0000, 0.0000],\n",
      "          ...,\n",
      "          [0.0000, 0.0000, 0.0000,  ..., 0.0000, 0.0000, 0.0000],\n",
      "          [0.0000, 0.0000, 0.0000,  ..., 0.0000, 0.0000, 0.0000],\n",
      "          [0.0000, 0.0000, 0.0000,  ..., 0.0000, 0.0000, 0.0000]]],\n",
      "\n",
      "\n",
      "        [[[0.0000, 0.0000, 0.0000,  ..., 0.0000, 0.0000, 0.0000],\n",
      "          [0.0000, 0.0000, 0.0000,  ..., 0.0000, 0.0000, 0.0000],\n",
      "          [0.0000, 0.0000, 0.0000,  ..., 0.0000, 0.0000, 0.0000],\n",
      "          ...,\n",
      "          [0.0000, 0.0000, 0.0000,  ..., 0.0000, 0.0000, 0.0000],\n",
      "          [0.0000, 0.0000, 0.0000,  ..., 0.0000, 0.0000, 0.0000],\n",
      "          [0.0000, 0.0000, 0.0000,  ..., 0.0000, 0.0000, 0.0000]]],\n",
      "\n",
      "\n",
      "        [[[0.0000, 0.0000, 0.0000,  ..., 0.0000, 0.0000, 0.0000],\n",
      "          [0.0000, 0.0000, 0.0000,  ..., 0.0000, 0.0000, 0.0000],\n",
      "          [0.0000, 0.0000, 0.0000,  ..., 0.0000, 0.0000, 0.0000],\n",
      "          ...,\n",
      "          [0.0000, 0.0000, 0.0000,  ..., 0.0000, 0.0000, 0.0000],\n",
      "          [0.0000, 0.0000, 0.0000,  ..., 0.0000, 0.0000, 0.0000],\n",
      "          [0.0000, 0.0000, 0.0000,  ..., 0.0000, 0.0000, 0.0000]]],\n",
      "\n",
      "\n",
      "        ...,\n",
      "\n",
      "\n",
      "        [[[0.0000, 0.0000, 0.0000,  ..., 0.0000, 0.0000, 0.0000],\n",
      "          [0.0000, 0.0000, 0.0000,  ..., 0.0000, 0.0000, 0.0000],\n",
      "          [0.0000, 0.0000, 0.0000,  ..., 0.0000, 0.0000, 0.0000],\n",
      "          ...,\n",
      "          [0.0000, 0.0000, 0.0000,  ..., 0.0000, 0.0000, 0.0000],\n",
      "          [0.0000, 0.0000, 0.0000,  ..., 0.0000, 0.0000, 0.0000],\n",
      "          [0.0000, 0.0000, 0.0000,  ..., 0.0000, 0.0000, 0.0000]]],\n",
      "\n",
      "\n",
      "        [[[0.0000, 0.0000, 0.0000,  ..., 0.0000, 0.0000, 0.0000],\n",
      "          [0.0000, 0.0000, 0.0000,  ..., 0.0000, 0.0000, 0.0000],\n",
      "          [0.0000, 0.0000, 0.0000,  ..., 0.3647, 0.0000, 0.0000],\n",
      "          ...,\n",
      "          [0.0000, 0.0000, 0.0000,  ..., 0.4588, 0.3059, 0.0000],\n",
      "          [0.0000, 0.0000, 0.0000,  ..., 0.0000, 0.0000, 0.0000],\n",
      "          [0.0000, 0.0000, 0.0000,  ..., 0.0000, 0.0000, 0.0000]]],\n",
      "\n",
      "\n",
      "        [[[0.0000, 0.0000, 0.0000,  ..., 0.0000, 0.0000, 0.0000],\n",
      "          [0.0000, 0.0000, 0.0000,  ..., 0.0000, 0.0000, 0.0000],\n",
      "          [0.0000, 0.0000, 0.0000,  ..., 0.0000, 0.0000, 0.0000],\n",
      "          ...,\n",
      "          [0.0000, 0.0000, 0.0000,  ..., 0.0000, 0.0000, 0.0000],\n",
      "          [0.0000, 0.0000, 0.0000,  ..., 0.0000, 0.0000, 0.0000],\n",
      "          [0.0000, 0.0000, 0.0000,  ..., 0.0000, 0.0000, 0.0000]]]]) tensor([5, 4, 8, 7, 4, 7, 7, 3, 7, 1, 1, 4, 9, 4, 8, 2, 6, 2, 8, 9, 7, 3, 4, 5,\n",
      "        7, 4, 8, 1, 6, 9, 9, 4])\n",
      "1 tensor([[[[0.0000, 0.0000, 0.0000,  ..., 0.0000, 0.0000, 0.0000],\n",
      "          [0.0000, 0.0000, 0.0000,  ..., 0.0000, 0.0000, 0.0000],\n",
      "          [0.0000, 0.0000, 0.0000,  ..., 0.0000, 0.0000, 0.0000],\n",
      "          ...,\n",
      "          [0.0000, 0.0000, 0.0000,  ..., 0.0000, 0.0000, 0.0000],\n",
      "          [0.0000, 0.0000, 0.0000,  ..., 0.0000, 0.0000, 0.0000],\n",
      "          [0.0000, 0.0000, 0.0000,  ..., 0.0000, 0.0000, 0.0000]]],\n",
      "\n",
      "\n",
      "        [[[0.0000, 0.0000, 0.0000,  ..., 0.0000, 0.0000, 0.0000],\n",
      "          [0.0000, 0.0000, 0.0000,  ..., 0.0000, 0.0000, 0.0000],\n",
      "          [0.0000, 0.0000, 0.0000,  ..., 0.0000, 0.0000, 0.0000],\n",
      "          ...,\n",
      "          [0.0000, 0.0000, 0.0000,  ..., 0.0000, 0.0000, 0.0000],\n",
      "          [0.0000, 0.0000, 0.0000,  ..., 0.0000, 0.0000, 0.0000],\n",
      "          [0.0000, 0.0000, 0.0000,  ..., 0.0000, 0.0000, 0.0000]]],\n",
      "\n",
      "\n",
      "        [[[0.0000, 0.0000, 0.0000,  ..., 0.0000, 0.0000, 0.0000],\n",
      "          [0.0000, 0.0000, 0.0000,  ..., 0.0000, 0.0000, 0.0000],\n",
      "          [0.0000, 0.0000, 0.0000,  ..., 0.0000, 0.0000, 0.0000],\n",
      "          ...,\n",
      "          [0.0000, 0.0000, 0.0000,  ..., 0.3569, 0.0000, 0.0000],\n",
      "          [0.0000, 0.0000, 0.0000,  ..., 0.3098, 0.0000, 0.0000],\n",
      "          [0.0000, 0.0000, 0.0000,  ..., 0.1137, 0.0000, 0.0000]]],\n",
      "\n",
      "\n",
      "        ...,\n",
      "\n",
      "\n",
      "        [[[0.0000, 0.0000, 0.0000,  ..., 0.0000, 0.0000, 0.0000],\n",
      "          [0.0000, 0.0000, 0.0000,  ..., 0.0000, 0.0000, 0.0000],\n",
      "          [0.0000, 0.0000, 0.0000,  ..., 0.0000, 0.0000, 0.0000],\n",
      "          ...,\n",
      "          [0.0000, 0.0000, 0.0000,  ..., 0.0000, 0.0000, 0.0000],\n",
      "          [0.0000, 0.0000, 0.0000,  ..., 0.0000, 0.0000, 0.0000],\n",
      "          [0.0000, 0.0000, 0.0000,  ..., 0.0000, 0.0000, 0.0000]]],\n",
      "\n",
      "\n",
      "        [[[0.0000, 0.0000, 0.0000,  ..., 0.0000, 0.0000, 0.0000],\n",
      "          [0.0000, 0.0000, 0.0000,  ..., 0.0000, 0.0000, 0.0000],\n",
      "          [0.0000, 0.0000, 0.0000,  ..., 0.0000, 0.0000, 0.0000],\n",
      "          ...,\n",
      "          [0.0000, 0.2000, 0.3098,  ..., 0.2000, 0.2510, 0.0000],\n",
      "          [0.0000, 0.0000, 0.0000,  ..., 0.0000, 0.0000, 0.0000],\n",
      "          [0.0000, 0.0000, 0.0000,  ..., 0.0000, 0.0000, 0.0000]]],\n",
      "\n",
      "\n",
      "        [[[0.0000, 0.0000, 0.0000,  ..., 0.0000, 0.0000, 0.0000],\n",
      "          [0.0000, 0.0000, 0.0000,  ..., 0.0000, 0.0000, 0.0000],\n",
      "          [0.0000, 0.0000, 0.0000,  ..., 0.0000, 0.0000, 0.0000],\n",
      "          ...,\n",
      "          [0.0000, 0.0000, 0.0000,  ..., 0.0000, 0.0000, 0.0000],\n",
      "          [0.0000, 0.0000, 0.0000,  ..., 0.0000, 0.0000, 0.0000],\n",
      "          [0.0000, 0.0000, 0.0000,  ..., 0.0000, 0.0000, 0.0000]]]]) tensor([0, 7, 2, 0, 0, 8, 1, 3, 9, 1, 2, 1, 5, 4, 3, 9, 2, 6, 9, 8, 9, 6, 5, 0,\n",
      "        3, 1, 7, 9, 7, 1, 8, 9])\n",
      "2 tensor([[[[0., 0., 0.,  ..., 0., 0., 0.],\n",
      "          [0., 0., 0.,  ..., 0., 0., 0.],\n",
      "          [0., 0., 0.,  ..., 0., 0., 0.],\n",
      "          ...,\n",
      "          [0., 0., 0.,  ..., 0., 0., 0.],\n",
      "          [0., 0., 0.,  ..., 0., 0., 0.],\n",
      "          [0., 0., 0.,  ..., 0., 0., 0.]]],\n",
      "\n",
      "\n",
      "        [[[0., 0., 0.,  ..., 0., 0., 0.],\n",
      "          [0., 0., 0.,  ..., 0., 0., 0.],\n",
      "          [0., 0., 0.,  ..., 0., 0., 0.],\n",
      "          ...,\n",
      "          [0., 0., 0.,  ..., 0., 0., 0.],\n",
      "          [0., 0., 0.,  ..., 0., 0., 0.],\n",
      "          [0., 0., 0.,  ..., 0., 0., 0.]]],\n",
      "\n",
      "\n",
      "        [[[0., 0., 0.,  ..., 0., 0., 0.],\n",
      "          [0., 0., 0.,  ..., 0., 0., 0.],\n",
      "          [0., 0., 0.,  ..., 0., 0., 0.],\n",
      "          ...,\n",
      "          [0., 0., 0.,  ..., 0., 0., 0.],\n",
      "          [0., 0., 0.,  ..., 0., 0., 0.],\n",
      "          [0., 0., 0.,  ..., 0., 0., 0.]]],\n",
      "\n",
      "\n",
      "        ...,\n",
      "\n",
      "\n",
      "        [[[0., 0., 0.,  ..., 0., 0., 0.],\n",
      "          [0., 0., 0.,  ..., 0., 0., 0.],\n",
      "          [0., 0., 0.,  ..., 0., 0., 0.],\n",
      "          ...,\n",
      "          [0., 0., 0.,  ..., 0., 0., 0.],\n",
      "          [0., 0., 0.,  ..., 0., 0., 0.],\n",
      "          [0., 0., 0.,  ..., 0., 0., 0.]]],\n",
      "\n",
      "\n",
      "        [[[0., 0., 0.,  ..., 0., 0., 0.],\n",
      "          [0., 0., 0.,  ..., 0., 0., 0.],\n",
      "          [0., 0., 0.,  ..., 0., 0., 0.],\n",
      "          ...,\n",
      "          [0., 0., 0.,  ..., 0., 0., 0.],\n",
      "          [0., 0., 0.,  ..., 0., 0., 0.],\n",
      "          [0., 0., 0.,  ..., 0., 0., 0.]]],\n",
      "\n",
      "\n",
      "        [[[0., 0., 0.,  ..., 0., 0., 0.],\n",
      "          [0., 0., 0.,  ..., 0., 0., 0.],\n",
      "          [0., 0., 0.,  ..., 0., 0., 0.],\n",
      "          ...,\n",
      "          [0., 0., 0.,  ..., 0., 0., 0.],\n",
      "          [0., 0., 0.,  ..., 0., 0., 0.],\n",
      "          [0., 0., 0.,  ..., 0., 0., 0.]]]]) tensor([1, 7, 3, 2, 5, 9, 2, 3, 2, 5, 0, 5, 9, 6, 1, 2, 2, 3, 0, 1, 9, 1, 4, 1,\n",
      "        0, 3, 1, 2, 0, 9, 8, 0])\n",
      "3 tensor([[[[0.0000, 0.0000, 0.0000,  ..., 0.0000, 0.0000, 0.0000],\n",
      "          [0.0000, 0.0000, 0.0000,  ..., 0.0000, 0.0000, 0.0000],\n",
      "          [0.0000, 0.0000, 0.0000,  ..., 0.0000, 0.0000, 0.0000],\n",
      "          ...,\n",
      "          [0.0000, 0.0000, 0.0000,  ..., 0.0000, 0.0000, 0.0000],\n",
      "          [0.0000, 0.0000, 0.0000,  ..., 0.0000, 0.0000, 0.0000],\n",
      "          [0.0000, 0.0000, 0.0000,  ..., 0.0000, 0.0000, 0.0000]]],\n",
      "\n",
      "\n",
      "        [[[0.0000, 0.0000, 0.0000,  ..., 0.0000, 0.0000, 0.0000],\n",
      "          [0.0000, 0.0000, 0.0000,  ..., 0.0000, 0.0000, 0.0000],\n",
      "          [0.0000, 0.0000, 0.0000,  ..., 0.0000, 0.0000, 0.0000],\n",
      "          ...,\n",
      "          [0.0000, 0.0000, 0.0000,  ..., 0.0000, 0.0000, 0.0000],\n",
      "          [0.0000, 0.0000, 0.0000,  ..., 0.0000, 0.0000, 0.0000],\n",
      "          [0.0000, 0.0000, 0.0000,  ..., 0.0000, 0.0000, 0.0000]]],\n",
      "\n",
      "\n",
      "        [[[0.0000, 0.0000, 0.0000,  ..., 0.0039, 0.0000, 0.0000],\n",
      "          [0.0000, 0.0000, 0.0000,  ..., 0.0039, 0.0000, 0.0000],\n",
      "          [0.0000, 0.0000, 0.0078,  ..., 0.0000, 0.0078, 0.0000],\n",
      "          ...,\n",
      "          [0.0000, 0.0000, 0.1216,  ..., 0.8471, 0.0706, 0.0000],\n",
      "          [0.0000, 0.0000, 0.0000,  ..., 1.0000, 0.0000, 0.0000],\n",
      "          [0.0000, 0.0000, 0.0000,  ..., 0.2745, 0.0000, 0.0000]]],\n",
      "\n",
      "\n",
      "        ...,\n",
      "\n",
      "\n",
      "        [[[0.0000, 0.0000, 0.0000,  ..., 0.0000, 0.0000, 0.0000],\n",
      "          [0.0000, 0.0000, 0.0000,  ..., 0.0000, 0.0000, 0.0000],\n",
      "          [0.0000, 0.0000, 0.0000,  ..., 0.0000, 0.0000, 0.0000],\n",
      "          ...,\n",
      "          [0.0000, 0.0000, 0.0000,  ..., 0.0000, 0.0000, 0.0000],\n",
      "          [0.0000, 0.0000, 0.0000,  ..., 0.0000, 0.0000, 0.0000],\n",
      "          [0.0000, 0.0000, 0.0000,  ..., 0.0000, 0.0000, 0.0000]]],\n",
      "\n",
      "\n",
      "        [[[0.0000, 0.0000, 0.0000,  ..., 0.0000, 0.0000, 0.0000],\n",
      "          [0.0000, 0.0000, 0.0000,  ..., 0.0000, 0.0000, 0.0000],\n",
      "          [0.0000, 0.0000, 0.0000,  ..., 0.0000, 0.0000, 0.0000],\n",
      "          ...,\n",
      "          [0.0000, 0.0000, 0.0000,  ..., 0.0000, 0.0000, 0.0000],\n",
      "          [0.0000, 0.0000, 0.0000,  ..., 0.0000, 0.0000, 0.0000],\n",
      "          [0.0000, 0.0000, 0.0000,  ..., 0.0000, 0.0000, 0.0000]]],\n",
      "\n",
      "\n",
      "        [[[0.0000, 0.0000, 0.0000,  ..., 0.0000, 0.0000, 0.0000],\n",
      "          [0.0000, 0.0000, 0.0000,  ..., 0.0000, 0.0000, 0.0000],\n",
      "          [0.0000, 0.0000, 0.0000,  ..., 0.0000, 0.0000, 0.0000],\n",
      "          ...,\n",
      "          [0.0000, 0.0000, 0.0000,  ..., 0.0000, 0.0000, 0.0000],\n",
      "          [0.0000, 0.0000, 0.0000,  ..., 0.0000, 0.0000, 0.0000],\n",
      "          [0.0000, 0.0000, 0.0000,  ..., 0.0000, 0.0000, 0.0000]]]]) tensor([9, 4, 2, 3, 3, 1, 5, 5, 5, 3, 1, 2, 0, 2, 9, 0, 7, 0, 6, 4, 2, 2, 1, 8,\n",
      "        6, 0, 1, 9, 2, 6, 7, 6])\n",
      "4 tensor([[[[0., 0., 0.,  ..., 0., 0., 0.],\n",
      "          [0., 0., 0.,  ..., 0., 0., 0.],\n",
      "          [0., 0., 0.,  ..., 0., 0., 0.],\n",
      "          ...,\n",
      "          [0., 0., 0.,  ..., 0., 0., 0.],\n",
      "          [0., 0., 0.,  ..., 0., 0., 0.],\n",
      "          [0., 0., 0.,  ..., 0., 0., 0.]]],\n",
      "\n",
      "\n",
      "        [[[0., 0., 0.,  ..., 0., 0., 0.],\n",
      "          [0., 0., 0.,  ..., 0., 0., 0.],\n",
      "          [0., 0., 0.,  ..., 0., 0., 0.],\n",
      "          ...,\n",
      "          [0., 0., 0.,  ..., 0., 0., 0.],\n",
      "          [0., 0., 0.,  ..., 0., 0., 0.],\n",
      "          [0., 0., 0.,  ..., 0., 0., 0.]]],\n",
      "\n",
      "\n",
      "        [[[0., 0., 0.,  ..., 0., 0., 0.],\n",
      "          [0., 0., 0.,  ..., 0., 0., 0.],\n",
      "          [0., 0., 0.,  ..., 0., 0., 0.],\n",
      "          ...,\n",
      "          [0., 0., 0.,  ..., 0., 0., 0.],\n",
      "          [0., 0., 0.,  ..., 0., 0., 0.],\n",
      "          [0., 0., 0.,  ..., 0., 0., 0.]]],\n",
      "\n",
      "\n",
      "        ...,\n",
      "\n",
      "\n",
      "        [[[0., 0., 0.,  ..., 0., 0., 0.],\n",
      "          [0., 0., 0.,  ..., 0., 0., 0.],\n",
      "          [0., 0., 0.,  ..., 0., 0., 0.],\n",
      "          ...,\n",
      "          [0., 0., 0.,  ..., 0., 0., 0.],\n",
      "          [0., 0., 0.,  ..., 0., 0., 0.],\n",
      "          [0., 0., 0.,  ..., 0., 0., 0.]]],\n",
      "\n",
      "\n",
      "        [[[0., 0., 0.,  ..., 0., 0., 0.],\n",
      "          [0., 0., 0.,  ..., 0., 0., 0.],\n",
      "          [0., 0., 0.,  ..., 0., 0., 0.],\n",
      "          ...,\n",
      "          [0., 0., 0.,  ..., 0., 0., 0.],\n",
      "          [0., 0., 0.,  ..., 0., 0., 0.],\n",
      "          [0., 0., 0.,  ..., 0., 0., 0.]]],\n",
      "\n",
      "\n",
      "        [[[0., 0., 0.,  ..., 0., 0., 0.],\n",
      "          [0., 0., 0.,  ..., 0., 0., 0.],\n",
      "          [0., 0., 0.,  ..., 0., 0., 0.],\n",
      "          ...,\n",
      "          [0., 0., 0.,  ..., 0., 0., 0.],\n",
      "          [0., 0., 0.,  ..., 0., 0., 0.],\n",
      "          [0., 0., 0.,  ..., 0., 0., 0.]]]]) tensor([3, 5, 7, 7, 0, 0, 5, 8, 6, 9, 9, 5, 8, 0, 8, 3, 3, 5, 6, 8, 3, 5, 4, 2,\n",
      "        5, 0, 4, 8, 8, 4, 2, 5])\n",
      "5 tensor([[[[0.0000, 0.0000, 0.0000,  ..., 0.0000, 0.0000, 0.0000],\n",
      "          [0.0000, 0.0000, 0.0000,  ..., 0.0000, 0.0000, 0.0000],\n",
      "          [0.0000, 0.0000, 0.0000,  ..., 0.0000, 0.0000, 0.0000],\n",
      "          ...,\n",
      "          [0.0000, 0.0000, 0.0000,  ..., 0.0000, 0.0000, 0.0000],\n",
      "          [0.0000, 0.0000, 0.0000,  ..., 0.0000, 0.0000, 0.0000],\n",
      "          [0.0000, 0.0000, 0.0000,  ..., 0.0000, 0.0000, 0.0000]]],\n",
      "\n",
      "\n",
      "        [[[0.0000, 0.0000, 0.0000,  ..., 0.0000, 0.0000, 0.0000],\n",
      "          [0.0000, 0.0000, 0.0000,  ..., 0.0000, 0.0000, 0.0000],\n",
      "          [0.0000, 0.0000, 0.0000,  ..., 0.0000, 0.0000, 0.0000],\n",
      "          ...,\n",
      "          [0.0000, 0.0000, 0.0000,  ..., 0.0000, 0.0000, 0.0000],\n",
      "          [0.0000, 0.0000, 0.0000,  ..., 0.0000, 0.0000, 0.0000],\n",
      "          [0.0000, 0.0000, 0.0000,  ..., 0.0000, 0.0000, 0.0000]]],\n",
      "\n",
      "\n",
      "        [[[0.0000, 0.0000, 0.0000,  ..., 0.0000, 0.0000, 0.0000],\n",
      "          [0.0000, 0.0000, 0.0000,  ..., 0.0000, 0.0000, 0.0000],\n",
      "          [0.0000, 0.0000, 0.0000,  ..., 0.0000, 0.0000, 0.0000],\n",
      "          ...,\n",
      "          [0.0000, 0.0000, 0.0000,  ..., 0.0000, 0.0000, 0.0000],\n",
      "          [0.0000, 0.0000, 0.0000,  ..., 0.0000, 0.0000, 0.0000],\n",
      "          [0.0000, 0.0000, 0.0000,  ..., 0.0000, 0.0000, 0.0000]]],\n",
      "\n",
      "\n",
      "        ...,\n",
      "\n",
      "\n",
      "        [[[0.0000, 0.0000, 0.0000,  ..., 0.0000, 0.0000, 0.0000],\n",
      "          [0.0000, 0.0000, 0.0000,  ..., 0.0000, 0.0000, 0.0000],\n",
      "          [0.0000, 0.0000, 0.0000,  ..., 0.0039, 0.0000, 0.0000],\n",
      "          ...,\n",
      "          [0.0000, 0.0000, 0.0000,  ..., 0.0000, 0.0000, 0.0000],\n",
      "          [0.0000, 0.0000, 0.0000,  ..., 0.0039, 0.0000, 0.0000],\n",
      "          [0.0000, 0.0000, 0.0000,  ..., 0.0000, 0.0000, 0.0000]]],\n",
      "\n",
      "\n",
      "        [[[0.0000, 0.0000, 0.0000,  ..., 0.0000, 0.0000, 0.0000],\n",
      "          [0.0000, 0.0000, 0.0000,  ..., 0.0000, 0.0000, 0.0000],\n",
      "          [0.0000, 0.0000, 0.0000,  ..., 0.0000, 0.0000, 0.0000],\n",
      "          ...,\n",
      "          [0.0000, 0.0000, 0.0000,  ..., 0.0000, 0.0000, 0.0000],\n",
      "          [0.0000, 0.0000, 0.0000,  ..., 0.0000, 0.0000, 0.0000],\n",
      "          [0.0000, 0.0000, 0.0000,  ..., 0.0000, 0.0000, 0.0000]]],\n",
      "\n",
      "\n",
      "        [[[0.0000, 0.0000, 0.0000,  ..., 0.0000, 0.0039, 0.0000],\n",
      "          [0.0000, 0.0000, 0.0000,  ..., 0.0000, 0.0235, 0.0000],\n",
      "          [0.0000, 0.0000, 0.0000,  ..., 0.0000, 0.0235, 0.0000],\n",
      "          ...,\n",
      "          [0.0000, 0.3765, 0.8824,  ..., 0.7765, 0.5922, 0.0000],\n",
      "          [0.0000, 0.0000, 0.0667,  ..., 0.8824, 0.7451, 0.0000],\n",
      "          [0.0000, 0.0000, 0.0000,  ..., 0.3647, 0.2196, 0.0000]]]]) tensor([4, 8, 5, 9, 8, 0, 2, 2, 9, 1, 2, 9, 1, 9, 2, 6, 9, 5, 9, 3, 3, 7, 9, 0,\n",
      "        2, 5, 4, 2, 2, 0, 7, 9])\n"
     ]
    }
   ],
   "source": [
    "\n",
    "\n",
    "# Check out what's inside the training dataloader\n",
    "train_features_batch, train_labels_batch = next(iter(train_dataloader))\n",
    "train_features_batch.shape, train_labels_batch.shape\n",
    "\n",
    "len(train_features_batch)\n",
    "len(train_labels_batch)\n",
    "dir(train_features_batch)\n",
    "\n",
    "len(train_dataloader)\n",
    "\n",
    "for batch, (X, y) in enumerate(train_dataloader):\n",
    "    \n",
    "    print(batch, X, y)\n",
    "    if batch==5:\n",
    "        break"
   ]
  },
  {
   "cell_type": "code",
   "execution_count": 14,
   "id": "703ee6ab",
   "metadata": {
    "execution": {
     "iopub.execute_input": "2025-06-23T18:57:22.042350Z",
     "iopub.status.busy": "2025-06-23T18:57:22.041982Z",
     "iopub.status.idle": "2025-06-23T18:57:22.144746Z",
     "shell.execute_reply": "2025-06-23T18:57:22.143899Z"
    },
    "papermill": {
     "duration": 0.116412,
     "end_time": "2025-06-23T18:57:22.146283",
     "exception": false,
     "start_time": "2025-06-23T18:57:22.029871",
     "status": "completed"
    },
    "tags": []
   },
   "outputs": [
    {
     "name": "stdout",
     "output_type": "stream",
     "text": [
      "Image size: torch.Size([1, 28, 28])\n",
      "Label: 6, label size: torch.Size([])\n"
     ]
    },
    {
     "data": {
      "image/png": "[encoded data removed]",
      "text/plain": [
       "<Figure size 640x480 with 1 Axes>"
      ]
     },
     "metadata": {},
     "output_type": "display_data"
    }
   ],
   "source": [
    "# Show a sample\n",
    "torch.manual_seed(42)\n",
    "random_idx = torch.randint(0, len(train_features_batch), size=[1]).item()\n",
    "img, label = train_features_batch[random_idx], train_labels_batch[random_idx]\n",
    "plt.imshow(img.squeeze(), cmap=\"gray\")\n",
    "plt.title(class_name[label])\n",
    "plt.axis(\"Off\");\n",
    "print(f\"Image size: {img.shape}\")\n",
    "print(f\"Label: {label}, label size: {label.shape}\")"
   ]
  },
  {
   "cell_type": "markdown",
   "id": "aa4d2c64",
   "metadata": {
    "papermill": {
     "duration": 0.009187,
     "end_time": "2025-06-23T18:57:22.165248",
     "exception": false,
     "start_time": "2025-06-23T18:57:22.156061",
     "status": "completed"
    },
    "tags": []
   },
   "source": [
    "Create a Baseline model just 2 layer"
   ]
  },
  {
   "cell_type": "code",
   "execution_count": 15,
   "id": "ba98ef97",
   "metadata": {
    "execution": {
     "iopub.execute_input": "2025-06-23T18:57:22.185991Z",
     "iopub.status.busy": "2025-06-23T18:57:22.185652Z",
     "iopub.status.idle": "2025-06-23T18:57:22.192882Z",
     "shell.execute_reply": "2025-06-23T18:57:22.191829Z"
    },
    "papermill": {
     "duration": 0.019549,
     "end_time": "2025-06-23T18:57:22.194520",
     "exception": false,
     "start_time": "2025-06-23T18:57:22.174971",
     "status": "completed"
    },
    "tags": []
   },
   "outputs": [
    {
     "name": "stdout",
     "output_type": "stream",
     "text": [
      "Shape before flattening: torch.Size([1, 28, 28]) -> [color_channels, height, width]\n",
      "Shape after flattening: torch.Size([1, 784]) -> [color_channels, height*width]\n"
     ]
    }
   ],
   "source": [
    "flatten_model=nn.Flatten()\n",
    "\n",
    "x=train_features_batch[0]\n",
    "\n",
    "output=flatten_model(x)\n",
    "\n",
    "x.shape, output.shape\n",
    "\n",
    "print(f\"Shape before flattening: {x.shape} -> [color_channels, height, width]\")\n",
    "print(f\"Shape after flattening: {output.shape} -> [color_channels, height*width]\")\n"
   ]
  },
  {
   "cell_type": "code",
   "execution_count": 16,
   "id": "934b73ce",
   "metadata": {
    "execution": {
     "iopub.execute_input": "2025-06-23T18:57:22.215539Z",
     "iopub.status.busy": "2025-06-23T18:57:22.215112Z",
     "iopub.status.idle": "2025-06-23T18:57:22.221228Z",
     "shell.execute_reply": "2025-06-23T18:57:22.220390Z"
    },
    "papermill": {
     "duration": 0.018245,
     "end_time": "2025-06-23T18:57:22.222618",
     "exception": false,
     "start_time": "2025-06-23T18:57:22.204373",
     "status": "completed"
    },
    "tags": []
   },
   "outputs": [],
   "source": [
    "from torch import nn\n",
    "\n",
    "class FashionV0(nn.Module):\n",
    "    def __init__(self, input_shape: int, hidden_units: int, output_shape: int):\n",
    "        super().__init__()\n",
    "        self.layer_stack = nn.Sequential(\n",
    "            nn.Flatten(), # neural networks like their inputs in vector form\n",
    "            nn.Linear(in_features=input_shape, out_features=hidden_units), # in_features = number of features in a data sample (784 pixels)\n",
    "            nn.Linear(in_features=hidden_units, out_features=output_shape)\n",
    "        )\n",
    "    \n",
    "    def forward(self, x):\n",
    "        return self.layer_stack(x)"
   ]
  },
  {
   "cell_type": "code",
   "execution_count": 17,
   "id": "e213beba",
   "metadata": {
    "execution": {
     "iopub.execute_input": "2025-06-23T18:57:22.244224Z",
     "iopub.status.busy": "2025-06-23T18:57:22.243905Z",
     "iopub.status.idle": "2025-06-23T18:57:22.254670Z",
     "shell.execute_reply": "2025-06-23T18:57:22.253606Z"
    },
    "papermill": {
     "duration": 0.023683,
     "end_time": "2025-06-23T18:57:22.256393",
     "exception": false,
     "start_time": "2025-06-23T18:57:22.232710",
     "status": "completed"
    },
    "tags": []
   },
   "outputs": [
    {
     "data": {
      "text/plain": [
       "FashionV0(\n",
       "  (layer_stack): Sequential(\n",
       "    (0): Flatten(start_dim=1, end_dim=-1)\n",
       "    (1): Linear(in_features=784, out_features=10, bias=True)\n",
       "    (2): Linear(in_features=10, out_features=10, bias=True)\n",
       "  )\n",
       ")"
      ]
     },
     "execution_count": 17,
     "metadata": {},
     "output_type": "execute_result"
    }
   ],
   "source": [
    "torch.manual_seed(42)\n",
    "model_0 = FashionV0(input_shape=784, # one for every pixel (28x28)\n",
    "    hidden_units=10, # how many units in the hidden layer\n",
    "    output_shape=len(class_name) # one for every class\n",
    ")\n",
    "model_0.to(\"cpu\")\n"
   ]
  },
  {
   "cell_type": "markdown",
   "id": "d0df7578",
   "metadata": {
    "papermill": {
     "duration": 0.009877,
     "end_time": "2025-06-23T18:57:22.276602",
     "exception": false,
     "start_time": "2025-06-23T18:57:22.266725",
     "status": "completed"
    },
    "tags": []
   },
   "source": [
    "SetUp Loss function"
   ]
  },
  {
   "cell_type": "markdown",
   "id": "c3e92232",
   "metadata": {
    "papermill": {
     "duration": 0.009431,
     "end_time": "2025-06-23T18:57:22.295955",
     "exception": false,
     "start_time": "2025-06-23T18:57:22.286524",
     "status": "completed"
    },
    "tags": []
   },
   "source": [
    "Add a helper function"
   ]
  },
  {
   "cell_type": "code",
   "execution_count": 18,
   "id": "4ff05063",
   "metadata": {
    "execution": {
     "iopub.execute_input": "2025-06-23T18:57:22.317613Z",
     "iopub.status.busy": "2025-06-23T18:57:22.317250Z",
     "iopub.status.idle": "2025-06-23T18:57:22.640484Z",
     "shell.execute_reply": "2025-06-23T18:57:22.639480Z"
    },
    "papermill": {
     "duration": 0.336213,
     "end_time": "2025-06-23T18:57:22.642226",
     "exception": false,
     "start_time": "2025-06-23T18:57:22.306013",
     "status": "completed"
    },
    "tags": []
   },
   "outputs": [
    {
     "name": "stdout",
     "output_type": "stream",
     "text": [
      "Downloading helper_functions.py\n"
     ]
    }
   ],
   "source": [
    "import requests\n",
    "from pathlib import Path \n",
    "\n",
    "# Download helper functions from Learn PyTorch repo (if not already downloaded)\n",
    "if Path(\"helper_functions.py\").is_file():\n",
    "  print(\"helper_functions.py already exists, skipping download\")\n",
    "else:\n",
    "  print(\"Downloading helper_functions.py\")\n",
    "  # Note: you need the \"raw\" GitHub URL for this to work\n",
    "  request = requests.get(\"https://raw.githubusercontent.com/mrdbourke/pytorch-deep-learning/main/helper_functions.py\")\n",
    "  with open(\"helper_functions.py\", \"wb\") as f:\n",
    "    f.write(request.content)"
   ]
  },
  {
   "cell_type": "code",
   "execution_count": 19,
   "id": "d2281f03",
   "metadata": {
    "execution": {
     "iopub.execute_input": "2025-06-23T18:57:22.663465Z",
     "iopub.status.busy": "2025-06-23T18:57:22.663071Z",
     "iopub.status.idle": "2025-06-23T18:57:22.673767Z",
     "shell.execute_reply": "2025-06-23T18:57:22.672856Z"
    },
    "papermill": {
     "duration": 0.023186,
     "end_time": "2025-06-23T18:57:22.675497",
     "exception": false,
     "start_time": "2025-06-23T18:57:22.652311",
     "status": "completed"
    },
    "tags": []
   },
   "outputs": [],
   "source": [
    "# Import accuracy metric\n",
    "from helper_functions import accuracy_fn # Note: could also use torchmetrics.Accuracy(task = 'multiclass', num_classes=len(class_names)).to(device)\n",
    "\n",
    "# Setup loss function and optimizer\n",
    "loss_fn = nn.CrossEntropyLoss() # this is also called \"criterion\"/\"cost function\" in some places\n",
    "optimizer = torch.optim.SGD(params=model_0.parameters(), lr=0.1)"
   ]
  },
  {
   "cell_type": "code",
   "execution_count": 20,
   "id": "def9a98d",
   "metadata": {
    "execution": {
     "iopub.execute_input": "2025-06-23T18:57:22.697022Z",
     "iopub.status.busy": "2025-06-23T18:57:22.696696Z",
     "iopub.status.idle": "2025-06-23T18:57:22.701677Z",
     "shell.execute_reply": "2025-06-23T18:57:22.700834Z"
    },
    "papermill": {
     "duration": 0.017204,
     "end_time": "2025-06-23T18:57:22.703106",
     "exception": false,
     "start_time": "2025-06-23T18:57:22.685902",
     "status": "completed"
    },
    "tags": []
   },
   "outputs": [],
   "source": [
    "from timeit import default_timer as timer \n",
    "def print_train_time(start: float, end: float, device: torch.device = None):\n",
    "    \"\"\"Prints difference between start and end time.\n",
    "\n",
    "    Args:\n",
    "        start (float): Start time of computation (preferred in timeit format). \n",
    "        end (float): End time of computation.\n",
    "        device ([type], optional): Device that compute is running on. Defaults to None.\n",
    "\n",
    "    Returns:\n",
    "        float: time between start and end in seconds (higher is longer).\n",
    "    \"\"\"\n",
    "    total_time = end - start\n",
    "    print(f\"Train time on {device}: {total_time:.3f} seconds\")\n",
    "    return total_time"
   ]
  },
  {
   "cell_type": "code",
   "execution_count": 21,
   "id": "fa64a5ed",
   "metadata": {
    "execution": {
     "iopub.execute_input": "2025-06-23T18:57:22.725190Z",
     "iopub.status.busy": "2025-06-23T18:57:22.724864Z",
     "iopub.status.idle": "2025-06-23T18:57:52.882460Z",
     "shell.execute_reply": "2025-06-23T18:57:52.881455Z"
    },
    "papermill": {
     "duration": 30.184221,
     "end_time": "2025-06-23T18:57:52.897600",
     "exception": false,
     "start_time": "2025-06-23T18:57:22.713379",
     "status": "completed"
    },
    "tags": []
   },
   "outputs": [
    {
     "data": {
      "application/vnd.jupyter.widget-view+json": {
       "model_id": "c4e5d0fd076447d9814c777291c20f2d",
       "version_major": 2,
       "version_minor": 0
      },
      "text/plain": [
       "  0%|          | 0/3 [00:00<?, ?it/s]"
      ]
     },
     "metadata": {},
     "output_type": "display_data"
    },
    {
     "name": "stdout",
     "output_type": "stream",
     "text": [
      "Epoch: 0\n",
      "-------\n",
      "Looked at 0/60000 samples\n",
      "Looked at 12800/60000 samples\n",
      "Looked at 25600/60000 samples\n",
      "Looked at 38400/60000 samples\n",
      "Looked at 51200/60000 samples\n",
      "\n",
      "Train loss: 0.59039 | Test loss: 0.50954, Test acc: 82.04%\n",
      "\n",
      "Epoch: 1\n",
      "-------\n",
      "Looked at 0/60000 samples\n",
      "Looked at 12800/60000 samples\n",
      "Looked at 25600/60000 samples\n",
      "Looked at 38400/60000 samples\n",
      "Looked at 51200/60000 samples\n",
      "\n",
      "Train loss: 0.47633 | Test loss: 0.47989, Test acc: 83.20%\n",
      "\n",
      "Epoch: 2\n",
      "-------\n",
      "Looked at 0/60000 samples\n",
      "Looked at 12800/60000 samples\n",
      "Looked at 25600/60000 samples\n",
      "Looked at 38400/60000 samples\n",
      "Looked at 51200/60000 samples\n",
      "\n",
      "Train loss: 0.45503 | Test loss: 0.47664, Test acc: 83.43%\n",
      "\n",
      "Train time on cpu: 29.976 seconds\n"
     ]
    }
   ],
   "source": [
    "# Import tqdm for progress bar\n",
    "from tqdm.auto import tqdm\n",
    "\n",
    "# Set the seed and start the timer\n",
    "torch.manual_seed(42)\n",
    "train_time_start_on_cpu = timer()\n",
    "\n",
    "# Set the number of epochs (we'll keep this small for faster training times)\n",
    "epochs = 3\n",
    "\n",
    "# Create training and testing loop\n",
    "for epoch in tqdm(range(epochs)):\n",
    "    print(f\"Epoch: {epoch}\\n-------\")\n",
    "    ### Training\n",
    "    train_loss = 0\n",
    "    # Add a loop to loop through training batches\n",
    "    for batch, (X, y) in enumerate(train_dataloader):\n",
    "        model_0.train() \n",
    "        # 1. Forward pass\n",
    "        y_pred = model_0(X)\n",
    "\n",
    "        # 2. Calculate loss (per batch)\n",
    "        loss = loss_fn(y_pred, y)\n",
    "        train_loss += loss # accumulatively add up the loss per epoch \n",
    "\n",
    "        # 3. Optimizer zero grad\n",
    "        optimizer.zero_grad()\n",
    "\n",
    "        # 4. Loss backward\n",
    "        loss.backward()\n",
    "\n",
    "        # 5. Optimizer step\n",
    "        optimizer.step()\n",
    "\n",
    "        # Print out how many samples have been seen\n",
    "        if batch % 400 == 0:\n",
    "            print(f\"Looked at {batch * len(X)}/{len(train_dataloader.dataset)} samples\")\n",
    "\n",
    "    # Divide total train loss by length of train dataloader (average loss per batch per epoch)\n",
    "    train_loss /= len(train_dataloader)\n",
    "    \n",
    "    ### Testing\n",
    "    # Setup variables for accumulatively adding up loss and accuracy \n",
    "    test_loss, test_acc = 0, 0 \n",
    "    model_0.eval()\n",
    "    with torch.inference_mode():\n",
    "        for X, y in test_dataloader:\n",
    "            # 1. Forward pass\n",
    "            test_pred = model_0(X)\n",
    "           \n",
    "            # 2. Calculate loss (accumulatively)\n",
    "            test_loss += loss_fn(test_pred, y) # accumulatively add up the loss per epoch\n",
    "\n",
    "            # 3. Calculate accuracy (preds need to be same as y_true)\n",
    "            test_acc += accuracy_fn(y_true=y, y_pred=test_pred.argmax(dim=1))\n",
    "        \n",
    "        # Calculations on test metrics need to happen inside torch.inference_mode()\n",
    "        # Divide total test loss by length of test dataloader (per batch)\n",
    "        test_loss /= len(test_dataloader)\n",
    "\n",
    "        # Divide total accuracy by length of test dataloader (per batch)\n",
    "        test_acc /= len(test_dataloader)\n",
    "\n",
    "    ## Print out what's happening\n",
    "    print(f\"\\nTrain loss: {train_loss:.5f} | Test loss: {test_loss:.5f}, Test acc: {test_acc:.2f}%\\n\")\n",
    "\n",
    "# Calculate training time      \n",
    "train_time_end_on_cpu = timer()\n",
    "total_train_time_model_0 = print_train_time(start=train_time_start_on_cpu, \n",
    "                                           end=train_time_end_on_cpu,\n",
    "                                           device=str(next(model_0.parameters()).device))"
   ]
  },
  {
   "cell_type": "code",
   "execution_count": 22,
   "id": "418b3aa8",
   "metadata": {
    "execution": {
     "iopub.execute_input": "2025-06-23T18:57:52.922293Z",
     "iopub.status.busy": "2025-06-23T18:57:52.921375Z",
     "iopub.status.idle": "2025-06-23T18:57:54.016341Z",
     "shell.execute_reply": "2025-06-23T18:57:54.015511Z"
    },
    "papermill": {
     "duration": 1.108446,
     "end_time": "2025-06-23T18:57:54.017998",
     "exception": false,
     "start_time": "2025-06-23T18:57:52.909552",
     "status": "completed"
    },
    "tags": []
   },
   "outputs": [
    {
     "data": {
      "text/plain": [
       "{'model_name': 'FashionV0',\n",
       " 'model_loss': 0.4766390025615692,\n",
       " 'model_acc': 83.42651757188499}"
      ]
     },
     "execution_count": 22,
     "metadata": {},
     "output_type": "execute_result"
    }
   ],
   "source": [
    "torch.manual_seed(42)\n",
    "def eval_model(model: torch.nn.Module, \n",
    "               data_loader: torch.utils.data.DataLoader, \n",
    "               loss_fn: torch.nn.Module, \n",
    "               accuracy_fn):\n",
    "    \"\"\"Returns a dictionary containing the results of model predicting on data_loader.\n",
    "\n",
    "    Args:\n",
    "        model (torch.nn.Module): A PyTorch model capable of making predictions on data_loader.\n",
    "        data_loader (torch.utils.data.DataLoader): The target dataset to predict on.\n",
    "        loss_fn (torch.nn.Module): The loss function of model.\n",
    "        accuracy_fn: An accuracy function to compare the models predictions to the truth labels.\n",
    "\n",
    "    Returns:\n",
    "        (dict): Results of model making predictions on data_loader.\n",
    "    \"\"\"\n",
    "    loss, acc = 0, 0\n",
    "    model.eval()\n",
    "    with torch.inference_mode():\n",
    "        for X, y in data_loader:\n",
    "            # Make predictions with the model\n",
    "            y_pred = model(X)\n",
    "            \n",
    "            # Accumulate the loss and accuracy values per batch\n",
    "            loss += loss_fn(y_pred, y)\n",
    "            acc += accuracy_fn(y_true=y, \n",
    "                                y_pred=y_pred.argmax(dim=1)) # For accuracy, need the prediction labels (logits -> pred_prob -> pred_labels)\n",
    "        \n",
    "        # Scale loss and acc to find the average loss/acc per batch\n",
    "        loss /= len(data_loader)\n",
    "        acc /= len(data_loader)\n",
    "        \n",
    "    return {\"model_name\": model.__class__.__name__, # only works when model was created with a class\n",
    "            \"model_loss\": loss.item(),\n",
    "            \"model_acc\": acc}\n",
    "\n",
    "# Calculate model 0 results on test dataset\n",
    "model_0_results = eval_model(model=model_0, data_loader=test_dataloader,\n",
    "    loss_fn=loss_fn, accuracy_fn=accuracy_fn\n",
    ")\n",
    "model_0_results"
   ]
  },
  {
   "cell_type": "code",
   "execution_count": null,
   "id": "add0bae6",
   "metadata": {
    "papermill": {
     "duration": 0.010477,
     "end_time": "2025-06-23T18:57:54.039630",
     "exception": false,
     "start_time": "2025-06-23T18:57:54.029153",
     "status": "completed"
    },
    "tags": []
   },
   "outputs": [],
   "source": []
  },
  {
   "cell_type": "code",
   "execution_count": null,
   "id": "29f1b352",
   "metadata": {
    "papermill": {
     "duration": 0.011528,
     "end_time": "2025-06-23T18:57:54.062116",
     "exception": false,
     "start_time": "2025-06-23T18:57:54.050588",
     "status": "completed"
    },
    "tags": []
   },
   "outputs": [],
   "source": []
  },
  {
   "cell_type": "code",
   "execution_count": null,
   "id": "a61186c6",
   "metadata": {
    "papermill": {
     "duration": 0.078705,
     "end_time": "2025-06-23T18:57:54.151842",
     "exception": false,
     "start_time": "2025-06-23T18:57:54.073137",
     "status": "completed"
    },
    "tags": []
   },
   "outputs": [],
   "source": []
  },
  {
   "cell_type": "code",
   "execution_count": null,
   "id": "47c4790a",
   "metadata": {
    "papermill": {
     "duration": 0.011653,
     "end_time": "2025-06-23T18:57:54.175921",
     "exception": false,
     "start_time": "2025-06-23T18:57:54.164268",
     "status": "completed"
    },
    "tags": []
   },
   "outputs": [],
   "source": []
  }
 ],
 "metadata": {
  "kaggle": {
   "accelerator": "none",
   "dataSources": [],
   "dockerImageVersionId": 31040,
   "isGpuEnabled": false,
   "isInternetEnabled": true,
   "language": "python",
   "sourceType": "notebook"
  },
  "kernelspec": {
   "display_name": "Python 3",
   "language": "python",
   "name": "python3"
  },
  "language_info": {
   "codemirror_mode": {
    "name": "ipython",
    "version": 3
   },
   "file_extension": ".py",
   "mimetype": "text/x-python",
   "name": "python",
   "nbconvert_exporter": "python",
   "pygments_lexer": "ipython3",
   "version": "3.11.11"
  },
  "papermill": {
   "default_parameters": {},
   "duration": 63.256748,
   "end_time": "2025-06-23T18:57:57.276075",
   "environment_variables": {},
   "exception": null,
   "input_path": "__notebook__.ipynb",
   "output_path": "__notebook__.ipynb",
   "parameters": {},
   "start_time": "2025-06-23T18:56:54.019327",
   "version": "2.6.0"
  },
  "widgets": {
   "application/vnd.jupyter.widget-state+json": {
    "state": {
     "1f7e3036291d4ddd81cd965467fad1f2": {
      "model_module": "@jupyter-widgets/controls",
      "model_module_version": "2.0.0",
      "model_name": "ProgressStyleModel",
      "state": {
       "_model_module": "@jupyter-widgets/controls",
       "_model_module_version": "2.0.0",
       "_model_name": "ProgressStyleModel",
       "_view_count": null,
       "_view_module": "@jupyter-widgets/base",
       "_view_module_version": "2.0.0",
       "_view_name": "StyleView",
       "bar_color": null,
       "description_width": ""
      }
     },
     "323764dab79243dab89572dadea04bb9": {
      "model_module": "@jupyter-widgets/controls",
      "model_module_version": "2.0.0",
      "model_name": "HTMLStyleModel",
      "state": {
       "_model_module": "@jupyter-widgets/controls",
       "_model_module_version": "2.0.0",
       "_model_name": "HTMLStyleModel",
       "_view_count": null,
       "_view_module": "@jupyter-widgets/base",
       "_view_module_version": "2.0.0",
       "_view_name": "StyleView",
       "background": null,
       "description_width": "",
       "font_size": null,
       "text_color": null
      }
     },
     "4eb034f55a2045d2be3715b8d91dded0": {
      "model_module": "@jupyter-widgets/controls",
      "model_module_version": "2.0.0",
      "model_name": "FloatProgressModel",
      "state": {
       "_dom_classes": [],
       "_model_module": "@jupyter-widgets/controls",
       "_model_module_version": "2.0.0",
       "_model_name": "FloatProgressModel",
       "_view_count": null,
       "_view_module": "@jupyter-widgets/controls",
       "_view_module_version": "2.0.0",
       "_view_name": "ProgressView",
       "bar_style": "success",
       "description": "",
       "description_allow_html": false,
       "layout": "IPY_MODEL_5e397d94b0ec49e5a98bc333025fc893",
       "max": 3.0,
       "min": 0.0,
       "orientation": "horizontal",
       "style": "IPY_MODEL_1f7e3036291d4ddd81cd965467fad1f2",
       "tabbable": null,
       "tooltip": null,
       "value": 3.0
      }
     },
     "53f2610511024079868cae7bf0c14b1b": {
      "model_module": "@jupyter-widgets/controls",
      "model_module_version": "2.0.0",
      "model_name": "HTMLStyleModel",
      "state": {
       "_model_module": "@jupyter-widgets/controls",
       "_model_module_version": "2.0.0",
       "_model_name": "HTMLStyleModel",
       "_view_count": null,
       "_view_module": "@jupyter-widgets/base",
       "_view_module_version": "2.0.0",
       "_view_name": "StyleView",
       "background": null,
       "description_width": "",
       "font_size": null,
       "text_color": null
      }
     },
     "5e397d94b0ec49e5a98bc333025fc893": {
      "model_module": "@jupyter-widgets/base",
      "model_module_version": "2.0.0",
      "model_name": "LayoutModel",
      "state": {
       "_model_module": "@jupyter-widgets/base",
       "_model_module_version": "2.0.0",
       "_model_name": "LayoutModel",
       "_view_count": null,
       "_view_module": "@jupyter-widgets/base",
       "_view_module_version": "2.0.0",
       "_view_name": "LayoutView",
       "align_content": null,
       "align_items": null,
       "align_self": null,
       "border_bottom": null,
       "border_left": null,
       "border_right": null,
       "border_top": null,
       "bottom": null,
       "display": null,
       "flex": null,
       "flex_flow": null,
       "grid_area": null,
       "grid_auto_columns": null,
       "grid_auto_flow": null,
       "grid_auto_rows": null,
       "grid_column": null,
       "grid_gap": null,
       "grid_row": null,
       "grid_template_areas": null,
       "grid_template_columns": null,
       "grid_template_rows": null,
       "height": null,
       "justify_content": null,
       "justify_items": null,
       "left": null,
       "margin": null,
       "max_height": null,
       "max_width": null,
       "min_height": null,
       "min_width": null,
       "object_fit": null,
       "object_position": null,
       "order": null,
       "overflow": null,
       "padding": null,
       "right": null,
       "top": null,
       "visibility": null,
       "width": null
      }
     },
     "7b20de9f9fca48c8befd57a79f979496": {
      "model_module": "@jupyter-widgets/base",
      "model_module_version": "2.0.0",
      "model_name": "LayoutModel",
      "state": {
       "_model_module": "@jupyter-widgets/base",
       "_model_module_version": "2.0.0",
       "_model_name": "LayoutModel",
       "_view_count": null,
       "_view_module": "@jupyter-widgets/base",
       "_view_module_version": "2.0.0",
       "_view_name": "LayoutView",
       "align_content": null,
       "align_items": null,
       "align_self": null,
       "border_bottom": null,
       "border_left": null,
       "border_right": null,
       "border_top": null,
       "bottom": null,
       "display": null,
       "flex": null,
       "flex_flow": null,
       "grid_area": null,
       "grid_auto_columns": null,
       "grid_auto_flow": null,
       "grid_auto_rows": null,
       "grid_column": null,
       "grid_gap": null,
       "grid_row": null,
       "grid_template_areas": null,
       "grid_template_columns": null,
       "grid_template_rows": null,
       "height": null,
       "justify_content": null,
       "justify_items": null,
       "left": null,
       "margin": null,
       "max_height": null,
       "max_width": null,
       "min_height": null,
       "min_width": null,
       "object_fit": null,
       "object_position": null,
       "order": null,
       "overflow": null,
       "padding": null,
       "right": null,
       "top": null,
       "visibility": null,
       "width": null
      }
     },
     "7b3b9a5939994a9b92e78a0e9fbfd637": {
      "model_module": "@jupyter-widgets/controls",
      "model_module_version": "2.0.0",
      "model_name": "HTMLModel",
      "state": {
       "_dom_classes": [],
       "_model_module": "@jupyter-widgets/controls",
       "_model_module_version": "2.0.0",
       "_model_name": "HTMLModel",
       "_view_count": null,
       "_view_module": "@jupyter-widgets/controls",
       "_view_module_version": "2.0.0",
       "_view_name": "HTMLView",
       "description": "",
       "description_allow_html": false,
       "layout": "IPY_MODEL_b95dd11d647245e1a4a4c563cd862330",
       "placeholder": "​",
       "style": "IPY_MODEL_53f2610511024079868cae7bf0c14b1b",
       "tabbable": null,
       "tooltip": null,
       "value": "100%"
      }
     },
     "b95dd11d647245e1a4a4c563cd862330": {
      "model_module": "@jupyter-widgets/base",
      "model_module_version": "2.0.0",
      "model_name": "LayoutModel",
      "state": {
       "_model_module": "@jupyter-widgets/base",
       "_model_module_version": "2.0.0",
       "_model_name": "LayoutModel",
       "_view_count": null,
       "_view_module": "@jupyter-widgets/base",
       "_view_module_version": "2.0.0",
       "_view_name": "LayoutView",
       "align_content": null,
       "align_items": null,
       "align_self": null,
       "border_bottom": null,
       "border_left": null,
       "border_right": null,
       "border_top": null,
       "bottom": null,
       "display": null,
       "flex": null,
       "flex_flow": null,
       "grid_area": null,
       "grid_auto_columns": null,
       "grid_auto_flow": null,
       "grid_auto_rows": null,
       "grid_column": null,
       "grid_gap": null,
       "grid_row": null,
       "grid_template_areas": null,
       "grid_template_columns": null,
       "grid_template_rows": null,
       "height": null,
       "justify_content": null,
       "justify_items": null,
       "left": null,
       "margin": null,
       "max_height": null,
       "max_width": null,
       "min_height": null,
       "min_width": null,
       "object_fit": null,
       "object_position": null,
       "order": null,
       "overflow": null,
       "padding": null,
       "right": null,
       "top": null,
       "visibility": null,
       "width": null
      }
     },
     "c4e5d0fd076447d9814c777291c20f2d": {
      "model_module": "@jupyter-widgets/controls",
      "model_module_version": "2.0.0",
      "model_name": "HBoxModel",
      "state": {
       "_dom_classes": [],
       "_model_module": "@jupyter-widgets/controls",
       "_model_module_version": "2.0.0",
       "_model_name": "HBoxModel",
       "_view_count": null,
       "_view_module": "@jupyter-widgets/controls",
       "_view_module_version": "2.0.0",
       "_view_name": "HBoxView",
       "box_style": "",
       "children": [
        "IPY_MODEL_7b3b9a5939994a9b92e78a0e9fbfd637",
        "IPY_MODEL_4eb034f55a2045d2be3715b8d91dded0",
        "IPY_MODEL_e95c629cec71409f9645d4db3ff94b8b"
       ],
       "layout": "IPY_MODEL_e63124d2abe84413a4976108bebe81c6",
       "tabbable": null,
       "tooltip": null
      }
     },
     "e63124d2abe84413a4976108bebe81c6": {
      "model_module": "@jupyter-widgets/base",
      "model_module_version": "2.0.0",
      "model_name": "LayoutModel",
      "state": {
       "_model_module": "@jupyter-widgets/base",
       "_model_module_version": "2.0.0",
       "_model_name": "LayoutModel",
       "_view_count": null,
       "_view_module": "@jupyter-widgets/base",
       "_view_module_version": "2.0.0",
       "_view_name": "LayoutView",
       "align_content": null,
       "align_items": null,
       "align_self": null,
       "border_bottom": null,
       "border_left": null,
       "border_right": null,
       "border_top": null,
       "bottom": null,
       "display": null,
       "flex": null,
       "flex_flow": null,
       "grid_area": null,
       "grid_auto_columns": null,
       "grid_auto_flow": null,
       "grid_auto_rows": null,
       "grid_column": null,
       "grid_gap": null,
       "grid_row": null,
       "grid_template_areas": null,
       "grid_template_columns": null,
       "grid_template_rows": null,
       "height": null,
       "justify_content": null,
       "justify_items": null,
       "left": null,
       "margin": null,
       "max_height": null,
       "max_width": null,
       "min_height": null,
       "min_width": null,
       "object_fit": null,
       "object_position": null,
       "order": null,
       "overflow": null,
       "padding": null,
       "right": null,
       "top": null,
       "visibility": null,
       "width": null
      }
     },
     "e95c629cec71409f9645d4db3ff94b8b": {
      "model_module": "@jupyter-widgets/controls",
      "model_module_version": "2.0.0",
      "model_name": "HTMLModel",
      "state": {
       "_dom_classes": [],
       "_model_module": "@jupyter-widgets/controls",
       "_model_module_version": "2.0.0",
       "_model_name": "HTMLModel",
       "_view_count": null,
       "_view_module": "@jupyter-widgets/controls",
       "_view_module_version": "2.0.0",
       "_view_name": "HTMLView",
       "description": "",
       "description_allow_html": false,
       "layout": "IPY_MODEL_7b20de9f9fca48c8befd57a79f979496",
       "placeholder": "​",
       "style": "IPY_MODEL_323764dab79243dab89572dadea04bb9",
       "tabbable": null,
       "tooltip": null,
       "value": " 3/3 [00:29&lt;00:00,  9.94s/it]"
      }
     }
    },
    "version_major": 2,
    "version_minor": 0
   }
  }
 },
 "nbformat": 4,
 "nbformat_minor": 5
}
