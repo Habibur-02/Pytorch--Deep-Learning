{
 "cells": [
  {
   "cell_type": "code",
   "execution_count": 1,
   "id": "65373c8f",
   "metadata": {
    "_cell_guid": "b1076dfc-b9ad-4769-8c92-a6c4dae69d19",
    "_uuid": "8f2839f25d086af736a60e9eeb907d3b93b6e0e5",
    "execution": {
     "iopub.execute_input": "2025-06-28T10:03:15.280820Z",
     "iopub.status.busy": "2025-06-28T10:03:15.280416Z",
     "iopub.status.idle": "2025-06-28T10:03:17.162382Z",
     "shell.execute_reply": "2025-06-28T10:03:17.161089Z"
    },
    "papermill": {
     "duration": 1.891302,
     "end_time": "2025-06-28T10:03:17.164409",
     "exception": false,
     "start_time": "2025-06-28T10:03:15.273107",
     "status": "completed"
    },
    "tags": []
   },
   "outputs": [
    {
     "name": "stdout",
     "output_type": "stream",
     "text": [
      "/kaggle/input/mental-health-dataset/Mental Health Dataset.csv\n"
     ]
    }
   ],
   "source": [
    "# This Python 3 environment comes with many helpful analytics libraries installed\n",
    "# It is defined by the kaggle/python Docker image: https://github.com/kaggle/docker-python\n",
    "# For example, here's several helpful packages to load\n",
    "\n",
    "import numpy as np # linear algebra\n",
    "import pandas as pd # data processing, CSV file I/O (e.g. pd.read_csv)\n",
    "\n",
    "# Input data files are available in the read-only \"../input/\" directory\n",
    "# For example, running this (by clicking run or pressing Shift+Enter) will list all files under the input directory\n",
    "\n",
    "import os\n",
    "for dirname, _, filenames in os.walk('/kaggle/input'):\n",
    "    for filename in filenames:\n",
    "        print(os.path.join(dirname, filename))\n",
    "\n",
    "# You can write up to 20GB to the current directory (/kaggle/working/) that gets preserved as output when you create a version using \"Save & Run All\" \n",
    "# You can also write temporary files to /kaggle/temp/, but they won't be saved outside of the current session"
   ]
  },
  {
   "cell_type": "code",
   "execution_count": 2,
   "id": "337b83e9",
   "metadata": {
    "execution": {
     "iopub.execute_input": "2025-06-28T10:03:17.176071Z",
     "iopub.status.busy": "2025-06-28T10:03:17.175644Z",
     "iopub.status.idle": "2025-06-28T10:03:26.496551Z",
     "shell.execute_reply": "2025-06-28T10:03:26.495248Z"
    },
    "papermill": {
     "duration": 9.328532,
     "end_time": "2025-06-28T10:03:26.498531",
     "exception": false,
     "start_time": "2025-06-28T10:03:17.169999",
     "status": "completed"
    },
    "tags": []
   },
   "outputs": [],
   "source": [
    "import pandas as pd\n",
    "import numpy as np\n",
    "import matplotlib.pyplot as plt\n",
    "import seaborn as sns\n",
    "\n",
    "from sklearn.multioutput import MultiOutputClassifier\n",
    "from sklearn.svm import LinearSVC, SVC\n",
    "from lightgbm import LGBMClassifier\n",
    "from sklearn.linear_model import LogisticRegression\n",
    "from sklearn.ensemble import AdaBoostClassifier, ExtraTreesClassifier\n",
    "from sklearn.ensemble import GradientBoostingClassifier, HistGradientBoostingClassifier\n",
    "\n",
    "from category_encoders import LeaveOneOutEncoder\n",
    "from category_encoders.target_encoder import TargetEncoder\n",
    "from sklearn.preprocessing import StandardScaler, LabelEncoder\n",
    "from sklearn.model_selection import train_test_split, GridSearchCV\n",
    "from sklearn.metrics import accuracy_score, confusion_matrix, classification_report, roc_auc_score, roc_curve, auc\n",
    "\n",
    "import warnings\n",
    "warnings.filterwarnings(\"ignore\")"
   ]
  },
  {
   "cell_type": "code",
   "execution_count": 3,
   "id": "a8f45485",
   "metadata": {
    "execution": {
     "iopub.execute_input": "2025-06-28T10:03:26.510238Z",
     "iopub.status.busy": "2025-06-28T10:03:26.509312Z",
     "iopub.status.idle": "2025-06-28T10:03:27.533288Z",
     "shell.execute_reply": "2025-06-28T10:03:27.532270Z"
    },
    "papermill": {
     "duration": 1.031315,
     "end_time": "2025-06-28T10:03:27.534816",
     "exception": false,
     "start_time": "2025-06-28T10:03:26.503501",
     "status": "completed"
    },
    "tags": []
   },
   "outputs": [
    {
     "data": {
      "text/html": [
       "<div>\n",
       "<style scoped>\n",
       "    .dataframe tbody tr th:only-of-type {\n",
       "        vertical-align: middle;\n",
       "    }\n",
       "\n",
       "    .dataframe tbody tr th {\n",
       "        vertical-align: top;\n",
       "    }\n",
       "\n",
       "    .dataframe thead th {\n",
       "        text-align: right;\n",
       "    }\n",
       "</style>\n",
       "<table border=\"1\" class=\"dataframe\">\n",
       "  <thead>\n",
       "    <tr style=\"text-align: right;\">\n",
       "      <th></th>\n",
       "      <th>Timestamp</th>\n",
       "      <th>Gender</th>\n",
       "      <th>Country</th>\n",
       "      <th>Occupation</th>\n",
       "      <th>self_employed</th>\n",
       "      <th>family_history</th>\n",
       "      <th>treatment</th>\n",
       "      <th>Days_Indoors</th>\n",
       "      <th>Growing_Stress</th>\n",
       "      <th>Changes_Habits</th>\n",
       "      <th>Mental_Health_History</th>\n",
       "      <th>Mood_Swings</th>\n",
       "      <th>Coping_Struggles</th>\n",
       "      <th>Work_Interest</th>\n",
       "      <th>Social_Weakness</th>\n",
       "      <th>mental_health_interview</th>\n",
       "      <th>care_options</th>\n",
       "    </tr>\n",
       "  </thead>\n",
       "  <tbody>\n",
       "    <tr>\n",
       "      <th>0</th>\n",
       "      <td>8/27/2014 11:29</td>\n",
       "      <td>Female</td>\n",
       "      <td>United States</td>\n",
       "      <td>Corporate</td>\n",
       "      <td>NaN</td>\n",
       "      <td>No</td>\n",
       "      <td>Yes</td>\n",
       "      <td>1-14 days</td>\n",
       "      <td>Yes</td>\n",
       "      <td>No</td>\n",
       "      <td>Yes</td>\n",
       "      <td>Medium</td>\n",
       "      <td>No</td>\n",
       "      <td>No</td>\n",
       "      <td>Yes</td>\n",
       "      <td>No</td>\n",
       "      <td>Not sure</td>\n",
       "    </tr>\n",
       "    <tr>\n",
       "      <th>1</th>\n",
       "      <td>8/27/2014 11:31</td>\n",
       "      <td>Female</td>\n",
       "      <td>United States</td>\n",
       "      <td>Corporate</td>\n",
       "      <td>NaN</td>\n",
       "      <td>Yes</td>\n",
       "      <td>Yes</td>\n",
       "      <td>1-14 days</td>\n",
       "      <td>Yes</td>\n",
       "      <td>No</td>\n",
       "      <td>Yes</td>\n",
       "      <td>Medium</td>\n",
       "      <td>No</td>\n",
       "      <td>No</td>\n",
       "      <td>Yes</td>\n",
       "      <td>No</td>\n",
       "      <td>No</td>\n",
       "    </tr>\n",
       "    <tr>\n",
       "      <th>2</th>\n",
       "      <td>8/27/2014 11:32</td>\n",
       "      <td>Female</td>\n",
       "      <td>United States</td>\n",
       "      <td>Corporate</td>\n",
       "      <td>NaN</td>\n",
       "      <td>Yes</td>\n",
       "      <td>Yes</td>\n",
       "      <td>1-14 days</td>\n",
       "      <td>Yes</td>\n",
       "      <td>No</td>\n",
       "      <td>Yes</td>\n",
       "      <td>Medium</td>\n",
       "      <td>No</td>\n",
       "      <td>No</td>\n",
       "      <td>Yes</td>\n",
       "      <td>No</td>\n",
       "      <td>Yes</td>\n",
       "    </tr>\n",
       "    <tr>\n",
       "      <th>3</th>\n",
       "      <td>8/27/2014 11:37</td>\n",
       "      <td>Female</td>\n",
       "      <td>United States</td>\n",
       "      <td>Corporate</td>\n",
       "      <td>No</td>\n",
       "      <td>Yes</td>\n",
       "      <td>Yes</td>\n",
       "      <td>1-14 days</td>\n",
       "      <td>Yes</td>\n",
       "      <td>No</td>\n",
       "      <td>Yes</td>\n",
       "      <td>Medium</td>\n",
       "      <td>No</td>\n",
       "      <td>No</td>\n",
       "      <td>Yes</td>\n",
       "      <td>Maybe</td>\n",
       "      <td>Yes</td>\n",
       "    </tr>\n",
       "    <tr>\n",
       "      <th>4</th>\n",
       "      <td>8/27/2014 11:43</td>\n",
       "      <td>Female</td>\n",
       "      <td>United States</td>\n",
       "      <td>Corporate</td>\n",
       "      <td>No</td>\n",
       "      <td>Yes</td>\n",
       "      <td>Yes</td>\n",
       "      <td>1-14 days</td>\n",
       "      <td>Yes</td>\n",
       "      <td>No</td>\n",
       "      <td>Yes</td>\n",
       "      <td>Medium</td>\n",
       "      <td>No</td>\n",
       "      <td>No</td>\n",
       "      <td>Yes</td>\n",
       "      <td>No</td>\n",
       "      <td>Yes</td>\n",
       "    </tr>\n",
       "    <tr>\n",
       "      <th>...</th>\n",
       "      <td>...</td>\n",
       "      <td>...</td>\n",
       "      <td>...</td>\n",
       "      <td>...</td>\n",
       "      <td>...</td>\n",
       "      <td>...</td>\n",
       "      <td>...</td>\n",
       "      <td>...</td>\n",
       "      <td>...</td>\n",
       "      <td>...</td>\n",
       "      <td>...</td>\n",
       "      <td>...</td>\n",
       "      <td>...</td>\n",
       "      <td>...</td>\n",
       "      <td>...</td>\n",
       "      <td>...</td>\n",
       "      <td>...</td>\n",
       "    </tr>\n",
       "    <tr>\n",
       "      <th>292359</th>\n",
       "      <td>7/27/2015 23:25</td>\n",
       "      <td>Male</td>\n",
       "      <td>United States</td>\n",
       "      <td>Business</td>\n",
       "      <td>Yes</td>\n",
       "      <td>Yes</td>\n",
       "      <td>Yes</td>\n",
       "      <td>15-30 days</td>\n",
       "      <td>No</td>\n",
       "      <td>Maybe</td>\n",
       "      <td>No</td>\n",
       "      <td>Low</td>\n",
       "      <td>Yes</td>\n",
       "      <td>No</td>\n",
       "      <td>Maybe</td>\n",
       "      <td>Maybe</td>\n",
       "      <td>Not sure</td>\n",
       "    </tr>\n",
       "    <tr>\n",
       "      <th>292360</th>\n",
       "      <td>8/17/2015 9:38</td>\n",
       "      <td>Male</td>\n",
       "      <td>South Africa</td>\n",
       "      <td>Business</td>\n",
       "      <td>No</td>\n",
       "      <td>Yes</td>\n",
       "      <td>Yes</td>\n",
       "      <td>15-30 days</td>\n",
       "      <td>No</td>\n",
       "      <td>Maybe</td>\n",
       "      <td>No</td>\n",
       "      <td>Low</td>\n",
       "      <td>Yes</td>\n",
       "      <td>No</td>\n",
       "      <td>Maybe</td>\n",
       "      <td>No</td>\n",
       "      <td>Yes</td>\n",
       "    </tr>\n",
       "    <tr>\n",
       "      <th>292361</th>\n",
       "      <td>8/25/2015 19:59</td>\n",
       "      <td>Male</td>\n",
       "      <td>United States</td>\n",
       "      <td>Business</td>\n",
       "      <td>No</td>\n",
       "      <td>Yes</td>\n",
       "      <td>No</td>\n",
       "      <td>15-30 days</td>\n",
       "      <td>No</td>\n",
       "      <td>Maybe</td>\n",
       "      <td>No</td>\n",
       "      <td>Low</td>\n",
       "      <td>Yes</td>\n",
       "      <td>No</td>\n",
       "      <td>Maybe</td>\n",
       "      <td>No</td>\n",
       "      <td>No</td>\n",
       "    </tr>\n",
       "    <tr>\n",
       "      <th>292362</th>\n",
       "      <td>9/26/2015 1:07</td>\n",
       "      <td>Male</td>\n",
       "      <td>United States</td>\n",
       "      <td>Business</td>\n",
       "      <td>No</td>\n",
       "      <td>Yes</td>\n",
       "      <td>Yes</td>\n",
       "      <td>15-30 days</td>\n",
       "      <td>No</td>\n",
       "      <td>Maybe</td>\n",
       "      <td>No</td>\n",
       "      <td>Low</td>\n",
       "      <td>Yes</td>\n",
       "      <td>No</td>\n",
       "      <td>Maybe</td>\n",
       "      <td>No</td>\n",
       "      <td>Yes</td>\n",
       "    </tr>\n",
       "    <tr>\n",
       "      <th>292363</th>\n",
       "      <td>2/1/2016 23:04</td>\n",
       "      <td>Male</td>\n",
       "      <td>United States</td>\n",
       "      <td>Business</td>\n",
       "      <td>No</td>\n",
       "      <td>Yes</td>\n",
       "      <td>Yes</td>\n",
       "      <td>15-30 days</td>\n",
       "      <td>No</td>\n",
       "      <td>Maybe</td>\n",
       "      <td>No</td>\n",
       "      <td>Low</td>\n",
       "      <td>Yes</td>\n",
       "      <td>No</td>\n",
       "      <td>Maybe</td>\n",
       "      <td>No</td>\n",
       "      <td>Yes</td>\n",
       "    </tr>\n",
       "  </tbody>\n",
       "</table>\n",
       "<p>292364 rows × 17 columns</p>\n",
       "</div>"
      ],
      "text/plain": [
       "              Timestamp  Gender        Country Occupation self_employed  \\\n",
       "0       8/27/2014 11:29  Female  United States  Corporate           NaN   \n",
       "1       8/27/2014 11:31  Female  United States  Corporate           NaN   \n",
       "2       8/27/2014 11:32  Female  United States  Corporate           NaN   \n",
       "3       8/27/2014 11:37  Female  United States  Corporate            No   \n",
       "4       8/27/2014 11:43  Female  United States  Corporate            No   \n",
       "...                 ...     ...            ...        ...           ...   \n",
       "292359  7/27/2015 23:25    Male  United States   Business           Yes   \n",
       "292360   8/17/2015 9:38    Male   South Africa   Business            No   \n",
       "292361  8/25/2015 19:59    Male  United States   Business            No   \n",
       "292362   9/26/2015 1:07    Male  United States   Business            No   \n",
       "292363   2/1/2016 23:04    Male  United States   Business            No   \n",
       "\n",
       "       family_history treatment Days_Indoors Growing_Stress Changes_Habits  \\\n",
       "0                  No       Yes    1-14 days            Yes             No   \n",
       "1                 Yes       Yes    1-14 days            Yes             No   \n",
       "2                 Yes       Yes    1-14 days            Yes             No   \n",
       "3                 Yes       Yes    1-14 days            Yes             No   \n",
       "4                 Yes       Yes    1-14 days            Yes             No   \n",
       "...               ...       ...          ...            ...            ...   \n",
       "292359            Yes       Yes   15-30 days             No          Maybe   \n",
       "292360            Yes       Yes   15-30 days             No          Maybe   \n",
       "292361            Yes        No   15-30 days             No          Maybe   \n",
       "292362            Yes       Yes   15-30 days             No          Maybe   \n",
       "292363            Yes       Yes   15-30 days             No          Maybe   \n",
       "\n",
       "       Mental_Health_History Mood_Swings Coping_Struggles Work_Interest  \\\n",
       "0                        Yes      Medium               No            No   \n",
       "1                        Yes      Medium               No            No   \n",
       "2                        Yes      Medium               No            No   \n",
       "3                        Yes      Medium               No            No   \n",
       "4                        Yes      Medium               No            No   \n",
       "...                      ...         ...              ...           ...   \n",
       "292359                    No         Low              Yes            No   \n",
       "292360                    No         Low              Yes            No   \n",
       "292361                    No         Low              Yes            No   \n",
       "292362                    No         Low              Yes            No   \n",
       "292363                    No         Low              Yes            No   \n",
       "\n",
       "       Social_Weakness mental_health_interview care_options  \n",
       "0                  Yes                      No     Not sure  \n",
       "1                  Yes                      No           No  \n",
       "2                  Yes                      No          Yes  \n",
       "3                  Yes                   Maybe          Yes  \n",
       "4                  Yes                      No          Yes  \n",
       "...                ...                     ...          ...  \n",
       "292359           Maybe                   Maybe     Not sure  \n",
       "292360           Maybe                      No          Yes  \n",
       "292361           Maybe                      No           No  \n",
       "292362           Maybe                      No          Yes  \n",
       "292363           Maybe                      No          Yes  \n",
       "\n",
       "[292364 rows x 17 columns]"
      ]
     },
     "execution_count": 3,
     "metadata": {},
     "output_type": "execute_result"
    }
   ],
   "source": [
    "import pandas as pd\n",
    "\n",
    "df=pd.read_csv(\"/kaggle/input/mental-health-dataset/Mental Health Dataset.csv\")\n",
    "df"
   ]
  },
  {
   "cell_type": "code",
   "execution_count": 4,
   "id": "a6f8cfb9",
   "metadata": {
    "execution": {
     "iopub.execute_input": "2025-06-28T10:03:27.546545Z",
     "iopub.status.busy": "2025-06-28T10:03:27.546231Z",
     "iopub.status.idle": "2025-06-28T10:03:27.554416Z",
     "shell.execute_reply": "2025-06-28T10:03:27.553319Z"
    },
    "papermill": {
     "duration": 0.0159,
     "end_time": "2025-06-28T10:03:27.556048",
     "exception": false,
     "start_time": "2025-06-28T10:03:27.540148",
     "status": "completed"
    },
    "tags": []
   },
   "outputs": [
    {
     "data": {
      "text/plain": [
       "Timestamp                  8/27/2014 11:29\n",
       "Gender                              Female\n",
       "Country                      United States\n",
       "Occupation                       Corporate\n",
       "self_employed                          NaN\n",
       "family_history                          No\n",
       "treatment                              Yes\n",
       "Days_Indoors                     1-14 days\n",
       "Growing_Stress                         Yes\n",
       "Changes_Habits                          No\n",
       "Mental_Health_History                  Yes\n",
       "Mood_Swings                         Medium\n",
       "Coping_Struggles                        No\n",
       "Work_Interest                           No\n",
       "Social_Weakness                        Yes\n",
       "mental_health_interview                 No\n",
       "care_options                      Not sure\n",
       "Name: 0, dtype: object"
      ]
     },
     "execution_count": 4,
     "metadata": {},
     "output_type": "execute_result"
    }
   ],
   "source": [
    "df.iloc[0,:]"
   ]
  },
  {
   "cell_type": "code",
   "execution_count": 5,
   "id": "66ca70f3",
   "metadata": {
    "execution": {
     "iopub.execute_input": "2025-06-28T10:03:27.568610Z",
     "iopub.status.busy": "2025-06-28T10:03:27.568291Z",
     "iopub.status.idle": "2025-06-28T10:03:27.880582Z",
     "shell.execute_reply": "2025-06-28T10:03:27.879518Z"
    },
    "papermill": {
     "duration": 0.320399,
     "end_time": "2025-06-28T10:03:27.882054",
     "exception": false,
     "start_time": "2025-06-28T10:03:27.561655",
     "status": "completed"
    },
    "tags": []
   },
   "outputs": [
    {
     "name": "stdout",
     "output_type": "stream",
     "text": [
      "<class 'pandas.core.frame.DataFrame'>\n",
      "RangeIndex: 292364 entries, 0 to 292363\n",
      "Data columns (total 17 columns):\n",
      " #   Column                   Non-Null Count   Dtype \n",
      "---  ------                   --------------   ----- \n",
      " 0   Timestamp                292364 non-null  object\n",
      " 1   Gender                   292364 non-null  object\n",
      " 2   Country                  292364 non-null  object\n",
      " 3   Occupation               292364 non-null  object\n",
      " 4   self_employed            287162 non-null  object\n",
      " 5   family_history           292364 non-null  object\n",
      " 6   treatment                292364 non-null  object\n",
      " 7   Days_Indoors             292364 non-null  object\n",
      " 8   Growing_Stress           292364 non-null  object\n",
      " 9   Changes_Habits           292364 non-null  object\n",
      " 10  Mental_Health_History    292364 non-null  object\n",
      " 11  Mood_Swings              292364 non-null  object\n",
      " 12  Coping_Struggles         292364 non-null  object\n",
      " 13  Work_Interest            292364 non-null  object\n",
      " 14  Social_Weakness          292364 non-null  object\n",
      " 15  mental_health_interview  292364 non-null  object\n",
      " 16  care_options             292364 non-null  object\n",
      "dtypes: object(17)\n",
      "memory usage: 37.9+ MB\n"
     ]
    }
   ],
   "source": [
    "df.info()"
   ]
  },
  {
   "cell_type": "code",
   "execution_count": 6,
   "id": "d99c6f7c",
   "metadata": {
    "execution": {
     "iopub.execute_input": "2025-06-28T10:03:27.894226Z",
     "iopub.status.busy": "2025-06-28T10:03:27.893863Z",
     "iopub.status.idle": "2025-06-28T10:03:28.227623Z",
     "shell.execute_reply": "2025-06-28T10:03:28.226790Z"
    },
    "papermill": {
     "duration": 0.341565,
     "end_time": "2025-06-28T10:03:28.229298",
     "exception": false,
     "start_time": "2025-06-28T10:03:27.887733",
     "status": "completed"
    },
    "tags": []
   },
   "outputs": [
    {
     "data": {
      "text/plain": [
       "2313"
      ]
     },
     "execution_count": 6,
     "metadata": {},
     "output_type": "execute_result"
    }
   ],
   "source": [
    "df.duplicated().sum()"
   ]
  },
  {
   "cell_type": "code",
   "execution_count": 7,
   "id": "0e38af98",
   "metadata": {
    "execution": {
     "iopub.execute_input": "2025-06-28T10:03:28.241358Z",
     "iopub.status.busy": "2025-06-28T10:03:28.241012Z",
     "iopub.status.idle": "2025-06-28T10:03:28.970782Z",
     "shell.execute_reply": "2025-06-28T10:03:28.969853Z"
    },
    "papermill": {
     "duration": 0.737643,
     "end_time": "2025-06-28T10:03:28.972401",
     "exception": false,
     "start_time": "2025-06-28T10:03:28.234758",
     "status": "completed"
    },
    "tags": []
   },
   "outputs": [
    {
     "data": {
      "text/plain": [
       "0"
      ]
     },
     "execution_count": 7,
     "metadata": {},
     "output_type": "execute_result"
    }
   ],
   "source": [
    "df.drop_duplicates(inplace=True)\n",
    "df.duplicated().sum()"
   ]
  },
  {
   "cell_type": "code",
   "execution_count": 8,
   "id": "fc8266bd",
   "metadata": {
    "execution": {
     "iopub.execute_input": "2025-06-28T10:03:28.984135Z",
     "iopub.status.busy": "2025-06-28T10:03:28.983790Z",
     "iopub.status.idle": "2025-06-28T10:03:29.240983Z",
     "shell.execute_reply": "2025-06-28T10:03:29.240110Z"
    },
    "papermill": {
     "duration": 0.264684,
     "end_time": "2025-06-28T10:03:29.242457",
     "exception": false,
     "start_time": "2025-06-28T10:03:28.977773",
     "status": "completed"
    },
    "tags": []
   },
   "outputs": [
    {
     "data": {
      "text/plain": [
       "Timestamp                     0\n",
       "Gender                        0\n",
       "Country                       0\n",
       "Occupation                    0\n",
       "self_employed              5193\n",
       "family_history                0\n",
       "treatment                     0\n",
       "Days_Indoors                  0\n",
       "Growing_Stress                0\n",
       "Changes_Habits                0\n",
       "Mental_Health_History         0\n",
       "Mood_Swings                   0\n",
       "Coping_Struggles              0\n",
       "Work_Interest                 0\n",
       "Social_Weakness               0\n",
       "mental_health_interview       0\n",
       "care_options                  0\n",
       "dtype: int64"
      ]
     },
     "execution_count": 8,
     "metadata": {},
     "output_type": "execute_result"
    }
   ],
   "source": [
    "df.isnull().sum()"
   ]
  },
  {
   "cell_type": "code",
   "execution_count": 9,
   "id": "d0da8162",
   "metadata": {
    "execution": {
     "iopub.execute_input": "2025-06-28T10:03:29.254444Z",
     "iopub.status.busy": "2025-06-28T10:03:29.254166Z",
     "iopub.status.idle": "2025-06-28T10:03:29.563285Z",
     "shell.execute_reply": "2025-06-28T10:03:29.562473Z"
    },
    "papermill": {
     "duration": 0.316913,
     "end_time": "2025-06-28T10:03:29.564876",
     "exception": false,
     "start_time": "2025-06-28T10:03:29.247963",
     "status": "completed"
    },
    "tags": []
   },
   "outputs": [],
   "source": [
    "df.dropna(inplace=True)"
   ]
  },
  {
   "cell_type": "code",
   "execution_count": 10,
   "id": "7c5fcb7c",
   "metadata": {
    "execution": {
     "iopub.execute_input": "2025-06-28T10:03:29.577820Z",
     "iopub.status.busy": "2025-06-28T10:03:29.577549Z",
     "iopub.status.idle": "2025-06-28T10:03:29.828066Z",
     "shell.execute_reply": "2025-06-28T10:03:29.827042Z"
    },
    "papermill": {
     "duration": 0.258264,
     "end_time": "2025-06-28T10:03:29.829612",
     "exception": false,
     "start_time": "2025-06-28T10:03:29.571348",
     "status": "completed"
    },
    "tags": []
   },
   "outputs": [
    {
     "data": {
      "text/plain": [
       "Timestamp                  0\n",
       "Gender                     0\n",
       "Country                    0\n",
       "Occupation                 0\n",
       "self_employed              0\n",
       "family_history             0\n",
       "treatment                  0\n",
       "Days_Indoors               0\n",
       "Growing_Stress             0\n",
       "Changes_Habits             0\n",
       "Mental_Health_History      0\n",
       "Mood_Swings                0\n",
       "Coping_Struggles           0\n",
       "Work_Interest              0\n",
       "Social_Weakness            0\n",
       "mental_health_interview    0\n",
       "care_options               0\n",
       "dtype: int64"
      ]
     },
     "execution_count": 10,
     "metadata": {},
     "output_type": "execute_result"
    }
   ],
   "source": [
    "# df.drop(\"Timestamp\",axis=1)\n",
    "df.shape\n",
    "df.isnull().sum()"
   ]
  },
  {
   "cell_type": "code",
   "execution_count": 11,
   "id": "229d6b49",
   "metadata": {
    "execution": {
     "iopub.execute_input": "2025-06-28T10:03:29.842842Z",
     "iopub.status.busy": "2025-06-28T10:03:29.842535Z",
     "iopub.status.idle": "2025-06-28T10:03:29.905179Z",
     "shell.execute_reply": "2025-06-28T10:03:29.904242Z"
    },
    "papermill": {
     "duration": 0.07141,
     "end_time": "2025-06-28T10:03:29.906710",
     "exception": false,
     "start_time": "2025-06-28T10:03:29.835300",
     "status": "completed"
    },
    "tags": []
   },
   "outputs": [
    {
     "data": {
      "text/html": [
       "<div>\n",
       "<style scoped>\n",
       "    .dataframe tbody tr th:only-of-type {\n",
       "        vertical-align: middle;\n",
       "    }\n",
       "\n",
       "    .dataframe tbody tr th {\n",
       "        vertical-align: top;\n",
       "    }\n",
       "\n",
       "    .dataframe thead th {\n",
       "        text-align: right;\n",
       "    }\n",
       "</style>\n",
       "<table border=\"1\" class=\"dataframe\">\n",
       "  <thead>\n",
       "    <tr style=\"text-align: right;\">\n",
       "      <th></th>\n",
       "      <th>Timestamp</th>\n",
       "      <th>Gender</th>\n",
       "      <th>Country</th>\n",
       "      <th>Occupation</th>\n",
       "      <th>self_employed</th>\n",
       "      <th>family_history</th>\n",
       "      <th>Days_Indoors</th>\n",
       "      <th>Growing_Stress</th>\n",
       "      <th>Changes_Habits</th>\n",
       "      <th>Mental_Health_History</th>\n",
       "      <th>Mood_Swings</th>\n",
       "      <th>Coping_Struggles</th>\n",
       "      <th>Work_Interest</th>\n",
       "      <th>Social_Weakness</th>\n",
       "      <th>mental_health_interview</th>\n",
       "      <th>care_options</th>\n",
       "    </tr>\n",
       "  </thead>\n",
       "  <tbody>\n",
       "    <tr>\n",
       "      <th>3</th>\n",
       "      <td>8/27/2014 11:37</td>\n",
       "      <td>Female</td>\n",
       "      <td>United States</td>\n",
       "      <td>Corporate</td>\n",
       "      <td>No</td>\n",
       "      <td>Yes</td>\n",
       "      <td>1-14 days</td>\n",
       "      <td>Yes</td>\n",
       "      <td>No</td>\n",
       "      <td>Yes</td>\n",
       "      <td>Medium</td>\n",
       "      <td>No</td>\n",
       "      <td>No</td>\n",
       "      <td>Yes</td>\n",
       "      <td>Maybe</td>\n",
       "      <td>Yes</td>\n",
       "    </tr>\n",
       "  </tbody>\n",
       "</table>\n",
       "</div>"
      ],
      "text/plain": [
       "         Timestamp  Gender        Country Occupation self_employed  \\\n",
       "3  8/27/2014 11:37  Female  United States  Corporate            No   \n",
       "\n",
       "  family_history Days_Indoors Growing_Stress Changes_Habits  \\\n",
       "3            Yes    1-14 days            Yes             No   \n",
       "\n",
       "  Mental_Health_History Mood_Swings Coping_Struggles Work_Interest  \\\n",
       "3                   Yes      Medium               No            No   \n",
       "\n",
       "  Social_Weakness mental_health_interview care_options  \n",
       "3             Yes                   Maybe          Yes  "
      ]
     },
     "execution_count": 11,
     "metadata": {},
     "output_type": "execute_result"
    }
   ],
   "source": [
    "X=df.drop(\"treatment\",axis=1)\n",
    "y=df[\"treatment\"]\n",
    "\n",
    "X.shape,y.shape\n",
    "X\n",
    "\n",
    "y\n",
    "X.head(1)"
   ]
  },
  {
   "cell_type": "code",
   "execution_count": 12,
   "id": "303d3505",
   "metadata": {
    "execution": {
     "iopub.execute_input": "2025-06-28T10:03:29.919614Z",
     "iopub.status.busy": "2025-06-28T10:03:29.919336Z",
     "iopub.status.idle": "2025-06-28T10:03:30.028841Z",
     "shell.execute_reply": "2025-06-28T10:03:30.027810Z"
    },
    "papermill": {
     "duration": 0.118031,
     "end_time": "2025-06-28T10:03:30.030549",
     "exception": false,
     "start_time": "2025-06-28T10:03:29.912518",
     "status": "completed"
    },
    "tags": []
   },
   "outputs": [
    {
     "data": {
      "text/plain": [
       "3         34\n",
       "4         34\n",
       "5         25\n",
       "6          0\n",
       "7         34\n",
       "          ..\n",
       "292359    34\n",
       "292360    29\n",
       "292361    34\n",
       "292362    34\n",
       "292363    34\n",
       "Name: Country, Length: 284858, dtype: int64"
      ]
     },
     "execution_count": 12,
     "metadata": {},
     "output_type": "execute_result"
    }
   ],
   "source": [
    "\n",
    "le = LabelEncoder()\n",
    "\n",
    "df[\"Gender\"]=le.fit_transform(df[\"Gender\"])\n",
    "\n",
    "\n",
    "df[\"Country\"]=le.fit_transform(df[\"Country\"])\n",
    "df[\"Country\"]\n"
   ]
  },
  {
   "cell_type": "code",
   "execution_count": 13,
   "id": "60d98025",
   "metadata": {
    "execution": {
     "iopub.execute_input": "2025-06-28T10:03:30.043971Z",
     "iopub.status.busy": "2025-06-28T10:03:30.043680Z",
     "iopub.status.idle": "2025-06-28T10:03:31.055904Z",
     "shell.execute_reply": "2025-06-28T10:03:31.054929Z"
    },
    "papermill": {
     "duration": 1.020524,
     "end_time": "2025-06-28T10:03:31.057445",
     "exception": false,
     "start_time": "2025-06-28T10:03:30.036921",
     "status": "completed"
    },
    "tags": []
   },
   "outputs": [
    {
     "data": {
      "text/html": [
       "<div>\n",
       "<style scoped>\n",
       "    .dataframe tbody tr th:only-of-type {\n",
       "        vertical-align: middle;\n",
       "    }\n",
       "\n",
       "    .dataframe tbody tr th {\n",
       "        vertical-align: top;\n",
       "    }\n",
       "\n",
       "    .dataframe thead th {\n",
       "        text-align: right;\n",
       "    }\n",
       "</style>\n",
       "<table border=\"1\" class=\"dataframe\">\n",
       "  <thead>\n",
       "    <tr style=\"text-align: right;\">\n",
       "      <th></th>\n",
       "      <th>Timestamp</th>\n",
       "      <th>Gender</th>\n",
       "      <th>Country</th>\n",
       "      <th>Occupation</th>\n",
       "      <th>self_employed</th>\n",
       "      <th>family_history</th>\n",
       "      <th>treatment</th>\n",
       "      <th>Days_Indoors</th>\n",
       "      <th>Growing_Stress</th>\n",
       "      <th>Changes_Habits</th>\n",
       "      <th>Mental_Health_History</th>\n",
       "      <th>Mood_Swings</th>\n",
       "      <th>Coping_Struggles</th>\n",
       "      <th>Work_Interest</th>\n",
       "      <th>Social_Weakness</th>\n",
       "      <th>mental_health_interview</th>\n",
       "      <th>care_options</th>\n",
       "    </tr>\n",
       "  </thead>\n",
       "  <tbody>\n",
       "    <tr>\n",
       "      <th>3</th>\n",
       "      <td>41</td>\n",
       "      <td>0</td>\n",
       "      <td>34</td>\n",
       "      <td>1</td>\n",
       "      <td>0</td>\n",
       "      <td>1</td>\n",
       "      <td>1</td>\n",
       "      <td>0</td>\n",
       "      <td>2</td>\n",
       "      <td>1</td>\n",
       "      <td>2</td>\n",
       "      <td>2</td>\n",
       "      <td>0</td>\n",
       "      <td>1</td>\n",
       "      <td>2</td>\n",
       "      <td>0</td>\n",
       "      <td>2</td>\n",
       "    </tr>\n",
       "    <tr>\n",
       "      <th>4</th>\n",
       "      <td>46</td>\n",
       "      <td>0</td>\n",
       "      <td>34</td>\n",
       "      <td>1</td>\n",
       "      <td>0</td>\n",
       "      <td>1</td>\n",
       "      <td>1</td>\n",
       "      <td>0</td>\n",
       "      <td>2</td>\n",
       "      <td>1</td>\n",
       "      <td>2</td>\n",
       "      <td>2</td>\n",
       "      <td>0</td>\n",
       "      <td>1</td>\n",
       "      <td>2</td>\n",
       "      <td>1</td>\n",
       "      <td>2</td>\n",
       "    </tr>\n",
       "    <tr>\n",
       "      <th>5</th>\n",
       "      <td>50</td>\n",
       "      <td>0</td>\n",
       "      <td>25</td>\n",
       "      <td>1</td>\n",
       "      <td>0</td>\n",
       "      <td>0</td>\n",
       "      <td>1</td>\n",
       "      <td>0</td>\n",
       "      <td>2</td>\n",
       "      <td>1</td>\n",
       "      <td>2</td>\n",
       "      <td>2</td>\n",
       "      <td>0</td>\n",
       "      <td>1</td>\n",
       "      <td>2</td>\n",
       "      <td>0</td>\n",
       "      <td>1</td>\n",
       "    </tr>\n",
       "    <tr>\n",
       "      <th>6</th>\n",
       "      <td>52</td>\n",
       "      <td>0</td>\n",
       "      <td>0</td>\n",
       "      <td>1</td>\n",
       "      <td>0</td>\n",
       "      <td>1</td>\n",
       "      <td>1</td>\n",
       "      <td>0</td>\n",
       "      <td>2</td>\n",
       "      <td>1</td>\n",
       "      <td>2</td>\n",
       "      <td>2</td>\n",
       "      <td>0</td>\n",
       "      <td>1</td>\n",
       "      <td>2</td>\n",
       "      <td>1</td>\n",
       "      <td>1</td>\n",
       "    </tr>\n",
       "    <tr>\n",
       "      <th>7</th>\n",
       "      <td>53</td>\n",
       "      <td>0</td>\n",
       "      <td>34</td>\n",
       "      <td>1</td>\n",
       "      <td>0</td>\n",
       "      <td>0</td>\n",
       "      <td>0</td>\n",
       "      <td>0</td>\n",
       "      <td>2</td>\n",
       "      <td>1</td>\n",
       "      <td>2</td>\n",
       "      <td>2</td>\n",
       "      <td>0</td>\n",
       "      <td>1</td>\n",
       "      <td>2</td>\n",
       "      <td>1</td>\n",
       "      <td>0</td>\n",
       "    </tr>\n",
       "    <tr>\n",
       "      <th>...</th>\n",
       "      <td>...</td>\n",
       "      <td>...</td>\n",
       "      <td>...</td>\n",
       "      <td>...</td>\n",
       "      <td>...</td>\n",
       "      <td>...</td>\n",
       "      <td>...</td>\n",
       "      <td>...</td>\n",
       "      <td>...</td>\n",
       "      <td>...</td>\n",
       "      <td>...</td>\n",
       "      <td>...</td>\n",
       "      <td>...</td>\n",
       "      <td>...</td>\n",
       "      <td>...</td>\n",
       "      <td>...</td>\n",
       "      <td>...</td>\n",
       "    </tr>\n",
       "    <tr>\n",
       "      <th>292359</th>\n",
       "      <td>36</td>\n",
       "      <td>1</td>\n",
       "      <td>34</td>\n",
       "      <td>0</td>\n",
       "      <td>1</td>\n",
       "      <td>1</td>\n",
       "      <td>1</td>\n",
       "      <td>1</td>\n",
       "      <td>1</td>\n",
       "      <td>0</td>\n",
       "      <td>1</td>\n",
       "      <td>1</td>\n",
       "      <td>1</td>\n",
       "      <td>1</td>\n",
       "      <td>0</td>\n",
       "      <td>0</td>\n",
       "      <td>1</td>\n",
       "    </tr>\n",
       "    <tr>\n",
       "      <th>292360</th>\n",
       "      <td>37</td>\n",
       "      <td>1</td>\n",
       "      <td>29</td>\n",
       "      <td>0</td>\n",
       "      <td>0</td>\n",
       "      <td>1</td>\n",
       "      <td>1</td>\n",
       "      <td>1</td>\n",
       "      <td>1</td>\n",
       "      <td>0</td>\n",
       "      <td>1</td>\n",
       "      <td>1</td>\n",
       "      <td>1</td>\n",
       "      <td>1</td>\n",
       "      <td>0</td>\n",
       "      <td>1</td>\n",
       "      <td>2</td>\n",
       "    </tr>\n",
       "    <tr>\n",
       "      <th>292361</th>\n",
       "      <td>38</td>\n",
       "      <td>1</td>\n",
       "      <td>34</td>\n",
       "      <td>0</td>\n",
       "      <td>0</td>\n",
       "      <td>1</td>\n",
       "      <td>0</td>\n",
       "      <td>1</td>\n",
       "      <td>1</td>\n",
       "      <td>0</td>\n",
       "      <td>1</td>\n",
       "      <td>1</td>\n",
       "      <td>1</td>\n",
       "      <td>1</td>\n",
       "      <td>0</td>\n",
       "      <td>1</td>\n",
       "      <td>0</td>\n",
       "    </tr>\n",
       "    <tr>\n",
       "      <th>292362</th>\n",
       "      <td>564</td>\n",
       "      <td>1</td>\n",
       "      <td>34</td>\n",
       "      <td>0</td>\n",
       "      <td>0</td>\n",
       "      <td>1</td>\n",
       "      <td>1</td>\n",
       "      <td>1</td>\n",
       "      <td>1</td>\n",
       "      <td>0</td>\n",
       "      <td>1</td>\n",
       "      <td>1</td>\n",
       "      <td>1</td>\n",
       "      <td>1</td>\n",
       "      <td>0</td>\n",
       "      <td>1</td>\n",
       "      <td>2</td>\n",
       "    </tr>\n",
       "    <tr>\n",
       "      <th>292363</th>\n",
       "      <td>4</td>\n",
       "      <td>1</td>\n",
       "      <td>34</td>\n",
       "      <td>0</td>\n",
       "      <td>0</td>\n",
       "      <td>1</td>\n",
       "      <td>1</td>\n",
       "      <td>1</td>\n",
       "      <td>1</td>\n",
       "      <td>0</td>\n",
       "      <td>1</td>\n",
       "      <td>1</td>\n",
       "      <td>1</td>\n",
       "      <td>1</td>\n",
       "      <td>0</td>\n",
       "      <td>1</td>\n",
       "      <td>2</td>\n",
       "    </tr>\n",
       "  </tbody>\n",
       "</table>\n",
       "<p>284858 rows × 17 columns</p>\n",
       "</div>"
      ],
      "text/plain": [
       "        Timestamp  Gender  Country  Occupation  self_employed  family_history  \\\n",
       "3              41       0       34           1              0               1   \n",
       "4              46       0       34           1              0               1   \n",
       "5              50       0       25           1              0               0   \n",
       "6              52       0        0           1              0               1   \n",
       "7              53       0       34           1              0               0   \n",
       "...           ...     ...      ...         ...            ...             ...   \n",
       "292359         36       1       34           0              1               1   \n",
       "292360         37       1       29           0              0               1   \n",
       "292361         38       1       34           0              0               1   \n",
       "292362        564       1       34           0              0               1   \n",
       "292363          4       1       34           0              0               1   \n",
       "\n",
       "        treatment  Days_Indoors  Growing_Stress  Changes_Habits  \\\n",
       "3               1             0               2               1   \n",
       "4               1             0               2               1   \n",
       "5               1             0               2               1   \n",
       "6               1             0               2               1   \n",
       "7               0             0               2               1   \n",
       "...           ...           ...             ...             ...   \n",
       "292359          1             1               1               0   \n",
       "292360          1             1               1               0   \n",
       "292361          0             1               1               0   \n",
       "292362          1             1               1               0   \n",
       "292363          1             1               1               0   \n",
       "\n",
       "        Mental_Health_History  Mood_Swings  Coping_Struggles  Work_Interest  \\\n",
       "3                           2            2                 0              1   \n",
       "4                           2            2                 0              1   \n",
       "5                           2            2                 0              1   \n",
       "6                           2            2                 0              1   \n",
       "7                           2            2                 0              1   \n",
       "...                       ...          ...               ...            ...   \n",
       "292359                      1            1                 1              1   \n",
       "292360                      1            1                 1              1   \n",
       "292361                      1            1                 1              1   \n",
       "292362                      1            1                 1              1   \n",
       "292363                      1            1                 1              1   \n",
       "\n",
       "        Social_Weakness  mental_health_interview  care_options  \n",
       "3                     2                        0             2  \n",
       "4                     2                        1             2  \n",
       "5                     2                        0             1  \n",
       "6                     2                        1             1  \n",
       "7                     2                        1             0  \n",
       "...                 ...                      ...           ...  \n",
       "292359                0                        0             1  \n",
       "292360                0                        1             2  \n",
       "292361                0                        1             0  \n",
       "292362                0                        1             2  \n",
       "292363                0                        1             2  \n",
       "\n",
       "[284858 rows x 17 columns]"
      ]
     },
     "execution_count": 13,
     "metadata": {},
     "output_type": "execute_result"
    }
   ],
   "source": [
    "le=LabelEncoder()\n",
    "\n",
    "column_object=df.select_dtypes(\"object\").columns\n",
    "column_object\n",
    "\n",
    "for col in column_object:\n",
    "    df[col]=le.fit_transform(df[col])\n",
    "\n",
    "df"
   ]
  },
  {
   "cell_type": "code",
   "execution_count": 14,
   "id": "d2c0f78e",
   "metadata": {
    "execution": {
     "iopub.execute_input": "2025-06-28T10:03:31.071634Z",
     "iopub.status.busy": "2025-06-28T10:03:31.071307Z",
     "iopub.status.idle": "2025-06-28T10:03:31.093334Z",
     "shell.execute_reply": "2025-06-28T10:03:31.092267Z"
    },
    "papermill": {
     "duration": 0.03079,
     "end_time": "2025-06-28T10:03:31.094839",
     "exception": false,
     "start_time": "2025-06-28T10:03:31.064049",
     "status": "completed"
    },
    "tags": []
   },
   "outputs": [
    {
     "name": "stdout",
     "output_type": "stream",
     "text": [
      "<class 'pandas.core.frame.DataFrame'>\n",
      "Index: 284858 entries, 3 to 292363\n",
      "Data columns (total 17 columns):\n",
      " #   Column                   Non-Null Count   Dtype\n",
      "---  ------                   --------------   -----\n",
      " 0   Timestamp                284858 non-null  int64\n",
      " 1   Gender                   284858 non-null  int64\n",
      " 2   Country                  284858 non-null  int64\n",
      " 3   Occupation               284858 non-null  int64\n",
      " 4   self_employed            284858 non-null  int64\n",
      " 5   family_history           284858 non-null  int64\n",
      " 6   treatment                284858 non-null  int64\n",
      " 7   Days_Indoors             284858 non-null  int64\n",
      " 8   Growing_Stress           284858 non-null  int64\n",
      " 9   Changes_Habits           284858 non-null  int64\n",
      " 10  Mental_Health_History    284858 non-null  int64\n",
      " 11  Mood_Swings              284858 non-null  int64\n",
      " 12  Coping_Struggles         284858 non-null  int64\n",
      " 13  Work_Interest            284858 non-null  int64\n",
      " 14  Social_Weakness          284858 non-null  int64\n",
      " 15  mental_health_interview  284858 non-null  int64\n",
      " 16  care_options             284858 non-null  int64\n",
      "dtypes: int64(17)\n",
      "memory usage: 39.1 MB\n"
     ]
    }
   ],
   "source": [
    "df.info()"
   ]
  },
  {
   "cell_type": "code",
   "execution_count": 15,
   "id": "dd6b6943",
   "metadata": {
    "execution": {
     "iopub.execute_input": "2025-06-28T10:03:31.108656Z",
     "iopub.status.busy": "2025-06-28T10:03:31.108376Z",
     "iopub.status.idle": "2025-06-28T10:03:31.168250Z",
     "shell.execute_reply": "2025-06-28T10:03:31.167289Z"
    },
    "papermill": {
     "duration": 0.068895,
     "end_time": "2025-06-28T10:03:31.169851",
     "exception": false,
     "start_time": "2025-06-28T10:03:31.100956",
     "status": "completed"
    },
    "tags": []
   },
   "outputs": [
    {
     "data": {
      "text/plain": [
       "3         1\n",
       "4         1\n",
       "5         1\n",
       "6         1\n",
       "7         0\n",
       "         ..\n",
       "292359    1\n",
       "292360    1\n",
       "292361    0\n",
       "292362    1\n",
       "292363    1\n",
       "Name: treatment, Length: 284858, dtype: int64"
      ]
     },
     "execution_count": 15,
     "metadata": {},
     "output_type": "execute_result"
    }
   ],
   "source": [
    "X=df.drop(\"treatment\",axis=1)\n",
    "X\n",
    "y=df[\"treatment\"]\n",
    "X,y\n",
    "X\n",
    "\n",
    "y"
   ]
  },
  {
   "cell_type": "code",
   "execution_count": 16,
   "id": "bdd83e8c",
   "metadata": {
    "execution": {
     "iopub.execute_input": "2025-06-28T10:03:31.184207Z",
     "iopub.status.busy": "2025-06-28T10:03:31.183863Z",
     "iopub.status.idle": "2025-06-28T10:03:31.188332Z",
     "shell.execute_reply": "2025-06-28T10:03:31.187351Z"
    },
    "papermill": {
     "duration": 0.013509,
     "end_time": "2025-06-28T10:03:31.189918",
     "exception": false,
     "start_time": "2025-06-28T10:03:31.176409",
     "status": "completed"
    },
    "tags": []
   },
   "outputs": [],
   "source": [
    "# X=pd.get_dummies(data=df,columns=[\"Gender\",\"Country\",\"Occupation\",\"self_employed\" \t,\"family_history\" \t,\"Days_Indoors\",\"Growing_Stress\", \t\"Changes_Habits\", \t\"Mental_Health_History\", \t\"Mood_Swings\", \t\"Coping_Struggles\"\t,\"Work_Interest\",\"Social_Weakness\",\"mental_health_interview\" ,\"care_options\"])"
   ]
  },
  {
   "cell_type": "code",
   "execution_count": 17,
   "id": "99e092cf",
   "metadata": {
    "execution": {
     "iopub.execute_input": "2025-06-28T10:03:31.204189Z",
     "iopub.status.busy": "2025-06-28T10:03:31.203844Z",
     "iopub.status.idle": "2025-06-28T10:03:31.209619Z",
     "shell.execute_reply": "2025-06-28T10:03:31.208635Z"
    },
    "papermill": {
     "duration": 0.014531,
     "end_time": "2025-06-28T10:03:31.211202",
     "exception": false,
     "start_time": "2025-06-28T10:03:31.196671",
     "status": "completed"
    },
    "tags": []
   },
   "outputs": [
    {
     "data": {
      "text/plain": [
       "(284858, 16)"
      ]
     },
     "execution_count": 17,
     "metadata": {},
     "output_type": "execute_result"
    }
   ],
   "source": [
    "X.shape"
   ]
  },
  {
   "cell_type": "code",
   "execution_count": 18,
   "id": "142a2951",
   "metadata": {
    "execution": {
     "iopub.execute_input": "2025-06-28T10:03:31.226140Z",
     "iopub.status.busy": "2025-06-28T10:03:31.225782Z",
     "iopub.status.idle": "2025-06-28T10:03:31.244107Z",
     "shell.execute_reply": "2025-06-28T10:03:31.243064Z"
    },
    "papermill": {
     "duration": 0.027709,
     "end_time": "2025-06-28T10:03:31.245619",
     "exception": false,
     "start_time": "2025-06-28T10:03:31.217910",
     "status": "completed"
    },
    "tags": []
   },
   "outputs": [
    {
     "data": {
      "text/plain": [
       "Timestamp                  0\n",
       "Gender                     0\n",
       "Country                    0\n",
       "Occupation                 0\n",
       "self_employed              0\n",
       "family_history             0\n",
       "Days_Indoors               0\n",
       "Growing_Stress             0\n",
       "Changes_Habits             0\n",
       "Mental_Health_History      0\n",
       "Mood_Swings                0\n",
       "Coping_Struggles           0\n",
       "Work_Interest              0\n",
       "Social_Weakness            0\n",
       "mental_health_interview    0\n",
       "care_options               0\n",
       "dtype: int64"
      ]
     },
     "execution_count": 18,
     "metadata": {},
     "output_type": "execute_result"
    }
   ],
   "source": [
    "X.isnull().sum()"
   ]
  },
  {
   "cell_type": "code",
   "execution_count": null,
   "id": "0cf007bf",
   "metadata": {
    "papermill": {
     "duration": 0.006096,
     "end_time": "2025-06-28T10:03:31.258399",
     "exception": false,
     "start_time": "2025-06-28T10:03:31.252303",
     "status": "completed"
    },
    "tags": []
   },
   "outputs": [],
   "source": []
  },
  {
   "cell_type": "code",
   "execution_count": null,
   "id": "d3870f88",
   "metadata": {
    "papermill": {
     "duration": 0.006617,
     "end_time": "2025-06-28T10:03:31.271157",
     "exception": false,
     "start_time": "2025-06-28T10:03:31.264540",
     "status": "completed"
    },
    "tags": []
   },
   "outputs": [],
   "source": []
  },
  {
   "cell_type": "code",
   "execution_count": null,
   "id": "ab17bc5e",
   "metadata": {
    "papermill": {
     "duration": 0.006267,
     "end_time": "2025-06-28T10:03:31.283774",
     "exception": false,
     "start_time": "2025-06-28T10:03:31.277507",
     "status": "completed"
    },
    "tags": []
   },
   "outputs": [],
   "source": []
  },
  {
   "cell_type": "code",
   "execution_count": null,
   "id": "94656677",
   "metadata": {
    "papermill": {
     "duration": 0.006634,
     "end_time": "2025-06-28T10:03:31.296820",
     "exception": false,
     "start_time": "2025-06-28T10:03:31.290186",
     "status": "completed"
    },
    "tags": []
   },
   "outputs": [],
   "source": []
  },
  {
   "cell_type": "code",
   "execution_count": null,
   "id": "bb0ab064",
   "metadata": {
    "papermill": {
     "duration": 0.006226,
     "end_time": "2025-06-28T10:03:31.309682",
     "exception": false,
     "start_time": "2025-06-28T10:03:31.303456",
     "status": "completed"
    },
    "tags": []
   },
   "outputs": [],
   "source": []
  },
  {
   "cell_type": "code",
   "execution_count": null,
   "id": "cf3014ec",
   "metadata": {
    "papermill": {
     "duration": 0.006193,
     "end_time": "2025-06-28T10:03:31.322270",
     "exception": false,
     "start_time": "2025-06-28T10:03:31.316077",
     "status": "completed"
    },
    "tags": []
   },
   "outputs": [],
   "source": []
  },
  {
   "cell_type": "code",
   "execution_count": null,
   "id": "fefc1d6c",
   "metadata": {
    "papermill": {
     "duration": 0.007234,
     "end_time": "2025-06-28T10:03:31.335812",
     "exception": false,
     "start_time": "2025-06-28T10:03:31.328578",
     "status": "completed"
    },
    "tags": []
   },
   "outputs": [],
   "source": []
  },
  {
   "cell_type": "code",
   "execution_count": null,
   "id": "907798af",
   "metadata": {
    "papermill": {
     "duration": 0.006236,
     "end_time": "2025-06-28T10:03:31.349658",
     "exception": false,
     "start_time": "2025-06-28T10:03:31.343422",
     "status": "completed"
    },
    "tags": []
   },
   "outputs": [],
   "source": []
  },
  {
   "cell_type": "code",
   "execution_count": null,
   "id": "9114fd1e",
   "metadata": {
    "papermill": {
     "duration": 0.006185,
     "end_time": "2025-06-28T10:03:31.362246",
     "exception": false,
     "start_time": "2025-06-28T10:03:31.356061",
     "status": "completed"
    },
    "tags": []
   },
   "outputs": [],
   "source": []
  },
  {
   "cell_type": "code",
   "execution_count": null,
   "id": "25e6b8c4",
   "metadata": {
    "papermill": {
     "duration": 0.006419,
     "end_time": "2025-06-28T10:03:31.375046",
     "exception": false,
     "start_time": "2025-06-28T10:03:31.368627",
     "status": "completed"
    },
    "tags": []
   },
   "outputs": [],
   "source": []
  },
  {
   "cell_type": "code",
   "execution_count": null,
   "id": "f84b32a9",
   "metadata": {
    "papermill": {
     "duration": 0.006124,
     "end_time": "2025-06-28T10:03:31.387448",
     "exception": false,
     "start_time": "2025-06-28T10:03:31.381324",
     "status": "completed"
    },
    "tags": []
   },
   "outputs": [],
   "source": []
  },
  {
   "cell_type": "code",
   "execution_count": null,
   "id": "a2da666f",
   "metadata": {
    "papermill": {
     "duration": 0.006081,
     "end_time": "2025-06-28T10:03:31.399834",
     "exception": false,
     "start_time": "2025-06-28T10:03:31.393753",
     "status": "completed"
    },
    "tags": []
   },
   "outputs": [],
   "source": []
  }
 ],
 "metadata": {
  "kaggle": {
   "accelerator": "none",
   "dataSources": [
    {
     "datasetId": 4619539,
     "sourceId": 7872606,
     "sourceType": "datasetVersion"
    }
   ],
   "dockerImageVersionId": 31040,
   "isGpuEnabled": false,
   "isInternetEnabled": true,
   "language": "python",
   "sourceType": "notebook"
  },
  "kernelspec": {
   "display_name": "Python 3",
   "language": "python",
   "name": "python3"
  },
  "language_info": {
   "codemirror_mode": {
    "name": "ipython",
    "version": 3
   },
   "file_extension": ".py",
   "mimetype": "text/x-python",
   "name": "python",
   "nbconvert_exporter": "python",
   "pygments_lexer": "ipython3",
   "version": "3.11.11"
  },
  "papermill": {
   "default_parameters": {},
   "duration": 22.165673,
   "end_time": "2025-06-28T10:03:32.529847",
   "environment_variables": {},
   "exception": null,
   "input_path": "__notebook__.ipynb",
   "output_path": "__notebook__.ipynb",
   "parameters": {},
   "start_time": "2025-06-28T10:03:10.364174",
   "version": "2.6.0"
  }
 },
 "nbformat": 4,
 "nbformat_minor": 5
}
