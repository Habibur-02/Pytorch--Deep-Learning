{
 "cells": [
  {
   "cell_type": "code",
   "execution_count": 1,
   "id": "e394a7c3",
   "metadata": {
    "_cell_guid": "b1076dfc-b9ad-4769-8c92-a6c4dae69d19",
    "_uuid": "8f2839f25d086af736a60e9eeb907d3b93b6e0e5",
    "execution": {
     "iopub.execute_input": "2025-06-26T19:31:24.000707Z",
     "iopub.status.busy": "2025-06-26T19:31:24.000354Z",
     "iopub.status.idle": "2025-06-26T19:31:26.017640Z",
     "shell.execute_reply": "2025-06-26T19:31:26.016619Z"
    },
    "papermill": {
     "duration": 2.030861,
     "end_time": "2025-06-26T19:31:26.019427",
     "exception": false,
     "start_time": "2025-06-26T19:31:23.988566",
     "status": "completed"
    },
    "tags": []
   },
   "outputs": [],
   "source": [
    "# This Python 3 environment comes with many helpful analytics libraries installed\n",
    "# It is defined by the kaggle/python Docker image: https://github.com/kaggle/docker-python\n",
    "# For example, here's several helpful packages to load\n",
    "\n",
    "import numpy as np # linear algebra\n",
    "import pandas as pd # data processing, CSV file I/O (e.g. pd.read_csv)\n",
    "\n",
    "# Input data files are available in the read-only \"../input/\" directory\n",
    "# For example, running this (by clicking run or pressing Shift+Enter) will list all files under the input directory\n",
    "\n",
    "import os\n",
    "for dirname, _, filenames in os.walk('/kaggle/input'):\n",
    "    for filename in filenames:\n",
    "        print(os.path.join(dirname, filename))\n",
    "\n",
    "# You can write up to 20GB to the current directory (/kaggle/working/) that gets preserved as output when you create a version using \"Save & Run All\" \n",
    "# You can also write temporary files to /kaggle/temp/, but they won't be saved outside of the current session"
   ]
  },
  {
   "cell_type": "code",
   "execution_count": 2,
   "id": "9e6b7963",
   "metadata": {
    "execution": {
     "iopub.execute_input": "2025-06-26T19:31:26.040554Z",
     "iopub.status.busy": "2025-06-26T19:31:26.039675Z",
     "iopub.status.idle": "2025-06-26T19:31:38.231975Z",
     "shell.execute_reply": "2025-06-26T19:31:38.230942Z"
    },
    "papermill": {
     "duration": 12.204386,
     "end_time": "2025-06-26T19:31:38.233703",
     "exception": false,
     "start_time": "2025-06-26T19:31:26.029317",
     "status": "completed"
    },
    "tags": []
   },
   "outputs": [
    {
     "name": "stdout",
     "output_type": "stream",
     "text": [
      "PyTorch version: 2.6.0+cu124\n",
      "torchvision version: 0.21.0+cu124\n"
     ]
    }
   ],
   "source": [
    "import torch\n",
    "from torch import nn\n",
    "\n",
    "# Import torchvision \n",
    "import torchvision\n",
    "from torchvision import datasets\n",
    "from torchvision.transforms import ToTensor\n",
    "\n",
    "# Import matplotlib for visualization\n",
    "import matplotlib.pyplot as plt\n",
    "\n",
    "# Check versions\n",
    "# Note: your PyTorch version shouldn't be lower than 1.10.0 and torchvision version shouldn't be lower than 0.11\n",
    "print(f\"PyTorch version: {torch.__version__}\\ntorchvision version: {torchvision.__version__}\")"
   ]
  },
  {
   "cell_type": "code",
   "execution_count": 3,
   "id": "d9ce07f8",
   "metadata": {
    "execution": {
     "iopub.execute_input": "2025-06-26T19:31:38.254180Z",
     "iopub.status.busy": "2025-06-26T19:31:38.253757Z",
     "iopub.status.idle": "2025-06-26T19:31:39.681868Z",
     "shell.execute_reply": "2025-06-26T19:31:39.680839Z"
    },
    "papermill": {
     "duration": 1.440588,
     "end_time": "2025-06-26T19:31:39.683903",
     "exception": false,
     "start_time": "2025-06-26T19:31:38.243315",
     "status": "completed"
    },
    "tags": []
   },
   "outputs": [
    {
     "name": "stderr",
     "output_type": "stream",
     "text": [
      "100%|██████████| 26.4M/26.4M [00:00<00:00, 114MB/s]\n",
      "100%|██████████| 29.5k/29.5k [00:00<00:00, 3.82MB/s]\n",
      "100%|██████████| 4.42M/4.42M [00:00<00:00, 52.9MB/s]\n",
      "100%|██████████| 5.15k/5.15k [00:00<00:00, 8.61MB/s]\n"
     ]
    }
   ],
   "source": [
    "train_data=datasets.FashionMNIST(\n",
    "    root=\"data\",\n",
    "    train=True,\n",
    "    download=True,\n",
    "    transform=ToTensor(),\n",
    "    target_transform=None\n",
    ")\n",
    "\n",
    "test_data=datasets.FashionMNIST(\n",
    "    root=\"data\",\n",
    "    train=False,\n",
    "    download=True,\n",
    "    transform=ToTensor()\n",
    "    \n",
    ")"
   ]
  },
  {
   "cell_type": "code",
   "execution_count": 4,
   "id": "5a19050f",
   "metadata": {
    "execution": {
     "iopub.execute_input": "2025-06-26T19:31:39.707039Z",
     "iopub.status.busy": "2025-06-26T19:31:39.706710Z",
     "iopub.status.idle": "2025-06-26T19:31:39.720439Z",
     "shell.execute_reply": "2025-06-26T19:31:39.719441Z"
    },
    "papermill": {
     "duration": 0.027297,
     "end_time": "2025-06-26T19:31:39.722366",
     "exception": false,
     "start_time": "2025-06-26T19:31:39.695069",
     "status": "completed"
    },
    "tags": []
   },
   "outputs": [
    {
     "data": {
      "text/plain": [
       "9"
      ]
     },
     "execution_count": 4,
     "metadata": {},
     "output_type": "execute_result"
    }
   ],
   "source": [
    "image,level=train_data[0]\n",
    "\n",
    "image,level\n",
    "level"
   ]
  },
  {
   "cell_type": "markdown",
   "id": "a9e1440c",
   "metadata": {
    "papermill": {
     "duration": 0.009998,
     "end_time": "2025-06-26T19:31:39.744347",
     "exception": false,
     "start_time": "2025-06-26T19:31:39.734349",
     "status": "completed"
    },
    "tags": []
   },
   "source": [
    "he order of our current tensor is often referred to as ```CHW``` (Color Channels, Height, Width).\n",
    "\n",
    "There's debate on whether images should be represented as ```CHW``` (color channels first) or HWC (color channels last).\n",
    "\n",
    "PyTorch generally accepts ```NCHW``` (channels first) as the default for many operators.\n",
    "\n",
    "However, PyTorch also explains that ```NHWC``` (channels last) performs better and is considered best practice.\n",
    "\n",
    "For now, since our dataset and models are relatively small, this won't make too much of a difference.\n",
    "\n",
    "But keep it in mind for when you're working on larger image datasets and using convolutional neural networks (we'll see these later).\n",
    "\n",
    "Let's check out more shapes of our data."
   ]
  },
  {
   "cell_type": "code",
   "execution_count": 5,
   "id": "c4662c2a",
   "metadata": {
    "execution": {
     "iopub.execute_input": "2025-06-26T19:31:39.769342Z",
     "iopub.status.busy": "2025-06-26T19:31:39.768305Z",
     "iopub.status.idle": "2025-06-26T19:31:39.776181Z",
     "shell.execute_reply": "2025-06-26T19:31:39.775122Z"
    },
    "papermill": {
     "duration": 0.023256,
     "end_time": "2025-06-26T19:31:39.778123",
     "exception": false,
     "start_time": "2025-06-26T19:31:39.754867",
     "status": "completed"
    },
    "tags": []
   },
   "outputs": [
    {
     "data": {
      "text/plain": [
       "(60000, 60000, 10000, 10000)"
      ]
     },
     "execution_count": 5,
     "metadata": {},
     "output_type": "execute_result"
    }
   ],
   "source": [
    "image.shape\n",
    "\n",
    "len(train_data.data)\n",
    "\n",
    "dir(train_data)\n",
    "\n",
    "train_data.data\n",
    "\n",
    "train_data.classes\n",
    "\n",
    "len(train_data), len(train_data.targets), len(test_data), len(test_data.targets),"
   ]
  },
  {
   "cell_type": "code",
   "execution_count": 6,
   "id": "5db6e16c",
   "metadata": {
    "execution": {
     "iopub.execute_input": "2025-06-26T19:31:39.801744Z",
     "iopub.status.busy": "2025-06-26T19:31:39.801151Z",
     "iopub.status.idle": "2025-06-26T19:31:39.808767Z",
     "shell.execute_reply": "2025-06-26T19:31:39.807491Z"
    },
    "papermill": {
     "duration": 0.02244,
     "end_time": "2025-06-26T19:31:39.811381",
     "exception": false,
     "start_time": "2025-06-26T19:31:39.788941",
     "status": "completed"
    },
    "tags": []
   },
   "outputs": [
    {
     "data": {
      "text/plain": [
       "['T-shirt/top',\n",
       " 'Trouser',\n",
       " 'Pullover',\n",
       " 'Dress',\n",
       " 'Coat',\n",
       " 'Sandal',\n",
       " 'Shirt',\n",
       " 'Sneaker',\n",
       " 'Bag',\n",
       " 'Ankle boot']"
      ]
     },
     "execution_count": 6,
     "metadata": {},
     "output_type": "execute_result"
    }
   ],
   "source": [
    "class_name=train_data.classes\n",
    "class_name"
   ]
  },
  {
   "cell_type": "code",
   "execution_count": 7,
   "id": "ab7aba1a",
   "metadata": {
    "execution": {
     "iopub.execute_input": "2025-06-26T19:31:39.836009Z",
     "iopub.status.busy": "2025-06-26T19:31:39.835105Z",
     "iopub.status.idle": "2025-06-26T19:31:40.177709Z",
     "shell.execute_reply": "2025-06-26T19:31:40.176676Z"
    },
    "papermill": {
     "duration": 0.357636,
     "end_time": "2025-06-26T19:31:40.179640",
     "exception": false,
     "start_time": "2025-06-26T19:31:39.822004",
     "status": "completed"
    },
    "tags": []
   },
   "outputs": [
    {
     "name": "stdout",
     "output_type": "stream",
     "text": [
      "Image Shape torch.Size([1, 28, 28])\n"
     ]
    },
    {
     "data": {
      "image/png": "[encoded data removed]",
      "text/plain": [
       "<Figure size 640x480 with 1 Axes>"
      ]
     },
     "metadata": {},
     "output_type": "display_data"
    }
   ],
   "source": [
    "import matplotlib.pyplot as plt\n",
    "image,lebel=train_data[0]\n",
    "print(f\"Image Shape {image.shape}\")\n",
    "plt.imshow(image.squeeze()) #remove extra 1 dim\n",
    "plt.title(class_name[lebel]);\n"
   ]
  },
  {
   "cell_type": "code",
   "execution_count": 8,
   "id": "3fc893f8",
   "metadata": {
    "execution": {
     "iopub.execute_input": "2025-06-26T19:31:40.205798Z",
     "iopub.status.busy": "2025-06-26T19:31:40.205442Z",
     "iopub.status.idle": "2025-06-26T19:31:40.544297Z",
     "shell.execute_reply": "2025-06-26T19:31:40.543180Z"
    },
    "papermill": {
     "duration": 0.353839,
     "end_time": "2025-06-26T19:31:40.546312",
     "exception": false,
     "start_time": "2025-06-26T19:31:40.192473",
     "status": "completed"
    },
    "tags": []
   },
   "outputs": [
    {
     "data": {
      "text/plain": [
       "Text(0.5, 1.0, 'Random Tensor image with size (20, 22) ')"
      ]
     },
     "execution_count": 8,
     "metadata": {},
     "output_type": "execute_result"
    },
    {
     "data": {
      "image/png": "[encoded data removed]",
      "text/plain": [
       "<Figure size 640x480 with 2 Axes>"
      ]
     },
     "metadata": {},
     "output_type": "display_data"
    }
   ],
   "source": [
    "H,W= 20,22\n",
    "fake_tensor_data=torch.rand(H,W)\n",
    "fake_tensor_data=torch.randint(0,256, (H,W), dtype=torch.float32) # it will make tensor within 0->255\n",
    "plt.imshow(fake_tensor_data,cmap='gray')\n",
    "plt.colorbar()\n",
    "plt.title(f\"Random Tensor image with size {H, W} \")"
   ]
  },
  {
   "cell_type": "code",
   "execution_count": 9,
   "id": "10fbdf43",
   "metadata": {
    "execution": {
     "iopub.execute_input": "2025-06-26T19:31:40.572858Z",
     "iopub.status.busy": "2025-06-26T19:31:40.572501Z",
     "iopub.status.idle": "2025-06-26T19:31:40.604268Z",
     "shell.execute_reply": "2025-06-26T19:31:40.603198Z"
    },
    "papermill": {
     "duration": 0.046367,
     "end_time": "2025-06-26T19:31:40.605813",
     "exception": false,
     "start_time": "2025-06-26T19:31:40.559446",
     "status": "completed"
    },
    "tags": []
   },
   "outputs": [
    {
     "data": {
      "text/plain": [
       "tensor([[0.1529, 0.5882, 0.5725, 0.5529, 0.0235, 0.0745, 0.3725, 0.5490, 0.1333,\n",
       "         0.0275, 0.0157, 0.8745, 0.5843, 0.1137, 0.9608, 0.2196, 0.8784, 0.5294,\n",
       "         0.2118, 0.8196, 0.4941, 0.5333],\n",
       "        [0.0118, 0.6745, 0.3843, 0.4314, 0.3843, 0.3137, 0.8706, 0.0941, 0.9020,\n",
       "         0.7686, 0.5922, 0.5529, 0.6078, 0.7529, 0.6627, 0.8353, 0.4784, 0.8627,\n",
       "         0.6902, 0.3961, 0.2941, 0.5882],\n",
       "        [0.2549, 0.8706, 0.0471, 0.4118, 0.6667, 0.5176, 0.9216, 0.3059, 0.3843,\n",
       "         0.2784, 0.9451, 0.8314, 0.6784, 0.1490, 0.7843, 0.8157, 0.8863, 0.8118,\n",
       "         0.7333, 0.9451, 0.2078, 0.0667],\n",
       "        [0.5529, 0.0392, 0.7255, 0.8157, 0.2627, 0.0510, 0.9216, 0.7020, 0.1137,\n",
       "         0.2745, 0.8784, 0.0471, 0.4941, 0.6941, 0.5451, 0.7294, 0.9529, 0.8863,\n",
       "         0.5686, 0.0824, 0.9765, 0.0510],\n",
       "        [0.4510, 0.4588, 0.8745, 0.1020, 0.2196, 0.0549, 0.7373, 0.6078, 0.9373,\n",
       "         0.0275, 0.0196, 0.8549, 0.8431, 0.3686, 0.2039, 0.2902, 0.5804, 0.0549,\n",
       "         0.6392, 0.9176, 0.4235, 0.6706],\n",
       "        [0.5412, 0.6784, 0.0000, 0.4235, 0.7686, 0.8353, 0.8118, 0.8353, 0.0784,\n",
       "         0.0980, 0.1216, 0.3216, 0.6627, 0.1882, 0.3529, 0.3961, 0.5176, 0.9686,\n",
       "         0.4902, 0.6235, 0.7020, 0.3020],\n",
       "        [0.1922, 0.6745, 0.7137, 0.3882, 0.8627, 0.2902, 0.5569, 0.1373, 0.8941,\n",
       "         0.6039, 0.1804, 0.2314, 0.7020, 0.9451, 0.7412, 0.1922, 0.2392, 0.0471,\n",
       "         0.0157, 0.0039, 0.2000, 0.5176],\n",
       "        [0.6471, 0.3333, 0.1686, 0.3725, 0.2863, 0.0627, 0.5569, 0.9098, 0.6980,\n",
       "         0.4118, 0.6275, 0.2549, 0.0118, 0.5804, 0.4000, 0.8549, 0.4510, 0.1137,\n",
       "         0.2627, 0.6706, 0.0000, 0.8549],\n",
       "        [0.2431, 0.4824, 0.6980, 0.3373, 0.4706, 0.0118, 0.3137, 0.3765, 0.2549,\n",
       "         0.6667, 0.6588, 0.1882, 0.1020, 0.3373, 0.1176, 0.4196, 0.0706, 0.6706,\n",
       "         0.5255, 0.2196, 0.1529, 0.2039],\n",
       "        [0.3529, 0.3020, 0.4902, 0.3255, 0.3882, 0.5569, 0.6314, 0.4706, 0.6196,\n",
       "         0.4078, 0.8196, 0.8353, 0.9765, 0.1176, 0.4902, 0.0078, 0.6118, 0.5843,\n",
       "         0.0588, 0.2745, 0.1804, 0.1373],\n",
       "        [0.7176, 0.1843, 0.3373, 0.4275, 0.0157, 0.3647, 0.2431, 0.6314, 0.9059,\n",
       "         0.8157, 0.1804, 0.4471, 0.8863, 0.5686, 0.6078, 0.2745, 0.2706, 0.5490,\n",
       "         0.8627, 0.3647, 0.9647, 0.2667],\n",
       "        [0.6627, 0.4588, 0.2588, 0.5686, 0.8588, 0.8980, 0.8941, 0.3882, 0.9216,\n",
       "         0.8902, 0.2471, 0.7294, 0.5686, 0.2392, 0.4863, 0.2471, 0.8235, 1.0000,\n",
       "         0.1333, 0.7529, 0.4078, 0.6353],\n",
       "        [0.2353, 0.8000, 0.5725, 0.8588, 0.5529, 0.1451, 0.2706, 0.0078, 0.3412,\n",
       "         0.8902, 0.8824, 0.4863, 0.4863, 0.0980, 0.2196, 0.5333, 0.5255, 0.2667,\n",
       "         0.8667, 0.0667, 0.8235, 0.3137],\n",
       "        [0.4745, 0.9412, 0.0196, 0.9569, 0.3961, 0.8863, 0.1373, 0.6275, 0.5765,\n",
       "         0.5098, 0.7059, 0.6235, 0.0941, 0.1333, 0.4353, 0.3373, 0.3843, 0.4078,\n",
       "         0.8863, 0.7216, 0.5294, 0.0118],\n",
       "        [0.9451, 0.6353, 0.0980, 0.9137, 0.1137, 0.7294, 0.4980, 0.7647, 0.6392,\n",
       "         0.7294, 0.4078, 0.5608, 0.9373, 0.2863, 0.2824, 0.7843, 0.7333, 0.0039,\n",
       "         0.7765, 0.8431, 0.8157, 0.5569],\n",
       "        [0.6314, 0.4392, 0.6980, 0.1059, 0.6471, 0.6275, 0.8078, 0.8863, 0.5412,\n",
       "         0.0118, 0.1137, 0.9804, 0.7333, 0.2863, 0.8000, 0.1176, 0.4706, 0.6392,\n",
       "         0.0902, 0.8196, 0.6510, 1.0000],\n",
       "        [0.4667, 0.8118, 0.6000, 0.7294, 0.3490, 0.5333, 0.2000, 0.5255, 0.1176,\n",
       "         0.7137, 0.7412, 0.3843, 0.9216, 0.2980, 0.7490, 0.3333, 0.7529, 0.2510,\n",
       "         0.0941, 0.8235, 0.9216, 0.9216],\n",
       "        [0.9490, 0.7569, 0.9569, 0.6000, 0.8745, 0.2784, 0.4471, 0.2588, 0.5529,\n",
       "         0.1608, 0.9961, 0.0745, 0.0314, 0.7490, 0.8275, 0.9686, 0.1412, 0.6039,\n",
       "         0.0863, 0.7216, 0.4667, 0.2510],\n",
       "        [0.5686, 0.6314, 0.3059, 0.4078, 0.2235, 0.2784, 0.2000, 0.8039, 0.0431,\n",
       "         0.3882, 0.4235, 0.2000, 0.1804, 0.8353, 0.7294, 0.3059, 0.2157, 0.2118,\n",
       "         0.6902, 0.6078, 0.2118, 0.1686],\n",
       "        [0.7412, 0.2118, 0.9176, 0.7490, 0.9255, 0.6902, 0.9373, 0.6824, 0.5255,\n",
       "         0.7490, 0.6157, 0.1176, 1.0000, 0.1529, 0.9294, 0.8157, 0.4863, 0.6431,\n",
       "         0.1412, 0.8471, 0.8392, 0.4980]])"
      ]
     },
     "execution_count": 9,
     "metadata": {},
     "output_type": "execute_result"
    }
   ],
   "source": [
    "fake_tensor_data=fake_tensor_data/255\n",
    "fake_tensor_data"
   ]
  },
  {
   "cell_type": "code",
   "execution_count": 10,
   "id": "b860279a",
   "metadata": {
    "execution": {
     "iopub.execute_input": "2025-06-26T19:31:40.630559Z",
     "iopub.status.busy": "2025-06-26T19:31:40.630195Z",
     "iopub.status.idle": "2025-06-26T19:31:41.554990Z",
     "shell.execute_reply": "2025-06-26T19:31:41.554095Z"
    },
    "papermill": {
     "duration": 0.939053,
     "end_time": "2025-06-26T19:31:41.556730",
     "exception": false,
     "start_time": "2025-06-26T19:31:40.617677",
     "status": "completed"
    },
    "tags": []
   },
   "outputs": [
    {
     "data": {
      "image/png": "[encoded data removed]",
      "text/plain": [
       "<Figure size 900x900 with 15 Axes>"
      ]
     },
     "metadata": {},
     "output_type": "display_data"
    }
   ],
   "source": [
    "torch.manual_seed(42)\n",
    "fig=plt.figure(figsize=(9,9))\n",
    "row, col= 4 , 4\n",
    "\n",
    "for i in range(1, row*col):\n",
    "    index=torch.randint(0,len(train_data),size=[1]).item()\n",
    "    image, lebel= train_data[index]\n",
    "    fig.add_subplot(row, col, i)\n",
    "    plt.title(class_name[lebel])\n",
    "    plt.imshow(image.squeeze())\n",
    "    plt.axis(False)\n",
    "    \n",
    "    \n",
    "\n"
   ]
  },
  {
   "cell_type": "code",
   "execution_count": 11,
   "id": "d3f84327",
   "metadata": {
    "execution": {
     "iopub.execute_input": "2025-06-26T19:31:41.590696Z",
     "iopub.status.busy": "2025-06-26T19:31:41.590355Z",
     "iopub.status.idle": "2025-06-26T19:31:41.597424Z",
     "shell.execute_reply": "2025-06-26T19:31:41.596572Z"
    },
    "papermill": {
     "duration": 0.024123,
     "end_time": "2025-06-26T19:31:41.599037",
     "exception": false,
     "start_time": "2025-06-26T19:31:41.574914",
     "status": "completed"
    },
    "tags": []
   },
   "outputs": [
    {
     "data": {
      "text/plain": [
       "2"
      ]
     },
     "execution_count": 11,
     "metadata": {},
     "output_type": "execute_result"
    }
   ],
   "source": [
    "torch.randint(0,10, size=[1]).item()"
   ]
  },
  {
   "cell_type": "code",
   "execution_count": 12,
   "id": "3a06ca79",
   "metadata": {
    "execution": {
     "iopub.execute_input": "2025-06-26T19:31:41.628158Z",
     "iopub.status.busy": "2025-06-26T19:31:41.627856Z",
     "iopub.status.idle": "2025-06-26T19:31:41.634113Z",
     "shell.execute_reply": "2025-06-26T19:31:41.633177Z"
    },
    "papermill": {
     "duration": 0.021747,
     "end_time": "2025-06-26T19:31:41.635897",
     "exception": false,
     "start_time": "2025-06-26T19:31:41.614150",
     "status": "completed"
    },
    "tags": []
   },
   "outputs": [
    {
     "name": "stdout",
     "output_type": "stream",
     "text": [
      "Dataloaders: (<torch.utils.data.dataloader.DataLoader object at 0x7c4a28e59050>, <torch.utils.data.dataloader.DataLoader object at 0x7c4a28f0a7d0>)\n",
      "Length of train dataloader: 1875 batches of 32\n",
      "Length of test dataloader: 313 batches of 32\n"
     ]
    }
   ],
   "source": [
    "from torch.utils.data import DataLoader\n",
    "\n",
    "# Setup the batch size hyperparameter\n",
    "BATCH_SIZE = 32\n",
    "\n",
    "# Turn datasets into iterables (batches)\n",
    "train_dataloader = DataLoader(train_data, # dataset to turn into iterable\n",
    "    batch_size=BATCH_SIZE, # how many samples per batch? \n",
    "    shuffle=True # shuffle data every epoch?\n",
    ")\n",
    "\n",
    "test_dataloader = DataLoader(test_data,\n",
    "    batch_size=BATCH_SIZE,\n",
    "    shuffle=False # don't necessarily have to shuffle the testing data\n",
    ")\n",
    "\n",
    "# Let's check out what we've created\n",
    "print(f\"Dataloaders: {train_dataloader, test_dataloader}\") \n",
    "print(f\"Length of train dataloader: {len(train_dataloader)} batches of {BATCH_SIZE}\")\n",
    "print(f\"Length of test dataloader: {len(test_dataloader)} batches of {BATCH_SIZE}\")"
   ]
  },
  {
   "cell_type": "code",
   "execution_count": 13,
   "id": "0d5bd230",
   "metadata": {
    "execution": {
     "iopub.execute_input": "2025-06-26T19:31:41.666729Z",
     "iopub.status.busy": "2025-06-26T19:31:41.666387Z",
     "iopub.status.idle": "2025-06-26T19:31:41.739490Z",
     "shell.execute_reply": "2025-06-26T19:31:41.738478Z"
    },
    "papermill": {
     "duration": 0.091652,
     "end_time": "2025-06-26T19:31:41.742116",
     "exception": false,
     "start_time": "2025-06-26T19:31:41.650464",
     "status": "completed"
    },
    "tags": []
   },
   "outputs": [
    {
     "name": "stdout",
     "output_type": "stream",
     "text": [
      "0 tensor([[[[0.0000, 0.0000, 0.0000,  ..., 0.0000, 0.0000, 0.0000],\n",
      "          [0.0000, 0.0000, 0.0000,  ..., 0.0000, 0.0000, 0.0000],\n",
      "          [0.0000, 0.0000, 0.0000,  ..., 0.0000, 0.0000, 0.0000],\n",
      "          ...,\n",
      "          [0.0000, 0.0000, 0.0000,  ..., 0.0000, 0.0000, 0.0000],\n",
      "          [0.0000, 0.0000, 0.0000,  ..., 0.0000, 0.0000, 0.0000],\n",
      "          [0.0000, 0.0000, 0.0000,  ..., 0.0000, 0.0000, 0.0000]]],\n",
      "\n",
      "\n",
      "        [[[0.0000, 0.0000, 0.0000,  ..., 0.0000, 0.0000, 0.0000],\n",
      "          [0.0000, 0.0000, 0.0000,  ..., 0.0000, 0.0000, 0.0000],\n",
      "          [0.0000, 0.0000, 0.0000,  ..., 0.0000, 0.0000, 0.0000],\n",
      "          ...,\n",
      "          [0.0000, 0.0000, 0.0000,  ..., 0.0000, 0.0000, 0.0000],\n",
      "          [0.0000, 0.0000, 0.0000,  ..., 0.0000, 0.0000, 0.0000],\n",
      "          [0.0000, 0.0000, 0.0000,  ..., 0.0000, 0.0000, 0.0000]]],\n",
      "\n",
      "\n",
      "        [[[0.0000, 0.0000, 0.0000,  ..., 0.0000, 0.0000, 0.0000],\n",
      "          [0.0000, 0.0000, 0.0000,  ..., 0.0000, 0.0000, 0.0000],\n",
      "          [0.0000, 0.0000, 0.0000,  ..., 0.0000, 0.0000, 0.0000],\n",
      "          ...,\n",
      "          [0.0000, 0.0000, 0.0000,  ..., 0.0000, 0.0000, 0.0000],\n",
      "          [0.0000, 0.0000, 0.0000,  ..., 0.0000, 0.0000, 0.0000],\n",
      "          [0.0000, 0.0000, 0.0000,  ..., 0.0000, 0.0000, 0.0000]]],\n",
      "\n",
      "\n",
      "        ...,\n",
      "\n",
      "\n",
      "        [[[0.0000, 0.0000, 0.0000,  ..., 0.0000, 0.0000, 0.0000],\n",
      "          [0.0000, 0.0000, 0.0000,  ..., 0.0000, 0.0000, 0.0000],\n",
      "          [0.0000, 0.0000, 0.0000,  ..., 0.0000, 0.0000, 0.0000],\n",
      "          ...,\n",
      "          [0.0000, 0.0000, 0.0000,  ..., 0.0000, 0.0000, 0.0000],\n",
      "          [0.0000, 0.0000, 0.0000,  ..., 0.0000, 0.0000, 0.0000],\n",
      "          [0.0000, 0.0000, 0.0000,  ..., 0.0000, 0.0000, 0.0000]]],\n",
      "\n",
      "\n",
      "        [[[0.0000, 0.0000, 0.0000,  ..., 0.0000, 0.0000, 0.0000],\n",
      "          [0.0000, 0.0000, 0.0000,  ..., 0.0000, 0.0000, 0.0000],\n",
      "          [0.0000, 0.0000, 0.0000,  ..., 0.3647, 0.0000, 0.0000],\n",
      "          ...,\n",
      "          [0.0000, 0.0000, 0.0000,  ..., 0.4588, 0.3059, 0.0000],\n",
      "          [0.0000, 0.0000, 0.0000,  ..., 0.0000, 0.0000, 0.0000],\n",
      "          [0.0000, 0.0000, 0.0000,  ..., 0.0000, 0.0000, 0.0000]]],\n",
      "\n",
      "\n",
      "        [[[0.0000, 0.0000, 0.0000,  ..., 0.0000, 0.0000, 0.0000],\n",
      "          [0.0000, 0.0000, 0.0000,  ..., 0.0000, 0.0000, 0.0000],\n",
      "          [0.0000, 0.0000, 0.0000,  ..., 0.0000, 0.0000, 0.0000],\n",
      "          ...,\n",
      "          [0.0000, 0.0000, 0.0000,  ..., 0.0000, 0.0000, 0.0000],\n",
      "          [0.0000, 0.0000, 0.0000,  ..., 0.0000, 0.0000, 0.0000],\n",
      "          [0.0000, 0.0000, 0.0000,  ..., 0.0000, 0.0000, 0.0000]]]]) tensor([5, 4, 8, 7, 4, 7, 7, 3, 7, 1, 1, 4, 9, 4, 8, 2, 6, 2, 8, 9, 7, 3, 4, 5,\n",
      "        7, 4, 8, 1, 6, 9, 9, 4])\n",
      "1 tensor([[[[0.0000, 0.0000, 0.0000,  ..., 0.0000, 0.0000, 0.0000],\n",
      "          [0.0000, 0.0000, 0.0000,  ..., 0.0000, 0.0000, 0.0000],\n",
      "          [0.0000, 0.0000, 0.0000,  ..., 0.0000, 0.0000, 0.0000],\n",
      "          ...,\n",
      "          [0.0000, 0.0000, 0.0000,  ..., 0.0000, 0.0000, 0.0000],\n",
      "          [0.0000, 0.0000, 0.0000,  ..., 0.0000, 0.0000, 0.0000],\n",
      "          [0.0000, 0.0000, 0.0000,  ..., 0.0000, 0.0000, 0.0000]]],\n",
      "\n",
      "\n",
      "        [[[0.0000, 0.0000, 0.0000,  ..., 0.0000, 0.0000, 0.0000],\n",
      "          [0.0000, 0.0000, 0.0000,  ..., 0.0000, 0.0000, 0.0000],\n",
      "          [0.0000, 0.0000, 0.0000,  ..., 0.0000, 0.0000, 0.0000],\n",
      "          ...,\n",
      "          [0.0000, 0.0000, 0.0000,  ..., 0.0000, 0.0000, 0.0000],\n",
      "          [0.0000, 0.0000, 0.0000,  ..., 0.0000, 0.0000, 0.0000],\n",
      "          [0.0000, 0.0000, 0.0000,  ..., 0.0000, 0.0000, 0.0000]]],\n",
      "\n",
      "\n",
      "        [[[0.0000, 0.0000, 0.0000,  ..., 0.0000, 0.0000, 0.0000],\n",
      "          [0.0000, 0.0000, 0.0000,  ..., 0.0000, 0.0000, 0.0000],\n",
      "          [0.0000, 0.0000, 0.0000,  ..., 0.0000, 0.0000, 0.0000],\n",
      "          ...,\n",
      "          [0.0000, 0.0000, 0.0000,  ..., 0.3569, 0.0000, 0.0000],\n",
      "          [0.0000, 0.0000, 0.0000,  ..., 0.3098, 0.0000, 0.0000],\n",
      "          [0.0000, 0.0000, 0.0000,  ..., 0.1137, 0.0000, 0.0000]]],\n",
      "\n",
      "\n",
      "        ...,\n",
      "\n",
      "\n",
      "        [[[0.0000, 0.0000, 0.0000,  ..., 0.0000, 0.0000, 0.0000],\n",
      "          [0.0000, 0.0000, 0.0000,  ..., 0.0000, 0.0000, 0.0000],\n",
      "          [0.0000, 0.0000, 0.0000,  ..., 0.0000, 0.0000, 0.0000],\n",
      "          ...,\n",
      "          [0.0000, 0.0000, 0.0000,  ..., 0.0000, 0.0000, 0.0000],\n",
      "          [0.0000, 0.0000, 0.0000,  ..., 0.0000, 0.0000, 0.0000],\n",
      "          [0.0000, 0.0000, 0.0000,  ..., 0.0000, 0.0000, 0.0000]]],\n",
      "\n",
      "\n",
      "        [[[0.0000, 0.0000, 0.0000,  ..., 0.0000, 0.0000, 0.0000],\n",
      "          [0.0000, 0.0000, 0.0000,  ..., 0.0000, 0.0000, 0.0000],\n",
      "          [0.0000, 0.0000, 0.0000,  ..., 0.0000, 0.0000, 0.0000],\n",
      "          ...,\n",
      "          [0.0000, 0.2000, 0.3098,  ..., 0.2000, 0.2510, 0.0000],\n",
      "          [0.0000, 0.0000, 0.0000,  ..., 0.0000, 0.0000, 0.0000],\n",
      "          [0.0000, 0.0000, 0.0000,  ..., 0.0000, 0.0000, 0.0000]]],\n",
      "\n",
      "\n",
      "        [[[0.0000, 0.0000, 0.0000,  ..., 0.0000, 0.0000, 0.0000],\n",
      "          [0.0000, 0.0000, 0.0000,  ..., 0.0000, 0.0000, 0.0000],\n",
      "          [0.0000, 0.0000, 0.0000,  ..., 0.0000, 0.0000, 0.0000],\n",
      "          ...,\n",
      "          [0.0000, 0.0000, 0.0000,  ..., 0.0000, 0.0000, 0.0000],\n",
      "          [0.0000, 0.0000, 0.0000,  ..., 0.0000, 0.0000, 0.0000],\n",
      "          [0.0000, 0.0000, 0.0000,  ..., 0.0000, 0.0000, 0.0000]]]]) tensor([0, 7, 2, 0, 0, 8, 1, 3, 9, 1, 2, 1, 5, 4, 3, 9, 2, 6, 9, 8, 9, 6, 5, 0,\n",
      "        3, 1, 7, 9, 7, 1, 8, 9])\n",
      "2 tensor([[[[0., 0., 0.,  ..., 0., 0., 0.],\n",
      "          [0., 0., 0.,  ..., 0., 0., 0.],\n",
      "          [0., 0., 0.,  ..., 0., 0., 0.],\n",
      "          ...,\n",
      "          [0., 0., 0.,  ..., 0., 0., 0.],\n",
      "          [0., 0., 0.,  ..., 0., 0., 0.],\n",
      "          [0., 0., 0.,  ..., 0., 0., 0.]]],\n",
      "\n",
      "\n",
      "        [[[0., 0., 0.,  ..., 0., 0., 0.],\n",
      "          [0., 0., 0.,  ..., 0., 0., 0.],\n",
      "          [0., 0., 0.,  ..., 0., 0., 0.],\n",
      "          ...,\n",
      "          [0., 0., 0.,  ..., 0., 0., 0.],\n",
      "          [0., 0., 0.,  ..., 0., 0., 0.],\n",
      "          [0., 0., 0.,  ..., 0., 0., 0.]]],\n",
      "\n",
      "\n",
      "        [[[0., 0., 0.,  ..., 0., 0., 0.],\n",
      "          [0., 0., 0.,  ..., 0., 0., 0.],\n",
      "          [0., 0., 0.,  ..., 0., 0., 0.],\n",
      "          ...,\n",
      "          [0., 0., 0.,  ..., 0., 0., 0.],\n",
      "          [0., 0., 0.,  ..., 0., 0., 0.],\n",
      "          [0., 0., 0.,  ..., 0., 0., 0.]]],\n",
      "\n",
      "\n",
      "        ...,\n",
      "\n",
      "\n",
      "        [[[0., 0., 0.,  ..., 0., 0., 0.],\n",
      "          [0., 0., 0.,  ..., 0., 0., 0.],\n",
      "          [0., 0., 0.,  ..., 0., 0., 0.],\n",
      "          ...,\n",
      "          [0., 0., 0.,  ..., 0., 0., 0.],\n",
      "          [0., 0., 0.,  ..., 0., 0., 0.],\n",
      "          [0., 0., 0.,  ..., 0., 0., 0.]]],\n",
      "\n",
      "\n",
      "        [[[0., 0., 0.,  ..., 0., 0., 0.],\n",
      "          [0., 0., 0.,  ..., 0., 0., 0.],\n",
      "          [0., 0., 0.,  ..., 0., 0., 0.],\n",
      "          ...,\n",
      "          [0., 0., 0.,  ..., 0., 0., 0.],\n",
      "          [0., 0., 0.,  ..., 0., 0., 0.],\n",
      "          [0., 0., 0.,  ..., 0., 0., 0.]]],\n",
      "\n",
      "\n",
      "        [[[0., 0., 0.,  ..., 0., 0., 0.],\n",
      "          [0., 0., 0.,  ..., 0., 0., 0.],\n",
      "          [0., 0., 0.,  ..., 0., 0., 0.],\n",
      "          ...,\n",
      "          [0., 0., 0.,  ..., 0., 0., 0.],\n",
      "          [0., 0., 0.,  ..., 0., 0., 0.],\n",
      "          [0., 0., 0.,  ..., 0., 0., 0.]]]]) tensor([1, 7, 3, 2, 5, 9, 2, 3, 2, 5, 0, 5, 9, 6, 1, 2, 2, 3, 0, 1, 9, 1, 4, 1,\n",
      "        0, 3, 1, 2, 0, 9, 8, 0])\n",
      "3 tensor([[[[0.0000, 0.0000, 0.0000,  ..., 0.0000, 0.0000, 0.0000],\n",
      "          [0.0000, 0.0000, 0.0000,  ..., 0.0000, 0.0000, 0.0000],\n",
      "          [0.0000, 0.0000, 0.0000,  ..., 0.0000, 0.0000, 0.0000],\n",
      "          ...,\n",
      "          [0.0000, 0.0000, 0.0000,  ..., 0.0000, 0.0000, 0.0000],\n",
      "          [0.0000, 0.0000, 0.0000,  ..., 0.0000, 0.0000, 0.0000],\n",
      "          [0.0000, 0.0000, 0.0000,  ..., 0.0000, 0.0000, 0.0000]]],\n",
      "\n",
      "\n",
      "        [[[0.0000, 0.0000, 0.0000,  ..., 0.0000, 0.0000, 0.0000],\n",
      "          [0.0000, 0.0000, 0.0000,  ..., 0.0000, 0.0000, 0.0000],\n",
      "          [0.0000, 0.0000, 0.0000,  ..., 0.0000, 0.0000, 0.0000],\n",
      "          ...,\n",
      "          [0.0000, 0.0000, 0.0000,  ..., 0.0000, 0.0000, 0.0000],\n",
      "          [0.0000, 0.0000, 0.0000,  ..., 0.0000, 0.0000, 0.0000],\n",
      "          [0.0000, 0.0000, 0.0000,  ..., 0.0000, 0.0000, 0.0000]]],\n",
      "\n",
      "\n",
      "        [[[0.0000, 0.0000, 0.0000,  ..., 0.0039, 0.0000, 0.0000],\n",
      "          [0.0000, 0.0000, 0.0000,  ..., 0.0039, 0.0000, 0.0000],\n",
      "          [0.0000, 0.0000, 0.0078,  ..., 0.0000, 0.0078, 0.0000],\n",
      "          ...,\n",
      "          [0.0000, 0.0000, 0.1216,  ..., 0.8471, 0.0706, 0.0000],\n",
      "          [0.0000, 0.0000, 0.0000,  ..., 1.0000, 0.0000, 0.0000],\n",
      "          [0.0000, 0.0000, 0.0000,  ..., 0.2745, 0.0000, 0.0000]]],\n",
      "\n",
      "\n",
      "        ...,\n",
      "\n",
      "\n",
      "        [[[0.0000, 0.0000, 0.0000,  ..., 0.0000, 0.0000, 0.0000],\n",
      "          [0.0000, 0.0000, 0.0000,  ..., 0.0000, 0.0000, 0.0000],\n",
      "          [0.0000, 0.0000, 0.0000,  ..., 0.0000, 0.0000, 0.0000],\n",
      "          ...,\n",
      "          [0.0000, 0.0000, 0.0000,  ..., 0.0000, 0.0000, 0.0000],\n",
      "          [0.0000, 0.0000, 0.0000,  ..., 0.0000, 0.0000, 0.0000],\n",
      "          [0.0000, 0.0000, 0.0000,  ..., 0.0000, 0.0000, 0.0000]]],\n",
      "\n",
      "\n",
      "        [[[0.0000, 0.0000, 0.0000,  ..., 0.0000, 0.0000, 0.0000],\n",
      "          [0.0000, 0.0000, 0.0000,  ..., 0.0000, 0.0000, 0.0000],\n",
      "          [0.0000, 0.0000, 0.0000,  ..., 0.0000, 0.0000, 0.0000],\n",
      "          ...,\n",
      "          [0.0000, 0.0000, 0.0000,  ..., 0.0000, 0.0000, 0.0000],\n",
      "          [0.0000, 0.0000, 0.0000,  ..., 0.0000, 0.0000, 0.0000],\n",
      "          [0.0000, 0.0000, 0.0000,  ..., 0.0000, 0.0000, 0.0000]]],\n",
      "\n",
      "\n",
      "        [[[0.0000, 0.0000, 0.0000,  ..., 0.0000, 0.0000, 0.0000],\n",
      "          [0.0000, 0.0000, 0.0000,  ..., 0.0000, 0.0000, 0.0000],\n",
      "          [0.0000, 0.0000, 0.0000,  ..., 0.0000, 0.0000, 0.0000],\n",
      "          ...,\n",
      "          [0.0000, 0.0000, 0.0000,  ..., 0.0000, 0.0000, 0.0000],\n",
      "          [0.0000, 0.0000, 0.0000,  ..., 0.0000, 0.0000, 0.0000],\n",
      "          [0.0000, 0.0000, 0.0000,  ..., 0.0000, 0.0000, 0.0000]]]]) tensor([9, 4, 2, 3, 3, 1, 5, 5, 5, 3, 1, 2, 0, 2, 9, 0, 7, 0, 6, 4, 2, 2, 1, 8,\n",
      "        6, 0, 1, 9, 2, 6, 7, 6])\n",
      "4 tensor([[[[0., 0., 0.,  ..., 0., 0., 0.],\n",
      "          [0., 0., 0.,  ..., 0., 0., 0.],\n",
      "          [0., 0., 0.,  ..., 0., 0., 0.],\n",
      "          ...,\n",
      "          [0., 0., 0.,  ..., 0., 0., 0.],\n",
      "          [0., 0., 0.,  ..., 0., 0., 0.],\n",
      "          [0., 0., 0.,  ..., 0., 0., 0.]]],\n",
      "\n",
      "\n",
      "        [[[0., 0., 0.,  ..., 0., 0., 0.],\n",
      "          [0., 0., 0.,  ..., 0., 0., 0.],\n",
      "          [0., 0., 0.,  ..., 0., 0., 0.],\n",
      "          ...,\n",
      "          [0., 0., 0.,  ..., 0., 0., 0.],\n",
      "          [0., 0., 0.,  ..., 0., 0., 0.],\n",
      "          [0., 0., 0.,  ..., 0., 0., 0.]]],\n",
      "\n",
      "\n",
      "        [[[0., 0., 0.,  ..., 0., 0., 0.],\n",
      "          [0., 0., 0.,  ..., 0., 0., 0.],\n",
      "          [0., 0., 0.,  ..., 0., 0., 0.],\n",
      "          ...,\n",
      "          [0., 0., 0.,  ..., 0., 0., 0.],\n",
      "          [0., 0., 0.,  ..., 0., 0., 0.],\n",
      "          [0., 0., 0.,  ..., 0., 0., 0.]]],\n",
      "\n",
      "\n",
      "        ...,\n",
      "\n",
      "\n",
      "        [[[0., 0., 0.,  ..., 0., 0., 0.],\n",
      "          [0., 0., 0.,  ..., 0., 0., 0.],\n",
      "          [0., 0., 0.,  ..., 0., 0., 0.],\n",
      "          ...,\n",
      "          [0., 0., 0.,  ..., 0., 0., 0.],\n",
      "          [0., 0., 0.,  ..., 0., 0., 0.],\n",
      "          [0., 0., 0.,  ..., 0., 0., 0.]]],\n",
      "\n",
      "\n",
      "        [[[0., 0., 0.,  ..., 0., 0., 0.],\n",
      "          [0., 0., 0.,  ..., 0., 0., 0.],\n",
      "          [0., 0., 0.,  ..., 0., 0., 0.],\n",
      "          ...,\n",
      "          [0., 0., 0.,  ..., 0., 0., 0.],\n",
      "          [0., 0., 0.,  ..., 0., 0., 0.],\n",
      "          [0., 0., 0.,  ..., 0., 0., 0.]]],\n",
      "\n",
      "\n",
      "        [[[0., 0., 0.,  ..., 0., 0., 0.],\n",
      "          [0., 0., 0.,  ..., 0., 0., 0.],\n",
      "          [0., 0., 0.,  ..., 0., 0., 0.],\n",
      "          ...,\n",
      "          [0., 0., 0.,  ..., 0., 0., 0.],\n",
      "          [0., 0., 0.,  ..., 0., 0., 0.],\n",
      "          [0., 0., 0.,  ..., 0., 0., 0.]]]]) tensor([3, 5, 7, 7, 0, 0, 5, 8, 6, 9, 9, 5, 8, 0, 8, 3, 3, 5, 6, 8, 3, 5, 4, 2,\n",
      "        5, 0, 4, 8, 8, 4, 2, 5])\n",
      "5 tensor([[[[0.0000, 0.0000, 0.0000,  ..., 0.0000, 0.0000, 0.0000],\n",
      "          [0.0000, 0.0000, 0.0000,  ..., 0.0000, 0.0000, 0.0000],\n",
      "          [0.0000, 0.0000, 0.0000,  ..., 0.0000, 0.0000, 0.0000],\n",
      "          ...,\n",
      "          [0.0000, 0.0000, 0.0000,  ..., 0.0000, 0.0000, 0.0000],\n",
      "          [0.0000, 0.0000, 0.0000,  ..., 0.0000, 0.0000, 0.0000],\n",
      "          [0.0000, 0.0000, 0.0000,  ..., 0.0000, 0.0000, 0.0000]]],\n",
      "\n",
      "\n",
      "        [[[0.0000, 0.0000, 0.0000,  ..., 0.0000, 0.0000, 0.0000],\n",
      "          [0.0000, 0.0000, 0.0000,  ..., 0.0000, 0.0000, 0.0000],\n",
      "          [0.0000, 0.0000, 0.0000,  ..., 0.0000, 0.0000, 0.0000],\n",
      "          ...,\n",
      "          [0.0000, 0.0000, 0.0000,  ..., 0.0000, 0.0000, 0.0000],\n",
      "          [0.0000, 0.0000, 0.0000,  ..., 0.0000, 0.0000, 0.0000],\n",
      "          [0.0000, 0.0000, 0.0000,  ..., 0.0000, 0.0000, 0.0000]]],\n",
      "\n",
      "\n",
      "        [[[0.0000, 0.0000, 0.0000,  ..., 0.0000, 0.0000, 0.0000],\n",
      "          [0.0000, 0.0000, 0.0000,  ..., 0.0000, 0.0000, 0.0000],\n",
      "          [0.0000, 0.0000, 0.0000,  ..., 0.0000, 0.0000, 0.0000],\n",
      "          ...,\n",
      "          [0.0000, 0.0000, 0.0000,  ..., 0.0000, 0.0000, 0.0000],\n",
      "          [0.0000, 0.0000, 0.0000,  ..., 0.0000, 0.0000, 0.0000],\n",
      "          [0.0000, 0.0000, 0.0000,  ..., 0.0000, 0.0000, 0.0000]]],\n",
      "\n",
      "\n",
      "        ...,\n",
      "\n",
      "\n",
      "        [[[0.0000, 0.0000, 0.0000,  ..., 0.0000, 0.0000, 0.0000],\n",
      "          [0.0000, 0.0000, 0.0000,  ..., 0.0000, 0.0000, 0.0000],\n",
      "          [0.0000, 0.0000, 0.0000,  ..., 0.0039, 0.0000, 0.0000],\n",
      "          ...,\n",
      "          [0.0000, 0.0000, 0.0000,  ..., 0.0000, 0.0000, 0.0000],\n",
      "          [0.0000, 0.0000, 0.0000,  ..., 0.0039, 0.0000, 0.0000],\n",
      "          [0.0000, 0.0000, 0.0000,  ..., 0.0000, 0.0000, 0.0000]]],\n",
      "\n",
      "\n",
      "        [[[0.0000, 0.0000, 0.0000,  ..., 0.0000, 0.0000, 0.0000],\n",
      "          [0.0000, 0.0000, 0.0000,  ..., 0.0000, 0.0000, 0.0000],\n",
      "          [0.0000, 0.0000, 0.0000,  ..., 0.0000, 0.0000, 0.0000],\n",
      "          ...,\n",
      "          [0.0000, 0.0000, 0.0000,  ..., 0.0000, 0.0000, 0.0000],\n",
      "          [0.0000, 0.0000, 0.0000,  ..., 0.0000, 0.0000, 0.0000],\n",
      "          [0.0000, 0.0000, 0.0000,  ..., 0.0000, 0.0000, 0.0000]]],\n",
      "\n",
      "\n",
      "        [[[0.0000, 0.0000, 0.0000,  ..., 0.0000, 0.0039, 0.0000],\n",
      "          [0.0000, 0.0000, 0.0000,  ..., 0.0000, 0.0235, 0.0000],\n",
      "          [0.0000, 0.0000, 0.0000,  ..., 0.0000, 0.0235, 0.0000],\n",
      "          ...,\n",
      "          [0.0000, 0.3765, 0.8824,  ..., 0.7765, 0.5922, 0.0000],\n",
      "          [0.0000, 0.0000, 0.0667,  ..., 0.8824, 0.7451, 0.0000],\n",
      "          [0.0000, 0.0000, 0.0000,  ..., 0.3647, 0.2196, 0.0000]]]]) tensor([4, 8, 5, 9, 8, 0, 2, 2, 9, 1, 2, 9, 1, 9, 2, 6, 9, 5, 9, 3, 3, 7, 9, 0,\n",
      "        2, 5, 4, 2, 2, 0, 7, 9])\n"
     ]
    }
   ],
   "source": [
    "\n",
    "\n",
    "# Check out what's inside the training dataloader\n",
    "train_features_batch, train_labels_batch = next(iter(train_dataloader))\n",
    "train_features_batch.shape, train_labels_batch.shape\n",
    "\n",
    "len(train_features_batch)\n",
    "len(train_labels_batch)\n",
    "dir(train_features_batch)\n",
    "\n",
    "len(train_dataloader)\n",
    "\n",
    "for batch, (X, y) in enumerate(train_dataloader):\n",
    "    \n",
    "    print(batch, X, y)\n",
    "    if batch==5:\n",
    "        break"
   ]
  },
  {
   "cell_type": "code",
   "execution_count": 14,
   "id": "5a2cf793",
   "metadata": {
    "execution": {
     "iopub.execute_input": "2025-06-26T19:31:41.771895Z",
     "iopub.status.busy": "2025-06-26T19:31:41.771561Z",
     "iopub.status.idle": "2025-06-26T19:31:41.890118Z",
     "shell.execute_reply": "2025-06-26T19:31:41.889104Z"
    },
    "papermill": {
     "duration": 0.136246,
     "end_time": "2025-06-26T19:31:41.891669",
     "exception": false,
     "start_time": "2025-06-26T19:31:41.755423",
     "status": "completed"
    },
    "tags": []
   },
   "outputs": [
    {
     "name": "stdout",
     "output_type": "stream",
     "text": [
      "Image size: torch.Size([1, 28, 28])\n",
      "Label: 6, label size: torch.Size([])\n"
     ]
    },
    {
     "data": {
      "image/png": "[encoded data removed]",
      "text/plain": [
       "<Figure size 640x480 with 1 Axes>"
      ]
     },
     "metadata": {},
     "output_type": "display_data"
    }
   ],
   "source": [
    "# Show a sample\n",
    "torch.manual_seed(42)\n",
    "random_idx = torch.randint(0, len(train_features_batch), size=[1]).item()\n",
    "img, label = train_features_batch[random_idx], train_labels_batch[random_idx]\n",
    "plt.imshow(img.squeeze(), cmap=\"gray\")\n",
    "plt.title(class_name[label])\n",
    "plt.axis(\"Off\");\n",
    "print(f\"Image size: {img.shape}\")\n",
    "print(f\"Label: {label}, label size: {label.shape}\")"
   ]
  },
  {
   "cell_type": "markdown",
   "id": "e28f864e",
   "metadata": {
    "papermill": {
     "duration": 0.013991,
     "end_time": "2025-06-26T19:31:41.919498",
     "exception": false,
     "start_time": "2025-06-26T19:31:41.905507",
     "status": "completed"
    },
    "tags": []
   },
   "source": [
    "Create a Baseline model just 2 layer"
   ]
  },
  {
   "cell_type": "code",
   "execution_count": 15,
   "id": "384f1caf",
   "metadata": {
    "execution": {
     "iopub.execute_input": "2025-06-26T19:31:42.015654Z",
     "iopub.status.busy": "2025-06-26T19:31:42.015337Z",
     "iopub.status.idle": "2025-06-26T19:31:42.022137Z",
     "shell.execute_reply": "2025-06-26T19:31:42.021132Z"
    },
    "papermill": {
     "duration": 0.090147,
     "end_time": "2025-06-26T19:31:42.023675",
     "exception": false,
     "start_time": "2025-06-26T19:31:41.933528",
     "status": "completed"
    },
    "tags": []
   },
   "outputs": [
    {
     "name": "stdout",
     "output_type": "stream",
     "text": [
      "Shape before flattening: torch.Size([1, 28, 28]) -> [color_channels, height, width]\n",
      "Shape after flattening: torch.Size([1, 784]) -> [color_channels, height*width]\n"
     ]
    }
   ],
   "source": [
    "flatten_model=nn.Flatten()\n",
    "\n",
    "x=train_features_batch[0]\n",
    "\n",
    "output=flatten_model(x)\n",
    "\n",
    "x.shape, output.shape\n",
    "\n",
    "print(f\"Shape before flattening: {x.shape} -> [color_channels, height, width]\")\n",
    "print(f\"Shape after flattening: {output.shape} -> [color_channels, height*width]\")\n"
   ]
  },
  {
   "cell_type": "code",
   "execution_count": 16,
   "id": "6d509225",
   "metadata": {
    "execution": {
     "iopub.execute_input": "2025-06-26T19:31:42.052685Z",
     "iopub.status.busy": "2025-06-26T19:31:42.052372Z",
     "iopub.status.idle": "2025-06-26T19:31:42.058721Z",
     "shell.execute_reply": "2025-06-26T19:31:42.057355Z"
    },
    "papermill": {
     "duration": 0.023639,
     "end_time": "2025-06-26T19:31:42.061060",
     "exception": false,
     "start_time": "2025-06-26T19:31:42.037421",
     "status": "completed"
    },
    "tags": []
   },
   "outputs": [],
   "source": [
    "from torch import nn\n",
    "\n",
    "class FashionV0(nn.Module):\n",
    "    def __init__(self, input_shape: int, hidden_units: int, output_shape: int):\n",
    "        super().__init__()\n",
    "        self.layer_stack = nn.Sequential(\n",
    "            nn.Flatten(), # neural networks like their inputs in vector form\n",
    "            nn.Linear(in_features=input_shape, out_features=hidden_units), # in_features = number of features in a data sample (784 pixels)\n",
    "            nn.Linear(in_features=hidden_units, out_features=output_shape)\n",
    "        )\n",
    "    \n",
    "    def forward(self, x):\n",
    "        return self.layer_stack(x)"
   ]
  },
  {
   "cell_type": "code",
   "execution_count": 17,
   "id": "d3ffb882",
   "metadata": {
    "execution": {
     "iopub.execute_input": "2025-06-26T19:31:42.091827Z",
     "iopub.status.busy": "2025-06-26T19:31:42.091353Z",
     "iopub.status.idle": "2025-06-26T19:31:42.101947Z",
     "shell.execute_reply": "2025-06-26T19:31:42.100937Z"
    },
    "papermill": {
     "duration": 0.028819,
     "end_time": "2025-06-26T19:31:42.103940",
     "exception": false,
     "start_time": "2025-06-26T19:31:42.075121",
     "status": "completed"
    },
    "tags": []
   },
   "outputs": [
    {
     "data": {
      "text/plain": [
       "FashionV0(\n",
       "  (layer_stack): Sequential(\n",
       "    (0): Flatten(start_dim=1, end_dim=-1)\n",
       "    (1): Linear(in_features=784, out_features=10, bias=True)\n",
       "    (2): Linear(in_features=10, out_features=10, bias=True)\n",
       "  )\n",
       ")"
      ]
     },
     "execution_count": 17,
     "metadata": {},
     "output_type": "execute_result"
    }
   ],
   "source": [
    "torch.manual_seed(42)\n",
    "model_0 = FashionV0(input_shape=784, # one for every pixel (28x28)\n",
    "    hidden_units=10, # how many units in the hidden layer\n",
    "    output_shape=len(class_name) # one for every class\n",
    ")\n",
    "model_0.to(\"cpu\")\n"
   ]
  },
  {
   "cell_type": "markdown",
   "id": "1e3f78c6",
   "metadata": {
    "papermill": {
     "duration": 0.014423,
     "end_time": "2025-06-26T19:31:42.135433",
     "exception": false,
     "start_time": "2025-06-26T19:31:42.121010",
     "status": "completed"
    },
    "tags": []
   },
   "source": [
    "SetUp Loss function"
   ]
  },
  {
   "cell_type": "markdown",
   "id": "4aaafc2f",
   "metadata": {
    "papermill": {
     "duration": 0.014176,
     "end_time": "2025-06-26T19:31:42.165330",
     "exception": false,
     "start_time": "2025-06-26T19:31:42.151154",
     "status": "completed"
    },
    "tags": []
   },
   "source": [
    "Add a helper function"
   ]
  },
  {
   "cell_type": "code",
   "execution_count": 18,
   "id": "a539532e",
   "metadata": {
    "execution": {
     "iopub.execute_input": "2025-06-26T19:31:42.195121Z",
     "iopub.status.busy": "2025-06-26T19:31:42.194831Z",
     "iopub.status.idle": "2025-06-26T19:31:42.751400Z",
     "shell.execute_reply": "2025-06-26T19:31:42.750322Z"
    },
    "papermill": {
     "duration": 0.573742,
     "end_time": "2025-06-26T19:31:42.753678",
     "exception": false,
     "start_time": "2025-06-26T19:31:42.179936",
     "status": "completed"
    },
    "tags": []
   },
   "outputs": [
    {
     "name": "stdout",
     "output_type": "stream",
     "text": [
      "Downloading helper_functions.py\n"
     ]
    }
   ],
   "source": [
    "import requests\n",
    "from pathlib import Path \n",
    "\n",
    "# Download helper functions from Learn PyTorch repo (if not already downloaded)\n",
    "if Path(\"helper_functions.py\").is_file():\n",
    "  print(\"helper_functions.py already exists, skipping download\")\n",
    "else:\n",
    "  print(\"Downloading helper_functions.py\")\n",
    "  # Note: you need the \"raw\" GitHub URL for this to work\n",
    "  request = requests.get(\"https://raw.githubusercontent.com/mrdbourke/pytorch-deep-learning/main/helper_functions.py\")\n",
    "  with open(\"helper_functions.py\", \"wb\") as f:\n",
    "    f.write(request.content)"
   ]
  },
  {
   "cell_type": "code",
   "execution_count": 19,
   "id": "ee1ff515",
   "metadata": {
    "execution": {
     "iopub.execute_input": "2025-06-26T19:31:42.784956Z",
     "iopub.status.busy": "2025-06-26T19:31:42.784607Z",
     "iopub.status.idle": "2025-06-26T19:31:42.797035Z",
     "shell.execute_reply": "2025-06-26T19:31:42.795801Z"
    },
    "papermill": {
     "duration": 0.030265,
     "end_time": "2025-06-26T19:31:42.799114",
     "exception": false,
     "start_time": "2025-06-26T19:31:42.768849",
     "status": "completed"
    },
    "tags": []
   },
   "outputs": [],
   "source": [
    "# Import accuracy metric\n",
    "from helper_functions import accuracy_fn # Note: could also use torchmetrics.Accuracy(task = 'multiclass', num_classes=len(class_names)).to(device)\n",
    "\n",
    "# Setup loss function and optimizer\n",
    "loss_fn = nn.CrossEntropyLoss() # this is also called \"criterion\"/\"cost function\" in some places\n",
    "optimizer = torch.optim.SGD(params=model_0.parameters(), lr=0.1)"
   ]
  },
  {
   "cell_type": "code",
   "execution_count": 20,
   "id": "52015747",
   "metadata": {
    "execution": {
     "iopub.execute_input": "2025-06-26T19:31:42.830699Z",
     "iopub.status.busy": "2025-06-26T19:31:42.830317Z",
     "iopub.status.idle": "2025-06-26T19:31:42.836577Z",
     "shell.execute_reply": "2025-06-26T19:31:42.835353Z"
    },
    "papermill": {
     "duration": 0.024592,
     "end_time": "2025-06-26T19:31:42.838485",
     "exception": false,
     "start_time": "2025-06-26T19:31:42.813893",
     "status": "completed"
    },
    "tags": []
   },
   "outputs": [],
   "source": [
    "from timeit import default_timer as timer \n",
    "def print_train_time(start: float, end: float, device: torch.device = None):\n",
    "    \"\"\"Prints difference between start and end time.\n",
    "\n",
    "    Args:\n",
    "        start (float): Start time of computation (preferred in timeit format). \n",
    "        end (float): End time of computation.\n",
    "        device ([type], optional): Device that compute is running on. Defaults to None.\n",
    "\n",
    "    Returns:\n",
    "        float: time between start and end in seconds (higher is longer).\n",
    "    \"\"\"\n",
    "    total_time = end - start\n",
    "    print(f\"Train time on {device}: {total_time:.3f} seconds\")\n",
    "    return total_time"
   ]
  },
  {
   "cell_type": "code",
   "execution_count": 21,
   "id": "a3114fe9",
   "metadata": {
    "execution": {
     "iopub.execute_input": "2025-06-26T19:31:42.870289Z",
     "iopub.status.busy": "2025-06-26T19:31:42.869897Z",
     "iopub.status.idle": "2025-06-26T19:32:13.403147Z",
     "shell.execute_reply": "2025-06-26T19:32:13.402268Z"
    },
    "papermill": {
     "duration": 30.565002,
     "end_time": "2025-06-26T19:32:13.418982",
     "exception": false,
     "start_time": "2025-06-26T19:31:42.853980",
     "status": "completed"
    },
    "tags": []
   },
   "outputs": [
    {
     "data": {
      "application/vnd.jupyter.widget-view+json": {
       "model_id": "a18df3e56bd84672a3dfe73f856b575d",
       "version_major": 2,
       "version_minor": 0
      },
      "text/plain": [
       "  0%|          | 0/3 [00:00<?, ?it/s]"
      ]
     },
     "metadata": {},
     "output_type": "display_data"
    },
    {
     "name": "stdout",
     "output_type": "stream",
     "text": [
      "Epoch: 0\n",
      "-------\n",
      "Looked at 0/60000 samples\n",
      "Looked at 12800/60000 samples\n",
      "Looked at 25600/60000 samples\n",
      "Looked at 38400/60000 samples\n",
      "Looked at 51200/60000 samples\n",
      "\n",
      "Train loss: 0.59039 | Test loss: 0.50954, Test acc: 82.04%\n",
      "\n",
      "Epoch: 1\n",
      "-------\n",
      "Looked at 0/60000 samples\n",
      "Looked at 12800/60000 samples\n",
      "Looked at 25600/60000 samples\n",
      "Looked at 38400/60000 samples\n",
      "Looked at 51200/60000 samples\n",
      "\n",
      "Train loss: 0.47633 | Test loss: 0.47989, Test acc: 83.20%\n",
      "\n",
      "Epoch: 2\n",
      "-------\n",
      "Looked at 0/60000 samples\n",
      "Looked at 12800/60000 samples\n",
      "Looked at 25600/60000 samples\n",
      "Looked at 38400/60000 samples\n",
      "Looked at 51200/60000 samples\n",
      "\n",
      "Train loss: 0.45503 | Test loss: 0.47664, Test acc: 83.43%\n",
      "\n",
      "Train time on cpu: 30.073 seconds\n"
     ]
    }
   ],
   "source": [
    "# Import tqdm for progress bar\n",
    "from tqdm.auto import tqdm\n",
    "\n",
    "# Set the seed and start the timer\n",
    "torch.manual_seed(42)\n",
    "train_time_start_on_cpu = timer()\n",
    "\n",
    "# Set the number of epochs (we'll keep this small for faster training times)\n",
    "epochs = 3\n",
    "\n",
    "# Create training and testing loop\n",
    "for epoch in tqdm(range(epochs)):\n",
    "    print(f\"Epoch: {epoch}\\n-------\")\n",
    "    ### Training\n",
    "    train_loss = 0\n",
    "    # Add a loop to loop through training batches\n",
    "    for batch, (X, y) in enumerate(train_dataloader):\n",
    "        model_0.train() \n",
    "        # 1. Forward pass\n",
    "        y_pred = model_0(X)\n",
    "\n",
    "        # 2. Calculate loss (per batch)\n",
    "        loss = loss_fn(y_pred, y)\n",
    "        train_loss += loss # accumulatively add up the loss per epoch \n",
    "\n",
    "        # 3. Optimizer zero grad\n",
    "        optimizer.zero_grad()\n",
    "\n",
    "        # 4. Loss backward\n",
    "        loss.backward()\n",
    "\n",
    "        # 5. Optimizer step\n",
    "        optimizer.step()\n",
    "\n",
    "        # Print out how many samples have been seen\n",
    "        if batch % 400 == 0:\n",
    "            print(f\"Looked at {batch * len(X)}/{len(train_dataloader.dataset)} samples\")\n",
    "\n",
    "    # Divide total train loss by length of train dataloader (average loss per batch per epoch)\n",
    "    train_loss /= len(train_dataloader)\n",
    "    \n",
    "    ### Testing\n",
    "    # Setup variables for accumulatively adding up loss and accuracy \n",
    "    test_loss, test_acc = 0, 0 \n",
    "    model_0.eval()\n",
    "    with torch.inference_mode():\n",
    "        for X, y in test_dataloader:\n",
    "            # 1. Forward pass\n",
    "            test_pred = model_0(X)\n",
    "           \n",
    "            # 2. Calculate loss (accumulatively)\n",
    "            test_loss += loss_fn(test_pred, y) # accumulatively add up the loss per epoch\n",
    "\n",
    "            # 3. Calculate accuracy (preds need to be same as y_true)\n",
    "            test_acc += accuracy_fn(y_true=y, y_pred=test_pred.argmax(dim=1))\n",
    "        \n",
    "        # Calculations on test metrics need to happen inside torch.inference_mode()\n",
    "        # Divide total test loss by length of test dataloader (per batch)\n",
    "        test_loss /= len(test_dataloader)\n",
    "\n",
    "        # Divide total accuracy by length of test dataloader (per batch)\n",
    "        test_acc /= len(test_dataloader)\n",
    "\n",
    "    ## Print out what's happening\n",
    "    print(f\"\\nTrain loss: {train_loss:.5f} | Test loss: {test_loss:.5f}, Test acc: {test_acc:.2f}%\\n\")\n",
    "\n",
    "# Calculate training time      \n",
    "train_time_end_on_cpu = timer()\n",
    "total_train_time_model_0 = print_train_time(start=train_time_start_on_cpu, \n",
    "                                           end=train_time_end_on_cpu,\n",
    "                                           device=str(next(model_0.parameters()).device))"
   ]
  },
  {
   "cell_type": "code",
   "execution_count": 22,
   "id": "6a686d2f",
   "metadata": {
    "execution": {
     "iopub.execute_input": "2025-06-26T19:32:13.448807Z",
     "iopub.status.busy": "2025-06-26T19:32:13.448442Z",
     "iopub.status.idle": "2025-06-26T19:32:14.565202Z",
     "shell.execute_reply": "2025-06-26T19:32:14.564316Z"
    },
    "papermill": {
     "duration": 1.133746,
     "end_time": "2025-06-26T19:32:14.566883",
     "exception": false,
     "start_time": "2025-06-26T19:32:13.433137",
     "status": "completed"
    },
    "tags": []
   },
   "outputs": [
    {
     "data": {
      "text/plain": [
       "{'model_name': 'FashionV0',\n",
       " 'model_loss': 0.4766390025615692,\n",
       " 'model_acc': 83.42651757188499}"
      ]
     },
     "execution_count": 22,
     "metadata": {},
     "output_type": "execute_result"
    }
   ],
   "source": [
    "torch.manual_seed(42)\n",
    "def eval_model(model: torch.nn.Module, \n",
    "               data_loader: torch.utils.data.DataLoader, \n",
    "               loss_fn: torch.nn.Module, \n",
    "               accuracy_fn):\n",
    "    \"\"\"Returns a dictionary containing the results of model predicting on data_loader.\n",
    "\n",
    "    Args:\n",
    "        model (torch.nn.Module): A PyTorch model capable of making predictions on data_loader.\n",
    "        data_loader (torch.utils.data.DataLoader): The target dataset to predict on.\n",
    "        loss_fn (torch.nn.Module): The loss function of model.\n",
    "        accuracy_fn: An accuracy function to compare the models predictions to the truth labels.\n",
    "\n",
    "    Returns:\n",
    "        (dict): Results of model making predictions on data_loader.\n",
    "    \"\"\"\n",
    "    loss, acc = 0, 0\n",
    "    model.eval()\n",
    "    with torch.inference_mode():\n",
    "        for X, y in data_loader:\n",
    "            # Make predictions with the model\n",
    "            y_pred = model(X)\n",
    "            \n",
    "            # Accumulate the loss and accuracy values per batch\n",
    "            loss += loss_fn(y_pred, y)\n",
    "            acc += accuracy_fn(y_true=y, \n",
    "                                y_pred=y_pred.argmax(dim=1)) # For accuracy, need the prediction labels (logits -> pred_prob -> pred_labels)\n",
    "        \n",
    "        # Scale loss and acc to find the average loss/acc per batch\n",
    "        loss /= len(data_loader)\n",
    "        acc /= len(data_loader)\n",
    "        \n",
    "    return {\"model_name\": model.__class__.__name__, # only works when model was created with a class\n",
    "            \"model_loss\": loss.item(),\n",
    "            \"model_acc\": acc}\n",
    "\n",
    "# Calculate model 0 results on test dataset\n",
    "model_0_results = eval_model(model=model_0, data_loader=test_dataloader,\n",
    "    loss_fn=loss_fn, accuracy_fn=accuracy_fn\n",
    ")\n",
    "model_0_results"
   ]
  },
  {
   "cell_type": "code",
   "execution_count": 23,
   "id": "b74b82d1",
   "metadata": {
    "execution": {
     "iopub.execute_input": "2025-06-26T19:32:14.599212Z",
     "iopub.status.busy": "2025-06-26T19:32:14.598916Z",
     "iopub.status.idle": "2025-06-26T19:32:44.294318Z",
     "shell.execute_reply": "2025-06-26T19:32:44.293149Z"
    },
    "papermill": {
     "duration": 29.713178,
     "end_time": "2025-06-26T19:32:44.296278",
     "exception": false,
     "start_time": "2025-06-26T19:32:14.583100",
     "status": "completed"
    },
    "tags": []
   },
   "outputs": [
    {
     "name": "stdout",
     "output_type": "stream",
     "text": [
      "Epochs number 0--- \n"
     ]
    },
    {
     "data": {
      "application/vnd.jupyter.widget-view+json": {
       "model_id": "445c85f737974ac19fc2d53e74693c2a",
       "version_major": 2,
       "version_minor": 0
      },
      "text/plain": [
       "0it [00:00, ?it/s]"
      ]
     },
     "metadata": {},
     "output_type": "display_data"
    },
    {
     "name": "stdout",
     "output_type": "stream",
     "text": [
      " Batch number out of 0/60000\n",
      " Batch number out of 400/60000\n",
      " Batch number out of 800/60000\n",
      " Batch number out of 1200/60000\n",
      " Batch number out of 1600/60000\n",
      "tensor(0.4429, grad_fn=<DivBackward0>)\n",
      "\n",
      "Train loss: 0.44286 | Test loss: 0.50540, Test acc: 82.36%\n",
      "\n",
      "Epochs number 1--- \n"
     ]
    },
    {
     "data": {
      "application/vnd.jupyter.widget-view+json": {
       "model_id": "642d776986ef4659aa2771b1b5b9806b",
       "version_major": 2,
       "version_minor": 0
      },
      "text/plain": [
       "0it [00:00, ?it/s]"
      ]
     },
     "metadata": {},
     "output_type": "display_data"
    },
    {
     "name": "stdout",
     "output_type": "stream",
     "text": [
      " Batch number out of 0/60000\n",
      " Batch number out of 400/60000\n",
      " Batch number out of 800/60000\n",
      " Batch number out of 1200/60000\n",
      " Batch number out of 1600/60000\n",
      "tensor(0.4343, grad_fn=<DivBackward0>)\n",
      "\n",
      "Train loss: 0.43426 | Test loss: 0.49740, Test acc: 82.91%\n",
      "\n",
      "Epochs number 2--- \n"
     ]
    },
    {
     "data": {
      "application/vnd.jupyter.widget-view+json": {
       "model_id": "28f03ed64ed546fa9fd7d8e403ae1fc2",
       "version_major": 2,
       "version_minor": 0
      },
      "text/plain": [
       "0it [00:00, ?it/s]"
      ]
     },
     "metadata": {},
     "output_type": "display_data"
    },
    {
     "name": "stdout",
     "output_type": "stream",
     "text": [
      " Batch number out of 0/60000\n",
      " Batch number out of 400/60000\n",
      " Batch number out of 800/60000\n",
      " Batch number out of 1200/60000\n",
      " Batch number out of 1600/60000\n",
      "tensor(0.4292, grad_fn=<DivBackward0>)\n",
      "\n",
      "Train loss: 0.42920 | Test loss: 0.45719, Test acc: 84.07%\n",
      "\n"
     ]
    }
   ],
   "source": [
    "epochs=3\n",
    "for epochs in range(epochs):\n",
    "    print(f\"Epochs number {epochs}--- \")\n",
    "    train_loss=0\n",
    "    \n",
    "    for batch, (X,y) in tqdm(enumerate(train_dataloader)):\n",
    "        model_0.train()\n",
    "        #do the forward pass\n",
    "        y_pred=model_0(X)\n",
    "        #calculate the loss\n",
    "        loss=loss_fn(y_pred,y)\n",
    "        train_loss+=loss\n",
    "        #optimizer zero grad\n",
    "        optimizer.zero_grad()\n",
    "        #loss backward\n",
    "        loss.backward()\n",
    "        #optimizer step step step step\n",
    "        optimizer.step()\n",
    "        if batch % 400==0:\n",
    "            print(f\" Batch number out of {batch}/{len(train_data)}\")\n",
    "    train_loss/=len(train_dataloader)\n",
    "    print(train_loss)\n",
    "\n",
    "    #testing test data\n",
    "    test_loss, test_acc=0,0\n",
    "    model_0.eval()\n",
    "    with torch.inference_mode():\n",
    "        for X,y in test_dataloader:\n",
    "            test_pred=model_0(X)\n",
    "            test_loss+=loss_fn(test_pred,y)\n",
    "            test_acc += accuracy_fn(y_true=y, y_pred=test_pred.argmax(dim=1))\n",
    "        test_loss/=len(test_dataloader)\n",
    "        test_acc/=len(test_dataloader)\n",
    "    print(f\"\\nTrain loss: {train_loss:.5f} | Test loss: {test_loss:.5f}, Test acc: {test_acc:.2f}%\\n\")\n",
    "    \n",
    "\n",
    "\n",
    "        \n",
    "    \n",
    "    "
   ]
  },
  {
   "cell_type": "code",
   "execution_count": 24,
   "id": "fc1a6935",
   "metadata": {
    "execution": {
     "iopub.execute_input": "2025-06-26T19:32:44.330060Z",
     "iopub.status.busy": "2025-06-26T19:32:44.329766Z",
     "iopub.status.idle": "2025-06-26T19:32:44.335613Z",
     "shell.execute_reply": "2025-06-26T19:32:44.334765Z"
    },
    "papermill": {
     "duration": 0.025027,
     "end_time": "2025-06-26T19:32:44.337661",
     "exception": false,
     "start_time": "2025-06-26T19:32:44.312634",
     "status": "completed"
    },
    "tags": []
   },
   "outputs": [],
   "source": [
    "class FasionV1(nn.Module):\n",
    "    def __init__(self, input_shape: int, hidden_units: int, output_shape: int):\n",
    "        super().__init__()\n",
    "        self.layer_stack=nn.Sequential(\n",
    "            nn.Flatten(),\n",
    "            nn.Linear(in_features=input_shape, out_features=hidden_units),\n",
    "            nn.ReLU(),\n",
    "            nn.Linear(in_features=hidden_units, out_features=output_shape),\n",
    "            nn.ReLU() \n",
    "        )\n",
    "    def forward(self, x: torch.tensor):\n",
    "        return self.layer_stack(x) "
   ]
  },
  {
   "cell_type": "code",
   "execution_count": 25,
   "id": "054068b0",
   "metadata": {
    "execution": {
     "iopub.execute_input": "2025-06-26T19:32:44.371282Z",
     "iopub.status.busy": "2025-06-26T19:32:44.370938Z",
     "iopub.status.idle": "2025-06-26T19:32:44.378328Z",
     "shell.execute_reply": "2025-06-26T19:32:44.377320Z"
    },
    "papermill": {
     "duration": 0.026069,
     "end_time": "2025-06-26T19:32:44.379997",
     "exception": false,
     "start_time": "2025-06-26T19:32:44.353928",
     "status": "completed"
    },
    "tags": []
   },
   "outputs": [
    {
     "data": {
      "text/plain": [
       "FasionV1(\n",
       "  (layer_stack): Sequential(\n",
       "    (0): Flatten(start_dim=1, end_dim=-1)\n",
       "    (1): Linear(in_features=784, out_features=10, bias=True)\n",
       "    (2): ReLU()\n",
       "    (3): Linear(in_features=10, out_features=10, bias=True)\n",
       "    (4): ReLU()\n",
       "  )\n",
       ")"
      ]
     },
     "execution_count": 25,
     "metadata": {},
     "output_type": "execute_result"
    }
   ],
   "source": [
    "model_1=FasionV1(784,10,len(class_name))\n",
    "model_1\n",
    "# model_1.parameters()"
   ]
  },
  {
   "cell_type": "markdown",
   "id": "6f7e49dd",
   "metadata": {
    "papermill": {
     "duration": 0.015874,
     "end_time": "2025-06-26T19:32:44.411974",
     "exception": false,
     "start_time": "2025-06-26T19:32:44.396100",
     "status": "completed"
    },
    "tags": []
   },
   "source": [
    "setup loss , optimizer"
   ]
  },
  {
   "cell_type": "code",
   "execution_count": 26,
   "id": "3cc8806d",
   "metadata": {
    "execution": {
     "iopub.execute_input": "2025-06-26T19:32:44.446062Z",
     "iopub.status.busy": "2025-06-26T19:32:44.445769Z",
     "iopub.status.idle": "2025-06-26T19:32:44.450756Z",
     "shell.execute_reply": "2025-06-26T19:32:44.449830Z"
    },
    "papermill": {
     "duration": 0.023393,
     "end_time": "2025-06-26T19:32:44.452260",
     "exception": false,
     "start_time": "2025-06-26T19:32:44.428867",
     "status": "completed"
    },
    "tags": []
   },
   "outputs": [],
   "source": [
    "from helper_functions import accuracy_fn\n",
    "\n",
    "loss_fn = nn.CrossEntropyLoss()\n",
    "\n",
    "optimizer=torch.optim.SGD(params=model_1.parameters(),lr=0.01)\n",
    "\n",
    "device='cpu'"
   ]
  },
  {
   "cell_type": "code",
   "execution_count": 27,
   "id": "4d3e438e",
   "metadata": {
    "execution": {
     "iopub.execute_input": "2025-06-26T19:32:44.485885Z",
     "iopub.status.busy": "2025-06-26T19:32:44.485592Z",
     "iopub.status.idle": "2025-06-26T19:32:44.497271Z",
     "shell.execute_reply": "2025-06-26T19:32:44.496299Z"
    },
    "papermill": {
     "duration": 0.030581,
     "end_time": "2025-06-26T19:32:44.498892",
     "exception": false,
     "start_time": "2025-06-26T19:32:44.468311",
     "status": "completed"
    },
    "tags": []
   },
   "outputs": [],
   "source": [
    "def train_step(model: torch.nn.Module,\n",
    "               data_loader: torch.utils.data.DataLoader,\n",
    "               loss_fn: torch.nn.Module,\n",
    "               optimizer: torch.optim.Optimizer,\n",
    "               accuracy_fn,\n",
    "               device: torch.device = device):\n",
    "    train_loss, train_acc = 0, 0\n",
    "    model.to(device)\n",
    "    for batch, (X, y) in enumerate(data_loader):\n",
    "        # Send data to GPU\n",
    "        X, y = X.to(device), y.to(device)\n",
    "\n",
    "        # 1. Forward pass\n",
    "        y_pred = model(X)\n",
    "\n",
    "        # 2. Calculate loss\n",
    "        loss = loss_fn(y_pred, y)\n",
    "        train_loss += loss\n",
    "        train_acc += accuracy_fn(y_true=y,\n",
    "                                 y_pred=y_pred.argmax(dim=1)) # Go from logits -> pred labels\n",
    "\n",
    "        # 3. Optimizer zero grad\n",
    "        optimizer.zero_grad()\n",
    "\n",
    "        # 4. Loss backward\n",
    "        loss.backward()\n",
    "\n",
    "        # 5. Optimizer step\n",
    "        optimizer.step()\n",
    "\n",
    "    # Calculate loss and accuracy per epoch and print out what's happening\n",
    "    train_loss /= len(data_loader)\n",
    "    train_acc /= len(data_loader)\n",
    "    print(f\"Train loss: {train_loss:.5f} | Train accuracy: {train_acc:.2f}%\")\n",
    "\n",
    "def test_step(data_loader: torch.utils.data.DataLoader,\n",
    "              model: torch.nn.Module,\n",
    "              loss_fn: torch.nn.Module,\n",
    "              accuracy_fn,\n",
    "              device: torch.device = device):\n",
    "    test_loss, test_acc = 0, 0\n",
    "    model.to(device)\n",
    "    model.eval() # put model in eval mode\n",
    "    # Turn on inference context manager\n",
    "    with torch.inference_mode(): \n",
    "        for X, y in data_loader:\n",
    "            # Send data to GPU\n",
    "            X, y = X.to(device), y.to(device)\n",
    "            \n",
    "            # 1. Forward pass\n",
    "            test_pred = model(X)\n",
    "            \n",
    "            # 2. Calculate loss and accuracy\n",
    "            test_loss += loss_fn(test_pred, y)\n",
    "            test_acc += accuracy_fn(y_true=y,\n",
    "                y_pred=test_pred.argmax(dim=1) # Go from logits -> pred labels\n",
    "            )\n",
    "        \n",
    "        # Adjust metrics and print out\n",
    "        test_loss /= len(data_loader)\n",
    "        test_acc /= len(data_loader)\n",
    "        print(f\"Test loss: {test_loss:.5f} | Test accuracy: {test_acc:.2f}%\\n\")"
   ]
  },
  {
   "cell_type": "code",
   "execution_count": 28,
   "id": "52bc69da",
   "metadata": {
    "execution": {
     "iopub.execute_input": "2025-06-26T19:32:44.534087Z",
     "iopub.status.busy": "2025-06-26T19:32:44.533820Z",
     "iopub.status.idle": "2025-06-26T19:33:14.669417Z",
     "shell.execute_reply": "2025-06-26T19:33:14.668498Z"
    },
    "papermill": {
     "duration": 30.171151,
     "end_time": "2025-06-26T19:33:14.686934",
     "exception": false,
     "start_time": "2025-06-26T19:32:44.515783",
     "status": "completed"
    },
    "tags": []
   },
   "outputs": [
    {
     "data": {
      "application/vnd.jupyter.widget-view+json": {
       "model_id": "4f2ee818c87d44c3813204c710f1974d",
       "version_major": 2,
       "version_minor": 0
      },
      "text/plain": [
       "  0%|          | 0/3 [00:00<?, ?it/s]"
      ]
     },
     "metadata": {},
     "output_type": "display_data"
    },
    {
     "name": "stdout",
     "output_type": "stream",
     "text": [
      "Epoch: 0\n",
      "---------\n",
      "Train loss: 1.45922 | Train accuracy: 54.35%\n",
      "Test loss: 1.12435 | Test accuracy: 65.76%\n",
      "\n",
      "Epoch: 1\n",
      "---------\n",
      "Train loss: 1.05004 | Train accuracy: 67.80%\n",
      "Test loss: 1.02114 | Test accuracy: 68.52%\n",
      "\n",
      "Epoch: 2\n",
      "---------\n",
      "Train loss: 0.97942 | Train accuracy: 69.61%\n",
      "Test loss: 0.98073 | Test accuracy: 69.21%\n",
      "\n",
      "Train time on cpu: 30.127 seconds\n"
     ]
    }
   ],
   "source": [
    "torch.manual_seed(42)\n",
    "\n",
    "# Measure time\n",
    "from timeit import default_timer as timer\n",
    "train_time_start_on_gpu = timer()\n",
    "\n",
    "epochs = 3\n",
    "for epoch in tqdm(range(epochs)):\n",
    "    print(f\"Epoch: {epoch}\\n---------\")\n",
    "    train_step(data_loader=train_dataloader, \n",
    "        model=model_1, \n",
    "        loss_fn=loss_fn,\n",
    "        optimizer=optimizer,\n",
    "        accuracy_fn=accuracy_fn\n",
    "    )\n",
    "    test_step(data_loader=test_dataloader,\n",
    "        model=model_1,\n",
    "        loss_fn=loss_fn,\n",
    "        accuracy_fn=accuracy_fn\n",
    "    )\n",
    "\n",
    "train_time_end_on_gpu = timer()\n",
    "total_train_time_model_1 = print_train_time(start=train_time_start_on_gpu,\n",
    "                                            end=train_time_end_on_gpu,\n",
    "                                            device=device)"
   ]
  },
  {
   "cell_type": "code",
   "execution_count": 29,
   "id": "22a706ca",
   "metadata": {
    "execution": {
     "iopub.execute_input": "2025-06-26T19:33:14.721882Z",
     "iopub.status.busy": "2025-06-26T19:33:14.720877Z",
     "iopub.status.idle": "2025-06-26T19:33:15.863846Z",
     "shell.execute_reply": "2025-06-26T19:33:15.862957Z"
    },
    "papermill": {
     "duration": 1.162357,
     "end_time": "2025-06-26T19:33:15.865477",
     "exception": false,
     "start_time": "2025-06-26T19:33:14.703120",
     "status": "completed"
    },
    "tags": []
   },
   "outputs": [
    {
     "data": {
      "text/plain": [
       "{'model_name': 'FasionV1',\n",
       " 'model_loss': 0.980731725692749,\n",
       " 'model_acc': 69.20926517571885}"
      ]
     },
     "execution_count": 29,
     "metadata": {},
     "output_type": "execute_result"
    }
   ],
   "source": [
    "torch.manual_seed(42)\n",
    "\n",
    "# Note: This will error due to `eval_model()` not using device agnostic code \n",
    "model_1_results = eval_model(model=model_1, \n",
    "    data_loader=test_dataloader,\n",
    "    loss_fn=loss_fn, \n",
    "    accuracy_fn=accuracy_fn) \n",
    "model_1_results "
   ]
  },
  {
   "cell_type": "markdown",
   "id": "966543b9",
   "metadata": {
    "papermill": {
     "duration": 0.016011,
     "end_time": "2025-06-26T19:33:15.897942",
     "exception": false,
     "start_time": "2025-06-26T19:33:15.881931",
     "status": "completed"
    },
    "tags": []
   },
   "source": [
    "Now move on CNN Code."
   ]
  },
  {
   "cell_type": "markdown",
   "id": "5198b09b",
   "metadata": {
    "papermill": {
     "duration": 0.01593,
     "end_time": "2025-06-26T19:33:15.930056",
     "exception": false,
     "start_time": "2025-06-26T19:33:15.914126",
     "status": "completed"
    },
    "tags": []
   },
   "source": [
    "Play with maxpool"
   ]
  },
  {
   "cell_type": "code",
   "execution_count": 30,
   "id": "44494f41",
   "metadata": {
    "execution": {
     "iopub.execute_input": "2025-06-26T19:33:15.965380Z",
     "iopub.status.busy": "2025-06-26T19:33:15.965005Z",
     "iopub.status.idle": "2025-06-26T19:33:15.979983Z",
     "shell.execute_reply": "2025-06-26T19:33:15.978964Z"
    },
    "papermill": {
     "duration": 0.034316,
     "end_time": "2025-06-26T19:33:15.981892",
     "exception": false,
     "start_time": "2025-06-26T19:33:15.947576",
     "status": "completed"
    },
    "tags": []
   },
   "outputs": [
    {
     "name": "stdout",
     "output_type": "stream",
     "text": [
      "Image batch shape: torch.Size([32, 3, 64, 64]) -> [batch_size, color_channels, height, width]\n",
      "Single image shape: torch.Size([3, 64, 64]) -> [color_channels, height, width]\n",
      "Single image pixel values:\n",
      "tensor([[[ 1.9269,  1.4873,  0.9007,  ...,  1.8446, -1.1845,  1.3835],\n",
      "         [ 1.4451,  0.8564,  2.2181,  ...,  0.3399,  0.7200,  0.4114],\n",
      "         [ 1.9312,  1.0119, -1.4364,  ..., -0.5558,  0.7043,  0.7099],\n",
      "         ...,\n",
      "         [-0.5610, -0.4830,  0.4770,  ..., -0.2713, -0.9537, -0.6737],\n",
      "         [ 0.3076, -0.1277,  0.0366,  ..., -2.0060,  0.2824, -0.8111],\n",
      "         [-1.5486,  0.0485, -0.7712,  ..., -0.1403,  0.9416, -0.0118]],\n",
      "\n",
      "        [[-0.5197,  1.8524,  1.8365,  ...,  0.8935, -1.5114, -0.8515],\n",
      "         [ 2.0818,  1.0677, -1.4277,  ...,  1.6612, -2.6223, -0.4319],\n",
      "         [-0.1010, -0.4388, -1.9775,  ...,  0.2106,  0.2536, -0.7318],\n",
      "         ...,\n",
      "         [ 0.2779,  0.7342, -0.3736,  ..., -0.4601,  0.1815,  0.1850],\n",
      "         [ 0.7205, -0.2833,  0.0937,  ..., -0.1002, -2.3609,  2.2465],\n",
      "         [-1.3242, -0.1973,  0.2920,  ...,  0.5409,  0.6940,  1.8563]],\n",
      "\n",
      "        [[-0.7978,  1.0261,  1.1465,  ...,  1.2134,  0.9354, -0.0780],\n",
      "         [-1.4647, -1.9571,  0.1017,  ..., -1.9986, -0.7409,  0.7011],\n",
      "         [-1.3938,  0.8466, -1.7191,  ..., -1.1867,  0.1320,  0.3407],\n",
      "         ...,\n",
      "         [ 0.8206, -0.3745,  1.2499,  ..., -0.0676,  0.0385,  0.6335],\n",
      "         [-0.5589, -0.3393,  0.2347,  ...,  2.1181,  2.4569,  1.3083],\n",
      "         [-0.4092,  1.5199,  0.2401,  ..., -0.2558,  0.7870,  0.9924]]])\n"
     ]
    }
   ],
   "source": [
    "# torch.random_manual(42)\n",
    "\n",
    "# image=torch.randn(size=(32,3,64,64))\n",
    "# image\n",
    "\n",
    "torch.manual_seed(42)\n",
    "\n",
    "# Create sample batch of random numbers with same size as image batch\n",
    "images = torch.randn(size=(32, 3, 64, 64)) # [batch_size, color_channels, height, width]\n",
    "test_image = images[0] # get a single image for testing\n",
    "print(f\"Image batch shape: {images.shape} -> [batch_size, color_channels, height, width]\")\n",
    "print(f\"Single image shape: {test_image.shape} -> [color_channels, height, width]\") \n",
    "print(f\"Single image pixel values:\\n{test_image}\")"
   ]
  },
  {
   "cell_type": "code",
   "execution_count": 31,
   "id": "6862535f",
   "metadata": {
    "execution": {
     "iopub.execute_input": "2025-06-26T19:33:16.021081Z",
     "iopub.status.busy": "2025-06-26T19:33:16.020786Z",
     "iopub.status.idle": "2025-06-26T19:33:16.049222Z",
     "shell.execute_reply": "2025-06-26T19:33:16.048127Z"
    },
    "papermill": {
     "duration": 0.050805,
     "end_time": "2025-06-26T19:33:16.050893",
     "exception": false,
     "start_time": "2025-06-26T19:33:16.000088",
     "status": "completed"
    },
    "tags": []
   },
   "outputs": [
    {
     "data": {
      "text/plain": [
       "MaxPool2d(\n",
       "  kernel_size=tensor([[[[ 1.9269,  1.4873,  0.9007,  ...,  1.8446, -1.1845,  1.3835],\n",
       "            [ 1.4451,  0.8564,  2.2181,  ...,  0.3399,  0.7200,  0.4114],\n",
       "            [ 1.9312,  1.0119, -1.4364,  ..., -0.5558,  0.7043,  0.7099],\n",
       "            ...,\n",
       "            [-0.5610, -0.4830,  0.4770,  ..., -0.2713, -0.9537, -0.6737],\n",
       "            [ 0.3076, -0.1277,  0.0366,  ..., -2.0060,  0.2824, -0.8111],\n",
       "            [-1.5486,  0.0485, -0.7712,  ..., -0.1403,  0.9416, -0.0118]],\n",
       "  \n",
       "           [[-0.5197,  1.8524,  1.8365,  ...,  0.8935, -1.5114, -0.8515],\n",
       "            [ 2.0818,  1.0677, -1.4277,  ...,  1.6612, -2.6223, -0.4319],\n",
       "            [-0.1010, -0.4388, -1.9775,  ...,  0.2106,  0.2536, -0.7318],\n",
       "            ...,\n",
       "            [ 0.2779,  0.7342, -0.3736,  ..., -0.4601,  0.1815,  0.1850],\n",
       "            [ 0.7205, -0.2833,  0.0937,  ..., -0.1002, -2.3609,  2.2465],\n",
       "            [-1.3242, -0.1973,  0.2920,  ...,  0.5409,  0.6940,  1.8563]],\n",
       "  \n",
       "           [[-0.7978,  1.0261,  1.1465,  ...,  1.2134,  0.9354, -0.0780],\n",
       "            [-1.4647, -1.9571,  0.1017,  ..., -1.9986, -0.7409,  0.7011],\n",
       "            [-1.3938,  0.8466, -1.7191,  ..., -1.1867,  0.1320,  0.3407],\n",
       "            ...,\n",
       "            [ 0.8206, -0.3745,  1.2499,  ..., -0.0676,  0.0385,  0.6335],\n",
       "            [-0.5589, -0.3393,  0.2347,  ...,  2.1181,  2.4569,  1.3083],\n",
       "            [-0.4092,  1.5199,  0.2401,  ..., -0.2558,  0.7870,  0.9924]]],\n",
       "  \n",
       "  \n",
       "          [[[ 1.1462, -0.9252,  0.0457,  ..., -1.6060, -0.3585, -0.4588],\n",
       "            [ 1.5696,  2.1210,  0.4030,  ..., -1.1395,  0.9925, -0.7322],\n",
       "            [-1.6529, -1.4641,  0.0971,  ...,  0.2152, -1.5102,  0.4840],\n",
       "            ...,\n",
       "            [ 0.7408, -0.7165,  2.1898,  ...,  0.4568,  0.0514, -0.9807],\n",
       "            [-0.2803, -0.3592, -1.1238,  ..., -0.5225, -0.1409,  0.6916],\n",
       "            [-0.5811, -1.3816,  1.0387,  ..., -0.6358,  0.9728, -0.2934]],\n",
       "  \n",
       "           [[-1.3047,  1.4507,  0.2443,  ..., -0.1408, -1.4311, -0.1850],\n",
       "            [ 0.8868, -0.2988, -0.5001,  ..., -0.0105,  0.8178,  0.1980],\n",
       "            [ 0.9566, -0.6351,  0.5435,  ...,  0.3815, -0.5045,  0.6647],\n",
       "            ...,\n",
       "            [-1.8424, -0.3769,  0.4985,  ...,  1.0519, -1.0642, -0.7167],\n",
       "            [ 0.6115,  0.4193, -0.9970,  ...,  0.1066, -0.7907,  0.2683],\n",
       "            [-0.5824, -0.3426,  0.4904,  ...,  2.5234,  1.3809,  0.4820]],\n",
       "  \n",
       "           [[-0.2932, -0.3666, -1.6757,  ..., -0.7696, -1.8347,  0.5975],\n",
       "            [-0.6698, -0.3543, -1.5089,  ...,  0.7316,  0.2406, -0.2326],\n",
       "            [-0.6608,  0.4298,  0.1429,  ..., -0.2031,  1.0480, -1.2931],\n",
       "            ...,\n",
       "            [-0.0854,  1.1046, -1.1372,  ..., -1.5342,  0.3418,  0.4373],\n",
       "            [ 1.5311, -0.2290, -0.7734,  ..., -0.6297, -0.1439, -0.6415],\n",
       "            [-0.5336,  0.8814,  0.2079,  ..., -0.8355, -1.9863, -0.9132]]],\n",
       "  \n",
       "  \n",
       "          [[[ 1.8723, -0.4072, -0.2770,  ...,  0.7319,  0.5414, -0.4704],\n",
       "            [-1.1442, -0.8629, -0.0325,  ..., -0.6706, -0.5498, -1.0136],\n",
       "            [-0.8476, -0.0746,  1.6060,  ...,  0.0655,  1.2327,  1.5566],\n",
       "            ...,\n",
       "            [ 0.1831, -1.1265,  1.0662,  ..., -1.6199,  0.8893,  1.8041],\n",
       "            [ 2.2873,  0.2870,  0.5738,  ...,  0.3699,  0.5207,  1.7841],\n",
       "            [-0.9507, -0.6412,  0.6762,  ...,  1.6346,  1.7163,  0.5287]],\n",
       "  \n",
       "           [[ 0.3617,  0.0284,  0.7862,  ..., -0.4626,  0.0907,  0.4144],\n",
       "            [-0.3127,  1.0867,  1.2147,  ...,  0.4430,  1.6820,  1.9812],\n",
       "            [-1.5535,  1.2849, -0.2383,  ..., -0.6326, -0.7753, -0.0257],\n",
       "            ...,\n",
       "            [ 0.3711,  0.0639, -0.1340,  ...,  1.0498,  1.2419,  0.7912],\n",
       "            [ 0.7199, -1.6989,  0.5186,  ...,  1.3509,  0.2584, -0.9650],\n",
       "            [ 0.6124,  1.5963, -0.8839,  ...,  1.5568,  1.9061, -0.2654]],\n",
       "  \n",
       "           [[-0.7838, -0.3569, -1.3868,  ...,  0.0293,  0.3965, -0.0459],\n",
       "            [-1.2732,  1.3058,  1.1782,  ..., -0.5917, -0.1135, -0.0979],\n",
       "            [-0.4611, -1.2840,  1.2376,  ...,  0.2198, -0.9789,  1.8790],\n",
       "            ...,\n",
       "            [ 1.2557,  0.2726,  0.4869,  ..., -0.9088, -1.0899,  1.8497],\n",
       "            [ 0.4721, -0.5464,  0.0127,  ..., -0.8402,  0.3470, -0.5938],\n",
       "            [ 0.3543, -0.7542,  0.8093,  ..., -0.0075,  1.2261, -0.3360]]],\n",
       "  \n",
       "  \n",
       "          ...,\n",
       "  \n",
       "  \n",
       "          [[[-2.1682, -0.7886, -0.3461,  ...,  0.3142, -0.3933, -0.4687],\n",
       "            [ 0.9872,  0.0910, -0.2333,  ...,  0.5540,  0.9231, -1.7830],\n",
       "            [-0.3090,  0.5961, -1.9058,  ..., -0.8920,  0.2649,  0.5361],\n",
       "            ...,\n",
       "            [ 1.4019,  1.5822,  1.9109,  ...,  1.4598,  1.4994,  0.0590],\n",
       "            [ 0.2599,  0.8737, -1.8681,  ..., -1.0228, -3.4304, -1.0239],\n",
       "            [-0.1505,  0.4495,  1.4101,  ...,  0.8395,  1.4997, -0.5686]],\n",
       "  \n",
       "           [[ 0.8834,  1.1450,  0.5449,  ..., -0.2867,  0.2139, -1.3341],\n",
       "            [-1.2310, -0.3959,  0.3044,  ..., -0.4019, -0.7961,  0.0661],\n",
       "            [ 1.4644, -0.7622,  0.7954,  ..., -0.3784, -0.1177,  1.8225],\n",
       "            ...,\n",
       "            [ 1.4499,  0.9205,  0.8025,  ..., -0.9204, -0.2336,  1.0684],\n",
       "            [-0.8314,  0.2011,  0.4146,  ..., -1.3222, -0.6220,  0.0374],\n",
       "            [-0.6306, -1.0083,  0.4322,  ...,  0.9623, -0.2101, -0.8070]],\n",
       "  \n",
       "           [[ 0.9766,  1.8551,  0.8079,  ...,  0.0236, -0.7548,  0.2805],\n",
       "            [-1.5609, -0.9496, -1.2076,  ...,  0.6664,  0.4597,  1.2509],\n",
       "            [-0.3669,  1.0052, -0.1830,  ...,  2.1652, -0.3830, -0.6441],\n",
       "            ...,\n",
       "            [ 0.0621,  0.0039,  1.0790,  ...,  1.0980,  1.3147,  1.7881],\n",
       "            [ 1.5639,  0.2737,  0.0368,  ...,  0.3102,  0.5700,  2.1521],\n",
       "            [-0.2677,  0.9526, -1.7323,  ..., -0.5503,  0.5012,  0.4050]]],\n",
       "  \n",
       "  \n",
       "          [[[ 0.6869, -0.4450, -0.2497,  ...,  1.1245,  2.1253,  0.5647],\n",
       "            [ 1.3971,  1.0697, -0.8996,  ...,  1.0537,  1.3428, -0.2854],\n",
       "            [ 0.6388, -0.5320, -1.5274,  ..., -1.8715,  0.3396,  0.9248],\n",
       "            ...,\n",
       "            [-1.3018,  0.4129,  0.0119,  ..., -1.9978, -0.1642, -2.0266],\n",
       "            [ 0.3821, -0.6324, -0.3748,  ...,  0.3744, -0.5984, -0.1415],\n",
       "            [ 1.5145, -0.9476, -0.6816,  ..., -1.4079, -0.6893, -2.5450]],\n",
       "  \n",
       "           [[ 1.0765,  1.2431, -0.3601,  ...,  1.4529, -1.9261,  0.2059],\n",
       "            [ 0.9315,  0.2448,  0.9260,  ..., -1.4899, -0.2039,  0.1974],\n",
       "            [-0.1349, -0.1783, -0.5261,  ..., -0.4463, -0.9531, -1.2018],\n",
       "            ...,\n",
       "            [-1.5692, -0.5791,  0.0771,  ..., -0.3282, -0.6795,  1.5796],\n",
       "            [-0.7103, -0.1010,  0.3765,  ..., -1.9444, -0.1589,  0.9398],\n",
       "            [-0.1365, -0.6480, -0.5398,  ...,  0.3594, -0.5389,  0.6653]],\n",
       "  \n",
       "           [[-0.8764, -0.5104, -1.2873,  ..., -1.7659,  1.0042,  1.0264],\n",
       "            [-0.7540,  0.3738, -0.0059,  ..., -1.9595,  1.0695,  0.5267],\n",
       "            [ 0.6567,  0.8677,  0.9835,  ...,  0.7666, -0.7829, -0.3841],\n",
       "            ...,\n",
       "            [-0.1040,  0.6071, -0.5816,  ...,  0.9904,  0.8115, -0.5291],\n",
       "            [-0.9045, -0.5544, -0.4637,  ..., -0.0552,  0.0711,  0.0146],\n",
       "            [-0.6846, -1.0256, -0.6969,  ...,  0.5858, -0.9769,  0.0943]]],\n",
       "  \n",
       "  \n",
       "          [[[-1.7576, -0.4235,  0.4978,  ..., -1.5653, -0.0935, -0.8620],\n",
       "            [ 0.0648,  0.9873, -0.6721,  ..., -1.2957, -0.5044,  0.7429],\n",
       "            [ 0.2712, -0.8809, -0.8739,  ...,  1.0423,  0.8242,  2.0000],\n",
       "            ...,\n",
       "            [ 0.7474, -0.0822, -0.8413,  ...,  0.1025,  0.6660,  0.3744],\n",
       "            [-0.1608,  0.7354, -0.7628,  ..., -0.3506,  2.7400, -0.7302],\n",
       "            [ 0.1863,  0.3572, -0.0457,  ..., -0.2024, -0.0339, -0.6260]],\n",
       "  \n",
       "           [[ 1.1211, -0.3509,  0.2602,  ..., -2.0339,  0.0289,  0.0932],\n",
       "            [-1.0552,  0.5302,  0.7214,  ...,  0.6793, -1.6776,  1.1767],\n",
       "            [-0.5452,  0.7653,  0.2258,  ...,  0.1321, -0.1846, -0.1664],\n",
       "            ...,\n",
       "            [-1.3320,  0.6906,  0.2853,  ...,  1.7544,  0.6776,  0.1974],\n",
       "            [-0.8164,  1.5707, -1.0187,  ...,  0.7140,  1.9848, -0.6659],\n",
       "            [ 1.3224,  1.0515,  1.0870,  ..., -0.0260,  1.2395,  0.9925]],\n",
       "  \n",
       "           [[ 1.6056,  0.8208,  1.0230,  ...,  0.0335,  1.5842,  0.8418],\n",
       "            [-0.4198,  0.3207, -0.1954,  ..., -0.3185,  1.3290,  0.5406],\n",
       "            [ 1.0659, -1.7458, -0.2608,  ..., -1.1151, -0.8994,  0.0370],\n",
       "            ...,\n",
       "            [-0.1177,  0.4560, -1.3883,  ..., -1.1566, -1.2233,  0.4873],\n",
       "            [-0.8383,  1.2338,  0.2898,  ...,  1.0237,  1.6105, -0.6264],\n",
       "            [ 0.1180, -0.9001,  2.4965,  ...,  0.4437, -0.3335,  1.3220]]]]), stride=tensor([[[[ 1.9269,  1.4873,  0.9007,  ...,  1.8446, -1.1845,  1.3835],\n",
       "            [ 1.4451,  0.8564,  2.2181,  ...,  0.3399,  0.7200,  0.4114],\n",
       "            [ 1.9312,  1.0119, -1.4364,  ..., -0.5558,  0.7043,  0.7099],\n",
       "            ...,\n",
       "            [-0.5610, -0.4830,  0.4770,  ..., -0.2713, -0.9537, -0.6737],\n",
       "            [ 0.3076, -0.1277,  0.0366,  ..., -2.0060,  0.2824, -0.8111],\n",
       "            [-1.5486,  0.0485, -0.7712,  ..., -0.1403,  0.9416, -0.0118]],\n",
       "  \n",
       "           [[-0.5197,  1.8524,  1.8365,  ...,  0.8935, -1.5114, -0.8515],\n",
       "            [ 2.0818,  1.0677, -1.4277,  ...,  1.6612, -2.6223, -0.4319],\n",
       "            [-0.1010, -0.4388, -1.9775,  ...,  0.2106,  0.2536, -0.7318],\n",
       "            ...,\n",
       "            [ 0.2779,  0.7342, -0.3736,  ..., -0.4601,  0.1815,  0.1850],\n",
       "            [ 0.7205, -0.2833,  0.0937,  ..., -0.1002, -2.3609,  2.2465],\n",
       "            [-1.3242, -0.1973,  0.2920,  ...,  0.5409,  0.6940,  1.8563]],\n",
       "  \n",
       "           [[-0.7978,  1.0261,  1.1465,  ...,  1.2134,  0.9354, -0.0780],\n",
       "            [-1.4647, -1.9571,  0.1017,  ..., -1.9986, -0.7409,  0.7011],\n",
       "            [-1.3938,  0.8466, -1.7191,  ..., -1.1867,  0.1320,  0.3407],\n",
       "            ...,\n",
       "            [ 0.8206, -0.3745,  1.2499,  ..., -0.0676,  0.0385,  0.6335],\n",
       "            [-0.5589, -0.3393,  0.2347,  ...,  2.1181,  2.4569,  1.3083],\n",
       "            [-0.4092,  1.5199,  0.2401,  ..., -0.2558,  0.7870,  0.9924]]],\n",
       "  \n",
       "  \n",
       "          [[[ 1.1462, -0.9252,  0.0457,  ..., -1.6060, -0.3585, -0.4588],\n",
       "            [ 1.5696,  2.1210,  0.4030,  ..., -1.1395,  0.9925, -0.7322],\n",
       "            [-1.6529, -1.4641,  0.0971,  ...,  0.2152, -1.5102,  0.4840],\n",
       "            ...,\n",
       "            [ 0.7408, -0.7165,  2.1898,  ...,  0.4568,  0.0514, -0.9807],\n",
       "            [-0.2803, -0.3592, -1.1238,  ..., -0.5225, -0.1409,  0.6916],\n",
       "            [-0.5811, -1.3816,  1.0387,  ..., -0.6358,  0.9728, -0.2934]],\n",
       "  \n",
       "           [[-1.3047,  1.4507,  0.2443,  ..., -0.1408, -1.4311, -0.1850],\n",
       "            [ 0.8868, -0.2988, -0.5001,  ..., -0.0105,  0.8178,  0.1980],\n",
       "            [ 0.9566, -0.6351,  0.5435,  ...,  0.3815, -0.5045,  0.6647],\n",
       "            ...,\n",
       "            [-1.8424, -0.3769,  0.4985,  ...,  1.0519, -1.0642, -0.7167],\n",
       "            [ 0.6115,  0.4193, -0.9970,  ...,  0.1066, -0.7907,  0.2683],\n",
       "            [-0.5824, -0.3426,  0.4904,  ...,  2.5234,  1.3809,  0.4820]],\n",
       "  \n",
       "           [[-0.2932, -0.3666, -1.6757,  ..., -0.7696, -1.8347,  0.5975],\n",
       "            [-0.6698, -0.3543, -1.5089,  ...,  0.7316,  0.2406, -0.2326],\n",
       "            [-0.6608,  0.4298,  0.1429,  ..., -0.2031,  1.0480, -1.2931],\n",
       "            ...,\n",
       "            [-0.0854,  1.1046, -1.1372,  ..., -1.5342,  0.3418,  0.4373],\n",
       "            [ 1.5311, -0.2290, -0.7734,  ..., -0.6297, -0.1439, -0.6415],\n",
       "            [-0.5336,  0.8814,  0.2079,  ..., -0.8355, -1.9863, -0.9132]]],\n",
       "  \n",
       "  \n",
       "          [[[ 1.8723, -0.4072, -0.2770,  ...,  0.7319,  0.5414, -0.4704],\n",
       "            [-1.1442, -0.8629, -0.0325,  ..., -0.6706, -0.5498, -1.0136],\n",
       "            [-0.8476, -0.0746,  1.6060,  ...,  0.0655,  1.2327,  1.5566],\n",
       "            ...,\n",
       "            [ 0.1831, -1.1265,  1.0662,  ..., -1.6199,  0.8893,  1.8041],\n",
       "            [ 2.2873,  0.2870,  0.5738,  ...,  0.3699,  0.5207,  1.7841],\n",
       "            [-0.9507, -0.6412,  0.6762,  ...,  1.6346,  1.7163,  0.5287]],\n",
       "  \n",
       "           [[ 0.3617,  0.0284,  0.7862,  ..., -0.4626,  0.0907,  0.4144],\n",
       "            [-0.3127,  1.0867,  1.2147,  ...,  0.4430,  1.6820,  1.9812],\n",
       "            [-1.5535,  1.2849, -0.2383,  ..., -0.6326, -0.7753, -0.0257],\n",
       "            ...,\n",
       "            [ 0.3711,  0.0639, -0.1340,  ...,  1.0498,  1.2419,  0.7912],\n",
       "            [ 0.7199, -1.6989,  0.5186,  ...,  1.3509,  0.2584, -0.9650],\n",
       "            [ 0.6124,  1.5963, -0.8839,  ...,  1.5568,  1.9061, -0.2654]],\n",
       "  \n",
       "           [[-0.7838, -0.3569, -1.3868,  ...,  0.0293,  0.3965, -0.0459],\n",
       "            [-1.2732,  1.3058,  1.1782,  ..., -0.5917, -0.1135, -0.0979],\n",
       "            [-0.4611, -1.2840,  1.2376,  ...,  0.2198, -0.9789,  1.8790],\n",
       "            ...,\n",
       "            [ 1.2557,  0.2726,  0.4869,  ..., -0.9088, -1.0899,  1.8497],\n",
       "            [ 0.4721, -0.5464,  0.0127,  ..., -0.8402,  0.3470, -0.5938],\n",
       "            [ 0.3543, -0.7542,  0.8093,  ..., -0.0075,  1.2261, -0.3360]]],\n",
       "  \n",
       "  \n",
       "          ...,\n",
       "  \n",
       "  \n",
       "          [[[-2.1682, -0.7886, -0.3461,  ...,  0.3142, -0.3933, -0.4687],\n",
       "            [ 0.9872,  0.0910, -0.2333,  ...,  0.5540,  0.9231, -1.7830],\n",
       "            [-0.3090,  0.5961, -1.9058,  ..., -0.8920,  0.2649,  0.5361],\n",
       "            ...,\n",
       "            [ 1.4019,  1.5822,  1.9109,  ...,  1.4598,  1.4994,  0.0590],\n",
       "            [ 0.2599,  0.8737, -1.8681,  ..., -1.0228, -3.4304, -1.0239],\n",
       "            [-0.1505,  0.4495,  1.4101,  ...,  0.8395,  1.4997, -0.5686]],\n",
       "  \n",
       "           [[ 0.8834,  1.1450,  0.5449,  ..., -0.2867,  0.2139, -1.3341],\n",
       "            [-1.2310, -0.3959,  0.3044,  ..., -0.4019, -0.7961,  0.0661],\n",
       "            [ 1.4644, -0.7622,  0.7954,  ..., -0.3784, -0.1177,  1.8225],\n",
       "            ...,\n",
       "            [ 1.4499,  0.9205,  0.8025,  ..., -0.9204, -0.2336,  1.0684],\n",
       "            [-0.8314,  0.2011,  0.4146,  ..., -1.3222, -0.6220,  0.0374],\n",
       "            [-0.6306, -1.0083,  0.4322,  ...,  0.9623, -0.2101, -0.8070]],\n",
       "  \n",
       "           [[ 0.9766,  1.8551,  0.8079,  ...,  0.0236, -0.7548,  0.2805],\n",
       "            [-1.5609, -0.9496, -1.2076,  ...,  0.6664,  0.4597,  1.2509],\n",
       "            [-0.3669,  1.0052, -0.1830,  ...,  2.1652, -0.3830, -0.6441],\n",
       "            ...,\n",
       "            [ 0.0621,  0.0039,  1.0790,  ...,  1.0980,  1.3147,  1.7881],\n",
       "            [ 1.5639,  0.2737,  0.0368,  ...,  0.3102,  0.5700,  2.1521],\n",
       "            [-0.2677,  0.9526, -1.7323,  ..., -0.5503,  0.5012,  0.4050]]],\n",
       "  \n",
       "  \n",
       "          [[[ 0.6869, -0.4450, -0.2497,  ...,  1.1245,  2.1253,  0.5647],\n",
       "            [ 1.3971,  1.0697, -0.8996,  ...,  1.0537,  1.3428, -0.2854],\n",
       "            [ 0.6388, -0.5320, -1.5274,  ..., -1.8715,  0.3396,  0.9248],\n",
       "            ...,\n",
       "            [-1.3018,  0.4129,  0.0119,  ..., -1.9978, -0.1642, -2.0266],\n",
       "            [ 0.3821, -0.6324, -0.3748,  ...,  0.3744, -0.5984, -0.1415],\n",
       "            [ 1.5145, -0.9476, -0.6816,  ..., -1.4079, -0.6893, -2.5450]],\n",
       "  \n",
       "           [[ 1.0765,  1.2431, -0.3601,  ...,  1.4529, -1.9261,  0.2059],\n",
       "            [ 0.9315,  0.2448,  0.9260,  ..., -1.4899, -0.2039,  0.1974],\n",
       "            [-0.1349, -0.1783, -0.5261,  ..., -0.4463, -0.9531, -1.2018],\n",
       "            ...,\n",
       "            [-1.5692, -0.5791,  0.0771,  ..., -0.3282, -0.6795,  1.5796],\n",
       "            [-0.7103, -0.1010,  0.3765,  ..., -1.9444, -0.1589,  0.9398],\n",
       "            [-0.1365, -0.6480, -0.5398,  ...,  0.3594, -0.5389,  0.6653]],\n",
       "  \n",
       "           [[-0.8764, -0.5104, -1.2873,  ..., -1.7659,  1.0042,  1.0264],\n",
       "            [-0.7540,  0.3738, -0.0059,  ..., -1.9595,  1.0695,  0.5267],\n",
       "            [ 0.6567,  0.8677,  0.9835,  ...,  0.7666, -0.7829, -0.3841],\n",
       "            ...,\n",
       "            [-0.1040,  0.6071, -0.5816,  ...,  0.9904,  0.8115, -0.5291],\n",
       "            [-0.9045, -0.5544, -0.4637,  ..., -0.0552,  0.0711,  0.0146],\n",
       "            [-0.6846, -1.0256, -0.6969,  ...,  0.5858, -0.9769,  0.0943]]],\n",
       "  \n",
       "  \n",
       "          [[[-1.7576, -0.4235,  0.4978,  ..., -1.5653, -0.0935, -0.8620],\n",
       "            [ 0.0648,  0.9873, -0.6721,  ..., -1.2957, -0.5044,  0.7429],\n",
       "            [ 0.2712, -0.8809, -0.8739,  ...,  1.0423,  0.8242,  2.0000],\n",
       "            ...,\n",
       "            [ 0.7474, -0.0822, -0.8413,  ...,  0.1025,  0.6660,  0.3744],\n",
       "            [-0.1608,  0.7354, -0.7628,  ..., -0.3506,  2.7400, -0.7302],\n",
       "            [ 0.1863,  0.3572, -0.0457,  ..., -0.2024, -0.0339, -0.6260]],\n",
       "  \n",
       "           [[ 1.1211, -0.3509,  0.2602,  ..., -2.0339,  0.0289,  0.0932],\n",
       "            [-1.0552,  0.5302,  0.7214,  ...,  0.6793, -1.6776,  1.1767],\n",
       "            [-0.5452,  0.7653,  0.2258,  ...,  0.1321, -0.1846, -0.1664],\n",
       "            ...,\n",
       "            [-1.3320,  0.6906,  0.2853,  ...,  1.7544,  0.6776,  0.1974],\n",
       "            [-0.8164,  1.5707, -1.0187,  ...,  0.7140,  1.9848, -0.6659],\n",
       "            [ 1.3224,  1.0515,  1.0870,  ..., -0.0260,  1.2395,  0.9925]],\n",
       "  \n",
       "           [[ 1.6056,  0.8208,  1.0230,  ...,  0.0335,  1.5842,  0.8418],\n",
       "            [-0.4198,  0.3207, -0.1954,  ..., -0.3185,  1.3290,  0.5406],\n",
       "            [ 1.0659, -1.7458, -0.2608,  ..., -1.1151, -0.8994,  0.0370],\n",
       "            ...,\n",
       "            [-0.1177,  0.4560, -1.3883,  ..., -1.1566, -1.2233,  0.4873],\n",
       "            [-0.8383,  1.2338,  0.2898,  ...,  1.0237,  1.6105, -0.6264],\n",
       "            [ 0.1180, -0.9001,  2.4965,  ...,  0.4437, -0.3335,  1.3220]]]]), padding=0, dilation=1, ceil_mode=False\n",
       ")"
      ]
     },
     "execution_count": 31,
     "metadata": {},
     "output_type": "execute_result"
    }
   ],
   "source": [
    "torch.manual_seed(42)\n",
    "\n",
    "img=torch.randn(size=(32,3,64,64))\n",
    "one_channel=img[0]\n",
    "\n",
    "img.shape, one_channel.shape\n",
    "\n",
    "nn.MaxPool2d(img)"
   ]
  },
  {
   "cell_type": "markdown",
   "id": "950e02cf",
   "metadata": {
    "papermill": {
     "duration": 0.017276,
     "end_time": "2025-06-26T19:33:16.085423",
     "exception": false,
     "start_time": "2025-06-26T19:33:16.068147",
     "status": "completed"
    },
    "tags": []
   },
   "source": [
    "Conv Layer "
   ]
  },
  {
   "cell_type": "code",
   "execution_count": 32,
   "id": "db8d674d",
   "metadata": {
    "execution": {
     "iopub.execute_input": "2025-06-26T19:33:16.122800Z",
     "iopub.status.busy": "2025-06-26T19:33:16.122513Z",
     "iopub.status.idle": "2025-06-26T19:33:16.142679Z",
     "shell.execute_reply": "2025-06-26T19:33:16.141493Z"
    },
    "papermill": {
     "duration": 0.041978,
     "end_time": "2025-06-26T19:33:16.144493",
     "exception": false,
     "start_time": "2025-06-26T19:33:16.102515",
     "status": "completed"
    },
    "tags": []
   },
   "outputs": [
    {
     "data": {
      "text/plain": [
       "torch.Size([10, 62, 62])"
      ]
     },
     "execution_count": 32,
     "metadata": {},
     "output_type": "execute_result"
    }
   ],
   "source": [
    "torch.manual_seed(42)\n",
    "\n",
    "image=torch.randn(size=(32,3,64,64))\n",
    "img=image[0]\n",
    "conv_layer=nn.Conv2d(\n",
    "    in_channels=3,\n",
    "    out_channels=10,\n",
    "    kernel_size=3,\n",
    "    stride=1,\n",
    "    padding=0 \n",
    ")\n",
    "\n",
    "conv_layer(img).shape\n"
   ]
  },
  {
   "cell_type": "markdown",
   "id": "a78355b5",
   "metadata": {
    "papermill": {
     "duration": 0.01708,
     "end_time": "2025-06-26T19:33:16.179078",
     "exception": false,
     "start_time": "2025-06-26T19:33:16.161998",
     "status": "completed"
    },
    "tags": []
   },
   "source": [
    "Right now our single image test_image only has a shape of ```[color_channels, height, width] or [3, 64, 64].```\n",
    "\n",
    "We can fix this for a single image using ```test_image.unsqueeze(dim=0)``` to add an extra dimension for ```N```."
   ]
  },
  {
   "cell_type": "code",
   "execution_count": 33,
   "id": "b6c2ee2c",
   "metadata": {
    "execution": {
     "iopub.execute_input": "2025-06-26T19:33:16.215719Z",
     "iopub.status.busy": "2025-06-26T19:33:16.215361Z",
     "iopub.status.idle": "2025-06-26T19:33:16.221795Z",
     "shell.execute_reply": "2025-06-26T19:33:16.221091Z"
    },
    "papermill": {
     "duration": 0.026449,
     "end_time": "2025-06-26T19:33:16.223215",
     "exception": false,
     "start_time": "2025-06-26T19:33:16.196766",
     "status": "completed"
    },
    "tags": []
   },
   "outputs": [
    {
     "data": {
      "text/plain": [
       "torch.Size([1, 10, 62, 62])"
      ]
     },
     "execution_count": 33,
     "metadata": {},
     "output_type": "execute_result"
    }
   ],
   "source": [
    "img.shape\n",
    "img.unsqueeze(0).shape\n",
    "\n",
    "conv_layer(img.unsqueeze(0)).shape\n",
    "\n"
   ]
  },
  {
   "cell_type": "markdown",
   "id": "b18a1175",
   "metadata": {
    "papermill": {
     "duration": 0.017615,
     "end_time": "2025-06-26T19:33:16.258812",
     "exception": false,
     "start_time": "2025-06-26T19:33:16.241197",
     "status": "completed"
    },
    "tags": []
   },
   "source": [
    "Change the value of conv_layer"
   ]
  },
  {
   "cell_type": "code",
   "execution_count": 34,
   "id": "08116033",
   "metadata": {
    "execution": {
     "iopub.execute_input": "2025-06-26T19:33:16.294768Z",
     "iopub.status.busy": "2025-06-26T19:33:16.294037Z",
     "iopub.status.idle": "2025-06-26T19:33:16.366978Z",
     "shell.execute_reply": "2025-06-26T19:33:16.366126Z"
    },
    "papermill": {
     "duration": 0.092825,
     "end_time": "2025-06-26T19:33:16.368780",
     "exception": false,
     "start_time": "2025-06-26T19:33:16.275955",
     "status": "completed"
    },
    "tags": []
   },
   "outputs": [
    {
     "data": {
      "text/plain": [
       "(torch.Size([3, 64, 64]), torch.Size([1, 10, 60, 60]))"
      ]
     },
     "execution_count": 34,
     "metadata": {},
     "output_type": "execute_result"
    }
   ],
   "source": [
    "torch.manual_seed(42)\n",
    "\n",
    "image=torch.randn(size=(32,3,64,64))\n",
    "img=image[0]\n",
    "conv_layer_2=nn.Conv2d(\n",
    "    in_channels=3,\n",
    "    out_channels=10,\n",
    "    kernel_size=5,\n",
    "    stride=1,\n",
    "    padding=0 \n",
    ")\n",
    "img.shape,conv_layer_2(img.unsqueeze(dim=0)).shape\n"
   ]
  },
  {
   "cell_type": "code",
   "execution_count": 35,
   "id": "b747ac1d",
   "metadata": {
    "execution": {
     "iopub.execute_input": "2025-06-26T19:33:16.406286Z",
     "iopub.status.busy": "2025-06-26T19:33:16.405946Z",
     "iopub.status.idle": "2025-06-26T19:33:16.411788Z",
     "shell.execute_reply": "2025-06-26T19:33:16.410880Z"
    },
    "papermill": {
     "duration": 0.025637,
     "end_time": "2025-06-26T19:33:16.413282",
     "exception": false,
     "start_time": "2025-06-26T19:33:16.387645",
     "status": "completed"
    },
    "tags": []
   },
   "outputs": [
    {
     "data": {
      "text/plain": [
       "(torch.Size([10, 3, 5, 5]), torch.Size([10]))"
      ]
     },
     "execution_count": 35,
     "metadata": {},
     "output_type": "execute_result"
    }
   ],
   "source": [
    "conv_layer_2.weight.shape, conv_layer_2.bias.shape"
   ]
  },
  {
   "cell_type": "code",
   "execution_count": 36,
   "id": "a04159e2",
   "metadata": {
    "execution": {
     "iopub.execute_input": "2025-06-26T19:33:16.450608Z",
     "iopub.status.busy": "2025-06-26T19:33:16.450279Z",
     "iopub.status.idle": "2025-06-26T19:33:16.464839Z",
     "shell.execute_reply": "2025-06-26T19:33:16.463762Z"
    },
    "papermill": {
     "duration": 0.035652,
     "end_time": "2025-06-26T19:33:16.466479",
     "exception": false,
     "start_time": "2025-06-26T19:33:16.430827",
     "status": "completed"
    },
    "tags": []
   },
   "outputs": [
    {
     "data": {
      "text/plain": [
       "OrderedDict([('weight',\n",
       "              tensor([[[[-0.0588, -0.0559, -0.0394,  0.0326,  0.0167],\n",
       "                        [-0.0030, -0.0635,  0.0444,  0.0999, -0.1097],\n",
       "                        [-0.0050,  0.0225, -0.1087, -0.0346, -0.0486],\n",
       "                        [-0.0729, -0.0632,  0.0094,  0.0145,  0.1017],\n",
       "                        [ 0.0373, -0.0229, -0.0895, -0.1048,  0.0825]],\n",
       "              \n",
       "                       [[-0.0168, -0.0695, -0.0360, -0.0689,  0.0982],\n",
       "                        [-0.0821,  0.0309,  0.0390, -0.0527,  0.1034],\n",
       "                        [ 0.0160,  0.0223, -0.1150,  0.0393, -0.1148],\n",
       "                        [-0.0109,  0.0995,  0.0153,  0.0118,  0.0804],\n",
       "                        [-0.0927, -0.0541, -0.0824, -0.0480, -0.0271]],\n",
       "              \n",
       "                       [[ 0.0685,  0.0025,  0.0266, -0.0628, -0.1127],\n",
       "                        [-0.0248, -0.0883,  0.0273,  0.0500,  0.0844],\n",
       "                        [-0.0216,  0.0067, -0.0454, -0.0103, -0.0227],\n",
       "                        [ 0.0441,  0.0614,  0.0410, -0.0468,  0.0738],\n",
       "                        [ 0.0351, -0.0768,  0.0793,  0.0557, -0.0425]]],\n",
       "              \n",
       "              \n",
       "                      [[[-0.0126,  0.0634, -0.1100,  0.1099,  0.1006],\n",
       "                        [ 0.1063, -0.1015,  0.0070, -0.0169, -0.0804],\n",
       "                        [-0.0735,  0.0359,  0.1076,  0.0731, -0.0563],\n",
       "                        [-0.0646, -0.0292, -0.0452, -0.0151, -0.0853],\n",
       "                        [-0.0144, -0.0004,  0.0158,  0.0287, -0.0584]],\n",
       "              \n",
       "                       [[ 0.0181,  0.0718, -0.1147,  0.0423,  0.1092],\n",
       "                        [-0.0122,  0.1032,  0.0139,  0.0068,  0.0899],\n",
       "                        [-0.0610,  0.0095,  0.0031, -0.0297,  0.1133],\n",
       "                        [-0.0452,  0.0750,  0.0541, -0.0445,  0.0166],\n",
       "                        [-0.0044,  0.0408,  0.0598, -0.0167, -0.0063]],\n",
       "              \n",
       "                       [[ 0.0997,  0.0253,  0.0283, -0.0050,  0.1082],\n",
       "                        [ 0.0706,  0.0469, -0.0823, -0.0059, -0.0434],\n",
       "                        [-0.0239, -0.0134, -0.0212, -0.0636, -0.0272],\n",
       "                        [-0.0033, -0.0568, -0.0420, -0.0209,  0.0663],\n",
       "                        [ 0.0138,  0.0345,  0.0863,  0.0636, -0.0394]]],\n",
       "              \n",
       "              \n",
       "                      [[[-0.0598,  0.0154, -0.1033, -0.0662, -0.0921],\n",
       "                        [ 0.0591,  0.0122, -0.0869, -0.0961, -0.0832],\n",
       "                        [ 0.1035,  0.0255,  0.1130, -0.0098,  0.0478],\n",
       "                        [-0.0982,  0.0758,  0.0916,  0.0290,  0.1092],\n",
       "                        [ 0.0944, -0.0137, -0.0337,  0.0224, -0.0609]],\n",
       "              \n",
       "                       [[ 0.0628,  0.0139,  0.0799, -0.0437,  0.0744],\n",
       "                        [-0.1044, -0.0868, -0.0507, -0.1011,  0.0034],\n",
       "                        [-0.0742, -0.0917, -0.0682, -0.0336,  0.0577],\n",
       "                        [ 0.0496,  0.0461,  0.0342, -0.0931, -0.0177],\n",
       "                        [-0.0896,  0.0815,  0.0794,  0.0178,  0.0461]],\n",
       "              \n",
       "                       [[-0.0673, -0.0482, -0.0875, -0.0027, -0.0354],\n",
       "                        [-0.0235,  0.0715, -0.1023, -0.1132, -0.0844],\n",
       "                        [ 0.0966, -0.0493,  0.1135, -0.0777, -0.1052],\n",
       "                        [-0.0441, -0.0691,  0.0985, -0.0182,  0.0932],\n",
       "                        [ 0.0204, -0.0013,  0.0408, -0.1046, -0.0989]]],\n",
       "              \n",
       "              \n",
       "                      [[[ 0.0159, -0.0152, -0.0543,  0.0151,  0.0929],\n",
       "                        [-0.0670,  0.1092,  0.0391,  0.1070,  0.0693],\n",
       "                        [ 0.0026, -0.0528,  0.0216, -0.0159,  0.0796],\n",
       "                        [-0.0505,  0.0039,  0.0365,  0.0155,  0.0626],\n",
       "                        [-0.0678,  0.0612, -0.0595,  0.0111,  0.0837]],\n",
       "              \n",
       "                       [[ 0.0419,  0.0622,  0.0728, -0.0456,  0.0883],\n",
       "                        [ 0.0973, -0.0608,  0.0908, -0.1115, -0.0925],\n",
       "                        [-0.0729,  0.0359,  0.0031,  0.0682, -0.0640],\n",
       "                        [-0.0761,  0.1000, -0.0082, -0.0782,  0.0935],\n",
       "                        [-0.0097, -0.0127,  0.0681,  0.0271, -0.0161]],\n",
       "              \n",
       "                       [[-0.0570, -0.0654,  0.0871, -0.0514, -0.0530],\n",
       "                        [ 0.0866,  0.0745, -0.1121, -0.0582, -0.1143],\n",
       "                        [ 0.0624,  0.0621,  0.0549, -0.0324,  0.0742],\n",
       "                        [ 0.0553, -0.0306, -0.0376,  0.0070, -0.0838],\n",
       "                        [-0.0812, -0.0349,  0.0275, -0.0764,  0.0397]]],\n",
       "              \n",
       "              \n",
       "                      [[[ 0.0536, -0.1140,  0.0113, -0.0300,  0.0053],\n",
       "                        [-0.0713,  0.0405, -0.0324, -0.1004, -0.0004],\n",
       "                        [-0.0422,  0.0261, -0.0725,  0.0880,  0.0665],\n",
       "                        [ 0.1038, -0.1060,  0.0881,  0.0448, -0.0145],\n",
       "                        [-0.0541, -0.0341,  0.0853, -0.0367, -0.0418]],\n",
       "              \n",
       "                       [[ 0.0419,  0.0308,  0.0713,  0.0991,  0.0804],\n",
       "                        [-0.0126,  0.0699,  0.0485, -0.0590, -0.0076],\n",
       "                        [-0.0576, -0.0460, -0.0610,  0.0800, -0.0100],\n",
       "                        [ 0.0021, -0.1146, -0.0915,  0.1101,  0.0124],\n",
       "                        [-0.0877, -0.0233,  0.0179,  0.0600, -0.0551]],\n",
       "              \n",
       "                       [[ 0.0233,  0.0898,  0.0733, -0.0758, -0.0088],\n",
       "                        [ 0.0995,  0.0330,  0.1142, -0.1148,  0.0551],\n",
       "                        [ 0.0737, -0.0232, -0.0310,  0.0301,  0.0848],\n",
       "                        [ 0.0042,  0.0294, -0.0503, -0.0023, -0.0627],\n",
       "                        [-0.0915, -0.0018,  0.0129,  0.0666, -0.0997]]],\n",
       "              \n",
       "              \n",
       "                      [[[ 0.0866, -0.1064,  0.0327, -0.0478,  0.0870],\n",
       "                        [ 0.0654,  0.0236, -0.0827,  0.0662,  0.0550],\n",
       "                        [ 0.0447,  0.0488, -0.0561, -0.0234,  0.0705],\n",
       "                        [ 0.1053, -0.0808, -0.0931,  0.1088,  0.0153],\n",
       "                        [ 0.0533, -0.0461,  0.0980, -0.0992, -0.0677]],\n",
       "              \n",
       "                       [[-0.0841,  0.0088,  0.0502, -0.0649, -0.0728],\n",
       "                        [ 0.0927, -0.0406,  0.0844, -0.0688,  0.0365],\n",
       "                        [ 0.0420, -0.0363,  0.0423, -0.0623, -0.0850],\n",
       "                        [-0.0028,  0.1092, -0.0998, -0.0750,  0.0231],\n",
       "                        [-0.1082,  0.0437, -0.0514, -0.0919,  0.0748]],\n",
       "              \n",
       "                       [[-0.0502,  0.0781, -0.0814, -0.1144, -0.0172],\n",
       "                        [ 0.0004, -0.0204,  0.0892,  0.0890,  0.0371],\n",
       "                        [-0.0832, -0.0454, -0.0168, -0.0863,  0.0580],\n",
       "                        [ 0.0718,  0.0632,  0.0042, -0.0591,  0.0596],\n",
       "                        [-0.0868, -0.0303,  0.0083, -0.0752, -0.0239]]],\n",
       "              \n",
       "              \n",
       "                      [[[ 0.0897,  0.0042,  0.0255, -0.0993, -0.0288],\n",
       "                        [ 0.0547,  0.1016,  0.0841, -0.0015,  0.0833],\n",
       "                        [ 0.0576, -0.0754, -0.0140,  0.0833,  0.0872],\n",
       "                        [-0.0682, -0.0739, -0.0244,  0.0290,  0.1073],\n",
       "                        [-0.1079, -0.0846, -0.0095,  0.0777, -0.0269]],\n",
       "              \n",
       "                       [[-0.0608,  0.0063, -0.0118,  0.0533,  0.0067],\n",
       "                        [ 0.0307, -0.0011,  0.0184,  0.0550,  0.0693],\n",
       "                        [-0.1132,  0.0507, -0.0761, -0.1069,  0.0443],\n",
       "                        [-0.0423,  0.0566, -0.1001,  0.0690, -0.0901],\n",
       "                        [ 0.0273,  0.0236,  0.0927, -0.1057,  0.0940]],\n",
       "              \n",
       "                       [[ 0.0767,  0.0024, -0.1127,  0.0348, -0.0459],\n",
       "                        [ 0.0519,  0.0262, -0.0919,  0.0226,  0.0787],\n",
       "                        [ 0.0509,  0.0216,  0.0354, -0.0460, -0.0422],\n",
       "                        [-0.0920,  0.0050, -0.0478,  0.0595, -0.0913],\n",
       "                        [-0.0692,  0.0043, -0.0242,  0.0166, -0.0146]]],\n",
       "              \n",
       "              \n",
       "                      [[[-0.0666,  0.0067, -0.0396, -0.0329,  0.0901],\n",
       "                        [-0.0048,  0.0855,  0.0905,  0.1121, -0.0714],\n",
       "                        [ 0.0063, -0.0619,  0.1103,  0.0755, -0.1109],\n",
       "                        [ 0.0388,  0.0072,  0.0086, -0.0212,  0.0397],\n",
       "                        [-0.1092, -0.0804, -0.0988,  0.1131,  0.0309]],\n",
       "              \n",
       "                       [[-0.0180, -0.0660,  0.0086,  0.0033, -0.0661],\n",
       "                        [ 0.0277,  0.0352, -0.0239, -0.0207,  0.0471],\n",
       "                        [ 0.1082,  0.0880, -0.0905,  0.0831, -0.1117],\n",
       "                        [ 0.0446, -0.0558, -0.0395,  0.1014,  0.0202],\n",
       "                        [ 0.0521,  0.0517, -0.0153,  0.0905, -0.0650]],\n",
       "              \n",
       "                       [[-0.0959, -0.0107,  0.0833,  0.1132, -0.0176],\n",
       "                        [-0.1133,  0.0219, -0.0443, -0.0911, -0.0268],\n",
       "                        [-0.0947,  0.0024, -0.0381,  0.0809,  0.0834],\n",
       "                        [ 0.0825, -0.0586, -0.0719, -0.0066,  0.0112],\n",
       "                        [ 0.0362,  0.0025, -0.0187, -0.0163, -0.1084]]],\n",
       "              \n",
       "              \n",
       "                      [[[-0.0872,  0.0734,  0.0115,  0.1117, -0.1097],\n",
       "                        [-0.0357,  0.0537,  0.0330, -0.0192,  0.1117],\n",
       "                        [-0.0435, -0.0943,  0.1058,  0.1100, -0.0641],\n",
       "                        [ 0.0268,  0.0119, -0.1034,  0.0316, -0.1143],\n",
       "                        [ 0.0962,  0.0903, -0.0160, -0.0982, -0.0782]],\n",
       "              \n",
       "                       [[ 0.0366,  0.0360, -0.0382,  0.1063,  0.0205],\n",
       "                        [-0.0023,  0.0407,  0.0911, -0.0673, -0.0236],\n",
       "                        [ 0.1043,  0.0011, -0.0709,  0.1068, -0.0889],\n",
       "                        [-0.0354, -0.0997, -0.1041, -0.0145,  0.0978],\n",
       "                        [ 0.0782, -0.0797, -0.0626,  0.0729,  0.0020]],\n",
       "              \n",
       "                       [[-0.1029,  0.0425, -0.0017,  0.0913, -0.1132],\n",
       "                        [ 0.0647, -0.0680, -0.0760,  0.0983, -0.0241],\n",
       "                        [-0.1152, -0.0608,  0.0537,  0.0506, -0.1154],\n",
       "                        [-0.0221, -0.0310,  0.0974,  0.1145, -0.1063],\n",
       "                        [-0.1072, -0.0663, -0.0348,  0.0492, -0.0593]]],\n",
       "              \n",
       "              \n",
       "                      [[[-0.0089,  0.0613, -0.0715,  0.0516, -0.0833],\n",
       "                        [ 0.0535, -0.0369, -0.0978,  0.0941, -0.0416],\n",
       "                        [ 0.0492,  0.1147, -0.0563, -0.0193, -0.0662],\n",
       "                        [ 0.0540, -0.0978,  0.0676, -0.0402,  0.0126],\n",
       "                        [-0.0183, -0.0870,  0.0730,  0.0645, -0.0793]],\n",
       "              \n",
       "                       [[ 0.0342,  0.0345,  0.0558, -0.0995,  0.0164],\n",
       "                        [ 0.0140,  0.1001,  0.0429, -0.1017,  0.1087],\n",
       "                        [ 0.0690,  0.0377, -0.0806,  0.0354, -0.0453],\n",
       "                        [ 0.0850,  0.1115, -0.0353, -0.0335,  0.1003],\n",
       "                        [-0.0336,  0.0034, -0.0962,  0.1046,  0.0503]],\n",
       "              \n",
       "                       [[ 0.1093, -0.0359,  0.0647,  0.1115,  0.0324],\n",
       "                        [ 0.0841,  0.0313, -0.0499, -0.0090, -0.0881],\n",
       "                        [ 0.0444,  0.0436,  0.1022,  0.1106, -0.0463],\n",
       "                        [-0.0641,  0.0831, -0.1096, -0.0993,  0.0851],\n",
       "                        [-0.0879,  0.0680,  0.0139,  0.0450,  0.0284]]]])),\n",
       "             ('bias',\n",
       "              tensor([-0.0974, -0.0351, -0.0613,  0.0891,  0.0041,  0.0493, -0.0332,  0.0818,\n",
       "                       0.0827, -0.0394]))])"
      ]
     },
     "execution_count": 36,
     "metadata": {},
     "output_type": "execute_result"
    }
   ],
   "source": [
    "conv_layer_2.state_dict()"
   ]
  },
  {
   "cell_type": "markdown",
   "id": "1231026a",
   "metadata": {
    "papermill": {
     "duration": 0.018891,
     "end_time": "2025-06-26T19:33:16.503473",
     "exception": false,
     "start_time": "2025-06-26T19:33:16.484582",
     "status": "completed"
    },
    "tags": []
   },
   "source": [
    "Using ```nn.MaxPool2d()```"
   ]
  },
  {
   "cell_type": "code",
   "execution_count": 37,
   "id": "7a932c1d",
   "metadata": {
    "execution": {
     "iopub.execute_input": "2025-06-26T19:33:16.541785Z",
     "iopub.status.busy": "2025-06-26T19:33:16.541477Z",
     "iopub.status.idle": "2025-06-26T19:33:16.556960Z",
     "shell.execute_reply": "2025-06-26T19:33:16.555962Z"
    },
    "papermill": {
     "duration": 0.036181,
     "end_time": "2025-06-26T19:33:16.558836",
     "exception": false,
     "start_time": "2025-06-26T19:33:16.522655",
     "status": "completed"
    },
    "tags": []
   },
   "outputs": [
    {
     "name": "stdout",
     "output_type": "stream",
     "text": [
      "Original Image Shape torch.Size([3, 64, 64]) \n",
      "Image after unsqueeze torch.Size([1, 3, 64, 64]) \n",
      "shape after going through conv_2d torch.Size([1, 10, 60, 60])\n",
      "shape after going through conv_2d and max pool both torch.Size([1, 10, 30, 30])\n"
     ]
    }
   ],
   "source": [
    "torch.manual_seed(42)\n",
    "\n",
    "image=torch.randn(size=(32,3,64,64))\n",
    "\n",
    "test_img=image[0]\n",
    "\n",
    "print(f\"Original Image Shape {test_img.shape} \")\n",
    "print(f\"Image after unsqueeze {test_img.unsqueeze(dim=0).shape} \")\n",
    "\n",
    "max_pool_layer=nn.MaxPool2d(kernel_size=2)\n",
    "\n",
    "#pass data through conv_layer\n",
    "\n",
    "test_img_in_conv=conv_layer_2(test_img.unsqueeze(dim=0))\n",
    "print(f\"shape after going through conv_2d {test_img_in_conv.shape}\")\n",
    "\n",
    "img_after_going_maxpool=max_pool_layer(test_img_in_conv)\n",
    "\n",
    "print(f\"shape after going through conv_2d and max pool both {img_after_going_maxpool.shape}\")\n"
   ]
  },
  {
   "cell_type": "markdown",
   "id": "88b82a4f",
   "metadata": {
    "papermill": {
     "duration": 0.01817,
     "end_time": "2025-06-26T19:33:16.595847",
     "exception": false,
     "start_time": "2025-06-26T19:33:16.577677",
     "status": "completed"
    },
    "tags": []
   },
   "source": [
    "change the value of kernel size "
   ]
  },
  {
   "cell_type": "code",
   "execution_count": 38,
   "id": "4b79aa3e",
   "metadata": {
    "execution": {
     "iopub.execute_input": "2025-06-26T19:33:16.634222Z",
     "iopub.status.busy": "2025-06-26T19:33:16.633919Z",
     "iopub.status.idle": "2025-06-26T19:33:16.643013Z",
     "shell.execute_reply": "2025-06-26T19:33:16.642061Z"
    },
    "papermill": {
     "duration": 0.030349,
     "end_time": "2025-06-26T19:33:16.644553",
     "exception": false,
     "start_time": "2025-06-26T19:33:16.614204",
     "status": "completed"
    },
    "tags": []
   },
   "outputs": [
    {
     "name": "stdout",
     "output_type": "stream",
     "text": [
      "tensor([[[[0.2454, 0.2577, 0.3294, 0.6409, 0.5724, 0.4869],\n",
      "          [0.2252, 0.6921, 0.9325, 0.0251, 0.4783, 0.5975],\n",
      "          [0.0293, 0.3503, 0.2894, 0.1845, 0.2265, 0.5407],\n",
      "          [0.5630, 0.9405, 0.6614, 0.4008, 0.1126, 0.0461],\n",
      "          [0.8573, 0.4271, 0.1989, 0.3442, 0.2018, 0.9252],\n",
      "          [0.1443, 0.6340, 0.6687, 0.2718, 0.9479, 0.5692],\n",
      "          [0.5966, 0.0021, 0.6703, 0.0031, 0.4526, 0.9308],\n",
      "          [0.5661, 0.5512, 0.8481, 0.0988, 0.2659, 0.1434]]]])\n"
     ]
    },
    {
     "data": {
      "text/plain": [
       "torch.Size([1, 1, 4, 3])"
      ]
     },
     "execution_count": 38,
     "metadata": {},
     "output_type": "execute_result"
    }
   ],
   "source": [
    "# torch.manual_seed(42)\n",
    "\n",
    "img=torch.rand(size=(1,1,8,6))\n",
    "print(img)\n",
    "\n",
    "max_pool=nn.MaxPool2d(kernel_size=2)\n",
    "\n",
    "max_pool_pixel=max_pool(img)\n",
    "max_pool_pixel.shape"
   ]
  },
  {
   "cell_type": "markdown",
   "id": "17c087c8",
   "metadata": {
    "papermill": {
     "duration": 0.019552,
     "end_time": "2025-06-26T19:33:16.683395",
     "exception": false,
     "start_time": "2025-06-26T19:33:16.663843",
     "status": "completed"
    },
    "tags": []
   },
   "source": [
    "Create A Model for Convolution\n"
   ]
  },
  {
   "cell_type": "code",
   "execution_count": 39,
   "id": "ed30f2e7",
   "metadata": {
    "execution": {
     "iopub.execute_input": "2025-06-26T19:33:16.722081Z",
     "iopub.status.busy": "2025-06-26T19:33:16.721804Z",
     "iopub.status.idle": "2025-06-26T19:33:16.735849Z",
     "shell.execute_reply": "2025-06-26T19:33:16.734988Z"
    },
    "papermill": {
     "duration": 0.035553,
     "end_time": "2025-06-26T19:33:16.737899",
     "exception": false,
     "start_time": "2025-06-26T19:33:16.702346",
     "status": "completed"
    },
    "tags": []
   },
   "outputs": [
    {
     "data": {
      "text/plain": [
       "FashionMNISTModelV2(\n",
       "  (block_1): Sequential(\n",
       "    (0): Conv2d(1, 10, kernel_size=(3, 3), stride=(1, 1), padding=(1, 1))\n",
       "    (1): ReLU()\n",
       "    (2): Conv2d(10, 10, kernel_size=(3, 3), stride=(1, 1), padding=(1, 1))\n",
       "    (3): ReLU()\n",
       "    (4): MaxPool2d(kernel_size=2, stride=2, padding=0, dilation=1, ceil_mode=False)\n",
       "  )\n",
       "  (block_2): Sequential(\n",
       "    (0): Conv2d(10, 10, kernel_size=(3, 3), stride=(1, 1), padding=(1, 1))\n",
       "    (1): ReLU()\n",
       "    (2): Conv2d(10, 10, kernel_size=(3, 3), stride=(1, 1), padding=(1, 1))\n",
       "    (3): ReLU()\n",
       "    (4): MaxPool2d(kernel_size=2, stride=2, padding=0, dilation=1, ceil_mode=False)\n",
       "  )\n",
       "  (classifier): Sequential(\n",
       "    (0): Flatten(start_dim=1, end_dim=-1)\n",
       "    (1): Linear(in_features=490, out_features=10, bias=True)\n",
       "  )\n",
       ")"
      ]
     },
     "execution_count": 39,
     "metadata": {},
     "output_type": "execute_result"
    }
   ],
   "source": [
    "class FashionMNISTModelV2(nn.Module):\n",
    "    \"\"\"\n",
    "    Model architecture copying TinyVGG from: \n",
    "    https://poloclub.github.io/cnn-explainer/\n",
    "    \"\"\"\n",
    "    def __init__(self, input_shape: int, hidden_units: int, output_shape: int):\n",
    "        super().__init__()\n",
    "        self.block_1 = nn.Sequential(\n",
    "            nn.Conv2d(in_channels=input_shape, \n",
    "                      out_channels=hidden_units, \n",
    "                      kernel_size=3, # how big is the square that's going over the image?\n",
    "                      stride=1, # default\n",
    "                      padding=1),# options = \"valid\" (no padding) or \"same\" (output has same shape as input) or int for specific number \n",
    "            nn.ReLU(),\n",
    "            nn.Conv2d(in_channels=hidden_units, \n",
    "                      out_channels=hidden_units,\n",
    "                      kernel_size=3,\n",
    "                      stride=1,\n",
    "                      padding=1),\n",
    "            nn.ReLU(),\n",
    "            nn.MaxPool2d(kernel_size=2,\n",
    "                         stride=2) # default stride value is same as kernel_size\n",
    "        )\n",
    "        self.block_2 = nn.Sequential(\n",
    "            nn.Conv2d(hidden_units, hidden_units, 3, padding=1),\n",
    "            nn.ReLU(),\n",
    "            nn.Conv2d(hidden_units, hidden_units, 3, padding=1),\n",
    "            nn.ReLU(),\n",
    "            nn.MaxPool2d(2)\n",
    "        )\n",
    "        self.classifier = nn.Sequential(\n",
    "            nn.Flatten(),\n",
    "            # Where did this in_features shape come from? \n",
    "            # It's because each layer of our network compresses and changes the shape of our input data.\n",
    "            nn.Linear(in_features=hidden_units*7*7, \n",
    "                      out_features=output_shape)\n",
    "        )\n",
    "    \n",
    "    def forward(self, x: torch.Tensor):\n",
    "        x = self.block_1(x)\n",
    "        # print(x.shape)\n",
    "        x = self.block_2(x)\n",
    "        # print(x.shape)\n",
    "        x = self.classifier(x)\n",
    "        # print(x.shape)\n",
    "        return x\n",
    "\n",
    "torch.manual_seed(42)\n",
    "model_2 = FashionMNISTModelV2(input_shape=1, \n",
    "    hidden_units=10, \n",
    "    output_shape=len(class_name)).to(device)\n",
    "model_2"
   ]
  },
  {
   "cell_type": "markdown",
   "id": "9513f31e",
   "metadata": {
    "papermill": {
     "duration": 0.025397,
     "end_time": "2025-06-26T19:33:16.782842",
     "exception": false,
     "start_time": "2025-06-26T19:33:16.757445",
     "status": "completed"
    },
    "tags": []
   },
   "source": [
    "Set Loss Function"
   ]
  },
  {
   "cell_type": "code",
   "execution_count": 40,
   "id": "083c459f",
   "metadata": {
    "execution": {
     "iopub.execute_input": "2025-06-26T19:33:16.825399Z",
     "iopub.status.busy": "2025-06-26T19:33:16.825059Z",
     "iopub.status.idle": "2025-06-26T19:33:16.831100Z",
     "shell.execute_reply": "2025-06-26T19:33:16.829356Z"
    },
    "papermill": {
     "duration": 0.031217,
     "end_time": "2025-06-26T19:33:16.833583",
     "exception": false,
     "start_time": "2025-06-26T19:33:16.802366",
     "status": "completed"
    },
    "tags": []
   },
   "outputs": [],
   "source": [
    "loss_fn=nn.CrossEntropyLoss()\n",
    "\n",
    "optimizer=torch.optim.SGD(params=model_2.parameters(), lr=0.01)\n",
    "\n"
   ]
  },
  {
   "cell_type": "code",
   "execution_count": 41,
   "id": "9f990d73",
   "metadata": {
    "execution": {
     "iopub.execute_input": "2025-06-26T19:33:16.871997Z",
     "iopub.status.busy": "2025-06-26T19:33:16.871699Z",
     "iopub.status.idle": "2025-06-26T19:35:02.741617Z",
     "shell.execute_reply": "2025-06-26T19:35:02.740108Z"
    },
    "papermill": {
     "duration": 105.891091,
     "end_time": "2025-06-26T19:35:02.743630",
     "exception": false,
     "start_time": "2025-06-26T19:33:16.852539",
     "status": "completed"
    },
    "tags": []
   },
   "outputs": [
    {
     "data": {
      "application/vnd.jupyter.widget-view+json": {
       "model_id": "16f6d57959ec4b9bbd5b8d1ecfe59a6e",
       "version_major": 2,
       "version_minor": 0
      },
      "text/plain": [
       "  0%|          | 0/3 [00:00<?, ?it/s]"
      ]
     },
     "metadata": {},
     "output_type": "display_data"
    },
    {
     "name": "stdout",
     "output_type": "stream",
     "text": [
      "Epoch: 0\n",
      "---------\n",
      "Train loss: 1.03781 | Train accuracy: 62.34%\n",
      "Test loss: 0.62514 | Test accuracy: 76.90%\n",
      "\n",
      "Epoch: 1\n",
      "---------\n",
      "Train loss: 0.54922 | Train accuracy: 79.98%\n",
      "Test loss: 0.49797 | Test accuracy: 81.57%\n",
      "\n",
      "Epoch: 2\n",
      "---------\n",
      "Train loss: 0.45583 | Train accuracy: 83.52%\n",
      "Test loss: 0.44065 | Test accuracy: 84.21%\n",
      "\n",
      "Train time on cpu: 105.860 seconds\n"
     ]
    }
   ],
   "source": [
    "torch.manual_seed(42)\n",
    "\n",
    "from timeit import default_timer as timer\n",
    "train_time_start_model_2 = timer()\n",
    "\n",
    "epochs = 3\n",
    "for epoch in tqdm(range(epochs)):\n",
    "    print(f\"Epoch: {epoch}\\n---------\")\n",
    "    train_step(data_loader=train_dataloader, \n",
    "        model=model_2, \n",
    "        loss_fn=loss_fn,\n",
    "        optimizer=optimizer,\n",
    "        accuracy_fn=accuracy_fn,\n",
    "        device=device\n",
    "    )\n",
    "    test_step(data_loader=test_dataloader,\n",
    "        model=model_2,\n",
    "        loss_fn=loss_fn,\n",
    "        accuracy_fn=accuracy_fn,\n",
    "        device=device\n",
    "    )\n",
    "\n",
    "train_time_end_model_2 = timer()\n",
    "total_train_time_model_2 = print_train_time(start=train_time_start_model_2,\n",
    "                                           end=train_time_end_model_2,\n",
    "                                           device=device)"
   ]
  },
  {
   "cell_type": "code",
   "execution_count": 42,
   "id": "bf9553be",
   "metadata": {
    "execution": {
     "iopub.execute_input": "2025-06-26T19:35:02.785743Z",
     "iopub.status.busy": "2025-06-26T19:35:02.785453Z",
     "iopub.status.idle": "2025-06-26T19:35:05.544260Z",
     "shell.execute_reply": "2025-06-26T19:35:05.543360Z"
    },
    "papermill": {
     "duration": 2.780891,
     "end_time": "2025-06-26T19:35:05.545896",
     "exception": false,
     "start_time": "2025-06-26T19:35:02.765005",
     "status": "completed"
    },
    "tags": []
   },
   "outputs": [
    {
     "data": {
      "text/plain": [
       "{'model_name': 'FashionMNISTModelV2',\n",
       " 'model_loss': 0.44064682722091675,\n",
       " 'model_acc': 84.20527156549521}"
      ]
     },
     "execution_count": 42,
     "metadata": {},
     "output_type": "execute_result"
    }
   ],
   "source": [
    "model_2_results = eval_model(\n",
    "    model=model_2,\n",
    "    data_loader=test_dataloader,\n",
    "    loss_fn=loss_fn,\n",
    "    accuracy_fn=accuracy_fn\n",
    ")\n",
    "model_2_results\n"
   ]
  },
  {
   "cell_type": "code",
   "execution_count": 43,
   "id": "b7a1d1e1",
   "metadata": {
    "execution": {
     "iopub.execute_input": "2025-06-26T19:35:05.584901Z",
     "iopub.status.busy": "2025-06-26T19:35:05.584571Z",
     "iopub.status.idle": "2025-06-26T19:35:05.613098Z",
     "shell.execute_reply": "2025-06-26T19:35:05.612300Z"
    },
    "papermill": {
     "duration": 0.049701,
     "end_time": "2025-06-26T19:35:05.614608",
     "exception": false,
     "start_time": "2025-06-26T19:35:05.564907",
     "status": "completed"
    },
    "tags": []
   },
   "outputs": [
    {
     "data": {
      "text/html": [
       "<div>\n",
       "<style scoped>\n",
       "    .dataframe tbody tr th:only-of-type {\n",
       "        vertical-align: middle;\n",
       "    }\n",
       "\n",
       "    .dataframe tbody tr th {\n",
       "        vertical-align: top;\n",
       "    }\n",
       "\n",
       "    .dataframe thead th {\n",
       "        text-align: right;\n",
       "    }\n",
       "</style>\n",
       "<table border=\"1\" class=\"dataframe\">\n",
       "  <thead>\n",
       "    <tr style=\"text-align: right;\">\n",
       "      <th></th>\n",
       "      <th>model_name</th>\n",
       "      <th>model_loss</th>\n",
       "      <th>model_acc</th>\n",
       "    </tr>\n",
       "  </thead>\n",
       "  <tbody>\n",
       "    <tr>\n",
       "      <th>0</th>\n",
       "      <td>FashionV0</td>\n",
       "      <td>0.476639</td>\n",
       "      <td>83.426518</td>\n",
       "    </tr>\n",
       "    <tr>\n",
       "      <th>1</th>\n",
       "      <td>FasionV1</td>\n",
       "      <td>0.980732</td>\n",
       "      <td>69.209265</td>\n",
       "    </tr>\n",
       "    <tr>\n",
       "      <th>2</th>\n",
       "      <td>FashionMNISTModelV2</td>\n",
       "      <td>0.440647</td>\n",
       "      <td>84.205272</td>\n",
       "    </tr>\n",
       "  </tbody>\n",
       "</table>\n",
       "</div>"
      ],
      "text/plain": [
       "            model_name  model_loss  model_acc\n",
       "0            FashionV0    0.476639  83.426518\n",
       "1             FasionV1    0.980732  69.209265\n",
       "2  FashionMNISTModelV2    0.440647  84.205272"
      ]
     },
     "execution_count": 43,
     "metadata": {},
     "output_type": "execute_result"
    }
   ],
   "source": [
    "import pandas as pd\n",
    "compare_results = pd.DataFrame([model_0_results, model_1_results, model_2_results])\n",
    "compare_results"
   ]
  },
  {
   "cell_type": "code",
   "execution_count": 44,
   "id": "06296335",
   "metadata": {
    "execution": {
     "iopub.execute_input": "2025-06-26T19:35:05.653998Z",
     "iopub.status.busy": "2025-06-26T19:35:05.653713Z",
     "iopub.status.idle": "2025-06-26T19:35:05.666221Z",
     "shell.execute_reply": "2025-06-26T19:35:05.664986Z"
    },
    "papermill": {
     "duration": 0.034149,
     "end_time": "2025-06-26T19:35:05.667962",
     "exception": false,
     "start_time": "2025-06-26T19:35:05.633813",
     "status": "completed"
    },
    "tags": []
   },
   "outputs": [
    {
     "data": {
      "text/html": [
       "<div>\n",
       "<style scoped>\n",
       "    .dataframe tbody tr th:only-of-type {\n",
       "        vertical-align: middle;\n",
       "    }\n",
       "\n",
       "    .dataframe tbody tr th {\n",
       "        vertical-align: top;\n",
       "    }\n",
       "\n",
       "    .dataframe thead th {\n",
       "        text-align: right;\n",
       "    }\n",
       "</style>\n",
       "<table border=\"1\" class=\"dataframe\">\n",
       "  <thead>\n",
       "    <tr style=\"text-align: right;\">\n",
       "      <th></th>\n",
       "      <th>model_name</th>\n",
       "      <th>model_loss</th>\n",
       "      <th>model_acc</th>\n",
       "      <th>training_time</th>\n",
       "    </tr>\n",
       "  </thead>\n",
       "  <tbody>\n",
       "    <tr>\n",
       "      <th>0</th>\n",
       "      <td>FashionV0</td>\n",
       "      <td>0.476639</td>\n",
       "      <td>83.426518</td>\n",
       "      <td>30.073443</td>\n",
       "    </tr>\n",
       "    <tr>\n",
       "      <th>1</th>\n",
       "      <td>FasionV1</td>\n",
       "      <td>0.980732</td>\n",
       "      <td>69.209265</td>\n",
       "      <td>30.127042</td>\n",
       "    </tr>\n",
       "    <tr>\n",
       "      <th>2</th>\n",
       "      <td>FashionMNISTModelV2</td>\n",
       "      <td>0.440647</td>\n",
       "      <td>84.205272</td>\n",
       "      <td>105.860214</td>\n",
       "    </tr>\n",
       "  </tbody>\n",
       "</table>\n",
       "</div>"
      ],
      "text/plain": [
       "            model_name  model_loss  model_acc  training_time\n",
       "0            FashionV0    0.476639  83.426518      30.073443\n",
       "1             FasionV1    0.980732  69.209265      30.127042\n",
       "2  FashionMNISTModelV2    0.440647  84.205272     105.860214"
      ]
     },
     "execution_count": 44,
     "metadata": {},
     "output_type": "execute_result"
    }
   ],
   "source": [
    "# Add training times to results comparison\n",
    "compare_results[\"training_time\"] = [total_train_time_model_0,\n",
    "                                    total_train_time_model_1,\n",
    "                                    total_train_time_model_2]\n",
    "compare_results"
   ]
  },
  {
   "cell_type": "code",
   "execution_count": 45,
   "id": "b519367a",
   "metadata": {
    "execution": {
     "iopub.execute_input": "2025-06-26T19:35:05.709222Z",
     "iopub.status.busy": "2025-06-26T19:35:05.708897Z",
     "iopub.status.idle": "2025-06-26T19:35:05.931865Z",
     "shell.execute_reply": "2025-06-26T19:35:05.930848Z"
    },
    "papermill": {
     "duration": 0.245273,
     "end_time": "2025-06-26T19:35:05.933428",
     "exception": false,
     "start_time": "2025-06-26T19:35:05.688155",
     "status": "completed"
    },
    "tags": []
   },
   "outputs": [
    {
     "data": {
      "image/png": "[encoded data removed]",
      "text/plain": [
       "<Figure size 640x480 with 1 Axes>"
      ]
     },
     "metadata": {},
     "output_type": "display_data"
    }
   ],
   "source": [
    "# Visualize our model results\n",
    "compare_results.set_index(\"model_name\")[\"model_acc\"].plot(kind=\"barh\")\n",
    "plt.xlabel(\"accuracy (%)\")\n",
    "plt.ylabel(\"model\");"
   ]
  },
  {
   "cell_type": "code",
   "execution_count": 46,
   "id": "349b5369",
   "metadata": {
    "execution": {
     "iopub.execute_input": "2025-06-26T19:35:05.976088Z",
     "iopub.status.busy": "2025-06-26T19:35:05.975776Z",
     "iopub.status.idle": "2025-06-26T19:35:05.982378Z",
     "shell.execute_reply": "2025-06-26T19:35:05.981526Z"
    },
    "papermill": {
     "duration": 0.029961,
     "end_time": "2025-06-26T19:35:05.983909",
     "exception": false,
     "start_time": "2025-06-26T19:35:05.953948",
     "status": "completed"
    },
    "tags": []
   },
   "outputs": [],
   "source": [
    "def make_predictions(model: torch.nn.Module, data: list, device: torch.device = device):\n",
    "    pred_probs = []\n",
    "    model.eval()\n",
    "    with torch.inference_mode():\n",
    "        for sample in data:\n",
    "            # Prepare sample\n",
    "            sample = torch.unsqueeze(sample, dim=0).to(device) # Add an extra dimension and send sample to device\n",
    "\n",
    "            # Forward pass (model outputs raw logit)\n",
    "            pred_logit = model(sample)\n",
    "\n",
    "            # Get prediction probability (logit -> prediction probability)\n",
    "            pred_prob = torch.softmax(pred_logit.squeeze(), dim=0) # note: perform softmax on the \"logits\" dimension, not \"batch\" dimension (in this case we have a batch size of 1, so can perform on dim=0)\n",
    "\n",
    "            # Get pred_prob off GPU for further calculations\n",
    "            pred_probs.append(pred_prob.cpu())\n",
    "            \n",
    "    # Stack the pred_probs to turn list into a tensor\n",
    "    return torch.stack(pred_probs)"
   ]
  },
  {
   "cell_type": "code",
   "execution_count": 47,
   "id": "7cf7293c",
   "metadata": {
    "execution": {
     "iopub.execute_input": "2025-06-26T19:35:06.026223Z",
     "iopub.status.busy": "2025-06-26T19:35:06.025916Z",
     "iopub.status.idle": "2025-06-26T19:35:07.060066Z",
     "shell.execute_reply": "2025-06-26T19:35:07.058783Z"
    },
    "papermill": {
     "duration": 1.057402,
     "end_time": "2025-06-26T19:35:07.061739",
     "exception": false,
     "start_time": "2025-06-26T19:35:06.004337",
     "status": "completed"
    },
    "tags": []
   },
   "outputs": [
    {
     "name": "stdout",
     "output_type": "stream",
     "text": [
      "Test sample image shape: torch.Size([1, 28, 28])\n",
      "Test sample label: 5 (Sandal)\n"
     ]
    }
   ],
   "source": [
    "import random\n",
    "random.seed(42)\n",
    "test_samples = []\n",
    "test_labels = []\n",
    "for sample, label in random.sample(list(test_data), k=9):\n",
    "    test_samples.append(sample)\n",
    "    test_labels.append(label)\n",
    "\n",
    "# View the first test sample shape and label\n",
    "print(f\"Test sample image shape: {test_samples[0].shape}\\nTest sample label: {test_labels[0]} ({class_name[test_labels[0]]})\")"
   ]
  },
  {
   "cell_type": "code",
   "execution_count": 48,
   "id": "f4b06fd6",
   "metadata": {
    "execution": {
     "iopub.execute_input": "2025-06-26T19:35:07.103785Z",
     "iopub.status.busy": "2025-06-26T19:35:07.103473Z",
     "iopub.status.idle": "2025-06-26T19:35:07.117477Z",
     "shell.execute_reply": "2025-06-26T19:35:07.116468Z"
    },
    "papermill": {
     "duration": 0.036561,
     "end_time": "2025-06-26T19:35:07.119018",
     "exception": false,
     "start_time": "2025-06-26T19:35:07.082457",
     "status": "completed"
    },
    "tags": []
   },
   "outputs": [
    {
     "data": {
      "text/plain": [
       "tensor([[1.4324e-07, 2.5359e-08, 5.7486e-08, 5.4556e-08, 9.8744e-09, 9.6588e-01,\n",
       "         7.2408e-08, 6.6876e-05, 4.4195e-04, 3.3608e-02],\n",
       "        [3.3205e-02, 7.2896e-01, 7.8680e-04, 2.2406e-01, 8.6628e-03, 6.0395e-05,\n",
       "         3.3768e-03, 1.4139e-04, 7.3909e-04, 4.0419e-06]])"
      ]
     },
     "execution_count": 48,
     "metadata": {},
     "output_type": "execute_result"
    }
   ],
   "source": [
    "# Make predictions on test samples with model 2\n",
    "pred_probs= make_predictions(model=model_2, \n",
    "                             data=test_samples)\n",
    "\n",
    "# View first two prediction probabilities list\n",
    "pred_probs[:2]"
   ]
  },
  {
   "cell_type": "code",
   "execution_count": 49,
   "id": "d1e7e438",
   "metadata": {
    "execution": {
     "iopub.execute_input": "2025-06-26T19:35:07.159621Z",
     "iopub.status.busy": "2025-06-26T19:35:07.159330Z",
     "iopub.status.idle": "2025-06-26T19:35:07.171119Z",
     "shell.execute_reply": "2025-06-26T19:35:07.170299Z"
    },
    "papermill": {
     "duration": 0.0338,
     "end_time": "2025-06-26T19:35:07.172713",
     "exception": false,
     "start_time": "2025-06-26T19:35:07.138913",
     "status": "completed"
    },
    "tags": []
   },
   "outputs": [
    {
     "data": {
      "text/plain": [
       "tensor([[1.4324e-07, 2.5359e-08, 5.7486e-08, 5.4556e-08, 9.8744e-09, 9.6588e-01,\n",
       "         7.2408e-08, 6.6876e-05, 4.4195e-04, 3.3608e-02],\n",
       "        [3.3205e-02, 7.2896e-01, 7.8680e-04, 2.2406e-01, 8.6628e-03, 6.0395e-05,\n",
       "         3.3768e-03, 1.4139e-04, 7.3909e-04, 4.0419e-06]])"
      ]
     },
     "execution_count": 49,
     "metadata": {},
     "output_type": "execute_result"
    }
   ],
   "source": [
    "# Make predictions on test samples with model 2\n",
    "pred_probs= make_predictions(model=model_2, \n",
    "                             data=test_samples)\n",
    "\n",
    "# View first two prediction probabilities list\n",
    "pred_probs[:2]"
   ]
  },
  {
   "cell_type": "code",
   "execution_count": 50,
   "id": "c8cb244e",
   "metadata": {
    "execution": {
     "iopub.execute_input": "2025-06-26T19:35:07.214290Z",
     "iopub.status.busy": "2025-06-26T19:35:07.213933Z",
     "iopub.status.idle": "2025-06-26T19:35:07.221399Z",
     "shell.execute_reply": "2025-06-26T19:35:07.220339Z"
    },
    "papermill": {
     "duration": 0.029645,
     "end_time": "2025-06-26T19:35:07.223125",
     "exception": false,
     "start_time": "2025-06-26T19:35:07.193480",
     "status": "completed"
    },
    "tags": []
   },
   "outputs": [
    {
     "data": {
      "text/plain": [
       "([5, 1, 7, 4, 3, 0, 4, 7, 1], tensor([5, 1, 7, 2, 3, 0, 4, 7, 1]))"
      ]
     },
     "execution_count": 50,
     "metadata": {},
     "output_type": "execute_result"
    }
   ],
   "source": [
    "# Turn the prediction probabilities into prediction labels by taking the argmax()\n",
    "pred_classes = pred_probs.argmax(dim=1)\n",
    "pred_classes\n",
    "\n",
    "test_labels, pred_classes"
   ]
  },
  {
   "cell_type": "code",
   "execution_count": 51,
   "id": "1b478a6a",
   "metadata": {
    "execution": {
     "iopub.execute_input": "2025-06-26T19:35:07.267086Z",
     "iopub.status.busy": "2025-06-26T19:35:07.266780Z",
     "iopub.status.idle": "2025-06-26T19:35:07.917623Z",
     "shell.execute_reply": "2025-06-26T19:35:07.916643Z"
    },
    "papermill": {
     "duration": 0.674742,
     "end_time": "2025-06-26T19:35:07.919043",
     "exception": false,
     "start_time": "2025-06-26T19:35:07.244301",
     "status": "completed"
    },
    "tags": []
   },
   "outputs": [
    {
     "data": {
      "image/png": "[encoded data removed]",
      "text/plain": [
       "<Figure size 900x900 with 9 Axes>"
      ]
     },
     "metadata": {},
     "output_type": "display_data"
    }
   ],
   "source": [
    "# Plot predictions\n",
    "plt.figure(figsize=(9, 9))\n",
    "nrows = 3\n",
    "ncols = 3\n",
    "for i, sample in enumerate(test_samples):\n",
    "  # Create a subplot\n",
    "  plt.subplot(nrows, ncols, i+1)\n",
    "\n",
    "  # Plot the target image\n",
    "  plt.imshow(sample.squeeze(), cmap=\"gray\")\n",
    "\n",
    "  # Find the prediction label (in text form, e.g. \"Sandal\")\n",
    "  pred_label = class_name[pred_classes[i]]\n",
    "\n",
    "  # Get the truth label (in text form, e.g. \"T-shirt\")\n",
    "  truth_label = class_name[test_labels[i]] \n",
    "\n",
    "  # Create the title text of the plot\n",
    "  title_text = f\"Pred: {pred_label} | Truth: {truth_label}\"\n",
    "  \n",
    "  # Check for equality and change title colour accordingly\n",
    "  if pred_label == truth_label:\n",
    "      plt.title(title_text, fontsize=10, c=\"g\") # green text if correct\n",
    "  else:\n",
    "      plt.title(title_text, fontsize=10, c=\"r\") # red text if wrong\n",
    "  plt.axis(False);\n",
    "\n"
   ]
  }
 ],
 "metadata": {
  "kaggle": {
   "accelerator": "none",
   "dataSources": [],
   "dockerImageVersionId": 31040,
   "isGpuEnabled": false,
   "isInternetEnabled": true,
   "language": "python",
   "sourceType": "notebook"
  },
  "kernelspec": {
   "display_name": "Python 3",
   "language": "python",
   "name": "python3"
  },
  "language_info": {
   "codemirror_mode": {
    "name": "ipython",
    "version": 3
   },
   "file_extension": ".py",
   "mimetype": "text/x-python",
   "name": "python",
   "nbconvert_exporter": "python",
   "pygments_lexer": "ipython3",
   "version": "3.11.11"
  },
  "papermill": {
   "default_parameters": {},
   "duration": 232.349696,
   "end_time": "2025-06-26T19:35:11.375294",
   "environment_variables": {},
   "exception": null,
   "input_path": "__notebook__.ipynb",
   "output_path": "__notebook__.ipynb",
   "parameters": {},
   "start_time": "2025-06-26T19:31:19.025598",
   "version": "2.6.0"
  },
  "widgets": {
   "application/vnd.jupyter.widget-state+json": {
    "state": {
     "024ee29adc0140aab33ad3f1d621b17e": {
      "model_module": "@jupyter-widgets/controls",
      "model_module_version": "2.0.0",
      "model_name": "HTMLModel",
      "state": {
       "_dom_classes": [],
       "_model_module": "@jupyter-widgets/controls",
       "_model_module_version": "2.0.0",
       "_model_name": "HTMLModel",
       "_view_count": null,
       "_view_module": "@jupyter-widgets/controls",
       "_view_module_version": "2.0.0",
       "_view_name": "HTMLView",
       "description": "",
       "description_allow_html": false,
       "layout": "IPY_MODEL_09467d2caf9449978ad88206c04ef936",
       "placeholder": "​",
       "style": "IPY_MODEL_50b0ea42d55b4af29818f01cd591b20e",
       "tabbable": null,
       "tooltip": null,
       "value": "100%"
      }
     },
     "09467d2caf9449978ad88206c04ef936": {
      "model_module": "@jupyter-widgets/base",
      "model_module_version": "2.0.0",
      "model_name": "LayoutModel",
      "state": {
       "_model_module": "@jupyter-widgets/base",
       "_model_module_version": "2.0.0",
       "_model_name": "LayoutModel",
       "_view_count": null,
       "_view_module": "@jupyter-widgets/base",
       "_view_module_version": "2.0.0",
       "_view_name": "LayoutView",
       "align_content": null,
       "align_items": null,
       "align_self": null,
       "border_bottom": null,
       "border_left": null,
       "border_right": null,
       "border_top": null,
       "bottom": null,
       "display": null,
       "flex": null,
       "flex_flow": null,
       "grid_area": null,
       "grid_auto_columns": null,
       "grid_auto_flow": null,
       "grid_auto_rows": null,
       "grid_column": null,
       "grid_gap": null,
       "grid_row": null,
       "grid_template_areas": null,
       "grid_template_columns": null,
       "grid_template_rows": null,
       "height": null,
       "justify_content": null,
       "justify_items": null,
       "left": null,
       "margin": null,
       "max_height": null,
       "max_width": null,
       "min_height": null,
       "min_width": null,
       "object_fit": null,
       "object_position": null,
       "order": null,
       "overflow": null,
       "padding": null,
       "right": null,
       "top": null,
       "visibility": null,
       "width": null
      }
     },
     "123fcaf16962419da283c816828abeec": {
      "model_module": "@jupyter-widgets/base",
      "model_module_version": "2.0.0",
      "model_name": "LayoutModel",
      "state": {
       "_model_module": "@jupyter-widgets/base",
       "_model_module_version": "2.0.0",
       "_model_name": "LayoutModel",
       "_view_count": null,
       "_view_module": "@jupyter-widgets/base",
       "_view_module_version": "2.0.0",
       "_view_name": "LayoutView",
       "align_content": null,
       "align_items": null,
       "align_self": null,
       "border_bottom": null,
       "border_left": null,
       "border_right": null,
       "border_top": null,
       "bottom": null,
       "display": null,
       "flex": null,
       "flex_flow": null,
       "grid_area": null,
       "grid_auto_columns": null,
       "grid_auto_flow": null,
       "grid_auto_rows": null,
       "grid_column": null,
       "grid_gap": null,
       "grid_row": null,
       "grid_template_areas": null,
       "grid_template_columns": null,
       "grid_template_rows": null,
       "height": null,
       "justify_content": null,
       "justify_items": null,
       "left": null,
       "margin": null,
       "max_height": null,
       "max_width": null,
       "min_height": null,
       "min_width": null,
       "object_fit": null,
       "object_position": null,
       "order": null,
       "overflow": null,
       "padding": null,
       "right": null,
       "top": null,
       "visibility": null,
       "width": null
      }
     },
     "168f88b850544ef2b59ef8d408809106": {
      "model_module": "@jupyter-widgets/controls",
      "model_module_version": "2.0.0",
      "model_name": "HTMLStyleModel",
      "state": {
       "_model_module": "@jupyter-widgets/controls",
       "_model_module_version": "2.0.0",
       "_model_name": "HTMLStyleModel",
       "_view_count": null,
       "_view_module": "@jupyter-widgets/base",
       "_view_module_version": "2.0.0",
       "_view_name": "StyleView",
       "background": null,
       "description_width": "",
       "font_size": null,
       "text_color": null
      }
     },
     "16f6d57959ec4b9bbd5b8d1ecfe59a6e": {
      "model_module": "@jupyter-widgets/controls",
      "model_module_version": "2.0.0",
      "model_name": "HBoxModel",
      "state": {
       "_dom_classes": [],
       "_model_module": "@jupyter-widgets/controls",
       "_model_module_version": "2.0.0",
       "_model_name": "HBoxModel",
       "_view_count": null,
       "_view_module": "@jupyter-widgets/controls",
       "_view_module_version": "2.0.0",
       "_view_name": "HBoxView",
       "box_style": "",
       "children": [
        "IPY_MODEL_f9fa64db0a314480a0ca83e741dcac93",
        "IPY_MODEL_a3b853b1ef7446959e4a94944fa7b521",
        "IPY_MODEL_b38085e6ddb74e6aa3cb3f72a2059847"
       ],
       "layout": "IPY_MODEL_a757ea8b438843cab5a3efb717e68442",
       "tabbable": null,
       "tooltip": null
      }
     },
     "178f033c5fb645bf9b2f36bbcfa99dee": {
      "model_module": "@jupyter-widgets/base",
      "model_module_version": "2.0.0",
      "model_name": "LayoutModel",
      "state": {
       "_model_module": "@jupyter-widgets/base",
       "_model_module_version": "2.0.0",
       "_model_name": "LayoutModel",
       "_view_count": null,
       "_view_module": "@jupyter-widgets/base",
       "_view_module_version": "2.0.0",
       "_view_name": "LayoutView",
       "align_content": null,
       "align_items": null,
       "align_self": null,
       "border_bottom": null,
       "border_left": null,
       "border_right": null,
       "border_top": null,
       "bottom": null,
       "display": null,
       "flex": null,
       "flex_flow": null,
       "grid_area": null,
       "grid_auto_columns": null,
       "grid_auto_flow": null,
       "grid_auto_rows": null,
       "grid_column": null,
       "grid_gap": null,
       "grid_row": null,
       "grid_template_areas": null,
       "grid_template_columns": null,
       "grid_template_rows": null,
       "height": null,
       "justify_content": null,
       "justify_items": null,
       "left": null,
       "margin": null,
       "max_height": null,
       "max_width": null,
       "min_height": null,
       "min_width": null,
       "object_fit": null,
       "object_position": null,
       "order": null,
       "overflow": null,
       "padding": null,
       "right": null,
       "top": null,
       "visibility": null,
       "width": null
      }
     },
     "1b4d45a32eac45fbb4e702e9a969f57d": {
      "model_module": "@jupyter-widgets/base",
      "model_module_version": "2.0.0",
      "model_name": "LayoutModel",
      "state": {
       "_model_module": "@jupyter-widgets/base",
       "_model_module_version": "2.0.0",
       "_model_name": "LayoutModel",
       "_view_count": null,
       "_view_module": "@jupyter-widgets/base",
       "_view_module_version": "2.0.0",
       "_view_name": "LayoutView",
       "align_content": null,
       "align_items": null,
       "align_self": null,
       "border_bottom": null,
       "border_left": null,
       "border_right": null,
       "border_top": null,
       "bottom": null,
       "display": null,
       "flex": null,
       "flex_flow": null,
       "grid_area": null,
       "grid_auto_columns": null,
       "grid_auto_flow": null,
       "grid_auto_rows": null,
       "grid_column": null,
       "grid_gap": null,
       "grid_row": null,
       "grid_template_areas": null,
       "grid_template_columns": null,
       "grid_template_rows": null,
       "height": null,
       "justify_content": null,
       "justify_items": null,
       "left": null,
       "margin": null,
       "max_height": null,
       "max_width": null,
       "min_height": null,
       "min_width": null,
       "object_fit": null,
       "object_position": null,
       "order": null,
       "overflow": null,
       "padding": null,
       "right": null,
       "top": null,
       "visibility": null,
       "width": null
      }
     },
     "2097170ce433422ca5e478f1ce657adf": {
      "model_module": "@jupyter-widgets/controls",
      "model_module_version": "2.0.0",
      "model_name": "HTMLStyleModel",
      "state": {
       "_model_module": "@jupyter-widgets/controls",
       "_model_module_version": "2.0.0",
       "_model_name": "HTMLStyleModel",
       "_view_count": null,
       "_view_module": "@jupyter-widgets/base",
       "_view_module_version": "2.0.0",
       "_view_name": "StyleView",
       "background": null,
       "description_width": "",
       "font_size": null,
       "text_color": null
      }
     },
     "222427a5381d49c39bf738617b1763f1": {
      "model_module": "@jupyter-widgets/base",
      "model_module_version": "2.0.0",
      "model_name": "LayoutModel",
      "state": {
       "_model_module": "@jupyter-widgets/base",
       "_model_module_version": "2.0.0",
       "_model_name": "LayoutModel",
       "_view_count": null,
       "_view_module": "@jupyter-widgets/base",
       "_view_module_version": "2.0.0",
       "_view_name": "LayoutView",
       "align_content": null,
       "align_items": null,
       "align_self": null,
       "border_bottom": null,
       "border_left": null,
       "border_right": null,
       "border_top": null,
       "bottom": null,
       "display": null,
       "flex": null,
       "flex_flow": null,
       "grid_area": null,
       "grid_auto_columns": null,
       "grid_auto_flow": null,
       "grid_auto_rows": null,
       "grid_column": null,
       "grid_gap": null,
       "grid_row": null,
       "grid_template_areas": null,
       "grid_template_columns": null,
       "grid_template_rows": null,
       "height": null,
       "justify_content": null,
       "justify_items": null,
       "left": null,
       "margin": null,
       "max_height": null,
       "max_width": null,
       "min_height": null,
       "min_width": null,
       "object_fit": null,
       "object_position": null,
       "order": null,
       "overflow": null,
       "padding": null,
       "right": null,
       "top": null,
       "visibility": null,
       "width": null
      }
     },
     "2340804c8d864d089130834c5b4333b2": {
      "model_module": "@jupyter-widgets/base",
      "model_module_version": "2.0.0",
      "model_name": "LayoutModel",
      "state": {
       "_model_module": "@jupyter-widgets/base",
       "_model_module_version": "2.0.0",
       "_model_name": "LayoutModel",
       "_view_count": null,
       "_view_module": "@jupyter-widgets/base",
       "_view_module_version": "2.0.0",
       "_view_name": "LayoutView",
       "align_content": null,
       "align_items": null,
       "align_self": null,
       "border_bottom": null,
       "border_left": null,
       "border_right": null,
       "border_top": null,
       "bottom": null,
       "display": null,
       "flex": null,
       "flex_flow": null,
       "grid_area": null,
       "grid_auto_columns": null,
       "grid_auto_flow": null,
       "grid_auto_rows": null,
       "grid_column": null,
       "grid_gap": null,
       "grid_row": null,
       "grid_template_areas": null,
       "grid_template_columns": null,
       "grid_template_rows": null,
       "height": null,
       "justify_content": null,
       "justify_items": null,
       "left": null,
       "margin": null,
       "max_height": null,
       "max_width": null,
       "min_height": null,
       "min_width": null,
       "object_fit": null,
       "object_position": null,
       "order": null,
       "overflow": null,
       "padding": null,
       "right": null,
       "top": null,
       "visibility": null,
       "width": null
      }
     },
     "28f03ed64ed546fa9fd7d8e403ae1fc2": {
      "model_module": "@jupyter-widgets/controls",
      "model_module_version": "2.0.0",
      "model_name": "HBoxModel",
      "state": {
       "_dom_classes": [],
       "_model_module": "@jupyter-widgets/controls",
       "_model_module_version": "2.0.0",
       "_model_name": "HBoxModel",
       "_view_count": null,
       "_view_module": "@jupyter-widgets/controls",
       "_view_module_version": "2.0.0",
       "_view_name": "HBoxView",
       "box_style": "",
       "children": [
        "IPY_MODEL_c2a9dfce66074d449092921f43577cf2",
        "IPY_MODEL_6efce0e551794c508cfcd1945c4bf18f",
        "IPY_MODEL_5c588883fdc047f59a9127993ffaaee9"
       ],
       "layout": "IPY_MODEL_aa6bebd7fea44b029c7b5bb9a0ea445a",
       "tabbable": null,
       "tooltip": null
      }
     },
     "2aa779767fd5404bb7bb2db8b8846393": {
      "model_module": "@jupyter-widgets/base",
      "model_module_version": "2.0.0",
      "model_name": "LayoutModel",
      "state": {
       "_model_module": "@jupyter-widgets/base",
       "_model_module_version": "2.0.0",
       "_model_name": "LayoutModel",
       "_view_count": null,
       "_view_module": "@jupyter-widgets/base",
       "_view_module_version": "2.0.0",
       "_view_name": "LayoutView",
       "align_content": null,
       "align_items": null,
       "align_self": null,
       "border_bottom": null,
       "border_left": null,
       "border_right": null,
       "border_top": null,
       "bottom": null,
       "display": null,
       "flex": null,
       "flex_flow": null,
       "grid_area": null,
       "grid_auto_columns": null,
       "grid_auto_flow": null,
       "grid_auto_rows": null,
       "grid_column": null,
       "grid_gap": null,
       "grid_row": null,
       "grid_template_areas": null,
       "grid_template_columns": null,
       "grid_template_rows": null,
       "height": null,
       "justify_content": null,
       "justify_items": null,
       "left": null,
       "margin": null,
       "max_height": null,
       "max_width": null,
       "min_height": null,
       "min_width": null,
       "object_fit": null,
       "object_position": null,
       "order": null,
       "overflow": null,
       "padding": null,
       "right": null,
       "top": null,
       "visibility": null,
       "width": null
      }
     },
     "322fa84040da42038228a76470de4504": {
      "model_module": "@jupyter-widgets/base",
      "model_module_version": "2.0.0",
      "model_name": "LayoutModel",
      "state": {
       "_model_module": "@jupyter-widgets/base",
       "_model_module_version": "2.0.0",
       "_model_name": "LayoutModel",
       "_view_count": null,
       "_view_module": "@jupyter-widgets/base",
       "_view_module_version": "2.0.0",
       "_view_name": "LayoutView",
       "align_content": null,
       "align_items": null,
       "align_self": null,
       "border_bottom": null,
       "border_left": null,
       "border_right": null,
       "border_top": null,
       "bottom": null,
       "display": null,
       "flex": null,
       "flex_flow": null,
       "grid_area": null,
       "grid_auto_columns": null,
       "grid_auto_flow": null,
       "grid_auto_rows": null,
       "grid_column": null,
       "grid_gap": null,
       "grid_row": null,
       "grid_template_areas": null,
       "grid_template_columns": null,
       "grid_template_rows": null,
       "height": null,
       "justify_content": null,
       "justify_items": null,
       "left": null,
       "margin": null,
       "max_height": null,
       "max_width": null,
       "min_height": null,
       "min_width": null,
       "object_fit": null,
       "object_position": null,
       "order": null,
       "overflow": null,
       "padding": null,
       "right": null,
       "top": null,
       "visibility": null,
       "width": null
      }
     },
     "368cec1ba8a349fbb7eb3109b1b9d728": {
      "model_module": "@jupyter-widgets/controls",
      "model_module_version": "2.0.0",
      "model_name": "HTMLStyleModel",
      "state": {
       "_model_module": "@jupyter-widgets/controls",
       "_model_module_version": "2.0.0",
       "_model_name": "HTMLStyleModel",
       "_view_count": null,
       "_view_module": "@jupyter-widgets/base",
       "_view_module_version": "2.0.0",
       "_view_name": "StyleView",
       "background": null,
       "description_width": "",
       "font_size": null,
       "text_color": null
      }
     },
     "445c85f737974ac19fc2d53e74693c2a": {
      "model_module": "@jupyter-widgets/controls",
      "model_module_version": "2.0.0",
      "model_name": "HBoxModel",
      "state": {
       "_dom_classes": [],
       "_model_module": "@jupyter-widgets/controls",
       "_model_module_version": "2.0.0",
       "_model_name": "HBoxModel",
       "_view_count": null,
       "_view_module": "@jupyter-widgets/controls",
       "_view_module_version": "2.0.0",
       "_view_name": "HBoxView",
       "box_style": "",
       "children": [
        "IPY_MODEL_6ed4a404163a41afa0655003d1162e27",
        "IPY_MODEL_a2269d57b7b345d193557e1212d813de",
        "IPY_MODEL_d82fc84bdf124359ae1e7f508e021cf4"
       ],
       "layout": "IPY_MODEL_e4510fb0c9af49678be5438b7b67b251",
       "tabbable": null,
       "tooltip": null
      }
     },
     "44fe04b835ee4404b9a686a579d4e55d": {
      "model_module": "@jupyter-widgets/controls",
      "model_module_version": "2.0.0",
      "model_name": "HTMLModel",
      "state": {
       "_dom_classes": [],
       "_model_module": "@jupyter-widgets/controls",
       "_model_module_version": "2.0.0",
       "_model_name": "HTMLModel",
       "_view_count": null,
       "_view_module": "@jupyter-widgets/controls",
       "_view_module_version": "2.0.0",
       "_view_name": "HTMLView",
       "description": "",
       "description_allow_html": false,
       "layout": "IPY_MODEL_2340804c8d864d089130834c5b4333b2",
       "placeholder": "​",
       "style": "IPY_MODEL_e84a6db43b4440b2b4abb7748a232e98",
       "tabbable": null,
       "tooltip": null,
       "value": ""
      }
     },
     "4cf15471c33b409aa0f50731da4edd09": {
      "model_module": "@jupyter-widgets/base",
      "model_module_version": "2.0.0",
      "model_name": "LayoutModel",
      "state": {
       "_model_module": "@jupyter-widgets/base",
       "_model_module_version": "2.0.0",
       "_model_name": "LayoutModel",
       "_view_count": null,
       "_view_module": "@jupyter-widgets/base",
       "_view_module_version": "2.0.0",
       "_view_name": "LayoutView",
       "align_content": null,
       "align_items": null,
       "align_self": null,
       "border_bottom": null,
       "border_left": null,
       "border_right": null,
       "border_top": null,
       "bottom": null,
       "display": null,
       "flex": null,
       "flex_flow": null,
       "grid_area": null,
       "grid_auto_columns": null,
       "grid_auto_flow": null,
       "grid_auto_rows": null,
       "grid_column": null,
       "grid_gap": null,
       "grid_row": null,
       "grid_template_areas": null,
       "grid_template_columns": null,
       "grid_template_rows": null,
       "height": null,
       "justify_content": null,
       "justify_items": null,
       "left": null,
       "margin": null,
       "max_height": null,
       "max_width": null,
       "min_height": null,
       "min_width": null,
       "object_fit": null,
       "object_position": null,
       "order": null,
       "overflow": null,
       "padding": null,
       "right": null,
       "top": null,
       "visibility": null,
       "width": null
      }
     },
     "4f2ee818c87d44c3813204c710f1974d": {
      "model_module": "@jupyter-widgets/controls",
      "model_module_version": "2.0.0",
      "model_name": "HBoxModel",
      "state": {
       "_dom_classes": [],
       "_model_module": "@jupyter-widgets/controls",
       "_model_module_version": "2.0.0",
       "_model_name": "HBoxModel",
       "_view_count": null,
       "_view_module": "@jupyter-widgets/controls",
       "_view_module_version": "2.0.0",
       "_view_name": "HBoxView",
       "box_style": "",
       "children": [
        "IPY_MODEL_93119837ff054241988f86b59ad92e66",
        "IPY_MODEL_a6fa2a4a328a4038b8242bb6afae9500",
        "IPY_MODEL_61d14a68eaf3491088cd5924b935874e"
       ],
       "layout": "IPY_MODEL_e4c64a25bffa4729a44c0bb26ab4191f",
       "tabbable": null,
       "tooltip": null
      }
     },
     "50b0ea42d55b4af29818f01cd591b20e": {
      "model_module": "@jupyter-widgets/controls",
      "model_module_version": "2.0.0",
      "model_name": "HTMLStyleModel",
      "state": {
       "_model_module": "@jupyter-widgets/controls",
       "_model_module_version": "2.0.0",
       "_model_name": "HTMLStyleModel",
       "_view_count": null,
       "_view_module": "@jupyter-widgets/base",
       "_view_module_version": "2.0.0",
       "_view_name": "StyleView",
       "background": null,
       "description_width": "",
       "font_size": null,
       "text_color": null
      }
     },
     "50dd858f5cc9408cbd8fc82191eedc48": {
      "model_module": "@jupyter-widgets/controls",
      "model_module_version": "2.0.0",
      "model_name": "ProgressStyleModel",
      "state": {
       "_model_module": "@jupyter-widgets/controls",
       "_model_module_version": "2.0.0",
       "_model_name": "ProgressStyleModel",
       "_view_count": null,
       "_view_module": "@jupyter-widgets/base",
       "_view_module_version": "2.0.0",
       "_view_name": "StyleView",
       "bar_color": null,
       "description_width": ""
      }
     },
     "558a5333d8b84f90bf7944a3db56d30c": {
      "model_module": "@jupyter-widgets/controls",
      "model_module_version": "2.0.0",
      "model_name": "HTMLStyleModel",
      "state": {
       "_model_module": "@jupyter-widgets/controls",
       "_model_module_version": "2.0.0",
       "_model_name": "HTMLStyleModel",
       "_view_count": null,
       "_view_module": "@jupyter-widgets/base",
       "_view_module_version": "2.0.0",
       "_view_name": "StyleView",
       "background": null,
       "description_width": "",
       "font_size": null,
       "text_color": null
      }
     },
     "5b09f4c8dbc748389163732ce7c41d4d": {
      "model_module": "@jupyter-widgets/controls",
      "model_module_version": "2.0.0",
      "model_name": "FloatProgressModel",
      "state": {
       "_dom_classes": [],
       "_model_module": "@jupyter-widgets/controls",
       "_model_module_version": "2.0.0",
       "_model_name": "FloatProgressModel",
       "_view_count": null,
       "_view_module": "@jupyter-widgets/controls",
       "_view_module_version": "2.0.0",
       "_view_name": "ProgressView",
       "bar_style": "success",
       "description": "",
       "description_allow_html": false,
       "layout": "IPY_MODEL_123fcaf16962419da283c816828abeec",
       "max": 3.0,
       "min": 0.0,
       "orientation": "horizontal",
       "style": "IPY_MODEL_f60f6b244a654aae97d60c74a356ca5f",
       "tabbable": null,
       "tooltip": null,
       "value": 3.0
      }
     },
     "5c588883fdc047f59a9127993ffaaee9": {
      "model_module": "@jupyter-widgets/controls",
      "model_module_version": "2.0.0",
      "model_name": "HTMLModel",
      "state": {
       "_dom_classes": [],
       "_model_module": "@jupyter-widgets/controls",
       "_model_module_version": "2.0.0",
       "_model_name": "HTMLModel",
       "_view_count": null,
       "_view_module": "@jupyter-widgets/controls",
       "_view_module_version": "2.0.0",
       "_view_name": "HTMLView",
       "description": "",
       "description_allow_html": false,
       "layout": "IPY_MODEL_7e8bc6f369f0447180a1c6b4e5afb985",
       "placeholder": "​",
       "style": "IPY_MODEL_ad5d05506d1042b0945aa0080711b42b",
       "tabbable": null,
       "tooltip": null,
       "value": " 1875/? [00:08&lt;00:00, 216.70it/s]"
      }
     },
     "5f873e1a7851491e9c5430f135bdd500": {
      "model_module": "@jupyter-widgets/base",
      "model_module_version": "2.0.0",
      "model_name": "LayoutModel",
      "state": {
       "_model_module": "@jupyter-widgets/base",
       "_model_module_version": "2.0.0",
       "_model_name": "LayoutModel",
       "_view_count": null,
       "_view_module": "@jupyter-widgets/base",
       "_view_module_version": "2.0.0",
       "_view_name": "LayoutView",
       "align_content": null,
       "align_items": null,
       "align_self": null,
       "border_bottom": null,
       "border_left": null,
       "border_right": null,
       "border_top": null,
       "bottom": null,
       "display": null,
       "flex": null,
       "flex_flow": null,
       "grid_area": null,
       "grid_auto_columns": null,
       "grid_auto_flow": null,
       "grid_auto_rows": null,
       "grid_column": null,
       "grid_gap": null,
       "grid_row": null,
       "grid_template_areas": null,
       "grid_template_columns": null,
       "grid_template_rows": null,
       "height": null,
       "justify_content": null,
       "justify_items": null,
       "left": null,
       "margin": null,
       "max_height": null,
       "max_width": null,
       "min_height": null,
       "min_width": null,
       "object_fit": null,
       "object_position": null,
       "order": null,
       "overflow": null,
       "padding": null,
       "right": null,
       "top": null,
       "visibility": null,
       "width": "20px"
      }
     },
     "61d14a68eaf3491088cd5924b935874e": {
      "model_module": "@jupyter-widgets/controls",
      "model_module_version": "2.0.0",
      "model_name": "HTMLModel",
      "state": {
       "_dom_classes": [],
       "_model_module": "@jupyter-widgets/controls",
       "_model_module_version": "2.0.0",
       "_model_name": "HTMLModel",
       "_view_count": null,
       "_view_module": "@jupyter-widgets/controls",
       "_view_module_version": "2.0.0",
       "_view_name": "HTMLView",
       "description": "",
       "description_allow_html": false,
       "layout": "IPY_MODEL_1b4d45a32eac45fbb4e702e9a969f57d",
       "placeholder": "​",
       "style": "IPY_MODEL_aeeb7b9ec7bf4d348f63450c91bbed15",
       "tabbable": null,
       "tooltip": null,
       "value": " 3/3 [00:30&lt;00:00, 10.05s/it]"
      }
     },
     "642d776986ef4659aa2771b1b5b9806b": {
      "model_module": "@jupyter-widgets/controls",
      "model_module_version": "2.0.0",
      "model_name": "HBoxModel",
      "state": {
       "_dom_classes": [],
       "_model_module": "@jupyter-widgets/controls",
       "_model_module_version": "2.0.0",
       "_model_name": "HBoxModel",
       "_view_count": null,
       "_view_module": "@jupyter-widgets/controls",
       "_view_module_version": "2.0.0",
       "_view_name": "HBoxView",
       "box_style": "",
       "children": [
        "IPY_MODEL_44fe04b835ee4404b9a686a579d4e55d",
        "IPY_MODEL_db1e578e93844df798420c7b8bb64e23",
        "IPY_MODEL_ebad326703e54216a6ed102768ab4aa9"
       ],
       "layout": "IPY_MODEL_8ad4f88fd5f44d708e912b3aeceda05d",
       "tabbable": null,
       "tooltip": null
      }
     },
     "6ed4a404163a41afa0655003d1162e27": {
      "model_module": "@jupyter-widgets/controls",
      "model_module_version": "2.0.0",
      "model_name": "HTMLModel",
      "state": {
       "_dom_classes": [],
       "_model_module": "@jupyter-widgets/controls",
       "_model_module_version": "2.0.0",
       "_model_name": "HTMLModel",
       "_view_count": null,
       "_view_module": "@jupyter-widgets/controls",
       "_view_module_version": "2.0.0",
       "_view_name": "HTMLView",
       "description": "",
       "description_allow_html": false,
       "layout": "IPY_MODEL_178f033c5fb645bf9b2f36bbcfa99dee",
       "placeholder": "​",
       "style": "IPY_MODEL_8bdc0f0194a14c009cb57ba46e85432b",
       "tabbable": null,
       "tooltip": null,
       "value": ""
      }
     },
     "6efce0e551794c508cfcd1945c4bf18f": {
      "model_module": "@jupyter-widgets/controls",
      "model_module_version": "2.0.0",
      "model_name": "FloatProgressModel",
      "state": {
       "_dom_classes": [],
       "_model_module": "@jupyter-widgets/controls",
       "_model_module_version": "2.0.0",
       "_model_name": "FloatProgressModel",
       "_view_count": null,
       "_view_module": "@jupyter-widgets/controls",
       "_view_module_version": "2.0.0",
       "_view_name": "ProgressView",
       "bar_style": "success",
       "description": "",
       "description_allow_html": false,
       "layout": "IPY_MODEL_8efb6880e91243b8963ebfc1397f48aa",
       "max": 1.0,
       "min": 0.0,
       "orientation": "horizontal",
       "style": "IPY_MODEL_50dd858f5cc9408cbd8fc82191eedc48",
       "tabbable": null,
       "tooltip": null,
       "value": 1.0
      }
     },
     "7e8bc6f369f0447180a1c6b4e5afb985": {
      "model_module": "@jupyter-widgets/base",
      "model_module_version": "2.0.0",
      "model_name": "LayoutModel",
      "state": {
       "_model_module": "@jupyter-widgets/base",
       "_model_module_version": "2.0.0",
       "_model_name": "LayoutModel",
       "_view_count": null,
       "_view_module": "@jupyter-widgets/base",
       "_view_module_version": "2.0.0",
       "_view_name": "LayoutView",
       "align_content": null,
       "align_items": null,
       "align_self": null,
       "border_bottom": null,
       "border_left": null,
       "border_right": null,
       "border_top": null,
       "bottom": null,
       "display": null,
       "flex": null,
       "flex_flow": null,
       "grid_area": null,
       "grid_auto_columns": null,
       "grid_auto_flow": null,
       "grid_auto_rows": null,
       "grid_column": null,
       "grid_gap": null,
       "grid_row": null,
       "grid_template_areas": null,
       "grid_template_columns": null,
       "grid_template_rows": null,
       "height": null,
       "justify_content": null,
       "justify_items": null,
       "left": null,
       "margin": null,
       "max_height": null,
       "max_width": null,
       "min_height": null,
       "min_width": null,
       "object_fit": null,
       "object_position": null,
       "order": null,
       "overflow": null,
       "padding": null,
       "right": null,
       "top": null,
       "visibility": null,
       "width": null
      }
     },
     "852107f6d80345e9a0c5c27582b192d8": {
      "model_module": "@jupyter-widgets/base",
      "model_module_version": "2.0.0",
      "model_name": "LayoutModel",
      "state": {
       "_model_module": "@jupyter-widgets/base",
       "_model_module_version": "2.0.0",
       "_model_name": "LayoutModel",
       "_view_count": null,
       "_view_module": "@jupyter-widgets/base",
       "_view_module_version": "2.0.0",
       "_view_name": "LayoutView",
       "align_content": null,
       "align_items": null,
       "align_self": null,
       "border_bottom": null,
       "border_left": null,
       "border_right": null,
       "border_top": null,
       "bottom": null,
       "display": null,
       "flex": null,
       "flex_flow": null,
       "grid_area": null,
       "grid_auto_columns": null,
       "grid_auto_flow": null,
       "grid_auto_rows": null,
       "grid_column": null,
       "grid_gap": null,
       "grid_row": null,
       "grid_template_areas": null,
       "grid_template_columns": null,
       "grid_template_rows": null,
       "height": null,
       "justify_content": null,
       "justify_items": null,
       "left": null,
       "margin": null,
       "max_height": null,
       "max_width": null,
       "min_height": null,
       "min_width": null,
       "object_fit": null,
       "object_position": null,
       "order": null,
       "overflow": null,
       "padding": null,
       "right": null,
       "top": null,
       "visibility": null,
       "width": null
      }
     },
     "8ad4f88fd5f44d708e912b3aeceda05d": {
      "model_module": "@jupyter-widgets/base",
      "model_module_version": "2.0.0",
      "model_name": "LayoutModel",
      "state": {
       "_model_module": "@jupyter-widgets/base",
       "_model_module_version": "2.0.0",
       "_model_name": "LayoutModel",
       "_view_count": null,
       "_view_module": "@jupyter-widgets/base",
       "_view_module_version": "2.0.0",
       "_view_name": "LayoutView",
       "align_content": null,
       "align_items": null,
       "align_self": null,
       "border_bottom": null,
       "border_left": null,
       "border_right": null,
       "border_top": null,
       "bottom": null,
       "display": null,
       "flex": null,
       "flex_flow": null,
       "grid_area": null,
       "grid_auto_columns": null,
       "grid_auto_flow": null,
       "grid_auto_rows": null,
       "grid_column": null,
       "grid_gap": null,
       "grid_row": null,
       "grid_template_areas": null,
       "grid_template_columns": null,
       "grid_template_rows": null,
       "height": null,
       "justify_content": null,
       "justify_items": null,
       "left": null,
       "margin": null,
       "max_height": null,
       "max_width": null,
       "min_height": null,
       "min_width": null,
       "object_fit": null,
       "object_position": null,
       "order": null,
       "overflow": null,
       "padding": null,
       "right": null,
       "top": null,
       "visibility": null,
       "width": null
      }
     },
     "8bdc0f0194a14c009cb57ba46e85432b": {
      "model_module": "@jupyter-widgets/controls",
      "model_module_version": "2.0.0",
      "model_name": "HTMLStyleModel",
      "state": {
       "_model_module": "@jupyter-widgets/controls",
       "_model_module_version": "2.0.0",
       "_model_name": "HTMLStyleModel",
       "_view_count": null,
       "_view_module": "@jupyter-widgets/base",
       "_view_module_version": "2.0.0",
       "_view_name": "StyleView",
       "background": null,
       "description_width": "",
       "font_size": null,
       "text_color": null
      }
     },
     "8efb6880e91243b8963ebfc1397f48aa": {
      "model_module": "@jupyter-widgets/base",
      "model_module_version": "2.0.0",
      "model_name": "LayoutModel",
      "state": {
       "_model_module": "@jupyter-widgets/base",
       "_model_module_version": "2.0.0",
       "_model_name": "LayoutModel",
       "_view_count": null,
       "_view_module": "@jupyter-widgets/base",
       "_view_module_version": "2.0.0",
       "_view_name": "LayoutView",
       "align_content": null,
       "align_items": null,
       "align_self": null,
       "border_bottom": null,
       "border_left": null,
       "border_right": null,
       "border_top": null,
       "bottom": null,
       "display": null,
       "flex": null,
       "flex_flow": null,
       "grid_area": null,
       "grid_auto_columns": null,
       "grid_auto_flow": null,
       "grid_auto_rows": null,
       "grid_column": null,
       "grid_gap": null,
       "grid_row": null,
       "grid_template_areas": null,
       "grid_template_columns": null,
       "grid_template_rows": null,
       "height": null,
       "justify_content": null,
       "justify_items": null,
       "left": null,
       "margin": null,
       "max_height": null,
       "max_width": null,
       "min_height": null,
       "min_width": null,
       "object_fit": null,
       "object_position": null,
       "order": null,
       "overflow": null,
       "padding": null,
       "right": null,
       "top": null,
       "visibility": null,
       "width": "20px"
      }
     },
     "905f85eaa69b49f0a569f13ba2082496": {
      "model_module": "@jupyter-widgets/base",
      "model_module_version": "2.0.0",
      "model_name": "LayoutModel",
      "state": {
       "_model_module": "@jupyter-widgets/base",
       "_model_module_version": "2.0.0",
       "_model_name": "LayoutModel",
       "_view_count": null,
       "_view_module": "@jupyter-widgets/base",
       "_view_module_version": "2.0.0",
       "_view_name": "LayoutView",
       "align_content": null,
       "align_items": null,
       "align_self": null,
       "border_bottom": null,
       "border_left": null,
       "border_right": null,
       "border_top": null,
       "bottom": null,
       "display": null,
       "flex": null,
       "flex_flow": null,
       "grid_area": null,
       "grid_auto_columns": null,
       "grid_auto_flow": null,
       "grid_auto_rows": null,
       "grid_column": null,
       "grid_gap": null,
       "grid_row": null,
       "grid_template_areas": null,
       "grid_template_columns": null,
       "grid_template_rows": null,
       "height": null,
       "justify_content": null,
       "justify_items": null,
       "left": null,
       "margin": null,
       "max_height": null,
       "max_width": null,
       "min_height": null,
       "min_width": null,
       "object_fit": null,
       "object_position": null,
       "order": null,
       "overflow": null,
       "padding": null,
       "right": null,
       "top": null,
       "visibility": null,
       "width": null
      }
     },
     "93119837ff054241988f86b59ad92e66": {
      "model_module": "@jupyter-widgets/controls",
      "model_module_version": "2.0.0",
      "model_name": "HTMLModel",
      "state": {
       "_dom_classes": [],
       "_model_module": "@jupyter-widgets/controls",
       "_model_module_version": "2.0.0",
       "_model_name": "HTMLModel",
       "_view_count": null,
       "_view_module": "@jupyter-widgets/controls",
       "_view_module_version": "2.0.0",
       "_view_name": "HTMLView",
       "description": "",
       "description_allow_html": false,
       "layout": "IPY_MODEL_4cf15471c33b409aa0f50731da4edd09",
       "placeholder": "​",
       "style": "IPY_MODEL_9a3b3c82a59f413a8a83c325e2a07fa6",
       "tabbable": null,
       "tooltip": null,
       "value": "100%"
      }
     },
     "955386cef01a41af885d4a3e1d60e6ba": {
      "model_module": "@jupyter-widgets/controls",
      "model_module_version": "2.0.0",
      "model_name": "HTMLStyleModel",
      "state": {
       "_model_module": "@jupyter-widgets/controls",
       "_model_module_version": "2.0.0",
       "_model_name": "HTMLStyleModel",
       "_view_count": null,
       "_view_module": "@jupyter-widgets/base",
       "_view_module_version": "2.0.0",
       "_view_name": "StyleView",
       "background": null,
       "description_width": "",
       "font_size": null,
       "text_color": null
      }
     },
     "9a3b3c82a59f413a8a83c325e2a07fa6": {
      "model_module": "@jupyter-widgets/controls",
      "model_module_version": "2.0.0",
      "model_name": "HTMLStyleModel",
      "state": {
       "_model_module": "@jupyter-widgets/controls",
       "_model_module_version": "2.0.0",
       "_model_name": "HTMLStyleModel",
       "_view_count": null,
       "_view_module": "@jupyter-widgets/base",
       "_view_module_version": "2.0.0",
       "_view_name": "StyleView",
       "background": null,
       "description_width": "",
       "font_size": null,
       "text_color": null
      }
     },
     "9e9f76590fa34ac8ba99af424ccf0a9e": {
      "model_module": "@jupyter-widgets/controls",
      "model_module_version": "2.0.0",
      "model_name": "ProgressStyleModel",
      "state": {
       "_model_module": "@jupyter-widgets/controls",
       "_model_module_version": "2.0.0",
       "_model_name": "ProgressStyleModel",
       "_view_count": null,
       "_view_module": "@jupyter-widgets/base",
       "_view_module_version": "2.0.0",
       "_view_name": "StyleView",
       "bar_color": null,
       "description_width": ""
      }
     },
     "a18df3e56bd84672a3dfe73f856b575d": {
      "model_module": "@jupyter-widgets/controls",
      "model_module_version": "2.0.0",
      "model_name": "HBoxModel",
      "state": {
       "_dom_classes": [],
       "_model_module": "@jupyter-widgets/controls",
       "_model_module_version": "2.0.0",
       "_model_name": "HBoxModel",
       "_view_count": null,
       "_view_module": "@jupyter-widgets/controls",
       "_view_module_version": "2.0.0",
       "_view_name": "HBoxView",
       "box_style": "",
       "children": [
        "IPY_MODEL_024ee29adc0140aab33ad3f1d621b17e",
        "IPY_MODEL_5b09f4c8dbc748389163732ce7c41d4d",
        "IPY_MODEL_dc4c7b4ee32d4cbc9a6a9de39abc3e92"
       ],
       "layout": "IPY_MODEL_322fa84040da42038228a76470de4504",
       "tabbable": null,
       "tooltip": null
      }
     },
     "a2269d57b7b345d193557e1212d813de": {
      "model_module": "@jupyter-widgets/controls",
      "model_module_version": "2.0.0",
      "model_name": "FloatProgressModel",
      "state": {
       "_dom_classes": [],
       "_model_module": "@jupyter-widgets/controls",
       "_model_module_version": "2.0.0",
       "_model_name": "FloatProgressModel",
       "_view_count": null,
       "_view_module": "@jupyter-widgets/controls",
       "_view_module_version": "2.0.0",
       "_view_name": "ProgressView",
       "bar_style": "success",
       "description": "",
       "description_allow_html": false,
       "layout": "IPY_MODEL_5f873e1a7851491e9c5430f135bdd500",
       "max": 1.0,
       "min": 0.0,
       "orientation": "horizontal",
       "style": "IPY_MODEL_b05797a1cd7047769645a0f301e97c7e",
       "tabbable": null,
       "tooltip": null,
       "value": 1.0
      }
     },
     "a3b853b1ef7446959e4a94944fa7b521": {
      "model_module": "@jupyter-widgets/controls",
      "model_module_version": "2.0.0",
      "model_name": "FloatProgressModel",
      "state": {
       "_dom_classes": [],
       "_model_module": "@jupyter-widgets/controls",
       "_model_module_version": "2.0.0",
       "_model_name": "FloatProgressModel",
       "_view_count": null,
       "_view_module": "@jupyter-widgets/controls",
       "_view_module_version": "2.0.0",
       "_view_name": "ProgressView",
       "bar_style": "success",
       "description": "",
       "description_allow_html": false,
       "layout": "IPY_MODEL_f3c4566cfb2d441a92a850425ae5f4d8",
       "max": 3.0,
       "min": 0.0,
       "orientation": "horizontal",
       "style": "IPY_MODEL_dc37c8b71305454382f8db4cca224702",
       "tabbable": null,
       "tooltip": null,
       "value": 3.0
      }
     },
     "a6fa2a4a328a4038b8242bb6afae9500": {
      "model_module": "@jupyter-widgets/controls",
      "model_module_version": "2.0.0",
      "model_name": "FloatProgressModel",
      "state": {
       "_dom_classes": [],
       "_model_module": "@jupyter-widgets/controls",
       "_model_module_version": "2.0.0",
       "_model_name": "FloatProgressModel",
       "_view_count": null,
       "_view_module": "@jupyter-widgets/controls",
       "_view_module_version": "2.0.0",
       "_view_name": "ProgressView",
       "bar_style": "success",
       "description": "",
       "description_allow_html": false,
       "layout": "IPY_MODEL_852107f6d80345e9a0c5c27582b192d8",
       "max": 3.0,
       "min": 0.0,
       "orientation": "horizontal",
       "style": "IPY_MODEL_cca55eec8c954a09b7500de46884ee7e",
       "tabbable": null,
       "tooltip": null,
       "value": 3.0
      }
     },
     "a757ea8b438843cab5a3efb717e68442": {
      "model_module": "@jupyter-widgets/base",
      "model_module_version": "2.0.0",
      "model_name": "LayoutModel",
      "state": {
       "_model_module": "@jupyter-widgets/base",
       "_model_module_version": "2.0.0",
       "_model_name": "LayoutModel",
       "_view_count": null,
       "_view_module": "@jupyter-widgets/base",
       "_view_module_version": "2.0.0",
       "_view_name": "LayoutView",
       "align_content": null,
       "align_items": null,
       "align_self": null,
       "border_bottom": null,
       "border_left": null,
       "border_right": null,
       "border_top": null,
       "bottom": null,
       "display": null,
       "flex": null,
       "flex_flow": null,
       "grid_area": null,
       "grid_auto_columns": null,
       "grid_auto_flow": null,
       "grid_auto_rows": null,
       "grid_column": null,
       "grid_gap": null,
       "grid_row": null,
       "grid_template_areas": null,
       "grid_template_columns": null,
       "grid_template_rows": null,
       "height": null,
       "justify_content": null,
       "justify_items": null,
       "left": null,
       "margin": null,
       "max_height": null,
       "max_width": null,
       "min_height": null,
       "min_width": null,
       "object_fit": null,
       "object_position": null,
       "order": null,
       "overflow": null,
       "padding": null,
       "right": null,
       "top": null,
       "visibility": null,
       "width": null
      }
     },
     "aa6bebd7fea44b029c7b5bb9a0ea445a": {
      "model_module": "@jupyter-widgets/base",
      "model_module_version": "2.0.0",
      "model_name": "LayoutModel",
      "state": {
       "_model_module": "@jupyter-widgets/base",
       "_model_module_version": "2.0.0",
       "_model_name": "LayoutModel",
       "_view_count": null,
       "_view_module": "@jupyter-widgets/base",
       "_view_module_version": "2.0.0",
       "_view_name": "LayoutView",
       "align_content": null,
       "align_items": null,
       "align_self": null,
       "border_bottom": null,
       "border_left": null,
       "border_right": null,
       "border_top": null,
       "bottom": null,
       "display": null,
       "flex": null,
       "flex_flow": null,
       "grid_area": null,
       "grid_auto_columns": null,
       "grid_auto_flow": null,
       "grid_auto_rows": null,
       "grid_column": null,
       "grid_gap": null,
       "grid_row": null,
       "grid_template_areas": null,
       "grid_template_columns": null,
       "grid_template_rows": null,
       "height": null,
       "justify_content": null,
       "justify_items": null,
       "left": null,
       "margin": null,
       "max_height": null,
       "max_width": null,
       "min_height": null,
       "min_width": null,
       "object_fit": null,
       "object_position": null,
       "order": null,
       "overflow": null,
       "padding": null,
       "right": null,
       "top": null,
       "visibility": null,
       "width": null
      }
     },
     "ad5d05506d1042b0945aa0080711b42b": {
      "model_module": "@jupyter-widgets/controls",
      "model_module_version": "2.0.0",
      "model_name": "HTMLStyleModel",
      "state": {
       "_model_module": "@jupyter-widgets/controls",
       "_model_module_version": "2.0.0",
       "_model_name": "HTMLStyleModel",
       "_view_count": null,
       "_view_module": "@jupyter-widgets/base",
       "_view_module_version": "2.0.0",
       "_view_name": "StyleView",
       "background": null,
       "description_width": "",
       "font_size": null,
       "text_color": null
      }
     },
     "aeeb7b9ec7bf4d348f63450c91bbed15": {
      "model_module": "@jupyter-widgets/controls",
      "model_module_version": "2.0.0",
      "model_name": "HTMLStyleModel",
      "state": {
       "_model_module": "@jupyter-widgets/controls",
       "_model_module_version": "2.0.0",
       "_model_name": "HTMLStyleModel",
       "_view_count": null,
       "_view_module": "@jupyter-widgets/base",
       "_view_module_version": "2.0.0",
       "_view_name": "StyleView",
       "background": null,
       "description_width": "",
       "font_size": null,
       "text_color": null
      }
     },
     "b05797a1cd7047769645a0f301e97c7e": {
      "model_module": "@jupyter-widgets/controls",
      "model_module_version": "2.0.0",
      "model_name": "ProgressStyleModel",
      "state": {
       "_model_module": "@jupyter-widgets/controls",
       "_model_module_version": "2.0.0",
       "_model_name": "ProgressStyleModel",
       "_view_count": null,
       "_view_module": "@jupyter-widgets/base",
       "_view_module_version": "2.0.0",
       "_view_name": "StyleView",
       "bar_color": null,
       "description_width": ""
      }
     },
     "b21420503e3d4fb0887d0b44f575e10a": {
      "model_module": "@jupyter-widgets/base",
      "model_module_version": "2.0.0",
      "model_name": "LayoutModel",
      "state": {
       "_model_module": "@jupyter-widgets/base",
       "_model_module_version": "2.0.0",
       "_model_name": "LayoutModel",
       "_view_count": null,
       "_view_module": "@jupyter-widgets/base",
       "_view_module_version": "2.0.0",
       "_view_name": "LayoutView",
       "align_content": null,
       "align_items": null,
       "align_self": null,
       "border_bottom": null,
       "border_left": null,
       "border_right": null,
       "border_top": null,
       "bottom": null,
       "display": null,
       "flex": null,
       "flex_flow": null,
       "grid_area": null,
       "grid_auto_columns": null,
       "grid_auto_flow": null,
       "grid_auto_rows": null,
       "grid_column": null,
       "grid_gap": null,
       "grid_row": null,
       "grid_template_areas": null,
       "grid_template_columns": null,
       "grid_template_rows": null,
       "height": null,
       "justify_content": null,
       "justify_items": null,
       "left": null,
       "margin": null,
       "max_height": null,
       "max_width": null,
       "min_height": null,
       "min_width": null,
       "object_fit": null,
       "object_position": null,
       "order": null,
       "overflow": null,
       "padding": null,
       "right": null,
       "top": null,
       "visibility": null,
       "width": "20px"
      }
     },
     "b38085e6ddb74e6aa3cb3f72a2059847": {
      "model_module": "@jupyter-widgets/controls",
      "model_module_version": "2.0.0",
      "model_name": "HTMLModel",
      "state": {
       "_dom_classes": [],
       "_model_module": "@jupyter-widgets/controls",
       "_model_module_version": "2.0.0",
       "_model_name": "HTMLModel",
       "_view_count": null,
       "_view_module": "@jupyter-widgets/controls",
       "_view_module_version": "2.0.0",
       "_view_name": "HTMLView",
       "description": "",
       "description_allow_html": false,
       "layout": "IPY_MODEL_222427a5381d49c39bf738617b1763f1",
       "placeholder": "​",
       "style": "IPY_MODEL_955386cef01a41af885d4a3e1d60e6ba",
       "tabbable": null,
       "tooltip": null,
       "value": " 3/3 [01:45&lt;00:00, 35.15s/it]"
      }
     },
     "c2a9dfce66074d449092921f43577cf2": {
      "model_module": "@jupyter-widgets/controls",
      "model_module_version": "2.0.0",
      "model_name": "HTMLModel",
      "state": {
       "_dom_classes": [],
       "_model_module": "@jupyter-widgets/controls",
       "_model_module_version": "2.0.0",
       "_model_name": "HTMLModel",
       "_view_count": null,
       "_view_module": "@jupyter-widgets/controls",
       "_view_module_version": "2.0.0",
       "_view_name": "HTMLView",
       "description": "",
       "description_allow_html": false,
       "layout": "IPY_MODEL_2aa779767fd5404bb7bb2db8b8846393",
       "placeholder": "​",
       "style": "IPY_MODEL_168f88b850544ef2b59ef8d408809106",
       "tabbable": null,
       "tooltip": null,
       "value": ""
      }
     },
     "cca55eec8c954a09b7500de46884ee7e": {
      "model_module": "@jupyter-widgets/controls",
      "model_module_version": "2.0.0",
      "model_name": "ProgressStyleModel",
      "state": {
       "_model_module": "@jupyter-widgets/controls",
       "_model_module_version": "2.0.0",
       "_model_name": "ProgressStyleModel",
       "_view_count": null,
       "_view_module": "@jupyter-widgets/base",
       "_view_module_version": "2.0.0",
       "_view_name": "StyleView",
       "bar_color": null,
       "description_width": ""
      }
     },
     "cd0af6394cba4eca91d7abefc15f9a3b": {
      "model_module": "@jupyter-widgets/base",
      "model_module_version": "2.0.0",
      "model_name": "LayoutModel",
      "state": {
       "_model_module": "@jupyter-widgets/base",
       "_model_module_version": "2.0.0",
       "_model_name": "LayoutModel",
       "_view_count": null,
       "_view_module": "@jupyter-widgets/base",
       "_view_module_version": "2.0.0",
       "_view_name": "LayoutView",
       "align_content": null,
       "align_items": null,
       "align_self": null,
       "border_bottom": null,
       "border_left": null,
       "border_right": null,
       "border_top": null,
       "bottom": null,
       "display": null,
       "flex": null,
       "flex_flow": null,
       "grid_area": null,
       "grid_auto_columns": null,
       "grid_auto_flow": null,
       "grid_auto_rows": null,
       "grid_column": null,
       "grid_gap": null,
       "grid_row": null,
       "grid_template_areas": null,
       "grid_template_columns": null,
       "grid_template_rows": null,
       "height": null,
       "justify_content": null,
       "justify_items": null,
       "left": null,
       "margin": null,
       "max_height": null,
       "max_width": null,
       "min_height": null,
       "min_width": null,
       "object_fit": null,
       "object_position": null,
       "order": null,
       "overflow": null,
       "padding": null,
       "right": null,
       "top": null,
       "visibility": null,
       "width": null
      }
     },
     "d1ccfb829ae04df9981949af16dd8d6b": {
      "model_module": "@jupyter-widgets/base",
      "model_module_version": "2.0.0",
      "model_name": "LayoutModel",
      "state": {
       "_model_module": "@jupyter-widgets/base",
       "_model_module_version": "2.0.0",
       "_model_name": "LayoutModel",
       "_view_count": null,
       "_view_module": "@jupyter-widgets/base",
       "_view_module_version": "2.0.0",
       "_view_name": "LayoutView",
       "align_content": null,
       "align_items": null,
       "align_self": null,
       "border_bottom": null,
       "border_left": null,
       "border_right": null,
       "border_top": null,
       "bottom": null,
       "display": null,
       "flex": null,
       "flex_flow": null,
       "grid_area": null,
       "grid_auto_columns": null,
       "grid_auto_flow": null,
       "grid_auto_rows": null,
       "grid_column": null,
       "grid_gap": null,
       "grid_row": null,
       "grid_template_areas": null,
       "grid_template_columns": null,
       "grid_template_rows": null,
       "height": null,
       "justify_content": null,
       "justify_items": null,
       "left": null,
       "margin": null,
       "max_height": null,
       "max_width": null,
       "min_height": null,
       "min_width": null,
       "object_fit": null,
       "object_position": null,
       "order": null,
       "overflow": null,
       "padding": null,
       "right": null,
       "top": null,
       "visibility": null,
       "width": null
      }
     },
     "d82fc84bdf124359ae1e7f508e021cf4": {
      "model_module": "@jupyter-widgets/controls",
      "model_module_version": "2.0.0",
      "model_name": "HTMLModel",
      "state": {
       "_dom_classes": [],
       "_model_module": "@jupyter-widgets/controls",
       "_model_module_version": "2.0.0",
       "_model_name": "HTMLModel",
       "_view_count": null,
       "_view_module": "@jupyter-widgets/controls",
       "_view_module_version": "2.0.0",
       "_view_name": "HTMLView",
       "description": "",
       "description_allow_html": false,
       "layout": "IPY_MODEL_905f85eaa69b49f0a569f13ba2082496",
       "placeholder": "​",
       "style": "IPY_MODEL_558a5333d8b84f90bf7944a3db56d30c",
       "tabbable": null,
       "tooltip": null,
       "value": " 1875/? [00:08&lt;00:00, 216.54it/s]"
      }
     },
     "d955836c51114e5f944f92075e55d657": {
      "model_module": "@jupyter-widgets/base",
      "model_module_version": "2.0.0",
      "model_name": "LayoutModel",
      "state": {
       "_model_module": "@jupyter-widgets/base",
       "_model_module_version": "2.0.0",
       "_model_name": "LayoutModel",
       "_view_count": null,
       "_view_module": "@jupyter-widgets/base",
       "_view_module_version": "2.0.0",
       "_view_name": "LayoutView",
       "align_content": null,
       "align_items": null,
       "align_self": null,
       "border_bottom": null,
       "border_left": null,
       "border_right": null,
       "border_top": null,
       "bottom": null,
       "display": null,
       "flex": null,
       "flex_flow": null,
       "grid_area": null,
       "grid_auto_columns": null,
       "grid_auto_flow": null,
       "grid_auto_rows": null,
       "grid_column": null,
       "grid_gap": null,
       "grid_row": null,
       "grid_template_areas": null,
       "grid_template_columns": null,
       "grid_template_rows": null,
       "height": null,
       "justify_content": null,
       "justify_items": null,
       "left": null,
       "margin": null,
       "max_height": null,
       "max_width": null,
       "min_height": null,
       "min_width": null,
       "object_fit": null,
       "object_position": null,
       "order": null,
       "overflow": null,
       "padding": null,
       "right": null,
       "top": null,
       "visibility": null,
       "width": null
      }
     },
     "db1e578e93844df798420c7b8bb64e23": {
      "model_module": "@jupyter-widgets/controls",
      "model_module_version": "2.0.0",
      "model_name": "FloatProgressModel",
      "state": {
       "_dom_classes": [],
       "_model_module": "@jupyter-widgets/controls",
       "_model_module_version": "2.0.0",
       "_model_name": "FloatProgressModel",
       "_view_count": null,
       "_view_module": "@jupyter-widgets/controls",
       "_view_module_version": "2.0.0",
       "_view_name": "ProgressView",
       "bar_style": "success",
       "description": "",
       "description_allow_html": false,
       "layout": "IPY_MODEL_b21420503e3d4fb0887d0b44f575e10a",
       "max": 1.0,
       "min": 0.0,
       "orientation": "horizontal",
       "style": "IPY_MODEL_9e9f76590fa34ac8ba99af424ccf0a9e",
       "tabbable": null,
       "tooltip": null,
       "value": 1.0
      }
     },
     "dc37c8b71305454382f8db4cca224702": {
      "model_module": "@jupyter-widgets/controls",
      "model_module_version": "2.0.0",
      "model_name": "ProgressStyleModel",
      "state": {
       "_model_module": "@jupyter-widgets/controls",
       "_model_module_version": "2.0.0",
       "_model_name": "ProgressStyleModel",
       "_view_count": null,
       "_view_module": "@jupyter-widgets/base",
       "_view_module_version": "2.0.0",
       "_view_name": "StyleView",
       "bar_color": null,
       "description_width": ""
      }
     },
     "dc4c7b4ee32d4cbc9a6a9de39abc3e92": {
      "model_module": "@jupyter-widgets/controls",
      "model_module_version": "2.0.0",
      "model_name": "HTMLModel",
      "state": {
       "_dom_classes": [],
       "_model_module": "@jupyter-widgets/controls",
       "_model_module_version": "2.0.0",
       "_model_name": "HTMLModel",
       "_view_count": null,
       "_view_module": "@jupyter-widgets/controls",
       "_view_module_version": "2.0.0",
       "_view_name": "HTMLView",
       "description": "",
       "description_allow_html": false,
       "layout": "IPY_MODEL_cd0af6394cba4eca91d7abefc15f9a3b",
       "placeholder": "​",
       "style": "IPY_MODEL_2097170ce433422ca5e478f1ce657adf",
       "tabbable": null,
       "tooltip": null,
       "value": " 3/3 [00:30&lt;00:00,  9.98s/it]"
      }
     },
     "e4510fb0c9af49678be5438b7b67b251": {
      "model_module": "@jupyter-widgets/base",
      "model_module_version": "2.0.0",
      "model_name": "LayoutModel",
      "state": {
       "_model_module": "@jupyter-widgets/base",
       "_model_module_version": "2.0.0",
       "_model_name": "LayoutModel",
       "_view_count": null,
       "_view_module": "@jupyter-widgets/base",
       "_view_module_version": "2.0.0",
       "_view_name": "LayoutView",
       "align_content": null,
       "align_items": null,
       "align_self": null,
       "border_bottom": null,
       "border_left": null,
       "border_right": null,
       "border_top": null,
       "bottom": null,
       "display": null,
       "flex": null,
       "flex_flow": null,
       "grid_area": null,
       "grid_auto_columns": null,
       "grid_auto_flow": null,
       "grid_auto_rows": null,
       "grid_column": null,
       "grid_gap": null,
       "grid_row": null,
       "grid_template_areas": null,
       "grid_template_columns": null,
       "grid_template_rows": null,
       "height": null,
       "justify_content": null,
       "justify_items": null,
       "left": null,
       "margin": null,
       "max_height": null,
       "max_width": null,
       "min_height": null,
       "min_width": null,
       "object_fit": null,
       "object_position": null,
       "order": null,
       "overflow": null,
       "padding": null,
       "right": null,
       "top": null,
       "visibility": null,
       "width": null
      }
     },
     "e4c64a25bffa4729a44c0bb26ab4191f": {
      "model_module": "@jupyter-widgets/base",
      "model_module_version": "2.0.0",
      "model_name": "LayoutModel",
      "state": {
       "_model_module": "@jupyter-widgets/base",
       "_model_module_version": "2.0.0",
       "_model_name": "LayoutModel",
       "_view_count": null,
       "_view_module": "@jupyter-widgets/base",
       "_view_module_version": "2.0.0",
       "_view_name": "LayoutView",
       "align_content": null,
       "align_items": null,
       "align_self": null,
       "border_bottom": null,
       "border_left": null,
       "border_right": null,
       "border_top": null,
       "bottom": null,
       "display": null,
       "flex": null,
       "flex_flow": null,
       "grid_area": null,
       "grid_auto_columns": null,
       "grid_auto_flow": null,
       "grid_auto_rows": null,
       "grid_column": null,
       "grid_gap": null,
       "grid_row": null,
       "grid_template_areas": null,
       "grid_template_columns": null,
       "grid_template_rows": null,
       "height": null,
       "justify_content": null,
       "justify_items": null,
       "left": null,
       "margin": null,
       "max_height": null,
       "max_width": null,
       "min_height": null,
       "min_width": null,
       "object_fit": null,
       "object_position": null,
       "order": null,
       "overflow": null,
       "padding": null,
       "right": null,
       "top": null,
       "visibility": null,
       "width": null
      }
     },
     "e84a6db43b4440b2b4abb7748a232e98": {
      "model_module": "@jupyter-widgets/controls",
      "model_module_version": "2.0.0",
      "model_name": "HTMLStyleModel",
      "state": {
       "_model_module": "@jupyter-widgets/controls",
       "_model_module_version": "2.0.0",
       "_model_name": "HTMLStyleModel",
       "_view_count": null,
       "_view_module": "@jupyter-widgets/base",
       "_view_module_version": "2.0.0",
       "_view_name": "StyleView",
       "background": null,
       "description_width": "",
       "font_size": null,
       "text_color": null
      }
     },
     "ebad326703e54216a6ed102768ab4aa9": {
      "model_module": "@jupyter-widgets/controls",
      "model_module_version": "2.0.0",
      "model_name": "HTMLModel",
      "state": {
       "_dom_classes": [],
       "_model_module": "@jupyter-widgets/controls",
       "_model_module_version": "2.0.0",
       "_model_name": "HTMLModel",
       "_view_count": null,
       "_view_module": "@jupyter-widgets/controls",
       "_view_module_version": "2.0.0",
       "_view_name": "HTMLView",
       "description": "",
       "description_allow_html": false,
       "layout": "IPY_MODEL_d955836c51114e5f944f92075e55d657",
       "placeholder": "​",
       "style": "IPY_MODEL_368cec1ba8a349fbb7eb3109b1b9d728",
       "tabbable": null,
       "tooltip": null,
       "value": " 1875/? [00:08&lt;00:00, 217.85it/s]"
      }
     },
     "f268c3241b634f99b4c6b3a6304097c4": {
      "model_module": "@jupyter-widgets/controls",
      "model_module_version": "2.0.0",
      "model_name": "HTMLStyleModel",
      "state": {
       "_model_module": "@jupyter-widgets/controls",
       "_model_module_version": "2.0.0",
       "_model_name": "HTMLStyleModel",
       "_view_count": null,
       "_view_module": "@jupyter-widgets/base",
       "_view_module_version": "2.0.0",
       "_view_name": "StyleView",
       "background": null,
       "description_width": "",
       "font_size": null,
       "text_color": null
      }
     },
     "f3c4566cfb2d441a92a850425ae5f4d8": {
      "model_module": "@jupyter-widgets/base",
      "model_module_version": "2.0.0",
      "model_name": "LayoutModel",
      "state": {
       "_model_module": "@jupyter-widgets/base",
       "_model_module_version": "2.0.0",
       "_model_name": "LayoutModel",
       "_view_count": null,
       "_view_module": "@jupyter-widgets/base",
       "_view_module_version": "2.0.0",
       "_view_name": "LayoutView",
       "align_content": null,
       "align_items": null,
       "align_self": null,
       "border_bottom": null,
       "border_left": null,
       "border_right": null,
       "border_top": null,
       "bottom": null,
       "display": null,
       "flex": null,
       "flex_flow": null,
       "grid_area": null,
       "grid_auto_columns": null,
       "grid_auto_flow": null,
       "grid_auto_rows": null,
       "grid_column": null,
       "grid_gap": null,
       "grid_row": null,
       "grid_template_areas": null,
       "grid_template_columns": null,
       "grid_template_rows": null,
       "height": null,
       "justify_content": null,
       "justify_items": null,
       "left": null,
       "margin": null,
       "max_height": null,
       "max_width": null,
       "min_height": null,
       "min_width": null,
       "object_fit": null,
       "object_position": null,
       "order": null,
       "overflow": null,
       "padding": null,
       "right": null,
       "top": null,
       "visibility": null,
       "width": null
      }
     },
     "f60f6b244a654aae97d60c74a356ca5f": {
      "model_module": "@jupyter-widgets/controls",
      "model_module_version": "2.0.0",
      "model_name": "ProgressStyleModel",
      "state": {
       "_model_module": "@jupyter-widgets/controls",
       "_model_module_version": "2.0.0",
       "_model_name": "ProgressStyleModel",
       "_view_count": null,
       "_view_module": "@jupyter-widgets/base",
       "_view_module_version": "2.0.0",
       "_view_name": "StyleView",
       "bar_color": null,
       "description_width": ""
      }
     },
     "f9fa64db0a314480a0ca83e741dcac93": {
      "model_module": "@jupyter-widgets/controls",
      "model_module_version": "2.0.0",
      "model_name": "HTMLModel",
      "state": {
       "_dom_classes": [],
       "_model_module": "@jupyter-widgets/controls",
       "_model_module_version": "2.0.0",
       "_model_name": "HTMLModel",
       "_view_count": null,
       "_view_module": "@jupyter-widgets/controls",
       "_view_module_version": "2.0.0",
       "_view_name": "HTMLView",
       "description": "",
       "description_allow_html": false,
       "layout": "IPY_MODEL_d1ccfb829ae04df9981949af16dd8d6b",
       "placeholder": "​",
       "style": "IPY_MODEL_f268c3241b634f99b4c6b3a6304097c4",
       "tabbable": null,
       "tooltip": null,
       "value": "100%"
      }
     }
    },
    "version_major": 2,
    "version_minor": 0
   }
  }
 },
 "nbformat": 4,
 "nbformat_minor": 5
}
