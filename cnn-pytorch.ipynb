{
 "cells": [
  {
   "cell_type": "code",
   "execution_count": 1,
   "id": "229cbf3a",
   "metadata": {
    "_cell_guid": "b1076dfc-b9ad-4769-8c92-a6c4dae69d19",
    "_uuid": "8f2839f25d086af736a60e9eeb907d3b93b6e0e5",
    "execution": {
     "iopub.execute_input": "2025-06-25T18:33:21.120722Z",
     "iopub.status.busy": "2025-06-25T18:33:21.120131Z",
     "iopub.status.idle": "2025-06-25T18:33:23.067885Z",
     "shell.execute_reply": "2025-06-25T18:33:23.066886Z"
    },
    "papermill": {
     "duration": 1.959732,
     "end_time": "2025-06-25T18:33:23.069634",
     "exception": false,
     "start_time": "2025-06-25T18:33:21.109902",
     "status": "completed"
    },
    "tags": []
   },
   "outputs": [],
   "source": [
    "# This Python 3 environment comes with many helpful analytics libraries installed\n",
    "# It is defined by the kaggle/python Docker image: https://github.com/kaggle/docker-python\n",
    "# For example, here's several helpful packages to load\n",
    "\n",
    "import numpy as np # linear algebra\n",
    "import pandas as pd # data processing, CSV file I/O (e.g. pd.read_csv)\n",
    "\n",
    "# Input data files are available in the read-only \"../input/\" directory\n",
    "# For example, running this (by clicking run or pressing Shift+Enter) will list all files under the input directory\n",
    "\n",
    "import os\n",
    "for dirname, _, filenames in os.walk('/kaggle/input'):\n",
    "    for filename in filenames:\n",
    "        print(os.path.join(dirname, filename))\n",
    "\n",
    "# You can write up to 20GB to the current directory (/kaggle/working/) that gets preserved as output when you create a version using \"Save & Run All\" \n",
    "# You can also write temporary files to /kaggle/temp/, but they won't be saved outside of the current session"
   ]
  },
  {
   "cell_type": "code",
   "execution_count": 2,
   "id": "4b827ac4",
   "metadata": {
    "execution": {
     "iopub.execute_input": "2025-06-25T18:33:23.087458Z",
     "iopub.status.busy": "2025-06-25T18:33:23.087051Z",
     "iopub.status.idle": "2025-06-25T18:33:35.172627Z",
     "shell.execute_reply": "2025-06-25T18:33:35.171595Z"
    },
    "papermill": {
     "duration": 12.095857,
     "end_time": "2025-06-25T18:33:35.174116",
     "exception": false,
     "start_time": "2025-06-25T18:33:23.078259",
     "status": "completed"
    },
    "tags": []
   },
   "outputs": [
    {
     "name": "stdout",
     "output_type": "stream",
     "text": [
      "PyTorch version: 2.6.0+cu124\n",
      "torchvision version: 0.21.0+cu124\n"
     ]
    }
   ],
   "source": [
    "import torch\n",
    "from torch import nn\n",
    "\n",
    "# Import torchvision \n",
    "import torchvision\n",
    "from torchvision import datasets\n",
    "from torchvision.transforms import ToTensor\n",
    "\n",
    "# Import matplotlib for visualization\n",
    "import matplotlib.pyplot as plt\n",
    "\n",
    "# Check versions\n",
    "# Note: your PyTorch version shouldn't be lower than 1.10.0 and torchvision version shouldn't be lower than 0.11\n",
    "print(f\"PyTorch version: {torch.__version__}\\ntorchvision version: {torchvision.__version__}\")"
   ]
  },
  {
   "cell_type": "code",
   "execution_count": 3,
   "id": "e4415169",
   "metadata": {
    "execution": {
     "iopub.execute_input": "2025-06-25T18:33:35.192141Z",
     "iopub.status.busy": "2025-06-25T18:33:35.191330Z",
     "iopub.status.idle": "2025-06-25T18:33:41.836727Z",
     "shell.execute_reply": "2025-06-25T18:33:41.835731Z"
    },
    "papermill": {
     "duration": 6.655917,
     "end_time": "2025-06-25T18:33:41.838301",
     "exception": false,
     "start_time": "2025-06-25T18:33:35.182384",
     "status": "completed"
    },
    "tags": []
   },
   "outputs": [
    {
     "name": "stderr",
     "output_type": "stream",
     "text": [
      "100%|██████████| 26.4M/26.4M [00:02<00:00, 13.2MB/s]\n",
      "100%|██████████| 29.5k/29.5k [00:00<00:00, 209kB/s]\n",
      "100%|██████████| 4.42M/4.42M [00:01<00:00, 3.90MB/s]\n",
      "100%|██████████| 5.15k/5.15k [00:00<00:00, 13.1MB/s]\n"
     ]
    }
   ],
   "source": [
    "train_data=datasets.FashionMNIST(\n",
    "    root=\"data\",\n",
    "    train=True,\n",
    "    download=True,\n",
    "    transform=ToTensor(),\n",
    "    target_transform=None\n",
    ")\n",
    "\n",
    "test_data=datasets.FashionMNIST(\n",
    "    root=\"data\",\n",
    "    train=False,\n",
    "    download=True,\n",
    "    transform=ToTensor()\n",
    "    \n",
    ")"
   ]
  },
  {
   "cell_type": "code",
   "execution_count": 4,
   "id": "3b195ddb",
   "metadata": {
    "execution": {
     "iopub.execute_input": "2025-06-25T18:33:41.861927Z",
     "iopub.status.busy": "2025-06-25T18:33:41.861560Z",
     "iopub.status.idle": "2025-06-25T18:33:41.873833Z",
     "shell.execute_reply": "2025-06-25T18:33:41.872964Z"
    },
    "papermill": {
     "duration": 0.025722,
     "end_time": "2025-06-25T18:33:41.875559",
     "exception": false,
     "start_time": "2025-06-25T18:33:41.849837",
     "status": "completed"
    },
    "tags": []
   },
   "outputs": [
    {
     "data": {
      "text/plain": [
       "9"
      ]
     },
     "execution_count": 4,
     "metadata": {},
     "output_type": "execute_result"
    }
   ],
   "source": [
    "image,level=train_data[0]\n",
    "\n",
    "image,level\n",
    "level"
   ]
  },
  {
   "cell_type": "markdown",
   "id": "5927e053",
   "metadata": {
    "papermill": {
     "duration": 0.01006,
     "end_time": "2025-06-25T18:33:41.895450",
     "exception": false,
     "start_time": "2025-06-25T18:33:41.885390",
     "status": "completed"
    },
    "tags": []
   },
   "source": [
    "he order of our current tensor is often referred to as ```CHW``` (Color Channels, Height, Width).\n",
    "\n",
    "There's debate on whether images should be represented as ```CHW``` (color channels first) or HWC (color channels last).\n",
    "\n",
    "PyTorch generally accepts ```NCHW``` (channels first) as the default for many operators.\n",
    "\n",
    "However, PyTorch also explains that ```NHWC``` (channels last) performs better and is considered best practice.\n",
    "\n",
    "For now, since our dataset and models are relatively small, this won't make too much of a difference.\n",
    "\n",
    "But keep it in mind for when you're working on larger image datasets and using convolutional neural networks (we'll see these later).\n",
    "\n",
    "Let's check out more shapes of our data."
   ]
  },
  {
   "cell_type": "code",
   "execution_count": 5,
   "id": "ba641f09",
   "metadata": {
    "execution": {
     "iopub.execute_input": "2025-06-25T18:33:41.916100Z",
     "iopub.status.busy": "2025-06-25T18:33:41.915766Z",
     "iopub.status.idle": "2025-06-25T18:33:41.922449Z",
     "shell.execute_reply": "2025-06-25T18:33:41.921706Z"
    },
    "papermill": {
     "duration": 0.018792,
     "end_time": "2025-06-25T18:33:41.923809",
     "exception": false,
     "start_time": "2025-06-25T18:33:41.905017",
     "status": "completed"
    },
    "tags": []
   },
   "outputs": [
    {
     "data": {
      "text/plain": [
       "(60000, 60000, 10000, 10000)"
      ]
     },
     "execution_count": 5,
     "metadata": {},
     "output_type": "execute_result"
    }
   ],
   "source": [
    "image.shape\n",
    "\n",
    "len(train_data.data)\n",
    "\n",
    "dir(train_data)\n",
    "\n",
    "train_data.data\n",
    "\n",
    "train_data.classes\n",
    "\n",
    "len(train_data), len(train_data.targets), len(test_data), len(test_data.targets),"
   ]
  },
  {
   "cell_type": "code",
   "execution_count": 6,
   "id": "56ac5435",
   "metadata": {
    "execution": {
     "iopub.execute_input": "2025-06-25T18:33:41.945248Z",
     "iopub.status.busy": "2025-06-25T18:33:41.944964Z",
     "iopub.status.idle": "2025-06-25T18:33:41.950958Z",
     "shell.execute_reply": "2025-06-25T18:33:41.950025Z"
    },
    "papermill": {
     "duration": 0.018874,
     "end_time": "2025-06-25T18:33:41.952439",
     "exception": false,
     "start_time": "2025-06-25T18:33:41.933565",
     "status": "completed"
    },
    "tags": []
   },
   "outputs": [
    {
     "data": {
      "text/plain": [
       "['T-shirt/top',\n",
       " 'Trouser',\n",
       " 'Pullover',\n",
       " 'Dress',\n",
       " 'Coat',\n",
       " 'Sandal',\n",
       " 'Shirt',\n",
       " 'Sneaker',\n",
       " 'Bag',\n",
       " 'Ankle boot']"
      ]
     },
     "execution_count": 6,
     "metadata": {},
     "output_type": "execute_result"
    }
   ],
   "source": [
    "class_name=train_data.classes\n",
    "class_name"
   ]
  },
  {
   "cell_type": "code",
   "execution_count": 7,
   "id": "ad61804c",
   "metadata": {
    "execution": {
     "iopub.execute_input": "2025-06-25T18:33:41.976354Z",
     "iopub.status.busy": "2025-06-25T18:33:41.975479Z",
     "iopub.status.idle": "2025-06-25T18:33:42.270641Z",
     "shell.execute_reply": "2025-06-25T18:33:42.269701Z"
    },
    "papermill": {
     "duration": 0.308673,
     "end_time": "2025-06-25T18:33:42.272177",
     "exception": false,
     "start_time": "2025-06-25T18:33:41.963504",
     "status": "completed"
    },
    "tags": []
   },
   "outputs": [
    {
     "name": "stdout",
     "output_type": "stream",
     "text": [
      "Image Shape torch.Size([1, 28, 28])\n"
     ]
    },
    {
     "data": {
      "image/png": "[encoded data removed]",
      "text/plain": [
       "<Figure size 640x480 with 1 Axes>"
      ]
     },
     "metadata": {},
     "output_type": "display_data"
    }
   ],
   "source": [
    "import matplotlib.pyplot as plt\n",
    "image,lebel=train_data[0]\n",
    "print(f\"Image Shape {image.shape}\")\n",
    "plt.imshow(image.squeeze()) #remove extra 1 dim\n",
    "plt.title(class_name[lebel]);\n"
   ]
  },
  {
   "cell_type": "code",
   "execution_count": 8,
   "id": "0361a591",
   "metadata": {
    "execution": {
     "iopub.execute_input": "2025-06-25T18:33:42.294124Z",
     "iopub.status.busy": "2025-06-25T18:33:42.293805Z",
     "iopub.status.idle": "2025-06-25T18:33:42.614687Z",
     "shell.execute_reply": "2025-06-25T18:33:42.613741Z"
    },
    "papermill": {
     "duration": 0.333523,
     "end_time": "2025-06-25T18:33:42.616146",
     "exception": false,
     "start_time": "2025-06-25T18:33:42.282623",
     "status": "completed"
    },
    "tags": []
   },
   "outputs": [
    {
     "data": {
      "text/plain": [
       "Text(0.5, 1.0, 'Random Tensor image with size (20, 22) ')"
      ]
     },
     "execution_count": 8,
     "metadata": {},
     "output_type": "execute_result"
    },
    {
     "data": {
      "image/png": "[encoded data removed]",
      "text/plain": [
       "<Figure size 640x480 with 2 Axes>"
      ]
     },
     "metadata": {},
     "output_type": "display_data"
    }
   ],
   "source": [
    "H,W= 20,22\n",
    "fake_tensor_data=torch.rand(H,W)\n",
    "fake_tensor_data=torch.randint(0,256, (H,W), dtype=torch.float32) # it will make tensor within 0->255\n",
    "plt.imshow(fake_tensor_data,cmap='gray')\n",
    "plt.colorbar()\n",
    "plt.title(f\"Random Tensor image with size {H, W} \")"
   ]
  },
  {
   "cell_type": "code",
   "execution_count": 9,
   "id": "3eae7063",
   "metadata": {
    "execution": {
     "iopub.execute_input": "2025-06-25T18:33:42.639614Z",
     "iopub.status.busy": "2025-06-25T18:33:42.639261Z",
     "iopub.status.idle": "2025-06-25T18:33:42.670004Z",
     "shell.execute_reply": "2025-06-25T18:33:42.669070Z"
    },
    "papermill": {
     "duration": 0.044186,
     "end_time": "2025-06-25T18:33:42.671626",
     "exception": false,
     "start_time": "2025-06-25T18:33:42.627440",
     "status": "completed"
    },
    "tags": []
   },
   "outputs": [
    {
     "data": {
      "text/plain": [
       "tensor([[0.7255, 0.8235, 0.2588, 0.9451, 0.9137, 0.0706, 0.6471, 0.6353, 0.0275,\n",
       "         0.3569, 0.6510, 0.7569, 0.2824, 0.5569, 0.0824, 0.8314, 0.0588, 0.7569,\n",
       "         0.9490, 0.0784, 0.6471, 0.0118],\n",
       "        [0.4235, 0.5725, 0.0471, 0.7020, 0.8157, 0.7647, 0.9647, 0.0941, 0.6118,\n",
       "         0.8863, 0.3686, 0.8275, 0.4392, 0.4706, 0.6431, 0.4392, 0.2353, 0.5843,\n",
       "         0.4353, 0.5294, 0.7804, 0.7333],\n",
       "        [0.5137, 0.9608, 0.4275, 0.1686, 0.9843, 0.1294, 0.7451, 0.4078, 0.9608,\n",
       "         0.4980, 0.2667, 0.2745, 0.3843, 0.6471, 0.8275, 0.7804, 0.7529, 0.4157,\n",
       "         0.8588, 0.6784, 0.0471, 0.7412],\n",
       "        [0.3804, 0.7686, 0.6235, 0.0196, 0.1961, 0.2863, 0.7961, 0.1647, 0.3412,\n",
       "         0.5843, 0.6353, 0.6471, 0.9922, 0.1843, 0.8392, 0.9294, 0.0667, 0.2118,\n",
       "         0.5647, 0.9922, 0.0078, 0.0627],\n",
       "        [0.1020, 0.9922, 0.8667, 0.1686, 0.8431, 0.1686, 0.0275, 0.0157, 0.0000,\n",
       "         0.2588, 0.2980, 0.7647, 0.1608, 0.0784, 0.5176, 0.3098, 0.1765, 0.2863,\n",
       "         0.2039, 0.4118, 0.0353, 0.9843],\n",
       "        [0.4431, 0.9098, 0.1412, 0.5647, 0.3412, 0.0314, 0.0941, 0.8314, 0.9882,\n",
       "         0.7686, 0.6745, 0.3843, 0.9647, 0.1569, 0.2078, 0.4353, 0.1647, 0.4627,\n",
       "         0.7451, 0.0549, 0.9569, 0.4392],\n",
       "        [0.8118, 0.9647, 0.3137, 0.0353, 0.8510, 0.1882, 0.2431, 0.7020, 0.4392,\n",
       "         0.8784, 0.4235, 0.4941, 0.1176, 0.1216, 0.2078, 0.6941, 0.8745, 0.7490,\n",
       "         0.3059, 0.3569, 0.9333, 0.5373],\n",
       "        [0.4118, 0.3804, 0.9686, 0.0353, 0.9098, 0.6275, 0.1569, 0.6471, 0.1961,\n",
       "         0.7686, 0.0157, 0.0314, 0.6745, 0.2863, 0.5608, 0.3020, 0.6941, 0.2667,\n",
       "         0.0471, 0.2275, 0.4510, 0.6863],\n",
       "        [0.3176, 0.3059, 0.5137, 0.8588, 0.3961, 0.7882, 0.3529, 0.6706, 0.9451,\n",
       "         0.1333, 0.5412, 0.8941, 0.0000, 0.3765, 0.9961, 0.9569, 0.0980, 0.1490,\n",
       "         0.3451, 0.1490, 0.5765, 0.1529],\n",
       "        [0.9176, 0.0235, 0.8353, 0.2941, 0.8667, 0.2863, 0.0706, 0.8157, 0.7216,\n",
       "         0.3608, 0.1686, 0.6784, 0.7255, 0.6275, 0.2000, 0.8667, 0.3961, 0.4941,\n",
       "         0.0745, 0.1490, 0.1882, 0.2039],\n",
       "        [0.9961, 0.8078, 0.8431, 0.6118, 0.7451, 0.7765, 0.9020, 0.9961, 0.6510,\n",
       "         0.9608, 0.1569, 0.5333, 0.1255, 0.6588, 0.4039, 0.5373, 0.1882, 0.9725,\n",
       "         0.5294, 0.1647, 0.6784, 0.5686],\n",
       "        [0.3882, 0.7490, 0.8314, 0.5137, 0.6431, 0.2039, 0.8471, 0.6510, 0.8039,\n",
       "         0.6235, 0.4745, 0.0392, 0.5373, 0.7098, 0.7882, 0.1686, 0.6157, 0.5608,\n",
       "         0.9451, 0.1176, 0.9137, 0.4157],\n",
       "        [0.6667, 0.6078, 0.5725, 0.2745, 0.6392, 0.5608, 0.2941, 0.3098, 0.9569,\n",
       "         0.9686, 0.5529, 0.8314, 0.3059, 0.5059, 0.9490, 0.3765, 0.3882, 0.0353,\n",
       "         0.9255, 0.2353, 0.0706, 0.7686],\n",
       "        [0.3765, 0.2275, 0.0549, 0.5137, 0.7529, 0.1490, 0.7373, 0.7098, 0.0784,\n",
       "         0.3843, 0.5059, 0.5020, 0.7255, 0.9294, 0.0745, 0.5961, 0.3843, 0.3490,\n",
       "         0.9529, 0.1529, 0.1765, 0.2078],\n",
       "        [0.2118, 0.9451, 0.5922, 0.0431, 0.9373, 0.2549, 0.7373, 0.4824, 0.7490,\n",
       "         0.5333, 0.4078, 0.7882, 0.2627, 0.6941, 0.8118, 0.9569, 0.2275, 0.6902,\n",
       "         0.0980, 0.2118, 0.1294, 0.6000],\n",
       "        [0.2706, 0.0706, 0.7647, 0.7333, 0.7373, 0.4902, 0.6588, 0.7686, 0.5843,\n",
       "         0.0824, 0.7961, 0.3333, 0.3098, 0.1451, 0.0980, 0.8275, 0.7725, 0.2588,\n",
       "         0.6471, 0.7843, 0.6196, 0.1647],\n",
       "        [0.8784, 0.2275, 0.9804, 0.4431, 0.0902, 0.0118, 0.8196, 0.3922, 0.9765,\n",
       "         0.9373, 0.6431, 0.1059, 0.0314, 0.2235, 0.6902, 0.2392, 0.0980, 0.9373,\n",
       "         0.6039, 0.5098, 0.4235, 0.0078],\n",
       "        [0.9490, 0.3843, 0.0588, 0.1882, 0.0275, 0.7176, 0.0667, 0.8275, 0.3804,\n",
       "         0.5647, 0.7765, 0.3765, 0.8314, 0.4941, 0.8980, 0.8471, 0.0863, 0.1569,\n",
       "         0.2000, 0.4039, 0.9843, 0.2118],\n",
       "        [0.2392, 0.3137, 0.1333, 0.9608, 0.2980, 0.5961, 0.8275, 0.2431, 0.6431,\n",
       "         0.4510, 0.7255, 0.9608, 0.2627, 0.8863, 0.1882, 0.5059, 0.2078, 0.8000,\n",
       "         0.8941, 0.3294, 0.2196, 0.3137],\n",
       "        [0.0471, 0.3059, 0.3529, 0.0941, 0.4667, 0.7294, 0.9843, 0.8863, 0.0941,\n",
       "         0.6392, 0.7294, 0.3216, 0.1725, 0.8941, 0.8353, 0.0902, 0.6549, 0.8471,\n",
       "         0.4588, 0.0510, 0.5843, 0.2784]])"
      ]
     },
     "execution_count": 9,
     "metadata": {},
     "output_type": "execute_result"
    }
   ],
   "source": [
    "fake_tensor_data=fake_tensor_data/255\n",
    "fake_tensor_data"
   ]
  },
  {
   "cell_type": "code",
   "execution_count": 10,
   "id": "b310c8ae",
   "metadata": {
    "execution": {
     "iopub.execute_input": "2025-06-25T18:33:42.695116Z",
     "iopub.status.busy": "2025-06-25T18:33:42.694792Z",
     "iopub.status.idle": "2025-06-25T18:33:43.544490Z",
     "shell.execute_reply": "2025-06-25T18:33:43.543526Z"
    },
    "papermill": {
     "duration": 0.863728,
     "end_time": "2025-06-25T18:33:43.546426",
     "exception": false,
     "start_time": "2025-06-25T18:33:42.682698",
     "status": "completed"
    },
    "tags": []
   },
   "outputs": [
    {
     "data": {
      "image/png": "[encoded data removed]",
      "text/plain": [
       "<Figure size 900x900 with 15 Axes>"
      ]
     },
     "metadata": {},
     "output_type": "display_data"
    }
   ],
   "source": [
    "torch.manual_seed(42)\n",
    "fig=plt.figure(figsize=(9,9))\n",
    "row, col= 4 , 4\n",
    "\n",
    "for i in range(1, row*col):\n",
    "    index=torch.randint(0,len(train_data),size=[1]).item()\n",
    "    image, lebel= train_data[index]\n",
    "    fig.add_subplot(row, col, i)\n",
    "    plt.title(class_name[lebel])\n",
    "    plt.imshow(image.squeeze())\n",
    "    plt.axis(False)\n",
    "    \n",
    "    \n",
    "\n"
   ]
  },
  {
   "cell_type": "code",
   "execution_count": 11,
   "id": "fc1c55ae",
   "metadata": {
    "execution": {
     "iopub.execute_input": "2025-06-25T18:33:43.577162Z",
     "iopub.status.busy": "2025-06-25T18:33:43.576806Z",
     "iopub.status.idle": "2025-06-25T18:33:43.583695Z",
     "shell.execute_reply": "2025-06-25T18:33:43.582765Z"
    },
    "papermill": {
     "duration": 0.024795,
     "end_time": "2025-06-25T18:33:43.585229",
     "exception": false,
     "start_time": "2025-06-25T18:33:43.560434",
     "status": "completed"
    },
    "tags": []
   },
   "outputs": [
    {
     "data": {
      "text/plain": [
       "2"
      ]
     },
     "execution_count": 11,
     "metadata": {},
     "output_type": "execute_result"
    }
   ],
   "source": [
    "torch.randint(0,10, size=[1]).item()"
   ]
  },
  {
   "cell_type": "code",
   "execution_count": 12,
   "id": "4ee90afc",
   "metadata": {
    "execution": {
     "iopub.execute_input": "2025-06-25T18:33:43.611155Z",
     "iopub.status.busy": "2025-06-25T18:33:43.610831Z",
     "iopub.status.idle": "2025-06-25T18:33:43.617636Z",
     "shell.execute_reply": "2025-06-25T18:33:43.616623Z"
    },
    "papermill": {
     "duration": 0.021799,
     "end_time": "2025-06-25T18:33:43.619200",
     "exception": false,
     "start_time": "2025-06-25T18:33:43.597401",
     "status": "completed"
    },
    "tags": []
   },
   "outputs": [
    {
     "name": "stdout",
     "output_type": "stream",
     "text": [
      "Dataloaders: (<torch.utils.data.dataloader.DataLoader object at 0x7976132d61d0>, <torch.utils.data.dataloader.DataLoader object at 0x79761339f850>)\n",
      "Length of train dataloader: 1875 batches of 32\n",
      "Length of test dataloader: 313 batches of 32\n"
     ]
    }
   ],
   "source": [
    "from torch.utils.data import DataLoader\n",
    "\n",
    "# Setup the batch size hyperparameter\n",
    "BATCH_SIZE = 32\n",
    "\n",
    "# Turn datasets into iterables (batches)\n",
    "train_dataloader = DataLoader(train_data, # dataset to turn into iterable\n",
    "    batch_size=BATCH_SIZE, # how many samples per batch? \n",
    "    shuffle=True # shuffle data every epoch?\n",
    ")\n",
    "\n",
    "test_dataloader = DataLoader(test_data,\n",
    "    batch_size=BATCH_SIZE,\n",
    "    shuffle=False # don't necessarily have to shuffle the testing data\n",
    ")\n",
    "\n",
    "# Let's check out what we've created\n",
    "print(f\"Dataloaders: {train_dataloader, test_dataloader}\") \n",
    "print(f\"Length of train dataloader: {len(train_dataloader)} batches of {BATCH_SIZE}\")\n",
    "print(f\"Length of test dataloader: {len(test_dataloader)} batches of {BATCH_SIZE}\")"
   ]
  },
  {
   "cell_type": "code",
   "execution_count": 13,
   "id": "093a6495",
   "metadata": {
    "execution": {
     "iopub.execute_input": "2025-06-25T18:33:43.644809Z",
     "iopub.status.busy": "2025-06-25T18:33:43.644442Z",
     "iopub.status.idle": "2025-06-25T18:33:43.733159Z",
     "shell.execute_reply": "2025-06-25T18:33:43.731968Z"
    },
    "papermill": {
     "duration": 0.10617,
     "end_time": "2025-06-25T18:33:43.737524",
     "exception": false,
     "start_time": "2025-06-25T18:33:43.631354",
     "status": "completed"
    },
    "tags": []
   },
   "outputs": [
    {
     "name": "stdout",
     "output_type": "stream",
     "text": [
      "0 tensor([[[[0.0000, 0.0000, 0.0000,  ..., 0.0000, 0.0000, 0.0000],\n",
      "          [0.0000, 0.0000, 0.0000,  ..., 0.0000, 0.0000, 0.0000],\n",
      "          [0.0000, 0.0000, 0.0000,  ..., 0.0000, 0.0000, 0.0000],\n",
      "          ...,\n",
      "          [0.0000, 0.0000, 0.0000,  ..., 0.0000, 0.0000, 0.0000],\n",
      "          [0.0000, 0.0000, 0.0000,  ..., 0.0000, 0.0000, 0.0000],\n",
      "          [0.0000, 0.0000, 0.0000,  ..., 0.0000, 0.0000, 0.0000]]],\n",
      "\n",
      "\n",
      "        [[[0.0000, 0.0000, 0.0000,  ..., 0.0000, 0.0000, 0.0000],\n",
      "          [0.0000, 0.0000, 0.0000,  ..., 0.0000, 0.0000, 0.0000],\n",
      "          [0.0000, 0.0000, 0.0000,  ..., 0.0000, 0.0000, 0.0000],\n",
      "          ...,\n",
      "          [0.0000, 0.0000, 0.0000,  ..., 0.0000, 0.0000, 0.0000],\n",
      "          [0.0000, 0.0000, 0.0000,  ..., 0.0000, 0.0000, 0.0000],\n",
      "          [0.0000, 0.0000, 0.0000,  ..., 0.0000, 0.0000, 0.0000]]],\n",
      "\n",
      "\n",
      "        [[[0.0000, 0.0000, 0.0000,  ..., 0.0000, 0.0000, 0.0000],\n",
      "          [0.0000, 0.0000, 0.0000,  ..., 0.0000, 0.0000, 0.0000],\n",
      "          [0.0000, 0.0000, 0.0000,  ..., 0.0000, 0.0000, 0.0000],\n",
      "          ...,\n",
      "          [0.0000, 0.0000, 0.0000,  ..., 0.0000, 0.0000, 0.0000],\n",
      "          [0.0000, 0.0000, 0.0000,  ..., 0.0000, 0.0000, 0.0000],\n",
      "          [0.0000, 0.0000, 0.0000,  ..., 0.0000, 0.0000, 0.0000]]],\n",
      "\n",
      "\n",
      "        ...,\n",
      "\n",
      "\n",
      "        [[[0.0000, 0.0000, 0.0000,  ..., 0.0000, 0.0000, 0.0000],\n",
      "          [0.0000, 0.0000, 0.0000,  ..., 0.0000, 0.0000, 0.0000],\n",
      "          [0.0000, 0.0000, 0.0000,  ..., 0.0000, 0.0000, 0.0000],\n",
      "          ...,\n",
      "          [0.0000, 0.0000, 0.0000,  ..., 0.0000, 0.0000, 0.0000],\n",
      "          [0.0000, 0.0000, 0.0000,  ..., 0.0000, 0.0000, 0.0000],\n",
      "          [0.0000, 0.0000, 0.0000,  ..., 0.0000, 0.0000, 0.0000]]],\n",
      "\n",
      "\n",
      "        [[[0.0000, 0.0000, 0.0000,  ..., 0.0000, 0.0000, 0.0000],\n",
      "          [0.0000, 0.0000, 0.0000,  ..., 0.0000, 0.0000, 0.0000],\n",
      "          [0.0000, 0.0000, 0.0000,  ..., 0.3647, 0.0000, 0.0000],\n",
      "          ...,\n",
      "          [0.0000, 0.0000, 0.0000,  ..., 0.4588, 0.3059, 0.0000],\n",
      "          [0.0000, 0.0000, 0.0000,  ..., 0.0000, 0.0000, 0.0000],\n",
      "          [0.0000, 0.0000, 0.0000,  ..., 0.0000, 0.0000, 0.0000]]],\n",
      "\n",
      "\n",
      "        [[[0.0000, 0.0000, 0.0000,  ..., 0.0000, 0.0000, 0.0000],\n",
      "          [0.0000, 0.0000, 0.0000,  ..., 0.0000, 0.0000, 0.0000],\n",
      "          [0.0000, 0.0000, 0.0000,  ..., 0.0000, 0.0000, 0.0000],\n",
      "          ...,\n",
      "          [0.0000, 0.0000, 0.0000,  ..., 0.0000, 0.0000, 0.0000],\n",
      "          [0.0000, 0.0000, 0.0000,  ..., 0.0000, 0.0000, 0.0000],\n",
      "          [0.0000, 0.0000, 0.0000,  ..., 0.0000, 0.0000, 0.0000]]]]) tensor([5, 4, 8, 7, 4, 7, 7, 3, 7, 1, 1, 4, 9, 4, 8, 2, 6, 2, 8, 9, 7, 3, 4, 5,\n",
      "        7, 4, 8, 1, 6, 9, 9, 4])\n",
      "1 tensor([[[[0.0000, 0.0000, 0.0000,  ..., 0.0000, 0.0000, 0.0000],\n",
      "          [0.0000, 0.0000, 0.0000,  ..., 0.0000, 0.0000, 0.0000],\n",
      "          [0.0000, 0.0000, 0.0000,  ..., 0.0000, 0.0000, 0.0000],\n",
      "          ...,\n",
      "          [0.0000, 0.0000, 0.0000,  ..., 0.0000, 0.0000, 0.0000],\n",
      "          [0.0000, 0.0000, 0.0000,  ..., 0.0000, 0.0000, 0.0000],\n",
      "          [0.0000, 0.0000, 0.0000,  ..., 0.0000, 0.0000, 0.0000]]],\n",
      "\n",
      "\n",
      "        [[[0.0000, 0.0000, 0.0000,  ..., 0.0000, 0.0000, 0.0000],\n",
      "          [0.0000, 0.0000, 0.0000,  ..., 0.0000, 0.0000, 0.0000],\n",
      "          [0.0000, 0.0000, 0.0000,  ..., 0.0000, 0.0000, 0.0000],\n",
      "          ...,\n",
      "          [0.0000, 0.0000, 0.0000,  ..., 0.0000, 0.0000, 0.0000],\n",
      "          [0.0000, 0.0000, 0.0000,  ..., 0.0000, 0.0000, 0.0000],\n",
      "          [0.0000, 0.0000, 0.0000,  ..., 0.0000, 0.0000, 0.0000]]],\n",
      "\n",
      "\n",
      "        [[[0.0000, 0.0000, 0.0000,  ..., 0.0000, 0.0000, 0.0000],\n",
      "          [0.0000, 0.0000, 0.0000,  ..., 0.0000, 0.0000, 0.0000],\n",
      "          [0.0000, 0.0000, 0.0000,  ..., 0.0000, 0.0000, 0.0000],\n",
      "          ...,\n",
      "          [0.0000, 0.0000, 0.0000,  ..., 0.3569, 0.0000, 0.0000],\n",
      "          [0.0000, 0.0000, 0.0000,  ..., 0.3098, 0.0000, 0.0000],\n",
      "          [0.0000, 0.0000, 0.0000,  ..., 0.1137, 0.0000, 0.0000]]],\n",
      "\n",
      "\n",
      "        ...,\n",
      "\n",
      "\n",
      "        [[[0.0000, 0.0000, 0.0000,  ..., 0.0000, 0.0000, 0.0000],\n",
      "          [0.0000, 0.0000, 0.0000,  ..., 0.0000, 0.0000, 0.0000],\n",
      "          [0.0000, 0.0000, 0.0000,  ..., 0.0000, 0.0000, 0.0000],\n",
      "          ...,\n",
      "          [0.0000, 0.0000, 0.0000,  ..., 0.0000, 0.0000, 0.0000],\n",
      "          [0.0000, 0.0000, 0.0000,  ..., 0.0000, 0.0000, 0.0000],\n",
      "          [0.0000, 0.0000, 0.0000,  ..., 0.0000, 0.0000, 0.0000]]],\n",
      "\n",
      "\n",
      "        [[[0.0000, 0.0000, 0.0000,  ..., 0.0000, 0.0000, 0.0000],\n",
      "          [0.0000, 0.0000, 0.0000,  ..., 0.0000, 0.0000, 0.0000],\n",
      "          [0.0000, 0.0000, 0.0000,  ..., 0.0000, 0.0000, 0.0000],\n",
      "          ...,\n",
      "          [0.0000, 0.2000, 0.3098,  ..., 0.2000, 0.2510, 0.0000],\n",
      "          [0.0000, 0.0000, 0.0000,  ..., 0.0000, 0.0000, 0.0000],\n",
      "          [0.0000, 0.0000, 0.0000,  ..., 0.0000, 0.0000, 0.0000]]],\n",
      "\n",
      "\n",
      "        [[[0.0000, 0.0000, 0.0000,  ..., 0.0000, 0.0000, 0.0000],\n",
      "          [0.0000, 0.0000, 0.0000,  ..., 0.0000, 0.0000, 0.0000],\n",
      "          [0.0000, 0.0000, 0.0000,  ..., 0.0000, 0.0000, 0.0000],\n",
      "          ...,\n",
      "          [0.0000, 0.0000, 0.0000,  ..., 0.0000, 0.0000, 0.0000],\n",
      "          [0.0000, 0.0000, 0.0000,  ..., 0.0000, 0.0000, 0.0000],\n",
      "          [0.0000, 0.0000, 0.0000,  ..., 0.0000, 0.0000, 0.0000]]]]) tensor([0, 7, 2, 0, 0, 8, 1, 3, 9, 1, 2, 1, 5, 4, 3, 9, 2, 6, 9, 8, 9, 6, 5, 0,\n",
      "        3, 1, 7, 9, 7, 1, 8, 9])\n",
      "2 tensor([[[[0., 0., 0.,  ..., 0., 0., 0.],\n",
      "          [0., 0., 0.,  ..., 0., 0., 0.],\n",
      "          [0., 0., 0.,  ..., 0., 0., 0.],\n",
      "          ...,\n",
      "          [0., 0., 0.,  ..., 0., 0., 0.],\n",
      "          [0., 0., 0.,  ..., 0., 0., 0.],\n",
      "          [0., 0., 0.,  ..., 0., 0., 0.]]],\n",
      "\n",
      "\n",
      "        [[[0., 0., 0.,  ..., 0., 0., 0.],\n",
      "          [0., 0., 0.,  ..., 0., 0., 0.],\n",
      "          [0., 0., 0.,  ..., 0., 0., 0.],\n",
      "          ...,\n",
      "          [0., 0., 0.,  ..., 0., 0., 0.],\n",
      "          [0., 0., 0.,  ..., 0., 0., 0.],\n",
      "          [0., 0., 0.,  ..., 0., 0., 0.]]],\n",
      "\n",
      "\n",
      "        [[[0., 0., 0.,  ..., 0., 0., 0.],\n",
      "          [0., 0., 0.,  ..., 0., 0., 0.],\n",
      "          [0., 0., 0.,  ..., 0., 0., 0.],\n",
      "          ...,\n",
      "          [0., 0., 0.,  ..., 0., 0., 0.],\n",
      "          [0., 0., 0.,  ..., 0., 0., 0.],\n",
      "          [0., 0., 0.,  ..., 0., 0., 0.]]],\n",
      "\n",
      "\n",
      "        ...,\n",
      "\n",
      "\n",
      "        [[[0., 0., 0.,  ..., 0., 0., 0.],\n",
      "          [0., 0., 0.,  ..., 0., 0., 0.],\n",
      "          [0., 0., 0.,  ..., 0., 0., 0.],\n",
      "          ...,\n",
      "          [0., 0., 0.,  ..., 0., 0., 0.],\n",
      "          [0., 0., 0.,  ..., 0., 0., 0.],\n",
      "          [0., 0., 0.,  ..., 0., 0., 0.]]],\n",
      "\n",
      "\n",
      "        [[[0., 0., 0.,  ..., 0., 0., 0.],\n",
      "          [0., 0., 0.,  ..., 0., 0., 0.],\n",
      "          [0., 0., 0.,  ..., 0., 0., 0.],\n",
      "          ...,\n",
      "          [0., 0., 0.,  ..., 0., 0., 0.],\n",
      "          [0., 0., 0.,  ..., 0., 0., 0.],\n",
      "          [0., 0., 0.,  ..., 0., 0., 0.]]],\n",
      "\n",
      "\n",
      "        [[[0., 0., 0.,  ..., 0., 0., 0.],\n",
      "          [0., 0., 0.,  ..., 0., 0., 0.],\n",
      "          [0., 0., 0.,  ..., 0., 0., 0.],\n",
      "          ...,\n",
      "          [0., 0., 0.,  ..., 0., 0., 0.],\n",
      "          [0., 0., 0.,  ..., 0., 0., 0.],\n",
      "          [0., 0., 0.,  ..., 0., 0., 0.]]]]) tensor([1, 7, 3, 2, 5, 9, 2, 3, 2, 5, 0, 5, 9, 6, 1, 2, 2, 3, 0, 1, 9, 1, 4, 1,\n",
      "        0, 3, 1, 2, 0, 9, 8, 0])\n",
      "3 tensor([[[[0.0000, 0.0000, 0.0000,  ..., 0.0000, 0.0000, 0.0000],\n",
      "          [0.0000, 0.0000, 0.0000,  ..., 0.0000, 0.0000, 0.0000],\n",
      "          [0.0000, 0.0000, 0.0000,  ..., 0.0000, 0.0000, 0.0000],\n",
      "          ...,\n",
      "          [0.0000, 0.0000, 0.0000,  ..., 0.0000, 0.0000, 0.0000],\n",
      "          [0.0000, 0.0000, 0.0000,  ..., 0.0000, 0.0000, 0.0000],\n",
      "          [0.0000, 0.0000, 0.0000,  ..., 0.0000, 0.0000, 0.0000]]],\n",
      "\n",
      "\n",
      "        [[[0.0000, 0.0000, 0.0000,  ..., 0.0000, 0.0000, 0.0000],\n",
      "          [0.0000, 0.0000, 0.0000,  ..., 0.0000, 0.0000, 0.0000],\n",
      "          [0.0000, 0.0000, 0.0000,  ..., 0.0000, 0.0000, 0.0000],\n",
      "          ...,\n",
      "          [0.0000, 0.0000, 0.0000,  ..., 0.0000, 0.0000, 0.0000],\n",
      "          [0.0000, 0.0000, 0.0000,  ..., 0.0000, 0.0000, 0.0000],\n",
      "          [0.0000, 0.0000, 0.0000,  ..., 0.0000, 0.0000, 0.0000]]],\n",
      "\n",
      "\n",
      "        [[[0.0000, 0.0000, 0.0000,  ..., 0.0039, 0.0000, 0.0000],\n",
      "          [0.0000, 0.0000, 0.0000,  ..., 0.0039, 0.0000, 0.0000],\n",
      "          [0.0000, 0.0000, 0.0078,  ..., 0.0000, 0.0078, 0.0000],\n",
      "          ...,\n",
      "          [0.0000, 0.0000, 0.1216,  ..., 0.8471, 0.0706, 0.0000],\n",
      "          [0.0000, 0.0000, 0.0000,  ..., 1.0000, 0.0000, 0.0000],\n",
      "          [0.0000, 0.0000, 0.0000,  ..., 0.2745, 0.0000, 0.0000]]],\n",
      "\n",
      "\n",
      "        ...,\n",
      "\n",
      "\n",
      "        [[[0.0000, 0.0000, 0.0000,  ..., 0.0000, 0.0000, 0.0000],\n",
      "          [0.0000, 0.0000, 0.0000,  ..., 0.0000, 0.0000, 0.0000],\n",
      "          [0.0000, 0.0000, 0.0000,  ..., 0.0000, 0.0000, 0.0000],\n",
      "          ...,\n",
      "          [0.0000, 0.0000, 0.0000,  ..., 0.0000, 0.0000, 0.0000],\n",
      "          [0.0000, 0.0000, 0.0000,  ..., 0.0000, 0.0000, 0.0000],\n",
      "          [0.0000, 0.0000, 0.0000,  ..., 0.0000, 0.0000, 0.0000]]],\n",
      "\n",
      "\n",
      "        [[[0.0000, 0.0000, 0.0000,  ..., 0.0000, 0.0000, 0.0000],\n",
      "          [0.0000, 0.0000, 0.0000,  ..., 0.0000, 0.0000, 0.0000],\n",
      "          [0.0000, 0.0000, 0.0000,  ..., 0.0000, 0.0000, 0.0000],\n",
      "          ...,\n",
      "          [0.0000, 0.0000, 0.0000,  ..., 0.0000, 0.0000, 0.0000],\n",
      "          [0.0000, 0.0000, 0.0000,  ..., 0.0000, 0.0000, 0.0000],\n",
      "          [0.0000, 0.0000, 0.0000,  ..., 0.0000, 0.0000, 0.0000]]],\n",
      "\n",
      "\n",
      "        [[[0.0000, 0.0000, 0.0000,  ..., 0.0000, 0.0000, 0.0000],\n",
      "          [0.0000, 0.0000, 0.0000,  ..., 0.0000, 0.0000, 0.0000],\n",
      "          [0.0000, 0.0000, 0.0000,  ..., 0.0000, 0.0000, 0.0000],\n",
      "          ...,\n",
      "          [0.0000, 0.0000, 0.0000,  ..., 0.0000, 0.0000, 0.0000],\n",
      "          [0.0000, 0.0000, 0.0000,  ..., 0.0000, 0.0000, 0.0000],\n",
      "          [0.0000, 0.0000, 0.0000,  ..., 0.0000, 0.0000, 0.0000]]]]) tensor([9, 4, 2, 3, 3, 1, 5, 5, 5, 3, 1, 2, 0, 2, 9, 0, 7, 0, 6, 4, 2, 2, 1, 8,\n",
      "        6, 0, 1, 9, 2, 6, 7, 6])\n",
      "4 tensor([[[[0., 0., 0.,  ..., 0., 0., 0.],\n",
      "          [0., 0., 0.,  ..., 0., 0., 0.],\n",
      "          [0., 0., 0.,  ..., 0., 0., 0.],\n",
      "          ...,\n",
      "          [0., 0., 0.,  ..., 0., 0., 0.],\n",
      "          [0., 0., 0.,  ..., 0., 0., 0.],\n",
      "          [0., 0., 0.,  ..., 0., 0., 0.]]],\n",
      "\n",
      "\n",
      "        [[[0., 0., 0.,  ..., 0., 0., 0.],\n",
      "          [0., 0., 0.,  ..., 0., 0., 0.],\n",
      "          [0., 0., 0.,  ..., 0., 0., 0.],\n",
      "          ...,\n",
      "          [0., 0., 0.,  ..., 0., 0., 0.],\n",
      "          [0., 0., 0.,  ..., 0., 0., 0.],\n",
      "          [0., 0., 0.,  ..., 0., 0., 0.]]],\n",
      "\n",
      "\n",
      "        [[[0., 0., 0.,  ..., 0., 0., 0.],\n",
      "          [0., 0., 0.,  ..., 0., 0., 0.],\n",
      "          [0., 0., 0.,  ..., 0., 0., 0.],\n",
      "          ...,\n",
      "          [0., 0., 0.,  ..., 0., 0., 0.],\n",
      "          [0., 0., 0.,  ..., 0., 0., 0.],\n",
      "          [0., 0., 0.,  ..., 0., 0., 0.]]],\n",
      "\n",
      "\n",
      "        ...,\n",
      "\n",
      "\n",
      "        [[[0., 0., 0.,  ..., 0., 0., 0.],\n",
      "          [0., 0., 0.,  ..., 0., 0., 0.],\n",
      "          [0., 0., 0.,  ..., 0., 0., 0.],\n",
      "          ...,\n",
      "          [0., 0., 0.,  ..., 0., 0., 0.],\n",
      "          [0., 0., 0.,  ..., 0., 0., 0.],\n",
      "          [0., 0., 0.,  ..., 0., 0., 0.]]],\n",
      "\n",
      "\n",
      "        [[[0., 0., 0.,  ..., 0., 0., 0.],\n",
      "          [0., 0., 0.,  ..., 0., 0., 0.],\n",
      "          [0., 0., 0.,  ..., 0., 0., 0.],\n",
      "          ...,\n",
      "          [0., 0., 0.,  ..., 0., 0., 0.],\n",
      "          [0., 0., 0.,  ..., 0., 0., 0.],\n",
      "          [0., 0., 0.,  ..., 0., 0., 0.]]],\n",
      "\n",
      "\n",
      "        [[[0., 0., 0.,  ..., 0., 0., 0.],\n",
      "          [0., 0., 0.,  ..., 0., 0., 0.],\n",
      "          [0., 0., 0.,  ..., 0., 0., 0.],\n",
      "          ...,\n",
      "          [0., 0., 0.,  ..., 0., 0., 0.],\n",
      "          [0., 0., 0.,  ..., 0., 0., 0.],\n",
      "          [0., 0., 0.,  ..., 0., 0., 0.]]]]) tensor([3, 5, 7, 7, 0, 0, 5, 8, 6, 9, 9, 5, 8, 0, 8, 3, 3, 5, 6, 8, 3, 5, 4, 2,\n",
      "        5, 0, 4, 8, 8, 4, 2, 5])\n",
      "5 tensor([[[[0.0000, 0.0000, 0.0000,  ..., 0.0000, 0.0000, 0.0000],\n",
      "          [0.0000, 0.0000, 0.0000,  ..., 0.0000, 0.0000, 0.0000],\n",
      "          [0.0000, 0.0000, 0.0000,  ..., 0.0000, 0.0000, 0.0000],\n",
      "          ...,\n",
      "          [0.0000, 0.0000, 0.0000,  ..., 0.0000, 0.0000, 0.0000],\n",
      "          [0.0000, 0.0000, 0.0000,  ..., 0.0000, 0.0000, 0.0000],\n",
      "          [0.0000, 0.0000, 0.0000,  ..., 0.0000, 0.0000, 0.0000]]],\n",
      "\n",
      "\n",
      "        [[[0.0000, 0.0000, 0.0000,  ..., 0.0000, 0.0000, 0.0000],\n",
      "          [0.0000, 0.0000, 0.0000,  ..., 0.0000, 0.0000, 0.0000],\n",
      "          [0.0000, 0.0000, 0.0000,  ..., 0.0000, 0.0000, 0.0000],\n",
      "          ...,\n",
      "          [0.0000, 0.0000, 0.0000,  ..., 0.0000, 0.0000, 0.0000],\n",
      "          [0.0000, 0.0000, 0.0000,  ..., 0.0000, 0.0000, 0.0000],\n",
      "          [0.0000, 0.0000, 0.0000,  ..., 0.0000, 0.0000, 0.0000]]],\n",
      "\n",
      "\n",
      "        [[[0.0000, 0.0000, 0.0000,  ..., 0.0000, 0.0000, 0.0000],\n",
      "          [0.0000, 0.0000, 0.0000,  ..., 0.0000, 0.0000, 0.0000],\n",
      "          [0.0000, 0.0000, 0.0000,  ..., 0.0000, 0.0000, 0.0000],\n",
      "          ...,\n",
      "          [0.0000, 0.0000, 0.0000,  ..., 0.0000, 0.0000, 0.0000],\n",
      "          [0.0000, 0.0000, 0.0000,  ..., 0.0000, 0.0000, 0.0000],\n",
      "          [0.0000, 0.0000, 0.0000,  ..., 0.0000, 0.0000, 0.0000]]],\n",
      "\n",
      "\n",
      "        ...,\n",
      "\n",
      "\n",
      "        [[[0.0000, 0.0000, 0.0000,  ..., 0.0000, 0.0000, 0.0000],\n",
      "          [0.0000, 0.0000, 0.0000,  ..., 0.0000, 0.0000, 0.0000],\n",
      "          [0.0000, 0.0000, 0.0000,  ..., 0.0039, 0.0000, 0.0000],\n",
      "          ...,\n",
      "          [0.0000, 0.0000, 0.0000,  ..., 0.0000, 0.0000, 0.0000],\n",
      "          [0.0000, 0.0000, 0.0000,  ..., 0.0039, 0.0000, 0.0000],\n",
      "          [0.0000, 0.0000, 0.0000,  ..., 0.0000, 0.0000, 0.0000]]],\n",
      "\n",
      "\n",
      "        [[[0.0000, 0.0000, 0.0000,  ..., 0.0000, 0.0000, 0.0000],\n",
      "          [0.0000, 0.0000, 0.0000,  ..., 0.0000, 0.0000, 0.0000],\n",
      "          [0.0000, 0.0000, 0.0000,  ..., 0.0000, 0.0000, 0.0000],\n",
      "          ...,\n",
      "          [0.0000, 0.0000, 0.0000,  ..., 0.0000, 0.0000, 0.0000],\n",
      "          [0.0000, 0.0000, 0.0000,  ..., 0.0000, 0.0000, 0.0000],\n",
      "          [0.0000, 0.0000, 0.0000,  ..., 0.0000, 0.0000, 0.0000]]],\n",
      "\n",
      "\n",
      "        [[[0.0000, 0.0000, 0.0000,  ..., 0.0000, 0.0039, 0.0000],\n",
      "          [0.0000, 0.0000, 0.0000,  ..., 0.0000, 0.0235, 0.0000],\n",
      "          [0.0000, 0.0000, 0.0000,  ..., 0.0000, 0.0235, 0.0000],\n",
      "          ...,\n",
      "          [0.0000, 0.3765, 0.8824,  ..., 0.7765, 0.5922, 0.0000],\n",
      "          [0.0000, 0.0000, 0.0667,  ..., 0.8824, 0.7451, 0.0000],\n",
      "          [0.0000, 0.0000, 0.0000,  ..., 0.3647, 0.2196, 0.0000]]]]) tensor([4, 8, 5, 9, 8, 0, 2, 2, 9, 1, 2, 9, 1, 9, 2, 6, 9, 5, 9, 3, 3, 7, 9, 0,\n",
      "        2, 5, 4, 2, 2, 0, 7, 9])\n"
     ]
    }
   ],
   "source": [
    "\n",
    "\n",
    "# Check out what's inside the training dataloader\n",
    "train_features_batch, train_labels_batch = next(iter(train_dataloader))\n",
    "train_features_batch.shape, train_labels_batch.shape\n",
    "\n",
    "len(train_features_batch)\n",
    "len(train_labels_batch)\n",
    "dir(train_features_batch)\n",
    "\n",
    "len(train_dataloader)\n",
    "\n",
    "for batch, (X, y) in enumerate(train_dataloader):\n",
    "    \n",
    "    print(batch, X, y)\n",
    "    if batch==5:\n",
    "        break"
   ]
  },
  {
   "cell_type": "code",
   "execution_count": 14,
   "id": "209623ce",
   "metadata": {
    "execution": {
     "iopub.execute_input": "2025-06-25T18:33:43.772049Z",
     "iopub.status.busy": "2025-06-25T18:33:43.771565Z",
     "iopub.status.idle": "2025-06-25T18:33:43.876919Z",
     "shell.execute_reply": "2025-06-25T18:33:43.876053Z"
    },
    "papermill": {
     "duration": 0.121926,
     "end_time": "2025-06-25T18:33:43.878475",
     "exception": false,
     "start_time": "2025-06-25T18:33:43.756549",
     "status": "completed"
    },
    "tags": []
   },
   "outputs": [
    {
     "name": "stdout",
     "output_type": "stream",
     "text": [
      "Image size: torch.Size([1, 28, 28])\n",
      "Label: 6, label size: torch.Size([])\n"
     ]
    },
    {
     "data": {
      "image/png": "[encoded data removed]",
      "text/plain": [
       "<Figure size 640x480 with 1 Axes>"
      ]
     },
     "metadata": {},
     "output_type": "display_data"
    }
   ],
   "source": [
    "# Show a sample\n",
    "torch.manual_seed(42)\n",
    "random_idx = torch.randint(0, len(train_features_batch), size=[1]).item()\n",
    "img, label = train_features_batch[random_idx], train_labels_batch[random_idx]\n",
    "plt.imshow(img.squeeze(), cmap=\"gray\")\n",
    "plt.title(class_name[label])\n",
    "plt.axis(\"Off\");\n",
    "print(f\"Image size: {img.shape}\")\n",
    "print(f\"Label: {label}, label size: {label.shape}\")"
   ]
  },
  {
   "cell_type": "markdown",
   "id": "f6339a74",
   "metadata": {
    "papermill": {
     "duration": 0.012242,
     "end_time": "2025-06-25T18:33:43.903813",
     "exception": false,
     "start_time": "2025-06-25T18:33:43.891571",
     "status": "completed"
    },
    "tags": []
   },
   "source": [
    "Create a Baseline model just 2 layer"
   ]
  },
  {
   "cell_type": "code",
   "execution_count": 15,
   "id": "d0845896",
   "metadata": {
    "execution": {
     "iopub.execute_input": "2025-06-25T18:33:43.933696Z",
     "iopub.status.busy": "2025-06-25T18:33:43.933306Z",
     "iopub.status.idle": "2025-06-25T18:33:43.939851Z",
     "shell.execute_reply": "2025-06-25T18:33:43.938866Z"
    },
    "papermill": {
     "duration": 0.022983,
     "end_time": "2025-06-25T18:33:43.941233",
     "exception": false,
     "start_time": "2025-06-25T18:33:43.918250",
     "status": "completed"
    },
    "tags": []
   },
   "outputs": [
    {
     "name": "stdout",
     "output_type": "stream",
     "text": [
      "Shape before flattening: torch.Size([1, 28, 28]) -> [color_channels, height, width]\n",
      "Shape after flattening: torch.Size([1, 784]) -> [color_channels, height*width]\n"
     ]
    }
   ],
   "source": [
    "flatten_model=nn.Flatten()\n",
    "\n",
    "x=train_features_batch[0]\n",
    "\n",
    "output=flatten_model(x)\n",
    "\n",
    "x.shape, output.shape\n",
    "\n",
    "print(f\"Shape before flattening: {x.shape} -> [color_channels, height, width]\")\n",
    "print(f\"Shape after flattening: {output.shape} -> [color_channels, height*width]\")\n"
   ]
  },
  {
   "cell_type": "code",
   "execution_count": 16,
   "id": "884b91db",
   "metadata": {
    "execution": {
     "iopub.execute_input": "2025-06-25T18:33:44.042862Z",
     "iopub.status.busy": "2025-06-25T18:33:44.042417Z",
     "iopub.status.idle": "2025-06-25T18:33:44.049400Z",
     "shell.execute_reply": "2025-06-25T18:33:44.048303Z"
    },
    "papermill": {
     "duration": 0.0298,
     "end_time": "2025-06-25T18:33:44.051178",
     "exception": false,
     "start_time": "2025-06-25T18:33:44.021378",
     "status": "completed"
    },
    "tags": []
   },
   "outputs": [],
   "source": [
    "from torch import nn\n",
    "\n",
    "class FashionV0(nn.Module):\n",
    "    def __init__(self, input_shape: int, hidden_units: int, output_shape: int):\n",
    "        super().__init__()\n",
    "        self.layer_stack = nn.Sequential(\n",
    "            nn.Flatten(), # neural networks like their inputs in vector form\n",
    "            nn.Linear(in_features=input_shape, out_features=hidden_units), # in_features = number of features in a data sample (784 pixels)\n",
    "            nn.Linear(in_features=hidden_units, out_features=output_shape)\n",
    "        )\n",
    "    \n",
    "    def forward(self, x):\n",
    "        return self.layer_stack(x)"
   ]
  },
  {
   "cell_type": "code",
   "execution_count": 17,
   "id": "c4b50f83",
   "metadata": {
    "execution": {
     "iopub.execute_input": "2025-06-25T18:33:44.081405Z",
     "iopub.status.busy": "2025-06-25T18:33:44.081058Z",
     "iopub.status.idle": "2025-06-25T18:33:44.091427Z",
     "shell.execute_reply": "2025-06-25T18:33:44.090543Z"
    },
    "papermill": {
     "duration": 0.027582,
     "end_time": "2025-06-25T18:33:44.093173",
     "exception": false,
     "start_time": "2025-06-25T18:33:44.065591",
     "status": "completed"
    },
    "tags": []
   },
   "outputs": [
    {
     "data": {
      "text/plain": [
       "FashionV0(\n",
       "  (layer_stack): Sequential(\n",
       "    (0): Flatten(start_dim=1, end_dim=-1)\n",
       "    (1): Linear(in_features=784, out_features=10, bias=True)\n",
       "    (2): Linear(in_features=10, out_features=10, bias=True)\n",
       "  )\n",
       ")"
      ]
     },
     "execution_count": 17,
     "metadata": {},
     "output_type": "execute_result"
    }
   ],
   "source": [
    "torch.manual_seed(42)\n",
    "model_0 = FashionV0(input_shape=784, # one for every pixel (28x28)\n",
    "    hidden_units=10, # how many units in the hidden layer\n",
    "    output_shape=len(class_name) # one for every class\n",
    ")\n",
    "model_0.to(\"cpu\")\n"
   ]
  },
  {
   "cell_type": "markdown",
   "id": "9a7c23b3",
   "metadata": {
    "papermill": {
     "duration": 0.013863,
     "end_time": "2025-06-25T18:33:44.121405",
     "exception": false,
     "start_time": "2025-06-25T18:33:44.107542",
     "status": "completed"
    },
    "tags": []
   },
   "source": [
    "SetUp Loss function"
   ]
  },
  {
   "cell_type": "markdown",
   "id": "4b51736a",
   "metadata": {
    "papermill": {
     "duration": 0.012758,
     "end_time": "2025-06-25T18:33:44.147134",
     "exception": false,
     "start_time": "2025-06-25T18:33:44.134376",
     "status": "completed"
    },
    "tags": []
   },
   "source": [
    "Add a helper function"
   ]
  },
  {
   "cell_type": "code",
   "execution_count": 18,
   "id": "a1cade49",
   "metadata": {
    "execution": {
     "iopub.execute_input": "2025-06-25T18:33:44.175200Z",
     "iopub.status.busy": "2025-06-25T18:33:44.174899Z",
     "iopub.status.idle": "2025-06-25T18:33:44.485475Z",
     "shell.execute_reply": "2025-06-25T18:33:44.484277Z"
    },
    "papermill": {
     "duration": 0.3267,
     "end_time": "2025-06-25T18:33:44.487187",
     "exception": false,
     "start_time": "2025-06-25T18:33:44.160487",
     "status": "completed"
    },
    "tags": []
   },
   "outputs": [
    {
     "name": "stdout",
     "output_type": "stream",
     "text": [
      "Downloading helper_functions.py\n"
     ]
    }
   ],
   "source": [
    "import requests\n",
    "from pathlib import Path \n",
    "\n",
    "# Download helper functions from Learn PyTorch repo (if not already downloaded)\n",
    "if Path(\"helper_functions.py\").is_file():\n",
    "  print(\"helper_functions.py already exists, skipping download\")\n",
    "else:\n",
    "  print(\"Downloading helper_functions.py\")\n",
    "  # Note: you need the \"raw\" GitHub URL for this to work\n",
    "  request = requests.get(\"https://raw.githubusercontent.com/mrdbourke/pytorch-deep-learning/main/helper_functions.py\")\n",
    "  with open(\"helper_functions.py\", \"wb\") as f:\n",
    "    f.write(request.content)"
   ]
  },
  {
   "cell_type": "code",
   "execution_count": 19,
   "id": "7862f48f",
   "metadata": {
    "execution": {
     "iopub.execute_input": "2025-06-25T18:33:44.514405Z",
     "iopub.status.busy": "2025-06-25T18:33:44.514077Z",
     "iopub.status.idle": "2025-06-25T18:33:44.525360Z",
     "shell.execute_reply": "2025-06-25T18:33:44.524191Z"
    },
    "papermill": {
     "duration": 0.02705,
     "end_time": "2025-06-25T18:33:44.527199",
     "exception": false,
     "start_time": "2025-06-25T18:33:44.500149",
     "status": "completed"
    },
    "tags": []
   },
   "outputs": [],
   "source": [
    "# Import accuracy metric\n",
    "from helper_functions import accuracy_fn # Note: could also use torchmetrics.Accuracy(task = 'multiclass', num_classes=len(class_names)).to(device)\n",
    "\n",
    "# Setup loss function and optimizer\n",
    "loss_fn = nn.CrossEntropyLoss() # this is also called \"criterion\"/\"cost function\" in some places\n",
    "optimizer = torch.optim.SGD(params=model_0.parameters(), lr=0.1)"
   ]
  },
  {
   "cell_type": "code",
   "execution_count": 20,
   "id": "cc2a087b",
   "metadata": {
    "execution": {
     "iopub.execute_input": "2025-06-25T18:33:44.556340Z",
     "iopub.status.busy": "2025-06-25T18:33:44.556003Z",
     "iopub.status.idle": "2025-06-25T18:33:44.562046Z",
     "shell.execute_reply": "2025-06-25T18:33:44.560770Z"
    },
    "papermill": {
     "duration": 0.02184,
     "end_time": "2025-06-25T18:33:44.563626",
     "exception": false,
     "start_time": "2025-06-25T18:33:44.541786",
     "status": "completed"
    },
    "tags": []
   },
   "outputs": [],
   "source": [
    "from timeit import default_timer as timer \n",
    "def print_train_time(start: float, end: float, device: torch.device = None):\n",
    "    \"\"\"Prints difference between start and end time.\n",
    "\n",
    "    Args:\n",
    "        start (float): Start time of computation (preferred in timeit format). \n",
    "        end (float): End time of computation.\n",
    "        device ([type], optional): Device that compute is running on. Defaults to None.\n",
    "\n",
    "    Returns:\n",
    "        float: time between start and end in seconds (higher is longer).\n",
    "    \"\"\"\n",
    "    total_time = end - start\n",
    "    print(f\"Train time on {device}: {total_time:.3f} seconds\")\n",
    "    return total_time"
   ]
  },
  {
   "cell_type": "code",
   "execution_count": 21,
   "id": "c47b85c5",
   "metadata": {
    "execution": {
     "iopub.execute_input": "2025-06-25T18:33:44.594871Z",
     "iopub.status.busy": "2025-06-25T18:33:44.594509Z",
     "iopub.status.idle": "2025-06-25T18:34:14.444470Z",
     "shell.execute_reply": "2025-06-25T18:34:14.443522Z"
    },
    "papermill": {
     "duration": 29.867151,
     "end_time": "2025-06-25T18:34:14.446231",
     "exception": false,
     "start_time": "2025-06-25T18:33:44.579080",
     "status": "completed"
    },
    "tags": []
   },
   "outputs": [
    {
     "data": {
      "application/vnd.jupyter.widget-view+json": {
       "model_id": "ac6a57017dc741a4992be73554d13e3a",
       "version_major": 2,
       "version_minor": 0
      },
      "text/plain": [
       "  0%|          | 0/3 [00:00<?, ?it/s]"
      ]
     },
     "metadata": {},
     "output_type": "display_data"
    },
    {
     "name": "stdout",
     "output_type": "stream",
     "text": [
      "Epoch: 0\n",
      "-------\n",
      "Looked at 0/60000 samples\n",
      "Looked at 12800/60000 samples\n",
      "Looked at 25600/60000 samples\n",
      "Looked at 38400/60000 samples\n",
      "Looked at 51200/60000 samples\n",
      "\n",
      "Train loss: 0.59039 | Test loss: 0.50954, Test acc: 82.04%\n",
      "\n",
      "Epoch: 1\n",
      "-------\n",
      "Looked at 0/60000 samples\n",
      "Looked at 12800/60000 samples\n",
      "Looked at 25600/60000 samples\n",
      "Looked at 38400/60000 samples\n",
      "Looked at 51200/60000 samples\n",
      "\n",
      "Train loss: 0.47633 | Test loss: 0.47989, Test acc: 83.20%\n",
      "\n",
      "Epoch: 2\n",
      "-------\n",
      "Looked at 0/60000 samples\n",
      "Looked at 12800/60000 samples\n",
      "Looked at 25600/60000 samples\n",
      "Looked at 38400/60000 samples\n",
      "Looked at 51200/60000 samples\n",
      "\n",
      "Train loss: 0.45503 | Test loss: 0.47664, Test acc: 83.43%\n",
      "\n",
      "Train time on cpu: 29.666 seconds\n"
     ]
    }
   ],
   "source": [
    "# Import tqdm for progress bar\n",
    "from tqdm.auto import tqdm\n",
    "\n",
    "# Set the seed and start the timer\n",
    "torch.manual_seed(42)\n",
    "train_time_start_on_cpu = timer()\n",
    "\n",
    "# Set the number of epochs (we'll keep this small for faster training times)\n",
    "epochs = 3\n",
    "\n",
    "# Create training and testing loop\n",
    "for epoch in tqdm(range(epochs)):\n",
    "    print(f\"Epoch: {epoch}\\n-------\")\n",
    "    ### Training\n",
    "    train_loss = 0\n",
    "    # Add a loop to loop through training batches\n",
    "    for batch, (X, y) in enumerate(train_dataloader):\n",
    "        model_0.train() \n",
    "        # 1. Forward pass\n",
    "        y_pred = model_0(X)\n",
    "\n",
    "        # 2. Calculate loss (per batch)\n",
    "        loss = loss_fn(y_pred, y)\n",
    "        train_loss += loss # accumulatively add up the loss per epoch \n",
    "\n",
    "        # 3. Optimizer zero grad\n",
    "        optimizer.zero_grad()\n",
    "\n",
    "        # 4. Loss backward\n",
    "        loss.backward()\n",
    "\n",
    "        # 5. Optimizer step\n",
    "        optimizer.step()\n",
    "\n",
    "        # Print out how many samples have been seen\n",
    "        if batch % 400 == 0:\n",
    "            print(f\"Looked at {batch * len(X)}/{len(train_dataloader.dataset)} samples\")\n",
    "\n",
    "    # Divide total train loss by length of train dataloader (average loss per batch per epoch)\n",
    "    train_loss /= len(train_dataloader)\n",
    "    \n",
    "    ### Testing\n",
    "    # Setup variables for accumulatively adding up loss and accuracy \n",
    "    test_loss, test_acc = 0, 0 \n",
    "    model_0.eval()\n",
    "    with torch.inference_mode():\n",
    "        for X, y in test_dataloader:\n",
    "            # 1. Forward pass\n",
    "            test_pred = model_0(X)\n",
    "           \n",
    "            # 2. Calculate loss (accumulatively)\n",
    "            test_loss += loss_fn(test_pred, y) # accumulatively add up the loss per epoch\n",
    "\n",
    "            # 3. Calculate accuracy (preds need to be same as y_true)\n",
    "            test_acc += accuracy_fn(y_true=y, y_pred=test_pred.argmax(dim=1))\n",
    "        \n",
    "        # Calculations on test metrics need to happen inside torch.inference_mode()\n",
    "        # Divide total test loss by length of test dataloader (per batch)\n",
    "        test_loss /= len(test_dataloader)\n",
    "\n",
    "        # Divide total accuracy by length of test dataloader (per batch)\n",
    "        test_acc /= len(test_dataloader)\n",
    "\n",
    "    ## Print out what's happening\n",
    "    print(f\"\\nTrain loss: {train_loss:.5f} | Test loss: {test_loss:.5f}, Test acc: {test_acc:.2f}%\\n\")\n",
    "\n",
    "# Calculate training time      \n",
    "train_time_end_on_cpu = timer()\n",
    "total_train_time_model_0 = print_train_time(start=train_time_start_on_cpu, \n",
    "                                           end=train_time_end_on_cpu,\n",
    "                                           device=str(next(model_0.parameters()).device))"
   ]
  },
  {
   "cell_type": "code",
   "execution_count": 22,
   "id": "586f8dec",
   "metadata": {
    "execution": {
     "iopub.execute_input": "2025-06-25T18:34:14.475572Z",
     "iopub.status.busy": "2025-06-25T18:34:14.475228Z",
     "iopub.status.idle": "2025-06-25T18:34:15.542716Z",
     "shell.execute_reply": "2025-06-25T18:34:15.541748Z"
    },
    "papermill": {
     "duration": 1.084131,
     "end_time": "2025-06-25T18:34:15.544573",
     "exception": false,
     "start_time": "2025-06-25T18:34:14.460442",
     "status": "completed"
    },
    "tags": []
   },
   "outputs": [
    {
     "data": {
      "text/plain": [
       "{'model_name': 'FashionV0',\n",
       " 'model_loss': 0.4766390025615692,\n",
       " 'model_acc': 83.42651757188499}"
      ]
     },
     "execution_count": 22,
     "metadata": {},
     "output_type": "execute_result"
    }
   ],
   "source": [
    "torch.manual_seed(42)\n",
    "def eval_model(model: torch.nn.Module, \n",
    "               data_loader: torch.utils.data.DataLoader, \n",
    "               loss_fn: torch.nn.Module, \n",
    "               accuracy_fn):\n",
    "    \"\"\"Returns a dictionary containing the results of model predicting on data_loader.\n",
    "\n",
    "    Args:\n",
    "        model (torch.nn.Module): A PyTorch model capable of making predictions on data_loader.\n",
    "        data_loader (torch.utils.data.DataLoader): The target dataset to predict on.\n",
    "        loss_fn (torch.nn.Module): The loss function of model.\n",
    "        accuracy_fn: An accuracy function to compare the models predictions to the truth labels.\n",
    "\n",
    "    Returns:\n",
    "        (dict): Results of model making predictions on data_loader.\n",
    "    \"\"\"\n",
    "    loss, acc = 0, 0\n",
    "    model.eval()\n",
    "    with torch.inference_mode():\n",
    "        for X, y in data_loader:\n",
    "            # Make predictions with the model\n",
    "            y_pred = model(X)\n",
    "            \n",
    "            # Accumulate the loss and accuracy values per batch\n",
    "            loss += loss_fn(y_pred, y)\n",
    "            acc += accuracy_fn(y_true=y, \n",
    "                                y_pred=y_pred.argmax(dim=1)) # For accuracy, need the prediction labels (logits -> pred_prob -> pred_labels)\n",
    "        \n",
    "        # Scale loss and acc to find the average loss/acc per batch\n",
    "        loss /= len(data_loader)\n",
    "        acc /= len(data_loader)\n",
    "        \n",
    "    return {\"model_name\": model.__class__.__name__, # only works when model was created with a class\n",
    "            \"model_loss\": loss.item(),\n",
    "            \"model_acc\": acc}\n",
    "\n",
    "# Calculate model 0 results on test dataset\n",
    "model_0_results = eval_model(model=model_0, data_loader=test_dataloader,\n",
    "    loss_fn=loss_fn, accuracy_fn=accuracy_fn\n",
    ")\n",
    "model_0_results"
   ]
  },
  {
   "cell_type": "code",
   "execution_count": 23,
   "id": "9b7fe0fe",
   "metadata": {
    "execution": {
     "iopub.execute_input": "2025-06-25T18:34:15.580732Z",
     "iopub.status.busy": "2025-06-25T18:34:15.580362Z",
     "iopub.status.idle": "2025-06-25T18:34:45.505211Z",
     "shell.execute_reply": "2025-06-25T18:34:45.504243Z"
    },
    "papermill": {
     "duration": 29.943649,
     "end_time": "2025-06-25T18:34:45.506737",
     "exception": false,
     "start_time": "2025-06-25T18:34:15.563088",
     "status": "completed"
    },
    "tags": []
   },
   "outputs": [
    {
     "name": "stdout",
     "output_type": "stream",
     "text": [
      "Epochs number 0--- \n"
     ]
    },
    {
     "data": {
      "application/vnd.jupyter.widget-view+json": {
       "model_id": "cbf21f8446cb4597837e49a3cfbc5047",
       "version_major": 2,
       "version_minor": 0
      },
      "text/plain": [
       "0it [00:00, ?it/s]"
      ]
     },
     "metadata": {},
     "output_type": "display_data"
    },
    {
     "name": "stdout",
     "output_type": "stream",
     "text": [
      " Batch number out of 0/60000\n",
      " Batch number out of 400/60000\n",
      " Batch number out of 800/60000\n",
      " Batch number out of 1200/60000\n",
      " Batch number out of 1600/60000\n",
      "tensor(0.4429, grad_fn=<DivBackward0>)\n",
      "\n",
      "Train loss: 0.44286 | Test loss: 0.50540, Test acc: 82.36%\n",
      "\n",
      "Epochs number 1--- \n"
     ]
    },
    {
     "data": {
      "application/vnd.jupyter.widget-view+json": {
       "model_id": "9144e9ea7c49477c81f26ec797160816",
       "version_major": 2,
       "version_minor": 0
      },
      "text/plain": [
       "0it [00:00, ?it/s]"
      ]
     },
     "metadata": {},
     "output_type": "display_data"
    },
    {
     "name": "stdout",
     "output_type": "stream",
     "text": [
      " Batch number out of 0/60000\n",
      " Batch number out of 400/60000\n",
      " Batch number out of 800/60000\n",
      " Batch number out of 1200/60000\n",
      " Batch number out of 1600/60000\n",
      "tensor(0.4343, grad_fn=<DivBackward0>)\n",
      "\n",
      "Train loss: 0.43426 | Test loss: 0.49740, Test acc: 82.91%\n",
      "\n",
      "Epochs number 2--- \n"
     ]
    },
    {
     "data": {
      "application/vnd.jupyter.widget-view+json": {
       "model_id": "141c0bf5da60442d901a65f9edb00f1c",
       "version_major": 2,
       "version_minor": 0
      },
      "text/plain": [
       "0it [00:00, ?it/s]"
      ]
     },
     "metadata": {},
     "output_type": "display_data"
    },
    {
     "name": "stdout",
     "output_type": "stream",
     "text": [
      " Batch number out of 0/60000\n",
      " Batch number out of 400/60000\n",
      " Batch number out of 800/60000\n",
      " Batch number out of 1200/60000\n",
      " Batch number out of 1600/60000\n",
      "tensor(0.4292, grad_fn=<DivBackward0>)\n",
      "\n",
      "Train loss: 0.42920 | Test loss: 0.45719, Test acc: 84.07%\n",
      "\n"
     ]
    }
   ],
   "source": [
    "epochs=3\n",
    "for epochs in range(epochs):\n",
    "    print(f\"Epochs number {epochs}--- \")\n",
    "    train_loss=0\n",
    "    \n",
    "    for batch, (X,y) in tqdm(enumerate(train_dataloader)):\n",
    "        model_0.train()\n",
    "        #do the forward pass\n",
    "        y_pred=model_0(X)\n",
    "        #calculate the loss\n",
    "        loss=loss_fn(y_pred,y)\n",
    "        train_loss+=loss\n",
    "        #optimizer zero grad\n",
    "        optimizer.zero_grad()\n",
    "        #loss backward\n",
    "        loss.backward()\n",
    "        #optimizer step step step step\n",
    "        optimizer.step()\n",
    "        if batch % 400==0:\n",
    "            print(f\" Batch number out of {batch}/{len(train_data)}\")\n",
    "    train_loss/=len(train_dataloader)\n",
    "    print(train_loss)\n",
    "\n",
    "    #testing test data\n",
    "    test_loss, test_acc=0,0\n",
    "    model_0.eval()\n",
    "    with torch.inference_mode():\n",
    "        for X,y in test_dataloader:\n",
    "            test_pred=model_0(X)\n",
    "            test_loss+=loss_fn(test_pred,y)\n",
    "            test_acc += accuracy_fn(y_true=y, y_pred=test_pred.argmax(dim=1))\n",
    "        test_loss/=len(test_dataloader)\n",
    "        test_acc/=len(test_dataloader)\n",
    "    print(f\"\\nTrain loss: {train_loss:.5f} | Test loss: {test_loss:.5f}, Test acc: {test_acc:.2f}%\\n\")\n",
    "    \n",
    "\n",
    "\n",
    "        \n",
    "    \n",
    "    "
   ]
  },
  {
   "cell_type": "code",
   "execution_count": 24,
   "id": "2a831cf9",
   "metadata": {
    "execution": {
     "iopub.execute_input": "2025-06-25T18:34:45.538732Z",
     "iopub.status.busy": "2025-06-25T18:34:45.538374Z",
     "iopub.status.idle": "2025-06-25T18:34:45.544138Z",
     "shell.execute_reply": "2025-06-25T18:34:45.543177Z"
    },
    "papermill": {
     "duration": 0.023385,
     "end_time": "2025-06-25T18:34:45.545792",
     "exception": false,
     "start_time": "2025-06-25T18:34:45.522407",
     "status": "completed"
    },
    "tags": []
   },
   "outputs": [],
   "source": [
    "class FasionV1(nn.Module):\n",
    "    def __init__(self, input_shape: int, hidden_units: int, output_shape: int):\n",
    "        super().__init__()\n",
    "        self.layer_stack=nn.Sequential(\n",
    "            nn.Flatten(),\n",
    "            nn.Linear(in_features=input_shape, out_features=hidden_units),\n",
    "            nn.ReLU(),\n",
    "            nn.Linear(in_features=hidden_units, out_features=output_shape),\n",
    "            nn.ReLU() \n",
    "        )\n",
    "    def forward(self, x: torch.tensor):\n",
    "        return self.layer_stack(x) "
   ]
  },
  {
   "cell_type": "code",
   "execution_count": 25,
   "id": "e9d96d8e",
   "metadata": {
    "execution": {
     "iopub.execute_input": "2025-06-25T18:34:45.577658Z",
     "iopub.status.busy": "2025-06-25T18:34:45.577308Z",
     "iopub.status.idle": "2025-06-25T18:34:45.584850Z",
     "shell.execute_reply": "2025-06-25T18:34:45.583813Z"
    },
    "papermill": {
     "duration": 0.025031,
     "end_time": "2025-06-25T18:34:45.586251",
     "exception": false,
     "start_time": "2025-06-25T18:34:45.561220",
     "status": "completed"
    },
    "tags": []
   },
   "outputs": [
    {
     "data": {
      "text/plain": [
       "FasionV1(\n",
       "  (layer_stack): Sequential(\n",
       "    (0): Flatten(start_dim=1, end_dim=-1)\n",
       "    (1): Linear(in_features=784, out_features=10, bias=True)\n",
       "    (2): ReLU()\n",
       "    (3): Linear(in_features=10, out_features=10, bias=True)\n",
       "    (4): ReLU()\n",
       "  )\n",
       ")"
      ]
     },
     "execution_count": 25,
     "metadata": {},
     "output_type": "execute_result"
    }
   ],
   "source": [
    "model_1=FasionV1(784,10,len(class_name))\n",
    "model_1\n",
    "# model_1.parameters()"
   ]
  },
  {
   "cell_type": "markdown",
   "id": "d8d9ce3b",
   "metadata": {
    "papermill": {
     "duration": 0.014808,
     "end_time": "2025-06-25T18:34:45.616369",
     "exception": false,
     "start_time": "2025-06-25T18:34:45.601561",
     "status": "completed"
    },
    "tags": []
   },
   "source": [
    "setup loss , optimizer"
   ]
  },
  {
   "cell_type": "code",
   "execution_count": 26,
   "id": "11e28f41",
   "metadata": {
    "execution": {
     "iopub.execute_input": "2025-06-25T18:34:45.648248Z",
     "iopub.status.busy": "2025-06-25T18:34:45.647943Z",
     "iopub.status.idle": "2025-06-25T18:34:45.653099Z",
     "shell.execute_reply": "2025-06-25T18:34:45.652149Z"
    },
    "papermill": {
     "duration": 0.023068,
     "end_time": "2025-06-25T18:34:45.654759",
     "exception": false,
     "start_time": "2025-06-25T18:34:45.631691",
     "status": "completed"
    },
    "tags": []
   },
   "outputs": [],
   "source": [
    "from helper_functions import accuracy_fn\n",
    "\n",
    "loss_fn = nn.CrossEntropyLoss()\n",
    "\n",
    "optimizer=torch.optim.SGD(params=model_1.parameters(),lr=0.01)\n",
    "\n",
    "device='cpu'"
   ]
  },
  {
   "cell_type": "code",
   "execution_count": 27,
   "id": "3ddf56df",
   "metadata": {
    "execution": {
     "iopub.execute_input": "2025-06-25T18:34:45.687001Z",
     "iopub.status.busy": "2025-06-25T18:34:45.686696Z",
     "iopub.status.idle": "2025-06-25T18:34:45.898226Z",
     "shell.execute_reply": "2025-06-25T18:34:45.897448Z"
    },
    "papermill": {
     "duration": 0.229614,
     "end_time": "2025-06-25T18:34:45.899813",
     "exception": false,
     "start_time": "2025-06-25T18:34:45.670199",
     "status": "completed"
    },
    "tags": []
   },
   "outputs": [],
   "source": [
    "def train_step(model: torch.nn.Module,\n",
    "               data_loader: torch.utils.data.DataLoader,\n",
    "               loss_fn: torch.nn.Module,\n",
    "               optimizer: torch.optim.Optimizer,\n",
    "               accuracy_fn,\n",
    "               device: torch.device = device):\n",
    "    train_loss, train_acc = 0, 0\n",
    "    model.to(device)\n",
    "    for batch, (X, y) in enumerate(data_loader):\n",
    "        # Send data to GPU\n",
    "        X, y = X.to(device), y.to(device)\n",
    "\n",
    "        # 1. Forward pass\n",
    "        y_pred = model(X)\n",
    "\n",
    "        # 2. Calculate loss\n",
    "        loss = loss_fn(y_pred, y)\n",
    "        train_loss += loss\n",
    "        train_acc += accuracy_fn(y_true=y,\n",
    "                                 y_pred=y_pred.argmax(dim=1)) # Go from logits -> pred labels\n",
    "\n",
    "        # 3. Optimizer zero grad\n",
    "        optimizer.zero_grad()\n",
    "\n",
    "        # 4. Loss backward\n",
    "        loss.backward()\n",
    "\n",
    "        # 5. Optimizer step\n",
    "        optimizer.step()\n",
    "\n",
    "    # Calculate loss and accuracy per epoch and print out what's happening\n",
    "    train_loss /= len(data_loader)\n",
    "    train_acc /= len(data_loader)\n",
    "    print(f\"Train loss: {train_loss:.5f} | Train accuracy: {train_acc:.2f}%\")\n",
    "\n",
    "def test_step(data_loader: torch.utils.data.DataLoader,\n",
    "              model: torch.nn.Module,\n",
    "              loss_fn: torch.nn.Module,\n",
    "              accuracy_fn,\n",
    "              device: torch.device = device):\n",
    "    test_loss, test_acc = 0, 0\n",
    "    model.to(device)\n",
    "    model.eval() # put model in eval mode\n",
    "    # Turn on inference context manager\n",
    "    with torch.inference_mode(): \n",
    "        for X, y in data_loader:\n",
    "            # Send data to GPU\n",
    "            X, y = X.to(device), y.to(device)\n",
    "            \n",
    "            # 1. Forward pass\n",
    "            test_pred = model(X)\n",
    "            \n",
    "            # 2. Calculate loss and accuracy\n",
    "            test_loss += loss_fn(test_pred, y)\n",
    "            test_acc += accuracy_fn(y_true=y,\n",
    "                y_pred=test_pred.argmax(dim=1) # Go from logits -> pred labels\n",
    "            )\n",
    "        \n",
    "        # Adjust metrics and print out\n",
    "        test_loss /= len(data_loader)\n",
    "        test_acc /= len(data_loader)\n",
    "        print(f\"Test loss: {test_loss:.5f} | Test accuracy: {test_acc:.2f}%\\n\")"
   ]
  },
  {
   "cell_type": "code",
   "execution_count": 28,
   "id": "8bff70c1",
   "metadata": {
    "execution": {
     "iopub.execute_input": "2025-06-25T18:34:45.931622Z",
     "iopub.status.busy": "2025-06-25T18:34:45.931308Z",
     "iopub.status.idle": "2025-06-25T18:35:14.566953Z",
     "shell.execute_reply": "2025-06-25T18:35:14.566000Z"
    },
    "papermill": {
     "duration": 28.654054,
     "end_time": "2025-06-25T18:35:14.569203",
     "exception": false,
     "start_time": "2025-06-25T18:34:45.915149",
     "status": "completed"
    },
    "tags": []
   },
   "outputs": [
    {
     "data": {
      "application/vnd.jupyter.widget-view+json": {
       "model_id": "a4115c663e9649eeb8056bb52f88b654",
       "version_major": 2,
       "version_minor": 0
      },
      "text/plain": [
       "  0%|          | 0/3 [00:00<?, ?it/s]"
      ]
     },
     "metadata": {},
     "output_type": "display_data"
    },
    {
     "name": "stdout",
     "output_type": "stream",
     "text": [
      "Epoch: 0\n",
      "---------\n",
      "Train loss: 1.45922 | Train accuracy: 54.35%\n",
      "Test loss: 1.12435 | Test accuracy: 65.76%\n",
      "\n",
      "Epoch: 1\n",
      "---------\n",
      "Train loss: 1.05004 | Train accuracy: 67.80%\n",
      "Test loss: 1.02114 | Test accuracy: 68.52%\n",
      "\n",
      "Epoch: 2\n",
      "---------\n",
      "Train loss: 0.97942 | Train accuracy: 69.61%\n",
      "Test loss: 0.98073 | Test accuracy: 69.21%\n",
      "\n",
      "Train time on cpu: 28.627 seconds\n"
     ]
    }
   ],
   "source": [
    "torch.manual_seed(42)\n",
    "\n",
    "# Measure time\n",
    "from timeit import default_timer as timer\n",
    "train_time_start_on_gpu = timer()\n",
    "\n",
    "epochs = 3\n",
    "for epoch in tqdm(range(epochs)):\n",
    "    print(f\"Epoch: {epoch}\\n---------\")\n",
    "    train_step(data_loader=train_dataloader, \n",
    "        model=model_1, \n",
    "        loss_fn=loss_fn,\n",
    "        optimizer=optimizer,\n",
    "        accuracy_fn=accuracy_fn\n",
    "    )\n",
    "    test_step(data_loader=test_dataloader,\n",
    "        model=model_1,\n",
    "        loss_fn=loss_fn,\n",
    "        accuracy_fn=accuracy_fn\n",
    "    )\n",
    "\n",
    "train_time_end_on_gpu = timer()\n",
    "total_train_time_model_1 = print_train_time(start=train_time_start_on_gpu,\n",
    "                                            end=train_time_end_on_gpu,\n",
    "                                            device=device)"
   ]
  },
  {
   "cell_type": "code",
   "execution_count": 29,
   "id": "786bfdd8",
   "metadata": {
    "execution": {
     "iopub.execute_input": "2025-06-25T18:35:14.604760Z",
     "iopub.status.busy": "2025-06-25T18:35:14.604357Z",
     "iopub.status.idle": "2025-06-25T18:35:15.725916Z",
     "shell.execute_reply": "2025-06-25T18:35:15.724970Z"
    },
    "papermill": {
     "duration": 1.140459,
     "end_time": "2025-06-25T18:35:15.727420",
     "exception": false,
     "start_time": "2025-06-25T18:35:14.586961",
     "status": "completed"
    },
    "tags": []
   },
   "outputs": [
    {
     "data": {
      "text/plain": [
       "{'model_name': 'FasionV1',\n",
       " 'model_loss': 0.980731725692749,\n",
       " 'model_acc': 69.20926517571885}"
      ]
     },
     "execution_count": 29,
     "metadata": {},
     "output_type": "execute_result"
    }
   ],
   "source": [
    "torch.manual_seed(42)\n",
    "\n",
    "# Note: This will error due to `eval_model()` not using device agnostic code \n",
    "model_1_results = eval_model(model=model_1, \n",
    "    data_loader=test_dataloader,\n",
    "    loss_fn=loss_fn, \n",
    "    accuracy_fn=accuracy_fn) \n",
    "model_1_results "
   ]
  },
  {
   "cell_type": "markdown",
   "id": "608b19ee",
   "metadata": {
    "papermill": {
     "duration": 0.015871,
     "end_time": "2025-06-25T18:35:15.759528",
     "exception": false,
     "start_time": "2025-06-25T18:35:15.743657",
     "status": "completed"
    },
    "tags": []
   },
   "source": [
    "Now move on CNN Code."
   ]
  },
  {
   "cell_type": "markdown",
   "id": "2855a4a7",
   "metadata": {
    "papermill": {
     "duration": 0.015725,
     "end_time": "2025-06-25T18:35:15.791301",
     "exception": false,
     "start_time": "2025-06-25T18:35:15.775576",
     "status": "completed"
    },
    "tags": []
   },
   "source": [
    "Play with maxpool"
   ]
  },
  {
   "cell_type": "code",
   "execution_count": 30,
   "id": "b2dcae0d",
   "metadata": {
    "execution": {
     "iopub.execute_input": "2025-06-25T18:35:15.824102Z",
     "iopub.status.busy": "2025-06-25T18:35:15.823801Z",
     "iopub.status.idle": "2025-06-25T18:35:15.844835Z",
     "shell.execute_reply": "2025-06-25T18:35:15.843748Z"
    },
    "papermill": {
     "duration": 0.039749,
     "end_time": "2025-06-25T18:35:15.846774",
     "exception": false,
     "start_time": "2025-06-25T18:35:15.807025",
     "status": "completed"
    },
    "tags": []
   },
   "outputs": [
    {
     "name": "stdout",
     "output_type": "stream",
     "text": [
      "Image batch shape: torch.Size([32, 3, 64, 64]) -> [batch_size, color_channels, height, width]\n",
      "Single image shape: torch.Size([3, 64, 64]) -> [color_channels, height, width]\n",
      "Single image pixel values:\n",
      "tensor([[[ 1.9269,  1.4873,  0.9007,  ...,  1.8446, -1.1845,  1.3835],\n",
      "         [ 1.4451,  0.8564,  2.2181,  ...,  0.3399,  0.7200,  0.4114],\n",
      "         [ 1.9312,  1.0119, -1.4364,  ..., -0.5558,  0.7043,  0.7099],\n",
      "         ...,\n",
      "         [-0.5610, -0.4830,  0.4770,  ..., -0.2713, -0.9537, -0.6737],\n",
      "         [ 0.3076, -0.1277,  0.0366,  ..., -2.0060,  0.2824, -0.8111],\n",
      "         [-1.5486,  0.0485, -0.7712,  ..., -0.1403,  0.9416, -0.0118]],\n",
      "\n",
      "        [[-0.5197,  1.8524,  1.8365,  ...,  0.8935, -1.5114, -0.8515],\n",
      "         [ 2.0818,  1.0677, -1.4277,  ...,  1.6612, -2.6223, -0.4319],\n",
      "         [-0.1010, -0.4388, -1.9775,  ...,  0.2106,  0.2536, -0.7318],\n",
      "         ...,\n",
      "         [ 0.2779,  0.7342, -0.3736,  ..., -0.4601,  0.1815,  0.1850],\n",
      "         [ 0.7205, -0.2833,  0.0937,  ..., -0.1002, -2.3609,  2.2465],\n",
      "         [-1.3242, -0.1973,  0.2920,  ...,  0.5409,  0.6940,  1.8563]],\n",
      "\n",
      "        [[-0.7978,  1.0261,  1.1465,  ...,  1.2134,  0.9354, -0.0780],\n",
      "         [-1.4647, -1.9571,  0.1017,  ..., -1.9986, -0.7409,  0.7011],\n",
      "         [-1.3938,  0.8466, -1.7191,  ..., -1.1867,  0.1320,  0.3407],\n",
      "         ...,\n",
      "         [ 0.8206, -0.3745,  1.2499,  ..., -0.0676,  0.0385,  0.6335],\n",
      "         [-0.5589, -0.3393,  0.2347,  ...,  2.1181,  2.4569,  1.3083],\n",
      "         [-0.4092,  1.5199,  0.2401,  ..., -0.2558,  0.7870,  0.9924]]])\n"
     ]
    }
   ],
   "source": [
    "# torch.random_manual(42)\n",
    "\n",
    "# image=torch.randn(size=(32,3,64,64))\n",
    "# image\n",
    "\n",
    "torch.manual_seed(42)\n",
    "\n",
    "# Create sample batch of random numbers with same size as image batch\n",
    "images = torch.randn(size=(32, 3, 64, 64)) # [batch_size, color_channels, height, width]\n",
    "test_image = images[0] # get a single image for testing\n",
    "print(f\"Image batch shape: {images.shape} -> [batch_size, color_channels, height, width]\")\n",
    "print(f\"Single image shape: {test_image.shape} -> [color_channels, height, width]\") \n",
    "print(f\"Single image pixel values:\\n{test_image}\")"
   ]
  },
  {
   "cell_type": "code",
   "execution_count": 31,
   "id": "00e0c6e1",
   "metadata": {
    "execution": {
     "iopub.execute_input": "2025-06-25T18:35:15.886110Z",
     "iopub.status.busy": "2025-06-25T18:35:15.885810Z",
     "iopub.status.idle": "2025-06-25T18:35:15.915656Z",
     "shell.execute_reply": "2025-06-25T18:35:15.914494Z"
    },
    "papermill": {
     "duration": 0.049017,
     "end_time": "2025-06-25T18:35:15.917515",
     "exception": false,
     "start_time": "2025-06-25T18:35:15.868498",
     "status": "completed"
    },
    "tags": []
   },
   "outputs": [
    {
     "data": {
      "text/plain": [
       "MaxPool2d(\n",
       "  kernel_size=tensor([[[[ 1.9269,  1.4873,  0.9007,  ...,  1.8446, -1.1845,  1.3835],\n",
       "            [ 1.4451,  0.8564,  2.2181,  ...,  0.3399,  0.7200,  0.4114],\n",
       "            [ 1.9312,  1.0119, -1.4364,  ..., -0.5558,  0.7043,  0.7099],\n",
       "            ...,\n",
       "            [-0.5610, -0.4830,  0.4770,  ..., -0.2713, -0.9537, -0.6737],\n",
       "            [ 0.3076, -0.1277,  0.0366,  ..., -2.0060,  0.2824, -0.8111],\n",
       "            [-1.5486,  0.0485, -0.7712,  ..., -0.1403,  0.9416, -0.0118]],\n",
       "  \n",
       "           [[-0.5197,  1.8524,  1.8365,  ...,  0.8935, -1.5114, -0.8515],\n",
       "            [ 2.0818,  1.0677, -1.4277,  ...,  1.6612, -2.6223, -0.4319],\n",
       "            [-0.1010, -0.4388, -1.9775,  ...,  0.2106,  0.2536, -0.7318],\n",
       "            ...,\n",
       "            [ 0.2779,  0.7342, -0.3736,  ..., -0.4601,  0.1815,  0.1850],\n",
       "            [ 0.7205, -0.2833,  0.0937,  ..., -0.1002, -2.3609,  2.2465],\n",
       "            [-1.3242, -0.1973,  0.2920,  ...,  0.5409,  0.6940,  1.8563]],\n",
       "  \n",
       "           [[-0.7978,  1.0261,  1.1465,  ...,  1.2134,  0.9354, -0.0780],\n",
       "            [-1.4647, -1.9571,  0.1017,  ..., -1.9986, -0.7409,  0.7011],\n",
       "            [-1.3938,  0.8466, -1.7191,  ..., -1.1867,  0.1320,  0.3407],\n",
       "            ...,\n",
       "            [ 0.8206, -0.3745,  1.2499,  ..., -0.0676,  0.0385,  0.6335],\n",
       "            [-0.5589, -0.3393,  0.2347,  ...,  2.1181,  2.4569,  1.3083],\n",
       "            [-0.4092,  1.5199,  0.2401,  ..., -0.2558,  0.7870,  0.9924]]],\n",
       "  \n",
       "  \n",
       "          [[[ 1.1462, -0.9252,  0.0457,  ..., -1.6060, -0.3585, -0.4588],\n",
       "            [ 1.5696,  2.1210,  0.4030,  ..., -1.1395,  0.9925, -0.7322],\n",
       "            [-1.6529, -1.4641,  0.0971,  ...,  0.2152, -1.5102,  0.4840],\n",
       "            ...,\n",
       "            [ 0.7408, -0.7165,  2.1898,  ...,  0.4568,  0.0514, -0.9807],\n",
       "            [-0.2803, -0.3592, -1.1238,  ..., -0.5225, -0.1409,  0.6916],\n",
       "            [-0.5811, -1.3816,  1.0387,  ..., -0.6358,  0.9728, -0.2934]],\n",
       "  \n",
       "           [[-1.3047,  1.4507,  0.2443,  ..., -0.1408, -1.4311, -0.1850],\n",
       "            [ 0.8868, -0.2988, -0.5001,  ..., -0.0105,  0.8178,  0.1980],\n",
       "            [ 0.9566, -0.6351,  0.5435,  ...,  0.3815, -0.5045,  0.6647],\n",
       "            ...,\n",
       "            [-1.8424, -0.3769,  0.4985,  ...,  1.0519, -1.0642, -0.7167],\n",
       "            [ 0.6115,  0.4193, -0.9970,  ...,  0.1066, -0.7907,  0.2683],\n",
       "            [-0.5824, -0.3426,  0.4904,  ...,  2.5234,  1.3809,  0.4820]],\n",
       "  \n",
       "           [[-0.2932, -0.3666, -1.6757,  ..., -0.7696, -1.8347,  0.5975],\n",
       "            [-0.6698, -0.3543, -1.5089,  ...,  0.7316,  0.2406, -0.2326],\n",
       "            [-0.6608,  0.4298,  0.1429,  ..., -0.2031,  1.0480, -1.2931],\n",
       "            ...,\n",
       "            [-0.0854,  1.1046, -1.1372,  ..., -1.5342,  0.3418,  0.4373],\n",
       "            [ 1.5311, -0.2290, -0.7734,  ..., -0.6297, -0.1439, -0.6415],\n",
       "            [-0.5336,  0.8814,  0.2079,  ..., -0.8355, -1.9863, -0.9132]]],\n",
       "  \n",
       "  \n",
       "          [[[ 1.8723, -0.4072, -0.2770,  ...,  0.7319,  0.5414, -0.4704],\n",
       "            [-1.1442, -0.8629, -0.0325,  ..., -0.6706, -0.5498, -1.0136],\n",
       "            [-0.8476, -0.0746,  1.6060,  ...,  0.0655,  1.2327,  1.5566],\n",
       "            ...,\n",
       "            [ 0.1831, -1.1265,  1.0662,  ..., -1.6199,  0.8893,  1.8041],\n",
       "            [ 2.2873,  0.2870,  0.5738,  ...,  0.3699,  0.5207,  1.7841],\n",
       "            [-0.9507, -0.6412,  0.6762,  ...,  1.6346,  1.7163,  0.5287]],\n",
       "  \n",
       "           [[ 0.3617,  0.0284,  0.7862,  ..., -0.4626,  0.0907,  0.4144],\n",
       "            [-0.3127,  1.0867,  1.2147,  ...,  0.4430,  1.6820,  1.9812],\n",
       "            [-1.5535,  1.2849, -0.2383,  ..., -0.6326, -0.7753, -0.0257],\n",
       "            ...,\n",
       "            [ 0.3711,  0.0639, -0.1340,  ...,  1.0498,  1.2419,  0.7912],\n",
       "            [ 0.7199, -1.6989,  0.5186,  ...,  1.3509,  0.2584, -0.9650],\n",
       "            [ 0.6124,  1.5963, -0.8839,  ...,  1.5568,  1.9061, -0.2654]],\n",
       "  \n",
       "           [[-0.7838, -0.3569, -1.3868,  ...,  0.0293,  0.3965, -0.0459],\n",
       "            [-1.2732,  1.3058,  1.1782,  ..., -0.5917, -0.1135, -0.0979],\n",
       "            [-0.4611, -1.2840,  1.2376,  ...,  0.2198, -0.9789,  1.8790],\n",
       "            ...,\n",
       "            [ 1.2557,  0.2726,  0.4869,  ..., -0.9088, -1.0899,  1.8497],\n",
       "            [ 0.4721, -0.5464,  0.0127,  ..., -0.8402,  0.3470, -0.5938],\n",
       "            [ 0.3543, -0.7542,  0.8093,  ..., -0.0075,  1.2261, -0.3360]]],\n",
       "  \n",
       "  \n",
       "          ...,\n",
       "  \n",
       "  \n",
       "          [[[-2.1682, -0.7886, -0.3461,  ...,  0.3142, -0.3933, -0.4687],\n",
       "            [ 0.9872,  0.0910, -0.2333,  ...,  0.5540,  0.9231, -1.7830],\n",
       "            [-0.3090,  0.5961, -1.9058,  ..., -0.8920,  0.2649,  0.5361],\n",
       "            ...,\n",
       "            [ 1.4019,  1.5822,  1.9109,  ...,  1.4598,  1.4994,  0.0590],\n",
       "            [ 0.2599,  0.8737, -1.8681,  ..., -1.0228, -3.4304, -1.0239],\n",
       "            [-0.1505,  0.4495,  1.4101,  ...,  0.8395,  1.4997, -0.5686]],\n",
       "  \n",
       "           [[ 0.8834,  1.1450,  0.5449,  ..., -0.2867,  0.2139, -1.3341],\n",
       "            [-1.2310, -0.3959,  0.3044,  ..., -0.4019, -0.7961,  0.0661],\n",
       "            [ 1.4644, -0.7622,  0.7954,  ..., -0.3784, -0.1177,  1.8225],\n",
       "            ...,\n",
       "            [ 1.4499,  0.9205,  0.8025,  ..., -0.9204, -0.2336,  1.0684],\n",
       "            [-0.8314,  0.2011,  0.4146,  ..., -1.3222, -0.6220,  0.0374],\n",
       "            [-0.6306, -1.0083,  0.4322,  ...,  0.9623, -0.2101, -0.8070]],\n",
       "  \n",
       "           [[ 0.9766,  1.8551,  0.8079,  ...,  0.0236, -0.7548,  0.2805],\n",
       "            [-1.5609, -0.9496, -1.2076,  ...,  0.6664,  0.4597,  1.2509],\n",
       "            [-0.3669,  1.0052, -0.1830,  ...,  2.1652, -0.3830, -0.6441],\n",
       "            ...,\n",
       "            [ 0.0621,  0.0039,  1.0790,  ...,  1.0980,  1.3147,  1.7881],\n",
       "            [ 1.5639,  0.2737,  0.0368,  ...,  0.3102,  0.5700,  2.1521],\n",
       "            [-0.2677,  0.9526, -1.7323,  ..., -0.5503,  0.5012,  0.4050]]],\n",
       "  \n",
       "  \n",
       "          [[[ 0.6869, -0.4450, -0.2497,  ...,  1.1245,  2.1253,  0.5647],\n",
       "            [ 1.3971,  1.0697, -0.8996,  ...,  1.0537,  1.3428, -0.2854],\n",
       "            [ 0.6388, -0.5320, -1.5274,  ..., -1.8715,  0.3396,  0.9248],\n",
       "            ...,\n",
       "            [-1.3018,  0.4129,  0.0119,  ..., -1.9978, -0.1642, -2.0266],\n",
       "            [ 0.3821, -0.6324, -0.3748,  ...,  0.3744, -0.5984, -0.1415],\n",
       "            [ 1.5145, -0.9476, -0.6816,  ..., -1.4079, -0.6893, -2.5450]],\n",
       "  \n",
       "           [[ 1.0765,  1.2431, -0.3601,  ...,  1.4529, -1.9261,  0.2059],\n",
       "            [ 0.9315,  0.2448,  0.9260,  ..., -1.4899, -0.2039,  0.1974],\n",
       "            [-0.1349, -0.1783, -0.5261,  ..., -0.4463, -0.9531, -1.2018],\n",
       "            ...,\n",
       "            [-1.5692, -0.5791,  0.0771,  ..., -0.3282, -0.6795,  1.5796],\n",
       "            [-0.7103, -0.1010,  0.3765,  ..., -1.9444, -0.1589,  0.9398],\n",
       "            [-0.1365, -0.6480, -0.5398,  ...,  0.3594, -0.5389,  0.6653]],\n",
       "  \n",
       "           [[-0.8764, -0.5104, -1.2873,  ..., -1.7659,  1.0042,  1.0264],\n",
       "            [-0.7540,  0.3738, -0.0059,  ..., -1.9595,  1.0695,  0.5267],\n",
       "            [ 0.6567,  0.8677,  0.9835,  ...,  0.7666, -0.7829, -0.3841],\n",
       "            ...,\n",
       "            [-0.1040,  0.6071, -0.5816,  ...,  0.9904,  0.8115, -0.5291],\n",
       "            [-0.9045, -0.5544, -0.4637,  ..., -0.0552,  0.0711,  0.0146],\n",
       "            [-0.6846, -1.0256, -0.6969,  ...,  0.5858, -0.9769,  0.0943]]],\n",
       "  \n",
       "  \n",
       "          [[[-1.7576, -0.4235,  0.4978,  ..., -1.5653, -0.0935, -0.8620],\n",
       "            [ 0.0648,  0.9873, -0.6721,  ..., -1.2957, -0.5044,  0.7429],\n",
       "            [ 0.2712, -0.8809, -0.8739,  ...,  1.0423,  0.8242,  2.0000],\n",
       "            ...,\n",
       "            [ 0.7474, -0.0822, -0.8413,  ...,  0.1025,  0.6660,  0.3744],\n",
       "            [-0.1608,  0.7354, -0.7628,  ..., -0.3506,  2.7400, -0.7302],\n",
       "            [ 0.1863,  0.3572, -0.0457,  ..., -0.2024, -0.0339, -0.6260]],\n",
       "  \n",
       "           [[ 1.1211, -0.3509,  0.2602,  ..., -2.0339,  0.0289,  0.0932],\n",
       "            [-1.0552,  0.5302,  0.7214,  ...,  0.6793, -1.6776,  1.1767],\n",
       "            [-0.5452,  0.7653,  0.2258,  ...,  0.1321, -0.1846, -0.1664],\n",
       "            ...,\n",
       "            [-1.3320,  0.6906,  0.2853,  ...,  1.7544,  0.6776,  0.1974],\n",
       "            [-0.8164,  1.5707, -1.0187,  ...,  0.7140,  1.9848, -0.6659],\n",
       "            [ 1.3224,  1.0515,  1.0870,  ..., -0.0260,  1.2395,  0.9925]],\n",
       "  \n",
       "           [[ 1.6056,  0.8208,  1.0230,  ...,  0.0335,  1.5842,  0.8418],\n",
       "            [-0.4198,  0.3207, -0.1954,  ..., -0.3185,  1.3290,  0.5406],\n",
       "            [ 1.0659, -1.7458, -0.2608,  ..., -1.1151, -0.8994,  0.0370],\n",
       "            ...,\n",
       "            [-0.1177,  0.4560, -1.3883,  ..., -1.1566, -1.2233,  0.4873],\n",
       "            [-0.8383,  1.2338,  0.2898,  ...,  1.0237,  1.6105, -0.6264],\n",
       "            [ 0.1180, -0.9001,  2.4965,  ...,  0.4437, -0.3335,  1.3220]]]]), stride=tensor([[[[ 1.9269,  1.4873,  0.9007,  ...,  1.8446, -1.1845,  1.3835],\n",
       "            [ 1.4451,  0.8564,  2.2181,  ...,  0.3399,  0.7200,  0.4114],\n",
       "            [ 1.9312,  1.0119, -1.4364,  ..., -0.5558,  0.7043,  0.7099],\n",
       "            ...,\n",
       "            [-0.5610, -0.4830,  0.4770,  ..., -0.2713, -0.9537, -0.6737],\n",
       "            [ 0.3076, -0.1277,  0.0366,  ..., -2.0060,  0.2824, -0.8111],\n",
       "            [-1.5486,  0.0485, -0.7712,  ..., -0.1403,  0.9416, -0.0118]],\n",
       "  \n",
       "           [[-0.5197,  1.8524,  1.8365,  ...,  0.8935, -1.5114, -0.8515],\n",
       "            [ 2.0818,  1.0677, -1.4277,  ...,  1.6612, -2.6223, -0.4319],\n",
       "            [-0.1010, -0.4388, -1.9775,  ...,  0.2106,  0.2536, -0.7318],\n",
       "            ...,\n",
       "            [ 0.2779,  0.7342, -0.3736,  ..., -0.4601,  0.1815,  0.1850],\n",
       "            [ 0.7205, -0.2833,  0.0937,  ..., -0.1002, -2.3609,  2.2465],\n",
       "            [-1.3242, -0.1973,  0.2920,  ...,  0.5409,  0.6940,  1.8563]],\n",
       "  \n",
       "           [[-0.7978,  1.0261,  1.1465,  ...,  1.2134,  0.9354, -0.0780],\n",
       "            [-1.4647, -1.9571,  0.1017,  ..., -1.9986, -0.7409,  0.7011],\n",
       "            [-1.3938,  0.8466, -1.7191,  ..., -1.1867,  0.1320,  0.3407],\n",
       "            ...,\n",
       "            [ 0.8206, -0.3745,  1.2499,  ..., -0.0676,  0.0385,  0.6335],\n",
       "            [-0.5589, -0.3393,  0.2347,  ...,  2.1181,  2.4569,  1.3083],\n",
       "            [-0.4092,  1.5199,  0.2401,  ..., -0.2558,  0.7870,  0.9924]]],\n",
       "  \n",
       "  \n",
       "          [[[ 1.1462, -0.9252,  0.0457,  ..., -1.6060, -0.3585, -0.4588],\n",
       "            [ 1.5696,  2.1210,  0.4030,  ..., -1.1395,  0.9925, -0.7322],\n",
       "            [-1.6529, -1.4641,  0.0971,  ...,  0.2152, -1.5102,  0.4840],\n",
       "            ...,\n",
       "            [ 0.7408, -0.7165,  2.1898,  ...,  0.4568,  0.0514, -0.9807],\n",
       "            [-0.2803, -0.3592, -1.1238,  ..., -0.5225, -0.1409,  0.6916],\n",
       "            [-0.5811, -1.3816,  1.0387,  ..., -0.6358,  0.9728, -0.2934]],\n",
       "  \n",
       "           [[-1.3047,  1.4507,  0.2443,  ..., -0.1408, -1.4311, -0.1850],\n",
       "            [ 0.8868, -0.2988, -0.5001,  ..., -0.0105,  0.8178,  0.1980],\n",
       "            [ 0.9566, -0.6351,  0.5435,  ...,  0.3815, -0.5045,  0.6647],\n",
       "            ...,\n",
       "            [-1.8424, -0.3769,  0.4985,  ...,  1.0519, -1.0642, -0.7167],\n",
       "            [ 0.6115,  0.4193, -0.9970,  ...,  0.1066, -0.7907,  0.2683],\n",
       "            [-0.5824, -0.3426,  0.4904,  ...,  2.5234,  1.3809,  0.4820]],\n",
       "  \n",
       "           [[-0.2932, -0.3666, -1.6757,  ..., -0.7696, -1.8347,  0.5975],\n",
       "            [-0.6698, -0.3543, -1.5089,  ...,  0.7316,  0.2406, -0.2326],\n",
       "            [-0.6608,  0.4298,  0.1429,  ..., -0.2031,  1.0480, -1.2931],\n",
       "            ...,\n",
       "            [-0.0854,  1.1046, -1.1372,  ..., -1.5342,  0.3418,  0.4373],\n",
       "            [ 1.5311, -0.2290, -0.7734,  ..., -0.6297, -0.1439, -0.6415],\n",
       "            [-0.5336,  0.8814,  0.2079,  ..., -0.8355, -1.9863, -0.9132]]],\n",
       "  \n",
       "  \n",
       "          [[[ 1.8723, -0.4072, -0.2770,  ...,  0.7319,  0.5414, -0.4704],\n",
       "            [-1.1442, -0.8629, -0.0325,  ..., -0.6706, -0.5498, -1.0136],\n",
       "            [-0.8476, -0.0746,  1.6060,  ...,  0.0655,  1.2327,  1.5566],\n",
       "            ...,\n",
       "            [ 0.1831, -1.1265,  1.0662,  ..., -1.6199,  0.8893,  1.8041],\n",
       "            [ 2.2873,  0.2870,  0.5738,  ...,  0.3699,  0.5207,  1.7841],\n",
       "            [-0.9507, -0.6412,  0.6762,  ...,  1.6346,  1.7163,  0.5287]],\n",
       "  \n",
       "           [[ 0.3617,  0.0284,  0.7862,  ..., -0.4626,  0.0907,  0.4144],\n",
       "            [-0.3127,  1.0867,  1.2147,  ...,  0.4430,  1.6820,  1.9812],\n",
       "            [-1.5535,  1.2849, -0.2383,  ..., -0.6326, -0.7753, -0.0257],\n",
       "            ...,\n",
       "            [ 0.3711,  0.0639, -0.1340,  ...,  1.0498,  1.2419,  0.7912],\n",
       "            [ 0.7199, -1.6989,  0.5186,  ...,  1.3509,  0.2584, -0.9650],\n",
       "            [ 0.6124,  1.5963, -0.8839,  ...,  1.5568,  1.9061, -0.2654]],\n",
       "  \n",
       "           [[-0.7838, -0.3569, -1.3868,  ...,  0.0293,  0.3965, -0.0459],\n",
       "            [-1.2732,  1.3058,  1.1782,  ..., -0.5917, -0.1135, -0.0979],\n",
       "            [-0.4611, -1.2840,  1.2376,  ...,  0.2198, -0.9789,  1.8790],\n",
       "            ...,\n",
       "            [ 1.2557,  0.2726,  0.4869,  ..., -0.9088, -1.0899,  1.8497],\n",
       "            [ 0.4721, -0.5464,  0.0127,  ..., -0.8402,  0.3470, -0.5938],\n",
       "            [ 0.3543, -0.7542,  0.8093,  ..., -0.0075,  1.2261, -0.3360]]],\n",
       "  \n",
       "  \n",
       "          ...,\n",
       "  \n",
       "  \n",
       "          [[[-2.1682, -0.7886, -0.3461,  ...,  0.3142, -0.3933, -0.4687],\n",
       "            [ 0.9872,  0.0910, -0.2333,  ...,  0.5540,  0.9231, -1.7830],\n",
       "            [-0.3090,  0.5961, -1.9058,  ..., -0.8920,  0.2649,  0.5361],\n",
       "            ...,\n",
       "            [ 1.4019,  1.5822,  1.9109,  ...,  1.4598,  1.4994,  0.0590],\n",
       "            [ 0.2599,  0.8737, -1.8681,  ..., -1.0228, -3.4304, -1.0239],\n",
       "            [-0.1505,  0.4495,  1.4101,  ...,  0.8395,  1.4997, -0.5686]],\n",
       "  \n",
       "           [[ 0.8834,  1.1450,  0.5449,  ..., -0.2867,  0.2139, -1.3341],\n",
       "            [-1.2310, -0.3959,  0.3044,  ..., -0.4019, -0.7961,  0.0661],\n",
       "            [ 1.4644, -0.7622,  0.7954,  ..., -0.3784, -0.1177,  1.8225],\n",
       "            ...,\n",
       "            [ 1.4499,  0.9205,  0.8025,  ..., -0.9204, -0.2336,  1.0684],\n",
       "            [-0.8314,  0.2011,  0.4146,  ..., -1.3222, -0.6220,  0.0374],\n",
       "            [-0.6306, -1.0083,  0.4322,  ...,  0.9623, -0.2101, -0.8070]],\n",
       "  \n",
       "           [[ 0.9766,  1.8551,  0.8079,  ...,  0.0236, -0.7548,  0.2805],\n",
       "            [-1.5609, -0.9496, -1.2076,  ...,  0.6664,  0.4597,  1.2509],\n",
       "            [-0.3669,  1.0052, -0.1830,  ...,  2.1652, -0.3830, -0.6441],\n",
       "            ...,\n",
       "            [ 0.0621,  0.0039,  1.0790,  ...,  1.0980,  1.3147,  1.7881],\n",
       "            [ 1.5639,  0.2737,  0.0368,  ...,  0.3102,  0.5700,  2.1521],\n",
       "            [-0.2677,  0.9526, -1.7323,  ..., -0.5503,  0.5012,  0.4050]]],\n",
       "  \n",
       "  \n",
       "          [[[ 0.6869, -0.4450, -0.2497,  ...,  1.1245,  2.1253,  0.5647],\n",
       "            [ 1.3971,  1.0697, -0.8996,  ...,  1.0537,  1.3428, -0.2854],\n",
       "            [ 0.6388, -0.5320, -1.5274,  ..., -1.8715,  0.3396,  0.9248],\n",
       "            ...,\n",
       "            [-1.3018,  0.4129,  0.0119,  ..., -1.9978, -0.1642, -2.0266],\n",
       "            [ 0.3821, -0.6324, -0.3748,  ...,  0.3744, -0.5984, -0.1415],\n",
       "            [ 1.5145, -0.9476, -0.6816,  ..., -1.4079, -0.6893, -2.5450]],\n",
       "  \n",
       "           [[ 1.0765,  1.2431, -0.3601,  ...,  1.4529, -1.9261,  0.2059],\n",
       "            [ 0.9315,  0.2448,  0.9260,  ..., -1.4899, -0.2039,  0.1974],\n",
       "            [-0.1349, -0.1783, -0.5261,  ..., -0.4463, -0.9531, -1.2018],\n",
       "            ...,\n",
       "            [-1.5692, -0.5791,  0.0771,  ..., -0.3282, -0.6795,  1.5796],\n",
       "            [-0.7103, -0.1010,  0.3765,  ..., -1.9444, -0.1589,  0.9398],\n",
       "            [-0.1365, -0.6480, -0.5398,  ...,  0.3594, -0.5389,  0.6653]],\n",
       "  \n",
       "           [[-0.8764, -0.5104, -1.2873,  ..., -1.7659,  1.0042,  1.0264],\n",
       "            [-0.7540,  0.3738, -0.0059,  ..., -1.9595,  1.0695,  0.5267],\n",
       "            [ 0.6567,  0.8677,  0.9835,  ...,  0.7666, -0.7829, -0.3841],\n",
       "            ...,\n",
       "            [-0.1040,  0.6071, -0.5816,  ...,  0.9904,  0.8115, -0.5291],\n",
       "            [-0.9045, -0.5544, -0.4637,  ..., -0.0552,  0.0711,  0.0146],\n",
       "            [-0.6846, -1.0256, -0.6969,  ...,  0.5858, -0.9769,  0.0943]]],\n",
       "  \n",
       "  \n",
       "          [[[-1.7576, -0.4235,  0.4978,  ..., -1.5653, -0.0935, -0.8620],\n",
       "            [ 0.0648,  0.9873, -0.6721,  ..., -1.2957, -0.5044,  0.7429],\n",
       "            [ 0.2712, -0.8809, -0.8739,  ...,  1.0423,  0.8242,  2.0000],\n",
       "            ...,\n",
       "            [ 0.7474, -0.0822, -0.8413,  ...,  0.1025,  0.6660,  0.3744],\n",
       "            [-0.1608,  0.7354, -0.7628,  ..., -0.3506,  2.7400, -0.7302],\n",
       "            [ 0.1863,  0.3572, -0.0457,  ..., -0.2024, -0.0339, -0.6260]],\n",
       "  \n",
       "           [[ 1.1211, -0.3509,  0.2602,  ..., -2.0339,  0.0289,  0.0932],\n",
       "            [-1.0552,  0.5302,  0.7214,  ...,  0.6793, -1.6776,  1.1767],\n",
       "            [-0.5452,  0.7653,  0.2258,  ...,  0.1321, -0.1846, -0.1664],\n",
       "            ...,\n",
       "            [-1.3320,  0.6906,  0.2853,  ...,  1.7544,  0.6776,  0.1974],\n",
       "            [-0.8164,  1.5707, -1.0187,  ...,  0.7140,  1.9848, -0.6659],\n",
       "            [ 1.3224,  1.0515,  1.0870,  ..., -0.0260,  1.2395,  0.9925]],\n",
       "  \n",
       "           [[ 1.6056,  0.8208,  1.0230,  ...,  0.0335,  1.5842,  0.8418],\n",
       "            [-0.4198,  0.3207, -0.1954,  ..., -0.3185,  1.3290,  0.5406],\n",
       "            [ 1.0659, -1.7458, -0.2608,  ..., -1.1151, -0.8994,  0.0370],\n",
       "            ...,\n",
       "            [-0.1177,  0.4560, -1.3883,  ..., -1.1566, -1.2233,  0.4873],\n",
       "            [-0.8383,  1.2338,  0.2898,  ...,  1.0237,  1.6105, -0.6264],\n",
       "            [ 0.1180, -0.9001,  2.4965,  ...,  0.4437, -0.3335,  1.3220]]]]), padding=0, dilation=1, ceil_mode=False\n",
       ")"
      ]
     },
     "execution_count": 31,
     "metadata": {},
     "output_type": "execute_result"
    }
   ],
   "source": [
    "torch.manual_seed(42)\n",
    "\n",
    "img=torch.randn(size=(32,3,64,64))\n",
    "one_channel=img[0]\n",
    "\n",
    "img.shape, one_channel.shape\n",
    "\n",
    "nn.MaxPool2d(img)"
   ]
  },
  {
   "cell_type": "markdown",
   "id": "5ff11f74",
   "metadata": {
    "papermill": {
     "duration": 0.018703,
     "end_time": "2025-06-25T18:35:15.967027",
     "exception": false,
     "start_time": "2025-06-25T18:35:15.948324",
     "status": "completed"
    },
    "tags": []
   },
   "source": [
    "Conv Layer "
   ]
  },
  {
   "cell_type": "code",
   "execution_count": 32,
   "id": "219b2917",
   "metadata": {
    "execution": {
     "iopub.execute_input": "2025-06-25T18:35:16.002619Z",
     "iopub.status.busy": "2025-06-25T18:35:16.002234Z",
     "iopub.status.idle": "2025-06-25T18:35:16.023923Z",
     "shell.execute_reply": "2025-06-25T18:35:16.023018Z"
    },
    "papermill": {
     "duration": 0.041408,
     "end_time": "2025-06-25T18:35:16.025502",
     "exception": false,
     "start_time": "2025-06-25T18:35:15.984094",
     "status": "completed"
    },
    "tags": []
   },
   "outputs": [
    {
     "data": {
      "text/plain": [
       "torch.Size([10, 62, 62])"
      ]
     },
     "execution_count": 32,
     "metadata": {},
     "output_type": "execute_result"
    }
   ],
   "source": [
    "torch.manual_seed(42)\n",
    "\n",
    "image=torch.randn(size=(32,3,64,64))\n",
    "img=image[0]\n",
    "conv_layer=nn.Conv2d(\n",
    "    in_channels=3,\n",
    "    out_channels=10,\n",
    "    kernel_size=3,\n",
    "    stride=1,\n",
    "    padding=0 \n",
    ")\n",
    "\n",
    "conv_layer(img).shape\n"
   ]
  },
  {
   "cell_type": "markdown",
   "id": "d0822e83",
   "metadata": {
    "papermill": {
     "duration": 0.017788,
     "end_time": "2025-06-25T18:35:16.068575",
     "exception": false,
     "start_time": "2025-06-25T18:35:16.050787",
     "status": "completed"
    },
    "tags": []
   },
   "source": [
    "Right now our single image test_image only has a shape of ```[color_channels, height, width] or [3, 64, 64].```\n",
    "\n",
    "We can fix this for a single image using ```test_image.unsqueeze(dim=0)``` to add an extra dimension for ```N```."
   ]
  },
  {
   "cell_type": "code",
   "execution_count": 33,
   "id": "5d5d4561",
   "metadata": {
    "execution": {
     "iopub.execute_input": "2025-06-25T18:35:16.108300Z",
     "iopub.status.busy": "2025-06-25T18:35:16.107422Z",
     "iopub.status.idle": "2025-06-25T18:35:16.114534Z",
     "shell.execute_reply": "2025-06-25T18:35:16.113649Z"
    },
    "papermill": {
     "duration": 0.027337,
     "end_time": "2025-06-25T18:35:16.116104",
     "exception": false,
     "start_time": "2025-06-25T18:35:16.088767",
     "status": "completed"
    },
    "tags": []
   },
   "outputs": [
    {
     "data": {
      "text/plain": [
       "torch.Size([1, 10, 62, 62])"
      ]
     },
     "execution_count": 33,
     "metadata": {},
     "output_type": "execute_result"
    }
   ],
   "source": [
    "img.shape\n",
    "img.unsqueeze(0).shape\n",
    "\n",
    "conv_layer(img.unsqueeze(0)).shape\n",
    "\n"
   ]
  },
  {
   "cell_type": "markdown",
   "id": "27fa183b",
   "metadata": {
    "papermill": {
     "duration": 0.017654,
     "end_time": "2025-06-25T18:35:16.154148",
     "exception": false,
     "start_time": "2025-06-25T18:35:16.136494",
     "status": "completed"
    },
    "tags": []
   },
   "source": [
    "Change the value of conv_layer"
   ]
  },
  {
   "cell_type": "code",
   "execution_count": 34,
   "id": "d93570da",
   "metadata": {
    "execution": {
     "iopub.execute_input": "2025-06-25T18:35:16.192261Z",
     "iopub.status.busy": "2025-06-25T18:35:16.191202Z",
     "iopub.status.idle": "2025-06-25T18:35:16.284051Z",
     "shell.execute_reply": "2025-06-25T18:35:16.283107Z"
    },
    "papermill": {
     "duration": 0.112984,
     "end_time": "2025-06-25T18:35:16.285950",
     "exception": false,
     "start_time": "2025-06-25T18:35:16.172966",
     "status": "completed"
    },
    "tags": []
   },
   "outputs": [
    {
     "data": {
      "text/plain": [
       "(torch.Size([3, 64, 64]), torch.Size([1, 10, 60, 60]))"
      ]
     },
     "execution_count": 34,
     "metadata": {},
     "output_type": "execute_result"
    }
   ],
   "source": [
    "torch.manual_seed(42)\n",
    "\n",
    "image=torch.randn(size=(32,3,64,64))\n",
    "img=image[0]\n",
    "conv_layer_2=nn.Conv2d(\n",
    "    in_channels=3,\n",
    "    out_channels=10,\n",
    "    kernel_size=5,\n",
    "    stride=1,\n",
    "    padding=0 \n",
    ")\n",
    "img.shape,conv_layer_2(img.unsqueeze(dim=0)).shape\n"
   ]
  },
  {
   "cell_type": "code",
   "execution_count": 35,
   "id": "699442de",
   "metadata": {
    "execution": {
     "iopub.execute_input": "2025-06-25T18:35:16.325774Z",
     "iopub.status.busy": "2025-06-25T18:35:16.325138Z",
     "iopub.status.idle": "2025-06-25T18:35:16.332570Z",
     "shell.execute_reply": "2025-06-25T18:35:16.331277Z"
    },
    "papermill": {
     "duration": 0.027377,
     "end_time": "2025-06-25T18:35:16.334090",
     "exception": false,
     "start_time": "2025-06-25T18:35:16.306713",
     "status": "completed"
    },
    "tags": []
   },
   "outputs": [
    {
     "data": {
      "text/plain": [
       "(torch.Size([10, 3, 5, 5]), torch.Size([10]))"
      ]
     },
     "execution_count": 35,
     "metadata": {},
     "output_type": "execute_result"
    }
   ],
   "source": [
    "conv_layer_2.weight.shape, conv_layer_2.bias.shape"
   ]
  },
  {
   "cell_type": "code",
   "execution_count": 36,
   "id": "5ecb56b7",
   "metadata": {
    "execution": {
     "iopub.execute_input": "2025-06-25T18:35:16.372087Z",
     "iopub.status.busy": "2025-06-25T18:35:16.371757Z",
     "iopub.status.idle": "2025-06-25T18:35:16.387433Z",
     "shell.execute_reply": "2025-06-25T18:35:16.386394Z"
    },
    "papermill": {
     "duration": 0.037595,
     "end_time": "2025-06-25T18:35:16.389194",
     "exception": false,
     "start_time": "2025-06-25T18:35:16.351599",
     "status": "completed"
    },
    "tags": []
   },
   "outputs": [
    {
     "data": {
      "text/plain": [
       "OrderedDict([('weight',\n",
       "              tensor([[[[-0.0588, -0.0559, -0.0394,  0.0326,  0.0167],\n",
       "                        [-0.0030, -0.0635,  0.0444,  0.0999, -0.1097],\n",
       "                        [-0.0050,  0.0225, -0.1087, -0.0346, -0.0486],\n",
       "                        [-0.0729, -0.0632,  0.0094,  0.0145,  0.1017],\n",
       "                        [ 0.0373, -0.0229, -0.0895, -0.1048,  0.0825]],\n",
       "              \n",
       "                       [[-0.0168, -0.0695, -0.0360, -0.0689,  0.0982],\n",
       "                        [-0.0821,  0.0309,  0.0390, -0.0527,  0.1034],\n",
       "                        [ 0.0160,  0.0223, -0.1150,  0.0393, -0.1148],\n",
       "                        [-0.0109,  0.0995,  0.0153,  0.0118,  0.0804],\n",
       "                        [-0.0927, -0.0541, -0.0824, -0.0480, -0.0271]],\n",
       "              \n",
       "                       [[ 0.0685,  0.0025,  0.0266, -0.0628, -0.1127],\n",
       "                        [-0.0248, -0.0883,  0.0273,  0.0500,  0.0844],\n",
       "                        [-0.0216,  0.0067, -0.0454, -0.0103, -0.0227],\n",
       "                        [ 0.0441,  0.0614,  0.0410, -0.0468,  0.0738],\n",
       "                        [ 0.0351, -0.0768,  0.0793,  0.0557, -0.0425]]],\n",
       "              \n",
       "              \n",
       "                      [[[-0.0126,  0.0634, -0.1100,  0.1099,  0.1006],\n",
       "                        [ 0.1063, -0.1015,  0.0070, -0.0169, -0.0804],\n",
       "                        [-0.0735,  0.0359,  0.1076,  0.0731, -0.0563],\n",
       "                        [-0.0646, -0.0292, -0.0452, -0.0151, -0.0853],\n",
       "                        [-0.0144, -0.0004,  0.0158,  0.0287, -0.0584]],\n",
       "              \n",
       "                       [[ 0.0181,  0.0718, -0.1147,  0.0423,  0.1092],\n",
       "                        [-0.0122,  0.1032,  0.0139,  0.0068,  0.0899],\n",
       "                        [-0.0610,  0.0095,  0.0031, -0.0297,  0.1133],\n",
       "                        [-0.0452,  0.0750,  0.0541, -0.0445,  0.0166],\n",
       "                        [-0.0044,  0.0408,  0.0598, -0.0167, -0.0063]],\n",
       "              \n",
       "                       [[ 0.0997,  0.0253,  0.0283, -0.0050,  0.1082],\n",
       "                        [ 0.0706,  0.0469, -0.0823, -0.0059, -0.0434],\n",
       "                        [-0.0239, -0.0134, -0.0212, -0.0636, -0.0272],\n",
       "                        [-0.0033, -0.0568, -0.0420, -0.0209,  0.0663],\n",
       "                        [ 0.0138,  0.0345,  0.0863,  0.0636, -0.0394]]],\n",
       "              \n",
       "              \n",
       "                      [[[-0.0598,  0.0154, -0.1033, -0.0662, -0.0921],\n",
       "                        [ 0.0591,  0.0122, -0.0869, -0.0961, -0.0832],\n",
       "                        [ 0.1035,  0.0255,  0.1130, -0.0098,  0.0478],\n",
       "                        [-0.0982,  0.0758,  0.0916,  0.0290,  0.1092],\n",
       "                        [ 0.0944, -0.0137, -0.0337,  0.0224, -0.0609]],\n",
       "              \n",
       "                       [[ 0.0628,  0.0139,  0.0799, -0.0437,  0.0744],\n",
       "                        [-0.1044, -0.0868, -0.0507, -0.1011,  0.0034],\n",
       "                        [-0.0742, -0.0917, -0.0682, -0.0336,  0.0577],\n",
       "                        [ 0.0496,  0.0461,  0.0342, -0.0931, -0.0177],\n",
       "                        [-0.0896,  0.0815,  0.0794,  0.0178,  0.0461]],\n",
       "              \n",
       "                       [[-0.0673, -0.0482, -0.0875, -0.0027, -0.0354],\n",
       "                        [-0.0235,  0.0715, -0.1023, -0.1132, -0.0844],\n",
       "                        [ 0.0966, -0.0493,  0.1135, -0.0777, -0.1052],\n",
       "                        [-0.0441, -0.0691,  0.0985, -0.0182,  0.0932],\n",
       "                        [ 0.0204, -0.0013,  0.0408, -0.1046, -0.0989]]],\n",
       "              \n",
       "              \n",
       "                      [[[ 0.0159, -0.0152, -0.0543,  0.0151,  0.0929],\n",
       "                        [-0.0670,  0.1092,  0.0391,  0.1070,  0.0693],\n",
       "                        [ 0.0026, -0.0528,  0.0216, -0.0159,  0.0796],\n",
       "                        [-0.0505,  0.0039,  0.0365,  0.0155,  0.0626],\n",
       "                        [-0.0678,  0.0612, -0.0595,  0.0111,  0.0837]],\n",
       "              \n",
       "                       [[ 0.0419,  0.0622,  0.0728, -0.0456,  0.0883],\n",
       "                        [ 0.0973, -0.0608,  0.0908, -0.1115, -0.0925],\n",
       "                        [-0.0729,  0.0359,  0.0031,  0.0682, -0.0640],\n",
       "                        [-0.0761,  0.1000, -0.0082, -0.0782,  0.0935],\n",
       "                        [-0.0097, -0.0127,  0.0681,  0.0271, -0.0161]],\n",
       "              \n",
       "                       [[-0.0570, -0.0654,  0.0871, -0.0514, -0.0530],\n",
       "                        [ 0.0866,  0.0745, -0.1121, -0.0582, -0.1143],\n",
       "                        [ 0.0624,  0.0621,  0.0549, -0.0324,  0.0742],\n",
       "                        [ 0.0553, -0.0306, -0.0376,  0.0070, -0.0838],\n",
       "                        [-0.0812, -0.0349,  0.0275, -0.0764,  0.0397]]],\n",
       "              \n",
       "              \n",
       "                      [[[ 0.0536, -0.1140,  0.0113, -0.0300,  0.0053],\n",
       "                        [-0.0713,  0.0405, -0.0324, -0.1004, -0.0004],\n",
       "                        [-0.0422,  0.0261, -0.0725,  0.0880,  0.0665],\n",
       "                        [ 0.1038, -0.1060,  0.0881,  0.0448, -0.0145],\n",
       "                        [-0.0541, -0.0341,  0.0853, -0.0367, -0.0418]],\n",
       "              \n",
       "                       [[ 0.0419,  0.0308,  0.0713,  0.0991,  0.0804],\n",
       "                        [-0.0126,  0.0699,  0.0485, -0.0590, -0.0076],\n",
       "                        [-0.0576, -0.0460, -0.0610,  0.0800, -0.0100],\n",
       "                        [ 0.0021, -0.1146, -0.0915,  0.1101,  0.0124],\n",
       "                        [-0.0877, -0.0233,  0.0179,  0.0600, -0.0551]],\n",
       "              \n",
       "                       [[ 0.0233,  0.0898,  0.0733, -0.0758, -0.0088],\n",
       "                        [ 0.0995,  0.0330,  0.1142, -0.1148,  0.0551],\n",
       "                        [ 0.0737, -0.0232, -0.0310,  0.0301,  0.0848],\n",
       "                        [ 0.0042,  0.0294, -0.0503, -0.0023, -0.0627],\n",
       "                        [-0.0915, -0.0018,  0.0129,  0.0666, -0.0997]]],\n",
       "              \n",
       "              \n",
       "                      [[[ 0.0866, -0.1064,  0.0327, -0.0478,  0.0870],\n",
       "                        [ 0.0654,  0.0236, -0.0827,  0.0662,  0.0550],\n",
       "                        [ 0.0447,  0.0488, -0.0561, -0.0234,  0.0705],\n",
       "                        [ 0.1053, -0.0808, -0.0931,  0.1088,  0.0153],\n",
       "                        [ 0.0533, -0.0461,  0.0980, -0.0992, -0.0677]],\n",
       "              \n",
       "                       [[-0.0841,  0.0088,  0.0502, -0.0649, -0.0728],\n",
       "                        [ 0.0927, -0.0406,  0.0844, -0.0688,  0.0365],\n",
       "                        [ 0.0420, -0.0363,  0.0423, -0.0623, -0.0850],\n",
       "                        [-0.0028,  0.1092, -0.0998, -0.0750,  0.0231],\n",
       "                        [-0.1082,  0.0437, -0.0514, -0.0919,  0.0748]],\n",
       "              \n",
       "                       [[-0.0502,  0.0781, -0.0814, -0.1144, -0.0172],\n",
       "                        [ 0.0004, -0.0204,  0.0892,  0.0890,  0.0371],\n",
       "                        [-0.0832, -0.0454, -0.0168, -0.0863,  0.0580],\n",
       "                        [ 0.0718,  0.0632,  0.0042, -0.0591,  0.0596],\n",
       "                        [-0.0868, -0.0303,  0.0083, -0.0752, -0.0239]]],\n",
       "              \n",
       "              \n",
       "                      [[[ 0.0897,  0.0042,  0.0255, -0.0993, -0.0288],\n",
       "                        [ 0.0547,  0.1016,  0.0841, -0.0015,  0.0833],\n",
       "                        [ 0.0576, -0.0754, -0.0140,  0.0833,  0.0872],\n",
       "                        [-0.0682, -0.0739, -0.0244,  0.0290,  0.1073],\n",
       "                        [-0.1079, -0.0846, -0.0095,  0.0777, -0.0269]],\n",
       "              \n",
       "                       [[-0.0608,  0.0063, -0.0118,  0.0533,  0.0067],\n",
       "                        [ 0.0307, -0.0011,  0.0184,  0.0550,  0.0693],\n",
       "                        [-0.1132,  0.0507, -0.0761, -0.1069,  0.0443],\n",
       "                        [-0.0423,  0.0566, -0.1001,  0.0690, -0.0901],\n",
       "                        [ 0.0273,  0.0236,  0.0927, -0.1057,  0.0940]],\n",
       "              \n",
       "                       [[ 0.0767,  0.0024, -0.1127,  0.0348, -0.0459],\n",
       "                        [ 0.0519,  0.0262, -0.0919,  0.0226,  0.0787],\n",
       "                        [ 0.0509,  0.0216,  0.0354, -0.0460, -0.0422],\n",
       "                        [-0.0920,  0.0050, -0.0478,  0.0595, -0.0913],\n",
       "                        [-0.0692,  0.0043, -0.0242,  0.0166, -0.0146]]],\n",
       "              \n",
       "              \n",
       "                      [[[-0.0666,  0.0067, -0.0396, -0.0329,  0.0901],\n",
       "                        [-0.0048,  0.0855,  0.0905,  0.1121, -0.0714],\n",
       "                        [ 0.0063, -0.0619,  0.1103,  0.0755, -0.1109],\n",
       "                        [ 0.0388,  0.0072,  0.0086, -0.0212,  0.0397],\n",
       "                        [-0.1092, -0.0804, -0.0988,  0.1131,  0.0309]],\n",
       "              \n",
       "                       [[-0.0180, -0.0660,  0.0086,  0.0033, -0.0661],\n",
       "                        [ 0.0277,  0.0352, -0.0239, -0.0207,  0.0471],\n",
       "                        [ 0.1082,  0.0880, -0.0905,  0.0831, -0.1117],\n",
       "                        [ 0.0446, -0.0558, -0.0395,  0.1014,  0.0202],\n",
       "                        [ 0.0521,  0.0517, -0.0153,  0.0905, -0.0650]],\n",
       "              \n",
       "                       [[-0.0959, -0.0107,  0.0833,  0.1132, -0.0176],\n",
       "                        [-0.1133,  0.0219, -0.0443, -0.0911, -0.0268],\n",
       "                        [-0.0947,  0.0024, -0.0381,  0.0809,  0.0834],\n",
       "                        [ 0.0825, -0.0586, -0.0719, -0.0066,  0.0112],\n",
       "                        [ 0.0362,  0.0025, -0.0187, -0.0163, -0.1084]]],\n",
       "              \n",
       "              \n",
       "                      [[[-0.0872,  0.0734,  0.0115,  0.1117, -0.1097],\n",
       "                        [-0.0357,  0.0537,  0.0330, -0.0192,  0.1117],\n",
       "                        [-0.0435, -0.0943,  0.1058,  0.1100, -0.0641],\n",
       "                        [ 0.0268,  0.0119, -0.1034,  0.0316, -0.1143],\n",
       "                        [ 0.0962,  0.0903, -0.0160, -0.0982, -0.0782]],\n",
       "              \n",
       "                       [[ 0.0366,  0.0360, -0.0382,  0.1063,  0.0205],\n",
       "                        [-0.0023,  0.0407,  0.0911, -0.0673, -0.0236],\n",
       "                        [ 0.1043,  0.0011, -0.0709,  0.1068, -0.0889],\n",
       "                        [-0.0354, -0.0997, -0.1041, -0.0145,  0.0978],\n",
       "                        [ 0.0782, -0.0797, -0.0626,  0.0729,  0.0020]],\n",
       "              \n",
       "                       [[-0.1029,  0.0425, -0.0017,  0.0913, -0.1132],\n",
       "                        [ 0.0647, -0.0680, -0.0760,  0.0983, -0.0241],\n",
       "                        [-0.1152, -0.0608,  0.0537,  0.0506, -0.1154],\n",
       "                        [-0.0221, -0.0310,  0.0974,  0.1145, -0.1063],\n",
       "                        [-0.1072, -0.0663, -0.0348,  0.0492, -0.0593]]],\n",
       "              \n",
       "              \n",
       "                      [[[-0.0089,  0.0613, -0.0715,  0.0516, -0.0833],\n",
       "                        [ 0.0535, -0.0369, -0.0978,  0.0941, -0.0416],\n",
       "                        [ 0.0492,  0.1147, -0.0563, -0.0193, -0.0662],\n",
       "                        [ 0.0540, -0.0978,  0.0676, -0.0402,  0.0126],\n",
       "                        [-0.0183, -0.0870,  0.0730,  0.0645, -0.0793]],\n",
       "              \n",
       "                       [[ 0.0342,  0.0345,  0.0558, -0.0995,  0.0164],\n",
       "                        [ 0.0140,  0.1001,  0.0429, -0.1017,  0.1087],\n",
       "                        [ 0.0690,  0.0377, -0.0806,  0.0354, -0.0453],\n",
       "                        [ 0.0850,  0.1115, -0.0353, -0.0335,  0.1003],\n",
       "                        [-0.0336,  0.0034, -0.0962,  0.1046,  0.0503]],\n",
       "              \n",
       "                       [[ 0.1093, -0.0359,  0.0647,  0.1115,  0.0324],\n",
       "                        [ 0.0841,  0.0313, -0.0499, -0.0090, -0.0881],\n",
       "                        [ 0.0444,  0.0436,  0.1022,  0.1106, -0.0463],\n",
       "                        [-0.0641,  0.0831, -0.1096, -0.0993,  0.0851],\n",
       "                        [-0.0879,  0.0680,  0.0139,  0.0450,  0.0284]]]])),\n",
       "             ('bias',\n",
       "              tensor([-0.0974, -0.0351, -0.0613,  0.0891,  0.0041,  0.0493, -0.0332,  0.0818,\n",
       "                       0.0827, -0.0394]))])"
      ]
     },
     "execution_count": 36,
     "metadata": {},
     "output_type": "execute_result"
    }
   ],
   "source": [
    "conv_layer_2.state_dict()"
   ]
  },
  {
   "cell_type": "markdown",
   "id": "18e5bf33",
   "metadata": {
    "papermill": {
     "duration": 0.017336,
     "end_time": "2025-06-25T18:35:16.425047",
     "exception": false,
     "start_time": "2025-06-25T18:35:16.407711",
     "status": "completed"
    },
    "tags": []
   },
   "source": [
    "Using ```nn.MaxPool2d()```"
   ]
  },
  {
   "cell_type": "code",
   "execution_count": 37,
   "id": "211cebba",
   "metadata": {
    "execution": {
     "iopub.execute_input": "2025-06-25T18:35:16.461393Z",
     "iopub.status.busy": "2025-06-25T18:35:16.461082Z",
     "iopub.status.idle": "2025-06-25T18:35:16.478281Z",
     "shell.execute_reply": "2025-06-25T18:35:16.477145Z"
    },
    "papermill": {
     "duration": 0.037466,
     "end_time": "2025-06-25T18:35:16.480293",
     "exception": false,
     "start_time": "2025-06-25T18:35:16.442827",
     "status": "completed"
    },
    "tags": []
   },
   "outputs": [
    {
     "name": "stdout",
     "output_type": "stream",
     "text": [
      "Original Image Shape torch.Size([3, 64, 64]) \n",
      "Image after unsqueeze torch.Size([1, 3, 64, 64]) \n",
      "shape after going through conv_2d torch.Size([1, 10, 60, 60])\n",
      "shape after going through conv_2d and max pool both torch.Size([1, 10, 30, 30])\n"
     ]
    }
   ],
   "source": [
    "torch.manual_seed(42)\n",
    "\n",
    "image=torch.randn(size=(32,3,64,64))\n",
    "\n",
    "test_img=image[0]\n",
    "\n",
    "print(f\"Original Image Shape {test_img.shape} \")\n",
    "print(f\"Image after unsqueeze {test_img.unsqueeze(dim=0).shape} \")\n",
    "\n",
    "max_pool_layer=nn.MaxPool2d(kernel_size=2)\n",
    "\n",
    "#pass data through conv_layer\n",
    "\n",
    "test_img_in_conv=conv_layer_2(test_img.unsqueeze(dim=0))\n",
    "print(f\"shape after going through conv_2d {test_img_in_conv.shape}\")\n",
    "\n",
    "img_after_going_maxpool=max_pool_layer(test_img_in_conv)\n",
    "\n",
    "print(f\"shape after going through conv_2d and max pool both {img_after_going_maxpool.shape}\")\n"
   ]
  },
  {
   "cell_type": "markdown",
   "id": "e093d1f1",
   "metadata": {
    "papermill": {
     "duration": 0.01754,
     "end_time": "2025-06-25T18:35:16.530296",
     "exception": false,
     "start_time": "2025-06-25T18:35:16.512756",
     "status": "completed"
    },
    "tags": []
   },
   "source": [
    "change the value of kernel size "
   ]
  },
  {
   "cell_type": "code",
   "execution_count": 38,
   "id": "8469d3af",
   "metadata": {
    "execution": {
     "iopub.execute_input": "2025-06-25T18:35:16.570000Z",
     "iopub.status.busy": "2025-06-25T18:35:16.569581Z",
     "iopub.status.idle": "2025-06-25T18:35:16.581119Z",
     "shell.execute_reply": "2025-06-25T18:35:16.580267Z"
    },
    "papermill": {
     "duration": 0.034011,
     "end_time": "2025-06-25T18:35:16.582919",
     "exception": false,
     "start_time": "2025-06-25T18:35:16.548908",
     "status": "completed"
    },
    "tags": []
   },
   "outputs": [
    {
     "name": "stdout",
     "output_type": "stream",
     "text": [
      "tensor([[[[0.2454, 0.2577, 0.3294, 0.6409, 0.5724, 0.4869],\n",
      "          [0.2252, 0.6921, 0.9325, 0.0251, 0.4783, 0.5975],\n",
      "          [0.0293, 0.3503, 0.2894, 0.1845, 0.2265, 0.5407],\n",
      "          [0.5630, 0.9405, 0.6614, 0.4008, 0.1126, 0.0461],\n",
      "          [0.8573, 0.4271, 0.1989, 0.3442, 0.2018, 0.9252],\n",
      "          [0.1443, 0.6340, 0.6687, 0.2718, 0.9479, 0.5692]]]])\n"
     ]
    },
    {
     "data": {
      "text/plain": [
       "tensor([[[[0.6921, 0.9325, 0.5975],\n",
       "          [0.9405, 0.6614, 0.5407],\n",
       "          [0.8573, 0.6687, 0.9479]]]])"
      ]
     },
     "execution_count": 38,
     "metadata": {},
     "output_type": "execute_result"
    }
   ],
   "source": [
    "# torch.manual_seed(42)\n",
    "\n",
    "img=torch.rand(size=(1,1,6,6))\n",
    "print(img)\n",
    "\n",
    "max_pool=nn.MaxPool2d(kernel_size=2)\n",
    "\n",
    "max_pool_pixel=max_pool(img)\n",
    "max_pool_pixel"
   ]
  },
  {
   "cell_type": "code",
   "execution_count": null,
   "id": "e36d6861",
   "metadata": {
    "papermill": {
     "duration": 0.017441,
     "end_time": "2025-06-25T18:35:16.619744",
     "exception": false,
     "start_time": "2025-06-25T18:35:16.602303",
     "status": "completed"
    },
    "tags": []
   },
   "outputs": [],
   "source": []
  },
  {
   "cell_type": "code",
   "execution_count": null,
   "id": "170e54c1",
   "metadata": {
    "papermill": {
     "duration": 0.017168,
     "end_time": "2025-06-25T18:35:16.654313",
     "exception": false,
     "start_time": "2025-06-25T18:35:16.637145",
     "status": "completed"
    },
    "tags": []
   },
   "outputs": [],
   "source": []
  },
  {
   "cell_type": "code",
   "execution_count": null,
   "id": "45b4c496",
   "metadata": {
    "papermill": {
     "duration": 0.018384,
     "end_time": "2025-06-25T18:35:16.690158",
     "exception": false,
     "start_time": "2025-06-25T18:35:16.671774",
     "status": "completed"
    },
    "tags": []
   },
   "outputs": [],
   "source": []
  },
  {
   "cell_type": "code",
   "execution_count": null,
   "id": "6cad7b53",
   "metadata": {
    "papermill": {
     "duration": 0.018145,
     "end_time": "2025-06-25T18:35:16.725788",
     "exception": false,
     "start_time": "2025-06-25T18:35:16.707643",
     "status": "completed"
    },
    "tags": []
   },
   "outputs": [],
   "source": []
  }
 ],
 "metadata": {
  "kaggle": {
   "accelerator": "none",
   "dataSources": [],
   "dockerImageVersionId": 31040,
   "isGpuEnabled": false,
   "isInternetEnabled": true,
   "language": "python",
   "sourceType": "notebook"
  },
  "kernelspec": {
   "display_name": "Python 3",
   "language": "python",
   "name": "python3"
  },
  "language_info": {
   "codemirror_mode": {
    "name": "ipython",
    "version": 3
   },
   "file_extension": ".py",
   "mimetype": "text/x-python",
   "name": "python",
   "nbconvert_exporter": "python",
   "pygments_lexer": "ipython3",
   "version": "3.11.11"
  },
  "papermill": {
   "default_parameters": {},
   "duration": 123.24871,
   "end_time": "2025-06-25T18:35:19.370353",
   "environment_variables": {},
   "exception": null,
   "input_path": "__notebook__.ipynb",
   "output_path": "__notebook__.ipynb",
   "parameters": {},
   "start_time": "2025-06-25T18:33:16.121643",
   "version": "2.6.0"
  },
  "widgets": {
   "application/vnd.jupyter.widget-state+json": {
    "state": {
     "019c78e4f48a4739af8c79916aae2a15": {
      "model_module": "@jupyter-widgets/controls",
      "model_module_version": "2.0.0",
      "model_name": "HTMLModel",
      "state": {
       "_dom_classes": [],
       "_model_module": "@jupyter-widgets/controls",
       "_model_module_version": "2.0.0",
       "_model_name": "HTMLModel",
       "_view_count": null,
       "_view_module": "@jupyter-widgets/controls",
       "_view_module_version": "2.0.0",
       "_view_name": "HTMLView",
       "description": "",
       "description_allow_html": false,
       "layout": "IPY_MODEL_c8d7aeba92df4532bdf933d56fb4e30b",
       "placeholder": "​",
       "style": "IPY_MODEL_aaee8184054e44e2b63bede835943cb1",
       "tabbable": null,
       "tooltip": null,
       "value": " 1875/? [00:08&lt;00:00, 214.68it/s]"
      }
     },
     "02a229286ce545188d7146a10adecddf": {
      "model_module": "@jupyter-widgets/base",
      "model_module_version": "2.0.0",
      "model_name": "LayoutModel",
      "state": {
       "_model_module": "@jupyter-widgets/base",
       "_model_module_version": "2.0.0",
       "_model_name": "LayoutModel",
       "_view_count": null,
       "_view_module": "@jupyter-widgets/base",
       "_view_module_version": "2.0.0",
       "_view_name": "LayoutView",
       "align_content": null,
       "align_items": null,
       "align_self": null,
       "border_bottom": null,
       "border_left": null,
       "border_right": null,
       "border_top": null,
       "bottom": null,
       "display": null,
       "flex": null,
       "flex_flow": null,
       "grid_area": null,
       "grid_auto_columns": null,
       "grid_auto_flow": null,
       "grid_auto_rows": null,
       "grid_column": null,
       "grid_gap": null,
       "grid_row": null,
       "grid_template_areas": null,
       "grid_template_columns": null,
       "grid_template_rows": null,
       "height": null,
       "justify_content": null,
       "justify_items": null,
       "left": null,
       "margin": null,
       "max_height": null,
       "max_width": null,
       "min_height": null,
       "min_width": null,
       "object_fit": null,
       "object_position": null,
       "order": null,
       "overflow": null,
       "padding": null,
       "right": null,
       "top": null,
       "visibility": null,
       "width": null
      }
     },
     "0c430f95187344b0be6d5f89c79b9b85": {
      "model_module": "@jupyter-widgets/base",
      "model_module_version": "2.0.0",
      "model_name": "LayoutModel",
      "state": {
       "_model_module": "@jupyter-widgets/base",
       "_model_module_version": "2.0.0",
       "_model_name": "LayoutModel",
       "_view_count": null,
       "_view_module": "@jupyter-widgets/base",
       "_view_module_version": "2.0.0",
       "_view_name": "LayoutView",
       "align_content": null,
       "align_items": null,
       "align_self": null,
       "border_bottom": null,
       "border_left": null,
       "border_right": null,
       "border_top": null,
       "bottom": null,
       "display": null,
       "flex": null,
       "flex_flow": null,
       "grid_area": null,
       "grid_auto_columns": null,
       "grid_auto_flow": null,
       "grid_auto_rows": null,
       "grid_column": null,
       "grid_gap": null,
       "grid_row": null,
       "grid_template_areas": null,
       "grid_template_columns": null,
       "grid_template_rows": null,
       "height": null,
       "justify_content": null,
       "justify_items": null,
       "left": null,
       "margin": null,
       "max_height": null,
       "max_width": null,
       "min_height": null,
       "min_width": null,
       "object_fit": null,
       "object_position": null,
       "order": null,
       "overflow": null,
       "padding": null,
       "right": null,
       "top": null,
       "visibility": null,
       "width": null
      }
     },
     "0c492e79da9542e7ba5b0b0716bf9468": {
      "model_module": "@jupyter-widgets/base",
      "model_module_version": "2.0.0",
      "model_name": "LayoutModel",
      "state": {
       "_model_module": "@jupyter-widgets/base",
       "_model_module_version": "2.0.0",
       "_model_name": "LayoutModel",
       "_view_count": null,
       "_view_module": "@jupyter-widgets/base",
       "_view_module_version": "2.0.0",
       "_view_name": "LayoutView",
       "align_content": null,
       "align_items": null,
       "align_self": null,
       "border_bottom": null,
       "border_left": null,
       "border_right": null,
       "border_top": null,
       "bottom": null,
       "display": null,
       "flex": null,
       "flex_flow": null,
       "grid_area": null,
       "grid_auto_columns": null,
       "grid_auto_flow": null,
       "grid_auto_rows": null,
       "grid_column": null,
       "grid_gap": null,
       "grid_row": null,
       "grid_template_areas": null,
       "grid_template_columns": null,
       "grid_template_rows": null,
       "height": null,
       "justify_content": null,
       "justify_items": null,
       "left": null,
       "margin": null,
       "max_height": null,
       "max_width": null,
       "min_height": null,
       "min_width": null,
       "object_fit": null,
       "object_position": null,
       "order": null,
       "overflow": null,
       "padding": null,
       "right": null,
       "top": null,
       "visibility": null,
       "width": null
      }
     },
     "141c0bf5da60442d901a65f9edb00f1c": {
      "model_module": "@jupyter-widgets/controls",
      "model_module_version": "2.0.0",
      "model_name": "HBoxModel",
      "state": {
       "_dom_classes": [],
       "_model_module": "@jupyter-widgets/controls",
       "_model_module_version": "2.0.0",
       "_model_name": "HBoxModel",
       "_view_count": null,
       "_view_module": "@jupyter-widgets/controls",
       "_view_module_version": "2.0.0",
       "_view_name": "HBoxView",
       "box_style": "",
       "children": [
        "IPY_MODEL_643b4cea80f4432fb267d2f441d45195",
        "IPY_MODEL_7f6489eaef4143358bb7256467c76957",
        "IPY_MODEL_145801ee16f1403da1153305d0089042"
       ],
       "layout": "IPY_MODEL_d8e5d6d26ad9407091ac74f3be4f11ea",
       "tabbable": null,
       "tooltip": null
      }
     },
     "145801ee16f1403da1153305d0089042": {
      "model_module": "@jupyter-widgets/controls",
      "model_module_version": "2.0.0",
      "model_name": "HTMLModel",
      "state": {
       "_dom_classes": [],
       "_model_module": "@jupyter-widgets/controls",
       "_model_module_version": "2.0.0",
       "_model_name": "HTMLModel",
       "_view_count": null,
       "_view_module": "@jupyter-widgets/controls",
       "_view_module_version": "2.0.0",
       "_view_name": "HTMLView",
       "description": "",
       "description_allow_html": false,
       "layout": "IPY_MODEL_0c492e79da9542e7ba5b0b0716bf9468",
       "placeholder": "​",
       "style": "IPY_MODEL_6af4678e9f1c48c39b8606c1a2f4261a",
       "tabbable": null,
       "tooltip": null,
       "value": " 1875/? [00:08&lt;00:00, 161.26it/s]"
      }
     },
     "19d88f3521a445bb822d7360b26a58c6": {
      "model_module": "@jupyter-widgets/controls",
      "model_module_version": "2.0.0",
      "model_name": "FloatProgressModel",
      "state": {
       "_dom_classes": [],
       "_model_module": "@jupyter-widgets/controls",
       "_model_module_version": "2.0.0",
       "_model_name": "FloatProgressModel",
       "_view_count": null,
       "_view_module": "@jupyter-widgets/controls",
       "_view_module_version": "2.0.0",
       "_view_name": "ProgressView",
       "bar_style": "success",
       "description": "",
       "description_allow_html": false,
       "layout": "IPY_MODEL_41b8efadc1674d8a8b0291f1f156da02",
       "max": 1.0,
       "min": 0.0,
       "orientation": "horizontal",
       "style": "IPY_MODEL_62405e92967747dc94323f9796b2a99c",
       "tabbable": null,
       "tooltip": null,
       "value": 1.0
      }
     },
     "1cb38484dd9148b4a6a8f5b69dfb3823": {
      "model_module": "@jupyter-widgets/base",
      "model_module_version": "2.0.0",
      "model_name": "LayoutModel",
      "state": {
       "_model_module": "@jupyter-widgets/base",
       "_model_module_version": "2.0.0",
       "_model_name": "LayoutModel",
       "_view_count": null,
       "_view_module": "@jupyter-widgets/base",
       "_view_module_version": "2.0.0",
       "_view_name": "LayoutView",
       "align_content": null,
       "align_items": null,
       "align_self": null,
       "border_bottom": null,
       "border_left": null,
       "border_right": null,
       "border_top": null,
       "bottom": null,
       "display": null,
       "flex": null,
       "flex_flow": null,
       "grid_area": null,
       "grid_auto_columns": null,
       "grid_auto_flow": null,
       "grid_auto_rows": null,
       "grid_column": null,
       "grid_gap": null,
       "grid_row": null,
       "grid_template_areas": null,
       "grid_template_columns": null,
       "grid_template_rows": null,
       "height": null,
       "justify_content": null,
       "justify_items": null,
       "left": null,
       "margin": null,
       "max_height": null,
       "max_width": null,
       "min_height": null,
       "min_width": null,
       "object_fit": null,
       "object_position": null,
       "order": null,
       "overflow": null,
       "padding": null,
       "right": null,
       "top": null,
       "visibility": null,
       "width": null
      }
     },
     "204cd0e95bbe443693eac3e4eb854223": {
      "model_module": "@jupyter-widgets/controls",
      "model_module_version": "2.0.0",
      "model_name": "ProgressStyleModel",
      "state": {
       "_model_module": "@jupyter-widgets/controls",
       "_model_module_version": "2.0.0",
       "_model_name": "ProgressStyleModel",
       "_view_count": null,
       "_view_module": "@jupyter-widgets/base",
       "_view_module_version": "2.0.0",
       "_view_name": "StyleView",
       "bar_color": null,
       "description_width": ""
      }
     },
     "27f4d3c9082e472996b79f93d3bfd1d2": {
      "model_module": "@jupyter-widgets/controls",
      "model_module_version": "2.0.0",
      "model_name": "HTMLStyleModel",
      "state": {
       "_model_module": "@jupyter-widgets/controls",
       "_model_module_version": "2.0.0",
       "_model_name": "HTMLStyleModel",
       "_view_count": null,
       "_view_module": "@jupyter-widgets/base",
       "_view_module_version": "2.0.0",
       "_view_name": "StyleView",
       "background": null,
       "description_width": "",
       "font_size": null,
       "text_color": null
      }
     },
     "2a56df02d2404141915096c61f258172": {
      "model_module": "@jupyter-widgets/controls",
      "model_module_version": "2.0.0",
      "model_name": "HTMLModel",
      "state": {
       "_dom_classes": [],
       "_model_module": "@jupyter-widgets/controls",
       "_model_module_version": "2.0.0",
       "_model_name": "HTMLModel",
       "_view_count": null,
       "_view_module": "@jupyter-widgets/controls",
       "_view_module_version": "2.0.0",
       "_view_name": "HTMLView",
       "description": "",
       "description_allow_html": false,
       "layout": "IPY_MODEL_1cb38484dd9148b4a6a8f5b69dfb3823",
       "placeholder": "​",
       "style": "IPY_MODEL_9e0bf532595c47588fe28e786300b4ae",
       "tabbable": null,
       "tooltip": null,
       "value": " 3/3 [00:29&lt;00:00,  9.87s/it]"
      }
     },
     "2dc92c34a58841b49e58b7213a64e32c": {
      "model_module": "@jupyter-widgets/controls",
      "model_module_version": "2.0.0",
      "model_name": "HTMLStyleModel",
      "state": {
       "_model_module": "@jupyter-widgets/controls",
       "_model_module_version": "2.0.0",
       "_model_name": "HTMLStyleModel",
       "_view_count": null,
       "_view_module": "@jupyter-widgets/base",
       "_view_module_version": "2.0.0",
       "_view_name": "StyleView",
       "background": null,
       "description_width": "",
       "font_size": null,
       "text_color": null
      }
     },
     "33917f064cfd457e817fc2107221599d": {
      "model_module": "@jupyter-widgets/controls",
      "model_module_version": "2.0.0",
      "model_name": "HTMLStyleModel",
      "state": {
       "_model_module": "@jupyter-widgets/controls",
       "_model_module_version": "2.0.0",
       "_model_name": "HTMLStyleModel",
       "_view_count": null,
       "_view_module": "@jupyter-widgets/base",
       "_view_module_version": "2.0.0",
       "_view_name": "StyleView",
       "background": null,
       "description_width": "",
       "font_size": null,
       "text_color": null
      }
     },
     "40888ecc92384345904c4ed51901fbe3": {
      "model_module": "@jupyter-widgets/controls",
      "model_module_version": "2.0.0",
      "model_name": "HTMLModel",
      "state": {
       "_dom_classes": [],
       "_model_module": "@jupyter-widgets/controls",
       "_model_module_version": "2.0.0",
       "_model_name": "HTMLModel",
       "_view_count": null,
       "_view_module": "@jupyter-widgets/controls",
       "_view_module_version": "2.0.0",
       "_view_name": "HTMLView",
       "description": "",
       "description_allow_html": false,
       "layout": "IPY_MODEL_53a49eaa01364d788bfab97c531e209d",
       "placeholder": "​",
       "style": "IPY_MODEL_ff7e589fbd8646db811dce848c69a53f",
       "tabbable": null,
       "tooltip": null,
       "value": ""
      }
     },
     "41b8efadc1674d8a8b0291f1f156da02": {
      "model_module": "@jupyter-widgets/base",
      "model_module_version": "2.0.0",
      "model_name": "LayoutModel",
      "state": {
       "_model_module": "@jupyter-widgets/base",
       "_model_module_version": "2.0.0",
       "_model_name": "LayoutModel",
       "_view_count": null,
       "_view_module": "@jupyter-widgets/base",
       "_view_module_version": "2.0.0",
       "_view_name": "LayoutView",
       "align_content": null,
       "align_items": null,
       "align_self": null,
       "border_bottom": null,
       "border_left": null,
       "border_right": null,
       "border_top": null,
       "bottom": null,
       "display": null,
       "flex": null,
       "flex_flow": null,
       "grid_area": null,
       "grid_auto_columns": null,
       "grid_auto_flow": null,
       "grid_auto_rows": null,
       "grid_column": null,
       "grid_gap": null,
       "grid_row": null,
       "grid_template_areas": null,
       "grid_template_columns": null,
       "grid_template_rows": null,
       "height": null,
       "justify_content": null,
       "justify_items": null,
       "left": null,
       "margin": null,
       "max_height": null,
       "max_width": null,
       "min_height": null,
       "min_width": null,
       "object_fit": null,
       "object_position": null,
       "order": null,
       "overflow": null,
       "padding": null,
       "right": null,
       "top": null,
       "visibility": null,
       "width": "20px"
      }
     },
     "4b992e08d0174367b1b4575191c7fa2e": {
      "model_module": "@jupyter-widgets/base",
      "model_module_version": "2.0.0",
      "model_name": "LayoutModel",
      "state": {
       "_model_module": "@jupyter-widgets/base",
       "_model_module_version": "2.0.0",
       "_model_name": "LayoutModel",
       "_view_count": null,
       "_view_module": "@jupyter-widgets/base",
       "_view_module_version": "2.0.0",
       "_view_name": "LayoutView",
       "align_content": null,
       "align_items": null,
       "align_self": null,
       "border_bottom": null,
       "border_left": null,
       "border_right": null,
       "border_top": null,
       "bottom": null,
       "display": null,
       "flex": null,
       "flex_flow": null,
       "grid_area": null,
       "grid_auto_columns": null,
       "grid_auto_flow": null,
       "grid_auto_rows": null,
       "grid_column": null,
       "grid_gap": null,
       "grid_row": null,
       "grid_template_areas": null,
       "grid_template_columns": null,
       "grid_template_rows": null,
       "height": null,
       "justify_content": null,
       "justify_items": null,
       "left": null,
       "margin": null,
       "max_height": null,
       "max_width": null,
       "min_height": null,
       "min_width": null,
       "object_fit": null,
       "object_position": null,
       "order": null,
       "overflow": null,
       "padding": null,
       "right": null,
       "top": null,
       "visibility": null,
       "width": null
      }
     },
     "4e411613259942d1b3208eb8690bffbc": {
      "model_module": "@jupyter-widgets/controls",
      "model_module_version": "2.0.0",
      "model_name": "FloatProgressModel",
      "state": {
       "_dom_classes": [],
       "_model_module": "@jupyter-widgets/controls",
       "_model_module_version": "2.0.0",
       "_model_name": "FloatProgressModel",
       "_view_count": null,
       "_view_module": "@jupyter-widgets/controls",
       "_view_module_version": "2.0.0",
       "_view_name": "ProgressView",
       "bar_style": "success",
       "description": "",
       "description_allow_html": false,
       "layout": "IPY_MODEL_67b2eea3082744a6b5fc490a5a46c1d0",
       "max": 1.0,
       "min": 0.0,
       "orientation": "horizontal",
       "style": "IPY_MODEL_dfae9cbf6bf9436e85a576ca63767d43",
       "tabbable": null,
       "tooltip": null,
       "value": 1.0
      }
     },
     "4f2d3ba5783e43e0a561a719552d6c2a": {
      "model_module": "@jupyter-widgets/controls",
      "model_module_version": "2.0.0",
      "model_name": "ProgressStyleModel",
      "state": {
       "_model_module": "@jupyter-widgets/controls",
       "_model_module_version": "2.0.0",
       "_model_name": "ProgressStyleModel",
       "_view_count": null,
       "_view_module": "@jupyter-widgets/base",
       "_view_module_version": "2.0.0",
       "_view_name": "StyleView",
       "bar_color": null,
       "description_width": ""
      }
     },
     "53a49eaa01364d788bfab97c531e209d": {
      "model_module": "@jupyter-widgets/base",
      "model_module_version": "2.0.0",
      "model_name": "LayoutModel",
      "state": {
       "_model_module": "@jupyter-widgets/base",
       "_model_module_version": "2.0.0",
       "_model_name": "LayoutModel",
       "_view_count": null,
       "_view_module": "@jupyter-widgets/base",
       "_view_module_version": "2.0.0",
       "_view_name": "LayoutView",
       "align_content": null,
       "align_items": null,
       "align_self": null,
       "border_bottom": null,
       "border_left": null,
       "border_right": null,
       "border_top": null,
       "bottom": null,
       "display": null,
       "flex": null,
       "flex_flow": null,
       "grid_area": null,
       "grid_auto_columns": null,
       "grid_auto_flow": null,
       "grid_auto_rows": null,
       "grid_column": null,
       "grid_gap": null,
       "grid_row": null,
       "grid_template_areas": null,
       "grid_template_columns": null,
       "grid_template_rows": null,
       "height": null,
       "justify_content": null,
       "justify_items": null,
       "left": null,
       "margin": null,
       "max_height": null,
       "max_width": null,
       "min_height": null,
       "min_width": null,
       "object_fit": null,
       "object_position": null,
       "order": null,
       "overflow": null,
       "padding": null,
       "right": null,
       "top": null,
       "visibility": null,
       "width": null
      }
     },
     "57c3725320244978bd82c6966b719270": {
      "model_module": "@jupyter-widgets/controls",
      "model_module_version": "2.0.0",
      "model_name": "HTMLStyleModel",
      "state": {
       "_model_module": "@jupyter-widgets/controls",
       "_model_module_version": "2.0.0",
       "_model_name": "HTMLStyleModel",
       "_view_count": null,
       "_view_module": "@jupyter-widgets/base",
       "_view_module_version": "2.0.0",
       "_view_name": "StyleView",
       "background": null,
       "description_width": "",
       "font_size": null,
       "text_color": null
      }
     },
     "5feb5911437a45799f36e833a98da880": {
      "model_module": "@jupyter-widgets/base",
      "model_module_version": "2.0.0",
      "model_name": "LayoutModel",
      "state": {
       "_model_module": "@jupyter-widgets/base",
       "_model_module_version": "2.0.0",
       "_model_name": "LayoutModel",
       "_view_count": null,
       "_view_module": "@jupyter-widgets/base",
       "_view_module_version": "2.0.0",
       "_view_name": "LayoutView",
       "align_content": null,
       "align_items": null,
       "align_self": null,
       "border_bottom": null,
       "border_left": null,
       "border_right": null,
       "border_top": null,
       "bottom": null,
       "display": null,
       "flex": null,
       "flex_flow": null,
       "grid_area": null,
       "grid_auto_columns": null,
       "grid_auto_flow": null,
       "grid_auto_rows": null,
       "grid_column": null,
       "grid_gap": null,
       "grid_row": null,
       "grid_template_areas": null,
       "grid_template_columns": null,
       "grid_template_rows": null,
       "height": null,
       "justify_content": null,
       "justify_items": null,
       "left": null,
       "margin": null,
       "max_height": null,
       "max_width": null,
       "min_height": null,
       "min_width": null,
       "object_fit": null,
       "object_position": null,
       "order": null,
       "overflow": null,
       "padding": null,
       "right": null,
       "top": null,
       "visibility": null,
       "width": null
      }
     },
     "62405e92967747dc94323f9796b2a99c": {
      "model_module": "@jupyter-widgets/controls",
      "model_module_version": "2.0.0",
      "model_name": "ProgressStyleModel",
      "state": {
       "_model_module": "@jupyter-widgets/controls",
       "_model_module_version": "2.0.0",
       "_model_name": "ProgressStyleModel",
       "_view_count": null,
       "_view_module": "@jupyter-widgets/base",
       "_view_module_version": "2.0.0",
       "_view_name": "StyleView",
       "bar_color": null,
       "description_width": ""
      }
     },
     "643b4cea80f4432fb267d2f441d45195": {
      "model_module": "@jupyter-widgets/controls",
      "model_module_version": "2.0.0",
      "model_name": "HTMLModel",
      "state": {
       "_dom_classes": [],
       "_model_module": "@jupyter-widgets/controls",
       "_model_module_version": "2.0.0",
       "_model_name": "HTMLModel",
       "_view_count": null,
       "_view_module": "@jupyter-widgets/controls",
       "_view_module_version": "2.0.0",
       "_view_name": "HTMLView",
       "description": "",
       "description_allow_html": false,
       "layout": "IPY_MODEL_02a229286ce545188d7146a10adecddf",
       "placeholder": "​",
       "style": "IPY_MODEL_57c3725320244978bd82c6966b719270",
       "tabbable": null,
       "tooltip": null,
       "value": ""
      }
     },
     "67b2eea3082744a6b5fc490a5a46c1d0": {
      "model_module": "@jupyter-widgets/base",
      "model_module_version": "2.0.0",
      "model_name": "LayoutModel",
      "state": {
       "_model_module": "@jupyter-widgets/base",
       "_model_module_version": "2.0.0",
       "_model_name": "LayoutModel",
       "_view_count": null,
       "_view_module": "@jupyter-widgets/base",
       "_view_module_version": "2.0.0",
       "_view_name": "LayoutView",
       "align_content": null,
       "align_items": null,
       "align_self": null,
       "border_bottom": null,
       "border_left": null,
       "border_right": null,
       "border_top": null,
       "bottom": null,
       "display": null,
       "flex": null,
       "flex_flow": null,
       "grid_area": null,
       "grid_auto_columns": null,
       "grid_auto_flow": null,
       "grid_auto_rows": null,
       "grid_column": null,
       "grid_gap": null,
       "grid_row": null,
       "grid_template_areas": null,
       "grid_template_columns": null,
       "grid_template_rows": null,
       "height": null,
       "justify_content": null,
       "justify_items": null,
       "left": null,
       "margin": null,
       "max_height": null,
       "max_width": null,
       "min_height": null,
       "min_width": null,
       "object_fit": null,
       "object_position": null,
       "order": null,
       "overflow": null,
       "padding": null,
       "right": null,
       "top": null,
       "visibility": null,
       "width": "20px"
      }
     },
     "6af4678e9f1c48c39b8606c1a2f4261a": {
      "model_module": "@jupyter-widgets/controls",
      "model_module_version": "2.0.0",
      "model_name": "HTMLStyleModel",
      "state": {
       "_model_module": "@jupyter-widgets/controls",
       "_model_module_version": "2.0.0",
       "_model_name": "HTMLStyleModel",
       "_view_count": null,
       "_view_module": "@jupyter-widgets/base",
       "_view_module_version": "2.0.0",
       "_view_name": "StyleView",
       "background": null,
       "description_width": "",
       "font_size": null,
       "text_color": null
      }
     },
     "770cef222ad447ed879165989b64c45b": {
      "model_module": "@jupyter-widgets/controls",
      "model_module_version": "2.0.0",
      "model_name": "HTMLStyleModel",
      "state": {
       "_model_module": "@jupyter-widgets/controls",
       "_model_module_version": "2.0.0",
       "_model_name": "HTMLStyleModel",
       "_view_count": null,
       "_view_module": "@jupyter-widgets/base",
       "_view_module_version": "2.0.0",
       "_view_name": "StyleView",
       "background": null,
       "description_width": "",
       "font_size": null,
       "text_color": null
      }
     },
     "7f6489eaef4143358bb7256467c76957": {
      "model_module": "@jupyter-widgets/controls",
      "model_module_version": "2.0.0",
      "model_name": "FloatProgressModel",
      "state": {
       "_dom_classes": [],
       "_model_module": "@jupyter-widgets/controls",
       "_model_module_version": "2.0.0",
       "_model_name": "FloatProgressModel",
       "_view_count": null,
       "_view_module": "@jupyter-widgets/controls",
       "_view_module_version": "2.0.0",
       "_view_name": "ProgressView",
       "bar_style": "success",
       "description": "",
       "description_allow_html": false,
       "layout": "IPY_MODEL_ff0cf8941e7d4f6c949bdafc8e359b1e",
       "max": 1.0,
       "min": 0.0,
       "orientation": "horizontal",
       "style": "IPY_MODEL_d0eeceb4ff94482daca498960b50879e",
       "tabbable": null,
       "tooltip": null,
       "value": 1.0
      }
     },
     "882ea5c3eae2411e9f19b494dff0c23f": {
      "model_module": "@jupyter-widgets/controls",
      "model_module_version": "2.0.0",
      "model_name": "HTMLStyleModel",
      "state": {
       "_model_module": "@jupyter-widgets/controls",
       "_model_module_version": "2.0.0",
       "_model_name": "HTMLStyleModel",
       "_view_count": null,
       "_view_module": "@jupyter-widgets/base",
       "_view_module_version": "2.0.0",
       "_view_name": "StyleView",
       "background": null,
       "description_width": "",
       "font_size": null,
       "text_color": null
      }
     },
     "9144e9ea7c49477c81f26ec797160816": {
      "model_module": "@jupyter-widgets/controls",
      "model_module_version": "2.0.0",
      "model_name": "HBoxModel",
      "state": {
       "_dom_classes": [],
       "_model_module": "@jupyter-widgets/controls",
       "_model_module_version": "2.0.0",
       "_model_name": "HBoxModel",
       "_view_count": null,
       "_view_module": "@jupyter-widgets/controls",
       "_view_module_version": "2.0.0",
       "_view_name": "HBoxView",
       "box_style": "",
       "children": [
        "IPY_MODEL_e6774b6a897d49fe92e5b4eaf7e0de9b",
        "IPY_MODEL_4e411613259942d1b3208eb8690bffbc",
        "IPY_MODEL_bbd2a9d3c45c487f81e384cf95df085e"
       ],
       "layout": "IPY_MODEL_c67fc1767082468cb5df5a4256215dd9",
       "tabbable": null,
       "tooltip": null
      }
     },
     "997045f8cc3b430290f0448f79f1bda6": {
      "model_module": "@jupyter-widgets/base",
      "model_module_version": "2.0.0",
      "model_name": "LayoutModel",
      "state": {
       "_model_module": "@jupyter-widgets/base",
       "_model_module_version": "2.0.0",
       "_model_name": "LayoutModel",
       "_view_count": null,
       "_view_module": "@jupyter-widgets/base",
       "_view_module_version": "2.0.0",
       "_view_name": "LayoutView",
       "align_content": null,
       "align_items": null,
       "align_self": null,
       "border_bottom": null,
       "border_left": null,
       "border_right": null,
       "border_top": null,
       "bottom": null,
       "display": null,
       "flex": null,
       "flex_flow": null,
       "grid_area": null,
       "grid_auto_columns": null,
       "grid_auto_flow": null,
       "grid_auto_rows": null,
       "grid_column": null,
       "grid_gap": null,
       "grid_row": null,
       "grid_template_areas": null,
       "grid_template_columns": null,
       "grid_template_rows": null,
       "height": null,
       "justify_content": null,
       "justify_items": null,
       "left": null,
       "margin": null,
       "max_height": null,
       "max_width": null,
       "min_height": null,
       "min_width": null,
       "object_fit": null,
       "object_position": null,
       "order": null,
       "overflow": null,
       "padding": null,
       "right": null,
       "top": null,
       "visibility": null,
       "width": null
      }
     },
     "99bda85b5cef4d41879fff1a4afec68a": {
      "model_module": "@jupyter-widgets/base",
      "model_module_version": "2.0.0",
      "model_name": "LayoutModel",
      "state": {
       "_model_module": "@jupyter-widgets/base",
       "_model_module_version": "2.0.0",
       "_model_name": "LayoutModel",
       "_view_count": null,
       "_view_module": "@jupyter-widgets/base",
       "_view_module_version": "2.0.0",
       "_view_name": "LayoutView",
       "align_content": null,
       "align_items": null,
       "align_self": null,
       "border_bottom": null,
       "border_left": null,
       "border_right": null,
       "border_top": null,
       "bottom": null,
       "display": null,
       "flex": null,
       "flex_flow": null,
       "grid_area": null,
       "grid_auto_columns": null,
       "grid_auto_flow": null,
       "grid_auto_rows": null,
       "grid_column": null,
       "grid_gap": null,
       "grid_row": null,
       "grid_template_areas": null,
       "grid_template_columns": null,
       "grid_template_rows": null,
       "height": null,
       "justify_content": null,
       "justify_items": null,
       "left": null,
       "margin": null,
       "max_height": null,
       "max_width": null,
       "min_height": null,
       "min_width": null,
       "object_fit": null,
       "object_position": null,
       "order": null,
       "overflow": null,
       "padding": null,
       "right": null,
       "top": null,
       "visibility": null,
       "width": null
      }
     },
     "9e0bf532595c47588fe28e786300b4ae": {
      "model_module": "@jupyter-widgets/controls",
      "model_module_version": "2.0.0",
      "model_name": "HTMLStyleModel",
      "state": {
       "_model_module": "@jupyter-widgets/controls",
       "_model_module_version": "2.0.0",
       "_model_name": "HTMLStyleModel",
       "_view_count": null,
       "_view_module": "@jupyter-widgets/base",
       "_view_module_version": "2.0.0",
       "_view_name": "StyleView",
       "background": null,
       "description_width": "",
       "font_size": null,
       "text_color": null
      }
     },
     "9f1f51345a6a44039ee502c49fbdf16f": {
      "model_module": "@jupyter-widgets/base",
      "model_module_version": "2.0.0",
      "model_name": "LayoutModel",
      "state": {
       "_model_module": "@jupyter-widgets/base",
       "_model_module_version": "2.0.0",
       "_model_name": "LayoutModel",
       "_view_count": null,
       "_view_module": "@jupyter-widgets/base",
       "_view_module_version": "2.0.0",
       "_view_name": "LayoutView",
       "align_content": null,
       "align_items": null,
       "align_self": null,
       "border_bottom": null,
       "border_left": null,
       "border_right": null,
       "border_top": null,
       "bottom": null,
       "display": null,
       "flex": null,
       "flex_flow": null,
       "grid_area": null,
       "grid_auto_columns": null,
       "grid_auto_flow": null,
       "grid_auto_rows": null,
       "grid_column": null,
       "grid_gap": null,
       "grid_row": null,
       "grid_template_areas": null,
       "grid_template_columns": null,
       "grid_template_rows": null,
       "height": null,
       "justify_content": null,
       "justify_items": null,
       "left": null,
       "margin": null,
       "max_height": null,
       "max_width": null,
       "min_height": null,
       "min_width": null,
       "object_fit": null,
       "object_position": null,
       "order": null,
       "overflow": null,
       "padding": null,
       "right": null,
       "top": null,
       "visibility": null,
       "width": null
      }
     },
     "a4115c663e9649eeb8056bb52f88b654": {
      "model_module": "@jupyter-widgets/controls",
      "model_module_version": "2.0.0",
      "model_name": "HBoxModel",
      "state": {
       "_dom_classes": [],
       "_model_module": "@jupyter-widgets/controls",
       "_model_module_version": "2.0.0",
       "_model_name": "HBoxModel",
       "_view_count": null,
       "_view_module": "@jupyter-widgets/controls",
       "_view_module_version": "2.0.0",
       "_view_name": "HBoxView",
       "box_style": "",
       "children": [
        "IPY_MODEL_ffdacce296e046bfa1f4858e01847a56",
        "IPY_MODEL_f8380f99825d45739cc3c1118d70bccc",
        "IPY_MODEL_dc9962e958ec4d1da9815e598fe15a5c"
       ],
       "layout": "IPY_MODEL_f0cd3484e80041d2a27be367eecbac4d",
       "tabbable": null,
       "tooltip": null
      }
     },
     "aaee8184054e44e2b63bede835943cb1": {
      "model_module": "@jupyter-widgets/controls",
      "model_module_version": "2.0.0",
      "model_name": "HTMLStyleModel",
      "state": {
       "_model_module": "@jupyter-widgets/controls",
       "_model_module_version": "2.0.0",
       "_model_name": "HTMLStyleModel",
       "_view_count": null,
       "_view_module": "@jupyter-widgets/base",
       "_view_module_version": "2.0.0",
       "_view_name": "StyleView",
       "background": null,
       "description_width": "",
       "font_size": null,
       "text_color": null
      }
     },
     "ac6a57017dc741a4992be73554d13e3a": {
      "model_module": "@jupyter-widgets/controls",
      "model_module_version": "2.0.0",
      "model_name": "HBoxModel",
      "state": {
       "_dom_classes": [],
       "_model_module": "@jupyter-widgets/controls",
       "_model_module_version": "2.0.0",
       "_model_name": "HBoxModel",
       "_view_count": null,
       "_view_module": "@jupyter-widgets/controls",
       "_view_module_version": "2.0.0",
       "_view_name": "HBoxView",
       "box_style": "",
       "children": [
        "IPY_MODEL_adc9e62f428e44da98732e152a368463",
        "IPY_MODEL_b784e23ff2f64acba471d8de387cb609",
        "IPY_MODEL_2a56df02d2404141915096c61f258172"
       ],
       "layout": "IPY_MODEL_c65fe13d5b0f4967b7a7839abad6a131",
       "tabbable": null,
       "tooltip": null
      }
     },
     "adc9e62f428e44da98732e152a368463": {
      "model_module": "@jupyter-widgets/controls",
      "model_module_version": "2.0.0",
      "model_name": "HTMLModel",
      "state": {
       "_dom_classes": [],
       "_model_module": "@jupyter-widgets/controls",
       "_model_module_version": "2.0.0",
       "_model_name": "HTMLModel",
       "_view_count": null,
       "_view_module": "@jupyter-widgets/controls",
       "_view_module_version": "2.0.0",
       "_view_name": "HTMLView",
       "description": "",
       "description_allow_html": false,
       "layout": "IPY_MODEL_99bda85b5cef4d41879fff1a4afec68a",
       "placeholder": "​",
       "style": "IPY_MODEL_770cef222ad447ed879165989b64c45b",
       "tabbable": null,
       "tooltip": null,
       "value": "100%"
      }
     },
     "b784e23ff2f64acba471d8de387cb609": {
      "model_module": "@jupyter-widgets/controls",
      "model_module_version": "2.0.0",
      "model_name": "FloatProgressModel",
      "state": {
       "_dom_classes": [],
       "_model_module": "@jupyter-widgets/controls",
       "_model_module_version": "2.0.0",
       "_model_name": "FloatProgressModel",
       "_view_count": null,
       "_view_module": "@jupyter-widgets/controls",
       "_view_module_version": "2.0.0",
       "_view_name": "ProgressView",
       "bar_style": "success",
       "description": "",
       "description_allow_html": false,
       "layout": "IPY_MODEL_997045f8cc3b430290f0448f79f1bda6",
       "max": 3.0,
       "min": 0.0,
       "orientation": "horizontal",
       "style": "IPY_MODEL_4f2d3ba5783e43e0a561a719552d6c2a",
       "tabbable": null,
       "tooltip": null,
       "value": 3.0
      }
     },
     "bbd2a9d3c45c487f81e384cf95df085e": {
      "model_module": "@jupyter-widgets/controls",
      "model_module_version": "2.0.0",
      "model_name": "HTMLModel",
      "state": {
       "_dom_classes": [],
       "_model_module": "@jupyter-widgets/controls",
       "_model_module_version": "2.0.0",
       "_model_name": "HTMLModel",
       "_view_count": null,
       "_view_module": "@jupyter-widgets/controls",
       "_view_module_version": "2.0.0",
       "_view_name": "HTMLView",
       "description": "",
       "description_allow_html": false,
       "layout": "IPY_MODEL_f00707f659904a8e9b71a61fe294ef12",
       "placeholder": "​",
       "style": "IPY_MODEL_882ea5c3eae2411e9f19b494dff0c23f",
       "tabbable": null,
       "tooltip": null,
       "value": " 1875/? [00:08&lt;00:00, 207.94it/s]"
      }
     },
     "c65fe13d5b0f4967b7a7839abad6a131": {
      "model_module": "@jupyter-widgets/base",
      "model_module_version": "2.0.0",
      "model_name": "LayoutModel",
      "state": {
       "_model_module": "@jupyter-widgets/base",
       "_model_module_version": "2.0.0",
       "_model_name": "LayoutModel",
       "_view_count": null,
       "_view_module": "@jupyter-widgets/base",
       "_view_module_version": "2.0.0",
       "_view_name": "LayoutView",
       "align_content": null,
       "align_items": null,
       "align_self": null,
       "border_bottom": null,
       "border_left": null,
       "border_right": null,
       "border_top": null,
       "bottom": null,
       "display": null,
       "flex": null,
       "flex_flow": null,
       "grid_area": null,
       "grid_auto_columns": null,
       "grid_auto_flow": null,
       "grid_auto_rows": null,
       "grid_column": null,
       "grid_gap": null,
       "grid_row": null,
       "grid_template_areas": null,
       "grid_template_columns": null,
       "grid_template_rows": null,
       "height": null,
       "justify_content": null,
       "justify_items": null,
       "left": null,
       "margin": null,
       "max_height": null,
       "max_width": null,
       "min_height": null,
       "min_width": null,
       "object_fit": null,
       "object_position": null,
       "order": null,
       "overflow": null,
       "padding": null,
       "right": null,
       "top": null,
       "visibility": null,
       "width": null
      }
     },
     "c67fc1767082468cb5df5a4256215dd9": {
      "model_module": "@jupyter-widgets/base",
      "model_module_version": "2.0.0",
      "model_name": "LayoutModel",
      "state": {
       "_model_module": "@jupyter-widgets/base",
       "_model_module_version": "2.0.0",
       "_model_name": "LayoutModel",
       "_view_count": null,
       "_view_module": "@jupyter-widgets/base",
       "_view_module_version": "2.0.0",
       "_view_name": "LayoutView",
       "align_content": null,
       "align_items": null,
       "align_self": null,
       "border_bottom": null,
       "border_left": null,
       "border_right": null,
       "border_top": null,
       "bottom": null,
       "display": null,
       "flex": null,
       "flex_flow": null,
       "grid_area": null,
       "grid_auto_columns": null,
       "grid_auto_flow": null,
       "grid_auto_rows": null,
       "grid_column": null,
       "grid_gap": null,
       "grid_row": null,
       "grid_template_areas": null,
       "grid_template_columns": null,
       "grid_template_rows": null,
       "height": null,
       "justify_content": null,
       "justify_items": null,
       "left": null,
       "margin": null,
       "max_height": null,
       "max_width": null,
       "min_height": null,
       "min_width": null,
       "object_fit": null,
       "object_position": null,
       "order": null,
       "overflow": null,
       "padding": null,
       "right": null,
       "top": null,
       "visibility": null,
       "width": null
      }
     },
     "c8d7aeba92df4532bdf933d56fb4e30b": {
      "model_module": "@jupyter-widgets/base",
      "model_module_version": "2.0.0",
      "model_name": "LayoutModel",
      "state": {
       "_model_module": "@jupyter-widgets/base",
       "_model_module_version": "2.0.0",
       "_model_name": "LayoutModel",
       "_view_count": null,
       "_view_module": "@jupyter-widgets/base",
       "_view_module_version": "2.0.0",
       "_view_name": "LayoutView",
       "align_content": null,
       "align_items": null,
       "align_self": null,
       "border_bottom": null,
       "border_left": null,
       "border_right": null,
       "border_top": null,
       "bottom": null,
       "display": null,
       "flex": null,
       "flex_flow": null,
       "grid_area": null,
       "grid_auto_columns": null,
       "grid_auto_flow": null,
       "grid_auto_rows": null,
       "grid_column": null,
       "grid_gap": null,
       "grid_row": null,
       "grid_template_areas": null,
       "grid_template_columns": null,
       "grid_template_rows": null,
       "height": null,
       "justify_content": null,
       "justify_items": null,
       "left": null,
       "margin": null,
       "max_height": null,
       "max_width": null,
       "min_height": null,
       "min_width": null,
       "object_fit": null,
       "object_position": null,
       "order": null,
       "overflow": null,
       "padding": null,
       "right": null,
       "top": null,
       "visibility": null,
       "width": null
      }
     },
     "cbf21f8446cb4597837e49a3cfbc5047": {
      "model_module": "@jupyter-widgets/controls",
      "model_module_version": "2.0.0",
      "model_name": "HBoxModel",
      "state": {
       "_dom_classes": [],
       "_model_module": "@jupyter-widgets/controls",
       "_model_module_version": "2.0.0",
       "_model_name": "HBoxModel",
       "_view_count": null,
       "_view_module": "@jupyter-widgets/controls",
       "_view_module_version": "2.0.0",
       "_view_name": "HBoxView",
       "box_style": "",
       "children": [
        "IPY_MODEL_40888ecc92384345904c4ed51901fbe3",
        "IPY_MODEL_19d88f3521a445bb822d7360b26a58c6",
        "IPY_MODEL_019c78e4f48a4739af8c79916aae2a15"
       ],
       "layout": "IPY_MODEL_9f1f51345a6a44039ee502c49fbdf16f",
       "tabbable": null,
       "tooltip": null
      }
     },
     "ce274335a4fd4c43abc8a21102c3113d": {
      "model_module": "@jupyter-widgets/base",
      "model_module_version": "2.0.0",
      "model_name": "LayoutModel",
      "state": {
       "_model_module": "@jupyter-widgets/base",
       "_model_module_version": "2.0.0",
       "_model_name": "LayoutModel",
       "_view_count": null,
       "_view_module": "@jupyter-widgets/base",
       "_view_module_version": "2.0.0",
       "_view_name": "LayoutView",
       "align_content": null,
       "align_items": null,
       "align_self": null,
       "border_bottom": null,
       "border_left": null,
       "border_right": null,
       "border_top": null,
       "bottom": null,
       "display": null,
       "flex": null,
       "flex_flow": null,
       "grid_area": null,
       "grid_auto_columns": null,
       "grid_auto_flow": null,
       "grid_auto_rows": null,
       "grid_column": null,
       "grid_gap": null,
       "grid_row": null,
       "grid_template_areas": null,
       "grid_template_columns": null,
       "grid_template_rows": null,
       "height": null,
       "justify_content": null,
       "justify_items": null,
       "left": null,
       "margin": null,
       "max_height": null,
       "max_width": null,
       "min_height": null,
       "min_width": null,
       "object_fit": null,
       "object_position": null,
       "order": null,
       "overflow": null,
       "padding": null,
       "right": null,
       "top": null,
       "visibility": null,
       "width": null
      }
     },
     "d0eeceb4ff94482daca498960b50879e": {
      "model_module": "@jupyter-widgets/controls",
      "model_module_version": "2.0.0",
      "model_name": "ProgressStyleModel",
      "state": {
       "_model_module": "@jupyter-widgets/controls",
       "_model_module_version": "2.0.0",
       "_model_name": "ProgressStyleModel",
       "_view_count": null,
       "_view_module": "@jupyter-widgets/base",
       "_view_module_version": "2.0.0",
       "_view_name": "StyleView",
       "bar_color": null,
       "description_width": ""
      }
     },
     "d8e5d6d26ad9407091ac74f3be4f11ea": {
      "model_module": "@jupyter-widgets/base",
      "model_module_version": "2.0.0",
      "model_name": "LayoutModel",
      "state": {
       "_model_module": "@jupyter-widgets/base",
       "_model_module_version": "2.0.0",
       "_model_name": "LayoutModel",
       "_view_count": null,
       "_view_module": "@jupyter-widgets/base",
       "_view_module_version": "2.0.0",
       "_view_name": "LayoutView",
       "align_content": null,
       "align_items": null,
       "align_self": null,
       "border_bottom": null,
       "border_left": null,
       "border_right": null,
       "border_top": null,
       "bottom": null,
       "display": null,
       "flex": null,
       "flex_flow": null,
       "grid_area": null,
       "grid_auto_columns": null,
       "grid_auto_flow": null,
       "grid_auto_rows": null,
       "grid_column": null,
       "grid_gap": null,
       "grid_row": null,
       "grid_template_areas": null,
       "grid_template_columns": null,
       "grid_template_rows": null,
       "height": null,
       "justify_content": null,
       "justify_items": null,
       "left": null,
       "margin": null,
       "max_height": null,
       "max_width": null,
       "min_height": null,
       "min_width": null,
       "object_fit": null,
       "object_position": null,
       "order": null,
       "overflow": null,
       "padding": null,
       "right": null,
       "top": null,
       "visibility": null,
       "width": null
      }
     },
     "dc9962e958ec4d1da9815e598fe15a5c": {
      "model_module": "@jupyter-widgets/controls",
      "model_module_version": "2.0.0",
      "model_name": "HTMLModel",
      "state": {
       "_dom_classes": [],
       "_model_module": "@jupyter-widgets/controls",
       "_model_module_version": "2.0.0",
       "_model_name": "HTMLModel",
       "_view_count": null,
       "_view_module": "@jupyter-widgets/controls",
       "_view_module_version": "2.0.0",
       "_view_name": "HTMLView",
       "description": "",
       "description_allow_html": false,
       "layout": "IPY_MODEL_4b992e08d0174367b1b4575191c7fa2e",
       "placeholder": "​",
       "style": "IPY_MODEL_2dc92c34a58841b49e58b7213a64e32c",
       "tabbable": null,
       "tooltip": null,
       "value": " 3/3 [00:28&lt;00:00,  9.55s/it]"
      }
     },
     "dfae9cbf6bf9436e85a576ca63767d43": {
      "model_module": "@jupyter-widgets/controls",
      "model_module_version": "2.0.0",
      "model_name": "ProgressStyleModel",
      "state": {
       "_model_module": "@jupyter-widgets/controls",
       "_model_module_version": "2.0.0",
       "_model_name": "ProgressStyleModel",
       "_view_count": null,
       "_view_module": "@jupyter-widgets/base",
       "_view_module_version": "2.0.0",
       "_view_name": "StyleView",
       "bar_color": null,
       "description_width": ""
      }
     },
     "e6774b6a897d49fe92e5b4eaf7e0de9b": {
      "model_module": "@jupyter-widgets/controls",
      "model_module_version": "2.0.0",
      "model_name": "HTMLModel",
      "state": {
       "_dom_classes": [],
       "_model_module": "@jupyter-widgets/controls",
       "_model_module_version": "2.0.0",
       "_model_name": "HTMLModel",
       "_view_count": null,
       "_view_module": "@jupyter-widgets/controls",
       "_view_module_version": "2.0.0",
       "_view_name": "HTMLView",
       "description": "",
       "description_allow_html": false,
       "layout": "IPY_MODEL_ce274335a4fd4c43abc8a21102c3113d",
       "placeholder": "​",
       "style": "IPY_MODEL_33917f064cfd457e817fc2107221599d",
       "tabbable": null,
       "tooltip": null,
       "value": ""
      }
     },
     "f00707f659904a8e9b71a61fe294ef12": {
      "model_module": "@jupyter-widgets/base",
      "model_module_version": "2.0.0",
      "model_name": "LayoutModel",
      "state": {
       "_model_module": "@jupyter-widgets/base",
       "_model_module_version": "2.0.0",
       "_model_name": "LayoutModel",
       "_view_count": null,
       "_view_module": "@jupyter-widgets/base",
       "_view_module_version": "2.0.0",
       "_view_name": "LayoutView",
       "align_content": null,
       "align_items": null,
       "align_self": null,
       "border_bottom": null,
       "border_left": null,
       "border_right": null,
       "border_top": null,
       "bottom": null,
       "display": null,
       "flex": null,
       "flex_flow": null,
       "grid_area": null,
       "grid_auto_columns": null,
       "grid_auto_flow": null,
       "grid_auto_rows": null,
       "grid_column": null,
       "grid_gap": null,
       "grid_row": null,
       "grid_template_areas": null,
       "grid_template_columns": null,
       "grid_template_rows": null,
       "height": null,
       "justify_content": null,
       "justify_items": null,
       "left": null,
       "margin": null,
       "max_height": null,
       "max_width": null,
       "min_height": null,
       "min_width": null,
       "object_fit": null,
       "object_position": null,
       "order": null,
       "overflow": null,
       "padding": null,
       "right": null,
       "top": null,
       "visibility": null,
       "width": null
      }
     },
     "f0cd3484e80041d2a27be367eecbac4d": {
      "model_module": "@jupyter-widgets/base",
      "model_module_version": "2.0.0",
      "model_name": "LayoutModel",
      "state": {
       "_model_module": "@jupyter-widgets/base",
       "_model_module_version": "2.0.0",
       "_model_name": "LayoutModel",
       "_view_count": null,
       "_view_module": "@jupyter-widgets/base",
       "_view_module_version": "2.0.0",
       "_view_name": "LayoutView",
       "align_content": null,
       "align_items": null,
       "align_self": null,
       "border_bottom": null,
       "border_left": null,
       "border_right": null,
       "border_top": null,
       "bottom": null,
       "display": null,
       "flex": null,
       "flex_flow": null,
       "grid_area": null,
       "grid_auto_columns": null,
       "grid_auto_flow": null,
       "grid_auto_rows": null,
       "grid_column": null,
       "grid_gap": null,
       "grid_row": null,
       "grid_template_areas": null,
       "grid_template_columns": null,
       "grid_template_rows": null,
       "height": null,
       "justify_content": null,
       "justify_items": null,
       "left": null,
       "margin": null,
       "max_height": null,
       "max_width": null,
       "min_height": null,
       "min_width": null,
       "object_fit": null,
       "object_position": null,
       "order": null,
       "overflow": null,
       "padding": null,
       "right": null,
       "top": null,
       "visibility": null,
       "width": null
      }
     },
     "f8380f99825d45739cc3c1118d70bccc": {
      "model_module": "@jupyter-widgets/controls",
      "model_module_version": "2.0.0",
      "model_name": "FloatProgressModel",
      "state": {
       "_dom_classes": [],
       "_model_module": "@jupyter-widgets/controls",
       "_model_module_version": "2.0.0",
       "_model_name": "FloatProgressModel",
       "_view_count": null,
       "_view_module": "@jupyter-widgets/controls",
       "_view_module_version": "2.0.0",
       "_view_name": "ProgressView",
       "bar_style": "success",
       "description": "",
       "description_allow_html": false,
       "layout": "IPY_MODEL_5feb5911437a45799f36e833a98da880",
       "max": 3.0,
       "min": 0.0,
       "orientation": "horizontal",
       "style": "IPY_MODEL_204cd0e95bbe443693eac3e4eb854223",
       "tabbable": null,
       "tooltip": null,
       "value": 3.0
      }
     },
     "ff0cf8941e7d4f6c949bdafc8e359b1e": {
      "model_module": "@jupyter-widgets/base",
      "model_module_version": "2.0.0",
      "model_name": "LayoutModel",
      "state": {
       "_model_module": "@jupyter-widgets/base",
       "_model_module_version": "2.0.0",
       "_model_name": "LayoutModel",
       "_view_count": null,
       "_view_module": "@jupyter-widgets/base",
       "_view_module_version": "2.0.0",
       "_view_name": "LayoutView",
       "align_content": null,
       "align_items": null,
       "align_self": null,
       "border_bottom": null,
       "border_left": null,
       "border_right": null,
       "border_top": null,
       "bottom": null,
       "display": null,
       "flex": null,
       "flex_flow": null,
       "grid_area": null,
       "grid_auto_columns": null,
       "grid_auto_flow": null,
       "grid_auto_rows": null,
       "grid_column": null,
       "grid_gap": null,
       "grid_row": null,
       "grid_template_areas": null,
       "grid_template_columns": null,
       "grid_template_rows": null,
       "height": null,
       "justify_content": null,
       "justify_items": null,
       "left": null,
       "margin": null,
       "max_height": null,
       "max_width": null,
       "min_height": null,
       "min_width": null,
       "object_fit": null,
       "object_position": null,
       "order": null,
       "overflow": null,
       "padding": null,
       "right": null,
       "top": null,
       "visibility": null,
       "width": "20px"
      }
     },
     "ff7e589fbd8646db811dce848c69a53f": {
      "model_module": "@jupyter-widgets/controls",
      "model_module_version": "2.0.0",
      "model_name": "HTMLStyleModel",
      "state": {
       "_model_module": "@jupyter-widgets/controls",
       "_model_module_version": "2.0.0",
       "_model_name": "HTMLStyleModel",
       "_view_count": null,
       "_view_module": "@jupyter-widgets/base",
       "_view_module_version": "2.0.0",
       "_view_name": "StyleView",
       "background": null,
       "description_width": "",
       "font_size": null,
       "text_color": null
      }
     },
     "ffdacce296e046bfa1f4858e01847a56": {
      "model_module": "@jupyter-widgets/controls",
      "model_module_version": "2.0.0",
      "model_name": "HTMLModel",
      "state": {
       "_dom_classes": [],
       "_model_module": "@jupyter-widgets/controls",
       "_model_module_version": "2.0.0",
       "_model_name": "HTMLModel",
       "_view_count": null,
       "_view_module": "@jupyter-widgets/controls",
       "_view_module_version": "2.0.0",
       "_view_name": "HTMLView",
       "description": "",
       "description_allow_html": false,
       "layout": "IPY_MODEL_0c430f95187344b0be6d5f89c79b9b85",
       "placeholder": "​",
       "style": "IPY_MODEL_27f4d3c9082e472996b79f93d3bfd1d2",
       "tabbable": null,
       "tooltip": null,
       "value": "100%"
      }
     }
    },
    "version_major": 2,
    "version_minor": 0
   }
  }
 },
 "nbformat": 4,
 "nbformat_minor": 5
}
