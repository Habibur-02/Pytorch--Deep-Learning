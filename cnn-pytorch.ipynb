{
 "cells": [
  {
   "cell_type": "code",
   "execution_count": 1,
   "id": "67ff0275",
   "metadata": {
    "_cell_guid": "b1076dfc-b9ad-4769-8c92-a6c4dae69d19",
    "_uuid": "8f2839f25d086af736a60e9eeb907d3b93b6e0e5",
    "execution": {
     "iopub.execute_input": "2025-06-23T18:32:09.561934Z",
     "iopub.status.busy": "2025-06-23T18:32:09.561540Z",
     "iopub.status.idle": "2025-06-23T18:32:11.401819Z",
     "shell.execute_reply": "2025-06-23T18:32:11.400869Z"
    },
    "papermill": {
     "duration": 1.849751,
     "end_time": "2025-06-23T18:32:11.403789",
     "exception": false,
     "start_time": "2025-06-23T18:32:09.554038",
     "status": "completed"
    },
    "tags": []
   },
   "outputs": [],
   "source": [
    "# This Python 3 environment comes with many helpful analytics libraries installed\n",
    "# It is defined by the kaggle/python Docker image: https://github.com/kaggle/docker-python\n",
    "# For example, here's several helpful packages to load\n",
    "\n",
    "import numpy as np # linear algebra\n",
    "import pandas as pd # data processing, CSV file I/O (e.g. pd.read_csv)\n",
    "\n",
    "# Input data files are available in the read-only \"../input/\" directory\n",
    "# For example, running this (by clicking run or pressing Shift+Enter) will list all files under the input directory\n",
    "\n",
    "import os\n",
    "for dirname, _, filenames in os.walk('/kaggle/input'):\n",
    "    for filename in filenames:\n",
    "        print(os.path.join(dirname, filename))\n",
    "\n",
    "# You can write up to 20GB to the current directory (/kaggle/working/) that gets preserved as output when you create a version using \"Save & Run All\" \n",
    "# You can also write temporary files to /kaggle/temp/, but they won't be saved outside of the current session"
   ]
  },
  {
   "cell_type": "code",
   "execution_count": 2,
   "id": "84e6c8d5",
   "metadata": {
    "execution": {
     "iopub.execute_input": "2025-06-23T18:32:11.415861Z",
     "iopub.status.busy": "2025-06-23T18:32:11.415455Z",
     "iopub.status.idle": "2025-06-23T18:32:23.184513Z",
     "shell.execute_reply": "2025-06-23T18:32:23.183496Z"
    },
    "papermill": {
     "duration": 11.777007,
     "end_time": "2025-06-23T18:32:23.186054",
     "exception": false,
     "start_time": "2025-06-23T18:32:11.409047",
     "status": "completed"
    },
    "tags": []
   },
   "outputs": [
    {
     "name": "stdout",
     "output_type": "stream",
     "text": [
      "PyTorch version: 2.6.0+cu124\n",
      "torchvision version: 0.21.0+cu124\n"
     ]
    }
   ],
   "source": [
    "import torch\n",
    "from torch import nn\n",
    "\n",
    "# Import torchvision \n",
    "import torchvision\n",
    "from torchvision import datasets\n",
    "from torchvision.transforms import ToTensor\n",
    "\n",
    "# Import matplotlib for visualization\n",
    "import matplotlib.pyplot as plt\n",
    "\n",
    "# Check versions\n",
    "# Note: your PyTorch version shouldn't be lower than 1.10.0 and torchvision version shouldn't be lower than 0.11\n",
    "print(f\"PyTorch version: {torch.__version__}\\ntorchvision version: {torchvision.__version__}\")"
   ]
  },
  {
   "cell_type": "code",
   "execution_count": 3,
   "id": "146647ec",
   "metadata": {
    "execution": {
     "iopub.execute_input": "2025-06-23T18:32:23.197274Z",
     "iopub.status.busy": "2025-06-23T18:32:23.196868Z",
     "iopub.status.idle": "2025-06-23T18:32:29.705313Z",
     "shell.execute_reply": "2025-06-23T18:32:29.704384Z"
    },
    "papermill": {
     "duration": 6.515722,
     "end_time": "2025-06-23T18:32:29.706836",
     "exception": false,
     "start_time": "2025-06-23T18:32:23.191114",
     "status": "completed"
    },
    "tags": []
   },
   "outputs": [
    {
     "name": "stderr",
     "output_type": "stream",
     "text": [
      "100%|██████████| 26.4M/26.4M [00:01<00:00, 13.9MB/s]\n",
      "100%|██████████| 29.5k/29.5k [00:00<00:00, 209kB/s]\n",
      "100%|██████████| 4.42M/4.42M [00:01<00:00, 3.86MB/s]\n",
      "100%|██████████| 5.15k/5.15k [00:00<00:00, 15.2MB/s]\n"
     ]
    }
   ],
   "source": [
    "train_data=datasets.FashionMNIST(\n",
    "    root=\"data\",\n",
    "    train=True,\n",
    "    download=True,\n",
    "    transform=ToTensor(),\n",
    "    target_transform=None\n",
    ")\n",
    "\n",
    "test_data=datasets.FashionMNIST(\n",
    "    root=\"data\",\n",
    "    train=False,\n",
    "    download=True,\n",
    "    transform=ToTensor()\n",
    "    \n",
    ")"
   ]
  },
  {
   "cell_type": "code",
   "execution_count": 4,
   "id": "829f5a9d",
   "metadata": {
    "execution": {
     "iopub.execute_input": "2025-06-23T18:32:29.721289Z",
     "iopub.status.busy": "2025-06-23T18:32:29.720992Z",
     "iopub.status.idle": "2025-06-23T18:32:29.732096Z",
     "shell.execute_reply": "2025-06-23T18:32:29.731179Z"
    },
    "papermill": {
     "duration": 0.020146,
     "end_time": "2025-06-23T18:32:29.733684",
     "exception": false,
     "start_time": "2025-06-23T18:32:29.713538",
     "status": "completed"
    },
    "tags": []
   },
   "outputs": [
    {
     "data": {
      "text/plain": [
       "9"
      ]
     },
     "execution_count": 4,
     "metadata": {},
     "output_type": "execute_result"
    }
   ],
   "source": [
    "image,level=train_data[0]\n",
    "\n",
    "image,level\n",
    "level"
   ]
  },
  {
   "cell_type": "markdown",
   "id": "2c12e7bb",
   "metadata": {
    "papermill": {
     "duration": 0.006486,
     "end_time": "2025-06-23T18:32:29.749470",
     "exception": false,
     "start_time": "2025-06-23T18:32:29.742984",
     "status": "completed"
    },
    "tags": []
   },
   "source": [
    "he order of our current tensor is often referred to as ```CHW``` (Color Channels, Height, Width).\n",
    "\n",
    "There's debate on whether images should be represented as ```CHW``` (color channels first) or HWC (color channels last).\n",
    "\n",
    "PyTorch generally accepts ```NCHW``` (channels first) as the default for many operators.\n",
    "\n",
    "However, PyTorch also explains that ```NHWC``` (channels last) performs better and is considered best practice.\n",
    "\n",
    "For now, since our dataset and models are relatively small, this won't make too much of a difference.\n",
    "\n",
    "But keep it in mind for when you're working on larger image datasets and using convolutional neural networks (we'll see these later).\n",
    "\n",
    "Let's check out more shapes of our data."
   ]
  },
  {
   "cell_type": "code",
   "execution_count": 5,
   "id": "2e7716da",
   "metadata": {
    "execution": {
     "iopub.execute_input": "2025-06-23T18:32:29.765590Z",
     "iopub.status.busy": "2025-06-23T18:32:29.765247Z",
     "iopub.status.idle": "2025-06-23T18:32:29.773026Z",
     "shell.execute_reply": "2025-06-23T18:32:29.772042Z"
    },
    "papermill": {
     "duration": 0.017108,
     "end_time": "2025-06-23T18:32:29.774617",
     "exception": false,
     "start_time": "2025-06-23T18:32:29.757509",
     "status": "completed"
    },
    "tags": []
   },
   "outputs": [
    {
     "data": {
      "text/plain": [
       "(60000, 60000, 10000, 10000)"
      ]
     },
     "execution_count": 5,
     "metadata": {},
     "output_type": "execute_result"
    }
   ],
   "source": [
    "image.shape\n",
    "\n",
    "len(train_data.data)\n",
    "\n",
    "dir(train_data)\n",
    "\n",
    "train_data.data\n",
    "\n",
    "train_data.classes\n",
    "\n",
    "len(train_data), len(train_data.targets), len(test_data), len(test_data.targets),"
   ]
  },
  {
   "cell_type": "code",
   "execution_count": 6,
   "id": "b5a41c95",
   "metadata": {
    "execution": {
     "iopub.execute_input": "2025-06-23T18:32:29.789271Z",
     "iopub.status.busy": "2025-06-23T18:32:29.788622Z",
     "iopub.status.idle": "2025-06-23T18:32:29.794481Z",
     "shell.execute_reply": "2025-06-23T18:32:29.793466Z"
    },
    "papermill": {
     "duration": 0.014658,
     "end_time": "2025-06-23T18:32:29.795948",
     "exception": false,
     "start_time": "2025-06-23T18:32:29.781290",
     "status": "completed"
    },
    "tags": []
   },
   "outputs": [
    {
     "data": {
      "text/plain": [
       "['T-shirt/top',\n",
       " 'Trouser',\n",
       " 'Pullover',\n",
       " 'Dress',\n",
       " 'Coat',\n",
       " 'Sandal',\n",
       " 'Shirt',\n",
       " 'Sneaker',\n",
       " 'Bag',\n",
       " 'Ankle boot']"
      ]
     },
     "execution_count": 6,
     "metadata": {},
     "output_type": "execute_result"
    }
   ],
   "source": [
    "class_name=train_data.classes\n",
    "class_name"
   ]
  },
  {
   "cell_type": "code",
   "execution_count": 7,
   "id": "835c9592",
   "metadata": {
    "execution": {
     "iopub.execute_input": "2025-06-23T18:32:29.810497Z",
     "iopub.status.busy": "2025-06-23T18:32:29.810154Z",
     "iopub.status.idle": "2025-06-23T18:32:30.091598Z",
     "shell.execute_reply": "2025-06-23T18:32:30.090642Z"
    },
    "papermill": {
     "duration": 0.290222,
     "end_time": "2025-06-23T18:32:30.093037",
     "exception": false,
     "start_time": "2025-06-23T18:32:29.802815",
     "status": "completed"
    },
    "tags": []
   },
   "outputs": [
    {
     "name": "stdout",
     "output_type": "stream",
     "text": [
      "Image Shape torch.Size([1, 28, 28])\n"
     ]
    },
    {
     "data": {
      "image/png": "[encoded data removed]",
      "text/plain": [
       "<Figure size 640x480 with 1 Axes>"
      ]
     },
     "metadata": {},
     "output_type": "display_data"
    }
   ],
   "source": [
    "import matplotlib.pyplot as plt\n",
    "image,lebel=train_data[0]\n",
    "print(f\"Image Shape {image.shape}\")\n",
    "plt.imshow(image.squeeze()) #remove extra 1 dim\n",
    "plt.title(class_name[lebel]);\n"
   ]
  },
  {
   "cell_type": "code",
   "execution_count": 8,
   "id": "54a7289d",
   "metadata": {
    "execution": {
     "iopub.execute_input": "2025-06-23T18:32:30.108930Z",
     "iopub.status.busy": "2025-06-23T18:32:30.108599Z",
     "iopub.status.idle": "2025-06-23T18:32:30.411504Z",
     "shell.execute_reply": "2025-06-23T18:32:30.410601Z"
    },
    "papermill": {
     "duration": 0.312029,
     "end_time": "2025-06-23T18:32:30.412824",
     "exception": false,
     "start_time": "2025-06-23T18:32:30.100795",
     "status": "completed"
    },
    "tags": []
   },
   "outputs": [
    {
     "data": {
      "text/plain": [
       "Text(0.5, 1.0, 'Random Tensor image with size (20, 22) ')"
      ]
     },
     "execution_count": 8,
     "metadata": {},
     "output_type": "execute_result"
    },
    {
     "data": {
      "image/png": "[encoded data removed]",
      "text/plain": [
       "<Figure size 640x480 with 2 Axes>"
      ]
     },
     "metadata": {},
     "output_type": "display_data"
    }
   ],
   "source": [
    "H,W= 20,22\n",
    "fake_tensor_data=torch.rand(H,W)\n",
    "fake_tensor_data=torch.randint(0,256, (H,W), dtype=torch.float32) # it will make tensor within 0->255\n",
    "plt.imshow(fake_tensor_data,cmap='gray')\n",
    "plt.colorbar()\n",
    "plt.title(f\"Random Tensor image with size {H, W} \")"
   ]
  },
  {
   "cell_type": "code",
   "execution_count": 9,
   "id": "e084cfe1",
   "metadata": {
    "execution": {
     "iopub.execute_input": "2025-06-23T18:32:30.429480Z",
     "iopub.status.busy": "2025-06-23T18:32:30.429146Z",
     "iopub.status.idle": "2025-06-23T18:32:30.456537Z",
     "shell.execute_reply": "2025-06-23T18:32:30.455737Z"
    },
    "papermill": {
     "duration": 0.037381,
     "end_time": "2025-06-23T18:32:30.458138",
     "exception": false,
     "start_time": "2025-06-23T18:32:30.420757",
     "status": "completed"
    },
    "tags": []
   },
   "outputs": [
    {
     "data": {
      "text/plain": [
       "tensor([[0.1490, 0.5490, 0.8745, 0.9922, 0.1529, 0.1137, 0.5137, 0.8235, 0.1216,\n",
       "         0.1490, 0.1098, 0.0392, 0.8078, 0.5176, 0.0275, 0.4078, 0.3373, 0.4275,\n",
       "         0.3765, 0.5490, 0.0392, 0.6510],\n",
       "        [0.4549, 0.1373, 0.5216, 0.5020, 0.2941, 0.4510, 0.1765, 0.9098, 0.3608,\n",
       "         0.4039, 0.2784, 0.1059, 0.3569, 0.0196, 0.8510, 0.7451, 0.2314, 0.7765,\n",
       "         0.6667, 0.3569, 0.0863, 0.2902],\n",
       "        [0.0431, 0.5294, 0.0157, 0.7647, 0.7412, 0.6627, 0.1804, 0.9333, 0.6784,\n",
       "         0.2824, 0.1647, 0.3608, 0.5529, 0.2392, 0.9529, 0.6392, 0.1804, 0.5922,\n",
       "         0.7255, 0.5686, 0.1020, 0.6549],\n",
       "        [0.2078, 0.4902, 0.9098, 0.2667, 0.8235, 0.6392, 0.2510, 0.2824, 0.8000,\n",
       "         0.6000, 0.5059, 0.0549, 0.5412, 0.4627, 0.8706, 0.0000, 0.0471, 0.3373,\n",
       "         0.5020, 0.4510, 0.1882, 0.8824],\n",
       "        [0.6627, 0.6588, 0.6431, 0.5137, 0.8471, 0.3765, 0.7686, 0.6039, 0.9725,\n",
       "         0.8392, 0.9137, 0.8824, 0.3255, 0.5922, 0.8706, 0.4902, 0.2980, 0.9569,\n",
       "         0.3490, 0.3373, 0.0667, 0.5569],\n",
       "        [0.6353, 0.3490, 0.9216, 0.5686, 0.6941, 0.3529, 0.4353, 0.7137, 0.5059,\n",
       "         0.5373, 0.1804, 0.8706, 0.0510, 0.8431, 0.0627, 0.0745, 0.7098, 0.9529,\n",
       "         0.6353, 0.1647, 0.7020, 0.0235],\n",
       "        [0.2941, 0.6118, 0.4549, 0.3569, 0.5059, 0.3647, 0.2039, 0.1098, 0.9490,\n",
       "         0.0941, 0.2902, 0.4510, 0.4039, 0.8039, 0.3490, 0.2980, 0.3961, 0.7686,\n",
       "         0.0941, 0.1020, 0.5569, 0.9098],\n",
       "        [0.7373, 0.8667, 0.5098, 0.6235, 0.6118, 0.5922, 0.2627, 0.7333, 0.9569,\n",
       "         0.0431, 0.4118, 0.4196, 0.9020, 0.2745, 0.7686, 0.3647, 0.2941, 0.7686,\n",
       "         0.0235, 1.0000, 0.4588, 0.6824],\n",
       "        [0.7255, 0.2392, 0.0784, 0.9098, 0.9922, 0.6980, 0.8549, 0.4196, 0.3098,\n",
       "         0.3098, 0.6667, 0.1647, 0.9490, 0.9686, 0.5843, 0.2196, 0.2157, 0.8196,\n",
       "         0.4980, 0.5882, 0.4745, 0.8196],\n",
       "        [0.9059, 0.6078, 0.3647, 0.6078, 0.3294, 0.7451, 0.7137, 0.6902, 0.0902,\n",
       "         0.0588, 0.3490, 0.4902, 0.3176, 0.5294, 0.5843, 0.5059, 0.3922, 0.6706,\n",
       "         0.7098, 0.3647, 0.4980, 0.0863],\n",
       "        [0.3647, 0.7882, 1.0000, 0.6078, 0.2510, 0.6745, 0.5451, 0.7020, 0.4157,\n",
       "         0.4706, 0.5569, 0.7804, 0.7451, 0.9608, 0.6314, 0.8627, 0.1294, 0.7098,\n",
       "         0.5333, 0.3294, 0.7961, 0.7529],\n",
       "        [0.3804, 0.5176, 0.4353, 0.7922, 0.6157, 0.2157, 0.3490, 0.2980, 0.7569,\n",
       "         0.4667, 0.5647, 0.5294, 0.1686, 0.2314, 0.7569, 0.3255, 0.5176, 0.3647,\n",
       "         0.5373, 0.3765, 0.3137, 0.9882],\n",
       "        [0.8157, 0.4118, 0.5922, 0.4078, 0.0157, 0.3373, 0.1333, 0.9451, 0.5647,\n",
       "         0.1765, 0.3294, 0.7922, 0.1451, 0.0275, 0.9176, 0.1529, 0.9098, 0.6353,\n",
       "         0.8980, 0.0941, 0.3804, 0.0353],\n",
       "        [0.6784, 0.5922, 0.4941, 0.5922, 0.2824, 0.9529, 0.5412, 0.7255, 0.5843,\n",
       "         0.9725, 0.1647, 0.2627, 0.8275, 0.7255, 0.8353, 0.0667, 0.4941, 0.2627,\n",
       "         0.4824, 0.2157, 0.0118, 0.9882],\n",
       "        [0.4353, 0.2039, 0.7647, 0.0549, 0.7216, 0.8275, 0.2784, 0.0784, 0.7686,\n",
       "         0.1725, 0.7255, 0.8902, 0.6196, 0.0510, 0.0863, 0.6784, 0.3882, 0.0588,\n",
       "         0.1216, 0.1804, 0.2824, 0.6314],\n",
       "        [0.7529, 0.4980, 0.7098, 0.2353, 0.2392, 0.3961, 0.7059, 0.7882, 0.2275,\n",
       "         0.4902, 0.5176, 0.0706, 0.6275, 0.1961, 0.1765, 0.2431, 0.1373, 0.9451,\n",
       "         0.6980, 0.5098, 0.8157, 0.2471],\n",
       "        [0.6902, 0.4588, 0.5255, 0.0353, 0.3529, 0.0196, 0.7451, 0.0275, 0.3412,\n",
       "         0.9137, 0.6392, 0.0706, 0.6549, 0.9686, 0.8118, 0.0353, 0.6549, 0.4667,\n",
       "         0.3098, 0.1647, 0.9922, 0.1647],\n",
       "        [0.4863, 0.8784, 0.8392, 0.0078, 0.3922, 0.2549, 0.1608, 0.2510, 0.0275,\n",
       "         0.5412, 0.1882, 0.0235, 0.7098, 0.7529, 0.1725, 0.3725, 0.0667, 0.5608,\n",
       "         0.7725, 0.8902, 0.7647, 0.0275],\n",
       "        [0.7216, 0.1176, 0.8588, 0.9922, 0.3412, 0.8000, 0.0196, 0.6667, 0.0902,\n",
       "         0.8000, 0.8980, 0.6706, 0.3137, 0.1608, 0.5686, 0.1490, 0.3098, 0.0392,\n",
       "         0.1490, 0.2902, 0.3098, 0.9333],\n",
       "        [0.6196, 0.9373, 0.0980, 0.2902, 0.5333, 0.3490, 0.5647, 0.0275, 0.7804,\n",
       "         0.4627, 0.6549, 0.3686, 0.9373, 0.8196, 0.5020, 0.5882, 0.1765, 0.3765,\n",
       "         0.7922, 0.3804, 0.5255, 0.3843]])"
      ]
     },
     "execution_count": 9,
     "metadata": {},
     "output_type": "execute_result"
    }
   ],
   "source": [
    "fake_tensor_data=fake_tensor_data/255\n",
    "fake_tensor_data"
   ]
  },
  {
   "cell_type": "code",
   "execution_count": 10,
   "id": "dbd93452",
   "metadata": {
    "execution": {
     "iopub.execute_input": "2025-06-23T18:32:30.475453Z",
     "iopub.status.busy": "2025-06-23T18:32:30.474393Z",
     "iopub.status.idle": "2025-06-23T18:32:31.275223Z",
     "shell.execute_reply": "2025-06-23T18:32:31.274173Z"
    },
    "papermill": {
     "duration": 0.810762,
     "end_time": "2025-06-23T18:32:31.276726",
     "exception": false,
     "start_time": "2025-06-23T18:32:30.465964",
     "status": "completed"
    },
    "tags": []
   },
   "outputs": [
    {
     "data": {
      "image/png": "[encoded data removed]",
      "text/plain": [
       "<Figure size 900x900 with 15 Axes>"
      ]
     },
     "metadata": {},
     "output_type": "display_data"
    }
   ],
   "source": [
    "torch.manual_seed(42)\n",
    "fig=plt.figure(figsize=(9,9))\n",
    "row, col= 4 , 4\n",
    "\n",
    "for i in range(1, row*col):\n",
    "    index=torch.randint(0,len(train_data),size=[1]).item()\n",
    "    image, lebel= train_data[index]\n",
    "    fig.add_subplot(row, col, i)\n",
    "    plt.title(class_name[lebel])\n",
    "    plt.imshow(image.squeeze())\n",
    "    plt.axis(False)\n",
    "    \n",
    "    \n",
    "\n"
   ]
  },
  {
   "cell_type": "code",
   "execution_count": 11,
   "id": "4198e501",
   "metadata": {
    "execution": {
     "iopub.execute_input": "2025-06-23T18:32:31.295578Z",
     "iopub.status.busy": "2025-06-23T18:32:31.295205Z",
     "iopub.status.idle": "2025-06-23T18:32:31.301548Z",
     "shell.execute_reply": "2025-06-23T18:32:31.300803Z"
    },
    "papermill": {
     "duration": 0.017275,
     "end_time": "2025-06-23T18:32:31.302825",
     "exception": false,
     "start_time": "2025-06-23T18:32:31.285550",
     "status": "completed"
    },
    "tags": []
   },
   "outputs": [
    {
     "data": {
      "text/plain": [
       "2"
      ]
     },
     "execution_count": 11,
     "metadata": {},
     "output_type": "execute_result"
    }
   ],
   "source": [
    "torch.randint(0,10, size=[1]).item()"
   ]
  },
  {
   "cell_type": "code",
   "execution_count": 12,
   "id": "3251a89a",
   "metadata": {
    "execution": {
     "iopub.execute_input": "2025-06-23T18:32:31.321473Z",
     "iopub.status.busy": "2025-06-23T18:32:31.321143Z",
     "iopub.status.idle": "2025-06-23T18:32:31.327972Z",
     "shell.execute_reply": "2025-06-23T18:32:31.327058Z"
    },
    "papermill": {
     "duration": 0.017476,
     "end_time": "2025-06-23T18:32:31.329271",
     "exception": false,
     "start_time": "2025-06-23T18:32:31.311795",
     "status": "completed"
    },
    "tags": []
   },
   "outputs": [
    {
     "name": "stdout",
     "output_type": "stream",
     "text": [
      "Dataloaders: (<torch.utils.data.dataloader.DataLoader object at 0x7db8dd962e50>, <torch.utils.data.dataloader.DataLoader object at 0x7db8dd7d3d10>)\n",
      "Length of train dataloader: 1875 batches of 32\n",
      "Length of test dataloader: 313 batches of 32\n"
     ]
    }
   ],
   "source": [
    "from torch.utils.data import DataLoader\n",
    "\n",
    "# Setup the batch size hyperparameter\n",
    "BATCH_SIZE = 32\n",
    "\n",
    "# Turn datasets into iterables (batches)\n",
    "train_dataloader = DataLoader(train_data, # dataset to turn into iterable\n",
    "    batch_size=BATCH_SIZE, # how many samples per batch? \n",
    "    shuffle=True # shuffle data every epoch?\n",
    ")\n",
    "\n",
    "test_dataloader = DataLoader(test_data,\n",
    "    batch_size=BATCH_SIZE,\n",
    "    shuffle=False # don't necessarily have to shuffle the testing data\n",
    ")\n",
    "\n",
    "# Let's check out what we've created\n",
    "print(f\"Dataloaders: {train_dataloader, test_dataloader}\") \n",
    "print(f\"Length of train dataloader: {len(train_dataloader)} batches of {BATCH_SIZE}\")\n",
    "print(f\"Length of test dataloader: {len(test_dataloader)} batches of {BATCH_SIZE}\")"
   ]
  },
  {
   "cell_type": "code",
   "execution_count": 13,
   "id": "438fc955",
   "metadata": {
    "execution": {
     "iopub.execute_input": "2025-06-23T18:32:31.347998Z",
     "iopub.status.busy": "2025-06-23T18:32:31.347717Z",
     "iopub.status.idle": "2025-06-23T18:32:31.376166Z",
     "shell.execute_reply": "2025-06-23T18:32:31.375224Z"
    },
    "papermill": {
     "duration": 0.039685,
     "end_time": "2025-06-23T18:32:31.377748",
     "exception": false,
     "start_time": "2025-06-23T18:32:31.338063",
     "status": "completed"
    },
    "tags": []
   },
   "outputs": [
    {
     "data": {
      "text/plain": [
       "['H',\n",
       " 'T',\n",
       " '__abs__',\n",
       " '__add__',\n",
       " '__and__',\n",
       " '__annotations__',\n",
       " '__array__',\n",
       " '__array_priority__',\n",
       " '__array_wrap__',\n",
       " '__bool__',\n",
       " '__class__',\n",
       " '__complex__',\n",
       " '__contains__',\n",
       " '__deepcopy__',\n",
       " '__delattr__',\n",
       " '__delitem__',\n",
       " '__dict__',\n",
       " '__dir__',\n",
       " '__div__',\n",
       " '__dlpack__',\n",
       " '__dlpack_device__',\n",
       " '__doc__',\n",
       " '__eq__',\n",
       " '__float__',\n",
       " '__floordiv__',\n",
       " '__format__',\n",
       " '__ge__',\n",
       " '__getattribute__',\n",
       " '__getitem__',\n",
       " '__getstate__',\n",
       " '__gt__',\n",
       " '__hash__',\n",
       " '__iadd__',\n",
       " '__iand__',\n",
       " '__idiv__',\n",
       " '__ifloordiv__',\n",
       " '__ilshift__',\n",
       " '__imod__',\n",
       " '__imul__',\n",
       " '__index__',\n",
       " '__init__',\n",
       " '__init_subclass__',\n",
       " '__int__',\n",
       " '__invert__',\n",
       " '__ior__',\n",
       " '__ipow__',\n",
       " '__irshift__',\n",
       " '__isub__',\n",
       " '__iter__',\n",
       " '__itruediv__',\n",
       " '__ixor__',\n",
       " '__le__',\n",
       " '__len__',\n",
       " '__long__',\n",
       " '__lshift__',\n",
       " '__lt__',\n",
       " '__matmul__',\n",
       " '__mod__',\n",
       " '__module__',\n",
       " '__mul__',\n",
       " '__ne__',\n",
       " '__neg__',\n",
       " '__new__',\n",
       " '__nonzero__',\n",
       " '__or__',\n",
       " '__pos__',\n",
       " '__pow__',\n",
       " '__radd__',\n",
       " '__rand__',\n",
       " '__rdiv__',\n",
       " '__reduce__',\n",
       " '__reduce_ex__',\n",
       " '__repr__',\n",
       " '__reversed__',\n",
       " '__rfloordiv__',\n",
       " '__rlshift__',\n",
       " '__rmatmul__',\n",
       " '__rmod__',\n",
       " '__rmul__',\n",
       " '__ror__',\n",
       " '__rpow__',\n",
       " '__rrshift__',\n",
       " '__rshift__',\n",
       " '__rsub__',\n",
       " '__rtruediv__',\n",
       " '__rxor__',\n",
       " '__setattr__',\n",
       " '__setitem__',\n",
       " '__setstate__',\n",
       " '__sizeof__',\n",
       " '__str__',\n",
       " '__sub__',\n",
       " '__subclasshook__',\n",
       " '__torch_dispatch__',\n",
       " '__torch_function__',\n",
       " '__truediv__',\n",
       " '__weakref__',\n",
       " '__xor__',\n",
       " '_addmm_activation',\n",
       " '_autocast_to_full_precision',\n",
       " '_autocast_to_reduced_precision',\n",
       " '_backward_hooks',\n",
       " '_base',\n",
       " '_cdata',\n",
       " '_clear_non_serializable_cached_data',\n",
       " '_coalesced_',\n",
       " '_conj',\n",
       " '_conj_physical',\n",
       " '_dimI',\n",
       " '_dimV',\n",
       " '_fix_weakref',\n",
       " '_grad',\n",
       " '_grad_fn',\n",
       " '_has_symbolic_sizes_strides',\n",
       " '_indices',\n",
       " '_is_all_true',\n",
       " '_is_any_true',\n",
       " '_is_view',\n",
       " '_is_zerotensor',\n",
       " '_lazy_clone',\n",
       " '_make_subclass',\n",
       " '_make_wrapper_subclass',\n",
       " '_neg_view',\n",
       " '_nested_tensor_size',\n",
       " '_nested_tensor_storage_offsets',\n",
       " '_nested_tensor_strides',\n",
       " '_nnz',\n",
       " '_post_accumulate_grad_hooks',\n",
       " '_python_dispatch',\n",
       " '_reduce_ex_internal',\n",
       " '_rev_view_func_unsafe',\n",
       " '_sparse_mask_projection',\n",
       " '_to_dense',\n",
       " '_to_sparse',\n",
       " '_to_sparse_bsc',\n",
       " '_to_sparse_bsr',\n",
       " '_to_sparse_csc',\n",
       " '_to_sparse_csr',\n",
       " '_typed_storage',\n",
       " '_update_names',\n",
       " '_use_count',\n",
       " '_values',\n",
       " '_version',\n",
       " '_view_func',\n",
       " '_view_func_unsafe',\n",
       " 'abs',\n",
       " 'abs_',\n",
       " 'absolute',\n",
       " 'absolute_',\n",
       " 'acos',\n",
       " 'acos_',\n",
       " 'acosh',\n",
       " 'acosh_',\n",
       " 'add',\n",
       " 'add_',\n",
       " 'addbmm',\n",
       " 'addbmm_',\n",
       " 'addcdiv',\n",
       " 'addcdiv_',\n",
       " 'addcmul',\n",
       " 'addcmul_',\n",
       " 'addmm',\n",
       " 'addmm_',\n",
       " 'addmv',\n",
       " 'addmv_',\n",
       " 'addr',\n",
       " 'addr_',\n",
       " 'adjoint',\n",
       " 'align_as',\n",
       " 'align_to',\n",
       " 'all',\n",
       " 'allclose',\n",
       " 'amax',\n",
       " 'amin',\n",
       " 'aminmax',\n",
       " 'angle',\n",
       " 'any',\n",
       " 'apply_',\n",
       " 'arccos',\n",
       " 'arccos_',\n",
       " 'arccosh',\n",
       " 'arccosh_',\n",
       " 'arcsin',\n",
       " 'arcsin_',\n",
       " 'arcsinh',\n",
       " 'arcsinh_',\n",
       " 'arctan',\n",
       " 'arctan2',\n",
       " 'arctan2_',\n",
       " 'arctan_',\n",
       " 'arctanh',\n",
       " 'arctanh_',\n",
       " 'argmax',\n",
       " 'argmin',\n",
       " 'argsort',\n",
       " 'argwhere',\n",
       " 'as_strided',\n",
       " 'as_strided_',\n",
       " 'as_strided_scatter',\n",
       " 'as_subclass',\n",
       " 'asin',\n",
       " 'asin_',\n",
       " 'asinh',\n",
       " 'asinh_',\n",
       " 'atan',\n",
       " 'atan2',\n",
       " 'atan2_',\n",
       " 'atan_',\n",
       " 'atanh',\n",
       " 'atanh_',\n",
       " 'backward',\n",
       " 'baddbmm',\n",
       " 'baddbmm_',\n",
       " 'bernoulli',\n",
       " 'bernoulli_',\n",
       " 'bfloat16',\n",
       " 'bincount',\n",
       " 'bitwise_and',\n",
       " 'bitwise_and_',\n",
       " 'bitwise_left_shift',\n",
       " 'bitwise_left_shift_',\n",
       " 'bitwise_not',\n",
       " 'bitwise_not_',\n",
       " 'bitwise_or',\n",
       " 'bitwise_or_',\n",
       " 'bitwise_right_shift',\n",
       " 'bitwise_right_shift_',\n",
       " 'bitwise_xor',\n",
       " 'bitwise_xor_',\n",
       " 'bmm',\n",
       " 'bool',\n",
       " 'broadcast_to',\n",
       " 'byte',\n",
       " 'cauchy_',\n",
       " 'ccol_indices',\n",
       " 'cdouble',\n",
       " 'ceil',\n",
       " 'ceil_',\n",
       " 'cfloat',\n",
       " 'chalf',\n",
       " 'char',\n",
       " 'cholesky',\n",
       " 'cholesky_inverse',\n",
       " 'cholesky_solve',\n",
       " 'chunk',\n",
       " 'clamp',\n",
       " 'clamp_',\n",
       " 'clamp_max',\n",
       " 'clamp_max_',\n",
       " 'clamp_min',\n",
       " 'clamp_min_',\n",
       " 'clip',\n",
       " 'clip_',\n",
       " 'clone',\n",
       " 'coalesce',\n",
       " 'col_indices',\n",
       " 'conj',\n",
       " 'conj_physical',\n",
       " 'conj_physical_',\n",
       " 'contiguous',\n",
       " 'copy_',\n",
       " 'copysign',\n",
       " 'copysign_',\n",
       " 'corrcoef',\n",
       " 'cos',\n",
       " 'cos_',\n",
       " 'cosh',\n",
       " 'cosh_',\n",
       " 'count_nonzero',\n",
       " 'cov',\n",
       " 'cpu',\n",
       " 'cross',\n",
       " 'crow_indices',\n",
       " 'cuda',\n",
       " 'cummax',\n",
       " 'cummin',\n",
       " 'cumprod',\n",
       " 'cumprod_',\n",
       " 'cumsum',\n",
       " 'cumsum_',\n",
       " 'data',\n",
       " 'data_ptr',\n",
       " 'deg2rad',\n",
       " 'deg2rad_',\n",
       " 'dense_dim',\n",
       " 'dequantize',\n",
       " 'det',\n",
       " 'detach',\n",
       " 'detach_',\n",
       " 'device',\n",
       " 'diag',\n",
       " 'diag_embed',\n",
       " 'diagflat',\n",
       " 'diagonal',\n",
       " 'diagonal_scatter',\n",
       " 'diff',\n",
       " 'digamma',\n",
       " 'digamma_',\n",
       " 'dim',\n",
       " 'dim_order',\n",
       " 'dist',\n",
       " 'div',\n",
       " 'div_',\n",
       " 'divide',\n",
       " 'divide_',\n",
       " 'dot',\n",
       " 'double',\n",
       " 'dsplit',\n",
       " 'dtype',\n",
       " 'eig',\n",
       " 'element_size',\n",
       " 'eq',\n",
       " 'eq_',\n",
       " 'equal',\n",
       " 'erf',\n",
       " 'erf_',\n",
       " 'erfc',\n",
       " 'erfc_',\n",
       " 'erfinv',\n",
       " 'erfinv_',\n",
       " 'exp',\n",
       " 'exp2',\n",
       " 'exp2_',\n",
       " 'exp_',\n",
       " 'expand',\n",
       " 'expand_as',\n",
       " 'expm1',\n",
       " 'expm1_',\n",
       " 'exponential_',\n",
       " 'fill_',\n",
       " 'fill_diagonal_',\n",
       " 'fix',\n",
       " 'fix_',\n",
       " 'flatten',\n",
       " 'flip',\n",
       " 'fliplr',\n",
       " 'flipud',\n",
       " 'float',\n",
       " 'float_power',\n",
       " 'float_power_',\n",
       " 'floor',\n",
       " 'floor_',\n",
       " 'floor_divide',\n",
       " 'floor_divide_',\n",
       " 'fmax',\n",
       " 'fmin',\n",
       " 'fmod',\n",
       " 'fmod_',\n",
       " 'frac',\n",
       " 'frac_',\n",
       " 'frexp',\n",
       " 'gather',\n",
       " 'gcd',\n",
       " 'gcd_',\n",
       " 'ge',\n",
       " 'ge_',\n",
       " 'geometric_',\n",
       " 'geqrf',\n",
       " 'ger',\n",
       " 'get_device',\n",
       " 'grad',\n",
       " 'grad_fn',\n",
       " 'greater',\n",
       " 'greater_',\n",
       " 'greater_equal',\n",
       " 'greater_equal_',\n",
       " 'gt',\n",
       " 'gt_',\n",
       " 'half',\n",
       " 'hardshrink',\n",
       " 'has_names',\n",
       " 'heaviside',\n",
       " 'heaviside_',\n",
       " 'histc',\n",
       " 'histogram',\n",
       " 'hsplit',\n",
       " 'hypot',\n",
       " 'hypot_',\n",
       " 'i0',\n",
       " 'i0_',\n",
       " 'igamma',\n",
       " 'igamma_',\n",
       " 'igammac',\n",
       " 'igammac_',\n",
       " 'imag',\n",
       " 'index_add',\n",
       " 'index_add_',\n",
       " 'index_copy',\n",
       " 'index_copy_',\n",
       " 'index_fill',\n",
       " 'index_fill_',\n",
       " 'index_put',\n",
       " 'index_put_',\n",
       " 'index_reduce',\n",
       " 'index_reduce_',\n",
       " 'index_select',\n",
       " 'indices',\n",
       " 'inner',\n",
       " 'int',\n",
       " 'int_repr',\n",
       " 'inverse',\n",
       " 'ipu',\n",
       " 'is_coalesced',\n",
       " 'is_complex',\n",
       " 'is_conj',\n",
       " 'is_contiguous',\n",
       " 'is_cpu',\n",
       " 'is_cuda',\n",
       " 'is_distributed',\n",
       " 'is_floating_point',\n",
       " 'is_inference',\n",
       " 'is_ipu',\n",
       " 'is_leaf',\n",
       " 'is_maia',\n",
       " 'is_meta',\n",
       " 'is_mkldnn',\n",
       " 'is_mps',\n",
       " 'is_mtia',\n",
       " 'is_neg',\n",
       " 'is_nested',\n",
       " 'is_nonzero',\n",
       " 'is_pinned',\n",
       " 'is_quantized',\n",
       " 'is_same_size',\n",
       " 'is_set_to',\n",
       " 'is_shared',\n",
       " 'is_signed',\n",
       " 'is_sparse',\n",
       " 'is_sparse_csr',\n",
       " 'is_vulkan',\n",
       " 'is_xla',\n",
       " 'is_xpu',\n",
       " 'isclose',\n",
       " 'isfinite',\n",
       " 'isinf',\n",
       " 'isnan',\n",
       " 'isneginf',\n",
       " 'isposinf',\n",
       " 'isreal',\n",
       " 'istft',\n",
       " 'item',\n",
       " 'itemsize',\n",
       " 'kron',\n",
       " 'kthvalue',\n",
       " 'layout',\n",
       " 'lcm',\n",
       " 'lcm_',\n",
       " 'ldexp',\n",
       " 'ldexp_',\n",
       " 'le',\n",
       " 'le_',\n",
       " 'lerp',\n",
       " 'lerp_',\n",
       " 'less',\n",
       " 'less_',\n",
       " 'less_equal',\n",
       " 'less_equal_',\n",
       " 'lgamma',\n",
       " 'lgamma_',\n",
       " 'log',\n",
       " 'log10',\n",
       " 'log10_',\n",
       " 'log1p',\n",
       " 'log1p_',\n",
       " 'log2',\n",
       " 'log2_',\n",
       " 'log_',\n",
       " 'log_normal_',\n",
       " 'log_softmax',\n",
       " 'logaddexp',\n",
       " 'logaddexp2',\n",
       " 'logcumsumexp',\n",
       " 'logdet',\n",
       " 'logical_and',\n",
       " 'logical_and_',\n",
       " 'logical_not',\n",
       " 'logical_not_',\n",
       " 'logical_or',\n",
       " 'logical_or_',\n",
       " 'logical_xor',\n",
       " 'logical_xor_',\n",
       " 'logit',\n",
       " 'logit_',\n",
       " 'logsumexp',\n",
       " 'long',\n",
       " 'lstsq',\n",
       " 'lt',\n",
       " 'lt_',\n",
       " 'lu',\n",
       " 'lu_solve',\n",
       " 'mH',\n",
       " 'mT',\n",
       " 'map2_',\n",
       " 'map_',\n",
       " 'masked_fill',\n",
       " 'masked_fill_',\n",
       " 'masked_scatter',\n",
       " 'masked_scatter_',\n",
       " 'masked_select',\n",
       " 'matmul',\n",
       " 'matrix_exp',\n",
       " 'matrix_power',\n",
       " 'max',\n",
       " 'maximum',\n",
       " 'mean',\n",
       " 'median',\n",
       " 'min',\n",
       " 'minimum',\n",
       " 'mm',\n",
       " 'mode',\n",
       " 'module_load',\n",
       " 'moveaxis',\n",
       " 'movedim',\n",
       " 'msort',\n",
       " 'mtia',\n",
       " 'mul',\n",
       " 'mul_',\n",
       " 'multinomial',\n",
       " 'multiply',\n",
       " 'multiply_',\n",
       " 'mv',\n",
       " 'mvlgamma',\n",
       " 'mvlgamma_',\n",
       " 'name',\n",
       " 'names',\n",
       " 'nan_to_num',\n",
       " 'nan_to_num_',\n",
       " 'nanmean',\n",
       " 'nanmedian',\n",
       " 'nanquantile',\n",
       " 'nansum',\n",
       " 'narrow',\n",
       " 'narrow_copy',\n",
       " 'nbytes',\n",
       " 'ndim',\n",
       " 'ndimension',\n",
       " 'ne',\n",
       " 'ne_',\n",
       " 'neg',\n",
       " 'neg_',\n",
       " 'negative',\n",
       " 'negative_',\n",
       " 'nelement',\n",
       " 'new',\n",
       " 'new_empty',\n",
       " 'new_empty_strided',\n",
       " 'new_full',\n",
       " 'new_ones',\n",
       " 'new_tensor',\n",
       " 'new_zeros',\n",
       " 'nextafter',\n",
       " 'nextafter_',\n",
       " 'nonzero',\n",
       " 'nonzero_static',\n",
       " 'norm',\n",
       " 'normal_',\n",
       " 'not_equal',\n",
       " 'not_equal_',\n",
       " 'numel',\n",
       " 'numpy',\n",
       " 'orgqr',\n",
       " 'ormqr',\n",
       " 'outer',\n",
       " 'output_nr',\n",
       " 'permute',\n",
       " 'pin_memory',\n",
       " 'pinverse',\n",
       " 'polygamma',\n",
       " 'polygamma_',\n",
       " 'positive',\n",
       " 'pow',\n",
       " 'pow_',\n",
       " 'prelu',\n",
       " 'prod',\n",
       " 'put',\n",
       " 'put_',\n",
       " 'q_per_channel_axis',\n",
       " 'q_per_channel_scales',\n",
       " 'q_per_channel_zero_points',\n",
       " 'q_scale',\n",
       " 'q_zero_point',\n",
       " 'qr',\n",
       " 'qscheme',\n",
       " 'quantile',\n",
       " 'rad2deg',\n",
       " 'rad2deg_',\n",
       " 'random_',\n",
       " 'ravel',\n",
       " 'real',\n",
       " 'reciprocal',\n",
       " 'reciprocal_',\n",
       " 'record_stream',\n",
       " 'refine_names',\n",
       " 'register_hook',\n",
       " 'register_post_accumulate_grad_hook',\n",
       " 'reinforce',\n",
       " 'relu',\n",
       " 'relu_',\n",
       " 'remainder',\n",
       " 'remainder_',\n",
       " 'rename',\n",
       " 'rename_',\n",
       " 'renorm',\n",
       " 'renorm_',\n",
       " 'repeat',\n",
       " 'repeat_interleave',\n",
       " 'requires_grad',\n",
       " 'requires_grad_',\n",
       " 'reshape',\n",
       " 'reshape_as',\n",
       " 'resize',\n",
       " 'resize_',\n",
       " 'resize_as',\n",
       " 'resize_as_',\n",
       " 'resize_as_sparse_',\n",
       " 'resolve_conj',\n",
       " 'resolve_neg',\n",
       " 'retain_grad',\n",
       " 'retains_grad',\n",
       " 'roll',\n",
       " 'rot90',\n",
       " 'round',\n",
       " 'round_',\n",
       " 'row_indices',\n",
       " 'rsqrt',\n",
       " 'rsqrt_',\n",
       " 'scatter',\n",
       " 'scatter_',\n",
       " 'scatter_add',\n",
       " 'scatter_add_',\n",
       " 'scatter_reduce',\n",
       " 'scatter_reduce_',\n",
       " 'select',\n",
       " 'select_scatter',\n",
       " 'set_',\n",
       " 'sgn',\n",
       " 'sgn_',\n",
       " 'shape',\n",
       " 'share_memory_',\n",
       " 'short',\n",
       " 'sigmoid',\n",
       " 'sigmoid_',\n",
       " 'sign',\n",
       " 'sign_',\n",
       " 'signbit',\n",
       " 'sin',\n",
       " 'sin_',\n",
       " 'sinc',\n",
       " 'sinc_',\n",
       " 'sinh',\n",
       " 'sinh_',\n",
       " 'size',\n",
       " 'slice_inverse',\n",
       " 'slice_scatter',\n",
       " 'slogdet',\n",
       " 'smm',\n",
       " 'softmax',\n",
       " 'solve',\n",
       " 'sort',\n",
       " 'sparse_dim',\n",
       " 'sparse_mask',\n",
       " 'sparse_resize_',\n",
       " 'sparse_resize_and_clear_',\n",
       " 'split',\n",
       " 'split_with_sizes',\n",
       " 'sqrt',\n",
       " 'sqrt_',\n",
       " 'square',\n",
       " 'square_',\n",
       " 'squeeze',\n",
       " 'squeeze_',\n",
       " 'sspaddmm',\n",
       " 'std',\n",
       " 'stft',\n",
       " 'storage',\n",
       " 'storage_offset',\n",
       " 'storage_type',\n",
       " 'stride',\n",
       " 'sub',\n",
       " 'sub_',\n",
       " 'subtract',\n",
       " 'subtract_',\n",
       " 'sum',\n",
       " 'sum_to_size',\n",
       " 'svd',\n",
       " 'swapaxes',\n",
       " 'swapaxes_',\n",
       " 'swapdims',\n",
       " 'swapdims_',\n",
       " 'symeig',\n",
       " 't',\n",
       " 't_',\n",
       " 'take',\n",
       " 'take_along_dim',\n",
       " 'tan',\n",
       " 'tan_',\n",
       " 'tanh',\n",
       " 'tanh_',\n",
       " 'tensor_split',\n",
       " 'tile',\n",
       " 'to',\n",
       " 'to_dense',\n",
       " 'to_mkldnn',\n",
       " 'to_padded_tensor',\n",
       " 'to_sparse',\n",
       " 'to_sparse_bsc',\n",
       " 'to_sparse_bsr',\n",
       " 'to_sparse_coo',\n",
       " 'to_sparse_csc',\n",
       " 'to_sparse_csr',\n",
       " 'tolist',\n",
       " 'topk',\n",
       " 'trace',\n",
       " 'transpose',\n",
       " 'transpose_',\n",
       " 'triangular_solve',\n",
       " 'tril',\n",
       " 'tril_',\n",
       " 'triu',\n",
       " 'triu_',\n",
       " 'true_divide',\n",
       " 'true_divide_',\n",
       " 'trunc',\n",
       " 'trunc_',\n",
       " 'type',\n",
       " 'type_as',\n",
       " 'unbind',\n",
       " 'unflatten',\n",
       " 'unfold',\n",
       " 'uniform_',\n",
       " 'unique',\n",
       " 'unique_consecutive',\n",
       " 'unsafe_chunk',\n",
       " 'unsafe_split',\n",
       " 'unsafe_split_with_sizes',\n",
       " 'unsqueeze',\n",
       " 'unsqueeze_',\n",
       " 'untyped_storage',\n",
       " 'values',\n",
       " 'var',\n",
       " 'vdot',\n",
       " 'view',\n",
       " 'view_as',\n",
       " 'vsplit',\n",
       " 'where',\n",
       " 'xlogy',\n",
       " 'xlogy_',\n",
       " 'xpu',\n",
       " 'zero_']"
      ]
     },
     "execution_count": 13,
     "metadata": {},
     "output_type": "execute_result"
    }
   ],
   "source": [
    "\n",
    "\n",
    "# Check out what's inside the training dataloader\n",
    "train_features_batch, train_labels_batch = next(iter(train_dataloader))\n",
    "train_features_batch.shape, train_labels_batch.shape\n",
    "\n",
    "len(train_features_batch)\n",
    "len(train_labels_batch)\n",
    "dir(train_features_batch)\n",
    "\n"
   ]
  },
  {
   "cell_type": "code",
   "execution_count": 14,
   "id": "4a82ca2a",
   "metadata": {
    "execution": {
     "iopub.execute_input": "2025-06-23T18:32:31.398247Z",
     "iopub.status.busy": "2025-06-23T18:32:31.397542Z",
     "iopub.status.idle": "2025-06-23T18:32:31.495854Z",
     "shell.execute_reply": "2025-06-23T18:32:31.494830Z"
    },
    "papermill": {
     "duration": 0.10988,
     "end_time": "2025-06-23T18:32:31.497350",
     "exception": false,
     "start_time": "2025-06-23T18:32:31.387470",
     "status": "completed"
    },
    "tags": []
   },
   "outputs": [
    {
     "name": "stdout",
     "output_type": "stream",
     "text": [
      "Image size: torch.Size([1, 28, 28])\n",
      "Label: 6, label size: torch.Size([])\n"
     ]
    },
    {
     "data": {
      "image/png": "[encoded data removed]",
      "text/plain": [
       "<Figure size 640x480 with 1 Axes>"
      ]
     },
     "metadata": {},
     "output_type": "display_data"
    }
   ],
   "source": [
    "# Show a sample\n",
    "torch.manual_seed(42)\n",
    "random_idx = torch.randint(0, len(train_features_batch), size=[1]).item()\n",
    "img, label = train_features_batch[random_idx], train_labels_batch[random_idx]\n",
    "plt.imshow(img.squeeze(), cmap=\"gray\")\n",
    "plt.title(class_name[label])\n",
    "plt.axis(\"Off\");\n",
    "print(f\"Image size: {img.shape}\")\n",
    "print(f\"Label: {label}, label size: {label.shape}\")"
   ]
  },
  {
   "cell_type": "markdown",
   "id": "d9d40ff4",
   "metadata": {
    "papermill": {
     "duration": 0.009114,
     "end_time": "2025-06-23T18:32:31.516439",
     "exception": false,
     "start_time": "2025-06-23T18:32:31.507325",
     "status": "completed"
    },
    "tags": []
   },
   "source": [
    "Create a Baseline model just 2 layer"
   ]
  },
  {
   "cell_type": "code",
   "execution_count": 15,
   "id": "d93d1d48",
   "metadata": {
    "execution": {
     "iopub.execute_input": "2025-06-23T18:32:31.536819Z",
     "iopub.status.busy": "2025-06-23T18:32:31.536516Z",
     "iopub.status.idle": "2025-06-23T18:32:31.543029Z",
     "shell.execute_reply": "2025-06-23T18:32:31.541772Z"
    },
    "papermill": {
     "duration": 0.018479,
     "end_time": "2025-06-23T18:32:31.544494",
     "exception": false,
     "start_time": "2025-06-23T18:32:31.526015",
     "status": "completed"
    },
    "tags": []
   },
   "outputs": [
    {
     "name": "stdout",
     "output_type": "stream",
     "text": [
      "Shape before flattening: torch.Size([1, 28, 28]) -> [color_channels, height, width]\n",
      "Shape after flattening: torch.Size([1, 784]) -> [color_channels, height*width]\n"
     ]
    }
   ],
   "source": [
    "flatten_model=nn.Flatten()\n",
    "\n",
    "x=train_features_batch[0]\n",
    "\n",
    "output=flatten_model(x)\n",
    "\n",
    "x.shape, output.shape\n",
    "\n",
    "print(f\"Shape before flattening: {x.shape} -> [color_channels, height, width]\")\n",
    "print(f\"Shape after flattening: {output.shape} -> [color_channels, height*width]\")\n"
   ]
  },
  {
   "cell_type": "code",
   "execution_count": 16,
   "id": "1de350f5",
   "metadata": {
    "execution": {
     "iopub.execute_input": "2025-06-23T18:32:31.564793Z",
     "iopub.status.busy": "2025-06-23T18:32:31.564486Z",
     "iopub.status.idle": "2025-06-23T18:32:31.569931Z",
     "shell.execute_reply": "2025-06-23T18:32:31.569177Z"
    },
    "papermill": {
     "duration": 0.017421,
     "end_time": "2025-06-23T18:32:31.571455",
     "exception": false,
     "start_time": "2025-06-23T18:32:31.554034",
     "status": "completed"
    },
    "tags": []
   },
   "outputs": [],
   "source": [
    "from torch import nn\n",
    "\n",
    "class FashionV0(nn.Module):\n",
    "    def __init__(self, input_shape: int, hidden_units: int, output_shape: int):\n",
    "        super().__init__()\n",
    "        self.layer_stack = nn.Sequential(\n",
    "            nn.Flatten(), # neural networks like their inputs in vector form\n",
    "            nn.Linear(in_features=input_shape, out_features=hidden_units), # in_features = number of features in a data sample (784 pixels)\n",
    "            nn.Linear(in_features=hidden_units, out_features=output_shape)\n",
    "        )\n",
    "    \n",
    "    def forward(self, x):\n",
    "        return self.layer_stack(x)"
   ]
  },
  {
   "cell_type": "code",
   "execution_count": 17,
   "id": "447262d2",
   "metadata": {
    "execution": {
     "iopub.execute_input": "2025-06-23T18:32:31.593636Z",
     "iopub.status.busy": "2025-06-23T18:32:31.593284Z",
     "iopub.status.idle": "2025-06-23T18:32:31.604831Z",
     "shell.execute_reply": "2025-06-23T18:32:31.603868Z"
    },
    "papermill": {
     "duration": 0.024465,
     "end_time": "2025-06-23T18:32:31.606482",
     "exception": false,
     "start_time": "2025-06-23T18:32:31.582017",
     "status": "completed"
    },
    "tags": []
   },
   "outputs": [
    {
     "data": {
      "text/plain": [
       "FashionV0(\n",
       "  (layer_stack): Sequential(\n",
       "    (0): Flatten(start_dim=1, end_dim=-1)\n",
       "    (1): Linear(in_features=784, out_features=10, bias=True)\n",
       "    (2): Linear(in_features=10, out_features=10, bias=True)\n",
       "  )\n",
       ")"
      ]
     },
     "execution_count": 17,
     "metadata": {},
     "output_type": "execute_result"
    }
   ],
   "source": [
    "torch.manual_seed(42)\n",
    "model_0 = FashionV0(input_shape=784, # one for every pixel (28x28)\n",
    "    hidden_units=10, # how many units in the hidden layer\n",
    "    output_shape=len(class_name) # one for every class\n",
    ")\n",
    "model_0.to(\"cpu\")\n"
   ]
  },
  {
   "cell_type": "markdown",
   "id": "62a6ca51",
   "metadata": {
    "papermill": {
     "duration": 0.009428,
     "end_time": "2025-06-23T18:32:31.625678",
     "exception": false,
     "start_time": "2025-06-23T18:32:31.616250",
     "status": "completed"
    },
    "tags": []
   },
   "source": [
    "SetUp Loss function"
   ]
  },
  {
   "cell_type": "markdown",
   "id": "40b2e5b8",
   "metadata": {
    "papermill": {
     "duration": 0.00942,
     "end_time": "2025-06-23T18:32:31.644940",
     "exception": false,
     "start_time": "2025-06-23T18:32:31.635520",
     "status": "completed"
    },
    "tags": []
   },
   "source": [
    "Add a helper function"
   ]
  },
  {
   "cell_type": "code",
   "execution_count": 18,
   "id": "8826e7ab",
   "metadata": {
    "execution": {
     "iopub.execute_input": "2025-06-23T18:32:31.665275Z",
     "iopub.status.busy": "2025-06-23T18:32:31.664933Z",
     "iopub.status.idle": "2025-06-23T18:32:32.004514Z",
     "shell.execute_reply": "2025-06-23T18:32:32.003560Z"
    },
    "papermill": {
     "duration": 0.351783,
     "end_time": "2025-06-23T18:32:32.006227",
     "exception": false,
     "start_time": "2025-06-23T18:32:31.654444",
     "status": "completed"
    },
    "tags": []
   },
   "outputs": [
    {
     "name": "stdout",
     "output_type": "stream",
     "text": [
      "Downloading helper_functions.py\n"
     ]
    }
   ],
   "source": [
    "import requests\n",
    "from pathlib import Path \n",
    "\n",
    "# Download helper functions from Learn PyTorch repo (if not already downloaded)\n",
    "if Path(\"helper_functions.py\").is_file():\n",
    "  print(\"helper_functions.py already exists, skipping download\")\n",
    "else:\n",
    "  print(\"Downloading helper_functions.py\")\n",
    "  # Note: you need the \"raw\" GitHub URL for this to work\n",
    "  request = requests.get(\"https://raw.githubusercontent.com/mrdbourke/pytorch-deep-learning/main/helper_functions.py\")\n",
    "  with open(\"helper_functions.py\", \"wb\") as f:\n",
    "    f.write(request.content)"
   ]
  },
  {
   "cell_type": "code",
   "execution_count": 19,
   "id": "6e087c6a",
   "metadata": {
    "execution": {
     "iopub.execute_input": "2025-06-23T18:32:32.027383Z",
     "iopub.status.busy": "2025-06-23T18:32:32.027009Z",
     "iopub.status.idle": "2025-06-23T18:32:32.039014Z",
     "shell.execute_reply": "2025-06-23T18:32:32.038066Z"
    },
    "papermill": {
     "duration": 0.024703,
     "end_time": "2025-06-23T18:32:32.040872",
     "exception": false,
     "start_time": "2025-06-23T18:32:32.016169",
     "status": "completed"
    },
    "tags": []
   },
   "outputs": [],
   "source": [
    "# Import accuracy metric\n",
    "from helper_functions import accuracy_fn # Note: could also use torchmetrics.Accuracy(task = 'multiclass', num_classes=len(class_names)).to(device)\n",
    "\n",
    "# Setup loss function and optimizer\n",
    "loss_fn = nn.CrossEntropyLoss() # this is also called \"criterion\"/\"cost function\" in some places\n",
    "optimizer = torch.optim.SGD(params=model_0.parameters(), lr=0.1)"
   ]
  },
  {
   "cell_type": "code",
   "execution_count": null,
   "id": "8a01da56",
   "metadata": {
    "papermill": {
     "duration": 0.011247,
     "end_time": "2025-06-23T18:32:32.062183",
     "exception": false,
     "start_time": "2025-06-23T18:32:32.050936",
     "status": "completed"
    },
    "tags": []
   },
   "outputs": [],
   "source": []
  },
  {
   "cell_type": "code",
   "execution_count": null,
   "id": "31156af2",
   "metadata": {
    "papermill": {
     "duration": 0.010015,
     "end_time": "2025-06-23T18:32:32.082015",
     "exception": false,
     "start_time": "2025-06-23T18:32:32.072000",
     "status": "completed"
    },
    "tags": []
   },
   "outputs": [],
   "source": []
  },
  {
   "cell_type": "code",
   "execution_count": null,
   "id": "9c48f836",
   "metadata": {
    "papermill": {
     "duration": 0.009396,
     "end_time": "2025-06-23T18:32:32.101110",
     "exception": false,
     "start_time": "2025-06-23T18:32:32.091714",
     "status": "completed"
    },
    "tags": []
   },
   "outputs": [],
   "source": []
  },
  {
   "cell_type": "code",
   "execution_count": null,
   "id": "22d2b87b",
   "metadata": {
    "papermill": {
     "duration": 0.009467,
     "end_time": "2025-06-23T18:32:32.120277",
     "exception": false,
     "start_time": "2025-06-23T18:32:32.110810",
     "status": "completed"
    },
    "tags": []
   },
   "outputs": [],
   "source": []
  },
  {
   "cell_type": "code",
   "execution_count": null,
   "id": "da89a063",
   "metadata": {
    "papermill": {
     "duration": 0.01368,
     "end_time": "2025-06-23T18:32:32.145559",
     "exception": false,
     "start_time": "2025-06-23T18:32:32.131879",
     "status": "completed"
    },
    "tags": []
   },
   "outputs": [],
   "source": []
  },
  {
   "cell_type": "code",
   "execution_count": null,
   "id": "55ecb1f4",
   "metadata": {
    "papermill": {
     "duration": 0.018256,
     "end_time": "2025-06-23T18:32:32.174519",
     "exception": false,
     "start_time": "2025-06-23T18:32:32.156263",
     "status": "completed"
    },
    "tags": []
   },
   "outputs": [],
   "source": []
  },
  {
   "cell_type": "code",
   "execution_count": null,
   "id": "e091a78c",
   "metadata": {
    "papermill": {
     "duration": 0.010968,
     "end_time": "2025-06-23T18:32:32.199506",
     "exception": false,
     "start_time": "2025-06-23T18:32:32.188538",
     "status": "completed"
    },
    "tags": []
   },
   "outputs": [],
   "source": []
  }
 ],
 "metadata": {
  "kaggle": {
   "accelerator": "none",
   "dataSources": [],
   "dockerImageVersionId": 31040,
   "isGpuEnabled": false,
   "isInternetEnabled": true,
   "language": "python",
   "sourceType": "notebook"
  },
  "kernelspec": {
   "display_name": "Python 3",
   "language": "python",
   "name": "python3"
  },
  "language_info": {
   "codemirror_mode": {
    "name": "ipython",
    "version": 3
   },
   "file_extension": ".py",
   "mimetype": "text/x-python",
   "name": "python",
   "nbconvert_exporter": "python",
   "pygments_lexer": "ipython3",
   "version": "3.11.11"
  },
  "papermill": {
   "default_parameters": {},
   "duration": 30.14129,
   "end_time": "2025-06-23T18:32:34.848213",
   "environment_variables": {},
   "exception": null,
   "input_path": "__notebook__.ipynb",
   "output_path": "__notebook__.ipynb",
   "parameters": {},
   "start_time": "2025-06-23T18:32:04.706923",
   "version": "2.6.0"
  }
 },
 "nbformat": 4,
 "nbformat_minor": 5
}
