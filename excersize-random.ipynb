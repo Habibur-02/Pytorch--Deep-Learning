{
 "cells": [
  {
   "cell_type": "code",
   "execution_count": 1,
   "id": "3213f165",
   "metadata": {
    "_cell_guid": "b1076dfc-b9ad-4769-8c92-a6c4dae69d19",
    "_uuid": "8f2839f25d086af736a60e9eeb907d3b93b6e0e5",
    "execution": {
     "iopub.execute_input": "2025-09-06T17:17:17.006918Z",
     "iopub.status.busy": "2025-09-06T17:17:17.006599Z",
     "iopub.status.idle": "2025-09-06T17:17:18.819913Z",
     "shell.execute_reply": "2025-09-06T17:17:18.818932Z"
    },
    "papermill": {
     "duration": 1.81827,
     "end_time": "2025-09-06T17:17:18.821500",
     "exception": false,
     "start_time": "2025-09-06T17:17:17.003230",
     "status": "completed"
    },
    "tags": []
   },
   "outputs": [],
   "source": [
    "# This Python 3 environment comes with many helpful analytics libraries installed\n",
    "# It is defined by the kaggle/python Docker image: https://github.com/kaggle/docker-python\n",
    "# For example, here's several helpful packages to load\n",
    "\n",
    "import numpy as np # linear algebra\n",
    "import pandas as pd # data processing, CSV file I/O (e.g. pd.read_csv)\n",
    "\n",
    "# Input data files are available in the read-only \"../input/\" directory\n",
    "# For example, running this (by clicking run or pressing Shift+Enter) will list all files under the input directory\n",
    "\n",
    "import os\n",
    "for dirname, _, filenames in os.walk('/kaggle/input'):\n",
    "    for filename in filenames:\n",
    "        print(os.path.join(dirname, filename))\n",
    "\n",
    "# You can write up to 20GB to the current directory (/kaggle/working/) that gets preserved as output when you create a version using \"Save & Run All\" \n",
    "# You can also write temporary files to /kaggle/temp/, but they won't be saved outside of the current session"
   ]
  },
  {
   "cell_type": "code",
   "execution_count": 2,
   "id": "dd02c525",
   "metadata": {
    "execution": {
     "iopub.execute_input": "2025-09-06T17:17:18.826513Z",
     "iopub.status.busy": "2025-09-06T17:17:18.826098Z",
     "iopub.status.idle": "2025-09-06T17:17:25.445255Z",
     "shell.execute_reply": "2025-09-06T17:17:25.444166Z"
    },
    "papermill": {
     "duration": 6.623628,
     "end_time": "2025-09-06T17:17:25.447150",
     "exception": false,
     "start_time": "2025-09-06T17:17:18.823522",
     "status": "completed"
    },
    "tags": []
   },
   "outputs": [],
   "source": [
    "import pandas as pd\n",
    "import torch\n",
    "import torch.nn as nn\n",
    "import torch.optim as optim\n",
    "from torch.utils.data import DataLoader, TensorDataset\n",
    "from sklearn.model_selection import KFold\n",
    "\n",
    "from sklearn.preprocessing import StandardScaler"
   ]
  },
  {
   "cell_type": "code",
   "execution_count": 3,
   "id": "01f4367b",
   "metadata": {
    "execution": {
     "iopub.execute_input": "2025-09-06T17:17:25.451990Z",
     "iopub.status.busy": "2025-09-06T17:17:25.451526Z",
     "iopub.status.idle": "2025-09-06T17:17:25.456006Z",
     "shell.execute_reply": "2025-09-06T17:17:25.455082Z"
    },
    "papermill": {
     "duration": 0.008371,
     "end_time": "2025-09-06T17:17:25.457393",
     "exception": false,
     "start_time": "2025-09-06T17:17:25.449022",
     "status": "completed"
    },
    "tags": []
   },
   "outputs": [],
   "source": [
    "from scipy.stats import zscore"
   ]
  }
 ],
 "metadata": {
  "kaggle": {
   "accelerator": "none",
   "dataSources": [],
   "dockerImageVersionId": 31089,
   "isGpuEnabled": false,
   "isInternetEnabled": true,
   "language": "python",
   "sourceType": "notebook"
  },
  "kernelspec": {
   "display_name": "Python 3",
   "language": "python",
   "name": "python3"
  },
  "language_info": {
   "codemirror_mode": {
    "name": "ipython",
    "version": 3
   },
   "file_extension": ".py",
   "mimetype": "text/x-python",
   "name": "python",
   "nbconvert_exporter": "python",
   "pygments_lexer": "ipython3",
   "version": "3.11.13"
  },
  "papermill": {
   "default_parameters": {},
   "duration": 16.638987,
   "end_time": "2025-09-06T17:17:28.110468",
   "environment_variables": {},
   "exception": null,
   "input_path": "__notebook__.ipynb",
   "output_path": "__notebook__.ipynb",
   "parameters": {},
   "start_time": "2025-09-06T17:17:11.471481",
   "version": "2.6.0"
  }
 },
 "nbformat": 4,
 "nbformat_minor": 5
}
